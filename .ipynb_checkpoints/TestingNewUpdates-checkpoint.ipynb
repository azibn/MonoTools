{
 "cells": [
  {
   "cell_type": "code",
   "execution_count": 1,
   "metadata": {},
   "outputs": [
    {
     "name": "stdout",
     "output_type": "stream",
     "text": [
      "Created TAP+ (v1.2.1) - Connection:\n",
      "\tHost: gea.esac.esa.int\n",
      "\tUse HTTPS: True\n",
      "\tPort: 443\n",
      "\tSSL Port: 443\n",
      "Created TAP+ (v1.2.1) - Connection:\n",
      "\tHost: geadata.esac.esa.int\n",
      "\tUse HTTPS: True\n",
      "\tPort: 443\n",
      "\tSSL Port: 443\n"
     ]
    }
   ],
   "source": [
    "import NamastePymc3 as namaste\n",
    "from stellar import starpars\n",
    "import MonoSearch\n",
    "import numpy as np\n",
    "import pandas as pd\n",
    "\n",
    "import matplotlib.pyplot as plt\n",
    "%matplotlib inline\n",
    "\n",
    "%load_ext autoreload\n",
    "%autoreload 2\n"
   ]
  },
  {
   "cell_type": "code",
   "execution_count": 2,
   "metadata": {},
   "outputs": [],
   "source": [
    "df=pd.read_csv(\"/Users/hosborn/Postdoc/Monotransit Search/Master_AllMonos.csv\")"
   ]
  },
  {
   "cell_type": "code",
   "execution_count": 3,
   "metadata": {},
   "outputs": [
    {
     "data": {
      "text/plain": [
       "Unnamed: 0                           3037\n",
       "dec                                   NaN\n",
       "dur                               1.73669\n",
       "file          All_OsbornMarttiK2Monos.csv\n",
       "id                            2.15067e+08\n",
       "mission                                K2\n",
       "ra                                    NaN\n",
       "tcen                              2493.81\n",
       "Name: 3029, dtype: object"
      ]
     },
     "execution_count": 3,
     "metadata": {},
     "output_type": "execute_result"
    }
   ],
   "source": [
    "n=3029\n",
    "ID=int(df.loc[n,'id'])\n",
    "mission='K2'\n",
    "tcen=df.loc[n,'tcen']\n",
    "tdur=df.loc[n,'dur']\n",
    "\n",
    "hdr=df.loc[n]\n",
    "hdr"
   ]
  },
  {
   "cell_type": "code",
   "execution_count": 4,
   "metadata": {},
   "outputs": [],
   "source": [
    "savenames=namaste.GetSavename(ID, mission, how='save')"
   ]
  },
  {
   "cell_type": "code",
   "execution_count": 5,
   "metadata": {},
   "outputs": [
    {
     "data": {
      "text/plain": [
       "215067200"
      ]
     },
     "execution_count": 5,
     "metadata": {},
     "output_type": "execute_result"
    }
   ],
   "source": [
    "ID"
   ]
  },
  {
   "cell_type": "code",
   "execution_count": 6,
   "metadata": {},
   "outputs": [
    {
     "name": "stdout",
     "output_type": "stream",
     "text": [
      "0.8366033108522377 0.02729 <err | rho> 0.03262\n",
      "Density errors.  isoclassify: 100 , input cat: 0.8366033108522377\n"
     ]
    }
   ],
   "source": [
    "Rstar, rhostar, Teff, logg, src = starpars.getStellarInfo(ID, hdr, mission, overwrite=True,\n",
    "                                                          fileloc=savenames[1].replace('_mcmc.pickle','_starpars.csv'),\n",
    "                                                          savedf=False,use_surveys=False)"
   ]
  },
  {
   "cell_type": "code",
   "execution_count": 7,
   "metadata": {},
   "outputs": [
    {
     "data": {
      "text/plain": [
       "(array([4.326, 0.517, 0.517]),\n",
       " array([0.02311836, 0.01934089, 0.01934089]),\n",
       " array([9210., 1498., 1498.]),\n",
       " array([3.606, 0.182, 0.182]))"
      ]
     },
     "execution_count": 7,
     "metadata": {},
     "output_type": "execute_result"
    }
   ],
   "source": [
    "Rstar, rhostar, Teff, logg,"
   ]
  },
  {
   "cell_type": "code",
   "execution_count": 8,
   "metadata": {},
   "outputs": [
    {
     "data": {
      "text/plain": [
       "['/Users/hosborn/Postdoc/NamastePymc3/EPIC00215067200/EPIC00215067200_2020-01-30_0_mcmc.pickle',\n",
       " '/Users/hosborn/Postdoc/NamastePymc3/EPIC00215067200/EPIC00215067200_mcmc.pickle']"
      ]
     },
     "execution_count": 8,
     "metadata": {},
     "output_type": "execute_result"
    }
   ],
   "source": [
    "savenames"
   ]
  },
  {
   "cell_type": "code",
   "execution_count": 9,
   "metadata": {},
   "outputs": [
    {
     "name": "stdout",
     "output_type": "stream",
     "text": [
      "https://heasarc.gsfc.nasa.gov/cgi-bin/tess/webtess/wtv.py?Entry=155157963\n",
      "{1: False, 2: False, 3: False, 4: False, 5: False, 6: False, 7: False, 8: False, 9: False, 10: False, 11: False, 12: False, 13: False, 14: False, 15: False, 16: False, 17: False, 18: False, 19: False, 20: False, 21: False, 22: False, 23: False, 24: False, 25: False, 26: False, 27: False, 28: False, 29: False, 30: False, 31: False, 32: False, 33: False, 34: False, 35: False, 36: False, 37: False, 38: False, 39: False}\n",
      "K2 campaigns to search: 7.0\n",
      "INFO  [everest.user.DownloadFile()]: Found cached file.\n",
      "INFO  [everest.user.load_fits()]: Loading FITS file for 215067200.\n",
      "[       0    16384   524288  1048576  4194304  4196352  4202496  4204544\n",
      "  4218880  4227072  4235264  4751360  5242880  5251072  5275648  5283840\n",
      "  5283872 12681216 16777216 17825792]\n",
      "6 points before quality flags\n",
      "EVEREST file with  24.087462841250343  max quality\n",
      "909 points after quality flags\n",
      "909 points before CutAnomDiff\n",
      "1373 after before CutAnomDiff\n",
      "0 2670 3950\n",
      "0 3950 3944\n",
      "0 3950 3944\n",
      "0 3950 3944\n",
      "0 3950 3944\n",
      "0 3950 3944\n",
      "0 3950 3944\n",
      "0 3950 3944\n",
      "0 3950 3944\n",
      "0 3950 3944\n",
      "1373 points masked in lc of 4043\n"
     ]
    }
   ],
   "source": [
    "lc,hdr = namaste.openLightCurve(ID,mission=mission,use_ppt=False)"
   ]
  },
  {
   "cell_type": "code",
   "execution_count": 10,
   "metadata": {},
   "outputs": [],
   "source": [
    "lc['mask']=lc['mask']|(abs(lc['time']-tcen)<0.6*tdur)"
   ]
  },
  {
   "cell_type": "code",
   "execution_count": 11,
   "metadata": {},
   "outputs": [
    {
     "name": "stdout",
     "output_type": "stream",
     "text": [
      "DEBUG [matplotlib.colorbar._get_ticker_locator_formatter()]: locator: <matplotlib.colorbar._ColorbarAutoLocator object at 0x1331d3c18>\n",
      "DEBUG [matplotlib.colorbar.update_ticks()]: Using auto colorbar locator on colorbar\n",
      "DEBUG [matplotlib.colorbar.update_ticks()]: locator: <matplotlib.colorbar._ColorbarAutoLocator object at 0x1331d3c18>\n",
      "DEBUG [matplotlib.colorbar._add_solids()]: Setting pcolormesh\n"
     ]
    },
    {
     "data": {
      "text/plain": [
       "(-0.2, 0.008)"
      ]
     },
     "execution_count": 11,
     "metadata": {},
     "output_type": "execute_result"
    },
    {
     "name": "stdout",
     "output_type": "stream",
     "text": [
      "DEBUG [matplotlib.font_manager._findfont_cached()]: findfont: Matching :family=sans-serif:style=normal:variant=normal:weight=normal:stretch=normal:size=10.0.\n",
      "DEBUG [matplotlib.font_manager._findfont_cached()]: findfont: score(<Font 'DejaVu Sans Mono' (DejaVuSansMono.ttf) normal normal 400 normal>) = 10.05\n",
      "DEBUG [matplotlib.font_manager._findfont_cached()]: findfont: score(<Font 'DejaVu Sans' (DejaVuSans-Bold.ttf) normal normal bold normal>) = 0.33499999999999996\n",
      "DEBUG [matplotlib.font_manager._findfont_cached()]: findfont: score(<Font 'cmr10' (cmr10.ttf) normal normal 400 normal>) = 10.05\n",
      "DEBUG [matplotlib.font_manager._findfont_cached()]: findfont: score(<Font 'STIXNonUnicode' (STIXNonUniBol.ttf) normal normal bold normal>) = 10.335\n",
      "DEBUG [matplotlib.font_manager._findfont_cached()]: findfont: score(<Font 'STIXGeneral' (STIXGeneralItalic.ttf) italic normal 400 normal>) = 11.05\n",
      "DEBUG [matplotlib.font_manager._findfont_cached()]: findfont: score(<Font 'STIXGeneral' (STIXGeneral.ttf) normal normal regular normal>) = 10.05\n",
      "DEBUG [matplotlib.font_manager._findfont_cached()]: findfont: score(<Font 'DejaVu Sans' (DejaVuSans-BoldOblique.ttf) oblique normal bold normal>) = 1.335\n",
      "DEBUG [matplotlib.font_manager._findfont_cached()]: findfont: score(<Font 'cmss10' (cmss10.ttf) normal normal 400 normal>) = 10.05\n",
      "DEBUG [matplotlib.font_manager._findfont_cached()]: findfont: score(<Font 'STIXSizeFourSym' (STIXSizFourSymReg.ttf) normal normal regular normal>) = 10.05\n",
      "DEBUG [matplotlib.font_manager._findfont_cached()]: findfont: score(<Font 'DejaVu Sans Mono' (DejaVuSansMono-Bold.ttf) normal normal bold normal>) = 10.335\n",
      "DEBUG [matplotlib.font_manager._findfont_cached()]: findfont: score(<Font 'DejaVu Sans' (DejaVuSans-Oblique.ttf) oblique normal 400 normal>) = 1.05\n",
      "DEBUG [matplotlib.font_manager._findfont_cached()]: findfont: score(<Font 'STIXSizeOneSym' (STIXSizOneSymReg.ttf) normal normal regular normal>) = 10.05\n",
      "DEBUG [matplotlib.font_manager._findfont_cached()]: findfont: score(<Font 'STIXSizeOneSym' (STIXSizOneSymBol.ttf) normal normal bold normal>) = 10.335\n",
      "DEBUG [matplotlib.font_manager._findfont_cached()]: findfont: score(<Font 'STIXSizeTwoSym' (STIXSizTwoSymReg.ttf) normal normal regular normal>) = 10.05\n",
      "DEBUG [matplotlib.font_manager._findfont_cached()]: findfont: score(<Font 'STIXSizeFiveSym' (STIXSizFiveSymReg.ttf) normal normal regular normal>) = 10.05\n",
      "DEBUG [matplotlib.font_manager._findfont_cached()]: findfont: score(<Font 'DejaVu Sans' (DejaVuSans.ttf) normal normal 400 normal>) = 0.05\n",
      "DEBUG [matplotlib.font_manager._findfont_cached()]: findfont: score(<Font 'STIXNonUnicode' (STIXNonUniBolIta.ttf) italic normal bold normal>) = 11.335\n",
      "DEBUG [matplotlib.font_manager._findfont_cached()]: findfont: score(<Font 'DejaVu Serif' (DejaVuSerif-Italic.ttf) italic normal 400 normal>) = 11.05\n",
      "DEBUG [matplotlib.font_manager._findfont_cached()]: findfont: score(<Font 'STIXGeneral' (STIXGeneralBol.ttf) normal normal bold normal>) = 10.335\n",
      "DEBUG [matplotlib.font_manager._findfont_cached()]: findfont: score(<Font 'cmex10' (cmex10.ttf) normal normal 400 normal>) = 10.05\n",
      "DEBUG [matplotlib.font_manager._findfont_cached()]: findfont: score(<Font 'STIXGeneral' (STIXGeneralBolIta.ttf) italic normal bold normal>) = 11.335\n",
      "DEBUG [matplotlib.font_manager._findfont_cached()]: findfont: score(<Font 'DejaVu Serif' (DejaVuSerif-BoldItalic.ttf) italic normal bold normal>) = 11.335\n",
      "DEBUG [matplotlib.font_manager._findfont_cached()]: findfont: score(<Font 'DejaVu Serif' (DejaVuSerif.ttf) normal normal 400 normal>) = 10.05\n",
      "DEBUG [matplotlib.font_manager._findfont_cached()]: findfont: score(<Font 'STIXNonUnicode' (STIXNonUni.ttf) normal normal regular normal>) = 10.05\n",
      "DEBUG [matplotlib.font_manager._findfont_cached()]: findfont: score(<Font 'STIXSizeThreeSym' (STIXSizThreeSymReg.ttf) normal normal regular normal>) = 10.05\n",
      "DEBUG [matplotlib.font_manager._findfont_cached()]: findfont: score(<Font 'STIXSizeThreeSym' (STIXSizThreeSymBol.ttf) normal normal bold normal>) = 10.335\n",
      "DEBUG [matplotlib.font_manager._findfont_cached()]: findfont: score(<Font 'cmb10' (cmb10.ttf) normal normal 400 normal>) = 10.05\n",
      "DEBUG [matplotlib.font_manager._findfont_cached()]: findfont: score(<Font 'DejaVu Sans Mono' (DejaVuSansMono-Oblique.ttf) oblique normal 400 normal>) = 11.05\n",
      "DEBUG [matplotlib.font_manager._findfont_cached()]: findfont: score(<Font 'STIXNonUnicode' (STIXNonUniIta.ttf) italic normal 400 normal>) = 11.05\n",
      "DEBUG [matplotlib.font_manager._findfont_cached()]: findfont: score(<Font 'DejaVu Serif Display' (DejaVuSerifDisplay.ttf) normal normal 400 normal>) = 10.05\n",
      "DEBUG [matplotlib.font_manager._findfont_cached()]: findfont: score(<Font 'cmsy10' (cmsy10.ttf) normal normal 400 normal>) = 10.05\n",
      "DEBUG [matplotlib.font_manager._findfont_cached()]: findfont: score(<Font 'DejaVu Sans Display' (DejaVuSansDisplay.ttf) normal normal 400 normal>) = 10.05\n",
      "DEBUG [matplotlib.font_manager._findfont_cached()]: findfont: score(<Font 'DejaVu Serif' (DejaVuSerif-Bold.ttf) normal normal bold normal>) = 10.335\n",
      "DEBUG [matplotlib.font_manager._findfont_cached()]: findfont: score(<Font 'cmmi10' (cmmi10.ttf) normal normal 400 normal>) = 10.05\n",
      "DEBUG [matplotlib.font_manager._findfont_cached()]: findfont: score(<Font 'DejaVu Sans Mono' (DejaVuSansMono-BoldOblique.ttf) oblique normal bold normal>) = 11.335\n",
      "DEBUG [matplotlib.font_manager._findfont_cached()]: findfont: score(<Font 'STIXSizeTwoSym' (STIXSizTwoSymBol.ttf) normal normal bold normal>) = 10.335\n",
      "DEBUG [matplotlib.font_manager._findfont_cached()]: findfont: score(<Font 'cmtt10' (cmtt10.ttf) normal normal 400 normal>) = 10.05\n",
      "DEBUG [matplotlib.font_manager._findfont_cached()]: findfont: score(<Font 'STIXSizeFourSym' (STIXSizFourSymBol.ttf) normal normal bold normal>) = 10.335\n",
      "DEBUG [matplotlib.font_manager._findfont_cached()]: findfont: score(<Font 'STIXGeneral' (STIXGeneralItalic.otf) italic normal 400 normal>) = 11.05\n",
      "DEBUG [matplotlib.font_manager._findfont_cached()]: findfont: score(<Font 'Menlo' (Menlo.ttc) normal normal regular normal>) = 10.05\n",
      "DEBUG [matplotlib.font_manager._findfont_cached()]: findfont: score(<Font 'Noto Sans Egyptian Hieroglyphs' (NotoSansEgyptianHieroglyphs-Regular.ttf) normal normal regular normal>) = 10.05\n",
      "DEBUG [matplotlib.font_manager._findfont_cached()]: findfont: score(<Font 'Kohinoor Gujarati' (KohinoorGujarati.ttc) normal normal bold normal>) = 10.335\n",
      "DEBUG [matplotlib.font_manager._findfont_cached()]: findfont: score(<Font 'Noto Sans Linear B' (NotoSansLinearB-Regular.ttf) normal normal regular normal>) = 10.05\n",
      "DEBUG [matplotlib.font_manager._findfont_cached()]: findfont: score(<Font 'Raanana' (Raanana.ttc) normal normal 400 normal>) = 10.05\n",
      "DEBUG [matplotlib.font_manager._findfont_cached()]: findfont: score(<Font 'Sukhumvit Set' (SukhumvitSet.ttc) normal normal 400 normal>) = 10.05\n",
      "DEBUG [matplotlib.font_manager._findfont_cached()]: findfont: score(<Font 'Telugu Sangam MN' (Telugu Sangam MN.ttc) normal normal 400 normal>) = 10.05\n",
      "DEBUG [matplotlib.font_manager._findfont_cached()]: findfont: score(<Font 'Arial' (Arial.ttf) normal normal 400 normal>) = 6.413636363636363\n",
      "DEBUG [matplotlib.font_manager._findfont_cached()]: findfont: score(<Font 'Damascus' (Damascus.ttc) normal normal regular normal>) = 10.05\n",
      "DEBUG [matplotlib.font_manager._findfont_cached()]: findfont: score(<Font 'Farisi' (Farisi.ttf) normal normal regular normal>) = 10.05\n",
      "DEBUG [matplotlib.font_manager._findfont_cached()]: findfont: score(<Font 'Noto Sans Inscriptional Pahlavi' (NotoSansInscriptionalPahlavi-Regular.ttf) normal normal regular normal>) = 10.05\n",
      "DEBUG [matplotlib.font_manager._findfont_cached()]: findfont: score(<Font 'Noto Sans Ogham' (NotoSansOgham-Regular.ttf) normal normal regular normal>) = 10.05\n",
      "DEBUG [matplotlib.font_manager._findfont_cached()]: findfont: score(<Font 'Noto Sans Tagalog' (NotoSansTagalog-Regular.ttf) normal normal regular normal>) = 10.05\n",
      "DEBUG [matplotlib.font_manager._findfont_cached()]: findfont: score(<Font 'Noto Sans Javanese' (NotoSansJavanese-Regular.otf) normal normal regular normal>) = 10.05\n",
      "DEBUG [matplotlib.font_manager._findfont_cached()]: findfont: score(<Font 'Marker Felt' (MarkerFelt.ttc) normal normal 400 normal>) = 10.05\n"
     ]
    },
    {
     "name": "stdout",
     "output_type": "stream",
     "text": [
      "DEBUG [matplotlib.font_manager._findfont_cached()]: findfont: score(<Font 'Hiragino Sans' (ヒラギノ角ゴシック W8.ttc) normal normal 700 normal>) = 10.335\n",
      "DEBUG [matplotlib.font_manager._findfont_cached()]: findfont: score(<Font 'Verdana' (Verdana Italic.ttf) italic normal 400 normal>) = 4.6863636363636365\n",
      "DEBUG [matplotlib.font_manager._findfont_cached()]: findfont: score(<Font 'Noto Sans Lydian' (NotoSansLydian-Regular.ttf) normal normal regular normal>) = 10.05\n",
      "DEBUG [matplotlib.font_manager._findfont_cached()]: findfont: score(<Font 'Times New Roman' (Times New Roman Bold.ttf) normal normal roman normal>) = 10.145\n",
      "DEBUG [matplotlib.font_manager._findfont_cached()]: findfont: score(<Font 'Hiragino Mincho ProN' (ヒラギノ明朝 ProN.ttc) normal normal 400 normal>) = 10.05\n",
      "DEBUG [matplotlib.font_manager._findfont_cached()]: findfont: score(<Font 'Arial Unicode MS' (Arial Unicode.ttf) normal normal 400 normal>) = 10.05\n",
      "DEBUG [matplotlib.font_manager._findfont_cached()]: findfont: score(<Font 'Waseem' (Waseem.ttc) normal normal regular normal>) = 10.05\n",
      "DEBUG [matplotlib.font_manager._findfont_cached()]: findfont: score(<Font '.SF NS Display Condensed' (SFNSDisplayCondensed-Black.otf) normal normal black condensed>) = 10.725\n",
      "DEBUG [matplotlib.font_manager._findfont_cached()]: findfont: score(<Font 'Nadeem' (Nadeem.ttc) normal normal regular normal>) = 10.05\n",
      "DEBUG [matplotlib.font_manager._findfont_cached()]: findfont: score(<Font 'Noto Sans Old Persian' (NotoSansOldPersian-Regular.ttf) normal normal regular normal>) = 10.05\n",
      "DEBUG [matplotlib.font_manager._findfont_cached()]: findfont: score(<Font 'AppleGothic' (AppleGothic.ttf) normal normal regular normal>) = 10.05\n",
      "DEBUG [matplotlib.font_manager._findfont_cached()]: findfont: score(<Font 'Hiragino Sans GB' (Hiragino Sans GB.ttc) normal normal 400 normal>) = 10.05\n",
      "DEBUG [matplotlib.font_manager._findfont_cached()]: findfont: score(<Font 'Kohinoor Bangla' (KohinoorBangla.ttc) normal normal 400 normal>) = 10.05\n",
      "DEBUG [matplotlib.font_manager._findfont_cached()]: findfont: score(<Font 'Kailasa' (Kailasa.ttc) normal normal regular normal>) = 10.05\n",
      "DEBUG [matplotlib.font_manager._findfont_cached()]: findfont: score(<Font 'Sana' (Sana.ttc) normal normal regular normal>) = 10.05\n",
      "DEBUG [matplotlib.font_manager._findfont_cached()]: findfont: score(<Font 'Kannada MN' (Kannada MN.ttc) normal normal 400 normal>) = 10.05\n",
      "DEBUG [matplotlib.font_manager._findfont_cached()]: findfont: score(<Font 'STIXVariants' (STIXVar.otf) normal normal regular normal>) = 10.05\n",
      "DEBUG [matplotlib.font_manager._findfont_cached()]: findfont: score(<Font 'STIXNonUnicode' (STIXNonUniBolIta.otf) italic normal bold normal>) = 11.335\n",
      "DEBUG [matplotlib.font_manager._findfont_cached()]: findfont: score(<Font 'Myanmar Sangam MN' (Myanmar Sangam MN.ttc) normal normal 400 normal>) = 10.05\n",
      "DEBUG [matplotlib.font_manager._findfont_cached()]: findfont: score(<Font 'Hiragino Sans' (ヒラギノ角ゴシック W5.ttc) normal normal 700 normal>) = 10.335\n",
      "DEBUG [matplotlib.font_manager._findfont_cached()]: findfont: score(<Font 'Galvji' (Galvji.ttc) normal normal 400 normal>) = 10.05\n",
      "DEBUG [matplotlib.font_manager._findfont_cached()]: findfont: score(<Font 'Kohinoor Devanagari' (Kohinoor.ttc) normal normal regular normal>) = 10.05\n",
      "DEBUG [matplotlib.font_manager._findfont_cached()]: findfont: score(<Font 'Arial Rounded MT Bold' (Arial Rounded Bold.ttf) normal normal bold normal>) = 10.335\n",
      "DEBUG [matplotlib.font_manager._findfont_cached()]: findfont: score(<Font 'Verdana' (Verdana Bold.ttf) normal normal bold normal>) = 3.9713636363636367\n",
      "DEBUG [matplotlib.font_manager._findfont_cached()]: findfont: score(<Font 'SignPainter' (SignPainter.ttc) normal normal 400 normal>) = 10.05\n",
      "DEBUG [matplotlib.font_manager._findfont_cached()]: findfont: score(<Font 'Chalkduster' (Chalkduster.ttf) normal normal 400 normal>) = 10.05\n",
      "DEBUG [matplotlib.font_manager._findfont_cached()]: findfont: score(<Font 'Noto Sans Mongolian' (NotoSansMongolian-Regular.ttf) normal normal 400 normal>) = 10.05\n",
      "DEBUG [matplotlib.font_manager._findfont_cached()]: findfont: score(<Font 'Apple Symbols' (Apple Symbols.ttf) normal normal 400 normal>) = 10.05\n",
      "DEBUG [matplotlib.font_manager._findfont_cached()]: findfont: score(<Font 'Trattatello' (Trattatello.ttf) normal normal 400 normal>) = 10.05\n",
      "DEBUG [matplotlib.font_manager._findfont_cached()]: findfont: score(<Font 'Beirut' (Beirut.ttc) normal normal regular normal>) = 10.05\n",
      "DEBUG [matplotlib.font_manager._findfont_cached()]: findfont: score(<Font 'STIXGeneral' (STIXGeneral.otf) normal normal regular normal>) = 10.05\n",
      "DEBUG [matplotlib.font_manager._findfont_cached()]: findfont: score(<Font 'Diwan Kufi' (Diwan Kufi.ttc) normal normal regular normal>) = 10.05\n",
      "DEBUG [matplotlib.font_manager._findfont_cached()]: findfont: score(<Font 'PT Mono' (PTMono.ttc) normal normal bold normal>) = 10.335\n",
      "DEBUG [matplotlib.font_manager._findfont_cached()]: findfont: score(<Font 'Wingdings 2' (Wingdings 2.ttf) normal normal 400 normal>) = 10.05\n",
      "DEBUG [matplotlib.font_manager._findfont_cached()]: findfont: score(<Font 'Herculanum' (Herculanum.ttf) normal normal 400 normal>) = 10.05\n",
      "DEBUG [matplotlib.font_manager._findfont_cached()]: findfont: score(<Font 'Noto Sans Myanmar' (NotoSansMyanmar.ttc) normal normal black normal>) = 10.525\n",
      "DEBUG [matplotlib.font_manager._findfont_cached()]: findfont: score(<Font 'Hiragino Sans' (ヒラギノ角ゴシック W6.ttc) normal normal 700 normal>) = 10.335\n",
      "DEBUG [matplotlib.font_manager._findfont_cached()]: findfont: score(<Font 'Al Bayan' (AlBayan.ttc) normal normal 400 normal>) = 10.05\n",
      "DEBUG [matplotlib.font_manager._findfont_cached()]: findfont: score(<Font '.SF NS Text Condensed' (SFNSTextCondensed-Semibold.otf) normal normal semibold condensed>) = 10.44\n",
      "DEBUG [matplotlib.font_manager._findfont_cached()]: findfont: score(<Font 'Noto Sans Batak' (NotoSansBatak-Regular.ttf) normal normal regular normal>) = 10.05\n",
      "DEBUG [matplotlib.font_manager._findfont_cached()]: findfont: score(<Font 'Avenir Next Condensed' (Avenir Next Condensed.ttc) normal normal bold condensed>) = 10.535\n",
      "DEBUG [matplotlib.font_manager._findfont_cached()]: findfont: score(<Font 'Hoefler Text' (Hoefler Text.ttc) normal normal 400 normal>) = 10.05\n",
      "DEBUG [matplotlib.font_manager._findfont_cached()]: findfont: score(<Font 'Symbol' (Symbol.ttf) normal normal 400 normal>) = 10.05\n",
      "DEBUG [matplotlib.font_manager._findfont_cached()]: findfont: score(<Font 'Phosphate' (Phosphate.ttc) normal normal 400 normal>) = 10.05\n",
      "DEBUG [matplotlib.font_manager._findfont_cached()]: findfont: score(<Font 'PT Serif' (PTSerif.ttc) normal normal 400 normal>) = 10.05\n",
      "DEBUG [matplotlib.font_manager._findfont_cached()]: findfont: score(<Font 'Thonburi' (Thonburi.ttc) normal normal 400 normal>) = 10.05\n",
      "DEBUG [matplotlib.font_manager._findfont_cached()]: findfont: score(<Font 'Noto Sans Yi' (NotoSansYi-Regular.ttf) normal normal regular normal>) = 10.05\n",
      "DEBUG [matplotlib.font_manager._findfont_cached()]: findfont: score(<Font 'Georgia' (Georgia Bold Italic.ttf) italic normal bold normal>) = 11.335\n",
      "DEBUG [matplotlib.font_manager._findfont_cached()]: findfont: score(<Font 'Gill Sans' (GillSans.ttc) normal normal 400 normal>) = 10.05\n",
      "DEBUG [matplotlib.font_manager._findfont_cached()]: findfont: score(<Font '.SF NS Display Condensed' (SFNSDisplayCondensed-Semibold.otf) normal normal semibold condensed>) = 10.44\n",
      "DEBUG [matplotlib.font_manager._findfont_cached()]: findfont: score(<Font '.SF NS Text Condensed' (SFNSTextCondensed-Light.otf) normal normal light condensed>) = 10.44\n",
      "DEBUG [matplotlib.font_manager._findfont_cached()]: findfont: score(<Font 'Wingdings' (Wingdings.ttf) normal normal 400 normal>) = 10.05\n",
      "DEBUG [matplotlib.font_manager._findfont_cached()]: findfont: score(<Font 'STIXSizeFiveSym' (STIXSizFiveSymReg.otf) normal normal regular normal>) = 10.05\n",
      "DEBUG [matplotlib.font_manager._findfont_cached()]: findfont: score(<Font 'Noto Sans Tai Tham' (NotoSansTaiTham-Regular.ttf) normal normal 400 normal>) = 10.05\n",
      "DEBUG [matplotlib.font_manager._findfont_cached()]: findfont: score(<Font 'Noto Serif Balinese' (NotoSerifBalinese-Regular.ttf) normal normal regular normal>) = 10.05\n",
      "DEBUG [matplotlib.font_manager._findfont_cached()]: findfont: score(<Font 'Tamil MN' (Tamil MN.ttc) normal normal 400 normal>) = 10.05\n"
     ]
    },
    {
     "name": "stdout",
     "output_type": "stream",
     "text": [
      "DEBUG [matplotlib.font_manager._findfont_cached()]: findfont: score(<Font 'Apple Braille' (Apple Braille Pinpoint 6 Dot.ttf) normal normal 400 normal>) = 10.05\n",
      "DEBUG [matplotlib.font_manager._findfont_cached()]: findfont: score(<Font 'STIXSizeThreeSym' (STIXSizThreeSymBol.otf) normal normal bold normal>) = 10.335\n",
      "DEBUG [matplotlib.font_manager._findfont_cached()]: findfont: score(<Font 'Noto Sans New Tai Lue' (NotoSansNewTaiLue-Regular.ttf) normal normal regular normal>) = 10.05\n",
      "DEBUG [matplotlib.font_manager._findfont_cached()]: findfont: score(<Font 'Noto Sans Oriya' (NotoSansOriya.ttc) normal normal 400 normal>) = 10.05\n",
      "DEBUG [matplotlib.font_manager._findfont_cached()]: findfont: score(<Font 'Times New Roman' (Times New Roman Italic.ttf) italic normal roman normal>) = 11.145\n",
      "DEBUG [matplotlib.font_manager._findfont_cached()]: findfont: score(<Font 'Mukta Mahee' (MuktaMahee.ttc) normal normal regular normal>) = 10.05\n",
      "DEBUG [matplotlib.font_manager._findfont_cached()]: findfont: score(<Font '.SF Compact Text' (SFCompactText.ttf) normal normal 400 normal>) = 10.05\n",
      "DEBUG [matplotlib.font_manager._findfont_cached()]: findfont: score(<Font 'Noto Sans Saurashtra' (NotoSansSaurashtra-Regular.ttf) normal normal regular normal>) = 10.05\n",
      "DEBUG [matplotlib.font_manager._findfont_cached()]: findfont: score(<Font '.SF NS Display Condensed' (SFNSDisplayCondensed-Heavy.otf) normal normal heavy condensed>) = 10.629999999999999\n",
      "DEBUG [matplotlib.font_manager._findfont_cached()]: findfont: score(<Font 'Songti SC' (Songti.ttc) normal normal black normal>) = 10.525\n",
      "DEBUG [matplotlib.font_manager._findfont_cached()]: findfont: score(<Font 'Noto Sans Bamum' (NotoSansBamum-Regular.ttf) normal normal regular normal>) = 10.05\n",
      "DEBUG [matplotlib.font_manager._findfont_cached()]: findfont: score(<Font 'Times' (Times.ttc) normal normal roman normal>) = 10.145\n",
      "DEBUG [matplotlib.font_manager._findfont_cached()]: findfont: score(<Font '.SF NS Display Condensed' (SFNSDisplayCondensed-Thin.otf) normal normal 400 condensed>) = 10.25\n",
      "DEBUG [matplotlib.font_manager._findfont_cached()]: findfont: score(<Font 'Tahoma' (Tahoma Bold.ttf) normal normal bold normal>) = 10.335\n",
      "DEBUG [matplotlib.font_manager._findfont_cached()]: findfont: score(<Font 'Malayalam MN' (Malayalam MN.ttc) normal normal 400 normal>) = 10.05\n",
      "DEBUG [matplotlib.font_manager._findfont_cached()]: findfont: score(<Font 'Georgia' (Georgia.ttf) normal normal 400 normal>) = 10.05\n",
      "DEBUG [matplotlib.font_manager._findfont_cached()]: findfont: score(<Font 'Bangla Sangam MN' (Bangla Sangam MN.ttc) normal normal 400 normal>) = 10.05\n",
      "DEBUG [matplotlib.font_manager._findfont_cached()]: findfont: score(<Font 'Noto Sans Tai Viet' (NotoSansTaiViet-Regular.ttf) normal normal regular normal>) = 10.05\n",
      "DEBUG [matplotlib.font_manager._findfont_cached()]: findfont: score(<Font 'Euphemia UCAS' (EuphemiaCAS.ttc) normal normal 400 normal>) = 10.05\n",
      "DEBUG [matplotlib.font_manager._findfont_cached()]: findfont: score(<Font 'Verdana' (Verdana Bold Italic.ttf) italic normal bold normal>) = 4.971363636363637\n",
      "DEBUG [matplotlib.font_manager._findfont_cached()]: findfont: score(<Font 'Noto Sans Lepcha' (NotoSansLepcha-Regular.ttf) normal normal regular normal>) = 10.05\n",
      "DEBUG [matplotlib.font_manager._findfont_cached()]: findfont: score(<Font '.SF NS Mono' (SFNSMonoItalic.ttf) italic normal light normal>) = 11.24\n",
      "DEBUG [matplotlib.font_manager._findfont_cached()]: findfont: score(<Font 'Arial' (Arial Bold Italic.ttf) italic normal bold normal>) = 7.698636363636363\n",
      "DEBUG [matplotlib.font_manager._findfont_cached()]: findfont: score(<Font '.Aqua Kana' (AquaKana.ttc) normal normal 400 normal>) = 10.05\n",
      "DEBUG [matplotlib.font_manager._findfont_cached()]: findfont: score(<Font 'Noto Sans Ugaritic' (NotoSansUgaritic-Regular.ttf) normal normal regular normal>) = 10.05\n",
      "DEBUG [matplotlib.font_manager._findfont_cached()]: findfont: score(<Font 'Arial Black' (Arial Black.ttf) normal normal black normal>) = 10.525\n",
      "DEBUG [matplotlib.font_manager._findfont_cached()]: findfont: score(<Font 'Noto Sans Carian' (NotoSansCarian-Regular.ttf) normal normal regular normal>) = 10.05\n",
      "DEBUG [matplotlib.font_manager._findfont_cached()]: findfont: score(<Font 'Silom' (Silom.ttf) normal normal 400 normal>) = 10.05\n",
      "DEBUG [matplotlib.font_manager._findfont_cached()]: findfont: score(<Font 'Al Nile' (Al Nile.ttc) normal normal 400 normal>) = 10.05\n",
      "DEBUG [matplotlib.font_manager._findfont_cached()]: findfont: score(<Font 'Oriya MN' (Oriya MN.ttc) normal normal 400 normal>) = 10.05\n",
      "DEBUG [matplotlib.font_manager._findfont_cached()]: findfont: score(<Font 'STIXNonUnicode' (STIXNonUniIta.otf) italic normal 400 normal>) = 11.05\n",
      "DEBUG [matplotlib.font_manager._findfont_cached()]: findfont: score(<Font 'Arial' (Arial Bold.ttf) normal normal bold normal>) = 6.698636363636363\n",
      "DEBUG [matplotlib.font_manager._findfont_cached()]: findfont: score(<Font 'Helvetica Neue' (HelveticaNeue.ttc) normal normal 400 normal>) = 10.05\n",
      "DEBUG [matplotlib.font_manager._findfont_cached()]: findfont: score(<Font 'Noto Sans Tifinagh' (NotoSansTifinagh-Regular.ttf) normal normal regular normal>) = 10.05\n",
      "DEBUG [matplotlib.font_manager._findfont_cached()]: findfont: score(<Font 'Noto Sans Old Italic' (NotoSansOldItalic-Regular.ttf) italic normal regular normal>) = 11.05\n",
      "DEBUG [matplotlib.font_manager._findfont_cached()]: findfont: score(<Font 'Wingdings 3' (Wingdings 3.ttf) normal normal 400 normal>) = 10.05\n",
      "DEBUG [matplotlib.font_manager._findfont_cached()]: findfont: score(<Font 'Gujarati Sangam MN' (Gujarati Sangam MN.ttc) normal normal 400 normal>) = 10.05\n",
      "DEBUG [matplotlib.font_manager._findfont_cached()]: findfont: score(<Font 'Geeza Pro' (GeezaPro.ttc) normal normal regular normal>) = 10.05\n",
      "DEBUG [matplotlib.font_manager._findfont_cached()]: findfont: score(<Font 'STIXVariants' (STIXVarBol.otf) normal normal bold normal>) = 10.335\n",
      "DEBUG [matplotlib.font_manager._findfont_cached()]: findfont: score(<Font 'Tamil Sangam MN' (Tamil Sangam MN.ttc) normal normal 400 normal>) = 10.05\n",
      "DEBUG [matplotlib.font_manager._findfont_cached()]: findfont: score(<Font 'Telugu MN' (Telugu MN.ttc) normal normal 400 normal>) = 10.05\n",
      "DEBUG [matplotlib.font_manager._findfont_cached()]: findfont: score(<Font 'STIXIntegralsUpD' (STIXIntUpDBol.otf) normal normal bold normal>) = 10.335\n",
      "DEBUG [matplotlib.font_manager._findfont_cached()]: findfont: score(<Font 'Noto Sans Cuneiform' (NotoSansCuneiform-Regular.ttf) normal normal regular normal>) = 10.05\n",
      "DEBUG [matplotlib.font_manager._findfont_cached()]: findfont: score(<Font 'Noto Sans Mandaic' (NotoSansMandaic-Regular.ttf) normal normal regular normal>) = 10.05\n",
      "DEBUG [matplotlib.font_manager._findfont_cached()]: findfont: score(<Font 'Arial Narrow' (Arial Narrow.ttf) normal normal 400 condensed>) = 10.25\n",
      "DEBUG [matplotlib.font_manager._findfont_cached()]: findfont: score(<Font 'Hiragino Sans' (ヒラギノ角ゴシック W1.ttc) normal normal 400 normal>) = 10.05\n",
      "DEBUG [matplotlib.font_manager._findfont_cached()]: findfont: score(<Font 'Gujarati MT' (GujaratiMT.ttc) normal normal 400 normal>) = 10.05\n",
      "DEBUG [matplotlib.font_manager._findfont_cached()]: findfont: score(<Font 'Noto Sans Glagolitic' (NotoSansGlagolitic-Regular.ttf) normal normal regular normal>) = 10.05\n",
      "DEBUG [matplotlib.font_manager._findfont_cached()]: findfont: score(<Font 'Noto Sans Samaritan' (NotoSansSamaritan-Regular.ttf) normal normal regular normal>) = 10.05\n",
      "DEBUG [matplotlib.font_manager._findfont_cached()]: findfont: score(<Font 'STIXSizeFourSym' (STIXSizFourSymReg.otf) normal normal regular normal>) = 10.05\n",
      "DEBUG [matplotlib.font_manager._findfont_cached()]: findfont: score(<Font 'Trebuchet MS' (Trebuchet MS Italic.ttf) italic normal 400 normal>) = 11.05\n",
      "DEBUG [matplotlib.font_manager._findfont_cached()]: findfont: score(<Font 'Trebuchet MS' (Trebuchet MS.ttf) normal normal 400 normal>) = 10.05\n",
      "DEBUG [matplotlib.font_manager._findfont_cached()]: findfont: score(<Font '.New York' (NewYork.ttf) normal normal 400 normal>) = 10.05\n",
      "DEBUG [matplotlib.font_manager._findfont_cached()]: findfont: score(<Font 'Kefa' (Kefa.ttc) normal normal regular normal>) = 10.05\n",
      "DEBUG [matplotlib.font_manager._findfont_cached()]: findfont: score(<Font 'PingFang HK' (PingFang.ttc) normal normal regular normal>) = 10.05\n"
     ]
    },
    {
     "name": "stdout",
     "output_type": "stream",
     "text": [
      "DEBUG [matplotlib.font_manager._findfont_cached()]: findfont: score(<Font 'STIXSizeThreeSym' (STIXSizThreeSymReg.otf) normal normal regular normal>) = 10.05\n",
      "DEBUG [matplotlib.font_manager._findfont_cached()]: findfont: score(<Font 'Noto Sans Phoenician' (NotoSansPhoenician-Regular.ttf) normal normal regular normal>) = 10.05\n",
      "DEBUG [matplotlib.font_manager._findfont_cached()]: findfont: score(<Font 'STIXIntegralsUpD' (STIXIntUpDReg.otf) normal normal regular normal>) = 10.05\n",
      "DEBUG [matplotlib.font_manager._findfont_cached()]: findfont: score(<Font 'Verdana' (Verdana.ttf) normal normal 400 normal>) = 3.6863636363636365\n",
      "DEBUG [matplotlib.font_manager._findfont_cached()]: findfont: score(<Font 'Arial Narrow' (Arial Narrow Italic.ttf) italic normal 400 condensed>) = 11.25\n",
      "DEBUG [matplotlib.font_manager._findfont_cached()]: findfont: score(<Font 'Lucida Grande' (LucidaGrande.ttc) normal normal 400 normal>) = 2.777272727272727\n",
      "DEBUG [matplotlib.font_manager._findfont_cached()]: findfont: score(<Font '.SF NS Display Condensed' (SFNSDisplayCondensed-Light.otf) normal normal light condensed>) = 10.44\n",
      "DEBUG [matplotlib.font_manager._findfont_cached()]: findfont: score(<Font 'Sathu' (Sathu.ttf) normal normal 400 normal>) = 10.05\n",
      "DEBUG [matplotlib.font_manager._findfont_cached()]: findfont: score(<Font 'Baghdad' (Baghdad.ttc) normal normal regular normal>) = 10.05\n",
      "DEBUG [matplotlib.font_manager._findfont_cached()]: findfont: score(<Font 'Noto Sans Thaana' (NotoSansThaana-Regular.ttf) normal normal regular normal>) = 10.05\n",
      "DEBUG [matplotlib.font_manager._findfont_cached()]: findfont: score(<Font 'Noto Sans PhagsPa' (NotoSansPhagsPa-Regular.ttf) normal normal regular normal>) = 10.05\n",
      "DEBUG [matplotlib.font_manager._findfont_cached()]: findfont: score(<Font 'Hiragino Sans' (ヒラギノ角ゴシック W0.ttc) normal normal 400 normal>) = 10.05\n",
      "DEBUG [matplotlib.font_manager._findfont_cached()]: findfont: score(<Font 'Iowan Old Style' (Iowan Old Style.ttc) normal normal roman normal>) = 10.145\n",
      "DEBUG [matplotlib.font_manager._findfont_cached()]: findfont: score(<Font 'Bradley Hand' (Bradley Hand Bold.ttf) normal normal bold normal>) = 10.335\n",
      "DEBUG [matplotlib.font_manager._findfont_cached()]: findfont: score(<Font 'Kannada Sangam MN' (Kannada Sangam MN.ttc) normal normal 400 normal>) = 10.05\n",
      "DEBUG [matplotlib.font_manager._findfont_cached()]: findfont: score(<Font 'Avenir' (Avenir.ttc) normal normal book normal>) = 10.05\n",
      "DEBUG [matplotlib.font_manager._findfont_cached()]: findfont: score(<Font 'Noto Sans Runic' (NotoSansRunic-Regular.ttf) normal normal regular normal>) = 10.05\n",
      "DEBUG [matplotlib.font_manager._findfont_cached()]: findfont: score(<Font 'PT Sans' (PTSans.ttc) normal normal 400 normal>) = 10.05\n",
      "DEBUG [matplotlib.font_manager._findfont_cached()]: findfont: score(<Font '.SF NS Mono' (SFNSMono.ttf) normal normal light normal>) = 10.24\n",
      "DEBUG [matplotlib.font_manager._findfont_cached()]: findfont: score(<Font 'Noto Sans Kayah Li' (NotoSansKayahLi-Regular.ttf) normal normal regular normal>) = 10.05\n",
      "DEBUG [matplotlib.font_manager._findfont_cached()]: findfont: score(<Font 'Microsoft Sans Serif' (Microsoft Sans Serif.ttf) normal normal 400 normal>) = 10.05\n",
      "DEBUG [matplotlib.font_manager._findfont_cached()]: findfont: score(<Font 'Noto Sans Buginese' (NotoSansBuginese-Regular.ttf) normal normal regular normal>) = 10.05\n",
      "DEBUG [matplotlib.font_manager._findfont_cached()]: findfont: score(<Font 'Noto Sans Inscriptional Parthian' (NotoSansInscriptionalParthian-Regular.ttf) normal normal regular normal>) = 10.05\n",
      "DEBUG [matplotlib.font_manager._findfont_cached()]: findfont: score(<Font '.SF NS Display Condensed' (SFNSDisplayCondensed-Bold.otf) normal normal bold condensed>) = 10.535\n",
      "DEBUG [matplotlib.font_manager._findfont_cached()]: findfont: score(<Font 'Brush Script MT' (Brush Script.ttf) italic normal 400 normal>) = 11.05\n",
      "DEBUG [matplotlib.font_manager._findfont_cached()]: findfont: score(<Font 'Marion' (Marion.ttc) normal normal regular normal>) = 10.05\n",
      "DEBUG [matplotlib.font_manager._findfont_cached()]: findfont: score(<Font 'Noto Sans Kharoshthi' (NotoSansKharoshthi-Regular.ttf) normal normal regular normal>) = 10.05\n",
      "DEBUG [matplotlib.font_manager._findfont_cached()]: findfont: score(<Font 'Noto Sans Brahmi' (NotoSansBrahmi-Regular.ttf) normal normal regular normal>) = 10.05\n",
      "DEBUG [matplotlib.font_manager._findfont_cached()]: findfont: score(<Font 'Shree Devanagari 714' (Shree714.ttc) normal normal 400 normal>) = 10.05\n",
      "DEBUG [matplotlib.font_manager._findfont_cached()]: findfont: score(<Font 'Arial Narrow' (Arial Narrow Bold Italic.ttf) italic normal bold condensed>) = 11.535\n",
      "DEBUG [matplotlib.font_manager._findfont_cached()]: findfont: score(<Font '.SF NS Display Condensed' (SFNSDisplayCondensed-Regular.otf) normal normal regular condensed>) = 10.25\n",
      "DEBUG [matplotlib.font_manager._findfont_cached()]: findfont: score(<Font 'Myanmar MN' (Myanmar MN.ttc) normal normal 400 normal>) = 10.05\n",
      "DEBUG [matplotlib.font_manager._findfont_cached()]: findfont: score(<Font 'STIXSizeFourSym' (STIXSizFourSymBol.otf) normal normal bold normal>) = 10.335\n",
      "DEBUG [matplotlib.font_manager._findfont_cached()]: findfont: score(<Font '.SF NS Text Condensed' (SFNSTextCondensed-Heavy.otf) normal normal heavy condensed>) = 10.629999999999999\n",
      "DEBUG [matplotlib.font_manager._findfont_cached()]: findfont: score(<Font 'Noto Sans NKo' (NotoSansNKo-Regular.ttf) normal normal regular normal>) = 10.05\n",
      "DEBUG [matplotlib.font_manager._findfont_cached()]: findfont: score(<Font 'STIXIntegralsUp' (STIXIntUpBol.otf) normal normal bold normal>) = 10.335\n",
      "DEBUG [matplotlib.font_manager._findfont_cached()]: findfont: score(<Font 'Courier New' (Courier New Bold Italic.ttf) italic normal bold normal>) = 11.335\n",
      "DEBUG [matplotlib.font_manager._findfont_cached()]: findfont: score(<Font 'STIXIntegralsSm' (STIXIntSmBol.otf) normal normal bold normal>) = 10.335\n",
      "DEBUG [matplotlib.font_manager._findfont_cached()]: findfont: score(<Font 'Devanagari MT' (DevanagariMT.ttc) normal normal 400 normal>) = 10.05\n",
      "DEBUG [matplotlib.font_manager._findfont_cached()]: findfont: score(<Font 'Noto Nastaliq Urdu' (NotoNastaliq.ttc) normal normal 400 normal>) = 10.05\n",
      "DEBUG [matplotlib.font_manager._findfont_cached()]: findfont: score(<Font 'Heiti TC' (STHeiti Light.ttc) normal normal light normal>) = 10.24\n",
      "DEBUG [matplotlib.font_manager._findfont_cached()]: findfont: score(<Font 'Noto Sans Tagbanwa' (NotoSansTagbanwa-Regular.ttf) normal normal regular normal>) = 10.05\n",
      "DEBUG [matplotlib.font_manager._findfont_cached()]: findfont: score(<Font 'Zapf Dingbats' (ZapfDingbats.ttf) normal normal 400 normal>) = 10.05\n",
      "DEBUG [matplotlib.font_manager._findfont_cached()]: findfont: score(<Font 'STIXNonUnicode' (STIXNonUni.otf) normal normal regular normal>) = 10.05\n",
      "DEBUG [matplotlib.font_manager._findfont_cached()]: findfont: score(<Font 'Noto Sans Limbu' (NotoSansLimbu-Regular.ttf) normal normal regular normal>) = 10.05\n",
      "DEBUG [matplotlib.font_manager._findfont_cached()]: findfont: score(<Font 'Farah' (Farah.ttc) normal normal regular normal>) = 10.05\n",
      "DEBUG [matplotlib.font_manager._findfont_cached()]: findfont: score(<Font 'Arial Narrow' (Arial Narrow Bold.ttf) normal normal bold condensed>) = 10.535\n",
      "DEBUG [matplotlib.font_manager._findfont_cached()]: findfont: score(<Font 'Times New Roman' (Times New Roman.ttf) normal normal roman normal>) = 10.145\n",
      "DEBUG [matplotlib.font_manager._findfont_cached()]: findfont: score(<Font 'Skia' (Skia.ttf) normal normal 400 normal>) = 10.05\n",
      "DEBUG [matplotlib.font_manager._findfont_cached()]: findfont: score(<Font 'Superclarendon' (SuperClarendon.ttc) normal normal regular normal>) = 10.05\n",
      "DEBUG [matplotlib.font_manager._findfont_cached()]: findfont: score(<Font 'Noto Sans Syriac' (NotoSansSyriac-Regular.ttf) normal normal regular normal>) = 10.05\n",
      "DEBUG [matplotlib.font_manager._findfont_cached()]: findfont: score(<Font 'Helvetica' (Helvetica.ttc) normal normal 400 normal>) = 7.322727272727273\n",
      "DEBUG [matplotlib.font_manager._findfont_cached()]: findfont: score(<Font 'Athelas' (Athelas.ttc) normal normal regular normal>) = 10.05\n",
      "DEBUG [matplotlib.font_manager._findfont_cached()]: findfont: score(<Font 'STIXSizeTwoSym' (STIXSizTwoSymBol.otf) normal normal bold normal>) = 10.335\n"
     ]
    },
    {
     "name": "stdout",
     "output_type": "stream",
     "text": [
      "DEBUG [matplotlib.font_manager._findfont_cached()]: findfont: score(<Font 'Apple Braille' (Apple Braille Outline 6 Dot.ttf) normal normal 400 normal>) = 10.05\n",
      "DEBUG [matplotlib.font_manager._findfont_cached()]: findfont: score(<Font 'Luminari' (Luminari.ttf) normal normal 400 normal>) = 10.05\n",
      "DEBUG [matplotlib.font_manager._findfont_cached()]: findfont: score(<Font 'Noto Sans Lycian' (NotoSansLycian-Regular.ttf) normal normal regular normal>) = 10.05\n",
      "DEBUG [matplotlib.font_manager._findfont_cached()]: findfont: score(<Font 'Courier New' (Courier New Bold.ttf) normal normal bold normal>) = 10.335\n",
      "DEBUG [matplotlib.font_manager._findfont_cached()]: findfont: score(<Font 'Hiragino Maru Gothic Pro' (ヒラギノ丸ゴ ProN W4.ttc) normal normal 400 normal>) = 10.05\n",
      "DEBUG [matplotlib.font_manager._findfont_cached()]: findfont: score(<Font 'Noto Sans Avestan' (NotoSansAvestan-Regular.ttf) normal normal regular normal>) = 10.05\n",
      "DEBUG [matplotlib.font_manager._findfont_cached()]: findfont: score(<Font 'Noto Sans Old Turkic' (NotoSansOldTurkic-Regular.ttf) normal normal regular normal>) = 10.05\n",
      "DEBUG [matplotlib.font_manager._findfont_cached()]: findfont: score(<Font 'System Font' (SFNS.ttf) normal normal 400 normal>) = 10.05\n",
      "DEBUG [matplotlib.font_manager._findfont_cached()]: findfont: score(<Font 'Krungthep' (Krungthep.ttf) normal normal 400 normal>) = 10.05\n",
      "DEBUG [matplotlib.font_manager._findfont_cached()]: findfont: score(<Font '.Keyboard' (Keyboard.ttf) normal normal 400 normal>) = 10.05\n",
      "DEBUG [matplotlib.font_manager._findfont_cached()]: findfont: score(<Font 'Trebuchet MS' (Trebuchet MS Bold.ttf) normal normal bold normal>) = 10.335\n",
      "DEBUG [matplotlib.font_manager._findfont_cached()]: findfont: score(<Font '.SF Compact Rounded' (SFCompactRounded.ttf) normal normal 400 normal>) = 10.05\n",
      "DEBUG [matplotlib.font_manager._findfont_cached()]: findfont: score(<Font 'Corsiva Hebrew' (Corsiva.ttc) normal normal 400 normal>) = 10.05\n",
      "DEBUG [matplotlib.font_manager._findfont_cached()]: findfont: score(<Font 'STIXIntegralsD' (STIXIntDReg.otf) normal normal regular normal>) = 10.05\n",
      "DEBUG [matplotlib.font_manager._findfont_cached()]: findfont: score(<Font 'Optima' (Optima.ttc) normal normal regular normal>) = 10.05\n",
      "DEBUG [matplotlib.font_manager._findfont_cached()]: findfont: score(<Font 'Noto Sans Imperial Aramaic' (NotoSansImperialAramaic-Regular.ttf) normal normal regular normal>) = 10.05\n",
      "DEBUG [matplotlib.font_manager._findfont_cached()]: findfont: score(<Font 'Bodoni 72 Oldstyle' (Bodoni 72 OS.ttc) normal normal book normal>) = 10.05\n",
      "DEBUG [matplotlib.font_manager._findfont_cached()]: findfont: score(<Font 'Georgia' (Georgia Italic.ttf) italic normal 400 normal>) = 11.05\n",
      "DEBUG [matplotlib.font_manager._findfont_cached()]: findfont: score(<Font 'Charter' (Charter.ttc) normal normal roman normal>) = 10.145\n",
      "DEBUG [matplotlib.font_manager._findfont_cached()]: findfont: score(<Font 'Noto Sans Coptic' (NotoSansCoptic-Regular.ttf) normal normal regular normal>) = 10.05\n",
      "DEBUG [matplotlib.font_manager._findfont_cached()]: findfont: score(<Font 'Lao Sangam MN' (Lao Sangam MN.ttf) normal normal 400 normal>) = 10.05\n",
      "DEBUG [matplotlib.font_manager._findfont_cached()]: findfont: score(<Font 'PT Serif Caption' (PTSerifCaption.ttc) normal normal 400 normal>) = 10.05\n",
      "DEBUG [matplotlib.font_manager._findfont_cached()]: findfont: score(<Font 'Mishafi Gold' (Mishafi Gold.ttf) normal normal regular normal>) = 10.05\n",
      "DEBUG [matplotlib.font_manager._findfont_cached()]: findfont: score(<Font 'STIXSizeOneSym' (STIXSizOneSymBol.otf) normal normal bold normal>) = 10.335\n",
      "DEBUG [matplotlib.font_manager._findfont_cached()]: findfont: score(<Font 'Chalkboard' (Chalkboard.ttc) normal normal 400 normal>) = 10.05\n",
      "DEBUG [matplotlib.font_manager._findfont_cached()]: findfont: score(<Font 'Diwan Thuluth' (Diwan Thuluth.ttf) normal normal regular normal>) = 10.05\n",
      "DEBUG [matplotlib.font_manager._findfont_cached()]: findfont: score(<Font 'Bodoni 72 Smallcaps' (Bodoni 72 Smallcaps Book.ttf) normal normal book normal>) = 10.05\n",
      "DEBUG [matplotlib.font_manager._findfont_cached()]: findfont: score(<Font 'Gurmukhi MN' (Gurmukhi MN.ttc) normal normal 400 normal>) = 10.05\n",
      "DEBUG [matplotlib.font_manager._findfont_cached()]: findfont: score(<Font 'Noto Sans Armenian' (NotoSansArmenian.ttc) normal normal black normal>) = 10.525\n",
      "DEBUG [matplotlib.font_manager._findfont_cached()]: findfont: score(<Font 'STIXNonUnicode' (STIXNonUniBol.otf) normal normal bold normal>) = 10.335\n",
      "DEBUG [matplotlib.font_manager._findfont_cached()]: findfont: score(<Font 'Noto Sans Ol Chiki' (NotoSansOlChiki-Regular.ttf) normal normal regular normal>) = 10.05\n",
      "DEBUG [matplotlib.font_manager._findfont_cached()]: findfont: score(<Font '.New York' (NewYorkItalic.ttf) italic normal 400 normal>) = 11.05\n",
      "DEBUG [matplotlib.font_manager._findfont_cached()]: findfont: score(<Font 'Noto Sans Osmanya' (NotoSansOsmanya-Regular.ttf) normal normal regular normal>) = 10.05\n",
      "DEBUG [matplotlib.font_manager._findfont_cached()]: findfont: score(<Font 'System Font' (SFNSItalic.ttf) italic normal regular normal>) = 11.05\n",
      "DEBUG [matplotlib.font_manager._findfont_cached()]: findfont: score(<Font 'STIXIntegralsSm' (STIXIntSmReg.otf) normal normal regular normal>) = 10.05\n",
      "DEBUG [matplotlib.font_manager._findfont_cached()]: findfont: score(<Font 'Noto Serif Myanmar' (NotoSerifMyanmar.ttc) normal normal black normal>) = 10.525\n",
      "DEBUG [matplotlib.font_manager._findfont_cached()]: findfont: score(<Font 'Times New Roman' (Times New Roman Bold Italic.ttf) italic normal roman normal>) = 11.145\n",
      "DEBUG [matplotlib.font_manager._findfont_cached()]: findfont: score(<Font 'Cochin' (Cochin.ttc) normal normal 400 normal>) = 10.05\n",
      "DEBUG [matplotlib.font_manager._findfont_cached()]: findfont: score(<Font 'STIXSizeTwoSym' (STIXSizTwoSymReg.otf) normal normal regular normal>) = 10.05\n",
      "DEBUG [matplotlib.font_manager._findfont_cached()]: findfont: score(<Font 'Devanagari Sangam MN' (Devanagari Sangam MN.ttc) normal normal 400 normal>) = 10.05\n",
      "DEBUG [matplotlib.font_manager._findfont_cached()]: findfont: score(<Font 'Bodoni Ornaments' (Bodoni Ornaments.ttf) normal normal 400 normal>) = 10.05\n",
      "DEBUG [matplotlib.font_manager._findfont_cached()]: findfont: score(<Font 'Bangla MN' (Bangla MN.ttc) normal normal 400 normal>) = 10.05\n",
      "DEBUG [matplotlib.font_manager._findfont_cached()]: findfont: score(<Font 'Noteworthy' (Noteworthy.ttc) normal normal light normal>) = 10.24\n",
      "DEBUG [matplotlib.font_manager._findfont_cached()]: findfont: score(<Font 'Apple Braille' (Apple Braille Outline 8 Dot.ttf) normal normal 400 normal>) = 10.05\n",
      "DEBUG [matplotlib.font_manager._findfont_cached()]: findfont: score(<Font 'Gurmukhi Sangam MN' (Gurmukhi Sangam MN.ttc) normal normal 400 normal>) = 10.05\n",
      "DEBUG [matplotlib.font_manager._findfont_cached()]: findfont: score(<Font 'Apple SD Gothic Neo' (AppleSDGothicNeo.ttc) normal normal regular normal>) = 10.05\n",
      "DEBUG [matplotlib.font_manager._findfont_cached()]: findfont: score(<Font 'Noto Sans Old South Arabian' (NotoSansOldSouthArabian-Regular.ttf) normal normal regular normal>) = 10.05\n",
      "DEBUG [matplotlib.font_manager._findfont_cached()]: findfont: score(<Font 'DIN Alternate' (DIN Alternate Bold.ttf) normal normal bold normal>) = 10.335\n",
      "DEBUG [matplotlib.font_manager._findfont_cached()]: findfont: score(<Font 'STIXSizeOneSym' (STIXSizOneSymReg.otf) normal normal regular normal>) = 10.05\n",
      "DEBUG [matplotlib.font_manager._findfont_cached()]: findfont: score(<Font '.SF NS Display Condensed' (SFNSDisplayCondensed-Ultralight.otf) normal normal ultralight condensed>) = 10.535\n",
      "DEBUG [matplotlib.font_manager._findfont_cached()]: findfont: score(<Font 'Hoefler Text' (Hoefler Text Ornaments.ttf) normal normal 400 normal>) = 10.05\n",
      "DEBUG [matplotlib.font_manager._findfont_cached()]: findfont: score(<Font 'Khmer Sangam MN' (Khmer Sangam MN.ttf) normal normal 400 normal>) = 10.05\n",
      "DEBUG [matplotlib.font_manager._findfont_cached()]: findfont: score(<Font 'Noto Sans Gothic' (NotoSansGothic-Regular.ttf) normal normal regular normal>) = 10.05\n",
      "DEBUG [matplotlib.font_manager._findfont_cached()]: findfont: score(<Font 'Noto Sans Kannada' (NotoSansKannada.ttc) normal normal black normal>) = 10.525\n"
     ]
    },
    {
     "name": "stdout",
     "output_type": "stream",
     "text": [
      "DEBUG [matplotlib.font_manager._findfont_cached()]: findfont: score(<Font 'DIN Condensed' (DIN Condensed Bold.ttf) normal normal bold condensed>) = 10.535\n",
      "DEBUG [matplotlib.font_manager._findfont_cached()]: findfont: score(<Font 'New Peninim MT' (NewPeninimMT.ttc) normal normal 400 normal>) = 10.05\n",
      "DEBUG [matplotlib.font_manager._findfont_cached()]: findfont: score(<Font 'Noto Sans Chakma' (NotoSansChakma-Regular.ttf) normal normal regular normal>) = 10.05\n",
      "DEBUG [matplotlib.font_manager._findfont_cached()]: findfont: score(<Font 'Baskerville' (Baskerville.ttc) normal normal 400 normal>) = 10.05\n",
      "DEBUG [matplotlib.font_manager._findfont_cached()]: findfont: score(<Font '.LastResort' (LastResort.otf) normal normal 400 normal>) = 10.05\n",
      "DEBUG [matplotlib.font_manager._findfont_cached()]: findfont: score(<Font 'KufiStandardGK' (KufiStandardGK.ttc) normal normal regular normal>) = 10.05\n",
      "DEBUG [matplotlib.font_manager._findfont_cached()]: findfont: score(<Font 'STIXIntegralsUpSm' (STIXIntUpSmReg.otf) normal normal regular normal>) = 10.05\n",
      "DEBUG [matplotlib.font_manager._findfont_cached()]: findfont: score(<Font 'Seravek' (Seravek.ttc) normal normal 400 normal>) = 10.05\n",
      "DEBUG [matplotlib.font_manager._findfont_cached()]: findfont: score(<Font 'Webdings' (Webdings.ttf) normal normal 400 normal>) = 10.05\n",
      "DEBUG [matplotlib.font_manager._findfont_cached()]: findfont: score(<Font 'Gurmukhi MT' (Gurmukhi.ttf) normal normal 400 normal>) = 10.05\n",
      "DEBUG [matplotlib.font_manager._findfont_cached()]: findfont: score(<Font 'Noto Sans Tai Le' (NotoSansTaiLe-Regular.ttf) normal normal regular normal>) = 10.05\n",
      "DEBUG [matplotlib.font_manager._findfont_cached()]: findfont: score(<Font '.SF NS Display Condensed' (SFNSDisplayCondensed-Medium.otf) normal normal medium condensed>) = 10.344999999999999\n",
      "DEBUG [matplotlib.font_manager._findfont_cached()]: findfont: score(<Font 'STIXIntegralsD' (STIXIntDBol.otf) normal normal bold normal>) = 10.335\n",
      "DEBUG [matplotlib.font_manager._findfont_cached()]: findfont: score(<Font '.Arabic UI Text' (ArabicUIText.ttc) normal normal regular normal>) = 10.05\n",
      "DEBUG [matplotlib.font_manager._findfont_cached()]: findfont: score(<Font 'STIXGeneral' (STIXGeneralBol.otf) normal normal bold normal>) = 10.335\n",
      "DEBUG [matplotlib.font_manager._findfont_cached()]: findfont: score(<Font 'Apple Chancery' (Apple Chancery.ttf) normal normal 400 normal>) = 10.05\n",
      "DEBUG [matplotlib.font_manager._findfont_cached()]: findfont: score(<Font 'AppleMyungjo' (AppleMyungjo.ttf) normal normal regular normal>) = 10.05\n",
      "DEBUG [matplotlib.font_manager._findfont_cached()]: findfont: score(<Font 'Apple Braille' (Apple Braille.ttf) normal normal 400 normal>) = 10.05\n",
      "DEBUG [matplotlib.font_manager._findfont_cached()]: findfont: score(<Font 'STIXIntegralsUpSm' (STIXIntUpSmBol.otf) normal normal bold normal>) = 10.335\n",
      "DEBUG [matplotlib.font_manager._findfont_cached()]: findfont: score(<Font 'Noto Sans Sundanese' (NotoSansSundanese-Regular.ttf) normal normal regular normal>) = 10.05\n",
      "DEBUG [matplotlib.font_manager._findfont_cached()]: findfont: score(<Font 'Kohinoor Telugu' (KohinoorTelugu.ttc) normal normal 400 normal>) = 10.05\n",
      "DEBUG [matplotlib.font_manager._findfont_cached()]: findfont: score(<Font 'Hiragino Sans' (ヒラギノ角ゴシック W4.ttc) normal normal 400 normal>) = 10.05\n",
      "DEBUG [matplotlib.font_manager._findfont_cached()]: findfont: score(<Font 'Trebuchet MS' (Trebuchet MS Bold Italic.ttf) italic normal bold normal>) = 11.335\n",
      "DEBUG [matplotlib.font_manager._findfont_cached()]: findfont: score(<Font 'Futura' (Futura.ttc) normal normal medium normal>) = 10.145\n",
      "DEBUG [matplotlib.font_manager._findfont_cached()]: findfont: score(<Font '.SF NS Text Condensed' (SFNSTextCondensed-Regular.otf) normal normal regular condensed>) = 10.25\n",
      "DEBUG [matplotlib.font_manager._findfont_cached()]: findfont: score(<Font 'Courier New' (Courier New Italic.ttf) italic normal 400 normal>) = 11.05\n",
      "DEBUG [matplotlib.font_manager._findfont_cached()]: findfont: score(<Font 'STIXIntegralsUp' (STIXIntUpReg.otf) normal normal regular normal>) = 10.05\n",
      "DEBUG [matplotlib.font_manager._findfont_cached()]: findfont: score(<Font 'Bodoni 72' (Bodoni 72.ttc) normal normal book normal>) = 10.05\n",
      "DEBUG [matplotlib.font_manager._findfont_cached()]: findfont: score(<Font 'Malayalam Sangam MN' (Malayalam Sangam MN.ttc) normal normal 400 normal>) = 10.05\n",
      "DEBUG [matplotlib.font_manager._findfont_cached()]: findfont: score(<Font 'American Typewriter' (AmericanTypewriter.ttc) normal normal 400 normal>) = 10.05\n",
      "DEBUG [matplotlib.font_manager._findfont_cached()]: findfont: score(<Font 'Hiragino Sans' (ヒラギノ角ゴシック W2.ttc) normal normal 400 normal>) = 10.05\n",
      "DEBUG [matplotlib.font_manager._findfont_cached()]: findfont: score(<Font 'Tahoma' (Tahoma.ttf) normal normal 400 normal>) = 10.05\n",
      "DEBUG [matplotlib.font_manager._findfont_cached()]: findfont: score(<Font '.SF Compact Display' (SFCompactDisplay.ttf) normal normal 400 normal>) = 10.05\n",
      "DEBUG [matplotlib.font_manager._findfont_cached()]: findfont: score(<Font 'Chalkboard SE' (ChalkboardSE.ttc) normal normal light normal>) = 10.24\n",
      "DEBUG [matplotlib.font_manager._findfont_cached()]: findfont: score(<Font 'Noto Sans Shavian' (NotoSansShavian-Regular.ttf) normal normal regular normal>) = 10.05\n",
      "DEBUG [matplotlib.font_manager._findfont_cached()]: findfont: score(<Font 'Muna' (Muna.ttc) normal normal regular normal>) = 10.05\n",
      "DEBUG [matplotlib.font_manager._findfont_cached()]: findfont: score(<Font 'Hiragino Sans' (ヒラギノ角ゴシック W7.ttc) normal normal 700 normal>) = 10.335\n",
      "DEBUG [matplotlib.font_manager._findfont_cached()]: findfont: score(<Font 'Kokonor' (Kokonor.ttf) normal normal regular normal>) = 10.05\n",
      "DEBUG [matplotlib.font_manager._findfont_cached()]: findfont: score(<Font 'Noto Sans Buhid' (NotoSansBuhid-Regular.ttf) normal normal regular normal>) = 10.05\n",
      "DEBUG [matplotlib.font_manager._findfont_cached()]: findfont: score(<Font 'STIXGeneral' (STIXGeneralBolIta.otf) italic normal bold normal>) = 11.335\n",
      "DEBUG [matplotlib.font_manager._findfont_cached()]: findfont: score(<Font 'Courier New' (Courier New.ttf) normal normal 400 normal>) = 10.05\n",
      "DEBUG [matplotlib.font_manager._findfont_cached()]: findfont: score(<Font 'Impact' (Impact.ttf) normal normal 400 normal>) = 10.05\n",
      "DEBUG [matplotlib.font_manager._findfont_cached()]: findfont: score(<Font 'Noto Sans Cypriot' (NotoSansCypriot-Regular.ttf) normal normal regular normal>) = 10.05\n",
      "DEBUG [matplotlib.font_manager._findfont_cached()]: findfont: score(<Font 'Al Tarikh' (Al Tarikh.ttc) normal normal regular normal>) = 10.05\n",
      "DEBUG [matplotlib.font_manager._findfont_cached()]: findfont: score(<Font '.SF NS Rounded' (SFNSRounded.ttf) normal normal 400 normal>) = 10.05\n",
      "DEBUG [matplotlib.font_manager._findfont_cached()]: findfont: score(<Font '.Helvetica Neue DeskInterface' (HelveticaNeueDeskInterface.ttc) normal normal regular normal>) = 10.05\n",
      "DEBUG [matplotlib.font_manager._findfont_cached()]: findfont: score(<Font 'Comic Sans MS' (Comic Sans MS Bold.ttf) normal normal bold normal>) = 10.335\n",
      "DEBUG [matplotlib.font_manager._findfont_cached()]: findfont: score(<Font '.Arabic UI Display' (ArabicUIDisplay.ttc) normal normal black normal>) = 10.525\n",
      "DEBUG [matplotlib.font_manager._findfont_cached()]: findfont: score(<Font 'Zapfino' (Zapfino.ttf) normal normal 400 normal>) = 10.05\n",
      "DEBUG [matplotlib.font_manager._findfont_cached()]: findfont: score(<Font 'InaiMathi' (InaiMathi-MN.ttc) normal normal 400 normal>) = 10.05\n",
      "DEBUG [matplotlib.font_manager._findfont_cached()]: findfont: score(<Font 'Didot' (Didot.ttc) normal normal 400 normal>) = 10.05\n",
      "DEBUG [matplotlib.font_manager._findfont_cached()]: findfont: score(<Font 'Noto Sans Vai' (NotoSansVai-Regular.ttf) normal normal regular normal>) = 10.05\n",
      "DEBUG [matplotlib.font_manager._findfont_cached()]: findfont: score(<Font 'Noto Sans Syloti Nagri' (NotoSansSylotiNagri-Regular.ttf) normal normal regular normal>) = 10.05\n",
      "DEBUG [matplotlib.font_manager._findfont_cached()]: findfont: score(<Font 'Oriya Sangam MN' (Oriya Sangam MN.ttc) normal normal 400 normal>) = 10.05\n",
      "DEBUG [matplotlib.font_manager._findfont_cached()]: findfont: score(<Font 'Copperplate' (Copperplate.ttc) normal normal 400 normal>) = 10.05\n"
     ]
    },
    {
     "name": "stdout",
     "output_type": "stream",
     "text": [
      "DEBUG [matplotlib.font_manager._findfont_cached()]: findfont: score(<Font 'Hiragino Sans' (ヒラギノ角ゴシック W3.ttc) normal normal 400 normal>) = 10.05\n",
      "DEBUG [matplotlib.font_manager._findfont_cached()]: findfont: score(<Font '.SF Compact Text' (SFCompactTextItalic.ttf) italic normal 400 normal>) = 11.05\n",
      "DEBUG [matplotlib.font_manager._findfont_cached()]: findfont: score(<Font 'Georgia' (Georgia Bold.ttf) normal normal bold normal>) = 10.335\n",
      "DEBUG [matplotlib.font_manager._findfont_cached()]: findfont: score(<Font 'Noto Sans Rejang' (NotoSansRejang-Regular.ttf) normal normal regular normal>) = 10.05\n",
      "DEBUG [matplotlib.font_manager._findfont_cached()]: findfont: score(<Font '.SF NS Text Condensed' (SFNSTextCondensed-Medium.otf) normal normal medium condensed>) = 10.344999999999999\n",
      "DEBUG [matplotlib.font_manager._findfont_cached()]: findfont: score(<Font 'Noto Sans Hanunoo' (NotoSansHanunoo-Regular.ttf) normal normal regular normal>) = 10.05\n",
      "DEBUG [matplotlib.font_manager._findfont_cached()]: findfont: score(<Font 'Palatino' (Palatino.ttc) normal normal 400 normal>) = 10.05\n",
      "DEBUG [matplotlib.font_manager._findfont_cached()]: findfont: score(<Font '.SF NS Text Condensed' (SFNSTextCondensed-Bold.otf) normal normal bold condensed>) = 10.535\n",
      "DEBUG [matplotlib.font_manager._findfont_cached()]: findfont: score(<Font 'Noto Sans Kaithi' (NotoSansKaithi-Regular.ttf) normal normal regular normal>) = 10.05\n",
      "DEBUG [matplotlib.font_manager._findfont_cached()]: findfont: score(<Font 'Big Caslon' (BigCaslon.ttf) normal normal medium normal>) = 10.145\n",
      "DEBUG [matplotlib.font_manager._findfont_cached()]: findfont: score(<Font 'Arial' (Arial Italic.ttf) italic normal 400 normal>) = 7.413636363636363\n",
      "DEBUG [matplotlib.font_manager._findfont_cached()]: findfont: score(<Font 'Noto Sans Cham' (NotoSansCham-Regular.ttf) normal normal regular normal>) = 10.05\n",
      "DEBUG [matplotlib.font_manager._findfont_cached()]: findfont: score(<Font 'Ayuthaya' (Ayuthaya.ttf) normal normal 400 normal>) = 10.05\n",
      "DEBUG [matplotlib.font_manager._findfont_cached()]: findfont: score(<Font 'Noto Sans Meetei Mayek' (NotoSansMeeteiMayek-Regular.ttf) normal normal regular normal>) = 10.05\n",
      "DEBUG [matplotlib.font_manager._findfont_cached()]: findfont: score(<Font 'Savoye LET' (Savoye LET.ttc) normal normal 400 normal>) = 10.05\n",
      "DEBUG [matplotlib.font_manager._findfont_cached()]: findfont: score(<Font 'Avenir Next' (Avenir Next.ttc) normal normal bold normal>) = 10.335\n",
      "DEBUG [matplotlib.font_manager._findfont_cached()]: findfont: score(<Font 'Mshtakan' (Mshtakan.ttc) normal normal 400 normal>) = 10.05\n",
      "DEBUG [matplotlib.font_manager._findfont_cached()]: findfont: score(<Font 'Apple Braille' (Apple Braille Pinpoint 8 Dot.ttf) normal normal 400 normal>) = 10.05\n",
      "DEBUG [matplotlib.font_manager._findfont_cached()]: findfont: score(<Font 'Lao MN' (Lao MN.ttc) normal normal 400 normal>) = 10.05\n",
      "DEBUG [matplotlib.font_manager._findfont_cached()]: findfont: score(<Font 'Sinhala MN' (Sinhala MN.ttc) normal normal 400 normal>) = 10.05\n",
      "DEBUG [matplotlib.font_manager._findfont_cached()]: findfont: score(<Font 'Hiragino Sans' (ヒラギノ角ゴシック W9.ttc) normal normal 700 normal>) = 10.335\n",
      "DEBUG [matplotlib.font_manager._findfont_cached()]: findfont: score(<Font 'Andale Mono' (Andale Mono.ttf) normal normal 400 normal>) = 10.05\n",
      "DEBUG [matplotlib.font_manager._findfont_cached()]: findfont: score(<Font 'Snell Roundhand' (SnellRoundhand.ttc) normal normal 400 normal>) = 10.05\n",
      "DEBUG [matplotlib.font_manager._findfont_cached()]: findfont: score(<Font 'Papyrus' (Papyrus.ttc) normal normal 400 condensed>) = 10.25\n",
      "DEBUG [matplotlib.font_manager._findfont_cached()]: findfont: score(<Font 'DecoType Naskh' (DecoTypeNaskh.ttc) normal normal regular normal>) = 10.05\n",
      "DEBUG [matplotlib.font_manager._findfont_cached()]: findfont: score(<Font 'Plantagenet Cherokee' (PlantagenetCherokee.ttf) normal normal 400 normal>) = 10.05\n",
      "DEBUG [matplotlib.font_manager._findfont_cached()]: findfont: score(<Font 'Sinhala Sangam MN' (Sinhala Sangam MN.ttc) normal normal 400 normal>) = 10.05\n",
      "DEBUG [matplotlib.font_manager._findfont_cached()]: findfont: score(<Font 'Mishafi' (Mishafi.ttf) normal normal regular normal>) = 10.05\n",
      "DEBUG [matplotlib.font_manager._findfont_cached()]: findfont: score(<Font 'Khmer MN' (Khmer MN.ttc) normal normal 400 normal>) = 10.05\n",
      "DEBUG [matplotlib.font_manager._findfont_cached()]: findfont: score(<Font 'Rockwell' (Rockwell.ttc) normal normal 400 normal>) = 10.05\n",
      "DEBUG [matplotlib.font_manager._findfont_cached()]: findfont: score(<Font 'Arial Hebrew' (ArialHB.ttc) normal normal 400 normal>) = 10.05\n",
      "DEBUG [matplotlib.font_manager._findfont_cached()]: findfont: score(<Font 'Heiti TC' (STHeiti Medium.ttc) normal normal medium normal>) = 10.145\n",
      "DEBUG [matplotlib.font_manager._findfont_cached()]: findfont: score(<Font 'Comic Sans MS' (Comic Sans MS.ttf) normal normal 400 normal>) = 10.05\n",
      "DEBUG [matplotlib.font_manager._findfont_cached()]: findfont: score(<Font 'Noto Sans Lisu' (NotoSansLisu-Regular.ttf) normal normal regular normal>) = 10.05\n",
      "DEBUG [matplotlib.font_manager._findfont_cached()]: findfont: score(<Font 'ITF Devanagari' (ITFDevanagari.ttc) normal normal book normal>) = 10.05\n",
      "DEBUG [matplotlib.font_manager._findfont_cached()]: findfont: Matching :family=sans-serif:style=normal:variant=normal:weight=normal:stretch=normal:size=10.0 to DejaVu Sans ('/Library/Python/3.7/site-packages/matplotlib/mpl-data/fonts/ttf/DejaVuSans.ttf') with score of 0.050000.\n"
     ]
    },
    {
     "data": {
      "image/png": "[encoded data removed]",
      "text/plain": [
       "<Figure size 1080x360 with 2 Axes>"
      ]
     },
     "metadata": {
      "needs_background": "light"
     },
     "output_type": "display_data"
    }
   ],
   "source": [
    "plt.figure(figsize=(15,5))\n",
    "plt.scatter(lc['time'][lc['mask']],lc['flux'][lc['mask']],c=lc['quality'][lc['mask']])\n",
    "\n",
    "#ni=(np.sum(np.vstack([lc['quality'] & 2 ** (q - 1) for q in [22,23,24]]),axis=0)==0)\n",
    "#plt.plot(lc['time'][~ni],lc['flux'][~ni],'xr')\n",
    "\n",
    "plt.colorbar()\n",
    "plt.ylim(-0.2,8e-3)\n",
    "#plt.xlim(2605,2625)\n"
   ]
  },
  {
   "cell_type": "code",
   "execution_count": 12,
   "metadata": {},
   "outputs": [
    {
     "name": "stdout",
     "output_type": "stream",
     "text": [
      "depth: 0.15203776063403635\n",
      "{'mean': array(0.), 'r_star': array(4.326), 'm_star': array(1.87161488), 'u_star_quadlimbdark__': array([4.4408921e-16, 0.0000000e+00]), 'logP_interval__': array(2.24621675), 't0': array(2493.81142), 'logror_interval__': array(0.93247847), 'b_impact__': array(-0.90615978)}\n"
     ]
    }
   ],
   "source": [
    "lc=MonoSearch.lcFlatten(lc,winsize=9*tdur,stepsize=0.1*tdur)\n",
    "\n",
    "#Runs Quick Model fit\n",
    "monoparams, interpmodel = MonoSearch.QuickMonoFit(lc,tcen,tdur,Rs=Rstar[0],Ms=rhostar[0]*Rstar[0]**3)"
   ]
  },
  {
   "cell_type": "code",
   "execution_count": 13,
   "metadata": {},
   "outputs": [
    {
     "data": {
      "text/plain": [
       "(2493.118292586833, 2494.6393600396855)"
      ]
     },
     "execution_count": 13,
     "metadata": {},
     "output_type": "execute_result"
    },
    {
     "data": {
      "image/png": "[encoded data removed]",
      "text/plain": [
       "<Figure size 432x288 with 1 Axes>"
      ]
     },
     "metadata": {
      "needs_background": "light"
     },
     "output_type": "display_data"
    }
   ],
   "source": [
    "plt.plot(lc['time'][lc['mask']],lc['flux_flat'][lc['mask']],'.')\n",
    "xmod=np.linspace(monoparams['t0']-monoparams['tdur'],monoparams['t0']+monoparams['tdur'],100)\n",
    "plt.plot(xmod,interpmodel(xmod-monoparams['t0']))\n",
    "plt.xlim(xmod[0],xmod[-1])"
   ]
  },
  {
   "cell_type": "code",
   "execution_count": 14,
   "metadata": {},
   "outputs": [
    {
     "data": {
      "text/plain": [
       "{'mean': -0.00011350062489374651,\n",
       " 'r_star': 6.206233077301302,\n",
       " 'm_star': 1.0628403136199545,\n",
       " 'u_star_quadlimbdark__': array([-1.71765917, 15.9134314 ]),\n",
       " 't0': 2493.878826313259,\n",
       " 'b_impact__': 0.34883653364344547,\n",
       " 'u_star': array([ 0.78018687, -0.39009338]),\n",
       " 'logP': 4.04370426818295,\n",
       " 'logror': -0.6158646169563884,\n",
       " 'r_pl': 3.35244357440896,\n",
       " 'b': 0.9030583531193348,\n",
       " 'period': 57.0372331751739,\n",
       " 'vrel': 1.129516987776426,\n",
       " 'tdur': 0.7605337264264902,\n",
       " 'depth': 0.10778473813778178,\n",
       " 'std_oot': 0.011158619526688262,\n",
       " 'snr': 58.932344333913825}"
      ]
     },
     "execution_count": 14,
     "metadata": {},
     "output_type": "execute_result"
    }
   ],
   "source": [
    "monoparams"
   ]
  },
  {
   "cell_type": "code",
   "execution_count": 15,
   "metadata": {},
   "outputs": [
    {
     "name": "stdout",
     "output_type": "stream",
     "text": [
      "asteroidDeltaBIC 0.0\n"
     ]
    },
    {
     "data": {
      "text/plain": [
       "'#Checks to see if dip is combined with centroid\\ncentroidDeltaBIC=MonoSearch.CentroidCheck(lc, monoparams, interpmodel, ID)\\nprint(\"centroidDeltaBIC\",centroidDeltaBIC)\\nif centroidDeltaBIC>6:\\n    planet_dic_1[\\'01\\'][\\'flag\\']=\\'BEB\\'\\n    '"
      ]
     },
     "execution_count": 15,
     "metadata": {},
     "output_type": "execute_result"
    }
   ],
   "source": [
    "#Checks to see if dip is due to background asteroid\n",
    "asteroidDeltaBIC=MonoSearch.AsteroidCheck(lc, monoparams, interpmodel, ID)\n",
    "print(\"asteroidDeltaBIC\",asteroidDeltaBIC)\n",
    "if asteroidDeltaBIC>6:\n",
    "    planet_dic_1['01']['flag']='asteroid'\n",
    "\n",
    "'''#Checks to see if dip is combined with centroid\n",
    "centroidDeltaBIC=MonoSearch.CentroidCheck(lc, monoparams, interpmodel, ID)\n",
    "print(\"centroidDeltaBIC\",centroidDeltaBIC)\n",
    "if centroidDeltaBIC>6:\n",
    "    planet_dic_1['01']['flag']='BEB'\n",
    "    '''"
   ]
  },
  {
   "cell_type": "code",
   "execution_count": 246,
   "metadata": {},
   "outputs": [
    {
     "name": "stdout",
     "output_type": "stream",
     "text": [
      "[False False False ... False False False]\n",
      "0 []\n"
     ]
    }
   ],
   "source": [
    "#Searches for other dips in the lightcurve\n",
    "planet_dic_1=MonoSearch.SearchForSubsequentTransits(lc, interpmodel, monoparams, Rs=Rstar[0],Ms=rhostar[0]*Rstar[0]**3)\n"
   ]
  },
  {
   "cell_type": "code",
   "execution_count": 17,
   "metadata": {},
   "outputs": [
    {
     "data": {
      "text/plain": [
       "{'period': 100,\n",
       " 'period_err': 100,\n",
       " 'SNR': 58.932344333913825,\n",
       " 'rp_rs': 0.5401736500471113,\n",
       " 'tcen': 2493.878826313259,\n",
       " 'tdur': 0.7605337264264902,\n",
       " 'orbit_flag': 'singlemono'}"
      ]
     },
     "execution_count": 17,
     "metadata": {},
     "output_type": "execute_result"
    }
   ],
   "source": [
    "planet_dic_1['01']"
   ]
  },
  {
   "cell_type": "code",
   "execution_count": 18,
   "metadata": {},
   "outputs": [],
   "source": [
    "mono_SNRthresh=6.0\n",
    "PL_ror_thresh=0.2"
   ]
  },
  {
   "cell_type": "code",
   "execution_count": 249,
   "metadata": {},
   "outputs": [],
   "source": [
    "#Asses whether any dips are significant enough:\n",
    "if planet_dic_1['01']['SNR']>mono_SNRthresh:\n",
    "\n",
    "    #Check if the Depth/Rp suggests we have a very likely EB, we search for a secondary\n",
    "    if planet_dic_1['01']['rp_rs']<PL_ror_thresh:\n",
    "        #Searching for other (periodic) planets in the system\n",
    "        planet_dic_2=SearchForOtherPlanets(lc, planet_dic_1['01'], SNRthresh=other_planet_SNRthresh)\n",
    "        if len(planet_dic_2)>1:\n",
    "            planet_dic_1['01']['flag']='multiplanet'\n",
    "        else:\n",
    "            planet_dic_1['01']['flag']='monoplanet'\n",
    "    else:\n",
    "        #Likely EB\n",
    "        planet_dic_1['01']['flag']='EB'\n",
    "#If other dips exist, we need to figure out if there are possible integer periods to search between:\n"
   ]
  },
  {
   "cell_type": "code",
   "execution_count": 216,
   "metadata": {},
   "outputs": [
    {
     "data": {
      "text/plain": [
       "-13.815510557964274"
      ]
     },
     "execution_count": 216,
     "metadata": {},
     "output_type": "execute_result"
    }
   ],
   "source": [
    "np.log(1e-6)"
   ]
  },
  {
   "cell_type": "code",
   "execution_count": 44,
   "metadata": {},
   "outputs": [
    {
     "data": {
      "text/plain": [
       "1.385134873710846"
      ]
     },
     "execution_count": 44,
     "metadata": {},
     "output_type": "execute_result"
    }
   ],
   "source": [
    "0.049182866521264135/0.035507637165686806"
   ]
  },
  {
   "cell_type": "code",
   "execution_count": 239,
   "metadata": {},
   "outputs": [
    {
     "data": {
      "text/plain": [
       "0.5401736500471113"
      ]
     },
     "execution_count": 239,
     "metadata": {},
     "output_type": "execute_result"
    }
   ],
   "source": [
    "planet_dic_1['01']['rp_rs']"
   ]
  },
  {
   "cell_type": "code",
   "execution_count": null,
   "metadata": {},
   "outputs": [],
   "source": []
  },
  {
   "cell_type": "code",
   "execution_count": null,
   "metadata": {},
   "outputs": [],
   "source": []
  },
  {
   "cell_type": "code",
   "execution_count": null,
   "metadata": {},
   "outputs": [],
   "source": []
  },
  {
   "cell_type": "code",
   "execution_count": null,
   "metadata": {},
   "outputs": [],
   "source": []
  },
  {
   "cell_type": "code",
   "execution_count": null,
   "metadata": {},
   "outputs": [],
   "source": []
  },
  {
   "cell_type": "code",
   "execution_count": 170,
   "metadata": {},
   "outputs": [
    {
     "data": {
      "text/plain": [
       "0.9470452202941357"
      ]
     },
     "execution_count": 170,
     "metadata": {},
     "output_type": "execute_result"
    }
   ],
   "source": [
    "np.clip(0.,-1*np.sqrt(1-0.32110021911862946**2),np.sqrt(1-0.32110021911862946**2))"
   ]
  },
  {
   "cell_type": "code",
   "execution_count": 250,
   "metadata": {},
   "outputs": [
    {
     "data": {
      "text/plain": [
       "{'01': {'period': 100,\n",
       "  'period_err': 100,\n",
       "  'SNR': 58.932344333913825,\n",
       "  'rp_rs': 0.5401736500471113,\n",
       "  'tcen': 2493.878826313259,\n",
       "  'tdur': 0.7605337264264902,\n",
       "  'orbit_flag': 'singlemono',\n",
       "  'flag': 'EB'}}"
      ]
     },
     "execution_count": 250,
     "metadata": {},
     "output_type": "execute_result"
    }
   ],
   "source": [
    "planet_dic_1"
   ]
  },
  {
   "cell_type": "code",
   "execution_count": 277,
   "metadata": {
    "scrolled": true
   },
   "outputs": [
    {
     "name": "stdout",
     "output_type": "stream",
     "text": [
      "depth: 0.15203668708787554\n",
      "{'mean': array(0.), 'r_star': array(4.326), 'm_star': array(1.87161488), 'u_star_quadlimbdark__': array([4.4408921e-16, 0.0000000e+00]), 'logP_interval__': array(0.40455982), 't0': array(2493.87882631), 'logror_interval__': array(0.93247505), 'b_impact__': array(-0.90615839), 'deltamag_contam_interval__': array(0.)}\n",
      "-0.1552204909032341\n",
      "{'mean': -0.00011350061815399995, 'r_star': 13.467525645038464, 'm_star': 10.860422102691212, 'u_star_quadlimbdark__': array([-1.71766159, 15.9134386 ]), 't0': 2493.8788263313477, 'b_impact__': 0.3488395796354571, 'u_star': array([ 0.78018607, -0.39009298]), 'logP': 4.043704262241543, 'logror': -0.615864206911819, 'r_pl': 7.274805467777368, 'b': 0.9030596208604553, 'period': 57.03723283629252, 'vrel': 1.1295165542462287, 'tdur': 0.7605292987448703, 'deltamag_contam': 14.18092546192532, 'third_light': 2.1369953188090653e-06, 'depth': 0.10778341036563889, 'std_oot': 0.011158619526688262, 'snr': 58.93144681715412}\n",
      "depth: 0.0033273764867535194 @ 2483.258413524796\n",
      "init_q: 10.106847124369443\n",
      "OUT: 241.2051627367121 [ 2.93853235e+00  9.59041318e-02  3.27741711e+00  6.29526574e-01\n",
      " -1.53044769e+00  2.49385634e+03  3.07584979e+00  2.24764537e+00\n",
      "  7.79540547e-02 -1.76324113e-01  5.44145467e-01]\n",
      "depth: 6.548660746563684e-06 @ 2493.739911046272\n",
      "init_q: 3.209077937296652\n",
      "OUT: 241.23216122998795 [ 2.38286807e+00  6.17848865e-01  6.32325216e-02  6.63110875e-01\n",
      " -7.70781772e-02  2.49387243e+03  6.81306863e+00  1.15764236e+00\n",
      "  6.89472102e-01  1.47067782e+00  5.06966537e-01]\n",
      "depth: 1.7976931348623157e+308 @ 2467.260155607677\n",
      "init_q: 9.44211068942135\n",
      "OUT: 1e+25 [ 2.72351974e+00  5.30716064e-01 -5.37618164e-01  6.37923512e-01\n",
      " -2.23570062e+00  2.49383302e+03 -1.37651809e+00  2.24517955e+00\n",
      "  1.70142407e-02  7.79772571e-02  2.40798255e-01]\n",
      "depth: 1.7976931348623157e+308 @ 2467.260155607677\n",
      "init_q: 5.024158729370966\n",
      "OUT: 1e+25 [ 8.93944395e-01  1.20841302e+00  3.14389059e+00  7.54780465e-01\n",
      " -1.04550083e+00  2.49391681e+03 -2.91391382e+00  1.61425802e+00\n",
      "  4.41976608e-03 -6.89297335e-01  5.11364847e-01]\n"
     ]
    }
   ],
   "source": [
    "import ellc\n",
    "#We then do an EB model here\n",
    "if planet_dic_1['01']['flag']=='EB':\n",
    "    #Minimising EB model with ELLC:\n",
    "    Ms=rhostar*Rstar[0]**3*np.array([1.0,np.hypot(rhostar[2]/rhostar[0],np.sqrt(3)*Rstar[1]/Rstar[0]),np.hypot(rhostar[1]/rhostar[0],np.sqrt(3)*Rstar[2]/Rstar[0])])\n",
    "    EBdic,allmodels=MonoSearch.minimize_EBmodel(lc, planet_dic_1['01'],Teff,Rstar,Ms,nrep=4,try_sec=True)\n",
    "    EBdic['ID']=ID\n",
    "    EBdic['mission']=mission\n"
   ]
  },
  {
   "cell_type": "code",
   "execution_count": 280,
   "metadata": {},
   "outputs": [
    {
     "name": "stdout",
     "output_type": "stream",
     "text": [
      "depth: 0.15203668708787554\n",
      "{'mean': array(0.), 'r_star': array(4.326), 'm_star': array(1.87161488), 'u_star_quadlimbdark__': array([4.4408921e-16, 0.0000000e+00]), 'logP_interval__': array(0.40455982), 't0': array(2493.87882631), 'logror_interval__': array(0.93247505), 'b_impact__': array(-0.90615839), 'deltamag_contam_interval__': array(0.)}\n"
     ]
    },
    {
     "ename": "TypeError",
     "evalue": "min() got an unexpected keyword argument 'out'",
     "output_type": "error",
     "traceback": [
      "\u001b[0;31m---------------------------------------------------------------------------\u001b[0m",
      "\u001b[0;31mTypeError\u001b[0m                                 Traceback (most recent call last)",
      "\u001b[0;32m<ipython-input-280-ab420eb563ae>\u001b[0m in \u001b[0;36m<module>\u001b[0;34m\u001b[0m\n\u001b[0;32m----> 1\u001b[0;31m \u001b[0mbestfit\u001b[0m\u001b[0;34m,\u001b[0m\u001b[0minterp\u001b[0m\u001b[0;34m=\u001b[0m\u001b[0mMonoSearch\u001b[0m\u001b[0;34m.\u001b[0m\u001b[0mQuickMonoFit\u001b[0m\u001b[0;34m(\u001b[0m\u001b[0mlc\u001b[0m\u001b[0;34m,\u001b[0m\u001b[0mplanet_dic_1\u001b[0m\u001b[0;34m[\u001b[0m\u001b[0;34m'01'\u001b[0m\u001b[0;34m]\u001b[0m\u001b[0;34m[\u001b[0m\u001b[0;34m'tcen'\u001b[0m\u001b[0;34m]\u001b[0m\u001b[0;34m,\u001b[0m\u001b[0mplanet_dic_1\u001b[0m\u001b[0;34m[\u001b[0m\u001b[0;34m'01'\u001b[0m\u001b[0;34m]\u001b[0m\u001b[0;34m[\u001b[0m\u001b[0;34m'tdur'\u001b[0m\u001b[0;34m]\u001b[0m\u001b[0;34m,\u001b[0m\u001b[0mRs\u001b[0m\u001b[0;34m=\u001b[0m\u001b[0mRstar\u001b[0m\u001b[0;34m[\u001b[0m\u001b[0;36m0\u001b[0m\u001b[0;34m]\u001b[0m\u001b[0;34m,\u001b[0m\u001b[0mMs\u001b[0m\u001b[0;34m=\u001b[0m\u001b[0mMs\u001b[0m\u001b[0;34m[\u001b[0m\u001b[0;36m0\u001b[0m\u001b[0;34m]\u001b[0m\u001b[0;34m,\u001b[0m\u001b[0museL2\u001b[0m\u001b[0;34m=\u001b[0m\u001b[0;32mTrue\u001b[0m\u001b[0;34m)\u001b[0m\u001b[0;34m\u001b[0m\u001b[0;34m\u001b[0m\u001b[0m\n\u001b[0m",
      "\u001b[0;32m~/Postdoc/NamastePymc3/MonoSearch.py\u001b[0m in \u001b[0;36mQuickMonoFit\u001b[0;34m(lc, t0, dur, Rs, Ms, useL2)\u001b[0m\n\u001b[1;32m    122\u001b[0m         '''\n\u001b[1;32m    123\u001b[0m     \u001b[0minterpy\u001b[0m\u001b[0;34m=\u001b[0m\u001b[0mmodel\u001b[0m\u001b[0;34m[\u001b[0m\u001b[0;34m'light_curves_zoom'\u001b[0m\u001b[0;34m]\u001b[0m\u001b[0;34m\u001b[0m\u001b[0;34m\u001b[0m\u001b[0m\n\u001b[0;32m--> 124\u001b[0;31m     \u001b[0mprint\u001b[0m\u001b[0;34m(\u001b[0m\u001b[0mnp\u001b[0m\u001b[0;34m.\u001b[0m\u001b[0mmin\u001b[0m\u001b[0;34m(\u001b[0m\u001b[0minterpy\u001b[0m\u001b[0;34m)\u001b[0m\u001b[0;34m)\u001b[0m\u001b[0;34m\u001b[0m\u001b[0;34m\u001b[0m\u001b[0m\n\u001b[0m\u001b[1;32m    125\u001b[0m \u001b[0;34m\u001b[0m\u001b[0m\n\u001b[1;32m    126\u001b[0m     \u001b[0;31m#Reconstructing best-fit model into a dict:\u001b[0m\u001b[0;34m\u001b[0m\u001b[0;34m\u001b[0m\u001b[0;34m\u001b[0m\u001b[0m\n",
      "\u001b[0;32m<__array_function__ internals>\u001b[0m in \u001b[0;36mamin\u001b[0;34m(*args, **kwargs)\u001b[0m\n",
      "\u001b[0;32m/Library/Python/3.7/site-packages/numpy/core/fromnumeric.py\u001b[0m in \u001b[0;36mamin\u001b[0;34m(a, axis, out, keepdims, initial, where)\u001b[0m\n\u001b[1;32m   2744\u001b[0m     \"\"\"\n\u001b[1;32m   2745\u001b[0m     return _wrapreduction(a, np.minimum, 'min', axis, None, out,\n\u001b[0;32m-> 2746\u001b[0;31m                           keepdims=keepdims, initial=initial, where=where)\n\u001b[0m\u001b[1;32m   2747\u001b[0m \u001b[0;34m\u001b[0m\u001b[0m\n\u001b[1;32m   2748\u001b[0m \u001b[0;34m\u001b[0m\u001b[0m\n",
      "\u001b[0;32m/Library/Python/3.7/site-packages/numpy/core/fromnumeric.py\u001b[0m in \u001b[0;36m_wrapreduction\u001b[0;34m(obj, ufunc, method, axis, dtype, out, **kwargs)\u001b[0m\n\u001b[1;32m     86\u001b[0m                 \u001b[0;32mreturn\u001b[0m \u001b[0mreduction\u001b[0m\u001b[0;34m(\u001b[0m\u001b[0maxis\u001b[0m\u001b[0;34m=\u001b[0m\u001b[0maxis\u001b[0m\u001b[0;34m,\u001b[0m \u001b[0mdtype\u001b[0m\u001b[0;34m=\u001b[0m\u001b[0mdtype\u001b[0m\u001b[0;34m,\u001b[0m \u001b[0mout\u001b[0m\u001b[0;34m=\u001b[0m\u001b[0mout\u001b[0m\u001b[0;34m,\u001b[0m \u001b[0;34m**\u001b[0m\u001b[0mpasskwargs\u001b[0m\u001b[0;34m)\u001b[0m\u001b[0;34m\u001b[0m\u001b[0;34m\u001b[0m\u001b[0m\n\u001b[1;32m     87\u001b[0m             \u001b[0;32melse\u001b[0m\u001b[0;34m:\u001b[0m\u001b[0;34m\u001b[0m\u001b[0;34m\u001b[0m\u001b[0m\n\u001b[0;32m---> 88\u001b[0;31m                 \u001b[0;32mreturn\u001b[0m \u001b[0mreduction\u001b[0m\u001b[0;34m(\u001b[0m\u001b[0maxis\u001b[0m\u001b[0;34m=\u001b[0m\u001b[0maxis\u001b[0m\u001b[0;34m,\u001b[0m \u001b[0mout\u001b[0m\u001b[0;34m=\u001b[0m\u001b[0mout\u001b[0m\u001b[0;34m,\u001b[0m \u001b[0;34m**\u001b[0m\u001b[0mpasskwargs\u001b[0m\u001b[0;34m)\u001b[0m\u001b[0;34m\u001b[0m\u001b[0;34m\u001b[0m\u001b[0m\n\u001b[0m\u001b[1;32m     89\u001b[0m \u001b[0;34m\u001b[0m\u001b[0m\n\u001b[1;32m     90\u001b[0m     \u001b[0;32mreturn\u001b[0m \u001b[0mufunc\u001b[0m\u001b[0;34m.\u001b[0m\u001b[0mreduce\u001b[0m\u001b[0;34m(\u001b[0m\u001b[0mobj\u001b[0m\u001b[0;34m,\u001b[0m \u001b[0maxis\u001b[0m\u001b[0;34m,\u001b[0m \u001b[0mdtype\u001b[0m\u001b[0;34m,\u001b[0m \u001b[0mout\u001b[0m\u001b[0;34m,\u001b[0m \u001b[0;34m**\u001b[0m\u001b[0mpasskwargs\u001b[0m\u001b[0;34m)\u001b[0m\u001b[0;34m\u001b[0m\u001b[0;34m\u001b[0m\u001b[0m\n",
      "\u001b[0;31mTypeError\u001b[0m: min() got an unexpected keyword argument 'out'"
     ]
    }
   ],
   "source": [
    "bestfit,interp=MonoSearch.QuickMonoFit(lc,planet_dic_1['01']['tcen'],planet_dic_1['01']['tdur'],Rs=Rstar[0],Ms=Ms[0],useL2=True)\n"
   ]
  },
  {
   "cell_type": "code",
   "execution_count": 288,
   "metadata": {},
   "outputs": [
    {
     "name": "stdout",
     "output_type": "stream",
     "text": [
      "depth: 0.15203776063403635\n",
      "{'mean': array(0.), 'r_star': array(4.326), 'm_star': array(1.87161488), 'u_star_quadlimbdark__': array([4.4408921e-16, 0.0000000e+00]), 'logP_interval__': array(2.24621675), 't0': array(2493.81142), 'logror_interval__': array(0.93247847), 'b_impact__': array(-0.90615978), 'deltamag_contam_interval__': array(0.)}\n"
     ]
    }
   ],
   "source": [
    "import pymc3 as pm\n",
    "import theano.tensor as tt\n",
    "import exoplanet as xo\n",
    "t0=tcen;dur=tdur\n",
    "Rs=Rstar[0];useL2=True\n",
    "# Performs simple planet fit to monotransit dip given the detection data.\n",
    "\n",
    "#Initial depth estimate:\n",
    "dep=abs(np.median(lc['flux'][(abs(lc['time']-t0)>0.65*dur)*(abs(lc['time']-t0)<2*dur)])-np.median(lc['flux'][abs(lc['time']-t0)<0.25*dur]))\n",
    "print(\"depth:\",dep)\n",
    "\n",
    "if 'flux_flat' not in lc:\n",
    "    lc=lcFlatten(lc,winsize=9*dur,stepsize=0.1*dur)\n",
    "\n",
    "lc['flux_flat']-=np.nanmedian(lc['flux_flat'])\n",
    "\n",
    "interpt=np.linspace(float(t0)-float(dur),float(t0)+float(dur),200)\n",
    "\n",
    "with pm.Model() as model:\n",
    "    # Parameters for the stellar properties\n",
    "    mean = pm.Normal(\"mean\", mu=0.0, sd=10.0)\n",
    "    if Rs is not None and not np.isnan(Rs):\n",
    "        r_star = pm.Normal(\"r_star\",mu=Rs,sd=0.25*Rs,testval=Rs)\n",
    "    else:\n",
    "        r_star = pm.Uniform(\"r_star\",lower=0.1,upper=5,testval=1.0)\n",
    "    if Ms is not None and not np.isnan(Ms):\n",
    "        m_star = pm.Normal(\"m_star\",mu=Ms,sd=0.25*Ms,testval=Ms)\n",
    "    else:\n",
    "        m_star = pm.Uniform(\"m_star\",lower=0.1,upper=3,testval=1.0)\n",
    "    u_star = xo.distributions.QuadLimbDark(\"u_star\")\n",
    "\n",
    "    init_per = 18226*((2*np.sqrt((1+dep**0.5)**2-0.41**2))/dur)**-3\n",
    "\n",
    "    # Orbital parameters for the planets\n",
    "    logP = pm.Uniform(\"logP\", lower=np.log(dur*5),upper=np.log(10000), testval=np.log(init_per))\n",
    "    t0 = pm.Normal(\"t0\", mu=t0, sd=dur*0.66)\n",
    "    logror = pm.Uniform(\"logror\",upper=0.5,lower=np.log(0.01),testval=0.5*np.log(dep))\n",
    "\n",
    "    r_pl = pm.Deterministic(\"r_pl\", tt.exp(logror)*r_star)\n",
    "    b = xo.distributions.ImpactParameter(\"b\", ror=tt.exp(logror),testval=0.4)\n",
    "\n",
    "    period = pm.Deterministic(\"period\", tt.exp(logP))\n",
    "\n",
    "    # Orbit model\n",
    "    orbit = xo.orbits.KeplerianOrbit(r_star=r_star,m_star=m_star,period=period,t0=t0,b=b)\n",
    "\n",
    "    vx, vy, vz = orbit.get_relative_velocity(t0)\n",
    "    vrel=pm.Deterministic(\"vrel\",tt.sqrt(vx**2 + vy**2)/r_star)\n",
    "    tdur=pm.Deterministic(\"tdur\",(2*tt.sqrt(1-b**2))/vrel)\n",
    "\n",
    "    # The 2nd light (not third light as companion light is not modelled) \n",
    "    # This quantity is in delta-mag\n",
    "    if useL2:\n",
    "        deltamag_contam = pm.Uniform(\"deltamag_contam\", lower=-20.0, upper=20.0)\n",
    "        third_light = pm.Deterministic(\"third_light\", tt.power(2.511,-1*deltamag_contam))#Factor to multiply normalised lightcurve by\n",
    "    else:\n",
    "        third_light=0.0\n",
    "\n",
    "    # Compute the model light curve using starry\n",
    "    light_curves = (\n",
    "        xo.LimbDarkLightCurve(u_star).get_light_curve(\n",
    "            orbit=orbit, r=r_pl, t=lc['time'][lc['mask']].astype(float)))*(1+third_light)\n",
    "    light_curve = pm.math.sum(light_curves, axis=-1) + mean\n",
    "    light_curves_zoom = (\n",
    "        xo.LimbDarkLightCurve(u_star).get_light_curve(\n",
    "            orbit=orbit, r=r_pl, t=interpt))*(1+third_light)\n",
    "    light_curve_zoom = pm.math.sum(light_curves_zoom, axis=-1) + mean\n",
    "\n",
    "    pm.Deterministic(\"light_curves\", light_curves)\n",
    "    pm.Deterministic(\"light_curves_zoom\", light_curves_zoom)\n",
    "\n",
    "    pm.Normal(\"obs\", mu=light_curve, sd=lc['flux_err'][lc['mask']], observed=lc['flux_flat'][lc['mask']])\n",
    "\n",
    "    # Fit for the maximum a posteriori parameters\n",
    "    print(model.test_point)\n",
    "    map_soln = xo.optimize(start=model.test_point,vars=[b,logP],verbose=False)\n",
    "    map_soln = xo.optimize(start=map_soln,vars=[t0,logror, b],verbose=False)\n",
    "    map_soln = xo.optimize(start=map_soln,vars=[r_star, u_star,mean,m_star],verbose=False)\n",
    "    map_soln = xo.optimize(start=map_soln,verbose=False)\n",
    "    "
   ]
  },
  {
   "cell_type": "code",
   "execution_count": 298,
   "metadata": {},
   "outputs": [
    {
     "data": {
      "text/plain": [
       "(200, 2735)"
      ]
     },
     "execution_count": 298,
     "metadata": {},
     "output_type": "execute_result"
    }
   ],
   "source": [
    "len(interpt),len(map_soln['light_curves_zoom'].ravel())"
   ]
  },
  {
   "cell_type": "code",
   "execution_count": null,
   "metadata": {},
   "outputs": [],
   "source": []
  },
  {
   "cell_type": "code",
   "execution_count": 297,
   "metadata": {},
   "outputs": [
    {
     "ename": "ValueError",
     "evalue": "x and y must have same first dimension, but have shapes (200,) and (2735,)",
     "output_type": "error",
     "traceback": [
      "\u001b[0;31m---------------------------------------------------------------------------\u001b[0m",
      "\u001b[0;31mValueError\u001b[0m                                Traceback (most recent call last)",
      "\u001b[0;32m<ipython-input-297-8514e1d3e2fa>\u001b[0m in \u001b[0;36m<module>\u001b[0;34m\u001b[0m\n\u001b[0;32m----> 1\u001b[0;31m \u001b[0mplt\u001b[0m\u001b[0;34m.\u001b[0m\u001b[0mplot\u001b[0m\u001b[0;34m(\u001b[0m\u001b[0minterpt\u001b[0m\u001b[0;34m,\u001b[0m\u001b[0mmap_soln\u001b[0m\u001b[0;34m[\u001b[0m\u001b[0;34m'light_curves_zoom'\u001b[0m\u001b[0;34m]\u001b[0m\u001b[0;34m.\u001b[0m\u001b[0mravel\u001b[0m\u001b[0;34m(\u001b[0m\u001b[0;34m)\u001b[0m\u001b[0;34m)\u001b[0m\u001b[0;34m\u001b[0m\u001b[0;34m\u001b[0m\u001b[0m\n\u001b[0m\u001b[1;32m      2\u001b[0m \u001b[0mplt\u001b[0m\u001b[0;34m.\u001b[0m\u001b[0mplot\u001b[0m\u001b[0;34m(\u001b[0m\u001b[0mlc\u001b[0m\u001b[0;34m[\u001b[0m\u001b[0;34m'time'\u001b[0m\u001b[0;34m]\u001b[0m\u001b[0;34m[\u001b[0m\u001b[0mlc\u001b[0m\u001b[0;34m[\u001b[0m\u001b[0;34m'mask'\u001b[0m\u001b[0;34m]\u001b[0m\u001b[0;34m]\u001b[0m\u001b[0;34m,\u001b[0m\u001b[0mlc\u001b[0m\u001b[0;34m[\u001b[0m\u001b[0;34m'flux_flat'\u001b[0m\u001b[0;34m]\u001b[0m\u001b[0;34m[\u001b[0m\u001b[0mlc\u001b[0m\u001b[0;34m[\u001b[0m\u001b[0;34m'mask'\u001b[0m\u001b[0;34m]\u001b[0m\u001b[0;34m]\u001b[0m\u001b[0;34m,\u001b[0m\u001b[0;34m'.'\u001b[0m\u001b[0;34m)\u001b[0m\u001b[0;34m\u001b[0m\u001b[0;34m\u001b[0m\u001b[0m\n",
      "\u001b[0;32m/Library/Python/3.7/site-packages/matplotlib/pyplot.py\u001b[0m in \u001b[0;36mplot\u001b[0;34m(scalex, scaley, data, *args, **kwargs)\u001b[0m\n\u001b[1;32m   2787\u001b[0m     return gca().plot(\n\u001b[1;32m   2788\u001b[0m         *args, scalex=scalex, scaley=scaley, **({\"data\": data} if data\n\u001b[0;32m-> 2789\u001b[0;31m         is not None else {}), **kwargs)\n\u001b[0m\u001b[1;32m   2790\u001b[0m \u001b[0;34m\u001b[0m\u001b[0m\n\u001b[1;32m   2791\u001b[0m \u001b[0;34m\u001b[0m\u001b[0m\n",
      "\u001b[0;32m/Library/Python/3.7/site-packages/matplotlib/axes/_axes.py\u001b[0m in \u001b[0;36mplot\u001b[0;34m(self, scalex, scaley, data, *args, **kwargs)\u001b[0m\n\u001b[1;32m   1663\u001b[0m         \"\"\"\n\u001b[1;32m   1664\u001b[0m         \u001b[0mkwargs\u001b[0m \u001b[0;34m=\u001b[0m \u001b[0mcbook\u001b[0m\u001b[0;34m.\u001b[0m\u001b[0mnormalize_kwargs\u001b[0m\u001b[0;34m(\u001b[0m\u001b[0mkwargs\u001b[0m\u001b[0;34m,\u001b[0m \u001b[0mmlines\u001b[0m\u001b[0;34m.\u001b[0m\u001b[0mLine2D\u001b[0m\u001b[0;34m.\u001b[0m\u001b[0m_alias_map\u001b[0m\u001b[0;34m)\u001b[0m\u001b[0;34m\u001b[0m\u001b[0;34m\u001b[0m\u001b[0m\n\u001b[0;32m-> 1665\u001b[0;31m         \u001b[0mlines\u001b[0m \u001b[0;34m=\u001b[0m \u001b[0;34m[\u001b[0m\u001b[0;34m*\u001b[0m\u001b[0mself\u001b[0m\u001b[0;34m.\u001b[0m\u001b[0m_get_lines\u001b[0m\u001b[0;34m(\u001b[0m\u001b[0;34m*\u001b[0m\u001b[0margs\u001b[0m\u001b[0;34m,\u001b[0m \u001b[0mdata\u001b[0m\u001b[0;34m=\u001b[0m\u001b[0mdata\u001b[0m\u001b[0;34m,\u001b[0m \u001b[0;34m**\u001b[0m\u001b[0mkwargs\u001b[0m\u001b[0;34m)\u001b[0m\u001b[0;34m]\u001b[0m\u001b[0;34m\u001b[0m\u001b[0;34m\u001b[0m\u001b[0m\n\u001b[0m\u001b[1;32m   1666\u001b[0m         \u001b[0;32mfor\u001b[0m \u001b[0mline\u001b[0m \u001b[0;32min\u001b[0m \u001b[0mlines\u001b[0m\u001b[0;34m:\u001b[0m\u001b[0;34m\u001b[0m\u001b[0;34m\u001b[0m\u001b[0m\n\u001b[1;32m   1667\u001b[0m             \u001b[0mself\u001b[0m\u001b[0;34m.\u001b[0m\u001b[0madd_line\u001b[0m\u001b[0;34m(\u001b[0m\u001b[0mline\u001b[0m\u001b[0;34m)\u001b[0m\u001b[0;34m\u001b[0m\u001b[0;34m\u001b[0m\u001b[0m\n",
      "\u001b[0;32m/Library/Python/3.7/site-packages/matplotlib/axes/_base.py\u001b[0m in \u001b[0;36m__call__\u001b[0;34m(self, *args, **kwargs)\u001b[0m\n\u001b[1;32m    223\u001b[0m                 \u001b[0mthis\u001b[0m \u001b[0;34m+=\u001b[0m \u001b[0margs\u001b[0m\u001b[0;34m[\u001b[0m\u001b[0;36m0\u001b[0m\u001b[0;34m]\u001b[0m\u001b[0;34m,\u001b[0m\u001b[0;34m\u001b[0m\u001b[0;34m\u001b[0m\u001b[0m\n\u001b[1;32m    224\u001b[0m                 \u001b[0margs\u001b[0m \u001b[0;34m=\u001b[0m \u001b[0margs\u001b[0m\u001b[0;34m[\u001b[0m\u001b[0;36m1\u001b[0m\u001b[0;34m:\u001b[0m\u001b[0;34m]\u001b[0m\u001b[0;34m\u001b[0m\u001b[0;34m\u001b[0m\u001b[0m\n\u001b[0;32m--> 225\u001b[0;31m             \u001b[0;32myield\u001b[0m \u001b[0;32mfrom\u001b[0m \u001b[0mself\u001b[0m\u001b[0;34m.\u001b[0m\u001b[0m_plot_args\u001b[0m\u001b[0;34m(\u001b[0m\u001b[0mthis\u001b[0m\u001b[0;34m,\u001b[0m \u001b[0mkwargs\u001b[0m\u001b[0;34m)\u001b[0m\u001b[0;34m\u001b[0m\u001b[0;34m\u001b[0m\u001b[0m\n\u001b[0m\u001b[1;32m    226\u001b[0m \u001b[0;34m\u001b[0m\u001b[0m\n\u001b[1;32m    227\u001b[0m     \u001b[0;32mdef\u001b[0m \u001b[0mget_next_color\u001b[0m\u001b[0;34m(\u001b[0m\u001b[0mself\u001b[0m\u001b[0;34m)\u001b[0m\u001b[0;34m:\u001b[0m\u001b[0;34m\u001b[0m\u001b[0;34m\u001b[0m\u001b[0m\n",
      "\u001b[0;32m/Library/Python/3.7/site-packages/matplotlib/axes/_base.py\u001b[0m in \u001b[0;36m_plot_args\u001b[0;34m(self, tup, kwargs)\u001b[0m\n\u001b[1;32m    389\u001b[0m             \u001b[0mx\u001b[0m\u001b[0;34m,\u001b[0m \u001b[0my\u001b[0m \u001b[0;34m=\u001b[0m \u001b[0mindex_of\u001b[0m\u001b[0;34m(\u001b[0m\u001b[0mtup\u001b[0m\u001b[0;34m[\u001b[0m\u001b[0;34m-\u001b[0m\u001b[0;36m1\u001b[0m\u001b[0;34m]\u001b[0m\u001b[0;34m)\u001b[0m\u001b[0;34m\u001b[0m\u001b[0;34m\u001b[0m\u001b[0m\n\u001b[1;32m    390\u001b[0m \u001b[0;34m\u001b[0m\u001b[0m\n\u001b[0;32m--> 391\u001b[0;31m         \u001b[0mx\u001b[0m\u001b[0;34m,\u001b[0m \u001b[0my\u001b[0m \u001b[0;34m=\u001b[0m \u001b[0mself\u001b[0m\u001b[0;34m.\u001b[0m\u001b[0m_xy_from_xy\u001b[0m\u001b[0;34m(\u001b[0m\u001b[0mx\u001b[0m\u001b[0;34m,\u001b[0m \u001b[0my\u001b[0m\u001b[0;34m)\u001b[0m\u001b[0;34m\u001b[0m\u001b[0;34m\u001b[0m\u001b[0m\n\u001b[0m\u001b[1;32m    392\u001b[0m \u001b[0;34m\u001b[0m\u001b[0m\n\u001b[1;32m    393\u001b[0m         \u001b[0;32mif\u001b[0m \u001b[0mself\u001b[0m\u001b[0;34m.\u001b[0m\u001b[0mcommand\u001b[0m \u001b[0;34m==\u001b[0m \u001b[0;34m'plot'\u001b[0m\u001b[0;34m:\u001b[0m\u001b[0;34m\u001b[0m\u001b[0;34m\u001b[0m\u001b[0m\n",
      "\u001b[0;32m/Library/Python/3.7/site-packages/matplotlib/axes/_base.py\u001b[0m in \u001b[0;36m_xy_from_xy\u001b[0;34m(self, x, y)\u001b[0m\n\u001b[1;32m    268\u001b[0m         \u001b[0;32mif\u001b[0m \u001b[0mx\u001b[0m\u001b[0;34m.\u001b[0m\u001b[0mshape\u001b[0m\u001b[0;34m[\u001b[0m\u001b[0;36m0\u001b[0m\u001b[0;34m]\u001b[0m \u001b[0;34m!=\u001b[0m \u001b[0my\u001b[0m\u001b[0;34m.\u001b[0m\u001b[0mshape\u001b[0m\u001b[0;34m[\u001b[0m\u001b[0;36m0\u001b[0m\u001b[0;34m]\u001b[0m\u001b[0;34m:\u001b[0m\u001b[0;34m\u001b[0m\u001b[0;34m\u001b[0m\u001b[0m\n\u001b[1;32m    269\u001b[0m             raise ValueError(\"x and y must have same first dimension, but \"\n\u001b[0;32m--> 270\u001b[0;31m                              \"have shapes {} and {}\".format(x.shape, y.shape))\n\u001b[0m\u001b[1;32m    271\u001b[0m         \u001b[0;32mif\u001b[0m \u001b[0mx\u001b[0m\u001b[0;34m.\u001b[0m\u001b[0mndim\u001b[0m \u001b[0;34m>\u001b[0m \u001b[0;36m2\u001b[0m \u001b[0;32mor\u001b[0m \u001b[0my\u001b[0m\u001b[0;34m.\u001b[0m\u001b[0mndim\u001b[0m \u001b[0;34m>\u001b[0m \u001b[0;36m2\u001b[0m\u001b[0;34m:\u001b[0m\u001b[0;34m\u001b[0m\u001b[0;34m\u001b[0m\u001b[0m\n\u001b[1;32m    272\u001b[0m             raise ValueError(\"x and y can be no greater than 2-D, but have \"\n",
      "\u001b[0;31mValueError\u001b[0m: x and y must have same first dimension, but have shapes (200,) and (2735,)"
     ]
    },
    {
     "data": {
      "image/png": "[encoded data removed]",
      "text/plain": [
       "<Figure size 432x288 with 1 Axes>"
      ]
     },
     "metadata": {
      "needs_background": "light"
     },
     "output_type": "display_data"
    }
   ],
   "source": [
    "plt.plot(interpt,map_soln['light_curves_zoom'].ravel())\n",
    "plt.plot(lc['time'][lc['mask']],lc['flux_flat'][lc['mask']],'.')"
   ]
  },
  {
   "cell_type": "code",
   "execution_count": null,
   "metadata": {},
   "outputs": [],
   "source": []
  },
  {
   "cell_type": "code",
   "execution_count": null,
   "metadata": {},
   "outputs": [],
   "source": []
  },
  {
   "cell_type": "code",
   "execution_count": null,
   "metadata": {},
   "outputs": [],
   "source": []
  },
  {
   "cell_type": "code",
   "execution_count": null,
   "metadata": {},
   "outputs": [],
   "source": []
  },
  {
   "cell_type": "code",
   "execution_count": null,
   "metadata": {},
   "outputs": [],
   "source": []
  },
  {
   "cell_type": "code",
   "execution_count": null,
   "metadata": {},
   "outputs": [],
   "source": []
  },
  {
   "cell_type": "code",
   "execution_count": null,
   "metadata": {},
   "outputs": [],
   "source": []
  },
  {
   "cell_type": "code",
   "execution_count": null,
   "metadata": {},
   "outputs": [],
   "source": []
  },
  {
   "cell_type": "code",
   "execution_count": null,
   "metadata": {},
   "outputs": [],
   "source": []
  },
  {
   "cell_type": "code",
   "execution_count": null,
   "metadata": {},
   "outputs": [],
   "source": []
  },
  {
   "cell_type": "code",
   "execution_count": 286,
   "metadata": {},
   "outputs": [
    {
     "data": {
      "text/plain": [
       "1.8716148753912965"
      ]
     },
     "execution_count": 286,
     "metadata": {},
     "output_type": "execute_result"
    }
   ],
   "source": [
    "Ms"
   ]
  },
  {
   "cell_type": "code",
   "execution_count": null,
   "metadata": {},
   "outputs": [],
   "source": []
  },
  {
   "cell_type": "code",
   "execution_count": null,
   "metadata": {},
   "outputs": [],
   "source": []
  },
  {
   "cell_type": "code",
   "execution_count": 273,
   "metadata": {},
   "outputs": [
    {
     "data": {
      "text/plain": [
       "(2488.878826313259, 2498.878826313259)"
      ]
     },
     "execution_count": 273,
     "metadata": {},
     "output_type": "execute_result"
    },
    {
     "data": {
      "image/png": "[encoded data removed]",
      "text/plain": [
       "<Figure size 432x288 with 1 Axes>"
      ]
     },
     "metadata": {
      "needs_background": "light"
     },
     "output_type": "display_data"
    }
   ],
   "source": [
    "plt.plot(np.arange(planet_dic_1['01']['tcen']-5,planet_dic_1['01']['tcen']+5,0.1),interp(np.arange(-5,5,0.1)))\n",
    "plt.plot(lc['time'][lc['mask']],lc['flux_flat'][lc['mask']],'.')\n",
    "plt.xlim(planet_dic_1['01']['tcen']-5,planet_dic_1['01']['tcen']+5)"
   ]
  },
  {
   "cell_type": "code",
   "execution_count": 274,
   "metadata": {},
   "outputs": [
    {
     "data": {
      "text/plain": [
       "{'mean': -0.00011215302291144875,\n",
       " 'r_star': 6.839666837186901,\n",
       " 'm_star': 38.88309923999645,\n",
       " 'u_star_quadlimbdark__': array([-126.13392332, -154.69319601]),\n",
       " 't0': 2493.868796923876,\n",
       " 'b_impact__': -17.494071968031374,\n",
       " 'u_star': array([5.35790663e-95, 4.07724266e-28]),\n",
       " 'logP': 6.478516732019223,\n",
       " 'logror': -0.3113477270812677,\n",
       " 'r_pl': 5.009776460072416,\n",
       " 'b': 4.376068049301807e-08,\n",
       " 'period': 651.004615483097,\n",
       " 'vrel': 1.5111525681453462,\n",
       " 'tdur': 1.323493101993414,\n",
       " 'deltamag_contam': -1.001349451764078,\n",
       " 'third_light': 0.28456613112505663,\n",
       " 'depth': 1.8853135591219126,\n",
       " 'std_oot': 0.0011981331094806755,\n",
       " 'snr': 12664.470592800752}"
      ]
     },
     "execution_count": 274,
     "metadata": {},
     "output_type": "execute_result"
    }
   ],
   "source": [
    "bestfit"
   ]
  },
  {
   "cell_type": "code",
   "execution_count": null,
   "metadata": {},
   "outputs": [],
   "source": []
  },
  {
   "cell_type": "code",
   "execution_count": 257,
   "metadata": {},
   "outputs": [
    {
     "data": {
      "text/plain": [
       "{'mean': -0.00011350062489374651,\n",
       " 'r_star': 6.206233077301302,\n",
       " 'm_star': 1.0628403136199545,\n",
       " 'u_star_quadlimbdark__': array([-1.71765917, 15.9134314 ]),\n",
       " 't0': 2493.878826313259,\n",
       " 'b_impact__': 0.34883653364344547,\n",
       " 'u_star': array([ 0.78018687, -0.39009338]),\n",
       " 'logP': 4.04370426818295,\n",
       " 'logror': -0.6158646169563884,\n",
       " 'r_pl': 3.35244357440896,\n",
       " 'b': 0.9030583531193348,\n",
       " 'period': 57.0372331751739,\n",
       " 'vrel': 1.129516987776426,\n",
       " 'tdur': 0.7605337264264902,\n",
       " 'depth': 0.10778473813778178,\n",
       " 'std_oot': 0.011158619526688262,\n",
       " 'snr': 58.932344333913825}"
      ]
     },
     "execution_count": 257,
     "metadata": {},
     "output_type": "execute_result"
    }
   ],
   "source": [
    "monoparams"
   ]
  },
  {
   "cell_type": "code",
   "execution_count": 278,
   "metadata": {},
   "outputs": [
    {
     "data": {
      "text/plain": [
       "{'EBmodel': array([1., 1., 1., ..., 1., 1., 1.]),\n",
       " 'final_pars': array([ 5.57801571e+00,  5.12853338e+00,  1.11442585e+00,  8.84492419e-01,\n",
       "        -1.59672092e+00,  2.49359332e+03,  7.45337389e+00,  1.06530428e+00,\n",
       "         3.43767799e-01, -3.41505325e-01,  9.14704240e-01]),\n",
       " 'final_lnprior': -0.12437963228644146,\n",
       " 'final_lnprob': -1247.049972511597,\n",
       " 'R_1': 5.5780157105454755,\n",
       " 'R_2': 28.60703978263792,\n",
       " 'R2_R1': 168.76941635869042,\n",
       " 'sbratio': 3.0478177740243013,\n",
       " 'light_3': 0.20255963960686058,\n",
       " 'ldc_1': 0.9147042395141161,\n",
       " 'sma': (813105530730.9224,),\n",
       " 'sma_R1': array([209.58975389]),\n",
       " 'ecc': 0.3437677988192893,\n",
       " 'omega': -0.34150532465133,\n",
       " 'b': 0.8844924190411881,\n",
       " 'incl': array([90.]),\n",
       " 'tcen': 2493.5933203820905,\n",
       " 'period': 1725.6755754672627,\n",
       " 'M_1': 1.8716148753912965,\n",
       " 'M_2': 5.4309056658799895,\n",
       " 'q': 2.9017217897162504,\n",
       " 'T_1': 9210.0,\n",
       " 'T_2': 12169.05571669201,\n",
       " 'init_pars': array([2.33679217e+00, 6.15864207e-01, 1.00000000e+00, 2.50000000e-01,\n",
       "        2.13699532e-06, 2.49387883e+03, 4.04370426e+00, 2.00000000e+00,\n",
       "        0.00000000e+00, 0.00000000e+00, 5.00000000e-01]),\n",
       " 'uniform_priors': array([['R1', 'Gaussian', '2.336792168292545', '2.336792168292545'],\n",
       "        ['log_R2_R1', 'Uniform', '3', '3'],\n",
       "        ['log_sbratio', 'Uniform', '5', '5'],\n",
       "        ['b', 'Uniform', '0', '2'],\n",
       "        ['log_light_3', 'Uniform', '-3.5', '3.5'],\n",
       "        ['t_zero', 'Gaussian', '2493.8788263313477',\n",
       "         '0.38026464937243515'],\n",
       "        ['log_period', 'Uniform', '4.024752159829616', '15'],\n",
       "        ['log_q', 'Uniform', '2', '2'],\n",
       "        ['ecc', 'Uniform', '0.5', '0.5'],\n",
       "        ['omega', 'Uniform', '0.0', '3.141592653589793'],\n",
       "        ['ldc_1', 'Uniform', '0.5', '0.5']], dtype='<U19'),\n",
       " 'init_lnprior': -1000.0012211405551,\n",
       " 'init_prob': -1376.999944838585,\n",
       " 'ID': 215067200,\n",
       " 'mission': 'K2'}"
      ]
     },
     "execution_count": 278,
     "metadata": {},
     "output_type": "execute_result"
    },
    {
     "data": {
      "image/png": "[encoded data removed]",
      "text/plain": [
       "<Figure size 1080x360 with 1 Axes>"
      ]
     },
     "metadata": {
      "needs_background": "light"
     },
     "output_type": "display_data"
    }
   ],
   "source": [
    "plt.figure(figsize=(15,5))\n",
    "\n",
    "for mod in allmodels:\n",
    "    if np.all(mod>-1e10):\n",
    "        plt.plot(lc['time'],mod)\n",
    "        \n",
    "plt.plot(lc['time'],EBdic['EBmodel'])\n",
    "plt.plot(lc['time'][lc['mask']],1.0+lc['flux_flat'][lc['mask']],'.')\n",
    "plt.xlim(2470, 2510)\n",
    "plt.ylim(0.8, 1.002)\n",
    "EBdic"
   ]
  },
  {
   "cell_type": "code",
   "execution_count": null,
   "metadata": {},
   "outputs": [],
   "source": []
  },
  {
   "cell_type": "code",
   "execution_count": null,
   "metadata": {},
   "outputs": [],
   "source": []
  },
  {
   "cell_type": "code",
   "execution_count": null,
   "metadata": {},
   "outputs": [],
   "source": []
  },
  {
   "cell_type": "code",
   "execution_count": null,
   "metadata": {},
   "outputs": [],
   "source": []
  },
  {
   "cell_type": "code",
   "execution_count": 124,
   "metadata": {},
   "outputs": [
    {
     "data": {
      "text/plain": [
       "[<matplotlib.lines.Line2D at 0x13b863278>]"
      ]
     },
     "execution_count": 124,
     "metadata": {},
     "output_type": "execute_result"
    },
    {
     "data": {
      "image/png": "[encoded data removed]",
      "text/plain": [
       "<Figure size 432x288 with 1 Axes>"
      ]
     },
     "metadata": {
      "needs_background": "light"
     },
     "output_type": "display_data"
    }
   ],
   "source": [
    "out=ellc.lc(np.arange(2480,2500,0.001),radius_1=0.1299149350812391,radius_2=0.15569361003783108 , \n",
    "            sbratio=0.29562236552172677, incl=87.45157449636355,\n",
    "            light_3= 0.0009694501961028559, t_zero=2493.883440487077,period=3433.1434111032277,\n",
    "            a=36.67049509557603,q=0.6175595353594352,f_c=-0.7,f_s=-0.4,\n",
    "            ldc_1=0.6889515838352335,verbose=1)\n",
    "\n",
    "plt.plot(out)"
   ]
  },
  {
   "cell_type": "code",
   "execution_count": 130,
   "metadata": {},
   "outputs": [
    {
     "data": {
      "text/plain": [
       "{'EBmodel': array([0.69454301, 0.69406964, 0.69359623, ..., 1.        , 1.        ,\n",
       "        1.        ]),\n",
       " 'final_pars': array([ 6.06857306e+00,  2.24601855e-01, -8.90592984e+00,  2.70042056e-01,\n",
       "        -1.60280771e+01,  2.49386134e+03,  6.36436118e+00,  3.57394728e+00,\n",
       "        -1.64086646e+00,  2.49091670e-01, -3.22753727e-01, -4.33748666e+00]),\n",
       " 'final_lnprior': 20226.957908457185,\n",
       " 'final_lnprob': -37162692915708.7,\n",
       " 'R_1': 6.068573062656523,\n",
       " 'R_2': 1.3630127685211406,\n",
       " 'R2_R1': 0.22460185523818685,\n",
       " 'sbratio': 0.0001355825551569485,\n",
       " 'light_3': 1.0941946095789872e-07,\n",
       " 'ldc_1': -4.337486655097781,\n",
       " 'sma': 35.65706411732349,\n",
       " 'ecc': 0.16621662831678108,\n",
       " 'omega': 0.657289000502112,\n",
       " 'b': 0.27004205590654395,\n",
       " 'incl': 89.56607706261174,\n",
       " 'tcen': 2493.8613374714637,\n",
       " 'period': 580.7736974409262,\n",
       " 'M_1': 1.8716148753912965,\n",
       " 'M_2': 0.3627414938771455,\n",
       " 'q': 0.19381203828127702,\n",
       " 'T_1': 9210.0,\n",
       " 'T_2': 993.8265249518715,\n",
       " 'init_pars': array([ 4.32600000e+00, -6.15864617e-01, -5.00000000e-01, -1.50000000e+00,\n",
       "        -5.00000000e+00,  2.49387883e+03,  4.71789934e+00,  5.24862761e+00,\n",
       "        -2.00000000e+00,  0.00000000e+00,  0.00000000e+00,  5.00000000e-01]),\n",
       " 'uniform_priors': array([[ 3.80900000e+00,  4.84300000e+00],\n",
       "        [-5.00000000e+00, -1.25000000e-01],\n",
       "        [-1.38155106e+01,  0.00000000e+00],\n",
       "        [-1.50000000e+00,  1.50000000e+00],\n",
       "        [-2.07232658e+01,  0.00000000e+00],\n",
       "        [ 2.49349856e+03,  2.49425909e+03],\n",
       "        [ 4.02475216e+00,  1.50000000e+01],\n",
       "        [ 3.86233325e+00,  9.00000000e+00],\n",
       "        [-9.00000000e+00,  0.00000000e+00],\n",
       "        [-1.00000000e+00,  1.00000000e+00],\n",
       "        [-1.00000000e+00,  1.00000000e+00],\n",
       "        [ 0.00000000e+00,  1.00000000e+00]]),\n",
       " 'init_lnprior': 0.0,\n",
       " 'init_negprob': -125027116433561.88,\n",
       " 'ID': 215067200,\n",
       " 'mission': 'K2'}"
      ]
     },
     "execution_count": 130,
     "metadata": {},
     "output_type": "execute_result"
    }
   ],
   "source": [
    "EBdic"
   ]
  },
  {
   "cell_type": "code",
   "execution_count": null,
   "metadata": {},
   "outputs": [],
   "source": []
  },
  {
   "cell_type": "code",
   "execution_count": null,
   "metadata": {},
   "outputs": [],
   "source": []
  },
  {
   "cell_type": "code",
   "execution_count": 94,
   "metadata": {},
   "outputs": [],
   "source": [
    "planet, Teffs, Rs = planet_dic_1['01'],Teff,Rstar\n",
    "Ms=rhostar*Rstar[0]**3*np.array([1.0,np.hypot(rhostar[2]/rhostar[0],np.sqrt(3)*Rstar[1]/Rstar[0]),np.hypot(rhostar[1]/rhostar[0],np.sqrt(3)*Rstar[2]/Rstar[0])])\n"
   ]
  },
  {
   "cell_type": "code",
   "execution_count": 95,
   "metadata": {},
   "outputs": [
    {
     "data": {
      "text/plain": [
       "array([1.87161488, 1.34945457, 1.34945457])"
      ]
     },
     "execution_count": 95,
     "metadata": {},
     "output_type": "execute_result"
    }
   ],
   "source": [
    "Ms"
   ]
  },
  {
   "cell_type": "code",
   "execution_count": 110,
   "metadata": {},
   "outputs": [
    {
     "name": "stdout",
     "output_type": "stream",
     "text": [
      "55.966436349612195 47.57622929696409\n"
     ]
    }
   ],
   "source": [
    "import ellc\n",
    "\n",
    "# Getting minimum period:\n",
    "per_arr=np.sort(abs(lc['time']-planet['tcen']))\n",
    "per_arr_jumps=np.where(np.diff(per_arr)>(0.75*planet['tdur']))[0]\n",
    "min_per= np.max(per_arr) if len(per_arr_jumps)==0 else per_arr[np.min(per_arr_jumps)]\n",
    "\n",
    "#Calculating minimum SMA in Rsun given minimum period (scaled by 0.5 for eccentricity), Mass (scaled by 2 for q) & Radius\n",
    "min_sma=((6.67e-11*(1.96e30*Ms[0])*(0.5*min_per*86400)**2)/(4*np.pi**2))**(1/3.)/(695500000)\n",
    "print(min_per,min_sma)\n",
    "best_res={'fun':np.inf};\n",
    "all_models=[]\n",
    "init_params_0=np.array([Rs[0],np.log(planet['rp_rs']),-0.5,0.0,-5,planet['tcen'],\n",
    "                      np.log(min_per*2),np.log(min_sma*4),-2,0.0,0.0,0.5])\n",
    "init_uniform_priors=np.vstack([[np.clip(Rs[0]-Rs[1],0.01,1000),Rs[0]+Rs[2]],\n",
    "                               [np.log(0.1*planet['rp_rs']),-0.125],\n",
    "                               [np.log(1e-9),0.0],\n",
    "                               [-1.5,1.5],\n",
    "                               [np.log(1e-9),0.0],\n",
    "                               [planet['tcen']-planet['tdur'],planet['tcen']+planet['tdur']],\n",
    "                               [np.log(min_per),15],\n",
    "                               [np.log(min_sma),9],\n",
    "                               [-9,0.0],\n",
    "                               [-1.0,1.0],\n",
    "                               [-1.0,1.0],\n",
    "                               [0.0,1.0]])"
   ]
  },
  {
   "cell_type": "code",
   "execution_count": 109,
   "metadata": {},
   "outputs": [
    {
     "data": {
      "text/plain": [
       "(2490.811420000005, 2496.811420000005)"
      ]
     },
     "execution_count": 109,
     "metadata": {},
     "output_type": "execute_result"
    },
    {
     "data": {
      "image/png": "[encoded data removed]",
      "text/plain": [
       "<Figure size 432x288 with 1 Axes>"
      ]
     },
     "metadata": {
      "needs_background": "light"
     },
     "output_type": "display_data"
    }
   ],
   "source": [
    "plt.plot(lc['time'][lc['mask']],1.0+lc['flux_flat'][lc['mask']],'.')\n",
    "plt.plot(lc['time'],1.0+interpmodel(lc['time']-tcen))\n",
    "plt.plot(lc['time'],MonoSearch.EBmodel(init_params_0, lc['time']))\n",
    "plt.ylim(0.8,1.02)\n",
    "plt.xlim(tcen-3,tcen+3)"
   ]
  },
  {
   "cell_type": "code",
   "execution_count": 102,
   "metadata": {},
   "outputs": [
    {
     "data": {
      "text/plain": [
       "1.7366942083333334"
      ]
     },
     "execution_count": 102,
     "metadata": {},
     "output_type": "execute_result"
    }
   ],
   "source": [
    "tdur"
   ]
  },
  {
   "cell_type": "code",
   "execution_count": 310,
   "metadata": {},
   "outputs": [
    {
     "data": {
      "text/plain": [
       "array([-1.79769313e+308, -1.79769313e+308, -1.79769313e+308, ...,\n",
       "       -1.79769313e+308, -1.79769313e+308, -1.79769313e+308])"
      ]
     },
     "execution_count": 310,
     "metadata": {},
     "output_type": "execute_result"
    }
   ],
   "source": [
    "mod"
   ]
  },
  {
   "cell_type": "code",
   "execution_count": null,
   "metadata": {},
   "outputs": [],
   "source": []
  },
  {
   "cell_type": "code",
   "execution_count": null,
   "metadata": {},
   "outputs": [],
   "source": []
  },
  {
   "cell_type": "code",
   "execution_count": 288,
   "metadata": {},
   "outputs": [
    {
     "data": {
      "text/plain": [
       "{'R_1': 11.438950447955415,\n",
       " 'R_2': 38.08468673878185,\n",
       " 'R2_R1': 3.329386460065404,\n",
       " 'sbratio': 7.424107966240646e-08,\n",
       " 'light_3': 7.312678869648108e-185,\n",
       " 'ldc_1': 2.4933659069711127,\n",
       " 'a': 672161.0035265033,\n",
       " 'ecc': 0.729463010937581,\n",
       " 'omega': 1.3026009760152029,\n",
       " 'b': -22.625382026974155,\n",
       " 'incl': 90.00192861367063,\n",
       " 'tcen': 2608.2784726112077,\n",
       " 'period': 17930.20761198064,\n",
       " 'M_1': 0.40184604959074705,\n",
       " 'M_2': 2.0636061604403744,\n",
       " 'q': 5.135315284403112,\n",
       " 'T_1': 4885.0,\n",
       " 'T_2': 80.63538016407566,\n",
       " 'ID': 220562046,\n",
       " 'mission': 'K2'}"
      ]
     },
     "execution_count": 288,
     "metadata": {},
     "output_type": "execute_result"
    }
   ],
   "source": [
    "EBdic"
   ]
  },
  {
   "cell_type": "code",
   "execution_count": null,
   "metadata": {},
   "outputs": [],
   "source": []
  },
  {
   "cell_type": "code",
   "execution_count": 282,
   "metadata": {},
   "outputs": [
    {
     "data": {
      "text/plain": [
       "array([4.746, 6.744, 6.744])"
      ]
     },
     "execution_count": 282,
     "metadata": {},
     "output_type": "execute_result"
    }
   ],
   "source": [
    "Rstar"
   ]
  },
  {
   "cell_type": "code",
   "execution_count": null,
   "metadata": {},
   "outputs": [],
   "source": []
  },
  {
   "cell_type": "code",
   "execution_count": null,
   "metadata": {},
   "outputs": [],
   "source": []
  },
  {
   "cell_type": "code",
   "execution_count": null,
   "metadata": {},
   "outputs": [],
   "source": []
  },
  {
   "cell_type": "code",
   "execution_count": null,
   "metadata": {},
   "outputs": [],
   "source": []
  },
  {
   "cell_type": "code",
   "execution_count": null,
   "metadata": {},
   "outputs": [],
   "source": []
  },
  {
   "cell_type": "code",
   "execution_count": null,
   "metadata": {},
   "outputs": [],
   "source": []
  },
  {
   "cell_type": "code",
   "execution_count": null,
   "metadata": {},
   "outputs": [],
   "source": []
  },
  {
   "cell_type": "code",
   "execution_count": null,
   "metadata": {},
   "outputs": [],
   "source": []
  },
  {
   "cell_type": "code",
   "execution_count": null,
   "metadata": {},
   "outputs": [],
   "source": []
  },
  {
   "cell_type": "code",
   "execution_count": null,
   "metadata": {},
   "outputs": [],
   "source": []
  },
  {
   "cell_type": "code",
   "execution_count": null,
   "metadata": {},
   "outputs": [],
   "source": []
  },
  {
   "cell_type": "code",
   "execution_count": 213,
   "metadata": {},
   "outputs": [
    {
     "data": {
      "text/plain": [
       "array([ 1., -1.])"
      ]
     },
     "execution_count": 213,
     "metadata": {},
     "output_type": "execute_result"
    }
   ],
   "source": [
    "np.diff([0.0,1.0,0.0])"
   ]
  },
  {
   "cell_type": "code",
   "execution_count": null,
   "metadata": {},
   "outputs": [],
   "source": []
  },
  {
   "cell_type": "code",
   "execution_count": 205,
   "metadata": {},
   "outputs": [
    {
     "name": "stdout",
     "output_type": "stream",
     "text": [
      "INFO: Query finished. [astroquery.utils.tap.core]\n",
      "INFO  [astropy.launch_job_async()]: Query finished.\n",
      "INFO: Query finished. [astroquery.utils.tap.core]\n",
      "INFO  [astropy.launch_job_async()]: Query finished.\n",
      "INFO: Query finished. [astroquery.utils.tap.core]\n",
      "INFO  [astropy.launch_job_async()]: Query finished.\n",
      "INFO: Query finished. [astroquery.utils.tap.core]\n",
      "INFO  [astropy.launch_job_async()]: Query finished.\n"
     ]
    }
   ],
   "source": [
    "from astroquery.gaia import Gaia\n",
    "dr=1\n",
    "gid=196766887215528064\n",
    "#Now searching the cross-matched cats with the GAIA ID\n",
    "jobs={}\n",
    "jobs['2m'] = Gaia.launch_job_async(\"SELECT * \\\n",
    "    FROM gaiadr\"+str(dr)+\".gaia_source AS g, gaiadr\"+str(dr)+\".tmass_best_neighbour AS tbest, gaiadr1.tmass_original_valid AS tmass \\\n",
    "    WHERE g.source_id = tbest.source_id AND tbest.tmass_oid = tmass.tmass_oid \\\n",
    "    AND g.source_id = \"+str(gid), dump_to_file=False,verbose=False)\n",
    "jobs['sd'] = Gaia.launch_job_async(\"SELECT * \\\n",
    "    FROM gaiadr\"+str(dr)+\".gaia_source AS g, gaiadr\"+str(dr)+\".sdss\"+\"_\"[:(2-dr)]+\"dr9_best_neighbour AS sdbest, gaiadr1.sdssdr9_original_valid AS sdss \\\n",
    "    WHERE g.source_id = sdbest.source_id AND sdbest.sdssdr9_oid = sdss.sdssdr9_oid \\\n",
    "    AND g.source_id = \"+str(gid), dump_to_file=False,verbose=False)\n",
    "jobs['ur'] = Gaia.launch_job_async(\"SELECT * \\\n",
    "    FROM gaiadr\"+str(dr)+\".gaia_source AS g, gaiadr\"+str(dr)+\".urat1_best_neighbour AS uratbest, gaiadr1.urat1_original_valid AS urat1 \\\n",
    "    WHERE g.source_id = uratbest.source_id AND uratbest.urat1_oid = urat1.urat1_oid \\\n",
    "    AND g.source_id = \"+str(gid), dump_to_file=False,verbose=False)\n",
    "jobs['wise'] = Gaia.launch_job_async(\"SELECT * \\\n",
    "    FROM gaiadr\"+str(dr)+\".gaia_source AS g, gaiadr\"+str(dr)+\".allwise_best_neighbour AS wisest, gaiadr1.allwise_original_valid AS wise \\\n",
    "    WHERE g.source_id = wisest.source_id AND wisest.allwise_oid = wise.allwise_oid \\\n",
    "    AND g.source_id = \"+str(gid), dump_to_file=False,verbose=False)\n",
    "for job in jobs:\n",
    "    res=jobs[job].get_results().to_pandas()\n",
    "    if res.shape[0]>0:\n",
    "        #Making \n",
    "        res=res.rename(columns={col:job+'_'+col for col in res.columns})\n"
   ]
  },
  {
   "cell_type": "code",
   "execution_count": 206,
   "metadata": {},
   "outputs": [
    {
     "data": {
      "text/html": [
       "<div>\n",
       "<style scoped>\n",
       "    .dataframe tbody tr th:only-of-type {\n",
       "        vertical-align: middle;\n",
       "    }\n",
       "\n",
       "    .dataframe tbody tr th {\n",
       "        vertical-align: top;\n",
       "    }\n",
       "\n",
       "    .dataframe thead th {\n",
       "        text-align: right;\n",
       "    }\n",
       "</style>\n",
       "<table border=\"1\" class=\"dataframe\">\n",
       "  <thead>\n",
       "    <tr style=\"text-align: right;\">\n",
       "      <th></th>\n",
       "      <th>solution_id</th>\n",
       "      <th>source_id</th>\n",
       "      <th>random_index</th>\n",
       "      <th>ref_epoch</th>\n",
       "      <th>ra</th>\n",
       "      <th>ra_error</th>\n",
       "      <th>dec</th>\n",
       "      <th>dec_error</th>\n",
       "      <th>parallax</th>\n",
       "      <th>parallax_error</th>\n",
       "      <th>...</th>\n",
       "      <th>w4mjd_mean</th>\n",
       "      <th>w1gmag</th>\n",
       "      <th>w1gmag_error</th>\n",
       "      <th>w2gmag</th>\n",
       "      <th>w2gmag_error</th>\n",
       "      <th>w3gmag</th>\n",
       "      <th>w3gmag_error</th>\n",
       "      <th>w4gmag</th>\n",
       "      <th>w4gmag_error</th>\n",
       "      <th>tmass_key</th>\n",
       "    </tr>\n",
       "  </thead>\n",
       "  <tbody>\n",
       "  </tbody>\n",
       "</table>\n",
       "<p>0 rows × 97 columns</p>\n",
       "</div>"
      ],
      "text/plain": [
       "Empty DataFrame\n",
       "Columns: [solution_id, source_id, random_index, ref_epoch, ra, ra_error, dec, dec_error, parallax, parallax_error, pmra, pmra_error, pmdec, pmdec_error, ra_dec_corr, ra_parallax_corr, ra_pmra_corr, ra_pmdec_corr, dec_parallax_corr, dec_pmra_corr, dec_pmdec_corr, parallax_pmra_corr, parallax_pmdec_corr, pmra_pmdec_corr, astrometric_n_obs_al, astrometric_n_obs_ac, astrometric_n_good_obs_al, astrometric_n_good_obs_ac, astrometric_n_bad_obs_al, astrometric_n_bad_obs_ac, astrometric_delta_q, astrometric_excess_noise, astrometric_excess_noise_sig, astrometric_primary_flag, astrometric_relegation_factor, astrometric_weight_al, astrometric_weight_ac, astrometric_priors_used, matched_observations, duplicated_source, scan_direction_strength_k1, scan_direction_strength_k2, scan_direction_strength_k3, scan_direction_strength_k4, scan_direction_mean_k1, scan_direction_mean_k2, scan_direction_mean_k3, scan_direction_mean_k4, phot_g_n_obs, phot_g_mean_flux, phot_g_mean_flux_error, phot_g_mean_mag, phot_variable_flag, l, b, ecl_lon, ecl_lat, allwise_oid, source_id_2, original_ext_source_id, angular_distance, number_of_neighbours, number_of_mates, best_neighbour_multiplicity, proper_motion_flag, allwise_oid_2, designation, ra_2, dec_2, ra_error_2, dec_error_2, radec_co_error, w1mpro, w1mpro_error, w2mpro, w2mpro_error, w3mpro, w3mpro_error, w4mpro, w4mpro_error, cc_flags, ext_flag, var_flag, ph_qual, w1mjd_mean, w2mjd_mean, w3mjd_mean, w4mjd_mean, w1gmag, w1gmag_error, w2gmag, w2gmag_error, w3gmag, w3gmag_error, w4gmag, w4gmag_error, tmass_key]\n",
       "Index: []\n",
       "\n",
       "[0 rows x 97 columns]"
      ]
     },
     "execution_count": 206,
     "metadata": {},
     "output_type": "execute_result"
    }
   ],
   "source": [
    "res"
   ]
  },
  {
   "cell_type": "code",
   "execution_count": null,
   "metadata": {},
   "outputs": [],
   "source": [
    "9.5"
   ]
  },
  {
   "cell_type": "code",
   "execution_count": null,
   "metadata": {},
   "outputs": [],
   "source": [
    "alldattemp"
   ]
  },
  {
   "cell_type": "code",
   "execution_count": null,
   "metadata": {},
   "outputs": [],
   "source": []
  },
  {
   "cell_type": "code",
   "execution_count": null,
   "metadata": {},
   "outputs": [],
   "source": []
  },
  {
   "cell_type": "code",
   "execution_count": null,
   "metadata": {},
   "outputs": [],
   "source": []
  },
  {
   "cell_type": "code",
   "execution_count": null,
   "metadata": {},
   "outputs": [],
   "source": []
  },
  {
   "cell_type": "code",
   "execution_count": null,
   "metadata": {},
   "outputs": [],
   "source": []
  },
  {
   "cell_type": "code",
   "execution_count": null,
   "metadata": {},
   "outputs": [],
   "source": []
  },
  {
   "cell_type": "code",
   "execution_count": null,
   "metadata": {},
   "outputs": [],
   "source": [
    "MonoSearch.minimize_EBmodel(lc, planet, Teffs, Rs, Ms)"
   ]
  }
 ],
 "metadata": {
  "kernelspec": {
   "display_name": "Python 3",
   "language": "python",
   "name": "python3"
  },
  "language_info": {
   "codemirror_mode": {
    "name": "ipython",
    "version": 3
   },
   "file_extension": ".py",
   "mimetype": "text/x-python",
   "name": "python",
   "nbconvert_exporter": "python",
   "pygments_lexer": "ipython3",
   "version": "3.7.3"
  }
 },
 "nbformat": 4,
 "nbformat_minor": 2
}
