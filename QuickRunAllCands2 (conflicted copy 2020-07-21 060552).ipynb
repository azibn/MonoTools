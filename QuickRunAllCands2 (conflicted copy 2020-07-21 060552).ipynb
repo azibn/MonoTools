{
 "cells": [
  {
   "cell_type": "code",
   "execution_count": 17,
   "metadata": {},
   "outputs": [
    {
     "name": "stdout",
     "output_type": "stream",
     "text": [
      "The autoreload extension is already loaded. To reload it, use:\n",
      "  %reload_ext autoreload\n"
     ]
    }
   ],
   "source": [
    "import os \n",
    "os.environ['MONOTOOLSPATH']='/Volumes/LUVOIR/MonoToolsData'\n",
    "\n",
    "import pickle\n",
    "import numpy as np\n",
    "import pandas as pd\n",
    "\n",
    "from MonoTools import tools,search,starpars\n",
    "\n",
    "from astropy.coordinates import SkyCoord\n",
    "import astropy.units as u\n",
    "\n",
    "%load_ext autoreload\n",
    "%autoreload 2\n"
   ]
  },
  {
   "cell_type": "code",
   "execution_count": 5,
   "metadata": {},
   "outputs": [],
   "source": [
    "import glob\n",
    "infofiles=glob.glob(\"/Volumes/LUVOIR/MonoToolsData/*_CandMonoInfo.csv\")\n",
    "for file in infofiles:\n",
    "     os.system(\"mv \"+file+\" \"+\"/\".join(file.split(\"/\")[:-1])+\"/\"+file.split(\"/\")[-1].split(\"_\")[0]+\"/\"+file.split(\"/\")[-1])"
   ]
  },
  {
   "cell_type": "code",
   "execution_count": 24,
   "metadata": {},
   "outputs": [],
   "source": [
    "cands=pd.read_csv(\"data/tables/2020_monos_unq.csv\").iloc[::2]"
   ]
  },
  {
   "cell_type": "code",
   "execution_count": null,
   "metadata": {
    "scrolled": true
   },
   "outputs": [
    {
     "name": "stdout",
     "output_type": "stream",
     "text": [
      "Already processed Unnamed: 0                                         0\n",
      "dec                                              NaN\n",
      "dur                                         0.716957\n",
      "file          DFM_Kepler_lower_vetting_threshold.csv\n",
      "id                                       1.03213e+07\n",
      "mission                                       Kepler\n",
      "ra                                               NaN\n",
      "tcen                                          554.32\n",
      "Name: 0, dtype: object\n",
      "Already processed Unnamed: 0                                         2\n",
      "dec                                              NaN\n",
      "dur                                         0.768466\n",
      "file          DFM_Kepler_lower_vetting_threshold.csv\n",
      "id                                       1.01973e+07\n",
      "mission                                       Kepler\n",
      "ra                                               NaN\n",
      "tcen                                         1325.53\n",
      "Name: 2, dtype: object\n",
      "DEBUG [urllib3.connectionpool._make_request()]: https://mast.stsci.edu:443 \"POST /api/v0/invoke HTTP/1.1\" 200 None\n",
      "10287723  not in TIC\n",
      "DEBUG [urllib3.connectionpool._new_conn()]: Starting new HTTP connection (1): vizier.u-strasbg.fr:80\n",
      "DEBUG [urllib3.connectionpool._make_request()]: http://vizier.u-strasbg.fr:80 \"POST /viz-bin/votable HTTP/1.1\" 200 658\n",
      "DEBUG [urllib3.connectionpool._make_request()]: https://mast.stsci.edu:443 \"POST /api/v0/invoke HTTP/1.1\" 200 None\n",
      "DEBUG [urllib3.connectionpool._new_conn()]: Starting new HTTPS connection (1): heasarc.gsfc.nasa.gov:443\n",
      "DEBUG [urllib3.connectionpool._make_request()]: https://heasarc.gsfc.nasa.gov:443 \"GET /cgi-bin/tess/webtess/wtv.py?Entry=296.82162%2C+47.354031 HTTP/1.1\" 200 None\n",
      "https://heasarc.gsfc.nasa.gov/cgi-bin/tess/webtess/wtv.py?Entry=<SkyCoord (ICRS): (ra, dec) in deg\n",
      "    (296.82162, 47.354031)>\n",
      "[14, 15] <class 'list'>\n",
      "No QLP files at /Volumes/LUVOIR/MonoToolsData/TIC00272840024 Loading Eleanor Lightcurve\n",
      "DEBUG [urllib3.connectionpool._make_request()]: https://mast.stsci.edu:443 \"POST /portal/Mashup/Mashup.asmx/columnsconfig HTTP/1.1\" 200 None\n",
      "DEBUG [urllib3.connectionpool._make_request()]: https://mast.stsci.edu:443 \"POST /api/v0/invoke HTTP/1.1\" 200 None\n",
      "DEBUG [urllib3.connectionpool._make_request()]: https://mast.stsci.edu:443 \"POST /portal/Mashup/Mashup.asmx/columnsconfig HTTP/1.1\" 200 None\n",
      "DEBUG [urllib3.connectionpool._make_request()]: https://mast.stsci.edu:443 \"POST /api/v0/invoke HTTP/1.1\" 200 None\n",
      "DEBUG [urllib3.connectionpool._new_conn()]: Starting new HTTPS connection (1): mast.stsci.edu:443\n",
      "DEBUG [urllib3.connectionpool._make_request()]: https://mast.stsci.edu:443 \"POST /portal/Mashup/Mashup.asmx/columnsconfig HTTP/1.1\" 200 None\n",
      "DEBUG [urllib3.connectionpool._make_request()]: https://mast.stsci.edu:443 \"POST /api/v0/invoke HTTP/1.1\" 200 None\n",
      "No eleanor postcard has been made for your target (yet). Using TessCut instead.\n",
      "DEBUG [urllib3.connectionpool._new_conn()]: Starting new HTTPS connection (1): mast.stsci.edu:443\n",
      "DEBUG [urllib3.connectionpool._make_request()]: https://mast.stsci.edu:443 \"GET /tesscut/api/v0.1/astrocut?ra=296.821665568538&dec=47.3540046027107&y=31&x=31&units=px&sector=14 HTTP/1.1\" 200 None\n",
      "Downloading URL https://mast.stsci.edu/tesscut/api/v0.1/astrocut?ra=296.821665568538&dec=47.3540046027107&y=31&x=31&units=px&sector=14 to /Users/hosborn/.eleanor/tesscut/tesscut_20200721015008.zip ... [Done]\n",
      "Inflating...\n",
      "WARNING [tensorflow.__getattr__()]: From /Users/hosborn/transits/lib/python3.7/site-packages/eleanor/targetdata.py:836: The name tf.logging.set_verbosity is deprecated. Please use tf.compat.v1.logging.set_verbosity instead.\n",
      "\n",
      "WARNING [tensorflow.__getattr__()]: From /Users/hosborn/transits/lib/python3.7/site-packages/eleanor/targetdata.py:836: The name tf.logging.ERROR is deprecated. Please use tf.compat.v1.logging.ERROR instead.\n",
      "\n"
     ]
    },
    {
     "name": "stderr",
     "output_type": "stream",
     "text": [
      "100%|██████████| 1241/1241 [00:13<00:00, 94.90it/s]\n"
     ]
    },
    {
     "name": "stdout",
     "output_type": "stream",
     "text": [
      "80 points masked in lc of 1241\n",
      "No QLP files at /Volumes/LUVOIR/MonoToolsData/TIC00272840024 Loading Eleanor Lightcurve\n",
      "DEBUG [urllib3.connectionpool._make_request()]: https://mast.stsci.edu:443 \"POST /api/v0/invoke HTTP/1.1\" 200 None\n",
      "DEBUG [urllib3.connectionpool._make_request()]: https://mast.stsci.edu:443 \"POST /api/v0/invoke HTTP/1.1\" 200 None\n",
      "DEBUG [urllib3.connectionpool._make_request()]: https://mast.stsci.edu:443 \"POST /api/v0/invoke HTTP/1.1\" 200 None\n",
      "No eleanor postcard has been made for your target (yet). Using TessCut instead.\n",
      "DEBUG [urllib3.connectionpool._make_request()]: https://mast.stsci.edu:443 \"GET /tesscut/api/v0.1/astrocut?ra=296.821665568538&dec=47.3540046027107&y=31&x=31&units=px&sector=15 HTTP/1.1\" 200 None\n",
      "Downloading URL https://mast.stsci.edu/tesscut/api/v0.1/astrocut?ra=296.821665568538&dec=47.3540046027107&y=31&x=31&units=px&sector=15 to /Users/hosborn/.eleanor/tesscut/tesscut_20200721015046.zip ... [Done]\n",
      "Inflating...\n"
     ]
    },
    {
     "name": "stderr",
     "output_type": "stream",
     "text": [
      "100%|██████████| 1197/1197 [00:13<00:00, 85.98it/s]\n"
     ]
    },
    {
     "name": "stdout",
     "output_type": "stream",
     "text": [
      "74 points masked in lc of 1197\n",
      "[0, 1]\n",
      "Kepler file\n",
      "7 points masked in lc of 476\n",
      "Kepler file\n",
      "17 points masked in lc of 1639\n",
      "Kepler file\n",
      "294 points masked in lc of 4354\n",
      "Kepler file\n",
      "242 points masked in lc of 4370\n",
      "Kepler file\n",
      "304 points masked in lc of 4397\n",
      "Kepler file\n",
      "159 points masked in lc of 4634\n",
      "Kepler file\n",
      "131 points masked in lc of 4398\n",
      "Kepler file\n",
      "178 points masked in lc of 3279\n",
      "Kepler file\n",
      "166 points masked in lc of 4768\n",
      "Kepler file\n",
      "140 points masked in lc of 4573\n",
      "Kepler file\n",
      "510 points masked in lc of 4044\n",
      "Kepler file\n",
      "191 points masked in lc of 4421\n",
      "Kepler file\n",
      "501 points masked in lc of 4757\n",
      "Kepler file\n",
      "684 points masked in lc of 4203\n",
      "Kepler file\n",
      "275 points masked in lc of 1556\n",
      "[0, 1, 2, 3, 4, 5, 6, 7, 8, 9, 10, 11, 12, 13, 14]\n",
      "[0, 1]\n",
      "transit mask: <class 'numpy.ndarray'> 55952 1 <class 'numpy.ndarray'> 55952 True\n"
     ]
    },
    {
     "name": "stderr",
     "output_type": "stream",
     "text": [
      "INFO (theano.gof.compilelock): Refreshing lock /Users/hosborn/.theano/compiledir_Darwin-19.3.0-x86_64-i386-64bit-i386-3.7.6-64/lock_dir/lock\n"
     ]
    },
    {
     "name": "stdout",
     "output_type": "stream",
     "text": [
      "INFO  [theano.gof.compilelock._get_lock()]: Refreshing lock /Users/hosborn/.theano/compiledir_Darwin-19.3.0-x86_64-i386-64bit-i386-3.7.6-64/lock_dir/lock\n"
     ]
    },
    {
     "name": "stderr",
     "output_type": "stream",
     "text": [
      "INFO (theano.gof.compilelock): Refreshing lock /Users/hosborn/.theano/compiledir_Darwin-19.3.0-x86_64-i386-64bit-i386-3.7.6-64/lock_dir/lock\n"
     ]
    },
    {
     "name": "stdout",
     "output_type": "stream",
     "text": [
      "INFO  [theano.gof.compilelock._get_lock()]: Refreshing lock /Users/hosborn/.theano/compiledir_Darwin-19.3.0-x86_64-i386-64bit-i386-3.7.6-64/lock_dir/lock\n",
      "00 - Checks complete.  SNR: 21.85551  SNR_r: 44.36963  variability: -224.132  centroid: 9.738697 | flag: planet\n",
      "DEBUG [matplotlib.backends.backend_pdf.fontName()]: Assigning font /b'F1' = '/Users/hosborn/transits/lib/python3.7/site-packages/matplotlib/mpl-data/fonts/ttf/DejaVuSans.ttf'\n",
      "DEBUG [matplotlib.backends.backend_pdf.writeFonts()]: Embedding font /Users/hosborn/transits/lib/python3.7/site-packages/matplotlib/mpl-data/fonts/ttf/DejaVuSans.ttf.\n",
      "DEBUG [matplotlib.backends.backend_pdf.writeFonts()]: Writing TrueType font.\n",
      "DEBUG [urllib3.connectionpool._make_request()]: https://mast.stsci.edu:443 \"POST /api/v0/invoke HTTP/1.1\" 200 None\n",
      "10602068  not in TIC\n",
      "DEBUG [urllib3.connectionpool._new_conn()]: Starting new HTTP connection (1): vizier.u-strasbg.fr:80\n",
      "DEBUG [urllib3.connectionpool._make_request()]: http://vizier.u-strasbg.fr:80 \"POST /viz-bin/votable HTTP/1.1\" 200 658\n",
      "DEBUG [urllib3.connectionpool._make_request()]: https://mast.stsci.edu:443 \"POST /api/v0/invoke HTTP/1.1\" 200 None\n",
      "DEBUG [urllib3.connectionpool._new_conn()]: Starting new HTTPS connection (1): heasarc.gsfc.nasa.gov:443\n",
      "DEBUG [urllib3.connectionpool._make_request()]: https://heasarc.gsfc.nasa.gov:443 \"GET /cgi-bin/tess/webtess/wtv.py?Entry=292.69788%2C+47.881081 HTTP/1.1\" 200 None\n",
      "https://heasarc.gsfc.nasa.gov/cgi-bin/tess/webtess/wtv.py?Entry=<SkyCoord (ICRS): (ra, dec) in deg\n",
      "    (292.69788, 47.881081)>\n",
      "[14, 15] <class 'list'>\n",
      "No QLP files at /Volumes/LUVOIR/MonoToolsData/TIC00063291922 Loading Eleanor Lightcurve\n",
      "DEBUG [urllib3.connectionpool._make_request()]: https://mast.stsci.edu:443 \"POST /api/v0/invoke HTTP/1.1\" 200 None\n",
      "DEBUG [urllib3.connectionpool._make_request()]: https://mast.stsci.edu:443 \"POST /api/v0/invoke HTTP/1.1\" 200 None\n",
      "DEBUG [urllib3.connectionpool._make_request()]: https://mast.stsci.edu:443 \"POST /api/v0/invoke HTTP/1.1\" 200 None\n",
      "No eleanor postcard has been made for your target (yet). Using TessCut instead.\n",
      "DEBUG [urllib3.connectionpool._get_conn()]: Resetting dropped connection: mast.stsci.edu\n",
      "DEBUG [urllib3.connectionpool._make_request()]: https://mast.stsci.edu:443 \"GET /tesscut/api/v0.1/astrocut?ra=292.697874478511&dec=47.8811272992951&y=31&x=31&units=px&sector=14 HTTP/1.1\" 200 None\n",
      "Downloading URL https://mast.stsci.edu/tesscut/api/v0.1/astrocut?ra=292.697874478511&dec=47.8811272992951&y=31&x=31&units=px&sector=14 to /Users/hosborn/.eleanor/tesscut/tesscut_20200721015518.zip ... [Done]\n",
      "Inflating...\n"
     ]
    },
    {
     "name": "stderr",
     "output_type": "stream",
     "text": [
      "100%|██████████| 1241/1241 [00:14<00:00, 87.51it/s]\n"
     ]
    },
    {
     "name": "stdout",
     "output_type": "stream",
     "text": [
      "82 points masked in lc of 1241\n",
      "No QLP files at /Volumes/LUVOIR/MonoToolsData/TIC00063291922 Loading Eleanor Lightcurve\n",
      "DEBUG [urllib3.connectionpool._make_request()]: https://mast.stsci.edu:443 \"POST /api/v0/invoke HTTP/1.1\" 200 None\n",
      "DEBUG [urllib3.connectionpool._make_request()]: https://mast.stsci.edu:443 \"POST /api/v0/invoke HTTP/1.1\" 200 None\n",
      "DEBUG [urllib3.connectionpool._make_request()]: https://mast.stsci.edu:443 \"POST /api/v0/invoke HTTP/1.1\" 200 None\n",
      "No eleanor postcard has been made for your target (yet). Using TessCut instead.\n",
      "DEBUG [urllib3.connectionpool._make_request()]: https://mast.stsci.edu:443 \"GET /tesscut/api/v0.1/astrocut?ra=292.697874478511&dec=47.8811272992951&y=31&x=31&units=px&sector=15 HTTP/1.1\" 200 None\n",
      "Downloading URL https://mast.stsci.edu/tesscut/api/v0.1/astrocut?ra=292.697874478511&dec=47.8811272992951&y=31&x=31&units=px&sector=15 to /Users/hosborn/.eleanor/tesscut/tesscut_20200721015543.zip ... [Done]\n",
      "Inflating...\n"
     ]
    },
    {
     "name": "stderr",
     "output_type": "stream",
     "text": [
      "100%|██████████| 1197/1197 [00:14<00:00, 83.67it/s]\n"
     ]
    },
    {
     "name": "stdout",
     "output_type": "stream",
     "text": [
      "75 points masked in lc of 1197\n",
      "[0, 1]\n",
      "Kepler file\n",
      "16 points masked in lc of 1639\n",
      "Kepler file\n",
      "295 points masked in lc of 4354\n",
      "Kepler file\n",
      "250 points masked in lc of 4370\n",
      "Kepler file\n",
      "298 points masked in lc of 4397\n",
      "Kepler file\n",
      "159 points masked in lc of 4634\n",
      "Kepler file\n",
      "140 points masked in lc of 4398\n",
      "Kepler file\n",
      "161 points masked in lc of 4375\n",
      "Kepler file\n",
      "181 points masked in lc of 3279\n",
      "Kepler file\n",
      "166 points masked in lc of 4768\n",
      "Kepler file\n",
      "151 points masked in lc of 4573\n",
      "Kepler file\n",
      "290 points masked in lc of 4754\n",
      "Kepler file\n",
      "508 points masked in lc of 4044\n",
      "Kepler file\n",
      "190 points masked in lc of 4421\n",
      "Kepler file\n",
      "501 points masked in lc of 4757\n",
      "Kepler file\n",
      "423 points masked in lc of 4780\n",
      "Kepler file\n",
      "679 points masked in lc of 4203\n",
      "Kepler file\n",
      "277 points masked in lc of 1556\n",
      "[0, 1, 2, 3, 4, 5, 6, 7, 8, 9, 10, 11, 12, 13, 14, 15, 16]\n",
      "[0, 1]\n",
      "transit mask: <class 'numpy.ndarray'> 68826 1 <class 'numpy.ndarray'> 68826 True\n"
     ]
    },
    {
     "name": "stderr",
     "output_type": "stream",
     "text": [
      "INFO (theano.gof.compilelock): Refreshing lock /Users/hosborn/.theano/compiledir_Darwin-19.3.0-x86_64-i386-64bit-i386-3.7.6-64/lock_dir/lock\n"
     ]
    },
    {
     "name": "stdout",
     "output_type": "stream",
     "text": [
      "INFO  [theano.gof.compilelock._get_lock()]: Refreshing lock /Users/hosborn/.theano/compiledir_Darwin-19.3.0-x86_64-i386-64bit-i386-3.7.6-64/lock_dir/lock\n"
     ]
    },
    {
     "name": "stderr",
     "output_type": "stream",
     "text": [
      "WARNING (theano.gof.compilelock): Refreshing lock failed, we release the lock before raising again the exception\n"
     ]
    },
    {
     "name": "stdout",
     "output_type": "stream",
     "text": [
      "WARNING [theano.gof.compilelock.refresh_lock()]: Refreshing lock failed, we release the lock before raising again the exception\n",
      "NO JUICE Unnamed: 0                                         6\n",
      "dec                                              NaN\n",
      "dur                                         0.531201\n",
      "file          DFM_Kepler_lower_vetting_threshold.csv\n",
      "id                                       1.06021e+07\n",
      "mission                                       Kepler\n",
      "ra                                               NaN\n",
      "tcen                                         830.825\n",
      "Name: 6, dtype: object\n",
      "DEBUG [urllib3.connectionpool._make_request()]: https://mast.stsci.edu:443 \"POST /api/v0/invoke HTTP/1.1\" 200 None\n",
      "10842718  not in TIC\n",
      "DEBUG [urllib3.connectionpool._new_conn()]: Starting new HTTP connection (1): vizier.u-strasbg.fr:80\n",
      "DEBUG [urllib3.connectionpool._make_request()]: http://vizier.u-strasbg.fr:80 \"POST /viz-bin/votable HTTP/1.1\" 200 658\n",
      "DEBUG [urllib3.connectionpool._make_request()]: https://mast.stsci.edu:443 \"POST /api/v0/invoke HTTP/1.1\" 200 None\n",
      "DEBUG [urllib3.connectionpool._new_conn()]: Starting new HTTPS connection (1): heasarc.gsfc.nasa.gov:443\n",
      "DEBUG [urllib3.connectionpool._make_request()]: https://heasarc.gsfc.nasa.gov:443 \"GET /cgi-bin/tess/webtess/wtv.py?Entry=281.94702%2C+48.222599 HTTP/1.1\" 200 None\n",
      "https://heasarc.gsfc.nasa.gov/cgi-bin/tess/webtess/wtv.py?Entry=<SkyCoord (ICRS): (ra, dec) in deg\n",
      "    (281.94702, 48.222599)>\n",
      "[14] <class 'list'>\n",
      "No QLP files at /Volumes/LUVOIR/MonoToolsData/TIC00048031182 Loading Eleanor Lightcurve\n",
      "DEBUG [urllib3.connectionpool._make_request()]: https://mast.stsci.edu:443 \"POST /api/v0/invoke HTTP/1.1\" 200 None\n",
      "DEBUG [urllib3.connectionpool._make_request()]: https://mast.stsci.edu:443 \"POST /api/v0/invoke HTTP/1.1\" 200 None\n",
      "DEBUG [urllib3.connectionpool._make_request()]: https://mast.stsci.edu:443 \"POST /api/v0/invoke HTTP/1.1\" 200 None\n",
      "No eleanor postcard has been made for your target (yet). Using TessCut instead.\n",
      "DEBUG [urllib3.connectionpool._get_conn()]: Resetting dropped connection: mast.stsci.edu\n",
      "DEBUG [urllib3.connectionpool._make_request()]: https://mast.stsci.edu:443 \"GET /tesscut/api/v0.1/astrocut?ra=281.947040887374&dec=48.2225912122207&y=31&x=31&units=px&sector=14 HTTP/1.1\" 200 None\n",
      "Downloading URL https://mast.stsci.edu/tesscut/api/v0.1/astrocut?ra=281.947040887374&dec=48.2225912122207&y=31&x=31&units=px&sector=14 to /Users/hosborn/.eleanor/tesscut/tesscut_20200721015821.zip ... [Done]\n",
      "Inflating...\n"
     ]
    },
    {
     "name": "stderr",
     "output_type": "stream",
     "text": [
      "100%|██████████| 1241/1241 [00:15<00:00, 81.77it/s]\n"
     ]
    },
    {
     "name": "stdout",
     "output_type": "stream",
     "text": [
      "85 points masked in lc of 1241\n",
      "Kepler file\n",
      "20 points masked in lc of 1639\n",
      "Kepler file\n",
      "299 points masked in lc of 4354\n",
      "Kepler file\n",
      "247 points masked in lc of 4370\n",
      "Kepler file\n",
      "297 points masked in lc of 4397\n",
      "Kepler file\n",
      "157 points masked in lc of 4634\n",
      "Kepler file\n",
      "140 points masked in lc of 4398\n",
      "Kepler file\n",
      "161 points masked in lc of 4375\n",
      "Kepler file\n",
      "181 points masked in lc of 3279\n",
      "Kepler file\n",
      "167 points masked in lc of 4768\n",
      "Kepler file\n",
      "141 points masked in lc of 4573\n",
      "Kepler file\n",
      "291 points masked in lc of 4754\n",
      "Kepler file\n",
      "502 points masked in lc of 4044\n",
      "Kepler file\n",
      "187 points masked in lc of 4421\n",
      "Kepler file\n",
      "500 points masked in lc of 4757\n",
      "Kepler file\n",
      "418 points masked in lc of 4780\n",
      "Kepler file\n",
      "674 points masked in lc of 4203\n",
      "Kepler file\n",
      "275 points masked in lc of 1556\n",
      "[0, 1, 2, 3, 4, 5, 6, 7, 8, 9, 10, 11, 12, 13, 14, 15, 16]\n",
      "[0, 1]\n",
      "transit mask: <class 'numpy.ndarray'> 67629 1 <class 'numpy.ndarray'> 67629 True\n",
      "00 variability. LogLik= 144.95000524243846\n",
      "00 - Checks complete.  SNR: 95.74306  SNR_r: 15.29007  variability: 144.9500  centroid: 11.36797 | flag: variability\n",
      "DEBUG [matplotlib.backends.backend_pdf.fontName()]: Assigning font /b'F1' = '/Users/hosborn/transits/lib/python3.7/site-packages/matplotlib/mpl-data/fonts/ttf/DejaVuSans.ttf'\n",
      "DEBUG [matplotlib.backends.backend_pdf.writeFonts()]: Embedding font /Users/hosborn/transits/lib/python3.7/site-packages/matplotlib/mpl-data/fonts/ttf/DejaVuSans.ttf.\n",
      "DEBUG [matplotlib.backends.backend_pdf.writeFonts()]: Writing TrueType font.\n",
      "DEBUG [urllib3.connectionpool._get_conn()]: Resetting dropped connection: mast.stsci.edu\n",
      "DEBUG [urllib3.connectionpool._make_request()]: https://mast.stsci.edu:443 \"POST /api/v0/invoke HTTP/1.1\" 200 None\n",
      "3218908  not in TIC\n",
      "DEBUG [urllib3.connectionpool._new_conn()]: Starting new HTTP connection (1): vizier.u-strasbg.fr:80\n",
      "DEBUG [urllib3.connectionpool._make_request()]: http://vizier.u-strasbg.fr:80 \"POST /viz-bin/votable HTTP/1.1\" 200 658\n",
      "DEBUG [urllib3.connectionpool._make_request()]: https://mast.stsci.edu:443 \"POST /api/v0/invoke HTTP/1.1\" 200 None\n",
      "DEBUG [urllib3.connectionpool._new_conn()]: Starting new HTTPS connection (1): heasarc.gsfc.nasa.gov:443\n",
      "DEBUG [urllib3.connectionpool._make_request()]: https://heasarc.gsfc.nasa.gov:443 \"GET /cgi-bin/tess/webtess/wtv.py?Entry=286.49042000000003%2C+38.374908000000005 HTTP/1.1\" 200 None\n",
      "https://heasarc.gsfc.nasa.gov/cgi-bin/tess/webtess/wtv.py?Entry=<SkyCoord (ICRS): (ra, dec) in deg\n",
      "    (286.49042, 38.374908)>\n",
      "[14] <class 'list'>\n",
      "No QLP files at /Volumes/LUVOIR/MonoToolsData/TIC00120891972 Loading Eleanor Lightcurve\n",
      "DEBUG [urllib3.connectionpool._make_request()]: https://mast.stsci.edu:443 \"POST /api/v0/invoke HTTP/1.1\" 200 None\n",
      "DEBUG [urllib3.connectionpool._make_request()]: https://mast.stsci.edu:443 \"POST /api/v0/invoke HTTP/1.1\" 200 None\n",
      "DEBUG [urllib3.connectionpool._get_conn()]: Resetting dropped connection: mast.stsci.edu\n",
      "DEBUG [urllib3.connectionpool._make_request()]: https://mast.stsci.edu:443 \"POST /api/v0/invoke HTTP/1.1\" 200 None\n",
      "No eleanor postcard has been made for your target (yet). Using TessCut instead.\n",
      "DEBUG [urllib3.connectionpool._get_conn()]: Resetting dropped connection: mast.stsci.edu\n",
      "DEBUG [urllib3.connectionpool._make_request()]: https://mast.stsci.edu:443 \"GET /tesscut/api/v0.1/astrocut?ra=286.490426725985&dec=38.3749150423046&y=31&x=31&units=px&sector=14 HTTP/1.1\" 200 None\n",
      "Downloading URL https://mast.stsci.edu/tesscut/api/v0.1/astrocut?ra=286.490426725985&dec=38.3749150423046&y=31&x=31&units=px&sector=14 to /Users/hosborn/.eleanor/tesscut/tesscut_20200721020137.zip ... [Done]\n",
      "Inflating...\n"
     ]
    },
    {
     "name": "stderr",
     "output_type": "stream",
     "text": [
      "100%|██████████| 1241/1241 [00:15<00:00, 80.28it/s]\n"
     ]
    },
    {
     "name": "stdout",
     "output_type": "stream",
     "text": [
      "131 points masked in lc of 1241\n",
      "Kepler file\n",
      "20 points masked in lc of 1639\n",
      "Kepler file\n",
      "294 points masked in lc of 4354\n",
      "Kepler file\n",
      "244 points masked in lc of 4370\n",
      "Kepler file\n",
      "295 points masked in lc of 4397\n",
      "Kepler file\n",
      "159 points masked in lc of 4634\n",
      "Kepler file\n",
      "131 points masked in lc of 4398\n",
      "Kepler file\n",
      "152 points masked in lc of 4375\n",
      "Kepler file\n",
      "180 points masked in lc of 3279\n",
      "Kepler file\n",
      "176 points masked in lc of 4768\n",
      "Kepler file\n",
      "143 points masked in lc of 4573\n",
      "Kepler file\n",
      "288 points masked in lc of 4754\n",
      "Kepler file\n",
      "505 points masked in lc of 4044\n",
      "Kepler file\n",
      "193 points masked in lc of 4421\n",
      "Kepler file\n",
      "495 points masked in lc of 4757\n",
      "Kepler file\n",
      "421 points masked in lc of 4780\n",
      "Kepler file\n",
      "673 points masked in lc of 4203\n",
      "Kepler file\n",
      "280 points masked in lc of 1556\n",
      "[0, 1, 2, 3, 4, 5, 6, 7, 8, 9, 10, 11, 12, 13, 14, 15, 16]\n",
      "[0, 1]\n",
      "transit mask: <class 'numpy.ndarray'> 67629 1 <class 'numpy.ndarray'> 67629 True\n",
      "00 - Checks complete.  SNR: 28.66029  SNR_r: 56.89089  variability: -1318.03  centroid: 11.36522 | flag: planet\n",
      "DEBUG [matplotlib.backends.backend_pdf.fontName()]: Assigning font /b'F1' = '/Users/hosborn/transits/lib/python3.7/site-packages/matplotlib/mpl-data/fonts/ttf/DejaVuSans.ttf'\n",
      "DEBUG [matplotlib.backends.backend_pdf.writeFonts()]: Embedding font /Users/hosborn/transits/lib/python3.7/site-packages/matplotlib/mpl-data/fonts/ttf/DejaVuSans.ttf.\n",
      "DEBUG [matplotlib.backends.backend_pdf.writeFonts()]: Writing TrueType font.\n",
      "Already processed Unnamed: 0                                        13\n",
      "dec                                              NaN\n",
      "dur                                         0.681862\n",
      "file          DFM_Kepler_lower_vetting_threshold.csv\n",
      "id                                       4.75446e+06\n",
      "mission                                       Kepler\n",
      "ra                                               NaN\n",
      "tcen                                         826.836\n",
      "Name: 12, dtype: object\n",
      "DEBUG [urllib3.connectionpool._make_request()]: https://mast.stsci.edu:443 \"POST /api/v0/invoke HTTP/1.1\" 200 None\n",
      "5521451  not in TIC\n",
      "DEBUG [urllib3.connectionpool._new_conn()]: Starting new HTTP connection (1): vizier.u-strasbg.fr:80\n",
      "DEBUG [urllib3.connectionpool._make_request()]: http://vizier.u-strasbg.fr:80 \"POST /viz-bin/votable HTTP/1.1\" 200 658\n",
      "DEBUG [urllib3.connectionpool._make_request()]: https://mast.stsci.edu:443 \"POST /api/v0/invoke HTTP/1.1\" 200 None\n",
      "DEBUG [urllib3.connectionpool._new_conn()]: Starting new HTTPS connection (1): heasarc.gsfc.nasa.gov:443\n",
      "DEBUG [urllib3.connectionpool._make_request()]: https://heasarc.gsfc.nasa.gov:443 \"GET /cgi-bin/tess/webtess/wtv.py?Entry=287.81702%2C+40.741718 HTTP/1.1\" 200 None\n",
      "https://heasarc.gsfc.nasa.gov/cgi-bin/tess/webtess/wtv.py?Entry=<SkyCoord (ICRS): (ra, dec) in deg\n",
      "    (287.81702, 40.741718)>\n",
      "[14] <class 'list'>\n",
      "No QLP files at /Volumes/LUVOIR/MonoToolsData/TIC00121333237 Loading Eleanor Lightcurve\n",
      "DEBUG [urllib3.connectionpool._make_request()]: https://mast.stsci.edu:443 \"POST /api/v0/invoke HTTP/1.1\" 200 None\n",
      "DEBUG [urllib3.connectionpool._make_request()]: https://mast.stsci.edu:443 \"POST /api/v0/invoke HTTP/1.1\" 200 None\n",
      "DEBUG [urllib3.connectionpool._make_request()]: https://mast.stsci.edu:443 \"POST /api/v0/invoke HTTP/1.1\" 200 None\n",
      "No eleanor postcard has been made for your target (yet). Using TessCut instead.\n",
      "DEBUG [urllib3.connectionpool._get_conn()]: Resetting dropped connection: mast.stsci.edu\n",
      "DEBUG [urllib3.connectionpool._make_request()]: https://mast.stsci.edu:443 \"GET /tesscut/api/v0.1/astrocut?ra=287.813293560938&dec=40.7404878929773&y=31&x=31&units=px&sector=14 HTTP/1.1\" 200 None\n",
      "Downloading URL https://mast.stsci.edu/tesscut/api/v0.1/astrocut?ra=287.813293560938&dec=40.7404878929773&y=31&x=31&units=px&sector=14 to /Users/hosborn/.eleanor/tesscut/tesscut_20200721020532.zip ... [Done]\n",
      "Inflating...\n"
     ]
    },
    {
     "name": "stderr",
     "output_type": "stream",
     "text": [
      "100%|██████████| 1241/1241 [00:15<00:00, 81.79it/s]\n"
     ]
    },
    {
     "name": "stdout",
     "output_type": "stream",
     "text": [
      "82 points masked in lc of 1241\n",
      "Kepler file\n",
      "25 points masked in lc of 1639\n",
      "Kepler file\n",
      "297 points masked in lc of 4354\n",
      "Kepler file\n",
      "247 points masked in lc of 4370\n",
      "Kepler file\n",
      "305 points masked in lc of 4397\n",
      "Kepler file\n",
      "158 points masked in lc of 4634\n",
      "Kepler file\n",
      "136 points masked in lc of 4398\n",
      "Kepler file\n",
      "157 points masked in lc of 4375\n",
      "Kepler file\n",
      "181 points masked in lc of 3279\n",
      "Kepler file\n",
      "170 points masked in lc of 4768\n",
      "Kepler file\n",
      "139 points masked in lc of 4573\n",
      "Kepler file\n",
      "296 points masked in lc of 4754\n",
      "Kepler file\n",
      "507 points masked in lc of 4044\n",
      "Kepler file\n",
      "193 points masked in lc of 4421\n",
      "Kepler file\n",
      "498 points masked in lc of 4757\n",
      "Kepler file\n",
      "422 points masked in lc of 4780\n",
      "Kepler file\n",
      "673 points masked in lc of 4203\n",
      "Kepler file\n",
      "276 points masked in lc of 1556\n",
      "[0, 1, 2, 3, 4, 5, 6, 7, 8, 9, 10, 11, 12, 13, 14, 15, 16]\n",
      "[0, 1]\n",
      "transit mask: <class 'numpy.ndarray'> 67629 1 <class 'numpy.ndarray'> 67629 True\n"
     ]
    },
    {
     "name": "stderr",
     "output_type": "stream",
     "text": [
      "INFO (theano.gof.compilelock): Waiting for existing lock by process '20511' (I am process '19630')\n"
     ]
    },
    {
     "name": "stdout",
     "output_type": "stream",
     "text": [
      "INFO  [theano.gof.compilelock.lock()]: Waiting for existing lock by process '20511' (I am process '19630')\n"
     ]
    },
    {
     "name": "stderr",
     "output_type": "stream",
     "text": [
      "INFO (theano.gof.compilelock): To manually release the lock, delete /Users/hosborn/.theano/compiledir_Darwin-19.3.0-x86_64-i386-64bit-i386-3.7.6-64/lock_dir\n"
     ]
    },
    {
     "name": "stdout",
     "output_type": "stream",
     "text": [
      "INFO  [theano.gof.compilelock.lock()]: To manually release the lock, delete /Users/hosborn/.theano/compiledir_Darwin-19.3.0-x86_64-i386-64bit-i386-3.7.6-64/lock_dir\n"
     ]
    },
    {
     "name": "stderr",
     "output_type": "stream",
     "text": [
      "INFO (theano.gof.compilelock): Waiting for existing lock by process '20511' (I am process '19630')\n"
     ]
    },
    {
     "name": "stdout",
     "output_type": "stream",
     "text": [
      "INFO  [theano.gof.compilelock.lock()]: Waiting for existing lock by process '20511' (I am process '19630')\n"
     ]
    },
    {
     "name": "stderr",
     "output_type": "stream",
     "text": [
      "INFO (theano.gof.compilelock): To manually release the lock, delete /Users/hosborn/.theano/compiledir_Darwin-19.3.0-x86_64-i386-64bit-i386-3.7.6-64/lock_dir\n"
     ]
    },
    {
     "name": "stdout",
     "output_type": "stream",
     "text": [
      "INFO  [theano.gof.compilelock.lock()]: To manually release the lock, delete /Users/hosborn/.theano/compiledir_Darwin-19.3.0-x86_64-i386-64bit-i386-3.7.6-64/lock_dir\n"
     ]
    },
    {
     "name": "stderr",
     "output_type": "stream",
     "text": [
      "INFO (theano.gof.compilelock): Waiting for existing lock by process '20511' (I am process '19630')\n"
     ]
    },
    {
     "name": "stdout",
     "output_type": "stream",
     "text": [
      "INFO  [theano.gof.compilelock.lock()]: Waiting for existing lock by process '20511' (I am process '19630')\n"
     ]
    },
    {
     "name": "stderr",
     "output_type": "stream",
     "text": [
      "INFO (theano.gof.compilelock): To manually release the lock, delete /Users/hosborn/.theano/compiledir_Darwin-19.3.0-x86_64-i386-64bit-i386-3.7.6-64/lock_dir\n"
     ]
    },
    {
     "name": "stdout",
     "output_type": "stream",
     "text": [
      "INFO  [theano.gof.compilelock.lock()]: To manually release the lock, delete /Users/hosborn/.theano/compiledir_Darwin-19.3.0-x86_64-i386-64bit-i386-3.7.6-64/lock_dir\n",
      "00 step. LogLik= 13960.144885789716\n",
      "00 variability. LogLik= 12266.94592959826\n",
      "00 - Checks complete.  SNR: 28.88433  SNR_r: 9.235361  variability: 12266.94  centroid: 12.47851 | flag: variability\n",
      "DEBUG [matplotlib.backends.backend_pdf.fontName()]: Assigning font /b'F1' = '/Users/hosborn/transits/lib/python3.7/site-packages/matplotlib/mpl-data/fonts/ttf/DejaVuSans.ttf'\n",
      "DEBUG [matplotlib.backends.backend_pdf.writeFonts()]: Embedding font /Users/hosborn/transits/lib/python3.7/site-packages/matplotlib/mpl-data/fonts/ttf/DejaVuSans.ttf.\n",
      "DEBUG [matplotlib.backends.backend_pdf.writeFonts()]: Writing TrueType font.\n",
      "Already processed Unnamed: 0                                        18\n",
      "dec                                              NaN\n",
      "dur                                         0.255486\n",
      "file          DFM_Kepler_lower_vetting_threshold.csv\n",
      "id                                       7.45616e+06\n",
      "mission                                       Kepler\n",
      "ra                                               NaN\n",
      "tcen                                         918.088\n",
      "Name: 16, dtype: object\n",
      "DEBUG [urllib3.connectionpool._make_request()]: https://mast.stsci.edu:443 \"POST /api/v0/invoke HTTP/1.1\" 200 None\n",
      "7971363  not in TIC\n",
      "DEBUG [urllib3.connectionpool._new_conn()]: Starting new HTTP connection (1): vizier.u-strasbg.fr:80\n",
      "DEBUG [urllib3.connectionpool._make_request()]: http://vizier.u-strasbg.fr:80 \"POST /viz-bin/votable HTTP/1.1\" 200 659\n",
      "DEBUG [urllib3.connectionpool._make_request()]: https://mast.stsci.edu:443 \"POST /api/v0/invoke HTTP/1.1\" 200 None\n",
      "DEBUG [urllib3.connectionpool._new_conn()]: Starting new HTTPS connection (1): heasarc.gsfc.nasa.gov:443\n",
      "DEBUG [urllib3.connectionpool._make_request()]: https://heasarc.gsfc.nasa.gov:443 \"GET /cgi-bin/tess/webtess/wtv.py?Entry=295.62838999999997%2C+43.757141 HTTP/1.1\" 200 None\n",
      "https://heasarc.gsfc.nasa.gov/cgi-bin/tess/webtess/wtv.py?Entry=<SkyCoord (ICRS): (ra, dec) in deg\n",
      "    (295.62839, 43.757141)>\n",
      "[14, 15] <class 'list'>\n",
      "No QLP files at /Volumes/LUVOIR/MonoToolsData/TIC00271766569 Loading Eleanor Lightcurve\n",
      "DEBUG [urllib3.connectionpool._make_request()]: https://mast.stsci.edu:443 \"POST /api/v0/invoke HTTP/1.1\" 200 None\n",
      "DEBUG [urllib3.connectionpool._make_request()]: https://mast.stsci.edu:443 \"POST /api/v0/invoke HTTP/1.1\" 200 None\n",
      "DEBUG [urllib3.connectionpool._make_request()]: https://mast.stsci.edu:443 \"POST /api/v0/invoke HTTP/1.1\" 200 None\n",
      "No eleanor postcard has been made for your target (yet). Using TessCut instead.\n",
      "DEBUG [urllib3.connectionpool._get_conn()]: Resetting dropped connection: mast.stsci.edu\n",
      "DEBUG [urllib3.connectionpool._make_request()]: https://mast.stsci.edu:443 \"GET /tesscut/api/v0.1/astrocut?ra=295.628372800638&dec=43.7571522037896&y=31&x=31&units=px&sector=14 HTTP/1.1\" 200 None\n",
      "Downloading URL https://mast.stsci.edu/tesscut/api/v0.1/astrocut?ra=295.628372800638&dec=43.7571522037896&y=31&x=31&units=px&sector=14 to /Users/hosborn/.eleanor/tesscut/tesscut_20200721020934.zip ... [Done]\n",
      "Inflating...\n"
     ]
    },
    {
     "name": "stderr",
     "output_type": "stream",
     "text": [
      "100%|██████████| 1241/1241 [00:18<00:00, 67.91it/s]\n"
     ]
    },
    {
     "name": "stdout",
     "output_type": "stream",
     "text": [
      "81 points masked in lc of 1241\n",
      "No QLP files at /Volumes/LUVOIR/MonoToolsData/TIC00271766569 Loading Eleanor Lightcurve\n",
      "DEBUG [urllib3.connectionpool._make_request()]: https://mast.stsci.edu:443 \"POST /api/v0/invoke HTTP/1.1\" 200 None\n",
      "DEBUG [urllib3.connectionpool._make_request()]: https://mast.stsci.edu:443 \"POST /api/v0/invoke HTTP/1.1\" 200 None\n",
      "DEBUG [urllib3.connectionpool._make_request()]: https://mast.stsci.edu:443 \"POST /api/v0/invoke HTTP/1.1\" 200 None\n",
      "No eleanor postcard has been made for your target (yet). Using TessCut instead.\n",
      "DEBUG [urllib3.connectionpool._make_request()]: https://mast.stsci.edu:443 \"GET /tesscut/api/v0.1/astrocut?ra=295.628372800638&dec=43.7571522037896&y=31&x=31&units=px&sector=15 HTTP/1.1\" 200 None\n",
      "Downloading URL https://mast.stsci.edu/tesscut/api/v0.1/astrocut?ra=295.628372800638&dec=43.7571522037896&y=31&x=31&units=px&sector=15 to /Users/hosborn/.eleanor/tesscut/tesscut_20200721021005.zip ... [Done]\n",
      "Inflating...\n"
     ]
    },
    {
     "name": "stderr",
     "output_type": "stream",
     "text": [
      "100%|██████████| 1197/1197 [00:22<00:00, 52.19it/s]\n"
     ]
    },
    {
     "name": "stdout",
     "output_type": "stream",
     "text": [
      "74 points masked in lc of 1197\n",
      "[0, 1]\n",
      "Kepler file\n",
      "21 points masked in lc of 1639\n",
      "Kepler file\n",
      "293 points masked in lc of 4354\n",
      "Kepler file\n",
      "242 points masked in lc of 4370\n",
      "Kepler file\n",
      "298 points masked in lc of 4397\n",
      "Kepler file\n",
      "157 points masked in lc of 4634\n",
      "Kepler file\n",
      "135 points masked in lc of 4398\n",
      "Kepler file\n",
      "161 points masked in lc of 4375\n",
      "Kepler file\n",
      "180 points masked in lc of 3279\n",
      "Kepler file\n",
      "166 points masked in lc of 4768\n",
      "Kepler file\n",
      "136 points masked in lc of 4573\n",
      "Kepler file\n",
      "294 points masked in lc of 4754\n",
      "Kepler file\n",
      "501 points masked in lc of 4044\n",
      "Kepler file\n",
      "197 points masked in lc of 4421\n",
      "Kepler file\n",
      "494 points masked in lc of 4757\n",
      "Kepler file\n",
      "425 points masked in lc of 4780\n",
      "Kepler file\n",
      "679 points masked in lc of 4203\n",
      "Kepler file\n",
      "272 points masked in lc of 1556\n",
      "[0, 1, 2, 3, 4, 5, 6, 7, 8, 9, 10, 11, 12, 13, 14, 15, 16]\n",
      "[0, 1]\n",
      "transit mask: <class 'numpy.ndarray'> 68826 1 <class 'numpy.ndarray'> 68826 True\n"
     ]
    },
    {
     "name": "stderr",
     "output_type": "stream",
     "text": [
      "INFO (theano.gof.compilelock): Waiting for existing lock by process '20511' (I am process '19630')\n"
     ]
    },
    {
     "name": "stdout",
     "output_type": "stream",
     "text": [
      "INFO  [theano.gof.compilelock.lock()]: Waiting for existing lock by process '20511' (I am process '19630')\n"
     ]
    },
    {
     "name": "stderr",
     "output_type": "stream",
     "text": [
      "INFO (theano.gof.compilelock): To manually release the lock, delete /Users/hosborn/.theano/compiledir_Darwin-19.3.0-x86_64-i386-64bit-i386-3.7.6-64/lock_dir\n"
     ]
    },
    {
     "name": "stdout",
     "output_type": "stream",
     "text": [
      "INFO  [theano.gof.compilelock.lock()]: To manually release the lock, delete /Users/hosborn/.theano/compiledir_Darwin-19.3.0-x86_64-i386-64bit-i386-3.7.6-64/lock_dir\n"
     ]
    },
    {
     "name": "stderr",
     "output_type": "stream",
     "text": [
      "INFO (theano.gof.compilelock): Waiting for existing lock by process '20511' (I am process '19630')\n"
     ]
    },
    {
     "name": "stdout",
     "output_type": "stream",
     "text": [
      "INFO  [theano.gof.compilelock.lock()]: Waiting for existing lock by process '20511' (I am process '19630')\n"
     ]
    },
    {
     "name": "stderr",
     "output_type": "stream",
     "text": [
      "INFO (theano.gof.compilelock): To manually release the lock, delete /Users/hosborn/.theano/compiledir_Darwin-19.3.0-x86_64-i386-64bit-i386-3.7.6-64/lock_dir\n"
     ]
    },
    {
     "name": "stdout",
     "output_type": "stream",
     "text": [
      "INFO  [theano.gof.compilelock.lock()]: To manually release the lock, delete /Users/hosborn/.theano/compiledir_Darwin-19.3.0-x86_64-i386-64bit-i386-3.7.6-64/lock_dir\n",
      "NO JUICE Unnamed: 0                                        20\n",
      "dec                                              NaN\n",
      "dur                                          1.23064\n",
      "file          DFM_Kepler_lower_vetting_threshold.csv\n",
      "id                                       7.97136e+06\n",
      "mission                                       Kepler\n",
      "ra                                               NaN\n",
      "tcen                                          675.77\n",
      "Name: 18, dtype: object\n",
      "DEBUG [urllib3.connectionpool._make_request()]: https://mast.stsci.edu:443 \"POST /api/v0/invoke HTTP/1.1\" 200 None\n",
      "8410697  not in TIC\n",
      "DEBUG [urllib3.connectionpool._new_conn()]: Starting new HTTP connection (1): vizier.u-strasbg.fr:80\n",
      "DEBUG [urllib3.connectionpool._make_request()]: http://vizier.u-strasbg.fr:80 \"POST /viz-bin/votable HTTP/1.1\" 200 657\n",
      "DEBUG [urllib3.connectionpool._make_request()]: https://mast.stsci.edu:443 \"POST /api/v0/invoke HTTP/1.1\" 200 None\n",
      "DEBUG [urllib3.connectionpool._new_conn()]: Starting new HTTPS connection (1): heasarc.gsfc.nasa.gov:443\n",
      "DEBUG [urllib3.connectionpool._make_request()]: https://heasarc.gsfc.nasa.gov:443 \"GET /cgi-bin/tess/webtess/wtv.py?Entry=282.18582000000004%2C+44.434478999999996 HTTP/1.1\" 200 None\n",
      "https://heasarc.gsfc.nasa.gov/cgi-bin/tess/webtess/wtv.py?Entry=<SkyCoord (ICRS): (ra, dec) in deg\n",
      "    (282.18582, 44.434479)>\n",
      "[14] <class 'list'>\n",
      "No QLP files at /Volumes/LUVOIR/MonoToolsData/TIC00123417316 Loading Eleanor Lightcurve\n",
      "DEBUG [urllib3.connectionpool._make_request()]: https://mast.stsci.edu:443 \"POST /api/v0/invoke HTTP/1.1\" 200 None\n",
      "DEBUG [urllib3.connectionpool._make_request()]: https://mast.stsci.edu:443 \"POST /api/v0/invoke HTTP/1.1\" 200 None\n",
      "DEBUG [urllib3.connectionpool._make_request()]: https://mast.stsci.edu:443 \"POST /api/v0/invoke HTTP/1.1\" 200 None\n",
      "No eleanor postcard has been made for your target (yet). Using TessCut instead.\n",
      "DEBUG [urllib3.connectionpool._get_conn()]: Resetting dropped connection: mast.stsci.edu\n",
      "DEBUG [urllib3.connectionpool._make_request()]: https://mast.stsci.edu:443 \"GET /tesscut/api/v0.1/astrocut?ra=282.185792246184&dec=44.4344649283927&y=31&x=31&units=px&sector=14 HTTP/1.1\" 200 None\n",
      "Downloading URL https://mast.stsci.edu/tesscut/api/v0.1/astrocut?ra=282.185792246184&dec=44.4344649283927&y=31&x=31&units=px&sector=14 to /Users/hosborn/.eleanor/tesscut/tesscut_20200721021421.zip ... [Done]\n",
      "Inflating...\n"
     ]
    },
    {
     "name": "stderr",
     "output_type": "stream",
     "text": [
      "100%|██████████| 1241/1241 [00:22<00:00, 55.86it/s]\n"
     ]
    },
    {
     "name": "stdout",
     "output_type": "stream",
     "text": [
      "82 points masked in lc of 1241\n",
      "Kepler file\n",
      "7 points masked in lc of 476\n",
      "Kepler file\n",
      "23 points masked in lc of 1639\n",
      "Kepler file\n",
      "298 points masked in lc of 4354\n",
      "Kepler file\n",
      "244 points masked in lc of 4370\n",
      "Kepler file\n",
      "299 points masked in lc of 4397\n",
      "Kepler file\n",
      "162 points masked in lc of 4634\n",
      "Kepler file\n",
      "146 points masked in lc of 4398\n",
      "Kepler file\n",
      "158 points masked in lc of 4375\n",
      "Kepler file\n",
      "184 points masked in lc of 3279\n",
      "Kepler file\n",
      "168 points masked in lc of 4768\n",
      "Kepler file\n",
      "150 points masked in lc of 4573\n",
      "Kepler file\n",
      "287 points masked in lc of 4754\n",
      "Kepler file\n",
      "499 points masked in lc of 4044\n",
      "Kepler file\n",
      "193 points masked in lc of 4421\n",
      "Kepler file\n",
      "498 points masked in lc of 4757\n",
      "Kepler file\n",
      "422 points masked in lc of 4780\n",
      "Kepler file\n",
      "689 points masked in lc of 4203\n",
      "Kepler file\n",
      "278 points masked in lc of 1556\n",
      "[0, 1, 2, 3, 4, 5, 6, 7, 8, 9, 10, 11, 12, 13, 14, 15, 16, 17]\n",
      "[0, 1]\n",
      "transit mask: <class 'numpy.ndarray'> 68105 1 <class 'numpy.ndarray'> 68105 True\n"
     ]
    },
    {
     "name": "stderr",
     "output_type": "stream",
     "text": [
      "INFO (theano.gof.compilelock): Waiting for existing lock by process '20511' (I am process '19630')\n"
     ]
    },
    {
     "name": "stdout",
     "output_type": "stream",
     "text": [
      "INFO  [theano.gof.compilelock.lock()]: Waiting for existing lock by process '20511' (I am process '19630')\n"
     ]
    },
    {
     "name": "stderr",
     "output_type": "stream",
     "text": [
      "INFO (theano.gof.compilelock): To manually release the lock, delete /Users/hosborn/.theano/compiledir_Darwin-19.3.0-x86_64-i386-64bit-i386-3.7.6-64/lock_dir\n"
     ]
    },
    {
     "name": "stdout",
     "output_type": "stream",
     "text": [
      "INFO  [theano.gof.compilelock.lock()]: To manually release the lock, delete /Users/hosborn/.theano/compiledir_Darwin-19.3.0-x86_64-i386-64bit-i386-3.7.6-64/lock_dir\n"
     ]
    },
    {
     "name": "stderr",
     "output_type": "stream",
     "text": [
      "INFO (theano.gof.compilelock): Waiting for existing lock by process '20511' (I am process '19630')\n"
     ]
    },
    {
     "name": "stdout",
     "output_type": "stream",
     "text": [
      "INFO  [theano.gof.compilelock.lock()]: Waiting for existing lock by process '20511' (I am process '19630')\n"
     ]
    },
    {
     "name": "stderr",
     "output_type": "stream",
     "text": [
      "INFO (theano.gof.compilelock): To manually release the lock, delete /Users/hosborn/.theano/compiledir_Darwin-19.3.0-x86_64-i386-64bit-i386-3.7.6-64/lock_dir\n"
     ]
    },
    {
     "name": "stdout",
     "output_type": "stream",
     "text": [
      "INFO  [theano.gof.compilelock.lock()]: To manually release the lock, delete /Users/hosborn/.theano/compiledir_Darwin-19.3.0-x86_64-i386-64bit-i386-3.7.6-64/lock_dir\n"
     ]
    },
    {
     "name": "stderr",
     "output_type": "stream",
     "text": [
      "INFO (theano.gof.compilelock): Waiting for existing lock by process '20511' (I am process '19630')\n"
     ]
    },
    {
     "name": "stdout",
     "output_type": "stream",
     "text": [
      "INFO  [theano.gof.compilelock.lock()]: Waiting for existing lock by process '20511' (I am process '19630')\n"
     ]
    },
    {
     "name": "stderr",
     "output_type": "stream",
     "text": [
      "INFO (theano.gof.compilelock): To manually release the lock, delete /Users/hosborn/.theano/compiledir_Darwin-19.3.0-x86_64-i386-64bit-i386-3.7.6-64/lock_dir\n"
     ]
    },
    {
     "name": "stdout",
     "output_type": "stream",
     "text": [
      "INFO  [theano.gof.compilelock.lock()]: To manually release the lock, delete /Users/hosborn/.theano/compiledir_Darwin-19.3.0-x86_64-i386-64bit-i386-3.7.6-64/lock_dir\n"
     ]
    },
    {
     "name": "stderr",
     "output_type": "stream",
     "text": [
      "INFO (theano.gof.compilelock): Waiting for existing lock by process '20511' (I am process '19630')\n"
     ]
    },
    {
     "name": "stdout",
     "output_type": "stream",
     "text": [
      "INFO  [theano.gof.compilelock.lock()]: Waiting for existing lock by process '20511' (I am process '19630')\n"
     ]
    },
    {
     "name": "stderr",
     "output_type": "stream",
     "text": [
      "INFO (theano.gof.compilelock): To manually release the lock, delete /Users/hosborn/.theano/compiledir_Darwin-19.3.0-x86_64-i386-64bit-i386-3.7.6-64/lock_dir\n"
     ]
    },
    {
     "name": "stdout",
     "output_type": "stream",
     "text": [
      "INFO  [theano.gof.compilelock.lock()]: To manually release the lock, delete /Users/hosborn/.theano/compiledir_Darwin-19.3.0-x86_64-i386-64bit-i386-3.7.6-64/lock_dir\n",
      "00 - Checks complete.  SNR: 33.63046  SNR_r: 91.09670  variability: -6378.42  centroid: 11.19554 | flag: planet\n",
      "DEBUG [matplotlib.backends.backend_pdf.fontName()]: Assigning font /b'F1' = '/Users/hosborn/transits/lib/python3.7/site-packages/matplotlib/mpl-data/fonts/ttf/DejaVuSans.ttf'\n",
      "DEBUG [matplotlib.backends.backend_pdf.writeFonts()]: Embedding font /Users/hosborn/transits/lib/python3.7/site-packages/matplotlib/mpl-data/fonts/ttf/DejaVuSans.ttf.\n",
      "DEBUG [matplotlib.backends.backend_pdf.writeFonts()]: Writing TrueType font.\n",
      "DEBUG [urllib3.connectionpool._make_request()]: https://mast.stsci.edu:443 \"POST /api/v0/invoke HTTP/1.1\" 200 None\n",
      "8800954  not in TIC\n",
      "DEBUG [urllib3.connectionpool._new_conn()]: Starting new HTTP connection (1): vizier.u-strasbg.fr:80\n",
      "DEBUG [urllib3.connectionpool._make_request()]: http://vizier.u-strasbg.fr:80 \"POST /viz-bin/votable HTTP/1.1\" 200 657\n",
      "DEBUG [urllib3.connectionpool._make_request()]: https://mast.stsci.edu:443 \"POST /api/v0/invoke HTTP/1.1\" 200 None\n",
      "DEBUG [urllib3.connectionpool._new_conn()]: Starting new HTTPS connection (1): heasarc.gsfc.nasa.gov:443\n",
      "DEBUG [urllib3.connectionpool._make_request()]: https://heasarc.gsfc.nasa.gov:443 \"GET /cgi-bin/tess/webtess/wtv.py?Entry=283.25681000000003%2C+45.08778 HTTP/1.1\" 200 None\n",
      "https://heasarc.gsfc.nasa.gov/cgi-bin/tess/webtess/wtv.py?Entry=<SkyCoord (ICRS): (ra, dec) in deg\n",
      "    (283.25681, 45.08778)>\n",
      "[14] <class 'list'>\n",
      "No QLP files at /Volumes/LUVOIR/MonoToolsData/TIC00164522394 Loading Eleanor Lightcurve\n",
      "DEBUG [urllib3.connectionpool._make_request()]: https://mast.stsci.edu:443 \"POST /api/v0/invoke HTTP/1.1\" 200 None\n",
      "DEBUG [urllib3.connectionpool._make_request()]: https://mast.stsci.edu:443 \"POST /api/v0/invoke HTTP/1.1\" 200 None\n",
      "DEBUG [urllib3.connectionpool._make_request()]: https://mast.stsci.edu:443 \"POST /api/v0/invoke HTTP/1.1\" 200 None\n",
      "No eleanor postcard has been made for your target (yet). Using TessCut instead.\n",
      "DEBUG [urllib3.connectionpool._get_conn()]: Resetting dropped connection: mast.stsci.edu\n",
      "DEBUG [urllib3.connectionpool._make_request()]: https://mast.stsci.edu:443 \"GET /tesscut/api/v0.1/astrocut?ra=283.256836014115&dec=45.087770140855&y=31&x=31&units=px&sector=14 HTTP/1.1\" 200 None\n",
      "Downloading URL https://mast.stsci.edu/tesscut/api/v0.1/astrocut?ra=283.256836014115&dec=45.087770140855&y=31&x=31&units=px&sector=14 to /Users/hosborn/.eleanor/tesscut/tesscut_20200721021927.zip ... [Done]\n",
      "Inflating...\n"
     ]
    },
    {
     "name": "stderr",
     "output_type": "stream",
     "text": [
      "100%|██████████| 1241/1241 [00:19<00:00, 64.39it/s]\n"
     ]
    },
    {
     "name": "stdout",
     "output_type": "stream",
     "text": [
      "93 points masked in lc of 1241\n",
      "Kepler file\n",
      "9 points masked in lc of 476\n",
      "Kepler file\n",
      "18 points masked in lc of 1639\n",
      "Kepler file\n",
      "301 points masked in lc of 4354\n",
      "Kepler file\n",
      "251 points masked in lc of 4370\n",
      "Kepler file\n",
      "295 points masked in lc of 4397\n",
      "Kepler file\n",
      "166 points masked in lc of 4634\n",
      "Kepler file\n",
      "138 points masked in lc of 4398\n",
      "Kepler file\n",
      "162 points masked in lc of 4375\n",
      "Kepler file\n",
      "181 points masked in lc of 3279\n",
      "Kepler file\n",
      "173 points masked in lc of 4768\n",
      "Kepler file\n",
      "139 points masked in lc of 4573\n",
      "Kepler file\n",
      "290 points masked in lc of 4754\n",
      "Kepler file\n",
      "505 points masked in lc of 4044\n",
      "Kepler file\n",
      "200 points masked in lc of 4421\n",
      "Kepler file\n",
      "506 points masked in lc of 4757\n",
      "Kepler file\n",
      "420 points masked in lc of 4780\n",
      "Kepler file\n",
      "673 points masked in lc of 4203\n",
      "Kepler file\n",
      "277 points masked in lc of 1556\n",
      "[0, 1, 2, 3, 4, 5, 6, 7, 8, 9, 10, 11, 12, 13, 14, 15, 16, 17]\n",
      "[0, 1]\n",
      "transit mask: <class 'numpy.ndarray'> 68105 1 <class 'numpy.ndarray'> 68105 True\n",
      "00 - Checks complete.  SNR: 37.43967  SNR_r: 100.7010  variability: -2360.80  centroid: 10.80871 | flag: planet\n",
      "DEBUG [matplotlib.backends.backend_pdf.fontName()]: Assigning font /b'F1' = '/Users/hosborn/transits/lib/python3.7/site-packages/matplotlib/mpl-data/fonts/ttf/DejaVuSans.ttf'\n",
      "DEBUG [matplotlib.backends.backend_pdf.writeFonts()]: Embedding font /Users/hosborn/transits/lib/python3.7/site-packages/matplotlib/mpl-data/fonts/ttf/DejaVuSans.ttf.\n",
      "DEBUG [matplotlib.backends.backend_pdf.writeFonts()]: Writing TrueType font.\n",
      "DEBUG [urllib3.connectionpool._make_request()]: https://mast.stsci.edu:443 \"POST /api/v0/invoke HTTP/1.1\" 200 None\n",
      "9025370  not in TIC\n",
      "DEBUG [urllib3.connectionpool._new_conn()]: Starting new HTTP connection (1): vizier.u-strasbg.fr:80\n",
      "DEBUG [urllib3.connectionpool._make_request()]: http://vizier.u-strasbg.fr:80 \"POST /viz-bin/votable HTTP/1.1\" 200 658\n",
      "DEBUG [urllib3.connectionpool._make_request()]: https://mast.stsci.edu:443 \"POST /api/v0/invoke HTTP/1.1\" 200 None\n",
      "DEBUG [urllib3.connectionpool._new_conn()]: Starting new HTTPS connection (1): heasarc.gsfc.nasa.gov:443\n",
      "DEBUG [urllib3.connectionpool._make_request()]: https://heasarc.gsfc.nasa.gov:443 \"GET /cgi-bin/tess/webtess/wtv.py?Entry=293.06085%2C+45.310691999999996 HTTP/1.1\" 200 None\n",
      "https://heasarc.gsfc.nasa.gov/cgi-bin/tess/webtess/wtv.py?Entry=<SkyCoord (ICRS): (ra, dec) in deg\n",
      "    (293.06085, 45.310692)>\n",
      "[14, 15] <class 'list'>\n",
      "TESS file\n",
      "949 points masked in lc of 19337\n",
      "TESS file\n",
      "2621 points masked in lc of 18757\n",
      "[0, 1]\n",
      "Kepler file\n",
      "9 points masked in lc of 476\n",
      "Kepler file\n",
      "26 points masked in lc of 1639\n",
      "Kepler file\n",
      "314 points masked in lc of 4354\n",
      "Kepler file\n",
      "251 points masked in lc of 4370\n",
      "Kepler file\n",
      "302 points masked in lc of 4397\n",
      "Kepler file\n",
      "169 points masked in lc of 4634\n",
      "Kepler file\n",
      "149 points masked in lc of 4398\n",
      "Kepler file\n",
      "166 points masked in lc of 4375\n",
      "Kepler file\n",
      "193 points masked in lc of 3279\n",
      "Kepler file\n",
      "169 points masked in lc of 4768\n",
      "Kepler file\n",
      "164 points masked in lc of 4573\n",
      "Kepler file\n",
      "299 points masked in lc of 4754\n",
      "Kepler file\n",
      "523 points masked in lc of 4044\n",
      "Kepler file\n",
      "266 points masked in lc of 4421\n",
      "Kepler file\n",
      "501 points masked in lc of 4757\n",
      "Kepler file\n",
      "428 points masked in lc of 4780\n",
      "Kepler file\n",
      "707 points masked in lc of 4203\n",
      "Kepler file\n",
      "278 points masked in lc of 1556\n",
      "[0, 1, 2, 3, 4, 5, 6, 7, 8, 9, 10, 11, 12, 13, 14, 15, 16, 17]\n",
      "[0, 1]\n",
      "transit mask: <class 'numpy.ndarray'> 103499 0 <class 'numpy.ndarray'> 103499 True\n",
      "WARNING [matplotlib.legend._parse_legend_args()]: No handles with labels found to put in legend.\n",
      "00 lowSNR, SNR= 31.055967467603896 SNR_r= 2.9410770498879693 depth: 0.0005792473137368191 fit: False\n",
      "DEBUG [matplotlib.backends.backend_pdf.fontName()]: Assigning font /b'F1' = '/Users/hosborn/transits/lib/python3.7/site-packages/matplotlib/mpl-data/fonts/ttf/DejaVuSans.ttf'\n",
      "DEBUG [matplotlib.backends.backend_pdf.writeFonts()]: Embedding font /Users/hosborn/transits/lib/python3.7/site-packages/matplotlib/mpl-data/fonts/ttf/DejaVuSans.ttf.\n",
      "DEBUG [matplotlib.backends.backend_pdf.writeFonts()]: Writing TrueType font.\n",
      "DEBUG [urllib3.connectionpool._make_request()]: https://mast.stsci.edu:443 \"POST /api/v0/invoke HTTP/1.1\" 200 None\n",
      "9306307  not in TIC\n",
      "DEBUG [urllib3.connectionpool._new_conn()]: Starting new HTTP connection (1): vizier.u-strasbg.fr:80\n",
      "DEBUG [urllib3.connectionpool._make_request()]: http://vizier.u-strasbg.fr:80 \"POST /viz-bin/votable HTTP/1.1\" 200 658\n",
      "DEBUG [urllib3.connectionpool._make_request()]: https://mast.stsci.edu:443 \"POST /api/v0/invoke HTTP/1.1\" 200 None\n",
      "DEBUG [urllib3.connectionpool._new_conn()]: Starting new HTTPS connection (1): heasarc.gsfc.nasa.gov:443\n",
      "DEBUG [urllib3.connectionpool._make_request()]: https://heasarc.gsfc.nasa.gov:443 \"GET /cgi-bin/tess/webtess/wtv.py?Entry=300.24686%2C+45.780429999999996 HTTP/1.1\" 200 None\n",
      "https://heasarc.gsfc.nasa.gov/cgi-bin/tess/webtess/wtv.py?Entry=<SkyCoord (ICRS): (ra, dec) in deg\n",
      "    (300.24686, 45.78043)>\n",
      "[14, 15] <class 'list'>\n",
      "No QLP files at /Volumes/LUVOIR/MonoToolsData/TIC00239287236 Loading Eleanor Lightcurve\n",
      "DEBUG [urllib3.connectionpool._make_request()]: https://mast.stsci.edu:443 \"POST /api/v0/invoke HTTP/1.1\" 200 None\n",
      "DEBUG [urllib3.connectionpool._make_request()]: https://mast.stsci.edu:443 \"POST /api/v0/invoke HTTP/1.1\" 200 None\n",
      "DEBUG [urllib3.connectionpool._make_request()]: https://mast.stsci.edu:443 \"POST /api/v0/invoke HTTP/1.1\" 200 None\n",
      "No eleanor postcard has been made for your target (yet). Using TessCut instead.\n",
      "DEBUG [urllib3.connectionpool._get_conn()]: Resetting dropped connection: mast.stsci.edu\n",
      "DEBUG [urllib3.connectionpool._make_request()]: https://mast.stsci.edu:443 \"GET /tesscut/api/v0.1/astrocut?ra=300.246866325296&dec=45.7804208728218&y=31&x=31&units=px&sector=14 HTTP/1.1\" 200 None\n",
      "Downloading URL https://mast.stsci.edu/tesscut/api/v0.1/astrocut?ra=300.246866325296&dec=45.7804208728218&y=31&x=31&units=px&sector=14 to /Users/hosborn/.eleanor/tesscut/tesscut_20200721022726.zip ... [Done]\n",
      "Inflating...\n"
     ]
    },
    {
     "name": "stderr",
     "output_type": "stream",
     "text": [
      "100%|██████████| 1241/1241 [00:15<00:00, 79.00it/s]\n"
     ]
    },
    {
     "name": "stdout",
     "output_type": "stream",
     "text": [
      "80 points masked in lc of 1241\n",
      "No QLP files at /Volumes/LUVOIR/MonoToolsData/TIC00239287236 Loading Eleanor Lightcurve\n",
      "DEBUG [urllib3.connectionpool._make_request()]: https://mast.stsci.edu:443 \"POST /api/v0/invoke HTTP/1.1\" 200 None\n",
      "DEBUG [urllib3.connectionpool._make_request()]: https://mast.stsci.edu:443 \"POST /api/v0/invoke HTTP/1.1\" 200 None\n",
      "DEBUG [urllib3.connectionpool._make_request()]: https://mast.stsci.edu:443 \"POST /api/v0/invoke HTTP/1.1\" 200 None\n",
      "No eleanor postcard has been made for your target (yet). Using TessCut instead.\n",
      "DEBUG [urllib3.connectionpool._make_request()]: https://mast.stsci.edu:443 \"GET /tesscut/api/v0.1/astrocut?ra=300.246866325296&dec=45.7804208728218&y=31&x=31&units=px&sector=15 HTTP/1.1\" 200 None\n",
      "Downloading URL https://mast.stsci.edu/tesscut/api/v0.1/astrocut?ra=300.246866325296&dec=45.7804208728218&y=31&x=31&units=px&sector=15 to /Users/hosborn/.eleanor/tesscut/tesscut_20200721022753.zip ... [Done]\n",
      "Inflating...\n"
     ]
    },
    {
     "name": "stderr",
     "output_type": "stream",
     "text": [
      "100%|██████████| 1197/1197 [00:15<00:00, 78.50it/s]\n"
     ]
    },
    {
     "name": "stdout",
     "output_type": "stream",
     "text": [
      "74 points masked in lc of 1197\n",
      "[0, 1]\n",
      "Kepler file\n",
      "291 points masked in lc of 4354\n",
      "Kepler file\n",
      "246 points masked in lc of 4370\n",
      "Kepler file\n",
      "295 points masked in lc of 4397\n",
      "Kepler file\n",
      "154 points masked in lc of 4634\n",
      "Kepler file\n",
      "138 points masked in lc of 4398\n",
      "Kepler file\n",
      "159 points masked in lc of 4375\n",
      "Kepler file\n",
      "186 points masked in lc of 3279\n",
      "Kepler file\n",
      "163 points masked in lc of 4768\n",
      "Kepler file\n",
      "142 points masked in lc of 4573\n",
      "Kepler file\n",
      "290 points masked in lc of 4754\n",
      "Kepler file\n",
      "503 points masked in lc of 4044\n",
      "Kepler file\n",
      "189 points masked in lc of 4421\n",
      "Kepler file\n",
      "495 points masked in lc of 4757\n",
      "Kepler file\n",
      "422 points masked in lc of 4780\n",
      "Kepler file\n",
      "682 points masked in lc of 4203\n",
      "Kepler file\n",
      "273 points masked in lc of 1556\n",
      "[0, 1, 2, 3, 4, 5, 6, 7, 8, 9, 10, 11, 12, 13, 14, 15]\n",
      "[0, 1]\n",
      "transit mask: <class 'numpy.ndarray'> 67187 0 <class 'numpy.ndarray'> 67187 True\n"
     ]
    },
    {
     "name": "stderr",
     "output_type": "stream",
     "text": [
      "INFO (theano.gof.compilelock): Waiting for existing lock by process '20511' (I am process '19630')\n"
     ]
    },
    {
     "name": "stdout",
     "output_type": "stream",
     "text": [
      "INFO  [theano.gof.compilelock.lock()]: Waiting for existing lock by process '20511' (I am process '19630')\n"
     ]
    },
    {
     "name": "stderr",
     "output_type": "stream",
     "text": [
      "INFO (theano.gof.compilelock): To manually release the lock, delete /Users/hosborn/.theano/compiledir_Darwin-19.3.0-x86_64-i386-64bit-i386-3.7.6-64/lock_dir\n"
     ]
    },
    {
     "name": "stdout",
     "output_type": "stream",
     "text": [
      "INFO  [theano.gof.compilelock.lock()]: To manually release the lock, delete /Users/hosborn/.theano/compiledir_Darwin-19.3.0-x86_64-i386-64bit-i386-3.7.6-64/lock_dir\n"
     ]
    },
    {
     "name": "stderr",
     "output_type": "stream",
     "text": [
      "INFO (theano.gof.compilelock): Waiting for existing lock by process '20511' (I am process '19630')\n"
     ]
    },
    {
     "name": "stdout",
     "output_type": "stream",
     "text": [
      "INFO  [theano.gof.compilelock.lock()]: Waiting for existing lock by process '20511' (I am process '19630')\n"
     ]
    },
    {
     "name": "stderr",
     "output_type": "stream",
     "text": [
      "INFO (theano.gof.compilelock): To manually release the lock, delete /Users/hosborn/.theano/compiledir_Darwin-19.3.0-x86_64-i386-64bit-i386-3.7.6-64/lock_dir\n"
     ]
    },
    {
     "name": "stdout",
     "output_type": "stream",
     "text": [
      "INFO  [theano.gof.compilelock.lock()]: To manually release the lock, delete /Users/hosborn/.theano/compiledir_Darwin-19.3.0-x86_64-i386-64bit-i386-3.7.6-64/lock_dir\n"
     ]
    },
    {
     "name": "stderr",
     "output_type": "stream",
     "text": [
      "INFO (theano.gof.compilelock): Waiting for existing lock by process '20511' (I am process '19630')\n"
     ]
    },
    {
     "name": "stdout",
     "output_type": "stream",
     "text": [
      "INFO  [theano.gof.compilelock.lock()]: Waiting for existing lock by process '20511' (I am process '19630')\n"
     ]
    },
    {
     "name": "stderr",
     "output_type": "stream",
     "text": [
      "INFO (theano.gof.compilelock): To manually release the lock, delete /Users/hosborn/.theano/compiledir_Darwin-19.3.0-x86_64-i386-64bit-i386-3.7.6-64/lock_dir\n"
     ]
    },
    {
     "name": "stdout",
     "output_type": "stream",
     "text": [
      "INFO  [theano.gof.compilelock.lock()]: To manually release the lock, delete /Users/hosborn/.theano/compiledir_Darwin-19.3.0-x86_64-i386-64bit-i386-3.7.6-64/lock_dir\n"
     ]
    },
    {
     "name": "stderr",
     "output_type": "stream",
     "text": [
      "INFO (theano.gof.compilelock): Waiting for existing lock by process '20511' (I am process '19630')\n"
     ]
    },
    {
     "name": "stdout",
     "output_type": "stream",
     "text": [
      "INFO  [theano.gof.compilelock.lock()]: Waiting for existing lock by process '20511' (I am process '19630')\n"
     ]
    },
    {
     "name": "stderr",
     "output_type": "stream",
     "text": [
      "INFO (theano.gof.compilelock): To manually release the lock, delete /Users/hosborn/.theano/compiledir_Darwin-19.3.0-x86_64-i386-64bit-i386-3.7.6-64/lock_dir\n"
     ]
    },
    {
     "name": "stdout",
     "output_type": "stream",
     "text": [
      "INFO  [theano.gof.compilelock.lock()]: To manually release the lock, delete /Users/hosborn/.theano/compiledir_Darwin-19.3.0-x86_64-i386-64bit-i386-3.7.6-64/lock_dir\n",
      "00 - Checks complete.  SNR: 12.28961  SNR_r: 175.0399  variability: -174842.  centroid: 9.550486 | flag: planet\n",
      "DEBUG [matplotlib.backends.backend_pdf.fontName()]: Assigning font /b'F1' = '/Users/hosborn/transits/lib/python3.7/site-packages/matplotlib/mpl-data/fonts/ttf/DejaVuSans.ttf'\n",
      "DEBUG [matplotlib.backends.backend_pdf.writeFonts()]: Embedding font /Users/hosborn/transits/lib/python3.7/site-packages/matplotlib/mpl-data/fonts/ttf/DejaVuSans.ttf.\n",
      "DEBUG [matplotlib.backends.backend_pdf.writeFonts()]: Writing TrueType font.\n",
      "DEBUG [urllib3.connectionpool._make_request()]: https://mast.stsci.edu:443 \"POST /api/v0/invoke HTTP/1.1\" 200 None\n",
      "2158850  not in TIC\n",
      "DEBUG [urllib3.connectionpool._new_conn()]: Starting new HTTP connection (1): vizier.u-strasbg.fr:80\n",
      "DEBUG [urllib3.connectionpool._make_request()]: http://vizier.u-strasbg.fr:80 \"POST /viz-bin/votable HTTP/1.1\" 200 657\n",
      "DEBUG [urllib3.connectionpool._make_request()]: https://mast.stsci.edu:443 \"POST /api/v0/invoke HTTP/1.1\" 200 None\n",
      "DEBUG [urllib3.connectionpool._new_conn()]: Starting new HTTPS connection (1): heasarc.gsfc.nasa.gov:443\n",
      "DEBUG [urllib3.connectionpool._make_request()]: https://heasarc.gsfc.nasa.gov:443 \"GET /cgi-bin/tess/webtess/wtv.py?Entry=291.15781%2C+37.515469 HTTP/1.1\" 200 None\n",
      "https://heasarc.gsfc.nasa.gov/cgi-bin/tess/webtess/wtv.py?Entry=<SkyCoord (ICRS): (ra, dec) in deg\n",
      "    (291.15781, 37.515469)>\n",
      "[14] <class 'list'>\n",
      "TESS file\n",
      "8051 points masked in lc of 19337\n",
      "Kepler file\n",
      "7 points masked in lc of 476\n",
      "Kepler file\n",
      "22 points masked in lc of 1639\n",
      "Kepler file\n",
      "302 points masked in lc of 4354\n",
      "Kepler file\n",
      "252 points masked in lc of 4370\n",
      "Kepler file\n",
      "297 points masked in lc of 4397\n",
      "Kepler file\n",
      "159 points masked in lc of 4634\n",
      "Kepler file\n",
      "132 points masked in lc of 4398\n",
      "Kepler file\n",
      "167 points masked in lc of 4375\n",
      "Kepler file\n",
      "181 points masked in lc of 3279\n",
      "Kepler file\n",
      "170 points masked in lc of 4768\n",
      "Kepler file\n",
      "143 points masked in lc of 4573\n",
      "Kepler file\n",
      "296 points masked in lc of 4754\n",
      "Kepler file\n",
      "510 points masked in lc of 4044\n",
      "Kepler file\n",
      "192 points masked in lc of 4421\n",
      "Kepler file\n",
      "497 points masked in lc of 4757\n",
      "Kepler file\n",
      "423 points masked in lc of 4780\n",
      "Kepler file\n",
      "680 points masked in lc of 4203\n",
      "Kepler file\n",
      "274 points masked in lc of 1556\n",
      "[0, 1, 2, 3, 4, 5, 6, 7, 8, 9, 10, 11, 12, 13, 14, 15, 16, 17]\n",
      "[0, 1]\n",
      "transit mask: <class 'numpy.ndarray'> 85518 1 <class 'numpy.ndarray'> 85518 True\n",
      "WARNING [matplotlib.legend._parse_legend_args()]: No handles with labels found to put in legend.\n",
      "00 lowSNR, SNR= 6.462188411763345 SNR_r= 2.7645883982608734 depth: 0.0001320251750579482 fit: False\n",
      "DEBUG [matplotlib.backends.backend_pdf.fontName()]: Assigning font /b'F1' = '/Users/hosborn/transits/lib/python3.7/site-packages/matplotlib/mpl-data/fonts/ttf/DejaVuSans.ttf'\n",
      "DEBUG [matplotlib.backends.backend_pdf.writeFonts()]: Embedding font /Users/hosborn/transits/lib/python3.7/site-packages/matplotlib/mpl-data/fonts/ttf/DejaVuSans.ttf.\n",
      "DEBUG [matplotlib.backends.backend_pdf.writeFonts()]: Writing TrueType font.\n",
      "DEBUG [urllib3.connectionpool._make_request()]: https://mast.stsci.edu:443 \"POST /api/v0/invoke HTTP/1.1\" 200 None\n",
      "5010054  not in TIC\n",
      "DEBUG [urllib3.connectionpool._new_conn()]: Starting new HTTP connection (1): vizier.u-strasbg.fr:80\n",
      "DEBUG [urllib3.connectionpool._make_request()]: http://vizier.u-strasbg.fr:80 \"POST /viz-bin/votable HTTP/1.1\" 200 658\n",
      "DEBUG [urllib3.connectionpool._make_request()]: https://mast.stsci.edu:443 \"POST /api/v0/invoke HTTP/1.1\" 200 None\n",
      "DEBUG [urllib3.connectionpool._new_conn()]: Starting new HTTPS connection (1): heasarc.gsfc.nasa.gov:443\n",
      "DEBUG [urllib3.connectionpool._make_request()]: https://heasarc.gsfc.nasa.gov:443 \"GET /cgi-bin/tess/webtess/wtv.py?Entry=291.49838%2C+40.182891999999995 HTTP/1.1\" 200 None\n",
      "https://heasarc.gsfc.nasa.gov/cgi-bin/tess/webtess/wtv.py?Entry=<SkyCoord (ICRS): (ra, dec) in deg\n",
      "    (291.49838, 40.182892)>\n",
      "[14] <class 'list'>\n",
      "No QLP files at /Volumes/LUVOIR/MonoToolsData/TIC00137215153 Loading Eleanor Lightcurve\n",
      "DEBUG [urllib3.connectionpool._make_request()]: https://mast.stsci.edu:443 \"POST /api/v0/invoke HTTP/1.1\" 200 None\n",
      "DEBUG [urllib3.connectionpool._make_request()]: https://mast.stsci.edu:443 \"POST /api/v0/invoke HTTP/1.1\" 200 None\n",
      "DEBUG [urllib3.connectionpool._get_conn()]: Resetting dropped connection: mast.stsci.edu\n",
      "DEBUG [urllib3.connectionpool._make_request()]: https://mast.stsci.edu:443 \"POST /api/v0/invoke HTTP/1.1\" 200 None\n",
      "No eleanor postcard has been made for your target (yet). Using TessCut instead.\n",
      "DEBUG [urllib3.connectionpool._get_conn()]: Resetting dropped connection: mast.stsci.edu\n",
      "DEBUG [urllib3.connectionpool._make_request()]: https://mast.stsci.edu:443 \"GET /tesscut/api/v0.1/astrocut?ra=291.498385969715&dec=40.1828876747188&y=31&x=31&units=px&sector=14 HTTP/1.1\" 200 None\n",
      "Downloading URL https://mast.stsci.edu/tesscut/api/v0.1/astrocut?ra=291.498385969715&dec=40.1828876747188&y=31&x=31&units=px&sector=14 to /Users/hosborn/.eleanor/tesscut/tesscut_20200721024045.zip ... [Done]\n",
      "Inflating...\n"
     ]
    },
    {
     "name": "stderr",
     "output_type": "stream",
     "text": [
      "100%|██████████| 1241/1241 [00:17<00:00, 72.41it/s]\n"
     ]
    },
    {
     "name": "stdout",
     "output_type": "stream",
     "text": [
      "80 points masked in lc of 1241\n",
      "Kepler file\n",
      "301 points masked in lc of 4354\n",
      "Kepler file\n",
      "247 points masked in lc of 4370\n",
      "Kepler file\n",
      "294 points masked in lc of 4397\n",
      "Kepler file\n",
      "157 points masked in lc of 4634\n",
      "Kepler file\n",
      "138 points masked in lc of 4398\n",
      "Kepler file\n",
      "157 points masked in lc of 4375\n",
      "Kepler file\n",
      "181 points masked in lc of 3279\n",
      "Kepler file\n",
      "170 points masked in lc of 4768\n",
      "Kepler file\n",
      "143 points masked in lc of 4573\n",
      "Kepler file\n",
      "288 points masked in lc of 4754\n",
      "Kepler file\n",
      "506 points masked in lc of 4044\n",
      "Kepler file\n",
      "190 points masked in lc of 4421\n",
      "Kepler file\n",
      "502 points masked in lc of 4757\n",
      "Kepler file\n",
      "423 points masked in lc of 4780\n",
      "Kepler file\n",
      "675 points masked in lc of 4203\n",
      "Kepler file\n",
      "277 points masked in lc of 1556\n",
      "[0, 1, 2, 3, 4, 5, 6, 7, 8, 9, 10, 11, 12, 13, 14, 15]\n",
      "[0, 1]\n",
      "transit mask: <class 'numpy.ndarray'> 65990 0 <class 'numpy.ndarray'> 65990 True\n"
     ]
    },
    {
     "name": "stderr",
     "output_type": "stream",
     "text": [
      "INFO (theano.gof.compilelock): Waiting for existing lock by process '20511' (I am process '19630')\n"
     ]
    },
    {
     "name": "stdout",
     "output_type": "stream",
     "text": [
      "INFO  [theano.gof.compilelock.lock()]: Waiting for existing lock by process '20511' (I am process '19630')\n"
     ]
    },
    {
     "name": "stderr",
     "output_type": "stream",
     "text": [
      "INFO (theano.gof.compilelock): To manually release the lock, delete /Users/hosborn/.theano/compiledir_Darwin-19.3.0-x86_64-i386-64bit-i386-3.7.6-64/lock_dir\n"
     ]
    },
    {
     "name": "stdout",
     "output_type": "stream",
     "text": [
      "INFO  [theano.gof.compilelock.lock()]: To manually release the lock, delete /Users/hosborn/.theano/compiledir_Darwin-19.3.0-x86_64-i386-64bit-i386-3.7.6-64/lock_dir\n"
     ]
    },
    {
     "name": "stderr",
     "output_type": "stream",
     "text": [
      "INFO (theano.gof.compilelock): Waiting for existing lock by process '20511' (I am process '19630')\n"
     ]
    },
    {
     "name": "stdout",
     "output_type": "stream",
     "text": [
      "INFO  [theano.gof.compilelock.lock()]: Waiting for existing lock by process '20511' (I am process '19630')\n"
     ]
    },
    {
     "name": "stderr",
     "output_type": "stream",
     "text": [
      "INFO (theano.gof.compilelock): To manually release the lock, delete /Users/hosborn/.theano/compiledir_Darwin-19.3.0-x86_64-i386-64bit-i386-3.7.6-64/lock_dir\n"
     ]
    },
    {
     "name": "stdout",
     "output_type": "stream",
     "text": [
      "INFO  [theano.gof.compilelock.lock()]: To manually release the lock, delete /Users/hosborn/.theano/compiledir_Darwin-19.3.0-x86_64-i386-64bit-i386-3.7.6-64/lock_dir\n"
     ]
    },
    {
     "name": "stderr",
     "output_type": "stream",
     "text": [
      "INFO (theano.gof.compilelock): Waiting for existing lock by process '20511' (I am process '19630')\n"
     ]
    },
    {
     "name": "stdout",
     "output_type": "stream",
     "text": [
      "INFO  [theano.gof.compilelock.lock()]: Waiting for existing lock by process '20511' (I am process '19630')\n"
     ]
    },
    {
     "name": "stderr",
     "output_type": "stream",
     "text": [
      "INFO (theano.gof.compilelock): To manually release the lock, delete /Users/hosborn/.theano/compiledir_Darwin-19.3.0-x86_64-i386-64bit-i386-3.7.6-64/lock_dir\n"
     ]
    },
    {
     "name": "stdout",
     "output_type": "stream",
     "text": [
      "INFO  [theano.gof.compilelock.lock()]: To manually release the lock, delete /Users/hosborn/.theano/compiledir_Darwin-19.3.0-x86_64-i386-64bit-i386-3.7.6-64/lock_dir\n"
     ]
    },
    {
     "name": "stderr",
     "output_type": "stream",
     "text": [
      "INFO (theano.gof.compilelock): Waiting for existing lock by process '20511' (I am process '19630')\n"
     ]
    },
    {
     "name": "stdout",
     "output_type": "stream",
     "text": [
      "INFO  [theano.gof.compilelock.lock()]: Waiting for existing lock by process '20511' (I am process '19630')\n"
     ]
    },
    {
     "name": "stderr",
     "output_type": "stream",
     "text": [
      "INFO (theano.gof.compilelock): To manually release the lock, delete /Users/hosborn/.theano/compiledir_Darwin-19.3.0-x86_64-i386-64bit-i386-3.7.6-64/lock_dir\n"
     ]
    },
    {
     "name": "stdout",
     "output_type": "stream",
     "text": [
      "INFO  [theano.gof.compilelock.lock()]: To manually release the lock, delete /Users/hosborn/.theano/compiledir_Darwin-19.3.0-x86_64-i386-64bit-i386-3.7.6-64/lock_dir\n",
      "00 - Checks complete.  SNR: 17.24115  SNR_r: 14.22505  variability: -30.7874  centroid: 10.09403 | flag: planet\n",
      "DEBUG [matplotlib.backends.backend_pdf.fontName()]: Assigning font /b'F1' = '/Users/hosborn/transits/lib/python3.7/site-packages/matplotlib/mpl-data/fonts/ttf/DejaVuSans.ttf'\n",
      "DEBUG [matplotlib.backends.backend_pdf.writeFonts()]: Embedding font /Users/hosborn/transits/lib/python3.7/site-packages/matplotlib/mpl-data/fonts/ttf/DejaVuSans.ttf.\n",
      "DEBUG [matplotlib.backends.backend_pdf.writeFonts()]: Writing TrueType font.\n",
      "DEBUG [urllib3.connectionpool._make_request()]: https://mast.stsci.edu:443 \"POST /api/v0/invoke HTTP/1.1\" 200 None\n",
      "5951458  not in TIC\n",
      "DEBUG [urllib3.connectionpool._new_conn()]: Starting new HTTP connection (1): vizier.u-strasbg.fr:80\n",
      "DEBUG [urllib3.connectionpool._make_request()]: http://vizier.u-strasbg.fr:80 \"POST /viz-bin/votable HTTP/1.1\" 200 658\n",
      "DEBUG [urllib3.connectionpool._make_request()]: https://mast.stsci.edu:443 \"POST /api/v0/invoke HTTP/1.1\" 200 None\n",
      "DEBUG [urllib3.connectionpool._new_conn()]: Starting new HTTPS connection (1): heasarc.gsfc.nasa.gov:443\n",
      "DEBUG [urllib3.connectionpool._make_request()]: https://heasarc.gsfc.nasa.gov:443 \"GET /cgi-bin/tess/webtess/wtv.py?Entry=288.99158%2C+41.22303 HTTP/1.1\" 200 None\n",
      "https://heasarc.gsfc.nasa.gov/cgi-bin/tess/webtess/wtv.py?Entry=<SkyCoord (ICRS): (ra, dec) in deg\n",
      "    (288.99158, 41.22303)>\n",
      "[14] <class 'list'>\n",
      "No QLP files at /Volumes/LUVOIR/MonoToolsData/TIC00121796770 Loading Eleanor Lightcurve\n",
      "DEBUG [urllib3.connectionpool._make_request()]: https://mast.stsci.edu:443 \"POST /api/v0/invoke HTTP/1.1\" 200 None\n",
      "DEBUG [urllib3.connectionpool._make_request()]: https://mast.stsci.edu:443 \"POST /api/v0/invoke HTTP/1.1\" 200 None\n",
      "DEBUG [urllib3.connectionpool._make_request()]: https://mast.stsci.edu:443 \"POST /api/v0/invoke HTTP/1.1\" 200 None\n",
      "No eleanor postcard has been made for your target (yet). Using TessCut instead.\n",
      "DEBUG [urllib3.connectionpool._get_conn()]: Resetting dropped connection: mast.stsci.edu\n",
      "DEBUG [urllib3.connectionpool._make_request()]: https://mast.stsci.edu:443 \"GET /tesscut/api/v0.1/astrocut?ra=288.991579594777&dec=41.2230303762591&y=31&x=31&units=px&sector=14 HTTP/1.1\" 200 None\n",
      "Downloading URL https://mast.stsci.edu/tesscut/api/v0.1/astrocut?ra=288.991579594777&dec=41.2230303762591&y=31&x=31&units=px&sector=14 to /Users/hosborn/.eleanor/tesscut/tesscut_20200721024735.zip ... [Done]\n",
      "Inflating...\n"
     ]
    },
    {
     "name": "stderr",
     "output_type": "stream",
     "text": [
      "100%|██████████| 1241/1241 [00:12<00:00, 97.18it/s] \n"
     ]
    },
    {
     "name": "stdout",
     "output_type": "stream",
     "text": [
      "80 points masked in lc of 1241\n",
      "Kepler file\n",
      "8 points masked in lc of 476\n",
      "Kepler file\n",
      "25 points masked in lc of 1639\n",
      "Kepler file\n",
      "293 points masked in lc of 4354\n",
      "Kepler file\n",
      "243 points masked in lc of 4370\n",
      "Kepler file\n",
      "302 points masked in lc of 4397\n",
      "Kepler file\n",
      "158 points masked in lc of 4634\n",
      "Kepler file\n",
      "133 points masked in lc of 4398\n",
      "Kepler file\n",
      "156 points masked in lc of 4375\n",
      "Kepler file\n",
      "183 points masked in lc of 3279\n",
      "Kepler file\n",
      "163 points masked in lc of 4768\n",
      "Kepler file\n",
      "143 points masked in lc of 4573\n",
      "Kepler file\n",
      "290 points masked in lc of 4754\n",
      "Kepler file\n",
      "499 points masked in lc of 4044\n",
      "Kepler file\n",
      "186 points masked in lc of 4421\n",
      "Kepler file\n",
      "498 points masked in lc of 4757\n",
      "Kepler file\n",
      "421 points masked in lc of 4780\n",
      "Kepler file\n",
      "672 points masked in lc of 4203\n",
      "Kepler file\n",
      "273 points masked in lc of 1556\n",
      "[0, 1, 2, 3, 4, 5, 6, 7, 8, 9, 10, 11, 12, 13, 14, 15, 16, 17]\n",
      "[0, 1]\n",
      "transit mask: <class 'numpy.ndarray'> 68105 1 <class 'numpy.ndarray'> 68105 True\n"
     ]
    },
    {
     "name": "stderr",
     "output_type": "stream",
     "text": [
      "INFO (theano.gof.compilelock): Waiting for existing lock by process '20511' (I am process '19630')\n"
     ]
    },
    {
     "name": "stdout",
     "output_type": "stream",
     "text": [
      "INFO  [theano.gof.compilelock.lock()]: Waiting for existing lock by process '20511' (I am process '19630')\n"
     ]
    },
    {
     "name": "stderr",
     "output_type": "stream",
     "text": [
      "INFO (theano.gof.compilelock): To manually release the lock, delete /Users/hosborn/.theano/compiledir_Darwin-19.3.0-x86_64-i386-64bit-i386-3.7.6-64/lock_dir\n"
     ]
    },
    {
     "name": "stdout",
     "output_type": "stream",
     "text": [
      "INFO  [theano.gof.compilelock.lock()]: To manually release the lock, delete /Users/hosborn/.theano/compiledir_Darwin-19.3.0-x86_64-i386-64bit-i386-3.7.6-64/lock_dir\n"
     ]
    },
    {
     "name": "stderr",
     "output_type": "stream",
     "text": [
      "INFO (theano.gof.compilelock): Waiting for existing lock by process '20511' (I am process '19630')\n"
     ]
    },
    {
     "name": "stdout",
     "output_type": "stream",
     "text": [
      "INFO  [theano.gof.compilelock.lock()]: Waiting for existing lock by process '20511' (I am process '19630')\n"
     ]
    },
    {
     "name": "stderr",
     "output_type": "stream",
     "text": [
      "INFO (theano.gof.compilelock): To manually release the lock, delete /Users/hosborn/.theano/compiledir_Darwin-19.3.0-x86_64-i386-64bit-i386-3.7.6-64/lock_dir\n"
     ]
    },
    {
     "name": "stdout",
     "output_type": "stream",
     "text": [
      "INFO  [theano.gof.compilelock.lock()]: To manually release the lock, delete /Users/hosborn/.theano/compiledir_Darwin-19.3.0-x86_64-i386-64bit-i386-3.7.6-64/lock_dir\n"
     ]
    },
    {
     "name": "stderr",
     "output_type": "stream",
     "text": [
      "INFO (theano.gof.compilelock): Waiting for existing lock by process '20511' (I am process '19630')\n"
     ]
    },
    {
     "name": "stdout",
     "output_type": "stream",
     "text": [
      "INFO  [theano.gof.compilelock.lock()]: Waiting for existing lock by process '20511' (I am process '19630')\n"
     ]
    },
    {
     "name": "stderr",
     "output_type": "stream",
     "text": [
      "INFO (theano.gof.compilelock): To manually release the lock, delete /Users/hosborn/.theano/compiledir_Darwin-19.3.0-x86_64-i386-64bit-i386-3.7.6-64/lock_dir\n"
     ]
    },
    {
     "name": "stdout",
     "output_type": "stream",
     "text": [
      "INFO  [theano.gof.compilelock.lock()]: To manually release the lock, delete /Users/hosborn/.theano/compiledir_Darwin-19.3.0-x86_64-i386-64bit-i386-3.7.6-64/lock_dir\n"
     ]
    },
    {
     "name": "stderr",
     "output_type": "stream",
     "text": [
      "INFO (theano.gof.compilelock): Waiting for existing lock by process '20511' (I am process '19630')\n"
     ]
    },
    {
     "name": "stdout",
     "output_type": "stream",
     "text": [
      "INFO  [theano.gof.compilelock.lock()]: Waiting for existing lock by process '20511' (I am process '19630')\n"
     ]
    },
    {
     "name": "stderr",
     "output_type": "stream",
     "text": [
      "INFO (theano.gof.compilelock): To manually release the lock, delete /Users/hosborn/.theano/compiledir_Darwin-19.3.0-x86_64-i386-64bit-i386-3.7.6-64/lock_dir\n"
     ]
    },
    {
     "name": "stdout",
     "output_type": "stream",
     "text": [
      "INFO  [theano.gof.compilelock.lock()]: To manually release the lock, delete /Users/hosborn/.theano/compiledir_Darwin-19.3.0-x86_64-i386-64bit-i386-3.7.6-64/lock_dir\n"
     ]
    },
    {
     "name": "stderr",
     "output_type": "stream",
     "text": [
      "INFO (theano.gof.compilelock): Waiting for existing lock by process '20511' (I am process '19630')\n"
     ]
    },
    {
     "name": "stdout",
     "output_type": "stream",
     "text": [
      "INFO  [theano.gof.compilelock.lock()]: Waiting for existing lock by process '20511' (I am process '19630')\n"
     ]
    },
    {
     "name": "stderr",
     "output_type": "stream",
     "text": [
      "INFO (theano.gof.compilelock): To manually release the lock, delete /Users/hosborn/.theano/compiledir_Darwin-19.3.0-x86_64-i386-64bit-i386-3.7.6-64/lock_dir\n"
     ]
    },
    {
     "name": "stdout",
     "output_type": "stream",
     "text": [
      "INFO  [theano.gof.compilelock.lock()]: To manually release the lock, delete /Users/hosborn/.theano/compiledir_Darwin-19.3.0-x86_64-i386-64bit-i386-3.7.6-64/lock_dir\n"
     ]
    },
    {
     "name": "stderr",
     "output_type": "stream",
     "text": [
      "INFO (theano.gof.compilelock): Waiting for existing lock by process '20511' (I am process '19630')\n"
     ]
    },
    {
     "name": "stdout",
     "output_type": "stream",
     "text": [
      "INFO  [theano.gof.compilelock.lock()]: Waiting for existing lock by process '20511' (I am process '19630')\n"
     ]
    },
    {
     "name": "stderr",
     "output_type": "stream",
     "text": [
      "INFO (theano.gof.compilelock): To manually release the lock, delete /Users/hosborn/.theano/compiledir_Darwin-19.3.0-x86_64-i386-64bit-i386-3.7.6-64/lock_dir\n"
     ]
    },
    {
     "name": "stdout",
     "output_type": "stream",
     "text": [
      "INFO  [theano.gof.compilelock.lock()]: To manually release the lock, delete /Users/hosborn/.theano/compiledir_Darwin-19.3.0-x86_64-i386-64bit-i386-3.7.6-64/lock_dir\n"
     ]
    },
    {
     "name": "stderr",
     "output_type": "stream",
     "text": [
      "INFO (theano.gof.compilelock): Waiting for existing lock by process '20511' (I am process '19630')\n"
     ]
    },
    {
     "name": "stdout",
     "output_type": "stream",
     "text": [
      "INFO  [theano.gof.compilelock.lock()]: Waiting for existing lock by process '20511' (I am process '19630')\n"
     ]
    },
    {
     "name": "stderr",
     "output_type": "stream",
     "text": [
      "INFO (theano.gof.compilelock): To manually release the lock, delete /Users/hosborn/.theano/compiledir_Darwin-19.3.0-x86_64-i386-64bit-i386-3.7.6-64/lock_dir\n"
     ]
    },
    {
     "name": "stdout",
     "output_type": "stream",
     "text": [
      "INFO  [theano.gof.compilelock.lock()]: To manually release the lock, delete /Users/hosborn/.theano/compiledir_Darwin-19.3.0-x86_64-i386-64bit-i386-3.7.6-64/lock_dir\n"
     ]
    },
    {
     "name": "stderr",
     "output_type": "stream",
     "text": [
      "INFO (theano.gof.compilelock): Waiting for existing lock by process '20511' (I am process '19630')\n"
     ]
    },
    {
     "name": "stdout",
     "output_type": "stream",
     "text": [
      "INFO  [theano.gof.compilelock.lock()]: Waiting for existing lock by process '20511' (I am process '19630')\n"
     ]
    },
    {
     "name": "stderr",
     "output_type": "stream",
     "text": [
      "INFO (theano.gof.compilelock): To manually release the lock, delete /Users/hosborn/.theano/compiledir_Darwin-19.3.0-x86_64-i386-64bit-i386-3.7.6-64/lock_dir\n"
     ]
    },
    {
     "name": "stdout",
     "output_type": "stream",
     "text": [
      "INFO  [theano.gof.compilelock.lock()]: To manually release the lock, delete /Users/hosborn/.theano/compiledir_Darwin-19.3.0-x86_64-i386-64bit-i386-3.7.6-64/lock_dir\n",
      "00 - Checks complete.  SNR: 21.48429  SNR_r: 38.28265  variability: -242.721  centroid: 9.909034 | flag: planet\n",
      "DEBUG [matplotlib.backends.backend_pdf.fontName()]: Assigning font /b'F1' = '/Users/hosborn/transits/lib/python3.7/site-packages/matplotlib/mpl-data/fonts/ttf/DejaVuSans.ttf'\n",
      "DEBUG [matplotlib.backends.backend_pdf.writeFonts()]: Embedding font /Users/hosborn/transits/lib/python3.7/site-packages/matplotlib/mpl-data/fonts/ttf/DejaVuSans.ttf.\n",
      "DEBUG [matplotlib.backends.backend_pdf.writeFonts()]: Writing TrueType font.\n",
      "DEBUG [urllib3.connectionpool._make_request()]: https://mast.stsci.edu:443 \"POST /api/v0/invoke HTTP/1.1\" 200 None\n",
      "8540376  not in TIC\n",
      "DEBUG [urllib3.connectionpool._new_conn()]: Starting new HTTP connection (1): vizier.u-strasbg.fr:80\n",
      "DEBUG [urllib3.connectionpool._make_request()]: http://vizier.u-strasbg.fr:80 \"POST /viz-bin/votable HTTP/1.1\" 200 659\n",
      "DEBUG [urllib3.connectionpool._make_request()]: https://mast.stsci.edu:443 \"POST /api/v0/invoke HTTP/1.1\" 200 None\n",
      "DEBUG [urllib3.connectionpool._new_conn()]: Starting new HTTPS connection (1): heasarc.gsfc.nasa.gov:443\n",
      "DEBUG [urllib3.connectionpool._make_request()]: https://heasarc.gsfc.nasa.gov:443 \"GET /cgi-bin/tess/webtess/wtv.py?Entry=282.37753%2C+44.694592 HTTP/1.1\" 200 None\n",
      "https://heasarc.gsfc.nasa.gov/cgi-bin/tess/webtess/wtv.py?Entry=<SkyCoord (ICRS): (ra, dec) in deg\n",
      "    (282.37753, 44.694592)>\n",
      "[14] <class 'list'>\n",
      "No QLP files at /Volumes/LUVOIR/MonoToolsData/TIC00123449386 Loading Eleanor Lightcurve\n",
      "DEBUG [urllib3.connectionpool._make_request()]: https://mast.stsci.edu:443 \"POST /api/v0/invoke HTTP/1.1\" 200 None\n",
      "DEBUG [urllib3.connectionpool._make_request()]: https://mast.stsci.edu:443 \"POST /api/v0/invoke HTTP/1.1\" 200 None\n",
      "DEBUG [urllib3.connectionpool._make_request()]: https://mast.stsci.edu:443 \"POST /api/v0/invoke HTTP/1.1\" 200 None\n",
      "No eleanor postcard has been made for your target (yet). Using TessCut instead.\n",
      "DEBUG [urllib3.connectionpool._get_conn()]: Resetting dropped connection: mast.stsci.edu\n",
      "DEBUG [urllib3.connectionpool._make_request()]: https://mast.stsci.edu:443 \"GET /tesscut/api/v0.1/astrocut?ra=282.377522572402&dec=44.6945819335636&y=31&x=31&units=px&sector=14 HTTP/1.1\" 200 None\n",
      "Downloading URL https://mast.stsci.edu/tesscut/api/v0.1/astrocut?ra=282.377522572402&dec=44.6945819335636&y=31&x=31&units=px&sector=14 to /Users/hosborn/.eleanor/tesscut/tesscut_20200721025441.zip ... [Done]\n",
      "Inflating...\n"
     ]
    },
    {
     "name": "stderr",
     "output_type": "stream",
     "text": [
      "100%|██████████| 1241/1241 [00:14<00:00, 85.88it/s]\n"
     ]
    },
    {
     "name": "stdout",
     "output_type": "stream",
     "text": [
      "81 points masked in lc of 1241\n",
      "Kepler file\n",
      "677 points masked in lc of 4203\n",
      "Kepler file\n",
      "277 points masked in lc of 1556\n",
      "[0, 1]\n",
      "[0, 1]\n",
      "transit mask: <class 'numpy.ndarray'> 6131 0 <class 'numpy.ndarray'> 6131 True\n",
      "WARNING [matplotlib.legend._parse_legend_args()]: No handles with labels found to put in legend.\n",
      "00 lowSNR, SNR= 5.049315314587553 SNR_r= 4.002323333686614 depth: 0.0002981747287389742 fit: False\n",
      "DEBUG [matplotlib.backends.backend_pdf.fontName()]: Assigning font /b'F1' = '/Users/hosborn/transits/lib/python3.7/site-packages/matplotlib/mpl-data/fonts/ttf/DejaVuSans.ttf'\n",
      "DEBUG [matplotlib.backends.backend_pdf.writeFonts()]: Embedding font /Users/hosborn/transits/lib/python3.7/site-packages/matplotlib/mpl-data/fonts/ttf/DejaVuSans.ttf.\n",
      "DEBUG [matplotlib.backends.backend_pdf.writeFonts()]: Writing TrueType font.\n",
      "DEBUG [urllib3.connectionpool._make_request()]: https://mast.stsci.edu:443 \"POST /api/v0/invoke HTTP/1.1\" 200 None\n",
      "9838291  not in TIC\n",
      "DEBUG [urllib3.connectionpool._new_conn()]: Starting new HTTP connection (1): vizier.u-strasbg.fr:80\n",
      "DEBUG [urllib3.connectionpool._make_request()]: http://vizier.u-strasbg.fr:80 \"POST /viz-bin/votable HTTP/1.1\" 200 658\n",
      "DEBUG [urllib3.connectionpool._make_request()]: https://mast.stsci.edu:443 \"POST /api/v0/invoke HTTP/1.1\" 200 None\n",
      "DEBUG [urllib3.connectionpool._new_conn()]: Starting new HTTPS connection (1): heasarc.gsfc.nasa.gov:443\n",
      "DEBUG [urllib3.connectionpool._make_request()]: https://heasarc.gsfc.nasa.gov:443 \"GET /cgi-bin/tess/webtess/wtv.py?Entry=294.75888%2C+46.677528 HTTP/1.1\" 200 None\n",
      "https://heasarc.gsfc.nasa.gov/cgi-bin/tess/webtess/wtv.py?Entry=<SkyCoord (ICRS): (ra, dec) in deg\n",
      "    (294.75888, 46.677528)>\n",
      "[14, 15] <class 'list'>\n",
      "No QLP files at /Volumes/LUVOIR/MonoToolsData/TIC00271253923 Loading Eleanor Lightcurve\n",
      "DEBUG [urllib3.connectionpool._make_request()]: https://mast.stsci.edu:443 \"POST /api/v0/invoke HTTP/1.1\" 200 None\n",
      "DEBUG [urllib3.connectionpool._make_request()]: https://mast.stsci.edu:443 \"POST /api/v0/invoke HTTP/1.1\" 200 None\n",
      "DEBUG [urllib3.connectionpool._make_request()]: https://mast.stsci.edu:443 \"POST /api/v0/invoke HTTP/1.1\" 200 None\n",
      "No eleanor postcard has been made for your target (yet). Using TessCut instead.\n",
      "DEBUG [urllib3.connectionpool._get_conn()]: Resetting dropped connection: mast.stsci.edu\n",
      "DEBUG [urllib3.connectionpool._make_request()]: https://mast.stsci.edu:443 \"GET /tesscut/api/v0.1/astrocut?ra=294.758888270145&dec=46.6775188773975&y=31&x=31&units=px&sector=14 HTTP/1.1\" 200 None\n",
      "Downloading URL https://mast.stsci.edu/tesscut/api/v0.1/astrocut?ra=294.758888270145&dec=46.6775188773975&y=31&x=31&units=px&sector=14 to /Users/hosborn/.eleanor/tesscut/tesscut_20200721025726.zip ... [Done]\n",
      "Inflating...\n"
     ]
    },
    {
     "name": "stderr",
     "output_type": "stream",
     "text": [
      "100%|██████████| 1241/1241 [00:15<00:00, 78.27it/s] \n"
     ]
    },
    {
     "name": "stdout",
     "output_type": "stream",
     "text": [
      "81 points masked in lc of 1241\n",
      "No QLP files at /Volumes/LUVOIR/MonoToolsData/TIC00271253923 Loading Eleanor Lightcurve\n",
      "DEBUG [urllib3.connectionpool._make_request()]: https://mast.stsci.edu:443 \"POST /api/v0/invoke HTTP/1.1\" 200 None\n",
      "DEBUG [urllib3.connectionpool._make_request()]: https://mast.stsci.edu:443 \"POST /api/v0/invoke HTTP/1.1\" 200 None\n",
      "DEBUG [urllib3.connectionpool._make_request()]: https://mast.stsci.edu:443 \"POST /api/v0/invoke HTTP/1.1\" 200 None\n",
      "No eleanor postcard has been made for your target (yet). Using TessCut instead.\n",
      "DEBUG [urllib3.connectionpool._make_request()]: https://mast.stsci.edu:443 \"GET /tesscut/api/v0.1/astrocut?ra=294.758888270145&dec=46.6775188773975&y=31&x=31&units=px&sector=15 HTTP/1.1\" 200 None\n",
      "Downloading URL https://mast.stsci.edu/tesscut/api/v0.1/astrocut?ra=294.758888270145&dec=46.6775188773975&y=31&x=31&units=px&sector=15 to /Users/hosborn/.eleanor/tesscut/tesscut_20200721025754.zip ... [Done]\n",
      "Inflating...\n"
     ]
    },
    {
     "name": "stderr",
     "output_type": "stream",
     "text": [
      "100%|██████████| 1197/1197 [00:17<00:00, 69.23it/s]\n"
     ]
    },
    {
     "name": "stdout",
     "output_type": "stream",
     "text": [
      "76 points masked in lc of 1197\n",
      "[0, 1]\n",
      "Kepler file\n",
      "9 points masked in lc of 476\n",
      "Kepler file\n",
      "20 points masked in lc of 1639\n",
      "Kepler file\n",
      "295 points masked in lc of 4354\n",
      "Kepler file\n",
      "248 points masked in lc of 4370\n",
      "Kepler file\n",
      "300 points masked in lc of 4397\n",
      "Kepler file\n",
      "160 points masked in lc of 4634\n",
      "Kepler file\n",
      "134 points masked in lc of 4398\n",
      "Kepler file\n",
      "154 points masked in lc of 4375\n",
      "Kepler file\n",
      "176 points masked in lc of 3279\n",
      "Kepler file\n",
      "166 points masked in lc of 4768\n",
      "Kepler file\n",
      "140 points masked in lc of 4573\n",
      "Kepler file\n",
      "290 points masked in lc of 4754\n",
      "Kepler file\n",
      "501 points masked in lc of 4044\n",
      "Kepler file\n",
      "195 points masked in lc of 4421\n",
      "Kepler file\n",
      "499 points masked in lc of 4757\n",
      "Kepler file\n",
      "423 points masked in lc of 4780\n",
      "Kepler file\n",
      "678 points masked in lc of 4203\n",
      "Kepler file\n",
      "272 points masked in lc of 1556\n",
      "[0, 1, 2, 3, 4, 5, 6, 7, 8, 9, 10, 11, 12, 13, 14, 15, 16, 17]\n",
      "[0, 1]\n",
      "transit mask: <class 'numpy.ndarray'> 69302 1 <class 'numpy.ndarray'> 69302 True\n",
      "00 - Checks complete.  SNR: 69.80378  SNR_r: 22.21743  variability: -564.360  centroid: 12.05976 | flag: planet\n",
      "DEBUG [matplotlib.backends.backend_pdf.fontName()]: Assigning font /b'F1' = '/Users/hosborn/transits/lib/python3.7/site-packages/matplotlib/mpl-data/fonts/ttf/DejaVuSans.ttf'\n",
      "DEBUG [matplotlib.backends.backend_pdf.writeFonts()]: Embedding font /Users/hosborn/transits/lib/python3.7/site-packages/matplotlib/mpl-data/fonts/ttf/DejaVuSans.ttf.\n",
      "DEBUG [matplotlib.backends.backend_pdf.writeFonts()]: Writing TrueType font.\n",
      "DEBUG [urllib3.connectionpool._get_conn()]: Resetting dropped connection: mast.stsci.edu\n",
      "DEBUG [urllib3.connectionpool._make_request()]: https://mast.stsci.edu:443 \"POST /api/v0/invoke HTTP/1.1\" 200 None\n",
      "10403228  not in TIC\n",
      "DEBUG [urllib3.connectionpool._new_conn()]: Starting new HTTP connection (1): vizier.u-strasbg.fr:80\n",
      "DEBUG [urllib3.connectionpool._make_request()]: http://vizier.u-strasbg.fr:80 \"POST /viz-bin/votable HTTP/1.1\" 200 658\n",
      "DEBUG [urllib3.connectionpool._make_request()]: https://mast.stsci.edu:443 \"POST /api/v0/invoke HTTP/1.1\" 200 None\n",
      "DEBUG [urllib3.connectionpool._new_conn()]: Starting new HTTPS connection (1): heasarc.gsfc.nasa.gov:443\n",
      "DEBUG [urllib3.connectionpool._make_request()]: https://heasarc.gsfc.nasa.gov:443 \"GET /cgi-bin/tess/webtess/wtv.py?Entry=291.22672%2C+47.54998 HTTP/1.1\" 200 None\n",
      "https://heasarc.gsfc.nasa.gov/cgi-bin/tess/webtess/wtv.py?Entry=<SkyCoord (ICRS): (ra, dec) in deg\n",
      "    (291.22672, 47.54998)>\n",
      "[14, 15] <class 'list'>\n",
      "No QLP files at /Volumes/LUVOIR/MonoToolsData/TIC00159643660 Loading Eleanor Lightcurve\n",
      "DEBUG [urllib3.connectionpool._make_request()]: https://mast.stsci.edu:443 \"POST /api/v0/invoke HTTP/1.1\" 200 None\n",
      "DEBUG [urllib3.connectionpool._make_request()]: https://mast.stsci.edu:443 \"POST /api/v0/invoke HTTP/1.1\" 200 None\n",
      "DEBUG [urllib3.connectionpool._get_conn()]: Resetting dropped connection: mast.stsci.edu\n",
      "DEBUG [urllib3.connectionpool._make_request()]: https://mast.stsci.edu:443 \"POST /api/v0/invoke HTTP/1.1\" 200 None\n",
      "No eleanor postcard has been made for your target (yet). Using TessCut instead.\n",
      "DEBUG [urllib3.connectionpool._get_conn()]: Resetting dropped connection: mast.stsci.edu\n",
      "DEBUG [urllib3.connectionpool._make_request()]: https://mast.stsci.edu:443 \"GET /tesscut/api/v0.1/astrocut?ra=291.226760214706&dec=47.550000772813&y=31&x=31&units=px&sector=14 HTTP/1.1\" 200 None\n",
      "Downloading URL https://mast.stsci.edu/tesscut/api/v0.1/astrocut?ra=291.226760214706&dec=47.550000772813&y=31&x=31&units=px&sector=14 to /Users/hosborn/.eleanor/tesscut/tesscut_20200721030408.zip ... [Done]\n",
      "Inflating...\n"
     ]
    },
    {
     "name": "stderr",
     "output_type": "stream",
     "text": [
      "100%|██████████| 1241/1241 [00:14<00:00, 85.95it/s]\n"
     ]
    },
    {
     "name": "stdout",
     "output_type": "stream",
     "text": [
      "80 points masked in lc of 1241\n",
      "No QLP files at /Volumes/LUVOIR/MonoToolsData/TIC00159643660 Loading Eleanor Lightcurve\n",
      "DEBUG [urllib3.connectionpool._make_request()]: https://mast.stsci.edu:443 \"POST /api/v0/invoke HTTP/1.1\" 200 None\n",
      "DEBUG [urllib3.connectionpool._make_request()]: https://mast.stsci.edu:443 \"POST /api/v0/invoke HTTP/1.1\" 200 None\n",
      "DEBUG [urllib3.connectionpool._make_request()]: https://mast.stsci.edu:443 \"POST /api/v0/invoke HTTP/1.1\" 200 None\n",
      "No eleanor postcard has been made for your target (yet). Using TessCut instead.\n",
      "DEBUG [urllib3.connectionpool._make_request()]: https://mast.stsci.edu:443 \"GET /tesscut/api/v0.1/astrocut?ra=291.226760214706&dec=47.550000772813&y=31&x=31&units=px&sector=15 HTTP/1.1\" 200 None\n",
      "Downloading URL https://mast.stsci.edu/tesscut/api/v0.1/astrocut?ra=291.226760214706&dec=47.550000772813&y=31&x=31&units=px&sector=15 to /Users/hosborn/.eleanor/tesscut/tesscut_20200721030434.zip ... [Done]\n",
      "Inflating...\n"
     ]
    },
    {
     "name": "stderr",
     "output_type": "stream",
     "text": [
      "100%|██████████| 1197/1197 [00:16<00:00, 74.65it/s]\n"
     ]
    },
    {
     "name": "stdout",
     "output_type": "stream",
     "text": [
      "74 points masked in lc of 1197\n",
      "[0, 1]\n",
      "Kepler file\n",
      "181 points masked in lc of 3279\n",
      "Kepler file\n",
      "493 points masked in lc of 4757\n",
      "Kepler file\n",
      "420 points masked in lc of 4780\n",
      "Kepler file\n",
      "677 points masked in lc of 4203\n",
      "Kepler file\n",
      "273 points masked in lc of 1556\n",
      "[0, 1, 2, 3, 4]\n",
      "[0, 1]\n",
      "transit mask: <class 'numpy.ndarray'> 19398 0 <class 'numpy.ndarray'> 19398 True\n",
      "00 variability. LogLik= 671.7931547293822\n",
      "00 - Checks complete.  SNR: 30.99432  SNR_r: 13.09271  variability: 671.7931  centroid: 11.28637 | flag: variability\n",
      "DEBUG [matplotlib.backends.backend_pdf.fontName()]: Assigning font /b'F1' = '/Users/hosborn/transits/lib/python3.7/site-packages/matplotlib/mpl-data/fonts/ttf/DejaVuSans.ttf'\n",
      "DEBUG [matplotlib.backends.backend_pdf.writeFonts()]: Embedding font /Users/hosborn/transits/lib/python3.7/site-packages/matplotlib/mpl-data/fonts/ttf/DejaVuSans.ttf.\n",
      "DEBUG [matplotlib.backends.backend_pdf.writeFonts()]: Writing TrueType font.\n",
      "DEBUG [urllib3.connectionpool._make_request()]: https://mast.stsci.edu:443 \"POST /api/v0/invoke HTTP/1.1\" 200 None\n",
      "11558724  not in TIC\n",
      "DEBUG [urllib3.connectionpool._new_conn()]: Starting new HTTP connection (1): vizier.u-strasbg.fr:80\n",
      "DEBUG [urllib3.connectionpool._make_request()]: http://vizier.u-strasbg.fr:80 \"POST /viz-bin/votable HTTP/1.1\" 200 658\n",
      "DEBUG [urllib3.connectionpool._make_request()]: https://mast.stsci.edu:443 \"POST /api/v0/invoke HTTP/1.1\" 200 None\n",
      "DEBUG [urllib3.connectionpool._new_conn()]: Starting new HTTPS connection (1): heasarc.gsfc.nasa.gov:443\n",
      "DEBUG [urllib3.connectionpool._make_request()]: https://heasarc.gsfc.nasa.gov:443 \"GET /cgi-bin/tess/webtess/wtv.py?Entry=291.64206%2C+49.55407 HTTP/1.1\" 200 None\n",
      "https://heasarc.gsfc.nasa.gov/cgi-bin/tess/webtess/wtv.py?Entry=<SkyCoord (ICRS): (ra, dec) in deg\n",
      "    (291.64206, 49.55407)>\n",
      "[14, 15] <class 'list'>\n",
      "No QLP files at /Volumes/LUVOIR/MonoToolsData/TIC00026491303 Loading Eleanor Lightcurve\n",
      "DEBUG [urllib3.connectionpool._make_request()]: https://mast.stsci.edu:443 \"POST /api/v0/invoke HTTP/1.1\" 200 None\n",
      "DEBUG [urllib3.connectionpool._make_request()]: https://mast.stsci.edu:443 \"POST /api/v0/invoke HTTP/1.1\" 200 None\n",
      "DEBUG [urllib3.connectionpool._make_request()]: https://mast.stsci.edu:443 \"POST /api/v0/invoke HTTP/1.1\" 200 None\n",
      "No eleanor postcard has been made for your target (yet). Using TessCut instead.\n",
      "DEBUG [urllib3.connectionpool._get_conn()]: Resetting dropped connection: mast.stsci.edu\n",
      "DEBUG [urllib3.connectionpool._make_request()]: https://mast.stsci.edu:443 \"GET /tesscut/api/v0.1/astrocut?ra=291.642067408253&dec=49.5540619091098&y=31&x=31&units=px&sector=14 HTTP/1.1\" 200 None\n",
      "Downloading URL https://mast.stsci.edu/tesscut/api/v0.1/astrocut?ra=291.642067408253&dec=49.5540619091098&y=31&x=31&units=px&sector=14 to /Users/hosborn/.eleanor/tesscut/tesscut_20200721030758.zip ... [Done]\n",
      "Inflating...\n"
     ]
    },
    {
     "name": "stderr",
     "output_type": "stream",
     "text": [
      "100%|██████████| 1241/1241 [00:14<00:00, 87.06it/s]\n"
     ]
    },
    {
     "name": "stdout",
     "output_type": "stream",
     "text": [
      "80 points masked in lc of 1241\n",
      "No QLP files at /Volumes/LUVOIR/MonoToolsData/TIC00026491303 Loading Eleanor Lightcurve\n",
      "DEBUG [urllib3.connectionpool._make_request()]: https://mast.stsci.edu:443 \"POST /api/v0/invoke HTTP/1.1\" 200 None\n",
      "DEBUG [urllib3.connectionpool._make_request()]: https://mast.stsci.edu:443 \"POST /api/v0/invoke HTTP/1.1\" 200 None\n",
      "DEBUG [urllib3.connectionpool._make_request()]: https://mast.stsci.edu:443 \"POST /api/v0/invoke HTTP/1.1\" 200 None\n",
      "No eleanor postcard has been made for your target (yet). Using TessCut instead.\n",
      "DEBUG [urllib3.connectionpool._make_request()]: https://mast.stsci.edu:443 \"GET /tesscut/api/v0.1/astrocut?ra=291.642067408253&dec=49.5540619091098&y=31&x=31&units=px&sector=15 HTTP/1.1\" 200 None\n",
      "Downloading URL https://mast.stsci.edu/tesscut/api/v0.1/astrocut?ra=291.642067408253&dec=49.5540619091098&y=31&x=31&units=px&sector=15 to /Users/hosborn/.eleanor/tesscut/tesscut_20200721030825.zip ... [Done]\n",
      "Inflating...\n"
     ]
    },
    {
     "name": "stderr",
     "output_type": "stream",
     "text": [
      "100%|██████████| 1197/1197 [00:10<00:00, 115.61it/s]\n"
     ]
    },
    {
     "name": "stdout",
     "output_type": "stream",
     "text": [
      "98 points masked in lc of 1197\n",
      "[0, 1]\n",
      "Kepler file\n",
      "147 points masked in lc of 4573\n",
      "Kepler file\n",
      "501 points masked in lc of 4044\n",
      "[0, 1]\n",
      "[0, 1]\n",
      "transit mask: <class 'numpy.ndarray'> 10894 0 <class 'numpy.ndarray'> 10894 True\n",
      "00 - Checks complete.  SNR: 34.78297  SNR_r: 32.94125  variability: -149.118  centroid: 10.19532 | flag: planet\n",
      "DEBUG [matplotlib.backends.backend_pdf.fontName()]: Assigning font /b'F1' = '/Users/hosborn/transits/lib/python3.7/site-packages/matplotlib/mpl-data/fonts/ttf/DejaVuSans.ttf'\n",
      "DEBUG [matplotlib.backends.backend_pdf.writeFonts()]: Embedding font /Users/hosborn/transits/lib/python3.7/site-packages/matplotlib/mpl-data/fonts/ttf/DejaVuSans.ttf.\n",
      "DEBUG [matplotlib.backends.backend_pdf.writeFonts()]: Writing TrueType font.\n",
      "Breaking because status = COMPLETE\n",
      "TESS object\n",
      "500 Error 500:\n",
      "null\n",
      "NO JUICE Unnamed: 0                                                   52\n",
      "dec                                                         NaN\n",
      "dur                                                    0.291748\n",
      "file          lacourse_tess_ste_oelkers.csv;lacourse_tess_st...\n",
      "id                                                  1.49602e+08\n",
      "mission                                                    TESS\n",
      "ra                                                          NaN\n",
      "tcen                                                    3505.07\n",
      "Name: 42, dtype: object\n",
      "Already processed Unnamed: 0                                                   54\n",
      "dec                                                         NaN\n",
      "dur                                                      0.5625\n",
      "file          lacourse_tess_ste_oelkers.csv;lacourse_tess_st...\n",
      "id                                                  7.93276e+07\n",
      "mission                                                    TESS\n",
      "ra                                                          NaN\n",
      "tcen                                                    3500.11\n",
      "Name: 44, dtype: object\n",
      "Already processed Unnamed: 0                                                   56\n",
      "dec                                                         NaN\n",
      "dur                                                         0.5\n",
      "file          lacourse_tess_ste_oelkers.csv;lacourse_tess_st...\n",
      "id                                                   2.5227e+07\n",
      "mission                                                    TESS\n",
      "ra                                                          NaN\n",
      "tcen                                                    3499.77\n",
      "Name: 46, dtype: object\n",
      "Breaking because status = COMPLETE\n",
      "TESS object\n",
      "500 Error 500:\n",
      "null\n",
      "NO JUICE Unnamed: 0                                                   58\n",
      "dec                                                         NaN\n",
      "dur                                                     1.27087\n",
      "file          lacourse_tess_ste_oelkers.csv;lacourse_tess_st...\n",
      "id                                                  5.56629e+07\n",
      "mission                                                    TESS\n",
      "ra                                                          NaN\n",
      "tcen                                                    3501.44\n",
      "Name: 48, dtype: object\n",
      "Already processed Unnamed: 0                                                   60\n",
      "dec                                                         NaN\n",
      "dur                                                      0.4375\n",
      "file          lacourse_tess_ste_oelkers.csv;lacourse_tess_st...\n",
      "id                                                  9.28725e+07\n",
      "mission                                                    TESS\n",
      "ra                                                          NaN\n",
      "tcen                                                    3501.03\n",
      "Name: 50, dtype: object\n",
      "Already processed Unnamed: 0                               62\n",
      "dec                                     NaN\n",
      "dur                                0.645874\n",
      "file          lacourse_tess_ste_oelkers.csv\n",
      "id                               1.5986e+08\n",
      "mission                                TESS\n",
      "ra                                      NaN\n",
      "tcen                                3502.76\n",
      "Name: 52, dtype: object\n",
      "Breaking because status = COMPLETE\n",
      "TESS object\n",
      "500 Error 500:\n",
      "null\n",
      "NO JUICE Unnamed: 0                               64\n",
      "dec                                     NaN\n",
      "dur                                 2.33371\n",
      "file          lacourse_tess_ste_oelkers.csv\n",
      "id                              2.20461e+08\n",
      "mission                                TESS\n",
      "ra                                      NaN\n",
      "tcen                                3503.24\n",
      "Name: 54, dtype: object\n",
      "Already processed Unnamed: 0                                                   66\n",
      "dec                                                         NaN\n",
      "dur                                                     1.10425\n",
      "file          lacourse_tess_ste_oelkers.csv;lacourse_tess_st...\n",
      "id                                                  2.60243e+08\n",
      "mission                                                    TESS\n",
      "ra                                                          NaN\n",
      "tcen                                                    3510.06\n",
      "Name: 56, dtype: object\n",
      "Already processed Unnamed: 0                                                   68\n",
      "dec                                                         NaN\n",
      "dur                                                    0.291748\n",
      "file          lacourse_tess_ste_oelkers.csv;lacourse_tess_st...\n",
      "id                                                  2.65466e+08\n",
      "mission                                                    TESS\n",
      "ra                                                          NaN\n",
      "tcen                                                    3509.66\n",
      "Name: 58, dtype: object\n",
      "DEBUG [urllib3.connectionpool._make_request()]: https://mast.stsci.edu:443 \"POST /api/v0/invoke HTTP/1.1\" 200 None\n",
      "9970525  not in TIC\n",
      "DEBUG [urllib3.connectionpool._new_conn()]: Starting new HTTP connection (1): vizier.u-strasbg.fr:80\n",
      "DEBUG [urllib3.connectionpool._make_request()]: http://vizier.u-strasbg.fr:80 \"POST /viz-bin/votable HTTP/1.1\" 200 658\n",
      "DEBUG [urllib3.connectionpool._make_request()]: https://mast.stsci.edu:443 \"POST /api/v0/invoke HTTP/1.1\" 200 None\n",
      "DEBUG [urllib3.connectionpool._new_conn()]: Starting new HTTPS connection (1): heasarc.gsfc.nasa.gov:443\n",
      "DEBUG [urllib3.connectionpool._make_request()]: https://heasarc.gsfc.nasa.gov:443 \"GET /cgi-bin/tess/webtess/wtv.py?Entry=298.74422999999996%2C+46.830090000000006 HTTP/1.1\" 200 None\n",
      "https://heasarc.gsfc.nasa.gov/cgi-bin/tess/webtess/wtv.py?Entry=<SkyCoord (ICRS): (ra, dec) in deg\n",
      "    (298.74423, 46.83009)>\n",
      "[14, 15] <class 'list'>\n",
      "No QLP files at /Volumes/LUVOIR/MonoToolsData/TIC00268059384 Loading Eleanor Lightcurve\n",
      "DEBUG [urllib3.connectionpool._make_request()]: https://mast.stsci.edu:443 \"POST /api/v0/invoke HTTP/1.1\" 200 None\n",
      "DEBUG [urllib3.connectionpool._make_request()]: https://mast.stsci.edu:443 \"POST /api/v0/invoke HTTP/1.1\" 200 None\n",
      "DEBUG [urllib3.connectionpool._make_request()]: https://mast.stsci.edu:443 \"POST /api/v0/invoke HTTP/1.1\" 200 None\n",
      "No eleanor postcard has been made for your target (yet). Using TessCut instead.\n",
      "DEBUG [urllib3.connectionpool._get_conn()]: Resetting dropped connection: mast.stsci.edu\n",
      "DEBUG [urllib3.connectionpool._make_request()]: https://mast.stsci.edu:443 \"GET /tesscut/api/v0.1/astrocut?ra=298.744251275744&dec=46.8300793516029&y=31&x=31&units=px&sector=14 HTTP/1.1\" 200 None\n",
      "Downloading URL https://mast.stsci.edu/tesscut/api/v0.1/astrocut?ra=298.744251275744&dec=46.8300793516029&y=31&x=31&units=px&sector=14 to /Users/hosborn/.eleanor/tesscut/tesscut_20200721031425.zip ... [Done]\n",
      "Inflating...\n"
     ]
    },
    {
     "name": "stderr",
     "output_type": "stream",
     "text": [
      "100%|██████████| 1241/1241 [00:13<00:00, 92.20it/s] \n"
     ]
    },
    {
     "name": "stdout",
     "output_type": "stream",
     "text": [
      "81 points masked in lc of 1241\n",
      "No QLP files at /Volumes/LUVOIR/MonoToolsData/TIC00268059384 Loading Eleanor Lightcurve\n",
      "DEBUG [urllib3.connectionpool._make_request()]: https://mast.stsci.edu:443 \"POST /api/v0/invoke HTTP/1.1\" 200 None\n",
      "DEBUG [urllib3.connectionpool._make_request()]: https://mast.stsci.edu:443 \"POST /api/v0/invoke HTTP/1.1\" 200 None\n",
      "DEBUG [urllib3.connectionpool._make_request()]: https://mast.stsci.edu:443 \"POST /api/v0/invoke HTTP/1.1\" 200 None\n",
      "No eleanor postcard has been made for your target (yet). Using TessCut instead.\n",
      "DEBUG [urllib3.connectionpool._make_request()]: https://mast.stsci.edu:443 \"GET /tesscut/api/v0.1/astrocut?ra=298.744251275744&dec=46.8300793516029&y=31&x=31&units=px&sector=15 HTTP/1.1\" 200 None\n",
      "Downloading URL https://mast.stsci.edu/tesscut/api/v0.1/astrocut?ra=298.744251275744&dec=46.8300793516029&y=31&x=31&units=px&sector=15 to /Users/hosborn/.eleanor/tesscut/tesscut_20200721031450.zip ... [Done]\n",
      "Inflating...\n"
     ]
    },
    {
     "name": "stderr",
     "output_type": "stream",
     "text": [
      "100%|██████████| 1197/1197 [00:11<00:00, 102.66it/s]\n"
     ]
    },
    {
     "name": "stdout",
     "output_type": "stream",
     "text": [
      "74 points masked in lc of 1197\n",
      "[0, 1]\n",
      "Kepler file\n",
      "8 points masked in lc of 476\n",
      "Kepler file\n",
      "21 points masked in lc of 1639\n",
      "Kepler file\n",
      "297 points masked in lc of 4354\n",
      "Kepler file\n",
      "245 points masked in lc of 4370\n",
      "Kepler file\n",
      "298 points masked in lc of 4397\n",
      "Kepler file\n",
      "163 points masked in lc of 4634\n",
      "Kepler file\n",
      "134 points masked in lc of 4398\n",
      "Kepler file\n",
      "178 points masked in lc of 3279\n",
      "Kepler file\n",
      "172 points masked in lc of 4768\n",
      "Kepler file\n",
      "143 points masked in lc of 4573\n",
      "Kepler file\n",
      "503 points masked in lc of 4044\n",
      "Kepler file\n",
      "185 points masked in lc of 4421\n",
      "Kepler file\n",
      "495 points masked in lc of 4757\n",
      "Kepler file\n",
      "676 points masked in lc of 4203\n",
      "Kepler file\n",
      "274 points masked in lc of 1556\n",
      "[0, 1, 2, 3, 4, 5, 6, 7, 8, 9, 10, 11, 12, 13, 14]\n",
      "[0, 1]\n",
      "transit mask: <class 'numpy.ndarray'> 55952 1 <class 'numpy.ndarray'> 55952 True\n"
     ]
    },
    {
     "name": "stderr",
     "output_type": "stream",
     "text": [
      "INFO (theano.gof.compilelock): Waiting for existing lock by process '20511' (I am process '19630')\n"
     ]
    },
    {
     "name": "stdout",
     "output_type": "stream",
     "text": [
      "INFO  [theano.gof.compilelock.lock()]: Waiting for existing lock by process '20511' (I am process '19630')\n"
     ]
    },
    {
     "name": "stderr",
     "output_type": "stream",
     "text": [
      "INFO (theano.gof.compilelock): To manually release the lock, delete /Users/hosborn/.theano/compiledir_Darwin-19.3.0-x86_64-i386-64bit-i386-3.7.6-64/lock_dir\n"
     ]
    },
    {
     "name": "stdout",
     "output_type": "stream",
     "text": [
      "INFO  [theano.gof.compilelock.lock()]: To manually release the lock, delete /Users/hosborn/.theano/compiledir_Darwin-19.3.0-x86_64-i386-64bit-i386-3.7.6-64/lock_dir\n"
     ]
    },
    {
     "name": "stderr",
     "output_type": "stream",
     "text": [
      "INFO (theano.gof.compilelock): Waiting for existing lock by process '20511' (I am process '19630')\n"
     ]
    },
    {
     "name": "stdout",
     "output_type": "stream",
     "text": [
      "INFO  [theano.gof.compilelock.lock()]: Waiting for existing lock by process '20511' (I am process '19630')\n"
     ]
    },
    {
     "name": "stderr",
     "output_type": "stream",
     "text": [
      "INFO (theano.gof.compilelock): To manually release the lock, delete /Users/hosborn/.theano/compiledir_Darwin-19.3.0-x86_64-i386-64bit-i386-3.7.6-64/lock_dir\n"
     ]
    },
    {
     "name": "stdout",
     "output_type": "stream",
     "text": [
      "INFO  [theano.gof.compilelock.lock()]: To manually release the lock, delete /Users/hosborn/.theano/compiledir_Darwin-19.3.0-x86_64-i386-64bit-i386-3.7.6-64/lock_dir\n"
     ]
    },
    {
     "name": "stderr",
     "output_type": "stream",
     "text": [
      "INFO (theano.gof.compilelock): Waiting for existing lock by process '20511' (I am process '19630')\n"
     ]
    },
    {
     "name": "stdout",
     "output_type": "stream",
     "text": [
      "INFO  [theano.gof.compilelock.lock()]: Waiting for existing lock by process '20511' (I am process '19630')\n"
     ]
    },
    {
     "name": "stderr",
     "output_type": "stream",
     "text": [
      "INFO (theano.gof.compilelock): To manually release the lock, delete /Users/hosborn/.theano/compiledir_Darwin-19.3.0-x86_64-i386-64bit-i386-3.7.6-64/lock_dir\n"
     ]
    },
    {
     "name": "stdout",
     "output_type": "stream",
     "text": [
      "INFO  [theano.gof.compilelock.lock()]: To manually release the lock, delete /Users/hosborn/.theano/compiledir_Darwin-19.3.0-x86_64-i386-64bit-i386-3.7.6-64/lock_dir\n"
     ]
    },
    {
     "name": "stderr",
     "output_type": "stream",
     "text": [
      "INFO (theano.gof.compilelock): Waiting for existing lock by process '20511' (I am process '19630')\n"
     ]
    },
    {
     "name": "stdout",
     "output_type": "stream",
     "text": [
      "INFO  [theano.gof.compilelock.lock()]: Waiting for existing lock by process '20511' (I am process '19630')\n"
     ]
    },
    {
     "name": "stderr",
     "output_type": "stream",
     "text": [
      "INFO (theano.gof.compilelock): To manually release the lock, delete /Users/hosborn/.theano/compiledir_Darwin-19.3.0-x86_64-i386-64bit-i386-3.7.6-64/lock_dir\n"
     ]
    },
    {
     "name": "stdout",
     "output_type": "stream",
     "text": [
      "INFO  [theano.gof.compilelock.lock()]: To manually release the lock, delete /Users/hosborn/.theano/compiledir_Darwin-19.3.0-x86_64-i386-64bit-i386-3.7.6-64/lock_dir\n"
     ]
    },
    {
     "name": "stderr",
     "output_type": "stream",
     "text": [
      "INFO (theano.gof.compilelock): Waiting for existing lock by process '20511' (I am process '19630')\n"
     ]
    },
    {
     "name": "stdout",
     "output_type": "stream",
     "text": [
      "INFO  [theano.gof.compilelock.lock()]: Waiting for existing lock by process '20511' (I am process '19630')\n"
     ]
    },
    {
     "name": "stderr",
     "output_type": "stream",
     "text": [
      "INFO (theano.gof.compilelock): To manually release the lock, delete /Users/hosborn/.theano/compiledir_Darwin-19.3.0-x86_64-i386-64bit-i386-3.7.6-64/lock_dir\n"
     ]
    },
    {
     "name": "stdout",
     "output_type": "stream",
     "text": [
      "INFO  [theano.gof.compilelock.lock()]: To manually release the lock, delete /Users/hosborn/.theano/compiledir_Darwin-19.3.0-x86_64-i386-64bit-i386-3.7.6-64/lock_dir\n",
      "00 - Checks complete.  SNR: 13.93889  SNR_r: 22.45209  variability: -82.7584  centroid: 7.635401 | flag: planet\n",
      "DEBUG [matplotlib.backends.backend_pdf.fontName()]: Assigning font /b'F1' = '/Users/hosborn/transits/lib/python3.7/site-packages/matplotlib/mpl-data/fonts/ttf/DejaVuSans.ttf'\n",
      "DEBUG [matplotlib.backends.backend_pdf.writeFonts()]: Embedding font /Users/hosborn/transits/lib/python3.7/site-packages/matplotlib/mpl-data/fonts/ttf/DejaVuSans.ttf.\n",
      "DEBUG [matplotlib.backends.backend_pdf.writeFonts()]: Writing TrueType font.\n",
      "DEBUG [urllib3.connectionpool._make_request()]: https://mast.stsci.edu:443 \"POST /api/v0/invoke HTTP/1.1\" 200 None\n",
      "6191521  not in TIC\n",
      "DEBUG [urllib3.connectionpool._new_conn()]: Starting new HTTP connection (1): vizier.u-strasbg.fr:80\n",
      "DEBUG [urllib3.connectionpool._make_request()]: http://vizier.u-strasbg.fr:80 \"POST /viz-bin/votable HTTP/1.1\" 200 657\n",
      "DEBUG [urllib3.connectionpool._make_request()]: https://mast.stsci.edu:443 \"POST /api/v0/invoke HTTP/1.1\" 200 None\n",
      "DEBUG [urllib3.connectionpool._new_conn()]: Starting new HTTPS connection (1): heasarc.gsfc.nasa.gov:443\n",
      "DEBUG [urllib3.connectionpool._make_request()]: https://heasarc.gsfc.nasa.gov:443 \"GET /cgi-bin/tess/webtess/wtv.py?Entry=287.1543%2C+41.565788 HTTP/1.1\" 200 None\n",
      "https://heasarc.gsfc.nasa.gov/cgi-bin/tess/webtess/wtv.py?Entry=<SkyCoord (ICRS): (ra, dec) in deg\n",
      "    (287.1543, 41.565788)>\n",
      "[14] <class 'list'>\n",
      "No QLP files at /Volumes/LUVOIR/MonoToolsData/TIC00121114997 Loading Eleanor Lightcurve\n",
      "DEBUG [urllib3.connectionpool._make_request()]: https://mast.stsci.edu:443 \"POST /api/v0/invoke HTTP/1.1\" 200 None\n",
      "DEBUG [urllib3.connectionpool._make_request()]: https://mast.stsci.edu:443 \"POST /api/v0/invoke HTTP/1.1\" 200 None\n",
      "DEBUG [urllib3.connectionpool._make_request()]: https://mast.stsci.edu:443 \"POST /api/v0/invoke HTTP/1.1\" 200 None\n",
      "No eleanor postcard has been made for your target (yet). Using TessCut instead.\n",
      "DEBUG [urllib3.connectionpool._get_conn()]: Resetting dropped connection: mast.stsci.edu\n",
      "DEBUG [urllib3.connectionpool._make_request()]: https://mast.stsci.edu:443 \"GET /tesscut/api/v0.1/astrocut?ra=287.154268901213&dec=41.5657922427884&y=31&x=31&units=px&sector=14 HTTP/1.1\" 200 None\n",
      "Downloading URL https://mast.stsci.edu/tesscut/api/v0.1/astrocut?ra=287.154268901213&dec=41.5657922427884&y=31&x=31&units=px&sector=14 to /Users/hosborn/.eleanor/tesscut/tesscut_20200721032048.zip ... [Done]\n",
      "Inflating...\n"
     ]
    },
    {
     "name": "stderr",
     "output_type": "stream",
     "text": [
      "100%|██████████| 1241/1241 [00:18<00:00, 65.58it/s]\n"
     ]
    },
    {
     "name": "stdout",
     "output_type": "stream",
     "text": [
      "81 points masked in lc of 1241\n",
      "Kepler file\n",
      "17 points masked in lc of 1639\n",
      "Kepler file\n",
      "288 points masked in lc of 4354\n",
      "Kepler file\n",
      "243 points masked in lc of 4370\n",
      "Kepler file\n",
      "303 points masked in lc of 4397\n",
      "Kepler file\n",
      "159 points masked in lc of 4634\n",
      "Kepler file\n",
      "136 points masked in lc of 4398\n",
      "Kepler file\n",
      "161 points masked in lc of 4375\n",
      "Kepler file\n",
      "177 points masked in lc of 3279\n",
      "Kepler file\n",
      "166 points masked in lc of 4768\n",
      "Kepler file\n",
      "141 points masked in lc of 4573\n",
      "Kepler file\n",
      "287 points masked in lc of 4754\n",
      "Kepler file\n",
      "509 points masked in lc of 4044\n",
      "Kepler file\n",
      "186 points masked in lc of 4421\n",
      "Kepler file\n",
      "492 points masked in lc of 4757\n",
      "Kepler file\n",
      "426 points masked in lc of 4780\n",
      "Kepler file\n",
      "676 points masked in lc of 4203\n",
      "Kepler file\n",
      "278 points masked in lc of 1556\n",
      "[0, 1, 2, 3, 4, 5, 6, 7, 8, 9, 10, 11, 12, 13, 14, 15, 16]\n",
      "[0, 1]\n",
      "transit mask: <class 'numpy.ndarray'> 67629 1 <class 'numpy.ndarray'> 67629 True\n",
      "00 - Checks complete.  SNR: 21.34481  SNR_r: 25.10137  variability: -185.410  centroid: 9.919469 | flag: planet\n",
      "DEBUG [matplotlib.backends.backend_pdf.fontName()]: Assigning font /b'F1' = '/Users/hosborn/transits/lib/python3.7/site-packages/matplotlib/mpl-data/fonts/ttf/DejaVuSans.ttf'\n",
      "DEBUG [matplotlib.backends.backend_pdf.writeFonts()]: Embedding font /Users/hosborn/transits/lib/python3.7/site-packages/matplotlib/mpl-data/fonts/ttf/DejaVuSans.ttf.\n",
      "DEBUG [matplotlib.backends.backend_pdf.writeFonts()]: Writing TrueType font.\n",
      "DEBUG [urllib3.connectionpool._make_request()]: https://mast.stsci.edu:443 \"POST /api/v0/invoke HTTP/1.1\" 200 None\n",
      "3230491  not in TIC\n",
      "DEBUG [urllib3.connectionpool._new_conn()]: Starting new HTTP connection (1): vizier.u-strasbg.fr:80\n",
      "DEBUG [urllib3.connectionpool._make_request()]: http://vizier.u-strasbg.fr:80 \"POST /viz-bin/votable HTTP/1.1\" 200 657\n",
      "DEBUG [urllib3.connectionpool._make_request()]: https://mast.stsci.edu:443 \"POST /api/v0/invoke HTTP/1.1\" 200 None\n",
      "DEBUG [urllib3.connectionpool._new_conn()]: Starting new HTTPS connection (1): heasarc.gsfc.nasa.gov:443\n",
      "DEBUG [urllib3.connectionpool._make_request()]: https://heasarc.gsfc.nasa.gov:443 \"GET /cgi-bin/tess/webtess/wtv.py?Entry=290.18304%2C+38.321940999999995 HTTP/1.1\" 200 None\n",
      "https://heasarc.gsfc.nasa.gov/cgi-bin/tess/webtess/wtv.py?Entry=<SkyCoord (ICRS): (ra, dec) in deg\n",
      "    (290.18304, 38.321941)>\n",
      "[14] <class 'list'>\n",
      "No QLP files at /Volumes/LUVOIR/MonoToolsData/TIC00122304930 Loading Eleanor Lightcurve\n",
      "DEBUG [urllib3.connectionpool._make_request()]: https://mast.stsci.edu:443 \"POST /api/v0/invoke HTTP/1.1\" 200 None\n",
      "DEBUG [urllib3.connectionpool._make_request()]: https://mast.stsci.edu:443 \"POST /api/v0/invoke HTTP/1.1\" 200 None\n",
      "DEBUG [urllib3.connectionpool._make_request()]: https://mast.stsci.edu:443 \"POST /api/v0/invoke HTTP/1.1\" 200 None\n",
      "No eleanor postcard has been made for your target (yet). Using TessCut instead.\n",
      "DEBUG [urllib3.connectionpool._get_conn()]: Resetting dropped connection: mast.stsci.edu\n",
      "DEBUG [urllib3.connectionpool._make_request()]: https://mast.stsci.edu:443 \"GET /tesscut/api/v0.1/astrocut?ra=290.183055603883&dec=38.3219214779621&y=31&x=31&units=px&sector=14 HTTP/1.1\" 200 None\n",
      "Downloading URL https://mast.stsci.edu/tesscut/api/v0.1/astrocut?ra=290.183055603883&dec=38.3219214779621&y=31&x=31&units=px&sector=14 to /Users/hosborn/.eleanor/tesscut/tesscut_20200721032653.zip ... [Done]\n",
      "Inflating...\n"
     ]
    },
    {
     "name": "stderr",
     "output_type": "stream",
     "text": [
      "100%|██████████| 1241/1241 [00:17<00:00, 69.84it/s]\n"
     ]
    },
    {
     "name": "stdout",
     "output_type": "stream",
     "text": [
      "125 points masked in lc of 1241\n",
      "Kepler file\n",
      "17 points masked in lc of 1639\n",
      "Kepler file\n",
      "293 points masked in lc of 4354\n",
      "Kepler file\n",
      "251 points masked in lc of 4370\n",
      "Kepler file\n",
      "296 points masked in lc of 4397\n",
      "Kepler file\n",
      "162 points masked in lc of 4634\n",
      "Kepler file\n",
      "132 points masked in lc of 4398\n",
      "Kepler file\n",
      "159 points masked in lc of 4375\n",
      "Kepler file\n",
      "181 points masked in lc of 3279\n",
      "Kepler file\n",
      "169 points masked in lc of 4768\n",
      "Kepler file\n",
      "145 points masked in lc of 4573\n",
      "Kepler file\n",
      "293 points masked in lc of 4754\n",
      "Kepler file\n",
      "498 points masked in lc of 4044\n",
      "Kepler file\n",
      "192 points masked in lc of 4421\n",
      "Kepler file\n",
      "495 points masked in lc of 4757\n",
      "Kepler file\n",
      "425 points masked in lc of 4780\n",
      "Kepler file\n",
      "673 points masked in lc of 4203\n",
      "Kepler file\n",
      "276 points masked in lc of 1556\n",
      "[0, 1, 2, 3, 4, 5, 6, 7, 8, 9, 10, 11, 12, 13, 14, 15, 16]\n",
      "[0, 1]\n",
      "transit mask: <class 'numpy.ndarray'> 67629 1 <class 'numpy.ndarray'> 67629 True\n",
      "00 - Checks complete.  SNR: 12.38962  SNR_r: 95.67592  variability: -951.334  centroid: 9.181006 | flag: planet\n",
      "DEBUG [matplotlib.backends.backend_pdf.fontName()]: Assigning font /b'F1' = '/Users/hosborn/transits/lib/python3.7/site-packages/matplotlib/mpl-data/fonts/ttf/DejaVuSans.ttf'\n",
      "DEBUG [matplotlib.backends.backend_pdf.writeFonts()]: Embedding font /Users/hosborn/transits/lib/python3.7/site-packages/matplotlib/mpl-data/fonts/ttf/DejaVuSans.ttf.\n",
      "DEBUG [matplotlib.backends.backend_pdf.writeFonts()]: Writing TrueType font.\n",
      "DEBUG [urllib3.connectionpool._make_request()]: https://mast.stsci.edu:443 \"POST /api/v0/invoke HTTP/1.1\" 200 None\n",
      "3962440  not in TIC\n",
      "DEBUG [urllib3.connectionpool._new_conn()]: Starting new HTTP connection (1): vizier.u-strasbg.fr:80\n",
      "DEBUG [urllib3.connectionpool._make_request()]: http://vizier.u-strasbg.fr:80 \"POST /viz-bin/votable HTTP/1.1\" 200 658\n",
      "DEBUG [urllib3.connectionpool._make_request()]: https://mast.stsci.edu:443 \"POST /api/v0/invoke HTTP/1.1\" 200 None\n",
      "DEBUG [urllib3.connectionpool._new_conn()]: Starting new HTTPS connection (1): heasarc.gsfc.nasa.gov:443\n",
      "DEBUG [urllib3.connectionpool._make_request()]: https://heasarc.gsfc.nasa.gov:443 \"GET /cgi-bin/tess/webtess/wtv.py?Entry=293.61877000000004%2C+39.022572 HTTP/1.1\" 200 None\n",
      "https://heasarc.gsfc.nasa.gov/cgi-bin/tess/webtess/wtv.py?Entry=<SkyCoord (ICRS): (ra, dec) in deg\n",
      "    (293.61877, 39.022572)>\n",
      "[14] <class 'list'>\n",
      "No QLP files at /Volumes/LUVOIR/MonoToolsData/TIC00138303340 Loading Eleanor Lightcurve\n",
      "DEBUG [urllib3.connectionpool._make_request()]: https://mast.stsci.edu:443 \"POST /api/v0/invoke HTTP/1.1\" 200 None\n",
      "DEBUG [urllib3.connectionpool._make_request()]: https://mast.stsci.edu:443 \"POST /api/v0/invoke HTTP/1.1\" 200 None\n",
      "Tess has not (yet) observed your target. 138303340 not observed by TESS in sector 14\n",
      "Kepler file\n",
      "15 points masked in lc of 1639\n",
      "Kepler file\n",
      "299 points masked in lc of 4354\n",
      "Kepler file\n",
      "254 points masked in lc of 4370\n",
      "Kepler file\n",
      "294 points masked in lc of 4397\n",
      "Kepler file\n",
      "161 points masked in lc of 4634\n",
      "Kepler file\n",
      "157 points masked in lc of 4375\n",
      "Kepler file\n",
      "177 points masked in lc of 3279\n",
      "Kepler file\n",
      "170 points masked in lc of 4768\n",
      "Kepler file\n",
      "285 points masked in lc of 4754\n",
      "Kepler file\n",
      "511 points masked in lc of 4044\n",
      "Kepler file\n",
      "186 points masked in lc of 4421\n",
      "Kepler file\n",
      "421 points masked in lc of 4780\n",
      "Kepler file\n",
      "676 points masked in lc of 4203\n",
      "Kepler file\n",
      "273 points masked in lc of 1556\n",
      "[0, 1, 2, 3, 4, 5, 6, 7, 8, 9, 10, 11, 12, 13]\n",
      "[0]\n",
      "transit mask: <class 'numpy.ndarray'> 53152 1 <class 'numpy.ndarray'> 53152 True\n"
     ]
    },
    {
     "name": "stderr",
     "output_type": "stream",
     "text": [
      "INFO (theano.gof.compilelock): Waiting for existing lock by process '20511' (I am process '19630')\n"
     ]
    },
    {
     "name": "stdout",
     "output_type": "stream",
     "text": [
      "INFO  [theano.gof.compilelock.lock()]: Waiting for existing lock by process '20511' (I am process '19630')\n"
     ]
    },
    {
     "name": "stderr",
     "output_type": "stream",
     "text": [
      "INFO (theano.gof.compilelock): To manually release the lock, delete /Users/hosborn/.theano/compiledir_Darwin-19.3.0-x86_64-i386-64bit-i386-3.7.6-64/lock_dir\n"
     ]
    },
    {
     "name": "stdout",
     "output_type": "stream",
     "text": [
      "INFO  [theano.gof.compilelock.lock()]: To manually release the lock, delete /Users/hosborn/.theano/compiledir_Darwin-19.3.0-x86_64-i386-64bit-i386-3.7.6-64/lock_dir\n"
     ]
    },
    {
     "name": "stderr",
     "output_type": "stream",
     "text": [
      "INFO (theano.gof.compilelock): Waiting for existing lock by process '20511' (I am process '19630')\n"
     ]
    },
    {
     "name": "stdout",
     "output_type": "stream",
     "text": [
      "INFO  [theano.gof.compilelock.lock()]: Waiting for existing lock by process '20511' (I am process '19630')\n"
     ]
    },
    {
     "name": "stderr",
     "output_type": "stream",
     "text": [
      "INFO (theano.gof.compilelock): To manually release the lock, delete /Users/hosborn/.theano/compiledir_Darwin-19.3.0-x86_64-i386-64bit-i386-3.7.6-64/lock_dir\n"
     ]
    },
    {
     "name": "stdout",
     "output_type": "stream",
     "text": [
      "INFO  [theano.gof.compilelock.lock()]: To manually release the lock, delete /Users/hosborn/.theano/compiledir_Darwin-19.3.0-x86_64-i386-64bit-i386-3.7.6-64/lock_dir\n"
     ]
    },
    {
     "name": "stderr",
     "output_type": "stream",
     "text": [
      "INFO (theano.gof.compilelock): Waiting for existing lock by process '20511' (I am process '19630')\n"
     ]
    },
    {
     "name": "stdout",
     "output_type": "stream",
     "text": [
      "INFO  [theano.gof.compilelock.lock()]: Waiting for existing lock by process '20511' (I am process '19630')\n"
     ]
    },
    {
     "name": "stderr",
     "output_type": "stream",
     "text": [
      "INFO (theano.gof.compilelock): To manually release the lock, delete /Users/hosborn/.theano/compiledir_Darwin-19.3.0-x86_64-i386-64bit-i386-3.7.6-64/lock_dir\n"
     ]
    },
    {
     "name": "stdout",
     "output_type": "stream",
     "text": [
      "INFO  [theano.gof.compilelock.lock()]: To manually release the lock, delete /Users/hosborn/.theano/compiledir_Darwin-19.3.0-x86_64-i386-64bit-i386-3.7.6-64/lock_dir\n"
     ]
    },
    {
     "name": "stderr",
     "output_type": "stream",
     "text": [
      "INFO (theano.gof.compilelock): Waiting for existing lock by process '20511' (I am process '19630')\n"
     ]
    },
    {
     "name": "stdout",
     "output_type": "stream",
     "text": [
      "INFO  [theano.gof.compilelock.lock()]: Waiting for existing lock by process '20511' (I am process '19630')\n"
     ]
    },
    {
     "name": "stderr",
     "output_type": "stream",
     "text": [
      "INFO (theano.gof.compilelock): To manually release the lock, delete /Users/hosborn/.theano/compiledir_Darwin-19.3.0-x86_64-i386-64bit-i386-3.7.6-64/lock_dir\n"
     ]
    },
    {
     "name": "stdout",
     "output_type": "stream",
     "text": [
      "INFO  [theano.gof.compilelock.lock()]: To manually release the lock, delete /Users/hosborn/.theano/compiledir_Darwin-19.3.0-x86_64-i386-64bit-i386-3.7.6-64/lock_dir\n"
     ]
    },
    {
     "name": "stderr",
     "output_type": "stream",
     "text": [
      "INFO (theano.gof.compilelock): Waiting for existing lock by process '20511' (I am process '19630')\n"
     ]
    },
    {
     "name": "stdout",
     "output_type": "stream",
     "text": [
      "INFO  [theano.gof.compilelock.lock()]: Waiting for existing lock by process '20511' (I am process '19630')\n"
     ]
    },
    {
     "name": "stderr",
     "output_type": "stream",
     "text": [
      "INFO (theano.gof.compilelock): To manually release the lock, delete /Users/hosborn/.theano/compiledir_Darwin-19.3.0-x86_64-i386-64bit-i386-3.7.6-64/lock_dir\n"
     ]
    },
    {
     "name": "stdout",
     "output_type": "stream",
     "text": [
      "INFO  [theano.gof.compilelock.lock()]: To manually release the lock, delete /Users/hosborn/.theano/compiledir_Darwin-19.3.0-x86_64-i386-64bit-i386-3.7.6-64/lock_dir\n"
     ]
    },
    {
     "name": "stderr",
     "output_type": "stream",
     "text": [
      "INFO (theano.gof.compilelock): Waiting for existing lock by process '20511' (I am process '19630')\n"
     ]
    },
    {
     "name": "stdout",
     "output_type": "stream",
     "text": [
      "INFO  [theano.gof.compilelock.lock()]: Waiting for existing lock by process '20511' (I am process '19630')\n"
     ]
    },
    {
     "name": "stderr",
     "output_type": "stream",
     "text": [
      "INFO (theano.gof.compilelock): To manually release the lock, delete /Users/hosborn/.theano/compiledir_Darwin-19.3.0-x86_64-i386-64bit-i386-3.7.6-64/lock_dir\n"
     ]
    },
    {
     "name": "stdout",
     "output_type": "stream",
     "text": [
      "INFO  [theano.gof.compilelock.lock()]: To manually release the lock, delete /Users/hosborn/.theano/compiledir_Darwin-19.3.0-x86_64-i386-64bit-i386-3.7.6-64/lock_dir\n",
      "00 - Checks complete.  SNR: 23.60757  SNR_r: 61.96235  variability: -892.573  centroid: 9.351558 | flag: planet\n",
      "DEBUG [matplotlib.backends.backend_pdf.fontName()]: Assigning font /b'F1' = '/Users/hosborn/transits/lib/python3.7/site-packages/matplotlib/mpl-data/fonts/ttf/DejaVuSans.ttf'\n",
      "DEBUG [matplotlib.backends.backend_pdf.writeFonts()]: Embedding font /Users/hosborn/transits/lib/python3.7/site-packages/matplotlib/mpl-data/fonts/ttf/DejaVuSans.ttf.\n",
      "DEBUG [matplotlib.backends.backend_pdf.writeFonts()]: Writing TrueType font.\n",
      "DEBUG [urllib3.connectionpool._make_request()]: https://mast.stsci.edu:443 \"POST /api/v0/invoke HTTP/1.1\" 200 None\n",
      "5942949  not in TIC\n",
      "DEBUG [urllib3.connectionpool._new_conn()]: Starting new HTTP connection (1): vizier.u-strasbg.fr:80\n",
      "DEBUG [urllib3.connectionpool._make_request()]: http://vizier.u-strasbg.fr:80 \"POST /viz-bin/votable HTTP/1.1\" 200 657\n",
      "DEBUG [urllib3.connectionpool._make_request()]: https://mast.stsci.edu:443 \"POST /api/v0/invoke HTTP/1.1\" 200 None\n",
      "DEBUG [urllib3.connectionpool._new_conn()]: Starting new HTTPS connection (1): heasarc.gsfc.nasa.gov:443\n",
      "DEBUG [urllib3.connectionpool._make_request()]: https://heasarc.gsfc.nasa.gov:443 \"GET /cgi-bin/tess/webtess/wtv.py?Entry=285.29193%2C+41.255691999999996 HTTP/1.1\" 200 None\n",
      "https://heasarc.gsfc.nasa.gov/cgi-bin/tess/webtess/wtv.py?Entry=<SkyCoord (ICRS): (ra, dec) in deg\n",
      "    (285.29193, 41.255692)>\n",
      "[14] <class 'list'>\n",
      "No QLP files at /Volumes/LUVOIR/MonoToolsData/TIC00399821807 Loading Eleanor Lightcurve\n",
      "DEBUG [urllib3.connectionpool._make_request()]: https://mast.stsci.edu:443 \"POST /api/v0/invoke HTTP/1.1\" 200 None\n",
      "DEBUG [urllib3.connectionpool._make_request()]: https://mast.stsci.edu:443 \"POST /api/v0/invoke HTTP/1.1\" 200 None\n",
      "DEBUG [urllib3.connectionpool._get_conn()]: Resetting dropped connection: mast.stsci.edu\n",
      "DEBUG [urllib3.connectionpool._make_request()]: https://mast.stsci.edu:443 \"POST /api/v0/invoke HTTP/1.1\" 200 None\n",
      "No eleanor postcard has been made for your target (yet). Using TessCut instead.\n",
      "DEBUG [urllib3.connectionpool._get_conn()]: Resetting dropped connection: mast.stsci.edu\n",
      "DEBUG [urllib3.connectionpool._make_request()]: https://mast.stsci.edu:443 \"GET /tesscut/api/v0.1/astrocut?ra=285.291939599584&dec=41.2557002246277&y=31&x=31&units=px&sector=14 HTTP/1.1\" 200 None\n",
      "Downloading URL https://mast.stsci.edu/tesscut/api/v0.1/astrocut?ra=285.291939599584&dec=41.2557002246277&y=31&x=31&units=px&sector=14 to /Users/hosborn/.eleanor/tesscut/tesscut_20200721033759.zip ... [Done]\n",
      "Inflating...\n"
     ]
    },
    {
     "name": "stderr",
     "output_type": "stream",
     "text": [
      "100%|██████████| 1241/1241 [00:08<00:00, 150.59it/s]\n"
     ]
    },
    {
     "name": "stdout",
     "output_type": "stream",
     "text": [
      "80 points masked in lc of 1241\n",
      "Kepler file\n",
      "21 points masked in lc of 1639\n",
      "Kepler file\n",
      "301 points masked in lc of 4354\n",
      "Kepler file\n",
      "242 points masked in lc of 4370\n",
      "Kepler file\n",
      "303 points masked in lc of 4397\n",
      "Kepler file\n",
      "135 points masked in lc of 4398\n",
      "Kepler file\n",
      "156 points masked in lc of 4375\n",
      "Kepler file\n",
      "180 points masked in lc of 3279\n",
      "Kepler file\n",
      "143 points masked in lc of 4573\n",
      "Kepler file\n",
      "293 points masked in lc of 4754\n",
      "Kepler file\n",
      "500 points masked in lc of 4044\n",
      "Kepler file\n",
      "500 points masked in lc of 4757\n",
      "Kepler file\n",
      "425 points masked in lc of 4780\n",
      "Kepler file\n",
      "680 points masked in lc of 4203\n",
      "[0, 1, 2, 3, 4, 5, 6, 7, 8, 9, 10, 11, 12]\n",
      "[0, 1]\n",
      "transit mask: <class 'numpy.ndarray'> 52744 1 <class 'numpy.ndarray'> 52744 True\n",
      "00 - Checks complete.  SNR: 13.83428  SNR_r: 135.5231  variability: -2389.72  centroid: 9.831253 | flag: planet\n",
      "DEBUG [matplotlib.backends.backend_pdf.fontName()]: Assigning font /b'F1' = '/Users/hosborn/transits/lib/python3.7/site-packages/matplotlib/mpl-data/fonts/ttf/DejaVuSans.ttf'\n",
      "DEBUG [matplotlib.backends.backend_pdf.writeFonts()]: Embedding font /Users/hosborn/transits/lib/python3.7/site-packages/matplotlib/mpl-data/fonts/ttf/DejaVuSans.ttf.\n",
      "DEBUG [matplotlib.backends.backend_pdf.writeFonts()]: Writing TrueType font.\n",
      "DEBUG [urllib3.connectionpool._make_request()]: https://mast.stsci.edu:443 \"POST /api/v0/invoke HTTP/1.1\" 200 None\n",
      "1717722  not in TIC\n",
      "DEBUG [urllib3.connectionpool._new_conn()]: Starting new HTTP connection (1): vizier.u-strasbg.fr:80\n",
      "DEBUG [urllib3.connectionpool._make_request()]: http://vizier.u-strasbg.fr:80 \"POST /viz-bin/votable HTTP/1.1\" 200 658\n",
      "DEBUG [urllib3.connectionpool._make_request()]: https://mast.stsci.edu:443 \"POST /api/v0/invoke HTTP/1.1\" 200 None\n",
      "DEBUG [urllib3.connectionpool._new_conn()]: Starting new HTTPS connection (1): heasarc.gsfc.nasa.gov:443\n",
      "DEBUG [urllib3.connectionpool._make_request()]: https://heasarc.gsfc.nasa.gov:443 \"GET /cgi-bin/tess/webtess/wtv.py?Entry=290.61798%2C+37.289089000000004 HTTP/1.1\" 200 None\n",
      "https://heasarc.gsfc.nasa.gov/cgi-bin/tess/webtess/wtv.py?Entry=<SkyCoord (ICRS): (ra, dec) in deg\n",
      "    (290.61798, 37.289089)>\n",
      "[14] <class 'list'>\n",
      "No QLP files at /Volumes/LUVOIR/MonoToolsData/TIC00122515777 Loading Eleanor Lightcurve\n",
      "DEBUG [urllib3.connectionpool._make_request()]: https://mast.stsci.edu:443 \"POST /api/v0/invoke HTTP/1.1\" 200 None\n",
      "DEBUG [urllib3.connectionpool._make_request()]: https://mast.stsci.edu:443 \"POST /api/v0/invoke HTTP/1.1\" 200 None\n",
      "DEBUG [urllib3.connectionpool._make_request()]: https://mast.stsci.edu:443 \"POST /api/v0/invoke HTTP/1.1\" 200 None\n",
      "No eleanor postcard has been made for your target (yet). Using TessCut instead.\n",
      "DEBUG [urllib3.connectionpool._get_conn()]: Resetting dropped connection: mast.stsci.edu\n",
      "DEBUG [urllib3.connectionpool._make_request()]: https://mast.stsci.edu:443 \"GET /tesscut/api/v0.1/astrocut?ra=290.617337500997&dec=37.2906012200926&y=31&x=31&units=px&sector=14 HTTP/1.1\" 200 None\n",
      "Downloading URL https://mast.stsci.edu/tesscut/api/v0.1/astrocut?ra=290.617337500997&dec=37.2906012200926&y=31&x=31&units=px&sector=14 to /Users/hosborn/.eleanor/tesscut/tesscut_20200721034250.zip ... [Done]\n",
      "Inflating...\n"
     ]
    },
    {
     "name": "stderr",
     "output_type": "stream",
     "text": [
      "100%|██████████| 1241/1241 [00:11<00:00, 105.44it/s]\n"
     ]
    },
    {
     "name": "stdout",
     "output_type": "stream",
     "text": [
      "135 points masked in lc of 1241\n",
      "Kepler file\n",
      "291 points masked in lc of 4354\n",
      "Kepler file\n",
      "246 points masked in lc of 4370\n",
      "Kepler file\n",
      "295 points masked in lc of 4397\n",
      "Kepler file\n",
      "160 points masked in lc of 4634\n",
      "Kepler file\n",
      "139 points masked in lc of 4398\n",
      "Kepler file\n",
      "163 points masked in lc of 4375\n",
      "Kepler file\n",
      "184 points masked in lc of 3279\n",
      "Kepler file\n",
      "166 points masked in lc of 4768\n",
      "Kepler file\n",
      "138 points masked in lc of 4573\n",
      "Kepler file\n",
      "295 points masked in lc of 4754\n",
      "Kepler file\n",
      "514 points masked in lc of 4044\n",
      "Kepler file\n",
      "182 points masked in lc of 4421\n",
      "Kepler file\n",
      "497 points masked in lc of 4757\n",
      "Kepler file\n",
      "422 points masked in lc of 4780\n",
      "Kepler file\n",
      "673 points masked in lc of 4203\n",
      "Kepler file\n",
      "282 points masked in lc of 1556\n",
      "[0, 1, 2, 3, 4, 5, 6, 7, 8, 9, 10, 11, 12, 13, 14, 15]\n",
      "[0, 1]\n",
      "transit mask: <class 'numpy.ndarray'> 65990 0 <class 'numpy.ndarray'> 65990 True\n",
      "00 - Checks complete.  SNR: 24.64170  SNR_r: 23.24957  variability: -304.633  centroid: 11.27177 | flag: planet\n",
      "DEBUG [matplotlib.backends.backend_pdf.fontName()]: Assigning font /b'F1' = '/Users/hosborn/transits/lib/python3.7/site-packages/matplotlib/mpl-data/fonts/ttf/DejaVuSans.ttf'\n",
      "DEBUG [matplotlib.backends.backend_pdf.writeFonts()]: Embedding font /Users/hosborn/transits/lib/python3.7/site-packages/matplotlib/mpl-data/fonts/ttf/DejaVuSans.ttf.\n",
      "DEBUG [matplotlib.backends.backend_pdf.writeFonts()]: Writing TrueType font.\n",
      "DEBUG [urllib3.connectionpool._make_request()]: https://mast.stsci.edu:443 \"POST /api/v0/invoke HTTP/1.1\" 200 None\n",
      "8636333  not in TIC\n",
      "DEBUG [urllib3.connectionpool._new_conn()]: Starting new HTTP connection (1): vizier.u-strasbg.fr:80\n",
      "DEBUG [urllib3.connectionpool._make_request()]: http://vizier.u-strasbg.fr:80 \"POST /viz-bin/votable HTTP/1.1\" 200 659\n",
      "DEBUG [urllib3.connectionpool._make_request()]: https://mast.stsci.edu:443 \"POST /api/v0/invoke HTTP/1.1\" 200 None\n",
      "DEBUG [urllib3.connectionpool._new_conn()]: Starting new HTTPS connection (1): heasarc.gsfc.nasa.gov:443\n",
      "DEBUG [urllib3.connectionpool._make_request()]: https://heasarc.gsfc.nasa.gov:443 \"GET /cgi-bin/tess/webtess/wtv.py?Entry=295.94827000000004%2C+44.75312 HTTP/1.1\" 200 None\n",
      "https://heasarc.gsfc.nasa.gov/cgi-bin/tess/webtess/wtv.py?Entry=<SkyCoord (ICRS): (ra, dec) in deg\n",
      "    (295.94827, 44.75312)>\n",
      "[14, 15] <class 'list'>\n",
      "No QLP files at /Volumes/LUVOIR/MonoToolsData/TIC00271970692 Loading Eleanor Lightcurve\n",
      "DEBUG [urllib3.connectionpool._make_request()]: https://mast.stsci.edu:443 \"POST /api/v0/invoke HTTP/1.1\" 200 None\n",
      "DEBUG [urllib3.connectionpool._make_request()]: https://mast.stsci.edu:443 \"POST /api/v0/invoke HTTP/1.1\" 200 None\n",
      "DEBUG [urllib3.connectionpool._make_request()]: https://mast.stsci.edu:443 \"POST /api/v0/invoke HTTP/1.1\" 200 None\n",
      "No eleanor postcard has been made for your target (yet). Using TessCut instead.\n",
      "DEBUG [urllib3.connectionpool._get_conn()]: Resetting dropped connection: mast.stsci.edu\n",
      "DEBUG [urllib3.connectionpool._make_request()]: https://mast.stsci.edu:443 \"GET /tesscut/api/v0.1/astrocut?ra=295.948280284995&dec=44.7531181869208&y=31&x=31&units=px&sector=14 HTTP/1.1\" 200 None\n",
      "Downloading URL https://mast.stsci.edu/tesscut/api/v0.1/astrocut?ra=295.948280284995&dec=44.7531181869208&y=31&x=31&units=px&sector=14 to /Users/hosborn/.eleanor/tesscut/tesscut_20200721034836.zip ... [Done]\n",
      "Inflating...\n"
     ]
    },
    {
     "name": "stderr",
     "output_type": "stream",
     "text": [
      "100%|██████████| 1241/1241 [00:16<00:00, 76.06it/s]\n"
     ]
    },
    {
     "name": "stdout",
     "output_type": "stream",
     "text": [
      "80 points masked in lc of 1241\n",
      "No QLP files at /Volumes/LUVOIR/MonoToolsData/TIC00271970692 Loading Eleanor Lightcurve\n",
      "DEBUG [urllib3.connectionpool._make_request()]: https://mast.stsci.edu:443 \"POST /api/v0/invoke HTTP/1.1\" 200 None\n",
      "DEBUG [urllib3.connectionpool._make_request()]: https://mast.stsci.edu:443 \"POST /api/v0/invoke HTTP/1.1\" 200 None\n",
      "DEBUG [urllib3.connectionpool._make_request()]: https://mast.stsci.edu:443 \"POST /api/v0/invoke HTTP/1.1\" 200 None\n",
      "No eleanor postcard has been made for your target (yet). Using TessCut instead.\n",
      "DEBUG [urllib3.connectionpool._make_request()]: https://mast.stsci.edu:443 \"GET /tesscut/api/v0.1/astrocut?ra=295.948280284995&dec=44.7531181869208&y=31&x=31&units=px&sector=15 HTTP/1.1\" 200 None\n",
      "Downloading URL https://mast.stsci.edu/tesscut/api/v0.1/astrocut?ra=295.948280284995&dec=44.7531181869208&y=31&x=31&units=px&sector=15 to /Users/hosborn/.eleanor/tesscut/tesscut_20200721034907.zip ... [Done]\n",
      "Inflating...\n"
     ]
    },
    {
     "name": "stderr",
     "output_type": "stream",
     "text": [
      "100%|██████████| 1197/1197 [00:12<00:00, 96.64it/s] \n"
     ]
    },
    {
     "name": "stdout",
     "output_type": "stream",
     "text": [
      "77 points masked in lc of 1197\n",
      "[0, 1]\n",
      "Kepler file\n",
      "15 points masked in lc of 1639\n",
      "Kepler file\n",
      "299 points masked in lc of 4354\n",
      "Kepler file\n",
      "250 points masked in lc of 4370\n",
      "Kepler file\n",
      "306 points masked in lc of 4397\n",
      "Kepler file\n",
      "157 points masked in lc of 4634\n",
      "Kepler file\n",
      "134 points masked in lc of 4398\n",
      "Kepler file\n",
      "158 points masked in lc of 4375\n",
      "Kepler file\n",
      "188 points masked in lc of 3279\n",
      "Kepler file\n",
      "168 points masked in lc of 4768\n",
      "Kepler file\n",
      "143 points masked in lc of 4573\n",
      "Kepler file\n",
      "294 points masked in lc of 4754\n",
      "Kepler file\n",
      "509 points masked in lc of 4044\n",
      "Kepler file\n",
      "182 points masked in lc of 4421\n",
      "Kepler file\n",
      "499 points masked in lc of 4757\n",
      "Kepler file\n",
      "425 points masked in lc of 4780\n",
      "Kepler file\n",
      "677 points masked in lc of 4203\n",
      "Kepler file\n",
      "277 points masked in lc of 1556\n",
      "[0, 1, 2, 3, 4, 5, 6, 7, 8, 9, 10, 11, 12, 13, 14, 15, 16]\n",
      "[0, 1]\n",
      "transit mask: <class 'numpy.ndarray'> 68826 1 <class 'numpy.ndarray'> 68826 True\n",
      "00 - Checks complete.  SNR: 27.18379  SNR_r: 14.70345  variability: -50.3665  centroid: 10.94689 | flag: planet\n",
      "DEBUG [matplotlib.backends.backend_pdf.fontName()]: Assigning font /b'F1' = '/Users/hosborn/transits/lib/python3.7/site-packages/matplotlib/mpl-data/fonts/ttf/DejaVuSans.ttf'\n",
      "DEBUG [matplotlib.backends.backend_pdf.writeFonts()]: Embedding font /Users/hosborn/transits/lib/python3.7/site-packages/matplotlib/mpl-data/fonts/ttf/DejaVuSans.ttf.\n",
      "DEBUG [matplotlib.backends.backend_pdf.writeFonts()]: Writing TrueType font.\n",
      "DEBUG [urllib3.connectionpool._make_request()]: https://mast.stsci.edu:443 \"POST /api/v0/invoke HTTP/1.1\" 200 None\n",
      "4042088  not in TIC\n",
      "DEBUG [urllib3.connectionpool._new_conn()]: Starting new HTTP connection (1): vizier.u-strasbg.fr:80\n",
      "DEBUG [urllib3.connectionpool._make_request()]: http://vizier.u-strasbg.fr:80 \"POST /viz-bin/votable HTTP/1.1\" 200 658\n",
      "DEBUG [urllib3.connectionpool._make_request()]: https://mast.stsci.edu:443 \"POST /api/v0/invoke HTTP/1.1\" 200 None\n",
      "DEBUG [urllib3.connectionpool._new_conn()]: Starting new HTTPS connection (1): heasarc.gsfc.nasa.gov:443\n",
      "DEBUG [urllib3.connectionpool._make_request()]: https://heasarc.gsfc.nasa.gov:443 \"GET /cgi-bin/tess/webtess/wtv.py?Entry=286.8895%2C+39.107368 HTTP/1.1\" 200 None\n",
      "https://heasarc.gsfc.nasa.gov/cgi-bin/tess/webtess/wtv.py?Entry=<SkyCoord (ICRS): (ra, dec) in deg\n",
      "    (286.8895, 39.107368)>\n",
      "[14] <class 'list'>\n",
      "No QLP files at /Volumes/LUVOIR/MonoToolsData/TIC00121020322 Loading Eleanor Lightcurve\n",
      "DEBUG [urllib3.connectionpool._make_request()]: https://mast.stsci.edu:443 \"POST /api/v0/invoke HTTP/1.1\" 200 None\n",
      "DEBUG [urllib3.connectionpool._make_request()]: https://mast.stsci.edu:443 \"POST /api/v0/invoke HTTP/1.1\" 200 None\n",
      "DEBUG [urllib3.connectionpool._make_request()]: https://mast.stsci.edu:443 \"POST /api/v0/invoke HTTP/1.1\" 200 None\n",
      "No eleanor postcard has been made for your target (yet). Using TessCut instead.\n",
      "DEBUG [urllib3.connectionpool._get_conn()]: Resetting dropped connection: mast.stsci.edu\n",
      "DEBUG [urllib3.connectionpool._make_request()]: https://mast.stsci.edu:443 \"GET /tesscut/api/v0.1/astrocut?ra=286.889476851813&dec=39.1073676972202&y=31&x=31&units=px&sector=14 HTTP/1.1\" 200 None\n",
      "Downloading URL https://mast.stsci.edu/tesscut/api/v0.1/astrocut?ra=286.889476851813&dec=39.1073676972202&y=31&x=31&units=px&sector=14 to /Users/hosborn/.eleanor/tesscut/tesscut_20200721035508.zip ... [Done]\n",
      "Inflating...\n"
     ]
    },
    {
     "name": "stderr",
     "output_type": "stream",
     "text": [
      "100%|██████████| 1241/1241 [00:18<00:00, 68.16it/s]\n"
     ]
    },
    {
     "name": "stdout",
     "output_type": "stream",
     "text": [
      "94 points masked in lc of 1241\n",
      "Kepler file\n",
      "7 points masked in lc of 476\n",
      "Kepler file\n",
      "20 points masked in lc of 1639\n",
      "Kepler file\n",
      "293 points masked in lc of 4354\n",
      "Kepler file\n",
      "250 points masked in lc of 4370\n",
      "Kepler file\n",
      "298 points masked in lc of 4397\n",
      "Kepler file\n",
      "156 points masked in lc of 4634\n",
      "Kepler file\n",
      "136 points masked in lc of 4398\n",
      "Kepler file\n",
      "167 points masked in lc of 4375\n",
      "Kepler file\n",
      "176 points masked in lc of 3279\n",
      "Kepler file\n",
      "176 points masked in lc of 4768\n",
      "Kepler file\n",
      "142 points masked in lc of 4573\n",
      "Kepler file\n",
      "286 points masked in lc of 4754\n",
      "Kepler file\n",
      "509 points masked in lc of 4044\n",
      "Kepler file\n",
      "183 points masked in lc of 4421\n",
      "Kepler file\n",
      "498 points masked in lc of 4757\n",
      "Kepler file\n",
      "425 points masked in lc of 4780\n",
      "Kepler file\n",
      "672 points masked in lc of 4203\n",
      "Kepler file\n",
      "281 points masked in lc of 1556\n",
      "[0, 1, 2, 3, 4, 5, 6, 7, 8, 9, 10, 11, 12, 13, 14, 15, 16, 17]\n",
      "[0, 1]\n",
      "transit mask: <class 'numpy.ndarray'> 68105 1 <class 'numpy.ndarray'> 68105 True\n",
      "00 - Checks complete.  SNR: 13.79290  SNR_r: 122.1971  variability: -27582.5  centroid: 9.924306 | flag: planet\n",
      "DEBUG [matplotlib.backends.backend_pdf.fontName()]: Assigning font /b'F1' = '/Users/hosborn/transits/lib/python3.7/site-packages/matplotlib/mpl-data/fonts/ttf/DejaVuSans.ttf'\n",
      "DEBUG [matplotlib.backends.backend_pdf.writeFonts()]: Embedding font /Users/hosborn/transits/lib/python3.7/site-packages/matplotlib/mpl-data/fonts/ttf/DejaVuSans.ttf.\n",
      "DEBUG [matplotlib.backends.backend_pdf.writeFonts()]: Writing TrueType font.\n",
      "Already processed Unnamed: 0                           1565\n",
      "dec                                   NaN\n",
      "dur                                   NaN\n",
      "file          lacourse_tess_ste_huber.csv\n",
      "id                            3.80827e+08\n",
      "mission                              TESS\n",
      "ra                                    NaN\n",
      "tcen                              3536.15\n",
      "Name: 76, dtype: object\n",
      "Breaking because status = COMPLETE\n",
      "TESS object\n",
      "500 Error 500:\n",
      "null\n",
      "NO JUICE Unnamed: 0                                                 1568\n",
      "dec                                                         NaN\n",
      "dur                                                    0.312494\n",
      "file          lacourse_tess_ste_huber.csv;lacourse_tess_ste_...\n",
      "id                                                  1.75457e+08\n",
      "mission                                                    TESS\n",
      "ra                                                          NaN\n",
      "tcen                                                    3539.42\n",
      "Name: 78, dtype: object\n",
      "Already processed Unnamed: 0                                                 1570\n",
      "dec                                                         NaN\n",
      "dur                                                    0.166664\n",
      "file          lacourse_tess_ste_huber.csv;U-shaped_good_pcs_...\n",
      "id                                                  2.06542e+08\n",
      "mission                                                    TESS\n",
      "ra                                                          NaN\n",
      "tcen                                                     3539.2\n",
      "Name: 80, dtype: object\n",
      "NO JUICE Unnamed: 0                                                 1571\n",
      "dec                                                     5.06726\n",
      "dur                                                        0.21\n",
      "file          lacourse_tess_ste_huber.csv;lacourse_tess_ste_...\n",
      "id                                                  1.02357e+08\n",
      "mission                                                   CoRoT\n",
      "ra                                                      93.1009\n",
      "tcen                                                    336.301\n",
      "Name: 82, dtype: object\n",
      "NO JUICE Unnamed: 0                     1573\n",
      "dec                       -0.674015\n",
      "dur                        0.191667\n",
      "file          CorotSinglesFixed.csv\n",
      "id                      1.02574e+08\n",
      "mission                       CoRoT\n",
      "ra                          100.179\n",
      "tcen                       -410.658\n",
      "Name: 84, dtype: object\n",
      "NO JUICE Unnamed: 0                     1575\n",
      "dec                       -0.388916\n",
      "dur                          0.2625\n",
      "file          CorotSinglesFixed.csv\n",
      "id                      1.02587e+08\n",
      "mission                       CoRoT\n",
      "ra                          100.266\n",
      "tcen                       -359.826\n",
      "Name: 86, dtype: object\n",
      "DEBUG [urllib3.connectionpool._get_conn()]: Resetting dropped connection: mast.stsci.edu\n",
      "DEBUG [urllib3.connectionpool._make_request()]: https://mast.stsci.edu:443 \"POST /api/v0/invoke HTTP/1.1\" 200 None\n",
      "500 Error 500:\n",
      "null\n",
      "NO JUICE Unnamed: 0                     1577\n",
      "dec                        0.070793\n",
      "dur                          0.3125\n",
      "file          CorotSinglesFixed.csv\n",
      "id                      1.02709e+08\n",
      "mission                       CoRoT\n",
      "ra                          100.959\n",
      "tcen                       -413.202\n",
      "Name: 88, dtype: object\n",
      "NO JUICE Unnamed: 0                     1579\n",
      "dec                       -0.671747\n",
      "dur                             0.3\n",
      "file          CorotSinglesFixed.csv\n",
      "id                      1.02765e+08\n",
      "mission                       CoRoT\n",
      "ra                           101.28\n",
      "tcen                        -655.57\n",
      "Name: 90, dtype: object\n",
      "NO JUICE Unnamed: 0                     1581\n",
      "dec                        -2.61293\n",
      "dur                        0.168375\n",
      "file          CorotSinglesFixed.csv\n",
      "id                      1.02803e+08\n",
      "mission                       CoRoT\n",
      "ra                          101.514\n",
      "tcen                       -669.574\n",
      "Name: 92, dtype: object\n",
      "DEBUG [urllib3.connectionpool._make_request()]: https://mast.stsci.edu:443 \"POST /api/v0/invoke HTTP/1.1\" 200 None\n",
      "DEBUG [urllib3.connectionpool._new_conn()]: Starting new HTTP connection (1): vizier.u-strasbg.fr:80\n",
      "DEBUG [urllib3.connectionpool._make_request()]: http://vizier.u-strasbg.fr:80 \"POST /viz-bin/votable HTTP/1.1\" 200 656\n",
      "DEBUG [urllib3.connectionpool._make_request()]: https://mast.stsci.edu:443 \"POST /api/v0/invoke HTTP/1.1\" 200 None\n",
      "DEBUG [urllib3.connectionpool._new_conn()]: Starting new HTTP connection (1): vizier.u-strasbg.fr:80\n",
      "DEBUG [urllib3.connectionpool._make_request()]: http://vizier.u-strasbg.fr:80 \"POST /viz-bin/votable HTTP/1.1\" 200 688\n",
      "DEBUG [urllib3.connectionpool._new_conn()]: Starting new HTTPS connection (1): heasarc.gsfc.nasa.gov:443\n",
      "DEBUG [urllib3.connectionpool._make_request()]: https://heasarc.gsfc.nasa.gov:443 \"GET /cgi-bin/tess/webtess/wtv.py?Entry=101.707601%2C+-3.0303400000000003 HTTP/1.1\" 200 None\n",
      "https://heasarc.gsfc.nasa.gov/cgi-bin/tess/webtess/wtv.py?Entry=<SkyCoord (ICRS): (ra, dec) in deg\n",
      "    (101.707601, -3.03034)>\n",
      "[6] <class 'list'>\n",
      "No QLP files at /Volumes/LUVOIR/MonoToolsData/TIC00035954851 Loading Eleanor Lightcurve\n",
      "DEBUG [urllib3.connectionpool._make_request()]: https://mast.stsci.edu:443 \"POST /api/v0/invoke HTTP/1.1\" 200 None\n",
      "DEBUG [urllib3.connectionpool._make_request()]: https://mast.stsci.edu:443 \"POST /api/v0/invoke HTTP/1.1\" 200 None\n",
      "DEBUG [urllib3.connectionpool._get_conn()]: Resetting dropped connection: mast.stsci.edu\n",
      "DEBUG [urllib3.connectionpool._make_request()]: https://mast.stsci.edu:443 \"POST /api/v0/invoke HTTP/1.1\" 200 None\n",
      "DEBUG [urllib3.connectionpool._make_request()]: https://mast.stsci.edu:443 \"POST /portal/Mashup/Mashup.asmx/columnsconfig HTTP/1.1\" 200 None\n",
      "DEBUG [urllib3.connectionpool._make_request()]: https://mast.stsci.edu:443 \"POST /api/v0/invoke HTTP/1.1\" 200 None\n",
      "DEBUG [urllib3.connectionpool._make_request()]: https://mast.stsci.edu:443 \"HEAD /api/v0.1/Download/file?uri=mast:HLSP/eleanor/postcards/s0006/1-2/hlsp_eleanor_tess_ffi_postcard-s0006-1-2-cal-1588-0646_tess_v2_bkg.fits HTTP/1.1\" 200 0\n",
      "DEBUG [urllib3.connectionpool._new_conn()]: Starting new HTTPS connection (2): mast.stsci.edu:443\n",
      "DEBUG [urllib3.connectionpool._make_request()]: https://mast.stsci.edu:443 \"GET /api/v0.1/Download/file?uri=mast:HLSP/eleanor/postcards/s0006/1-2/hlsp_eleanor_tess_ffi_postcard-s0006-1-2-cal-1588-0646_tess_v2_bkg.fits HTTP/1.1\" 200 61162560\n"
     ]
    },
    {
     "name": "stdout",
     "output_type": "stream",
     "text": [
      "Downloading URL https://mast.stsci.edu/api/v0.1/Download/file?uri=mast:HLSP/eleanor/postcards/s0006/1-2/hlsp_eleanor_tess_ffi_postcard-s0006-1-2-cal-1588-0646_tess_v2_bkg.fits to /Users/hosborn/.eleanor/mastDownload/HLSP/hlsp_eleanor_tess_ffi_postcard-s0006-1-2-cal-1588-0646_tess_v2_pc/hlsp_eleanor_tess_ffi_postcard-s0006-1-2-cal-1588-0646_tess_v2_bkg.fits ... [Done]\n",
      "DEBUG [urllib3.connectionpool._make_request()]: https://mast.stsci.edu:443 \"HEAD /api/v0.1/Download/file?uri=mast:HLSP/eleanor/postcards/s0006/1-2/hlsp_eleanor_tess_ffi_postcard-s0006-1-2-cal-1588-0646_tess_v2_pc.fits HTTP/1.1\" 200 0\n",
      "DEBUG [urllib3.connectionpool._new_conn()]: Starting new HTTPS connection (3): mast.stsci.edu:443\n",
      "DEBUG [urllib3.connectionpool._make_request()]: https://mast.stsci.edu:443 \"GET /api/v0.1/Download/file?uri=mast:HLSP/eleanor/postcards/s0006/1-2/hlsp_eleanor_tess_ffi_postcard-s0006-1-2-cal-1588-0646_tess_v2_pc.fits HTTP/1.1\" 200 122411520\n",
      "Downloading URL https://mast.stsci.edu/api/v0.1/Download/file?uri=mast:HLSP/eleanor/postcards/s0006/1-2/hlsp_eleanor_tess_ffi_postcard-s0006-1-2-cal-1588-0646_tess_v2_pc.fits to /Users/hosborn/.eleanor/mastDownload/HLSP/hlsp_eleanor_tess_ffi_postcard-s0006-1-2-cal-1588-0646_tess_v2_pc/hlsp_eleanor_tess_ffi_postcard-s0006-1-2-cal-1588-0646_tess_v2_pc.fits ... [Done]\n",
      "DEBUG [urllib3.connectionpool._make_request()]: https://mast.stsci.edu:443 \"HEAD /api/v0.1/Download/file?uri=mast:HLSP/eleanor/postcards/s0006/1-2/hlsp_eleanor_tess_ffi_postcard-s0006-1-2_tess_v2_pm.txt HTTP/1.1\" 200 0\n",
      "DEBUG [urllib3.connectionpool._new_conn()]: Starting new HTTPS connection (4): mast.stsci.edu:443\n",
      "DEBUG [urllib3.connectionpool._make_request()]: https://mast.stsci.edu:443 \"GET /api/v0.1/Download/file?uri=mast:HLSP/eleanor/postcards/s0006/1-2/hlsp_eleanor_tess_ffi_postcard-s0006-1-2_tess_v2_pm.txt HTTP/1.1\" 200 185371\n",
      "Downloading URL https://mast.stsci.edu/api/v0.1/Download/file?uri=mast:HLSP/eleanor/postcards/s0006/1-2/hlsp_eleanor_tess_ffi_postcard-s0006-1-2_tess_v2_pm.txt to /Users/hosborn/.eleanor/mastDownload/HLSP/hlsp_eleanor_tess_ffi_postcard-s0006-1-2-cal-1588-0646_tess_v2_pc/hlsp_eleanor_tess_ffi_postcard-s0006-1-2_tess_v2_pm.txt ... [Done]\n"
     ]
    },
    {
     "name": "stderr",
     "output_type": "stream",
     "text": [
      "100%|██████████| 993/993 [00:15<00:00, 65.51it/s]\n"
     ]
    },
    {
     "name": "stdout",
     "output_type": "stream",
     "text": [
      "40 points masked in lc of 993\n",
      "536 points masked in lc of 7887\n",
      "[0, 1]\n",
      "NO JUICE Unnamed: 0                     1583\n",
      "dec                        -3.03034\n",
      "dur                        0.766667\n",
      "file          CorotSinglesFixed.csv\n",
      "id                      1.02829e+08\n",
      "mission                       CoRoT\n",
      "ra                          101.708\n",
      "tcen                        -669.14\n",
      "Name: 94, dtype: object\n",
      "DEBUG [urllib3.connectionpool._make_request()]: https://mast.stsci.edu:443 \"POST /api/v0/invoke HTTP/1.1\" 200 None\n",
      "500 Error 500:\n",
      "null\n",
      "NO JUICE Unnamed: 0                     1585\n",
      "dec                        -2.20664\n",
      "dur                        0.239583\n",
      "file          CorotSinglesFixed.csv\n",
      "id                      1.02868e+08\n",
      "mission                       CoRoT\n",
      "ra                          101.949\n",
      "tcen                        -660.46\n",
      "Name: 96, dtype: object\n",
      "NO JUICE Unnamed: 0                     1587\n",
      "dec                        -1.24205\n",
      "dur                        0.229083\n",
      "file          CorotSinglesFixed.csv\n",
      "id                      1.02896e+08\n",
      "mission                       CoRoT\n",
      "ra                           102.11\n",
      "tcen                       -670.046\n",
      "Name: 98, dtype: object\n",
      "NO JUICE Unnamed: 0                     1589\n",
      "dec                        -2.52991\n",
      "dur                        0.356417\n",
      "file          CorotSinglesFixed.csv\n",
      "id                      1.02973e+08\n",
      "mission                       CoRoT\n",
      "ra                           102.51\n",
      "tcen                       -661.259\n",
      "Name: 100, dtype: object\n",
      "DEBUG [urllib3.connectionpool._make_request()]: https://mast.stsci.edu:443 \"POST /api/v0/invoke HTTP/1.1\" 200 None\n",
      "500 Error 500:\n",
      "null\n",
      "NO JUICE Unnamed: 0                     1591\n",
      "dec                         3.08356\n",
      "dur                        0.354167\n",
      "file          CorotSinglesFixed.csv\n",
      "id                      2.11622e+08\n",
      "mission                       CoRoT\n",
      "ra                          285.368\n",
      "tcen                       -612.037\n",
      "Name: 102, dtype: object\n",
      "DEBUG [urllib3.connectionpool._make_request()]: https://mast.stsci.edu:443 \"POST /api/v0/invoke HTTP/1.1\" 200 None\n",
      "500 Error 500:\n",
      "null\n",
      "NO JUICE Unnamed: 0                     1593\n",
      "dec                         3.27965\n",
      "dur                            2.75\n",
      "file          CorotSinglesFixed.csv\n",
      "id                      2.11634e+08\n",
      "mission                       CoRoT\n",
      "ra                          285.637\n",
      "tcen                       -617.306\n",
      "Name: 104, dtype: object\n",
      "DEBUG [urllib3.connectionpool._make_request()]: https://mast.stsci.edu:443 \"POST /api/v0/invoke HTTP/1.1\" 200 None\n",
      "500 Error 500:\n",
      "null\n",
      "NO JUICE Unnamed: 0                                                 1595\n",
      "dec                                                      2.6237\n",
      "dur                                                    0.445833\n",
      "file          lacourse_jacobs_k2_table.csv;All_OsbornMarttiK...\n",
      "id                                                  2.11649e+08\n",
      "mission                                                   CoRoT\n",
      "ra                                                      285.869\n",
      "tcen                                                   -620.608\n",
      "Name: 106, dtype: object\n",
      "NO JUICE Unnamed: 0                                                 1597\n",
      "dec                                                     2.62788\n",
      "dur                                                    0.416667\n",
      "file          lacourse_jacobs_k2_table.csv;All_OsbornMarttiK...\n",
      "id                                                  2.11667e+08\n",
      "mission                                                   CoRoT\n",
      "ra                                                      286.088\n",
      "tcen                                                   -624.588\n",
      "Name: 108, dtype: object\n",
      "NO JUICE Unnamed: 0                     1599\n",
      "dec                       -0.256745\n",
      "dur                        0.166667\n",
      "file          CorotSinglesFixed.csv\n",
      "id                      3.15189e+08\n",
      "mission                       CoRoT\n",
      "ra                          97.4087\n",
      "tcen                        442.147\n",
      "Name: 110, dtype: object\n",
      "DEBUG [urllib3.connectionpool._make_request()]: https://mast.stsci.edu:443 \"POST /api/v0/invoke HTTP/1.1\" 200 None\n",
      "634075176  not in TIC\n",
      "NO JUICE Unnamed: 0                                                 1601\n",
      "dec                                                         NaN\n",
      "dur                                                       0.375\n",
      "file          All_OsbornMarttiK2Monos.csv;All_OsbornMarttiK2...\n",
      "id                                                  6.34075e+08\n",
      "mission                                                   CoRoT\n",
      "ra                                                          NaN\n",
      "tcen                                                     1303.9\n",
      "Name: 112, dtype: object\n",
      "Breaking because status = COMPLETE\n",
      "TESS object\n",
      "DEBUG [urllib3.connectionpool._new_conn()]: Starting new HTTP connection (1): vizier.u-strasbg.fr:80\n",
      "DEBUG [urllib3.connectionpool._make_request()]: http://vizier.u-strasbg.fr:80 \"POST /viz-bin/votable HTTP/1.1\" 200 655\n",
      "DEBUG [urllib3.connectionpool._new_conn()]: Starting new HTTP connection (1): vizier.u-strasbg.fr:80\n",
      "DEBUG [urllib3.connectionpool._make_request()]: http://vizier.u-strasbg.fr:80 \"POST /viz-bin/votable HTTP/1.1\" 200 688\n",
      "DEBUG [urllib3.connectionpool._new_conn()]: Starting new HTTPS connection (1): heasarc.gsfc.nasa.gov:443\n",
      "DEBUG [urllib3.connectionpool._make_request()]: https://heasarc.gsfc.nasa.gov:443 \"GET /cgi-bin/tess/webtess/wtv.py?Entry=31.689842499999997%2C+-81.24736899999999 HTTP/1.1\" 200 None\n",
      "https://heasarc.gsfc.nasa.gov/cgi-bin/tess/webtess/wtv.py?Entry=<SkyCoord (ICRS): (ra, dec) in deg\n",
      "    (31.6898425, -81.247369)>\n",
      "[1, 13] <class 'list'>\n",
      "# Loading QLP lightcurves\n",
      "394287035 <class 'int'>\n",
      "NO JUICE Unnamed: 0                                                 1603\n",
      "dec                                                    -81.2474\n",
      "dur                                                    0.159167\n",
      "file          All_OsbornMarttiK2Monos.csv;All_OsbornMarttiK2...\n",
      "id                                                  3.94287e+08\n",
      "mission                                                    TESS\n",
      "ra                                                      31.6898\n",
      "tcen                                                    3497.49\n",
      "Name: 114, dtype: object\n",
      "Breaking because status = COMPLETE\n",
      "TESS object\n",
      "DEBUG [urllib3.connectionpool._new_conn()]: Starting new HTTP connection (1): vizier.u-strasbg.fr:80\n",
      "DEBUG [urllib3.connectionpool._make_request()]: http://vizier.u-strasbg.fr:80 \"POST /viz-bin/votable HTTP/1.1\" 200 657\n",
      "DEBUG [urllib3.connectionpool._new_conn()]: Starting new HTTP connection (1): vizier.u-strasbg.fr:80\n",
      "DEBUG [urllib3.connectionpool._make_request()]: http://vizier.u-strasbg.fr:80 \"POST /viz-bin/votable HTTP/1.1\" 200 690\n",
      "DEBUG [urllib3.connectionpool._new_conn()]: Starting new HTTPS connection (1): heasarc.gsfc.nasa.gov:443\n",
      "DEBUG [urllib3.connectionpool._make_request()]: https://heasarc.gsfc.nasa.gov:443 \"GET /cgi-bin/tess/webtess/wtv.py?Entry=344.44523599999997%2C+-42.937891 HTTP/1.1\" 200 None\n",
      "https://heasarc.gsfc.nasa.gov/cgi-bin/tess/webtess/wtv.py?Entry=<SkyCoord (ICRS): (ra, dec) in deg\n",
      "    (344.445236, -42.937891)>\n",
      "[1] <class 'list'>\n",
      "# Loading QLP lightcurves\n",
      "139147770 <class 'int'>\n",
      "NO JUICE Unnamed: 0                                                 1605\n",
      "dec                                                    -42.9379\n",
      "dur                                                        0.34\n",
      "file          U-shaped_good_pcs_steven_tess.csv;steven_martt...\n",
      "id                                                  1.39148e+08\n",
      "mission                                                    TESS\n",
      "ra                                                      344.445\n",
      "tcen                                                    3494.62\n",
      "Name: 116, dtype: object\n",
      "Breaking because status = COMPLETE\n",
      "TESS object\n",
      "DEBUG [urllib3.connectionpool._new_conn()]: Starting new HTTP connection (1): vizier.u-strasbg.fr:80\n",
      "DEBUG [urllib3.connectionpool._make_request()]: http://vizier.u-strasbg.fr:80 \"POST /viz-bin/votable HTTP/1.1\" 200 657\n",
      "DEBUG [urllib3.connectionpool._new_conn()]: Starting new HTTP connection (1): vizier.u-strasbg.fr:80\n",
      "DEBUG [urllib3.connectionpool._make_request()]: http://vizier.u-strasbg.fr:80 \"POST /viz-bin/votable HTTP/1.1\" 200 690\n",
      "DEBUG [urllib3.connectionpool._new_conn()]: Starting new HTTPS connection (1): heasarc.gsfc.nasa.gov:443\n"
     ]
    },
    {
     "name": "stdout",
     "output_type": "stream",
     "text": [
      "DEBUG [urllib3.connectionpool._make_request()]: https://heasarc.gsfc.nasa.gov:443 \"GET /cgi-bin/tess/webtess/wtv.py?Entry=338.644588%2C+-57.570427 HTTP/1.1\" 200 None\n",
      "https://heasarc.gsfc.nasa.gov/cgi-bin/tess/webtess/wtv.py?Entry=<SkyCoord (ICRS): (ra, dec) in deg\n",
      "    (338.644588, -57.570427)>\n",
      "[1] <class 'list'>\n",
      "# Loading QLP lightcurves\n",
      "219332978 <class 'int'>\n",
      "NO JUICE Unnamed: 0                                                 1608\n",
      "dec                                                    -57.5704\n",
      "dur                                                    0.368333\n",
      "file          U-shaped_good_pcs_steven_tess.csv;steven_martt...\n",
      "id                                                  2.19333e+08\n",
      "mission                                                    TESS\n",
      "ra                                                      338.645\n",
      "tcen                                                    3513.57\n",
      "Name: 118, dtype: object\n",
      "Breaking because status = COMPLETE\n",
      "TESS object\n",
      "DEBUG [urllib3.connectionpool._new_conn()]: Starting new HTTP connection (1): vizier.u-strasbg.fr:80\n",
      "DEBUG [urllib3.connectionpool._make_request()]: http://vizier.u-strasbg.fr:80 \"POST /viz-bin/votable HTTP/1.1\" 200 656\n",
      "DEBUG [urllib3.connectionpool._new_conn()]: Starting new HTTP connection (1): vizier.u-strasbg.fr:80\n",
      "DEBUG [urllib3.connectionpool._make_request()]: http://vizier.u-strasbg.fr:80 \"POST /viz-bin/votable HTTP/1.1\" 200 688\n",
      "DEBUG [urllib3.connectionpool._new_conn()]: Starting new HTTPS connection (1): heasarc.gsfc.nasa.gov:443\n",
      "DEBUG [urllib3.connectionpool._make_request()]: https://heasarc.gsfc.nasa.gov:443 \"GET /cgi-bin/tess/webtess/wtv.py?Entry=35.9354707%2C+-64.958985 HTTP/1.1\" 200 None\n",
      "https://heasarc.gsfc.nasa.gov/cgi-bin/tess/webtess/wtv.py?Entry=<SkyCoord (ICRS): (ra, dec) in deg\n",
      "    (35.9354707, -64.958985)>\n",
      "[1, 2, 3] <class 'list'>\n",
      "# Loading QLP lightcurves\n",
      "382581210 <class 'int'>\n",
      "NO JUICE Unnamed: 0                                 1610\n",
      "dec                                     -64.959\n",
      "dur                                    0.174167\n",
      "file          U-shaped_good_pcs_steven_tess.csv\n",
      "id                                  3.82581e+08\n",
      "mission                                    TESS\n",
      "ra                                      35.9355\n",
      "tcen                                    3500.47\n",
      "Name: 120, dtype: object\n",
      "Breaking because status = COMPLETE\n",
      "TESS object\n",
      "DEBUG [urllib3.connectionpool._new_conn()]: Starting new HTTP connection (1): vizier.u-strasbg.fr:80\n",
      "DEBUG [urllib3.connectionpool._make_request()]: http://vizier.u-strasbg.fr:80 \"POST /viz-bin/votable HTTP/1.1\" 200 657\n",
      "DEBUG [urllib3.connectionpool._new_conn()]: Starting new HTTP connection (1): vizier.u-strasbg.fr:80\n",
      "DEBUG [urllib3.connectionpool._make_request()]: http://vizier.u-strasbg.fr:80 \"POST /viz-bin/votable HTTP/1.1\" 200 687\n",
      "DEBUG [urllib3.connectionpool._new_conn()]: Starting new HTTPS connection (1): heasarc.gsfc.nasa.gov:443\n",
      "DEBUG [urllib3.connectionpool._make_request()]: https://heasarc.gsfc.nasa.gov:443 \"GET /cgi-bin/tess/webtess/wtv.py?Entry=355.50322400000005%2C+-53.541245999999994 HTTP/1.1\" 200 None\n",
      "https://heasarc.gsfc.nasa.gov/cgi-bin/tess/webtess/wtv.py?Entry=<SkyCoord (ICRS): (ra, dec) in deg\n",
      "    (355.503224, -53.541246)>\n",
      "[1, 2] <class 'list'>\n",
      "# Loading QLP lightcurves\n",
      "469936386 <class 'int'>\n",
      "NO JUICE Unnamed: 0                                                 1614\n",
      "dec                                                    -53.5412\n",
      "dur                                                    0.481667\n",
      "file          U-shaped_good_pcs_steven_tess.csv;steven_martt...\n",
      "id                                                  4.69936e+08\n",
      "mission                                                    TESS\n",
      "ra                                                      355.503\n",
      "tcen                                                    3493.19\n",
      "Name: 122, dtype: object\n",
      "Breaking because status = COMPLETE\n",
      "TESS object\n",
      "500 Error 500:\n",
      "null\n",
      "NO JUICE Unnamed: 0                                                 1616\n",
      "dec                                                    -77.0795\n",
      "dur                                                   0.0908333\n",
      "file          U-shaped_good_pcs_steven_tess.csv;steven_martt...\n",
      "id                                                  2.70261e+08\n",
      "mission                                                    TESS\n",
      "ra                                                      356.068\n",
      "tcen                                                    3495.81\n",
      "Name: 124, dtype: object\n",
      "Breaking because status = COMPLETE\n",
      "TESS object\n",
      "DEBUG [urllib3.connectionpool._new_conn()]: Starting new HTTP connection (1): vizier.u-strasbg.fr:80\n",
      "DEBUG [urllib3.connectionpool._make_request()]: http://vizier.u-strasbg.fr:80 \"POST /viz-bin/votable HTTP/1.1\" 200 658\n",
      "DEBUG [urllib3.connectionpool._new_conn()]: Starting new HTTP connection (1): vizier.u-strasbg.fr:80\n",
      "DEBUG [urllib3.connectionpool._make_request()]: http://vizier.u-strasbg.fr:80 \"POST /viz-bin/votable HTTP/1.1\" 200 690\n",
      "DEBUG [urllib3.connectionpool._new_conn()]: Starting new HTTPS connection (1): heasarc.gsfc.nasa.gov:443\n",
      "DEBUG [urllib3.connectionpool._make_request()]: https://heasarc.gsfc.nasa.gov:443 \"GET /cgi-bin/tess/webtess/wtv.py?Entry=340.307731%2C+-28.032666 HTTP/1.1\" 200 None\n",
      "https://heasarc.gsfc.nasa.gov/cgi-bin/tess/webtess/wtv.py?Entry=<SkyCoord (ICRS): (ra, dec) in deg\n",
      "    (340.307731, -28.032666)>\n",
      "[2] <class 'list'>\n",
      "TESS file\n",
      "1437 points masked in lc of 19737\n",
      "transit mask: <class 'numpy.ndarray'> 18699 0 <class 'numpy.ndarray'> 18699 True\n"
     ]
    },
    {
     "name": "stderr",
     "output_type": "stream",
     "text": [
      "INFO (theano.gof.compilelock): Waiting for existing lock by process '20511' (I am process '19630')\n"
     ]
    },
    {
     "name": "stdout",
     "output_type": "stream",
     "text": [
      "INFO  [theano.gof.compilelock.lock()]: Waiting for existing lock by process '20511' (I am process '19630')\n"
     ]
    },
    {
     "name": "stderr",
     "output_type": "stream",
     "text": [
      "INFO (theano.gof.compilelock): To manually release the lock, delete /Users/hosborn/.theano/compiledir_Darwin-19.3.0-x86_64-i386-64bit-i386-3.7.6-64/lock_dir\n"
     ]
    },
    {
     "name": "stdout",
     "output_type": "stream",
     "text": [
      "INFO  [theano.gof.compilelock.lock()]: To manually release the lock, delete /Users/hosborn/.theano/compiledir_Darwin-19.3.0-x86_64-i386-64bit-i386-3.7.6-64/lock_dir\n"
     ]
    },
    {
     "name": "stderr",
     "output_type": "stream",
     "text": [
      "INFO (theano.gof.compilelock): Waiting for existing lock by process '20511' (I am process '19630')\n"
     ]
    },
    {
     "name": "stdout",
     "output_type": "stream",
     "text": [
      "INFO  [theano.gof.compilelock.lock()]: Waiting for existing lock by process '20511' (I am process '19630')\n"
     ]
    },
    {
     "name": "stderr",
     "output_type": "stream",
     "text": [
      "INFO (theano.gof.compilelock): To manually release the lock, delete /Users/hosborn/.theano/compiledir_Darwin-19.3.0-x86_64-i386-64bit-i386-3.7.6-64/lock_dir\n"
     ]
    },
    {
     "name": "stdout",
     "output_type": "stream",
     "text": [
      "INFO  [theano.gof.compilelock.lock()]: To manually release the lock, delete /Users/hosborn/.theano/compiledir_Darwin-19.3.0-x86_64-i386-64bit-i386-3.7.6-64/lock_dir\n"
     ]
    },
    {
     "name": "stderr",
     "output_type": "stream",
     "text": [
      "INFO (theano.gof.compilelock): Waiting for existing lock by process '20511' (I am process '19630')\n"
     ]
    },
    {
     "name": "stdout",
     "output_type": "stream",
     "text": [
      "INFO  [theano.gof.compilelock.lock()]: Waiting for existing lock by process '20511' (I am process '19630')\n"
     ]
    },
    {
     "name": "stderr",
     "output_type": "stream",
     "text": [
      "INFO (theano.gof.compilelock): To manually release the lock, delete /Users/hosborn/.theano/compiledir_Darwin-19.3.0-x86_64-i386-64bit-i386-3.7.6-64/lock_dir\n"
     ]
    },
    {
     "name": "stdout",
     "output_type": "stream",
     "text": [
      "INFO  [theano.gof.compilelock.lock()]: To manually release the lock, delete /Users/hosborn/.theano/compiledir_Darwin-19.3.0-x86_64-i386-64bit-i386-3.7.6-64/lock_dir\n"
     ]
    },
    {
     "name": "stderr",
     "output_type": "stream",
     "text": [
      "INFO (theano.gof.compilelock): Waiting for existing lock by process '20511' (I am process '19630')\n"
     ]
    },
    {
     "name": "stdout",
     "output_type": "stream",
     "text": [
      "INFO  [theano.gof.compilelock.lock()]: Waiting for existing lock by process '20511' (I am process '19630')\n"
     ]
    },
    {
     "name": "stderr",
     "output_type": "stream",
     "text": [
      "INFO (theano.gof.compilelock): To manually release the lock, delete /Users/hosborn/.theano/compiledir_Darwin-19.3.0-x86_64-i386-64bit-i386-3.7.6-64/lock_dir\n"
     ]
    },
    {
     "name": "stdout",
     "output_type": "stream",
     "text": [
      "INFO  [theano.gof.compilelock.lock()]: To manually release the lock, delete /Users/hosborn/.theano/compiledir_Darwin-19.3.0-x86_64-i386-64bit-i386-3.7.6-64/lock_dir\n"
     ]
    },
    {
     "name": "stderr",
     "output_type": "stream",
     "text": [
      "INFO (theano.gof.compilelock): Waiting for existing lock by process '20511' (I am process '19630')\n"
     ]
    },
    {
     "name": "stdout",
     "output_type": "stream",
     "text": [
      "INFO  [theano.gof.compilelock.lock()]: Waiting for existing lock by process '20511' (I am process '19630')\n"
     ]
    },
    {
     "name": "stderr",
     "output_type": "stream",
     "text": [
      "INFO (theano.gof.compilelock): To manually release the lock, delete /Users/hosborn/.theano/compiledir_Darwin-19.3.0-x86_64-i386-64bit-i386-3.7.6-64/lock_dir\n"
     ]
    },
    {
     "name": "stdout",
     "output_type": "stream",
     "text": [
      "INFO  [theano.gof.compilelock.lock()]: To manually release the lock, delete /Users/hosborn/.theano/compiledir_Darwin-19.3.0-x86_64-i386-64bit-i386-3.7.6-64/lock_dir\n"
     ]
    },
    {
     "name": "stderr",
     "output_type": "stream",
     "text": [
      "INFO (theano.gof.compilelock): Waiting for existing lock by process '20511' (I am process '19630')\n"
     ]
    },
    {
     "name": "stdout",
     "output_type": "stream",
     "text": [
      "INFO  [theano.gof.compilelock.lock()]: Waiting for existing lock by process '20511' (I am process '19630')\n"
     ]
    },
    {
     "name": "stderr",
     "output_type": "stream",
     "text": [
      "INFO (theano.gof.compilelock): To manually release the lock, delete /Users/hosborn/.theano/compiledir_Darwin-19.3.0-x86_64-i386-64bit-i386-3.7.6-64/lock_dir\n"
     ]
    },
    {
     "name": "stdout",
     "output_type": "stream",
     "text": [
      "INFO  [theano.gof.compilelock.lock()]: To manually release the lock, delete /Users/hosborn/.theano/compiledir_Darwin-19.3.0-x86_64-i386-64bit-i386-3.7.6-64/lock_dir\n",
      "00 - Checks complete.  SNR: 34.46854  SNR_r: 22.84357  variability: -197.342  centroid: 13.45330 | flag: planet\n",
      "DEBUG [matplotlib.backends.backend_pdf.fontName()]: Assigning font /b'F1' = '/Users/hosborn/transits/lib/python3.7/site-packages/matplotlib/mpl-data/fonts/ttf/DejaVuSans.ttf'\n",
      "DEBUG [matplotlib.backends.backend_pdf.writeFonts()]: Embedding font /Users/hosborn/transits/lib/python3.7/site-packages/matplotlib/mpl-data/fonts/ttf/DejaVuSans.ttf.\n",
      "DEBUG [matplotlib.backends.backend_pdf.writeFonts()]: Writing TrueType font.\n",
      "Breaking because status = COMPLETE\n",
      "TESS object\n",
      "DEBUG [urllib3.connectionpool._new_conn()]: Starting new HTTP connection (1): vizier.u-strasbg.fr:80\n",
      "DEBUG [urllib3.connectionpool._make_request()]: http://vizier.u-strasbg.fr:80 \"POST /viz-bin/votable HTTP/1.1\" 200 657\n",
      "DEBUG [urllib3.connectionpool._new_conn()]: Starting new HTTP connection (1): vizier.u-strasbg.fr:80\n",
      "DEBUG [urllib3.connectionpool._make_request()]: http://vizier.u-strasbg.fr:80 \"POST /viz-bin/votable HTTP/1.1\" 200 688\n",
      "DEBUG [urllib3.connectionpool._new_conn()]: Starting new HTTPS connection (1): heasarc.gsfc.nasa.gov:443\n",
      "DEBUG [urllib3.connectionpool._make_request()]: https://heasarc.gsfc.nasa.gov:443 \"GET /cgi-bin/tess/webtess/wtv.py?Entry=26.573918300000003%2C+-16.358859 HTTP/1.1\" 200 None\n",
      "https://heasarc.gsfc.nasa.gov/cgi-bin/tess/webtess/wtv.py?Entry=<SkyCoord (ICRS): (ra, dec) in deg\n",
      "    (26.5739183, -16.358859)>\n",
      "[3] <class 'list'>\n",
      "# Loading QLP lightcurves\n",
      "212359877 <class 'int'>\n",
      "NO JUICE Unnamed: 0                                                 1621\n",
      "dec                                                    -16.3589\n",
      "dur                                                    0.270417\n",
      "file          U-shaped_good_pcs_steven_tess.csv;steven_martt...\n",
      "id                                                   2.1236e+08\n",
      "mission                                                    TESS\n",
      "ra                                                      26.5739\n",
      "tcen                                                     3572.2\n",
      "Name: 128, dtype: object\n",
      "Breaking because status = COMPLETE\n",
      "TESS object\n",
      "DEBUG [urllib3.connectionpool._new_conn()]: Starting new HTTP connection (1): vizier.u-strasbg.fr:80\n",
      "DEBUG [urllib3.connectionpool._make_request()]: http://vizier.u-strasbg.fr:80 \"POST /viz-bin/votable HTTP/1.1\" 200 657\n",
      "DEBUG [urllib3.connectionpool._new_conn()]: Starting new HTTP connection (1): vizier.u-strasbg.fr:80\n",
      "DEBUG [urllib3.connectionpool._make_request()]: http://vizier.u-strasbg.fr:80 \"POST /viz-bin/votable HTTP/1.1\" 200 689\n",
      "DEBUG [urllib3.connectionpool._new_conn()]: Starting new HTTPS connection (1): heasarc.gsfc.nasa.gov:443\n",
      "DEBUG [urllib3.connectionpool._make_request()]: https://heasarc.gsfc.nasa.gov:443 \"GET /cgi-bin/tess/webtess/wtv.py?Entry=38.4704888%2C+-10.657263 HTTP/1.1\" 200 None\n",
      "https://heasarc.gsfc.nasa.gov/cgi-bin/tess/webtess/wtv.py?Entry=<SkyCoord (ICRS): (ra, dec) in deg\n",
      "    (38.4704888, -10.657263)>\n",
      "[4] <class 'list'>\n",
      "# Loading QLP lightcurves\n",
      "4672985 <class 'int'>\n",
      "NO JUICE Unnamed: 0                                                 1623\n",
      "dec                                                    -10.6573\n",
      "dur                                                    0.185833\n",
      "file          U-shaped_good_pcs_steven_tess.csv;steven_martt...\n",
      "id                                                  4.67298e+06\n",
      "mission                                                    TESS\n",
      "ra                                                      38.4705\n",
      "tcen                                                    3596.86\n",
      "Name: 130, dtype: object\n",
      "Breaking because status = COMPLETE\n",
      "TESS object\n",
      "DEBUG [urllib3.connectionpool._new_conn()]: Starting new HTTP connection (1): vizier.u-strasbg.fr:80\n",
      "DEBUG [urllib3.connectionpool._make_request()]: http://vizier.u-strasbg.fr:80 \"POST /viz-bin/votable HTTP/1.1\" 200 657\n",
      "DEBUG [urllib3.connectionpool._new_conn()]: Starting new HTTP connection (1): vizier.u-strasbg.fr:80\n",
      "DEBUG [urllib3.connectionpool._make_request()]: http://vizier.u-strasbg.fr:80 \"POST /viz-bin/votable HTTP/1.1\" 200 688\n",
      "DEBUG [urllib3.connectionpool._new_conn()]: Starting new HTTPS connection (1): heasarc.gsfc.nasa.gov:443\n",
      "DEBUG [urllib3.connectionpool._make_request()]: https://heasarc.gsfc.nasa.gov:443 \"GET /cgi-bin/tess/webtess/wtv.py?Entry=46.29254470000001%2C+-21.933643 HTTP/1.1\" 200 None\n",
      "https://heasarc.gsfc.nasa.gov/cgi-bin/tess/webtess/wtv.py?Entry=<SkyCoord (ICRS): (ra, dec) in deg\n",
      "    (46.2925447, -21.933643)>\n",
      "[4] <class 'list'>\n",
      "# Loading QLP lightcurves\n",
      "257527578 <class 'int'>\n",
      "NO JUICE Unnamed: 0                                                 1625\n",
      "dec                                                    -21.9336\n",
      "dur                                                    0.180417\n",
      "file          U-shaped_good_pcs_steven_tess.csv;steven_martt...\n",
      "id                                                  2.57528e+08\n",
      "mission                                                    TESS\n",
      "ra                                                      46.2925\n",
      "tcen                                                    3599.98\n",
      "Name: 132, dtype: object\n",
      "Breaking because status = COMPLETE\n",
      "TESS object\n",
      "DEBUG [urllib3.connectionpool._new_conn()]: Starting new HTTP connection (1): vizier.u-strasbg.fr:80\n",
      "DEBUG [urllib3.connectionpool._make_request()]: http://vizier.u-strasbg.fr:80 \"POST /viz-bin/votable HTTP/1.1\" 200 655\n",
      "DEBUG [urllib3.connectionpool._new_conn()]: Starting new HTTP connection (1): vizier.u-strasbg.fr:80\n",
      "DEBUG [urllib3.connectionpool._make_request()]: http://vizier.u-strasbg.fr:80 \"POST /viz-bin/votable HTTP/1.1\" 200 688\n",
      "DEBUG [urllib3.connectionpool._new_conn()]: Starting new HTTPS connection (1): heasarc.gsfc.nasa.gov:443\n",
      "DEBUG [urllib3.connectionpool._make_request()]: https://heasarc.gsfc.nasa.gov:443 \"GET /cgi-bin/tess/webtess/wtv.py?Entry=28.507249800000004%2C+3.93801329 HTTP/1.1\" 200 None\n",
      "https://heasarc.gsfc.nasa.gov/cgi-bin/tess/webtess/wtv.py?Entry=<SkyCoord (ICRS): (ra, dec) in deg\n",
      "    (28.5072498, 3.93801329)>\n",
      "[4] <class 'list'>\n",
      "# Loading QLP lightcurves\n",
      "293563017 <class 'int'>\n",
      "NO JUICE Unnamed: 0                                 1627\n",
      "dec                                     3.93801\n",
      "dur                                    0.176667\n",
      "file          U-shaped_good_pcs_steven_tess.csv\n",
      "id                                  2.93563e+08\n",
      "mission                                    TESS\n",
      "ra                                      28.5072\n",
      "tcen                                     3599.1\n",
      "Name: 134, dtype: object\n",
      "Breaking because status = COMPLETE\n",
      "TESS object\n",
      "DEBUG [urllib3.connectionpool._new_conn()]: Starting new HTTP connection (1): vizier.u-strasbg.fr:80\n",
      "DEBUG [urllib3.connectionpool._make_request()]: http://vizier.u-strasbg.fr:80 \"POST /viz-bin/votable HTTP/1.1\" 200 658\n",
      "DEBUG [urllib3.connectionpool._new_conn()]: Starting new HTTP connection (1): vizier.u-strasbg.fr:80\n",
      "DEBUG [urllib3.connectionpool._make_request()]: http://vizier.u-strasbg.fr:80 \"POST /viz-bin/votable HTTP/1.1\" 200 687\n",
      "DEBUG [urllib3.connectionpool._new_conn()]: Starting new HTTPS connection (1): heasarc.gsfc.nasa.gov:443\n",
      "DEBUG [urllib3.connectionpool._make_request()]: https://heasarc.gsfc.nasa.gov:443 \"GET /cgi-bin/tess/webtess/wtv.py?Entry=76.19249070000001%2C+-26.859278999999997 HTTP/1.1\" 200 None\n",
      "https://heasarc.gsfc.nasa.gov/cgi-bin/tess/webtess/wtv.py?Entry=<SkyCoord (ICRS): (ra, dec) in deg\n",
      "    (76.1924907, -26.859279)>\n",
      "[5] <class 'list'>\n",
      "# Loading QLP lightcurves\n",
      "13093071 <class 'int'>\n",
      "NO JUICE Unnamed: 0                                 1629\n",
      "dec                                    -26.8593\n",
      "dur                                     0.30125\n",
      "file          U-shaped_good_pcs_steven_tess.csv\n",
      "id                                  1.30931e+07\n",
      "mission                                    TESS\n",
      "ra                                      76.1925\n",
      "tcen                                    3629.62\n",
      "Name: 136, dtype: object\n",
      "Breaking because status = COMPLETE\n",
      "TESS object\n",
      "DEBUG [urllib3.connectionpool._new_conn()]: Starting new HTTP connection (1): vizier.u-strasbg.fr:80\n",
      "DEBUG [urllib3.connectionpool._make_request()]: http://vizier.u-strasbg.fr:80 \"POST /viz-bin/votable HTTP/1.1\" 200 655\n"
     ]
    },
    {
     "name": "stdout",
     "output_type": "stream",
     "text": [
      "DEBUG [urllib3.connectionpool._new_conn()]: Starting new HTTP connection (1): vizier.u-strasbg.fr:80\n",
      "DEBUG [urllib3.connectionpool._make_request()]: http://vizier.u-strasbg.fr:80 \"POST /viz-bin/votable HTTP/1.1\" 200 688\n",
      "DEBUG [urllib3.connectionpool._new_conn()]: Starting new HTTPS connection (1): heasarc.gsfc.nasa.gov:443\n",
      "DEBUG [urllib3.connectionpool._make_request()]: https://heasarc.gsfc.nasa.gov:443 \"GET /cgi-bin/tess/webtess/wtv.py?Entry=71.5050963%2C+6.22611766 HTTP/1.1\" 200 None\n",
      "https://heasarc.gsfc.nasa.gov/cgi-bin/tess/webtess/wtv.py?Entry=<SkyCoord (ICRS): (ra, dec) in deg\n",
      "    (71.5050963, 6.22611766)>\n",
      "[5] <class 'list'>\n",
      "# Loading QLP lightcurves\n",
      "450075744 <class 'int'>\n",
      "NO JUICE Unnamed: 0                                 1631\n",
      "dec                                     6.22612\n",
      "dur                                    0.147917\n",
      "file          U-shaped_good_pcs_steven_tess.csv\n",
      "id                                  4.50076e+08\n",
      "mission                                    TESS\n",
      "ra                                      71.5051\n",
      "tcen                                    3615.32\n",
      "Name: 138, dtype: object\n",
      "Breaking because status = COMPLETE\n",
      "TESS object\n",
      "500 Error 500:\n",
      "null\n",
      "NO JUICE Unnamed: 0                                                 1633\n",
      "dec                                                    -26.6503\n",
      "dur                                                         NaN\n",
      "file          U-shaped_good_pcs_steven_tess.csv;steven_martt...\n",
      "id                                                  4.23785e+08\n",
      "mission                                                    TESS\n",
      "ra                                                      70.9198\n",
      "tcen                                                        NaN\n",
      "Name: 140, dtype: object\n",
      "Breaking because status = COMPLETE\n",
      "TESS object\n",
      "DEBUG [urllib3.connectionpool._new_conn()]: Starting new HTTP connection (1): vizier.u-strasbg.fr:80\n",
      "DEBUG [urllib3.connectionpool._make_request()]: http://vizier.u-strasbg.fr:80 \"POST /viz-bin/votable HTTP/1.1\" 200 653\n",
      "DEBUG [urllib3.connectionpool._new_conn()]: Starting new HTTP connection (1): vizier.u-strasbg.fr:80\n",
      "DEBUG [urllib3.connectionpool._make_request()]: http://vizier.u-strasbg.fr:80 \"POST /viz-bin/votable HTTP/1.1\" 200 685\n",
      "DEBUG [urllib3.connectionpool._new_conn()]: Starting new HTTPS connection (1): heasarc.gsfc.nasa.gov:443\n",
      "DEBUG [urllib3.connectionpool._make_request()]: https://heasarc.gsfc.nasa.gov:443 \"GET /cgi-bin/tess/webtess/wtv.py?Entry=94.8015984%2C+-4.6376109 HTTP/1.1\" 200 None\n",
      "https://heasarc.gsfc.nasa.gov/cgi-bin/tess/webtess/wtv.py?Entry=<SkyCoord (ICRS): (ra, dec) in deg\n",
      "    (94.8015984, -4.6376109)>\n",
      "[6] <class 'list'>\n",
      "# Loading QLP lightcurves\n",
      "250595513 <class 'int'>\n",
      "NO JUICE Unnamed: 0                                                 1635\n",
      "dec                                                    -4.63761\n",
      "dur                                                    0.267917\n",
      "file          U-shaped_good_pcs_steven_tess.csv;steven_martt...\n",
      "id                                                  2.50596e+08\n",
      "mission                                                    TESS\n",
      "ra                                                      94.8016\n",
      "tcen                                                    3646.05\n",
      "Name: 142, dtype: object\n",
      "Breaking because status = COMPLETE\n",
      "TESS object\n",
      "DEBUG [urllib3.connectionpool._new_conn()]: Starting new HTTP connection (1): vizier.u-strasbg.fr:80\n",
      "DEBUG [urllib3.connectionpool._make_request()]: http://vizier.u-strasbg.fr:80 \"POST /viz-bin/votable HTTP/1.1\" 200 656\n",
      "DEBUG [urllib3.connectionpool._new_conn()]: Starting new HTTP connection (1): vizier.u-strasbg.fr:80\n",
      "DEBUG [urllib3.connectionpool._make_request()]: http://vizier.u-strasbg.fr:80 \"POST /viz-bin/votable HTTP/1.1\" 200 688\n",
      "DEBUG [urllib3.connectionpool._new_conn()]: Starting new HTTPS connection (1): heasarc.gsfc.nasa.gov:443\n",
      "DEBUG [urllib3.connectionpool._make_request()]: https://heasarc.gsfc.nasa.gov:443 \"GET /cgi-bin/tess/webtess/wtv.py?Entry=104.390816%2C+-39.565175 HTTP/1.1\" 200 None\n",
      "https://heasarc.gsfc.nasa.gov/cgi-bin/tess/webtess/wtv.py?Entry=<SkyCoord (ICRS): (ra, dec) in deg\n",
      "    (104.390816, -39.565175)>\n",
      "[6, 7] <class 'list'>\n",
      "# Loading QLP lightcurves\n",
      "157000246 <class 'int'>\n",
      "NO JUICE Unnamed: 0                                 1637\n",
      "dec                                    -39.5652\n",
      "dur                                    0.318333\n",
      "file          U-shaped_good_pcs_steven_tess.csv\n",
      "id                                     1.57e+08\n",
      "mission                                    TESS\n",
      "ra                                      104.391\n",
      "tcen                                    3651.03\n",
      "Name: 144, dtype: object\n",
      "Breaking because status = COMPLETE\n",
      "TESS object\n",
      "DEBUG [urllib3.connectionpool._new_conn()]: Starting new HTTP connection (1): vizier.u-strasbg.fr:80\n",
      "DEBUG [urllib3.connectionpool._make_request()]: http://vizier.u-strasbg.fr:80 \"POST /viz-bin/votable HTTP/1.1\" 200 656\n",
      "DEBUG [urllib3.connectionpool._new_conn()]: Starting new HTTP connection (1): vizier.u-strasbg.fr:80\n",
      "DEBUG [urllib3.connectionpool._make_request()]: http://vizier.u-strasbg.fr:80 \"POST /viz-bin/votable HTTP/1.1\" 200 688\n",
      "DEBUG [urllib3.connectionpool._new_conn()]: Starting new HTTPS connection (1): heasarc.gsfc.nasa.gov:443\n",
      "DEBUG [urllib3.connectionpool._make_request()]: https://heasarc.gsfc.nasa.gov:443 \"GET /cgi-bin/tess/webtess/wtv.py?Entry=102.435908%2C+-14.833815 HTTP/1.1\" 200 None\n",
      "https://heasarc.gsfc.nasa.gov/cgi-bin/tess/webtess/wtv.py?Entry=<SkyCoord (ICRS): (ra, dec) in deg\n",
      "    (102.435908, -14.833815)>\n",
      "[6, 7] <class 'list'>\n",
      "# Loading QLP lightcurves\n",
      "35644532 <class 'int'>\n",
      "NO JUICE Unnamed: 0                                                 1639\n",
      "dec                                                    -14.8338\n",
      "dur                                                    0.429583\n",
      "file          U-shaped_good_pcs_steven_tess.csv;steven_martt...\n",
      "id                                                  3.56445e+07\n",
      "mission                                                    TESS\n",
      "ra                                                      102.436\n",
      "tcen                                                    3648.91\n",
      "Name: 146, dtype: object\n",
      "Breaking because status = COMPLETE\n",
      "TESS object\n",
      "DEBUG [urllib3.connectionpool._new_conn()]: Starting new HTTP connection (1): vizier.u-strasbg.fr:80\n",
      "DEBUG [urllib3.connectionpool._make_request()]: http://vizier.u-strasbg.fr:80 \"POST /viz-bin/votable HTTP/1.1\" 200 656\n",
      "DEBUG [urllib3.connectionpool._new_conn()]: Starting new HTTP connection (1): vizier.u-strasbg.fr:80\n",
      "DEBUG [urllib3.connectionpool._make_request()]: http://vizier.u-strasbg.fr:80 \"POST /viz-bin/votable HTTP/1.1\" 200 688\n",
      "DEBUG [urllib3.connectionpool._new_conn()]: Starting new HTTPS connection (1): heasarc.gsfc.nasa.gov:443\n",
      "DEBUG [urllib3.connectionpool._make_request()]: https://heasarc.gsfc.nasa.gov:443 \"GET /cgi-bin/tess/webtess/wtv.py?Entry=101.693877%2C+-6.1447701 HTTP/1.1\" 200 None\n",
      "https://heasarc.gsfc.nasa.gov/cgi-bin/tess/webtess/wtv.py?Entry=<SkyCoord (ICRS): (ra, dec) in deg\n",
      "    (101.693877, -6.1447701)>\n",
      "[6] <class 'list'>\n",
      "# Loading QLP lightcurves\n",
      "120269103 <class 'int'>\n",
      "NO JUICE Unnamed: 0                                                 1641\n",
      "dec                                                    -6.14477\n",
      "dur                                                    0.211667\n",
      "file          U-shaped_good_pcs_steven_tess.csv;steven_martt...\n",
      "id                                                  1.20269e+08\n",
      "mission                                                    TESS\n",
      "ra                                                      101.694\n",
      "tcen                                                    3654.92\n",
      "Name: 148, dtype: object\n",
      "Breaking because status = COMPLETE\n",
      "TESS object\n",
      "500 Error 500:\n",
      "null\n",
      "NO JUICE Unnamed: 0                                                 1643\n",
      "dec                                                    -29.1363\n",
      "dur                                                    0.185833\n",
      "file          lacourse_jacobs_k2_table.csv;All_OsbornMarttiK...\n",
      "id                                                  3.71171e+07\n",
      "mission                                                    TESS\n",
      "ra                                                      90.4882\n",
      "tcen                                                    3650.09\n",
      "Name: 150, dtype: object\n",
      "NO JUICE Unnamed: 0                                                 1645\n",
      "dec                                                         NaN\n",
      "dur                                                    0.234167\n",
      "file          U-shaped_good_pcs_steven_tess.csv;AllMonos_mar...\n",
      "id                                                  3.02805e+08\n",
      "mission                                                    TESS\n",
      "ra                                                          NaN\n",
      "tcen                                                    3653.43\n",
      "Name: 152, dtype: object\n"
     ]
    },
    {
     "name": "stdout",
     "output_type": "stream",
     "text": [
      "Breaking because status = COMPLETE\n",
      "TESS object\n",
      "DEBUG [urllib3.connectionpool._new_conn()]: Starting new HTTP connection (1): vizier.u-strasbg.fr:80\n",
      "DEBUG [urllib3.connectionpool._make_request()]: http://vizier.u-strasbg.fr:80 \"POST /viz-bin/votable HTTP/1.1\" 200 657\n",
      "DEBUG [urllib3.connectionpool._new_conn()]: Starting new HTTP connection (1): vizier.u-strasbg.fr:80\n",
      "DEBUG [urllib3.connectionpool._make_request()]: http://vizier.u-strasbg.fr:80 \"POST /viz-bin/votable HTTP/1.1\" 200 688\n",
      "DEBUG [urllib3.connectionpool._new_conn()]: Starting new HTTPS connection (1): heasarc.gsfc.nasa.gov:443\n",
      "DEBUG [urllib3.connectionpool._make_request()]: https://heasarc.gsfc.nasa.gov:443 \"GET /cgi-bin/tess/webtess/wtv.py?Entry=119.44993999999998%2C+-27.8685 HTTP/1.1\" 200 None\n",
      "https://heasarc.gsfc.nasa.gov/cgi-bin/tess/webtess/wtv.py?Entry=<SkyCoord (ICRS): (ra, dec) in deg\n",
      "    (119.44994, -27.8685)>\n",
      "[7, 8] <class 'list'>\n",
      "# Loading QLP lightcurves\n",
      "129882468 <class 'int'>\n",
      "NO JUICE Unnamed: 0                                                 1647\n",
      "dec                                                    -27.8685\n",
      "dur                                                    0.386667\n",
      "file          U-shaped_good_pcs_steven_tess.csv;steven_martt...\n",
      "id                                                  1.29882e+08\n",
      "mission                                                    TESS\n",
      "ra                                                       119.45\n",
      "tcen                                                     3668.6\n",
      "Name: 154, dtype: object\n",
      "Breaking because status = COMPLETE\n",
      "TESS object\n",
      "DEBUG [urllib3.connectionpool._new_conn()]: Starting new HTTP connection (1): vizier.u-strasbg.fr:80\n",
      "DEBUG [urllib3.connectionpool._make_request()]: http://vizier.u-strasbg.fr:80 \"POST /viz-bin/votable HTTP/1.1\" 200 655\n",
      "DEBUG [urllib3.connectionpool._new_conn()]: Starting new HTTP connection (1): vizier.u-strasbg.fr:80\n",
      "DEBUG [urllib3.connectionpool._make_request()]: http://vizier.u-strasbg.fr:80 \"POST /viz-bin/votable HTTP/1.1\" 200 687\n",
      "DEBUG [urllib3.connectionpool._new_conn()]: Starting new HTTPS connection (1): heasarc.gsfc.nasa.gov:443\n",
      "DEBUG [urllib3.connectionpool._make_request()]: https://heasarc.gsfc.nasa.gov:443 \"GET /cgi-bin/tess/webtess/wtv.py?Entry=123.73509299999999%2C+-11.588054 HTTP/1.1\" 200 None\n",
      "https://heasarc.gsfc.nasa.gov/cgi-bin/tess/webtess/wtv.py?Entry=<SkyCoord (ICRS): (ra, dec) in deg\n",
      "    (123.735093, -11.588054)>\n",
      "[7] <class 'list'>\n",
      "# Loading QLP lightcurves\n",
      "19186895 <class 'int'>\n",
      "NO JUICE Unnamed: 0                                                 1649\n",
      "dec                                                    -11.5881\n",
      "dur                                                    0.250417\n",
      "file          U-shaped_good_pcs_steven_tess.csv;steven_martt...\n",
      "id                                                  1.91869e+07\n",
      "mission                                                    TESS\n",
      "ra                                                      123.735\n",
      "tcen                                                     3668.7\n",
      "Name: 156, dtype: object\n",
      "Breaking because status = COMPLETE\n",
      "TESS object\n",
      "DEBUG [urllib3.connectionpool._new_conn()]: Starting new HTTP connection (1): vizier.u-strasbg.fr:80\n",
      "DEBUG [urllib3.connectionpool._make_request()]: http://vizier.u-strasbg.fr:80 \"POST /viz-bin/votable HTTP/1.1\" 200 656\n",
      "DEBUG [urllib3.connectionpool._new_conn()]: Starting new HTTP connection (1): vizier.u-strasbg.fr:80\n",
      "DEBUG [urllib3.connectionpool._make_request()]: http://vizier.u-strasbg.fr:80 \"POST /viz-bin/votable HTTP/1.1\" 200 688\n",
      "DEBUG [urllib3.connectionpool._new_conn()]: Starting new HTTPS connection (1): heasarc.gsfc.nasa.gov:443\n",
      "DEBUG [urllib3.connectionpool._make_request()]: https://heasarc.gsfc.nasa.gov:443 \"GET /cgi-bin/tess/webtess/wtv.py?Entry=124.275247%2C+8.24856445 HTTP/1.1\" 200 None\n",
      "https://heasarc.gsfc.nasa.gov/cgi-bin/tess/webtess/wtv.py?Entry=<SkyCoord (ICRS): (ra, dec) in deg\n",
      "    (124.275247, 8.24856445)>\n",
      "[7] <class 'list'>\n",
      "TESS file\n",
      "1259 points masked in lc of 17612\n",
      "transit mask: <class 'numpy.ndarray'> 16416 0 <class 'numpy.ndarray'> 16416 True\n",
      "WARNING [matplotlib.legend._parse_legend_args()]: No handles with labels found to put in legend.\n",
      "00 lowSNR, SNR= 0.7761368840772336 SNR_r= 0.6363256785657563 depth: 0.00012528197578557228 fit: False\n",
      "DEBUG [matplotlib.backends.backend_pdf.fontName()]: Assigning font /b'F1' = '/Users/hosborn/transits/lib/python3.7/site-packages/matplotlib/mpl-data/fonts/ttf/DejaVuSans.ttf'\n",
      "DEBUG [matplotlib.backends.backend_pdf.writeFonts()]: Embedding font /Users/hosborn/transits/lib/python3.7/site-packages/matplotlib/mpl-data/fonts/ttf/DejaVuSans.ttf.\n",
      "DEBUG [matplotlib.backends.backend_pdf.writeFonts()]: Writing TrueType font.\n",
      "Breaking because status = COMPLETE\n",
      "TESS object\n",
      "DEBUG [urllib3.connectionpool._new_conn()]: Starting new HTTP connection (1): vizier.u-strasbg.fr:80\n",
      "DEBUG [urllib3.connectionpool._make_request()]: http://vizier.u-strasbg.fr:80 \"POST /viz-bin/votable HTTP/1.1\" 200 657\n",
      "DEBUG [urllib3.connectionpool._new_conn()]: Starting new HTTP connection (1): vizier.u-strasbg.fr:80\n",
      "DEBUG [urllib3.connectionpool._make_request()]: http://vizier.u-strasbg.fr:80 \"POST /viz-bin/votable HTTP/1.1\" 200 688\n",
      "DEBUG [urllib3.connectionpool._new_conn()]: Starting new HTTPS connection (1): heasarc.gsfc.nasa.gov:443\n",
      "DEBUG [urllib3.connectionpool._make_request()]: https://heasarc.gsfc.nasa.gov:443 \"GET /cgi-bin/tess/webtess/wtv.py?Entry=110.943977%2C+-21.400648999999998 HTTP/1.1\" 200 None\n",
      "https://heasarc.gsfc.nasa.gov/cgi-bin/tess/webtess/wtv.py?Entry=<SkyCoord (ICRS): (ra, dec) in deg\n",
      "    (110.943977, -21.400649)>\n",
      "[7] <class 'list'>\n",
      "# Loading QLP lightcurves\n",
      "412576689 <class 'int'>\n",
      "NO JUICE Unnamed: 0                                                 1653\n",
      "dec                                                    -21.4006\n",
      "dur                                                     0.17125\n",
      "file          U-shaped_good_pcs_steven_tess.csv;steven_martt...\n",
      "id                                                  4.12577e+08\n",
      "mission                                                    TESS\n",
      "ra                                                      110.944\n",
      "tcen                                                       3679\n",
      "Name: 160, dtype: object\n",
      "Breaking because status = COMPLETE\n",
      "TESS object\n",
      "DEBUG [urllib3.connectionpool._new_conn()]: Starting new HTTP connection (1): vizier.u-strasbg.fr:80\n",
      "DEBUG [urllib3.connectionpool._make_request()]: http://vizier.u-strasbg.fr:80 \"POST /viz-bin/votable HTTP/1.1\" 200 656\n",
      "DEBUG [urllib3.connectionpool._new_conn()]: Starting new HTTP connection (1): vizier.u-strasbg.fr:80\n",
      "DEBUG [urllib3.connectionpool._make_request()]: http://vizier.u-strasbg.fr:80 \"POST /viz-bin/votable HTTP/1.1\" 200 689\n",
      "DEBUG [urllib3.connectionpool._new_conn()]: Starting new HTTPS connection (1): heasarc.gsfc.nasa.gov:443\n",
      "DEBUG [urllib3.connectionpool._make_request()]: https://heasarc.gsfc.nasa.gov:443 \"GET /cgi-bin/tess/webtess/wtv.py?Entry=128.625869%2C+0.87423026 HTTP/1.1\" 200 None\n",
      "https://heasarc.gsfc.nasa.gov/cgi-bin/tess/webtess/wtv.py?Entry=<SkyCoord (ICRS): (ra, dec) in deg\n",
      "    (128.625869, 0.87423026)>\n",
      "[7] <class 'list'>\n",
      "# Loading QLP lightcurves\n",
      "257300241 <class 'int'>\n",
      "NO JUICE Unnamed: 0                                                 1655\n",
      "dec                                                     0.87423\n",
      "dur                                                     0.26375\n",
      "file          U-shaped_good_pcs_steven_tess.csv;steven_martt...\n",
      "id                                                    2.573e+08\n",
      "mission                                                    TESS\n",
      "ra                                                      128.626\n",
      "tcen                                                    3677.41\n",
      "Name: 162, dtype: object\n",
      "Breaking because status = COMPLETE\n",
      "TESS object\n",
      "DEBUG [urllib3.connectionpool._new_conn()]: Starting new HTTP connection (1): vizier.u-strasbg.fr:80\n",
      "DEBUG [urllib3.connectionpool._make_request()]: http://vizier.u-strasbg.fr:80 \"POST /viz-bin/votable HTTP/1.1\" 200 657\n",
      "DEBUG [urllib3.connectionpool._new_conn()]: Starting new HTTP connection (1): vizier.u-strasbg.fr:80\n",
      "DEBUG [urllib3.connectionpool._make_request()]: http://vizier.u-strasbg.fr:80 \"POST /viz-bin/votable HTTP/1.1\" 200 689\n",
      "DEBUG [urllib3.connectionpool._new_conn()]: Starting new HTTPS connection (1): heasarc.gsfc.nasa.gov:443\n"
     ]
    },
    {
     "name": "stdout",
     "output_type": "stream",
     "text": [
      "DEBUG [urllib3.connectionpool._make_request()]: https://heasarc.gsfc.nasa.gov:443 \"GET /cgi-bin/tess/webtess/wtv.py?Entry=111.493183%2C+-31.629837 HTTP/1.1\" 200 None\n",
      "https://heasarc.gsfc.nasa.gov/cgi-bin/tess/webtess/wtv.py?Entry=<SkyCoord (ICRS): (ra, dec) in deg\n",
      "    (111.493183, -31.629837)>\n",
      "[7] <class 'list'>\n",
      "# Loading QLP lightcurves\n",
      "111953678 <class 'int'>\n",
      "NO JUICE Unnamed: 0                                                 1657\n",
      "dec                                                    -31.6298\n",
      "dur                                                     0.23375\n",
      "file          All_OsbornMarttiK2Monos.csv;All_OsbornMarttiK2...\n",
      "id                                                  1.11954e+08\n",
      "mission                                                    TESS\n",
      "ra                                                      111.493\n",
      "tcen                                                    3676.54\n",
      "Name: 164, dtype: object\n",
      "Breaking because status = COMPLETE\n",
      "TESS object\n",
      "DEBUG [urllib3.connectionpool._new_conn()]: Starting new HTTP connection (1): vizier.u-strasbg.fr:80\n",
      "DEBUG [urllib3.connectionpool._make_request()]: http://vizier.u-strasbg.fr:80 \"POST /viz-bin/votable HTTP/1.1\" 200 657\n",
      "DEBUG [urllib3.connectionpool._new_conn()]: Starting new HTTP connection (1): vizier.u-strasbg.fr:80\n",
      "DEBUG [urllib3.connectionpool._make_request()]: http://vizier.u-strasbg.fr:80 \"POST /viz-bin/votable HTTP/1.1\" 200 690\n",
      "DEBUG [urllib3.connectionpool._new_conn()]: Starting new HTTPS connection (1): heasarc.gsfc.nasa.gov:443\n",
      "DEBUG [urllib3.connectionpool._make_request()]: https://heasarc.gsfc.nasa.gov:443 \"GET /cgi-bin/tess/webtess/wtv.py?Entry=121.95187%2C+-20.052570000000003 HTTP/1.1\" 200 None\n",
      "https://heasarc.gsfc.nasa.gov/cgi-bin/tess/webtess/wtv.py?Entry=<SkyCoord (ICRS): (ra, dec) in deg\n",
      "    (121.95187, -20.05257)>\n",
      "[7] <class 'list'>\n",
      "# Loading QLP lightcurves\n",
      "176308026 <class 'int'>\n",
      "NO JUICE Unnamed: 0                                                 1659\n",
      "dec                                                    -20.0526\n",
      "dur                                                      0.4125\n",
      "file          lacourse_jacobs_k2_table.csv;All_OsbornMarttiK...\n",
      "id                                                  1.76308e+08\n",
      "mission                                                    TESS\n",
      "ra                                                      121.952\n",
      "tcen                                                    3673.23\n",
      "Name: 166, dtype: object\n",
      "Breaking because status = COMPLETE\n",
      "TESS object\n",
      "DEBUG [urllib3.connectionpool._new_conn()]: Starting new HTTP connection (1): vizier.u-strasbg.fr:80\n",
      "DEBUG [urllib3.connectionpool._make_request()]: http://vizier.u-strasbg.fr:80 \"POST /viz-bin/votable HTTP/1.1\" 200 657\n",
      "DEBUG [urllib3.connectionpool._new_conn()]: Starting new HTTP connection (1): vizier.u-strasbg.fr:80\n",
      "DEBUG [urllib3.connectionpool._make_request()]: http://vizier.u-strasbg.fr:80 \"POST /viz-bin/votable HTTP/1.1\" 200 688\n",
      "DEBUG [urllib3.connectionpool._new_conn()]: Starting new HTTPS connection (1): heasarc.gsfc.nasa.gov:443\n",
      "DEBUG [urllib3.connectionpool._make_request()]: https://heasarc.gsfc.nasa.gov:443 \"GET /cgi-bin/tess/webtess/wtv.py?Entry=112.18701599999999%2C+-15.701664000000001 HTTP/1.1\" 200 None\n",
      "https://heasarc.gsfc.nasa.gov/cgi-bin/tess/webtess/wtv.py?Entry=<SkyCoord (ICRS): (ra, dec) in deg\n",
      "    (112.187016, -15.701664)>\n",
      "[7] <class 'list'>\n",
      "# Loading QLP lightcurves\n",
      "50213761 <class 'int'>\n",
      "NO JUICE Unnamed: 0                                                 1661\n",
      "dec                                                    -15.7017\n",
      "dur                                                    0.351667\n",
      "file          U-shaped_good_pcs_steven_tess.csv;steven_martt...\n",
      "id                                                  5.02138e+07\n",
      "mission                                                    TESS\n",
      "ra                                                      112.187\n",
      "tcen                                                    3676.71\n",
      "Name: 168, dtype: object\n",
      "Already processed Unnamed: 0                                 1663\n",
      "dec                                         NaN\n",
      "dur                                    0.335833\n",
      "file          U-shaped_good_pcs_steven_tess.csv\n",
      "id                                  1.24955e+08\n",
      "mission                                    TESS\n",
      "ra                                          NaN\n",
      "tcen                                    3674.39\n",
      "Name: 170, dtype: object\n",
      "transit mask: <class 'numpy.ndarray'> 14555 0 <class 'numpy.ndarray'> 14555 True\n"
     ]
    },
    {
     "name": "stderr",
     "output_type": "stream",
     "text": [
      "INFO (theano.gof.compilelock): Waiting for existing lock by process '20511' (I am process '19630')\n"
     ]
    },
    {
     "name": "stdout",
     "output_type": "stream",
     "text": [
      "INFO  [theano.gof.compilelock.lock()]: Waiting for existing lock by process '20511' (I am process '19630')\n"
     ]
    },
    {
     "name": "stderr",
     "output_type": "stream",
     "text": [
      "INFO (theano.gof.compilelock): To manually release the lock, delete /Users/hosborn/.theano/compiledir_Darwin-19.3.0-x86_64-i386-64bit-i386-3.7.6-64/lock_dir\n"
     ]
    },
    {
     "name": "stdout",
     "output_type": "stream",
     "text": [
      "INFO  [theano.gof.compilelock.lock()]: To manually release the lock, delete /Users/hosborn/.theano/compiledir_Darwin-19.3.0-x86_64-i386-64bit-i386-3.7.6-64/lock_dir\n"
     ]
    },
    {
     "name": "stderr",
     "output_type": "stream",
     "text": [
      "INFO (theano.gof.compilelock): Waiting for existing lock by process '20511' (I am process '19630')\n"
     ]
    },
    {
     "name": "stdout",
     "output_type": "stream",
     "text": [
      "INFO  [theano.gof.compilelock.lock()]: Waiting for existing lock by process '20511' (I am process '19630')\n"
     ]
    },
    {
     "name": "stderr",
     "output_type": "stream",
     "text": [
      "INFO (theano.gof.compilelock): To manually release the lock, delete /Users/hosborn/.theano/compiledir_Darwin-19.3.0-x86_64-i386-64bit-i386-3.7.6-64/lock_dir\n"
     ]
    },
    {
     "name": "stdout",
     "output_type": "stream",
     "text": [
      "INFO  [theano.gof.compilelock.lock()]: To manually release the lock, delete /Users/hosborn/.theano/compiledir_Darwin-19.3.0-x86_64-i386-64bit-i386-3.7.6-64/lock_dir\n"
     ]
    },
    {
     "name": "stderr",
     "output_type": "stream",
     "text": [
      "INFO (theano.gof.compilelock): Waiting for existing lock by process '20511' (I am process '19630')\n"
     ]
    },
    {
     "name": "stdout",
     "output_type": "stream",
     "text": [
      "INFO  [theano.gof.compilelock.lock()]: Waiting for existing lock by process '20511' (I am process '19630')\n"
     ]
    },
    {
     "name": "stderr",
     "output_type": "stream",
     "text": [
      "INFO (theano.gof.compilelock): To manually release the lock, delete /Users/hosborn/.theano/compiledir_Darwin-19.3.0-x86_64-i386-64bit-i386-3.7.6-64/lock_dir\n"
     ]
    },
    {
     "name": "stdout",
     "output_type": "stream",
     "text": [
      "INFO  [theano.gof.compilelock.lock()]: To manually release the lock, delete /Users/hosborn/.theano/compiledir_Darwin-19.3.0-x86_64-i386-64bit-i386-3.7.6-64/lock_dir\n"
     ]
    },
    {
     "name": "stderr",
     "output_type": "stream",
     "text": [
      "INFO (theano.gof.compilelock): Waiting for existing lock by process '20511' (I am process '19630')\n"
     ]
    },
    {
     "name": "stdout",
     "output_type": "stream",
     "text": [
      "INFO  [theano.gof.compilelock.lock()]: Waiting for existing lock by process '20511' (I am process '19630')\n"
     ]
    },
    {
     "name": "stderr",
     "output_type": "stream",
     "text": [
      "INFO (theano.gof.compilelock): To manually release the lock, delete /Users/hosborn/.theano/compiledir_Darwin-19.3.0-x86_64-i386-64bit-i386-3.7.6-64/lock_dir\n"
     ]
    },
    {
     "name": "stdout",
     "output_type": "stream",
     "text": [
      "INFO  [theano.gof.compilelock.lock()]: To manually release the lock, delete /Users/hosborn/.theano/compiledir_Darwin-19.3.0-x86_64-i386-64bit-i386-3.7.6-64/lock_dir\n"
     ]
    },
    {
     "name": "stderr",
     "output_type": "stream",
     "text": [
      "INFO (theano.gof.compilelock): Waiting for existing lock by process '20511' (I am process '19630')\n"
     ]
    },
    {
     "name": "stdout",
     "output_type": "stream",
     "text": [
      "INFO  [theano.gof.compilelock.lock()]: Waiting for existing lock by process '20511' (I am process '19630')\n"
     ]
    },
    {
     "name": "stderr",
     "output_type": "stream",
     "text": [
      "INFO (theano.gof.compilelock): To manually release the lock, delete /Users/hosborn/.theano/compiledir_Darwin-19.3.0-x86_64-i386-64bit-i386-3.7.6-64/lock_dir\n"
     ]
    },
    {
     "name": "stdout",
     "output_type": "stream",
     "text": [
      "INFO  [theano.gof.compilelock.lock()]: To manually release the lock, delete /Users/hosborn/.theano/compiledir_Darwin-19.3.0-x86_64-i386-64bit-i386-3.7.6-64/lock_dir\n"
     ]
    },
    {
     "name": "stderr",
     "output_type": "stream",
     "text": [
      "INFO (theano.gof.compilelock): Waiting for existing lock by process '20511' (I am process '19630')\n"
     ]
    },
    {
     "name": "stdout",
     "output_type": "stream",
     "text": [
      "INFO  [theano.gof.compilelock.lock()]: Waiting for existing lock by process '20511' (I am process '19630')\n"
     ]
    },
    {
     "name": "stderr",
     "output_type": "stream",
     "text": [
      "INFO (theano.gof.compilelock): To manually release the lock, delete /Users/hosborn/.theano/compiledir_Darwin-19.3.0-x86_64-i386-64bit-i386-3.7.6-64/lock_dir\n"
     ]
    },
    {
     "name": "stdout",
     "output_type": "stream",
     "text": [
      "INFO  [theano.gof.compilelock.lock()]: To manually release the lock, delete /Users/hosborn/.theano/compiledir_Darwin-19.3.0-x86_64-i386-64bit-i386-3.7.6-64/lock_dir\n"
     ]
    },
    {
     "name": "stderr",
     "output_type": "stream",
     "text": [
      "INFO (theano.gof.compilelock): Waiting for existing lock by process '20511' (I am process '19630')\n"
     ]
    },
    {
     "name": "stdout",
     "output_type": "stream",
     "text": [
      "INFO  [theano.gof.compilelock.lock()]: Waiting for existing lock by process '20511' (I am process '19630')\n"
     ]
    },
    {
     "name": "stderr",
     "output_type": "stream",
     "text": [
      "INFO (theano.gof.compilelock): To manually release the lock, delete /Users/hosborn/.theano/compiledir_Darwin-19.3.0-x86_64-i386-64bit-i386-3.7.6-64/lock_dir\n"
     ]
    },
    {
     "name": "stdout",
     "output_type": "stream",
     "text": [
      "INFO  [theano.gof.compilelock.lock()]: To manually release the lock, delete /Users/hosborn/.theano/compiledir_Darwin-19.3.0-x86_64-i386-64bit-i386-3.7.6-64/lock_dir\n"
     ]
    },
    {
     "name": "stderr",
     "output_type": "stream",
     "text": [
      "INFO (theano.gof.compilelock): Waiting for existing lock by process '20511' (I am process '19630')\n"
     ]
    },
    {
     "name": "stdout",
     "output_type": "stream",
     "text": [
      "INFO  [theano.gof.compilelock.lock()]: Waiting for existing lock by process '20511' (I am process '19630')\n"
     ]
    },
    {
     "name": "stderr",
     "output_type": "stream",
     "text": [
      "INFO (theano.gof.compilelock): To manually release the lock, delete /Users/hosborn/.theano/compiledir_Darwin-19.3.0-x86_64-i386-64bit-i386-3.7.6-64/lock_dir\n"
     ]
    },
    {
     "name": "stdout",
     "output_type": "stream",
     "text": [
      "INFO  [theano.gof.compilelock.lock()]: To manually release the lock, delete /Users/hosborn/.theano/compiledir_Darwin-19.3.0-x86_64-i386-64bit-i386-3.7.6-64/lock_dir\n"
     ]
    },
    {
     "name": "stderr",
     "output_type": "stream",
     "text": [
      "INFO (theano.gof.compilelock): Waiting for existing lock by process '20511' (I am process '19630')\n"
     ]
    },
    {
     "name": "stdout",
     "output_type": "stream",
     "text": [
      "INFO  [theano.gof.compilelock.lock()]: Waiting for existing lock by process '20511' (I am process '19630')\n"
     ]
    },
    {
     "name": "stderr",
     "output_type": "stream",
     "text": [
      "INFO (theano.gof.compilelock): To manually release the lock, delete /Users/hosborn/.theano/compiledir_Darwin-19.3.0-x86_64-i386-64bit-i386-3.7.6-64/lock_dir\n"
     ]
    },
    {
     "name": "stdout",
     "output_type": "stream",
     "text": [
      "INFO  [theano.gof.compilelock.lock()]: To manually release the lock, delete /Users/hosborn/.theano/compiledir_Darwin-19.3.0-x86_64-i386-64bit-i386-3.7.6-64/lock_dir\n"
     ]
    },
    {
     "name": "stderr",
     "output_type": "stream",
     "text": [
      "INFO (theano.gof.compilelock): Waiting for existing lock by process '20511' (I am process '19630')\n"
     ]
    },
    {
     "name": "stdout",
     "output_type": "stream",
     "text": [
      "INFO  [theano.gof.compilelock.lock()]: Waiting for existing lock by process '20511' (I am process '19630')\n"
     ]
    },
    {
     "name": "stderr",
     "output_type": "stream",
     "text": [
      "INFO (theano.gof.compilelock): To manually release the lock, delete /Users/hosborn/.theano/compiledir_Darwin-19.3.0-x86_64-i386-64bit-i386-3.7.6-64/lock_dir\n"
     ]
    },
    {
     "name": "stdout",
     "output_type": "stream",
     "text": [
      "INFO  [theano.gof.compilelock.lock()]: To manually release the lock, delete /Users/hosborn/.theano/compiledir_Darwin-19.3.0-x86_64-i386-64bit-i386-3.7.6-64/lock_dir\n"
     ]
    },
    {
     "name": "stderr",
     "output_type": "stream",
     "text": [
      "INFO (theano.gof.compilelock): Waiting for existing lock by process '20511' (I am process '19630')\n"
     ]
    },
    {
     "name": "stdout",
     "output_type": "stream",
     "text": [
      "INFO  [theano.gof.compilelock.lock()]: Waiting for existing lock by process '20511' (I am process '19630')\n"
     ]
    },
    {
     "name": "stderr",
     "output_type": "stream",
     "text": [
      "INFO (theano.gof.compilelock): To manually release the lock, delete /Users/hosborn/.theano/compiledir_Darwin-19.3.0-x86_64-i386-64bit-i386-3.7.6-64/lock_dir\n"
     ]
    },
    {
     "name": "stdout",
     "output_type": "stream",
     "text": [
      "INFO  [theano.gof.compilelock.lock()]: To manually release the lock, delete /Users/hosborn/.theano/compiledir_Darwin-19.3.0-x86_64-i386-64bit-i386-3.7.6-64/lock_dir\n"
     ]
    },
    {
     "name": "stderr",
     "output_type": "stream",
     "text": [
      "INFO (theano.gof.compilelock): Waiting for existing lock by process '20511' (I am process '19630')\n"
     ]
    },
    {
     "name": "stdout",
     "output_type": "stream",
     "text": [
      "INFO  [theano.gof.compilelock.lock()]: Waiting for existing lock by process '20511' (I am process '19630')\n"
     ]
    },
    {
     "name": "stderr",
     "output_type": "stream",
     "text": [
      "INFO (theano.gof.compilelock): To manually release the lock, delete /Users/hosborn/.theano/compiledir_Darwin-19.3.0-x86_64-i386-64bit-i386-3.7.6-64/lock_dir\n"
     ]
    },
    {
     "name": "stdout",
     "output_type": "stream",
     "text": [
      "INFO  [theano.gof.compilelock.lock()]: To manually release the lock, delete /Users/hosborn/.theano/compiledir_Darwin-19.3.0-x86_64-i386-64bit-i386-3.7.6-64/lock_dir\n"
     ]
    },
    {
     "name": "stderr",
     "output_type": "stream",
     "text": [
      "INFO (theano.gof.compilelock): Waiting for existing lock by process '20511' (I am process '19630')\n"
     ]
    },
    {
     "name": "stdout",
     "output_type": "stream",
     "text": [
      "INFO  [theano.gof.compilelock.lock()]: Waiting for existing lock by process '20511' (I am process '19630')\n"
     ]
    },
    {
     "name": "stderr",
     "output_type": "stream",
     "text": [
      "INFO (theano.gof.compilelock): To manually release the lock, delete /Users/hosborn/.theano/compiledir_Darwin-19.3.0-x86_64-i386-64bit-i386-3.7.6-64/lock_dir\n"
     ]
    },
    {
     "name": "stdout",
     "output_type": "stream",
     "text": [
      "INFO  [theano.gof.compilelock.lock()]: To manually release the lock, delete /Users/hosborn/.theano/compiledir_Darwin-19.3.0-x86_64-i386-64bit-i386-3.7.6-64/lock_dir\n"
     ]
    },
    {
     "name": "stderr",
     "output_type": "stream",
     "text": [
      "INFO (theano.gof.compilelock): Waiting for existing lock by process '20511' (I am process '19630')\n"
     ]
    },
    {
     "name": "stdout",
     "output_type": "stream",
     "text": [
      "INFO  [theano.gof.compilelock.lock()]: Waiting for existing lock by process '20511' (I am process '19630')\n"
     ]
    },
    {
     "name": "stderr",
     "output_type": "stream",
     "text": [
      "INFO (theano.gof.compilelock): To manually release the lock, delete /Users/hosborn/.theano/compiledir_Darwin-19.3.0-x86_64-i386-64bit-i386-3.7.6-64/lock_dir\n"
     ]
    },
    {
     "name": "stdout",
     "output_type": "stream",
     "text": [
      "INFO  [theano.gof.compilelock.lock()]: To manually release the lock, delete /Users/hosborn/.theano/compiledir_Darwin-19.3.0-x86_64-i386-64bit-i386-3.7.6-64/lock_dir\n"
     ]
    },
    {
     "name": "stderr",
     "output_type": "stream",
     "text": [
      "INFO (theano.gof.compilelock): Waiting for existing lock by process '20511' (I am process '19630')\n"
     ]
    },
    {
     "name": "stdout",
     "output_type": "stream",
     "text": [
      "INFO  [theano.gof.compilelock.lock()]: Waiting for existing lock by process '20511' (I am process '19630')\n"
     ]
    },
    {
     "name": "stderr",
     "output_type": "stream",
     "text": [
      "INFO (theano.gof.compilelock): To manually release the lock, delete /Users/hosborn/.theano/compiledir_Darwin-19.3.0-x86_64-i386-64bit-i386-3.7.6-64/lock_dir\n"
     ]
    },
    {
     "name": "stdout",
     "output_type": "stream",
     "text": [
      "INFO  [theano.gof.compilelock.lock()]: To manually release the lock, delete /Users/hosborn/.theano/compiledir_Darwin-19.3.0-x86_64-i386-64bit-i386-3.7.6-64/lock_dir\n"
     ]
    },
    {
     "name": "stderr",
     "output_type": "stream",
     "text": [
      "INFO (theano.gof.compilelock): Waiting for existing lock by process '20511' (I am process '19630')\n"
     ]
    },
    {
     "name": "stdout",
     "output_type": "stream",
     "text": [
      "INFO  [theano.gof.compilelock.lock()]: Waiting for existing lock by process '20511' (I am process '19630')\n"
     ]
    },
    {
     "name": "stderr",
     "output_type": "stream",
     "text": [
      "INFO (theano.gof.compilelock): To manually release the lock, delete /Users/hosborn/.theano/compiledir_Darwin-19.3.0-x86_64-i386-64bit-i386-3.7.6-64/lock_dir\n"
     ]
    },
    {
     "name": "stdout",
     "output_type": "stream",
     "text": [
      "INFO  [theano.gof.compilelock.lock()]: To manually release the lock, delete /Users/hosborn/.theano/compiledir_Darwin-19.3.0-x86_64-i386-64bit-i386-3.7.6-64/lock_dir\n"
     ]
    },
    {
     "name": "stderr",
     "output_type": "stream",
     "text": [
      "INFO (theano.gof.compilelock): Waiting for existing lock by process '20511' (I am process '19630')\n"
     ]
    },
    {
     "name": "stdout",
     "output_type": "stream",
     "text": [
      "INFO  [theano.gof.compilelock.lock()]: Waiting for existing lock by process '20511' (I am process '19630')\n"
     ]
    },
    {
     "name": "stderr",
     "output_type": "stream",
     "text": [
      "INFO (theano.gof.compilelock): To manually release the lock, delete /Users/hosborn/.theano/compiledir_Darwin-19.3.0-x86_64-i386-64bit-i386-3.7.6-64/lock_dir\n"
     ]
    },
    {
     "name": "stdout",
     "output_type": "stream",
     "text": [
      "INFO  [theano.gof.compilelock.lock()]: To manually release the lock, delete /Users/hosborn/.theano/compiledir_Darwin-19.3.0-x86_64-i386-64bit-i386-3.7.6-64/lock_dir\n"
     ]
    },
    {
     "name": "stderr",
     "output_type": "stream",
     "text": [
      "INFO (theano.gof.compilelock): Waiting for existing lock by process '20511' (I am process '19630')\n"
     ]
    },
    {
     "name": "stdout",
     "output_type": "stream",
     "text": [
      "INFO  [theano.gof.compilelock.lock()]: Waiting for existing lock by process '20511' (I am process '19630')\n"
     ]
    },
    {
     "name": "stderr",
     "output_type": "stream",
     "text": [
      "INFO (theano.gof.compilelock): To manually release the lock, delete /Users/hosborn/.theano/compiledir_Darwin-19.3.0-x86_64-i386-64bit-i386-3.7.6-64/lock_dir\n"
     ]
    },
    {
     "name": "stdout",
     "output_type": "stream",
     "text": [
      "INFO  [theano.gof.compilelock.lock()]: To manually release the lock, delete /Users/hosborn/.theano/compiledir_Darwin-19.3.0-x86_64-i386-64bit-i386-3.7.6-64/lock_dir\n"
     ]
    },
    {
     "name": "stderr",
     "output_type": "stream",
     "text": [
      "INFO (theano.gof.compilelock): Waiting for existing lock by process '20511' (I am process '19630')\n"
     ]
    },
    {
     "name": "stdout",
     "output_type": "stream",
     "text": [
      "INFO  [theano.gof.compilelock.lock()]: Waiting for existing lock by process '20511' (I am process '19630')\n"
     ]
    },
    {
     "name": "stderr",
     "output_type": "stream",
     "text": [
      "INFO (theano.gof.compilelock): To manually release the lock, delete /Users/hosborn/.theano/compiledir_Darwin-19.3.0-x86_64-i386-64bit-i386-3.7.6-64/lock_dir\n"
     ]
    },
    {
     "name": "stdout",
     "output_type": "stream",
     "text": [
      "INFO  [theano.gof.compilelock.lock()]: To manually release the lock, delete /Users/hosborn/.theano/compiledir_Darwin-19.3.0-x86_64-i386-64bit-i386-3.7.6-64/lock_dir\n"
     ]
    },
    {
     "name": "stderr",
     "output_type": "stream",
     "text": [
      "INFO (theano.gof.compilelock): Waiting for existing lock by process '20511' (I am process '19630')\n"
     ]
    },
    {
     "name": "stdout",
     "output_type": "stream",
     "text": [
      "INFO  [theano.gof.compilelock.lock()]: Waiting for existing lock by process '20511' (I am process '19630')\n"
     ]
    },
    {
     "name": "stderr",
     "output_type": "stream",
     "text": [
      "INFO (theano.gof.compilelock): To manually release the lock, delete /Users/hosborn/.theano/compiledir_Darwin-19.3.0-x86_64-i386-64bit-i386-3.7.6-64/lock_dir\n"
     ]
    },
    {
     "name": "stdout",
     "output_type": "stream",
     "text": [
      "INFO  [theano.gof.compilelock.lock()]: To manually release the lock, delete /Users/hosborn/.theano/compiledir_Darwin-19.3.0-x86_64-i386-64bit-i386-3.7.6-64/lock_dir\n"
     ]
    },
    {
     "name": "stderr",
     "output_type": "stream",
     "text": [
      "INFO (theano.gof.compilelock): Waiting for existing lock by process '20511' (I am process '19630')\n"
     ]
    },
    {
     "name": "stdout",
     "output_type": "stream",
     "text": [
      "INFO  [theano.gof.compilelock.lock()]: Waiting for existing lock by process '20511' (I am process '19630')\n"
     ]
    },
    {
     "name": "stderr",
     "output_type": "stream",
     "text": [
      "INFO (theano.gof.compilelock): To manually release the lock, delete /Users/hosborn/.theano/compiledir_Darwin-19.3.0-x86_64-i386-64bit-i386-3.7.6-64/lock_dir\n"
     ]
    },
    {
     "name": "stdout",
     "output_type": "stream",
     "text": [
      "INFO  [theano.gof.compilelock.lock()]: To manually release the lock, delete /Users/hosborn/.theano/compiledir_Darwin-19.3.0-x86_64-i386-64bit-i386-3.7.6-64/lock_dir\n",
      "00 - Checks complete.  SNR: 32.59907  SNR_r: 13.99606  variability: -197.074  centroid: 13.05887 | flag: planet\n",
      "DEBUG [matplotlib.backends.backend_pdf.fontName()]: Assigning font /b'F1' = '/Users/hosborn/transits/lib/python3.7/site-packages/matplotlib/mpl-data/fonts/ttf/DejaVuSans.ttf'\n",
      "DEBUG [matplotlib.backends.backend_pdf.writeFonts()]: Embedding font /Users/hosborn/transits/lib/python3.7/site-packages/matplotlib/mpl-data/fonts/ttf/DejaVuSans.ttf.\n",
      "DEBUG [matplotlib.backends.backend_pdf.writeFonts()]: Writing TrueType font.\n",
      "Breaking because status = COMPLETE\n",
      "TESS object\n",
      "DEBUG [urllib3.connectionpool._new_conn()]: Starting new HTTP connection (1): vizier.u-strasbg.fr:80\n",
      "DEBUG [urllib3.connectionpool._make_request()]: http://vizier.u-strasbg.fr:80 \"POST /viz-bin/votable HTTP/1.1\" 200 657\n",
      "DEBUG [urllib3.connectionpool._new_conn()]: Starting new HTTP connection (1): vizier.u-strasbg.fr:80\n",
      "DEBUG [urllib3.connectionpool._make_request()]: http://vizier.u-strasbg.fr:80 \"POST /viz-bin/votable HTTP/1.1\" 200 688\n",
      "DEBUG [urllib3.connectionpool._new_conn()]: Starting new HTTPS connection (1): heasarc.gsfc.nasa.gov:443\n",
      "DEBUG [urllib3.connectionpool._make_request()]: https://heasarc.gsfc.nasa.gov:443 \"GET /cgi-bin/tess/webtess/wtv.py?Entry=136.778346%2C+-51.013645000000004 HTTP/1.1\" 200 None\n",
      "https://heasarc.gsfc.nasa.gov/cgi-bin/tess/webtess/wtv.py?Entry=<SkyCoord (ICRS): (ra, dec) in deg\n",
      "    (136.778346, -51.013645)>\n",
      "[8, 9] <class 'list'>\n",
      "# Loading QLP lightcurves\n",
      "126574590 <class 'int'>\n",
      "NO JUICE Unnamed: 0                                                 1667\n",
      "dec                                                    -51.0136\n",
      "dur                                                    0.273333\n",
      "file          All_OsbornMarttiK2Monos.csv;All_OsbornMarttiK2...\n",
      "id                                                  1.26575e+08\n",
      "mission                                                    TESS\n",
      "ra                                                      136.778\n",
      "tcen                                                    3691.26\n",
      "Name: 174, dtype: object\n",
      "Breaking because status = COMPLETE\n",
      "TESS object\n",
      "DEBUG [urllib3.connectionpool._new_conn()]: Starting new HTTP connection (1): vizier.u-strasbg.fr:80\n",
      "DEBUG [urllib3.connectionpool._make_request()]: http://vizier.u-strasbg.fr:80 \"POST /viz-bin/votable HTTP/1.1\" 200 658\n",
      "DEBUG [urllib3.connectionpool._new_conn()]: Starting new HTTP connection (1): vizier.u-strasbg.fr:80\n",
      "DEBUG [urllib3.connectionpool._make_request()]: http://vizier.u-strasbg.fr:80 \"POST /viz-bin/votable HTTP/1.1\" 200 690\n",
      "DEBUG [urllib3.connectionpool._new_conn()]: Starting new HTTPS connection (1): heasarc.gsfc.nasa.gov:443\n",
      "DEBUG [urllib3.connectionpool._make_request()]: https://heasarc.gsfc.nasa.gov:443 \"GET /cgi-bin/tess/webtess/wtv.py?Entry=130.25704199999998%2C+-40.584832 HTTP/1.1\" 200 None\n",
      "https://heasarc.gsfc.nasa.gov/cgi-bin/tess/webtess/wtv.py?Entry=<SkyCoord (ICRS): (ra, dec) in deg\n",
      "    (130.257042, -40.584832)>\n",
      "[8, 9] <class 'list'>\n",
      "# Loading QLP lightcurves\n",
      "180989820 <class 'int'>\n",
      "6 points masked in lc of 562\n",
      "15 points masked in lc of 406\n",
      "8 points masked in lc of 591\n",
      "4 points masked in lc of 563\n",
      "[0, 1, 2, 3]\n",
      "transit mask: <class 'numpy.ndarray'> 2122 1 <class 'numpy.ndarray'> 2122 True\n",
      "00 - Checks complete.  SNR: 20.75242  SNR_r: 5.951083  variability: -110.210  centroid: 9.494746 | flag: planet\n",
      "DEBUG [matplotlib.backends.backend_pdf.fontName()]: Assigning font /b'F1' = '/Users/hosborn/transits/lib/python3.7/site-packages/matplotlib/mpl-data/fonts/ttf/DejaVuSans.ttf'\n",
      "DEBUG [matplotlib.backends.backend_pdf.writeFonts()]: Embedding font /Users/hosborn/transits/lib/python3.7/site-packages/matplotlib/mpl-data/fonts/ttf/DejaVuSans.ttf.\n",
      "DEBUG [matplotlib.backends.backend_pdf.writeFonts()]: Writing TrueType font.\n",
      "Breaking because status = COMPLETE\n",
      "TESS object\n",
      "DEBUG [urllib3.connectionpool._new_conn()]: Starting new HTTP connection (1): vizier.u-strasbg.fr:80\n",
      "DEBUG [urllib3.connectionpool._make_request()]: http://vizier.u-strasbg.fr:80 \"POST /viz-bin/votable HTTP/1.1\" 200 656\n",
      "DEBUG [urllib3.connectionpool._new_conn()]: Starting new HTTP connection (1): vizier.u-strasbg.fr:80\n",
      "DEBUG [urllib3.connectionpool._make_request()]: http://vizier.u-strasbg.fr:80 \"POST /viz-bin/votable HTTP/1.1\" 200 689\n",
      "DEBUG [urllib3.connectionpool._new_conn()]: Starting new HTTPS connection (1): heasarc.gsfc.nasa.gov:443\n",
      "DEBUG [urllib3.connectionpool._make_request()]: https://heasarc.gsfc.nasa.gov:443 \"GET /cgi-bin/tess/webtess/wtv.py?Entry=122.89055%2C+-57.315234 HTTP/1.1\" 200 None\n",
      "https://heasarc.gsfc.nasa.gov/cgi-bin/tess/webtess/wtv.py?Entry=<SkyCoord (ICRS): (ra, dec) in deg\n",
      "    (122.89055, -57.315234)>\n",
      "[8, 9, 10] <class 'list'>\n",
      "# Loading QLP lightcurves\n",
      "342167886 <class 'int'>\n",
      "NO JUICE Unnamed: 0                                                 1671\n",
      "dec                                                    -57.3152\n",
      "dur                                                     0.20875\n",
      "file          All_OsbornMarttiK2Monos.csv;All_OsbornMarttiK2...\n",
      "id                                                  3.42168e+08\n",
      "mission                                                    TESS\n",
      "ra                                                      122.891\n",
      "tcen                                                     3694.5\n",
      "Name: 178, dtype: object\n",
      "Breaking because status = COMPLETE\n",
      "TESS object\n",
      "DEBUG [urllib3.connectionpool._new_conn()]: Starting new HTTP connection (1): vizier.u-strasbg.fr:80\n",
      "DEBUG [urllib3.connectionpool._make_request()]: http://vizier.u-strasbg.fr:80 \"POST /viz-bin/votable HTTP/1.1\" 200 657\n",
      "DEBUG [urllib3.connectionpool._new_conn()]: Starting new HTTP connection (1): vizier.u-strasbg.fr:80\n",
      "DEBUG [urllib3.connectionpool._make_request()]: http://vizier.u-strasbg.fr:80 \"POST /viz-bin/votable HTTP/1.1\" 200 689\n",
      "DEBUG [urllib3.connectionpool._new_conn()]: Starting new HTTPS connection (1): heasarc.gsfc.nasa.gov:443\n",
      "DEBUG [urllib3.connectionpool._make_request()]: https://heasarc.gsfc.nasa.gov:443 \"GET /cgi-bin/tess/webtess/wtv.py?Entry=139.25588%2C+-26.700654999999998 HTTP/1.1\" 200 None\n",
      "https://heasarc.gsfc.nasa.gov/cgi-bin/tess/webtess/wtv.py?Entry=<SkyCoord (ICRS): (ra, dec) in deg\n",
      "    (139.25588, -26.700655)>\n",
      "[8] <class 'list'>\n",
      "# Loading QLP lightcurves\n",
      "70561926 <class 'int'>\n",
      "NO JUICE Unnamed: 0                                 1673\n",
      "dec                                    -26.7007\n",
      "dur                                       0.265\n",
      "file          U-shaped_good_pcs_steven_tess.csv\n",
      "id                                  7.05619e+07\n",
      "mission                                    TESS\n",
      "ra                                      139.256\n",
      "tcen                                    3690.06\n",
      "Name: 180, dtype: object\n",
      "Breaking because status = COMPLETE\n",
      "TESS object\n",
      "DEBUG [urllib3.connectionpool._new_conn()]: Starting new HTTP connection (1): vizier.u-strasbg.fr:80\n",
      "DEBUG [urllib3.connectionpool._make_request()]: http://vizier.u-strasbg.fr:80 \"POST /viz-bin/votable HTTP/1.1\" 200 658\n",
      "DEBUG [urllib3.connectionpool._new_conn()]: Starting new HTTP connection (1): vizier.u-strasbg.fr:80\n",
      "DEBUG [urllib3.connectionpool._make_request()]: http://vizier.u-strasbg.fr:80 \"POST /viz-bin/votable HTTP/1.1\" 200 689\n",
      "DEBUG [urllib3.connectionpool._new_conn()]: Starting new HTTPS connection (1): heasarc.gsfc.nasa.gov:443\n",
      "DEBUG [urllib3.connectionpool._make_request()]: https://heasarc.gsfc.nasa.gov:443 \"GET /cgi-bin/tess/webtess/wtv.py?Entry=148.725178%2C+-14.939785 HTTP/1.1\" 200 None\n",
      "https://heasarc.gsfc.nasa.gov/cgi-bin/tess/webtess/wtv.py?Entry=<SkyCoord (ICRS): (ra, dec) in deg\n",
      "    (148.725178, -14.939785)>\n",
      "[8] <class 'list'>\n",
      "# Loading QLP lightcurves\n",
      "348902558 <class 'int'>\n",
      "NO JUICE Unnamed: 0                                                 1675\n",
      "dec                                                    -14.9398\n",
      "dur                                                    0.191667\n",
      "file          U-shaped_good_pcs_steven_tess.csv;steven_martt...\n",
      "id                                                  3.48903e+08\n",
      "mission                                                    TESS\n",
      "ra                                                      148.725\n",
      "tcen                                                    3695.28\n",
      "Name: 182, dtype: object\n"
     ]
    },
    {
     "name": "stdout",
     "output_type": "stream",
     "text": [
      "Breaking because status = COMPLETE\n",
      "TESS object\n",
      "DEBUG [urllib3.connectionpool._new_conn()]: Starting new HTTP connection (1): vizier.u-strasbg.fr:80\n",
      "DEBUG [urllib3.connectionpool._make_request()]: http://vizier.u-strasbg.fr:80 \"POST /viz-bin/votable HTTP/1.1\" 200 656\n",
      "DEBUG [urllib3.connectionpool._new_conn()]: Starting new HTTP connection (1): vizier.u-strasbg.fr:80\n",
      "DEBUG [urllib3.connectionpool._make_request()]: http://vizier.u-strasbg.fr:80 \"POST /viz-bin/votable HTTP/1.1\" 200 690\n",
      "DEBUG [urllib3.connectionpool._new_conn()]: Starting new HTTPS connection (1): heasarc.gsfc.nasa.gov:443\n",
      "DEBUG [urllib3.connectionpool._make_request()]: https://heasarc.gsfc.nasa.gov:443 \"GET /cgi-bin/tess/webtess/wtv.py?Entry=142.991397%2C+-7.959691499999999 HTTP/1.1\" 200 None\n",
      "https://heasarc.gsfc.nasa.gov/cgi-bin/tess/webtess/wtv.py?Entry=<SkyCoord (ICRS): (ra, dec) in deg\n",
      "    (142.991397, -7.9596915)>\n",
      "[8] <class 'list'>\n",
      "TESS file\n",
      "4345 points masked in lc of 17755\n",
      "transit mask: <class 'numpy.ndarray'> 14555 0 <class 'numpy.ndarray'> 14555 True\n",
      "00 - Checks complete.  SNR: 48.60834  SNR_r: 14.02487  variability: -547.400  centroid: 14.24717 | flag: planet\n",
      "DEBUG [matplotlib.backends.backend_pdf.fontName()]: Assigning font /b'F1' = '/Users/hosborn/transits/lib/python3.7/site-packages/matplotlib/mpl-data/fonts/ttf/DejaVuSans.ttf'\n",
      "DEBUG [matplotlib.backends.backend_pdf.writeFonts()]: Embedding font /Users/hosborn/transits/lib/python3.7/site-packages/matplotlib/mpl-data/fonts/ttf/DejaVuSans.ttf.\n",
      "DEBUG [matplotlib.backends.backend_pdf.writeFonts()]: Writing TrueType font.\n",
      "Breaking because status = COMPLETE\n",
      "TESS object\n",
      "DEBUG [urllib3.connectionpool._new_conn()]: Starting new HTTP connection (1): vizier.u-strasbg.fr:80\n",
      "DEBUG [urllib3.connectionpool._make_request()]: http://vizier.u-strasbg.fr:80 \"POST /viz-bin/votable HTTP/1.1\" 200 658\n",
      "DEBUG [urllib3.connectionpool._new_conn()]: Starting new HTTP connection (1): vizier.u-strasbg.fr:80\n",
      "DEBUG [urllib3.connectionpool._make_request()]: http://vizier.u-strasbg.fr:80 \"POST /viz-bin/votable HTTP/1.1\" 200 689\n",
      "DEBUG [urllib3.connectionpool._new_conn()]: Starting new HTTPS connection (1): heasarc.gsfc.nasa.gov:443\n",
      "DEBUG [urllib3.connectionpool._make_request()]: https://heasarc.gsfc.nasa.gov:443 \"GET /cgi-bin/tess/webtess/wtv.py?Entry=136.172911%2C+-10.315599 HTTP/1.1\" 200 None\n",
      "https://heasarc.gsfc.nasa.gov/cgi-bin/tess/webtess/wtv.py?Entry=<SkyCoord (ICRS): (ra, dec) in deg\n",
      "    (136.172911, -10.315599)>\n",
      "[8] <class 'list'>\n",
      "# Loading QLP lightcurves\n",
      "95862901 <class 'int'>\n",
      "NO JUICE Unnamed: 0                                                 1679\n",
      "dec                                                    -10.3156\n",
      "dur                                                    0.509167\n",
      "file          U-shaped_good_pcs_steven_tess.csv;steven_martt...\n",
      "id                                                  9.58629e+07\n",
      "mission                                                    TESS\n",
      "ra                                                      136.173\n",
      "tcen                                                    3703.95\n",
      "Name: 186, dtype: object\n",
      "Breaking because status = COMPLETE\n",
      "TESS object\n",
      "500 Error 500:\n",
      "null\n",
      "NO JUICE Unnamed: 0                                                 1681\n",
      "dec                                                    -37.3416\n",
      "dur                                                      0.1525\n",
      "file          U-shaped_good_pcs_steven_tess.csv;steven_martt...\n",
      "id                                                  1.90721e+08\n",
      "mission                                                    TESS\n",
      "ra                                                      133.755\n",
      "tcen                                                    3687.55\n",
      "Name: 188, dtype: object\n",
      "Breaking because status = COMPLETE\n",
      "TESS object\n",
      "500 Error 500:\n",
      "null\n",
      "NO JUICE Unnamed: 0                                                 1683\n",
      "dec                                                    -58.5286\n",
      "dur                                                    0.214167\n",
      "file          lacourse_jacobs_k2_table.csv;All_OsbornMarttiK...\n",
      "id                                                  8.97024e+07\n",
      "mission                                                    TESS\n",
      "ra                                                       127.65\n",
      "tcen                                                     3691.1\n",
      "Name: 190, dtype: object\n",
      "Breaking because status = COMPLETE\n",
      "TESS object\n",
      "DEBUG [urllib3.connectionpool._new_conn()]: Starting new HTTP connection (1): vizier.u-strasbg.fr:80\n",
      "DEBUG [urllib3.connectionpool._make_request()]: http://vizier.u-strasbg.fr:80 \"POST /viz-bin/votable HTTP/1.1\" 200 655\n",
      "DEBUG [urllib3.connectionpool._new_conn()]: Starting new HTTP connection (1): vizier.u-strasbg.fr:80\n",
      "DEBUG [urllib3.connectionpool._make_request()]: http://vizier.u-strasbg.fr:80 \"POST /viz-bin/votable HTTP/1.1\" 200 688\n",
      "DEBUG [urllib3.connectionpool._new_conn()]: Starting new HTTPS connection (1): heasarc.gsfc.nasa.gov:443\n",
      "DEBUG [urllib3.connectionpool._make_request()]: https://heasarc.gsfc.nasa.gov:443 \"GET /cgi-bin/tess/webtess/wtv.py?Entry=156.747889%2C+-52.469429000000005 HTTP/1.1\" 200 None\n",
      "https://heasarc.gsfc.nasa.gov/cgi-bin/tess/webtess/wtv.py?Entry=<SkyCoord (ICRS): (ra, dec) in deg\n",
      "    (156.747889, -52.469429)>\n",
      "[9, 10] <class 'list'>\n",
      "TESS file\n",
      "1696 points masked in lc of 18187\n",
      "TESS file\n",
      "1582 points masked in lc of 18900\n",
      "[0, 1]\n",
      "transit mask: <class 'numpy.ndarray'> 35534 0 <class 'numpy.ndarray'> 35534 True\n",
      "00 - Checks complete.  SNR: 32.85368  SNR_r: 21.19813  variability: -166.492  centroid: 12.83062 | flag: planet\n",
      "DEBUG [matplotlib.backends.backend_pdf.fontName()]: Assigning font /b'F1' = '/Users/hosborn/transits/lib/python3.7/site-packages/matplotlib/mpl-data/fonts/ttf/DejaVuSans.ttf'\n",
      "DEBUG [matplotlib.backends.backend_pdf.writeFonts()]: Embedding font /Users/hosborn/transits/lib/python3.7/site-packages/matplotlib/mpl-data/fonts/ttf/DejaVuSans.ttf.\n",
      "DEBUG [matplotlib.backends.backend_pdf.writeFonts()]: Writing TrueType font.\n",
      "Breaking because status = COMPLETE\n",
      "TESS object\n",
      "DEBUG [urllib3.connectionpool._new_conn()]: Starting new HTTP connection (1): vizier.u-strasbg.fr:80\n",
      "DEBUG [urllib3.connectionpool._make_request()]: http://vizier.u-strasbg.fr:80 \"POST /viz-bin/votable HTTP/1.1\" 200 657\n",
      "DEBUG [urllib3.connectionpool._new_conn()]: Starting new HTTP connection (1): vizier.u-strasbg.fr:80\n",
      "DEBUG [urllib3.connectionpool._make_request()]: http://vizier.u-strasbg.fr:80 \"POST /viz-bin/votable HTTP/1.1\" 200 689\n",
      "DEBUG [urllib3.connectionpool._new_conn()]: Starting new HTTPS connection (1): heasarc.gsfc.nasa.gov:443\n",
      "DEBUG [urllib3.connectionpool._make_request()]: https://heasarc.gsfc.nasa.gov:443 \"GET /cgi-bin/tess/webtess/wtv.py?Entry=143.745584%2C+-65.472258 HTTP/1.1\" 200 None\n",
      "https://heasarc.gsfc.nasa.gov/cgi-bin/tess/webtess/wtv.py?Entry=<SkyCoord (ICRS): (ra, dec) in deg\n",
      "    (143.745584, -65.472258)>\n",
      "[9, 10, 11] <class 'list'>\n",
      "# Loading QLP lightcurves\n",
      "361158915 <class 'int'>\n",
      "NO JUICE Unnamed: 0                                                 1687\n",
      "dec                                                    -65.4723\n",
      "dur                                                    0.340833\n",
      "file          All_OsbornMarttiK2Monos.csv;All_OsbornMarttiK2...\n",
      "id                                                  3.61159e+08\n",
      "mission                                                    TESS\n",
      "ra                                                      143.746\n",
      "tcen                                                    3713.34\n",
      "Name: 194, dtype: object\n",
      "transit mask: <class 'numpy.ndarray'> 17337 0 <class 'numpy.ndarray'> 17337 True\n"
     ]
    },
    {
     "name": "stderr",
     "output_type": "stream",
     "text": [
      "INFO (theano.gof.compilelock): Waiting for existing lock by process '20511' (I am process '19630')\n"
     ]
    },
    {
     "name": "stdout",
     "output_type": "stream",
     "text": [
      "INFO  [theano.gof.compilelock.lock()]: Waiting for existing lock by process '20511' (I am process '19630')\n"
     ]
    },
    {
     "name": "stderr",
     "output_type": "stream",
     "text": [
      "INFO (theano.gof.compilelock): To manually release the lock, delete /Users/hosborn/.theano/compiledir_Darwin-19.3.0-x86_64-i386-64bit-i386-3.7.6-64/lock_dir\n"
     ]
    },
    {
     "name": "stdout",
     "output_type": "stream",
     "text": [
      "INFO  [theano.gof.compilelock.lock()]: To manually release the lock, delete /Users/hosborn/.theano/compiledir_Darwin-19.3.0-x86_64-i386-64bit-i386-3.7.6-64/lock_dir\n"
     ]
    },
    {
     "name": "stderr",
     "output_type": "stream",
     "text": [
      "INFO (theano.gof.compilelock): Waiting for existing lock by process '20511' (I am process '19630')\n"
     ]
    },
    {
     "name": "stdout",
     "output_type": "stream",
     "text": [
      "INFO  [theano.gof.compilelock.lock()]: Waiting for existing lock by process '20511' (I am process '19630')\n"
     ]
    },
    {
     "name": "stderr",
     "output_type": "stream",
     "text": [
      "INFO (theano.gof.compilelock): To manually release the lock, delete /Users/hosborn/.theano/compiledir_Darwin-19.3.0-x86_64-i386-64bit-i386-3.7.6-64/lock_dir\n"
     ]
    },
    {
     "name": "stdout",
     "output_type": "stream",
     "text": [
      "INFO  [theano.gof.compilelock.lock()]: To manually release the lock, delete /Users/hosborn/.theano/compiledir_Darwin-19.3.0-x86_64-i386-64bit-i386-3.7.6-64/lock_dir\n"
     ]
    },
    {
     "name": "stderr",
     "output_type": "stream",
     "text": [
      "INFO (theano.gof.compilelock): Waiting for existing lock by process '20511' (I am process '19630')\n"
     ]
    },
    {
     "name": "stdout",
     "output_type": "stream",
     "text": [
      "INFO  [theano.gof.compilelock.lock()]: Waiting for existing lock by process '20511' (I am process '19630')\n"
     ]
    },
    {
     "name": "stderr",
     "output_type": "stream",
     "text": [
      "INFO (theano.gof.compilelock): To manually release the lock, delete /Users/hosborn/.theano/compiledir_Darwin-19.3.0-x86_64-i386-64bit-i386-3.7.6-64/lock_dir\n"
     ]
    },
    {
     "name": "stdout",
     "output_type": "stream",
     "text": [
      "INFO  [theano.gof.compilelock.lock()]: To manually release the lock, delete /Users/hosborn/.theano/compiledir_Darwin-19.3.0-x86_64-i386-64bit-i386-3.7.6-64/lock_dir\n"
     ]
    },
    {
     "name": "stderr",
     "output_type": "stream",
     "text": [
      "INFO (theano.gof.compilelock): Waiting for existing lock by process '20511' (I am process '19630')\n"
     ]
    },
    {
     "name": "stdout",
     "output_type": "stream",
     "text": [
      "INFO  [theano.gof.compilelock.lock()]: Waiting for existing lock by process '20511' (I am process '19630')\n"
     ]
    },
    {
     "name": "stderr",
     "output_type": "stream",
     "text": [
      "INFO (theano.gof.compilelock): To manually release the lock, delete /Users/hosborn/.theano/compiledir_Darwin-19.3.0-x86_64-i386-64bit-i386-3.7.6-64/lock_dir\n"
     ]
    },
    {
     "name": "stdout",
     "output_type": "stream",
     "text": [
      "INFO  [theano.gof.compilelock.lock()]: To manually release the lock, delete /Users/hosborn/.theano/compiledir_Darwin-19.3.0-x86_64-i386-64bit-i386-3.7.6-64/lock_dir\n"
     ]
    },
    {
     "name": "stderr",
     "output_type": "stream",
     "text": [
      "INFO (theano.gof.compilelock): Waiting for existing lock by process '20511' (I am process '19630')\n"
     ]
    },
    {
     "name": "stdout",
     "output_type": "stream",
     "text": [
      "INFO  [theano.gof.compilelock.lock()]: Waiting for existing lock by process '20511' (I am process '19630')\n"
     ]
    },
    {
     "name": "stderr",
     "output_type": "stream",
     "text": [
      "INFO (theano.gof.compilelock): To manually release the lock, delete /Users/hosborn/.theano/compiledir_Darwin-19.3.0-x86_64-i386-64bit-i386-3.7.6-64/lock_dir\n"
     ]
    },
    {
     "name": "stdout",
     "output_type": "stream",
     "text": [
      "INFO  [theano.gof.compilelock.lock()]: To manually release the lock, delete /Users/hosborn/.theano/compiledir_Darwin-19.3.0-x86_64-i386-64bit-i386-3.7.6-64/lock_dir\n"
     ]
    },
    {
     "name": "stderr",
     "output_type": "stream",
     "text": [
      "INFO (theano.gof.compilelock): Waiting for existing lock by process '20511' (I am process '19630')\n"
     ]
    },
    {
     "name": "stdout",
     "output_type": "stream",
     "text": [
      "INFO  [theano.gof.compilelock.lock()]: Waiting for existing lock by process '20511' (I am process '19630')\n"
     ]
    },
    {
     "name": "stderr",
     "output_type": "stream",
     "text": [
      "INFO (theano.gof.compilelock): To manually release the lock, delete /Users/hosborn/.theano/compiledir_Darwin-19.3.0-x86_64-i386-64bit-i386-3.7.6-64/lock_dir\n"
     ]
    },
    {
     "name": "stdout",
     "output_type": "stream",
     "text": [
      "INFO  [theano.gof.compilelock.lock()]: To manually release the lock, delete /Users/hosborn/.theano/compiledir_Darwin-19.3.0-x86_64-i386-64bit-i386-3.7.6-64/lock_dir\n"
     ]
    },
    {
     "name": "stderr",
     "output_type": "stream",
     "text": [
      "INFO (theano.gof.compilelock): Waiting for existing lock by process '20511' (I am process '19630')\n"
     ]
    },
    {
     "name": "stdout",
     "output_type": "stream",
     "text": [
      "INFO  [theano.gof.compilelock.lock()]: Waiting for existing lock by process '20511' (I am process '19630')\n"
     ]
    },
    {
     "name": "stderr",
     "output_type": "stream",
     "text": [
      "INFO (theano.gof.compilelock): To manually release the lock, delete /Users/hosborn/.theano/compiledir_Darwin-19.3.0-x86_64-i386-64bit-i386-3.7.6-64/lock_dir\n"
     ]
    },
    {
     "name": "stdout",
     "output_type": "stream",
     "text": [
      "INFO  [theano.gof.compilelock.lock()]: To manually release the lock, delete /Users/hosborn/.theano/compiledir_Darwin-19.3.0-x86_64-i386-64bit-i386-3.7.6-64/lock_dir\n"
     ]
    },
    {
     "name": "stderr",
     "output_type": "stream",
     "text": [
      "INFO (theano.gof.compilelock): Waiting for existing lock by process '20511' (I am process '19630')\n"
     ]
    },
    {
     "name": "stdout",
     "output_type": "stream",
     "text": [
      "INFO  [theano.gof.compilelock.lock()]: Waiting for existing lock by process '20511' (I am process '19630')\n"
     ]
    },
    {
     "name": "stderr",
     "output_type": "stream",
     "text": [
      "INFO (theano.gof.compilelock): To manually release the lock, delete /Users/hosborn/.theano/compiledir_Darwin-19.3.0-x86_64-i386-64bit-i386-3.7.6-64/lock_dir\n"
     ]
    },
    {
     "name": "stdout",
     "output_type": "stream",
     "text": [
      "INFO  [theano.gof.compilelock.lock()]: To manually release the lock, delete /Users/hosborn/.theano/compiledir_Darwin-19.3.0-x86_64-i386-64bit-i386-3.7.6-64/lock_dir\n"
     ]
    },
    {
     "name": "stderr",
     "output_type": "stream",
     "text": [
      "INFO (theano.gof.compilelock): Waiting for existing lock by process '20511' (I am process '19630')\n"
     ]
    },
    {
     "name": "stdout",
     "output_type": "stream",
     "text": [
      "INFO  [theano.gof.compilelock.lock()]: Waiting for existing lock by process '20511' (I am process '19630')\n"
     ]
    },
    {
     "name": "stderr",
     "output_type": "stream",
     "text": [
      "INFO (theano.gof.compilelock): To manually release the lock, delete /Users/hosborn/.theano/compiledir_Darwin-19.3.0-x86_64-i386-64bit-i386-3.7.6-64/lock_dir\n"
     ]
    },
    {
     "name": "stdout",
     "output_type": "stream",
     "text": [
      "INFO  [theano.gof.compilelock.lock()]: To manually release the lock, delete /Users/hosborn/.theano/compiledir_Darwin-19.3.0-x86_64-i386-64bit-i386-3.7.6-64/lock_dir\n"
     ]
    },
    {
     "name": "stderr",
     "output_type": "stream",
     "text": [
      "INFO (theano.gof.compilelock): Waiting for existing lock by process '20511' (I am process '19630')\n"
     ]
    },
    {
     "name": "stdout",
     "output_type": "stream",
     "text": [
      "INFO  [theano.gof.compilelock.lock()]: Waiting for existing lock by process '20511' (I am process '19630')\n"
     ]
    },
    {
     "name": "stderr",
     "output_type": "stream",
     "text": [
      "INFO (theano.gof.compilelock): To manually release the lock, delete /Users/hosborn/.theano/compiledir_Darwin-19.3.0-x86_64-i386-64bit-i386-3.7.6-64/lock_dir\n"
     ]
    },
    {
     "name": "stdout",
     "output_type": "stream",
     "text": [
      "INFO  [theano.gof.compilelock.lock()]: To manually release the lock, delete /Users/hosborn/.theano/compiledir_Darwin-19.3.0-x86_64-i386-64bit-i386-3.7.6-64/lock_dir\n"
     ]
    },
    {
     "name": "stderr",
     "output_type": "stream",
     "text": [
      "INFO (theano.gof.compilelock): Waiting for existing lock by process '20511' (I am process '19630')\n"
     ]
    },
    {
     "name": "stdout",
     "output_type": "stream",
     "text": [
      "INFO  [theano.gof.compilelock.lock()]: Waiting for existing lock by process '20511' (I am process '19630')\n"
     ]
    },
    {
     "name": "stderr",
     "output_type": "stream",
     "text": [
      "INFO (theano.gof.compilelock): To manually release the lock, delete /Users/hosborn/.theano/compiledir_Darwin-19.3.0-x86_64-i386-64bit-i386-3.7.6-64/lock_dir\n"
     ]
    },
    {
     "name": "stdout",
     "output_type": "stream",
     "text": [
      "INFO  [theano.gof.compilelock.lock()]: To manually release the lock, delete /Users/hosborn/.theano/compiledir_Darwin-19.3.0-x86_64-i386-64bit-i386-3.7.6-64/lock_dir\n"
     ]
    },
    {
     "name": "stderr",
     "output_type": "stream",
     "text": [
      "INFO (theano.gof.compilelock): Waiting for existing lock by process '20511' (I am process '19630')\n"
     ]
    },
    {
     "name": "stdout",
     "output_type": "stream",
     "text": [
      "INFO  [theano.gof.compilelock.lock()]: Waiting for existing lock by process '20511' (I am process '19630')\n"
     ]
    },
    {
     "name": "stderr",
     "output_type": "stream",
     "text": [
      "INFO (theano.gof.compilelock): To manually release the lock, delete /Users/hosborn/.theano/compiledir_Darwin-19.3.0-x86_64-i386-64bit-i386-3.7.6-64/lock_dir\n"
     ]
    },
    {
     "name": "stdout",
     "output_type": "stream",
     "text": [
      "INFO  [theano.gof.compilelock.lock()]: To manually release the lock, delete /Users/hosborn/.theano/compiledir_Darwin-19.3.0-x86_64-i386-64bit-i386-3.7.6-64/lock_dir\n",
      "00 - Checks complete.  SNR: 36.36448  SNR_r: 20.14306  variability: -182.290  centroid: 13.83982 | flag: planet\n",
      "DEBUG [matplotlib.backends.backend_pdf.fontName()]: Assigning font /b'F1' = '/Users/hosborn/transits/lib/python3.7/site-packages/matplotlib/mpl-data/fonts/ttf/DejaVuSans.ttf'\n",
      "DEBUG [matplotlib.backends.backend_pdf.writeFonts()]: Embedding font /Users/hosborn/transits/lib/python3.7/site-packages/matplotlib/mpl-data/fonts/ttf/DejaVuSans.ttf.\n",
      "DEBUG [matplotlib.backends.backend_pdf.writeFonts()]: Writing TrueType font.\n",
      "Breaking because status = COMPLETE\n",
      "TESS object\n",
      "DEBUG [urllib3.connectionpool._new_conn()]: Starting new HTTP connection (1): vizier.u-strasbg.fr:80\n",
      "DEBUG [urllib3.connectionpool._make_request()]: http://vizier.u-strasbg.fr:80 \"POST /viz-bin/votable HTTP/1.1\" 200 657\n",
      "DEBUG [urllib3.connectionpool._new_conn()]: Starting new HTTP connection (1): vizier.u-strasbg.fr:80\n",
      "DEBUG [urllib3.connectionpool._make_request()]: http://vizier.u-strasbg.fr:80 \"POST /viz-bin/votable HTTP/1.1\" 200 690\n",
      "DEBUG [urllib3.connectionpool._new_conn()]: Starting new HTTPS connection (1): heasarc.gsfc.nasa.gov:443\n",
      "DEBUG [urllib3.connectionpool._make_request()]: https://heasarc.gsfc.nasa.gov:443 \"GET /cgi-bin/tess/webtess/wtv.py?Entry=168.348454%2C+-35.397559 HTTP/1.1\" 200 None\n",
      "https://heasarc.gsfc.nasa.gov/cgi-bin/tess/webtess/wtv.py?Entry=<SkyCoord (ICRS): (ra, dec) in deg\n",
      "    (168.348454, -35.397559)>\n",
      "[9, 10] <class 'list'>\n",
      "# Loading QLP lightcurves\n",
      "23474568 <class 'int'>\n",
      "NO JUICE Unnamed: 0                                                 1691\n",
      "dec                                                    -35.3976\n",
      "dur                                                       0.235\n",
      "file          lacourse_jacobs_k2_table.csv;All_OsbornMarttiK...\n",
      "id                                                  2.34746e+07\n",
      "mission                                                    TESS\n",
      "ra                                                      168.348\n",
      "tcen                                                    3731.04\n",
      "Name: 198, dtype: object\n",
      "Breaking because status = COMPLETE\n",
      "TESS object\n",
      "DEBUG [urllib3.connectionpool._new_conn()]: Starting new HTTP connection (1): vizier.u-strasbg.fr:80\n",
      "DEBUG [urllib3.connectionpool._make_request()]: http://vizier.u-strasbg.fr:80 \"POST /viz-bin/votable HTTP/1.1\" 200 657\n",
      "DEBUG [urllib3.connectionpool._new_conn()]: Starting new HTTP connection (1): vizier.u-strasbg.fr:80\n",
      "DEBUG [urllib3.connectionpool._make_request()]: http://vizier.u-strasbg.fr:80 \"POST /viz-bin/votable HTTP/1.1\" 200 688\n",
      "DEBUG [urllib3.connectionpool._new_conn()]: Starting new HTTPS connection (1): heasarc.gsfc.nasa.gov:443\n",
      "DEBUG [urllib3.connectionpool._make_request()]: https://heasarc.gsfc.nasa.gov:443 \"GET /cgi-bin/tess/webtess/wtv.py?Entry=147.003118%2C+-49.339667 HTTP/1.1\" 200 None\n",
      "https://heasarc.gsfc.nasa.gov/cgi-bin/tess/webtess/wtv.py?Entry=<SkyCoord (ICRS): (ra, dec) in deg\n",
      "    (147.003118, -49.339667)>\n",
      "[9, 10] <class 'list'>\n",
      "# Loading QLP lightcurves\n",
      "445739739 <class 'int'>\n",
      "NO JUICE Unnamed: 0                                                 1693\n",
      "dec                                                    -49.3397\n",
      "dur                                                    0.251667\n",
      "file          lacourse_jacobs_k2_table.csv;All_OsbornMarttiK...\n",
      "id                                                   4.4574e+08\n",
      "mission                                                    TESS\n",
      "ra                                                      147.003\n",
      "tcen                                                    3712.19\n",
      "Name: 200, dtype: object\n",
      "Breaking because status = COMPLETE\n",
      "TESS object\n",
      "DEBUG [urllib3.connectionpool._new_conn()]: Starting new HTTP connection (1): vizier.u-strasbg.fr:80\n",
      "DEBUG [urllib3.connectionpool._make_request()]: http://vizier.u-strasbg.fr:80 \"POST /viz-bin/votable HTTP/1.1\" 200 656\n",
      "DEBUG [urllib3.connectionpool._new_conn()]: Starting new HTTP connection (1): vizier.u-strasbg.fr:80\n",
      "DEBUG [urllib3.connectionpool._make_request()]: http://vizier.u-strasbg.fr:80 \"POST /viz-bin/votable HTTP/1.1\" 200 689\n",
      "DEBUG [urllib3.connectionpool._new_conn()]: Starting new HTTPS connection (1): heasarc.gsfc.nasa.gov:443\n",
      "DEBUG [urllib3.connectionpool._make_request()]: https://heasarc.gsfc.nasa.gov:443 \"GET /cgi-bin/tess/webtess/wtv.py?Entry=149.328018%2C+-36.487078000000004 HTTP/1.1\" 200 None\n",
      "https://heasarc.gsfc.nasa.gov/cgi-bin/tess/webtess/wtv.py?Entry=<SkyCoord (ICRS): (ra, dec) in deg\n",
      "    (149.328018, -36.487078)>\n",
      "[9] <class 'list'>\n",
      "# Loading QLP lightcurves\n",
      "45780191 <class 'int'>\n",
      "NO JUICE Unnamed: 0                                                 1695\n",
      "dec                                                    -36.4871\n",
      "dur                                                     0.26375\n",
      "file          U-shaped_good_pcs_steven_tess.csv;steven_martt...\n",
      "id                                                  4.57802e+07\n",
      "mission                                                    TESS\n",
      "ra                                                      149.328\n",
      "tcen                                                    3716.99\n",
      "Name: 202, dtype: object\n",
      "Breaking because status = COMPLETE\n",
      "TESS object\n",
      "DEBUG [urllib3.connectionpool._new_conn()]: Starting new HTTP connection (1): vizier.u-strasbg.fr:80\n",
      "DEBUG [urllib3.connectionpool._make_request()]: http://vizier.u-strasbg.fr:80 \"POST /viz-bin/votable HTTP/1.1\" 200 657\n",
      "DEBUG [urllib3.connectionpool._new_conn()]: Starting new HTTP connection (1): vizier.u-strasbg.fr:80\n",
      "DEBUG [urllib3.connectionpool._make_request()]: http://vizier.u-strasbg.fr:80 \"POST /viz-bin/votable HTTP/1.1\" 200 690\n",
      "DEBUG [urllib3.connectionpool._new_conn()]: Starting new HTTPS connection (1): heasarc.gsfc.nasa.gov:443\n",
      "DEBUG [urllib3.connectionpool._make_request()]: https://heasarc.gsfc.nasa.gov:443 \"GET /cgi-bin/tess/webtess/wtv.py?Entry=149.487377%2C+-31.759860999999997 HTTP/1.1\" 200 None\n",
      "https://heasarc.gsfc.nasa.gov/cgi-bin/tess/webtess/wtv.py?Entry=<SkyCoord (ICRS): (ra, dec) in deg\n",
      "    (149.487377, -31.759861)>\n",
      "[9] <class 'list'>\n",
      "# Loading QLP lightcurves\n",
      "48369706 <class 'int'>\n",
      "NO JUICE Unnamed: 0                                                 1697\n",
      "dec                                                    -31.7599\n",
      "dur                                                    0.243333\n",
      "file          U-shaped_good_pcs_steven_tess.csv;steven_martt...\n",
      "id                                                  4.83697e+07\n",
      "mission                                                    TESS\n",
      "ra                                                      149.487\n",
      "tcen                                                    3720.21\n",
      "Name: 204, dtype: object\n",
      "Already processed Unnamed: 0                                 1699\n",
      "dec                                         NaN\n",
      "dur                                    0.454583\n",
      "file          U-shaped_good_pcs_steven_tess.csv\n",
      "id                                  4.43342e+08\n",
      "mission                                    TESS\n",
      "ra                                          NaN\n",
      "tcen                                    3721.72\n",
      "Name: 206, dtype: object\n",
      "Breaking because status = COMPLETE\n",
      "TESS object\n",
      "DEBUG [urllib3.connectionpool._new_conn()]: Starting new HTTP connection (1): vizier.u-strasbg.fr:80\n",
      "DEBUG [urllib3.connectionpool._make_request()]: http://vizier.u-strasbg.fr:80 \"POST /viz-bin/votable HTTP/1.1\" 200 657\n",
      "DEBUG [urllib3.connectionpool._new_conn()]: Starting new HTTP connection (1): vizier.u-strasbg.fr:80\n",
      "DEBUG [urllib3.connectionpool._make_request()]: http://vizier.u-strasbg.fr:80 \"POST /viz-bin/votable HTTP/1.1\" 200 689\n",
      "DEBUG [urllib3.connectionpool._new_conn()]: Starting new HTTPS connection (1): heasarc.gsfc.nasa.gov:443\n",
      "DEBUG [urllib3.connectionpool._make_request()]: https://heasarc.gsfc.nasa.gov:443 \"GET /cgi-bin/tess/webtess/wtv.py?Entry=198.15421%2C+-17.869097 HTTP/1.1\" 200 None\n",
      "https://heasarc.gsfc.nasa.gov/cgi-bin/tess/webtess/wtv.py?Entry=<SkyCoord (ICRS): (ra, dec) in deg\n",
      "    (198.15421, -17.869097)>\n",
      "[10] <class 'list'>\n",
      "# Loading QLP lightcurves\n",
      "308211363 <class 'int'>\n",
      "NO JUICE Unnamed: 0                                                 1701\n",
      "dec                                                    -17.8691\n",
      "dur                                                    0.302917\n",
      "file          All_OsbornMarttiK2Monos.csv;All_OsbornMarttiK2...\n",
      "id                                                  3.08211e+08\n",
      "mission                                                    TESS\n",
      "ra                                                      198.154\n",
      "tcen                                                    3747.39\n",
      "Name: 208, dtype: object\n"
     ]
    },
    {
     "name": "stdout",
     "output_type": "stream",
     "text": [
      "Breaking because status = COMPLETE\n",
      "TESS object\n",
      "DEBUG [urllib3.connectionpool._new_conn()]: Starting new HTTP connection (1): vizier.u-strasbg.fr:80\n",
      "DEBUG [urllib3.connectionpool._make_request()]: http://vizier.u-strasbg.fr:80 \"POST /viz-bin/votable HTTP/1.1\" 200 658\n",
      "DEBUG [urllib3.connectionpool._new_conn()]: Starting new HTTP connection (1): vizier.u-strasbg.fr:80\n",
      "DEBUG [urllib3.connectionpool._make_request()]: http://vizier.u-strasbg.fr:80 \"POST /viz-bin/votable HTTP/1.1\" 200 689\n",
      "DEBUG [urllib3.connectionpool._new_conn()]: Starting new HTTPS connection (1): heasarc.gsfc.nasa.gov:443\n",
      "DEBUG [urllib3.connectionpool._make_request()]: https://heasarc.gsfc.nasa.gov:443 \"GET /cgi-bin/tess/webtess/wtv.py?Entry=180.117835%2C+-47.235896000000004 HTTP/1.1\" 200 None\n",
      "https://heasarc.gsfc.nasa.gov/cgi-bin/tess/webtess/wtv.py?Entry=<SkyCoord (ICRS): (ra, dec) in deg\n",
      "    (180.117835, -47.235896)>\n",
      "[10] <class 'list'>\n",
      "# Loading QLP lightcurves\n",
      "272211411 <class 'int'>\n",
      "NO JUICE Unnamed: 0                                                 1703\n",
      "dec                                                    -47.2359\n",
      "dur                                                        0.26\n",
      "file          lacourse_jacobs_k2_table.csv;All_OsbornMarttiK...\n",
      "id                                                  2.72211e+08\n",
      "mission                                                    TESS\n",
      "ra                                                      180.118\n",
      "tcen                                                    3761.57\n",
      "Name: 210, dtype: object\n",
      "Breaking because status = COMPLETE\n",
      "TESS object\n",
      "DEBUG [urllib3.connectionpool._new_conn()]: Starting new HTTP connection (1): vizier.u-strasbg.fr:80\n",
      "DEBUG [urllib3.connectionpool._make_request()]: http://vizier.u-strasbg.fr:80 \"POST /viz-bin/votable HTTP/1.1\" 200 657\n",
      "DEBUG [urllib3.connectionpool._new_conn()]: Starting new HTTP connection (1): vizier.u-strasbg.fr:80\n",
      "DEBUG [urllib3.connectionpool._make_request()]: http://vizier.u-strasbg.fr:80 \"POST /viz-bin/votable HTTP/1.1\" 200 690\n",
      "DEBUG [urllib3.connectionpool._new_conn()]: Starting new HTTPS connection (1): heasarc.gsfc.nasa.gov:443\n",
      "DEBUG [urllib3.connectionpool._make_request()]: https://heasarc.gsfc.nasa.gov:443 \"GET /cgi-bin/tess/webtess/wtv.py?Entry=164.859599%2C+-56.623041 HTTP/1.1\" 200 None\n",
      "https://heasarc.gsfc.nasa.gov/cgi-bin/tess/webtess/wtv.py?Entry=<SkyCoord (ICRS): (ra, dec) in deg\n",
      "    (164.859599, -56.623041)>\n",
      "[10] <class 'list'>\n",
      "TESS file\n",
      "1341 points masked in lc of 18900\n",
      "transit mask: <class 'numpy.ndarray'> 18197 0 <class 'numpy.ndarray'> 18197 True\n"
     ]
    },
    {
     "name": "stderr",
     "output_type": "stream",
     "text": [
      "INFO (theano.gof.compilelock): Waiting for existing lock by process '20511' (I am process '19630')\n"
     ]
    },
    {
     "name": "stdout",
     "output_type": "stream",
     "text": [
      "INFO  [theano.gof.compilelock.lock()]: Waiting for existing lock by process '20511' (I am process '19630')\n"
     ]
    },
    {
     "name": "stderr",
     "output_type": "stream",
     "text": [
      "INFO (theano.gof.compilelock): To manually release the lock, delete /Users/hosborn/.theano/compiledir_Darwin-19.3.0-x86_64-i386-64bit-i386-3.7.6-64/lock_dir\n"
     ]
    },
    {
     "name": "stdout",
     "output_type": "stream",
     "text": [
      "INFO  [theano.gof.compilelock.lock()]: To manually release the lock, delete /Users/hosborn/.theano/compiledir_Darwin-19.3.0-x86_64-i386-64bit-i386-3.7.6-64/lock_dir\n"
     ]
    },
    {
     "name": "stderr",
     "output_type": "stream",
     "text": [
      "INFO (theano.gof.compilelock): Waiting for existing lock by process '20511' (I am process '19630')\n"
     ]
    },
    {
     "name": "stdout",
     "output_type": "stream",
     "text": [
      "INFO  [theano.gof.compilelock.lock()]: Waiting for existing lock by process '20511' (I am process '19630')\n"
     ]
    },
    {
     "name": "stderr",
     "output_type": "stream",
     "text": [
      "INFO (theano.gof.compilelock): To manually release the lock, delete /Users/hosborn/.theano/compiledir_Darwin-19.3.0-x86_64-i386-64bit-i386-3.7.6-64/lock_dir\n"
     ]
    },
    {
     "name": "stdout",
     "output_type": "stream",
     "text": [
      "INFO  [theano.gof.compilelock.lock()]: To manually release the lock, delete /Users/hosborn/.theano/compiledir_Darwin-19.3.0-x86_64-i386-64bit-i386-3.7.6-64/lock_dir\n"
     ]
    },
    {
     "name": "stderr",
     "output_type": "stream",
     "text": [
      "INFO (theano.gof.compilelock): Waiting for existing lock by process '20511' (I am process '19630')\n"
     ]
    },
    {
     "name": "stdout",
     "output_type": "stream",
     "text": [
      "INFO  [theano.gof.compilelock.lock()]: Waiting for existing lock by process '20511' (I am process '19630')\n"
     ]
    },
    {
     "name": "stderr",
     "output_type": "stream",
     "text": [
      "INFO (theano.gof.compilelock): To manually release the lock, delete /Users/hosborn/.theano/compiledir_Darwin-19.3.0-x86_64-i386-64bit-i386-3.7.6-64/lock_dir\n"
     ]
    },
    {
     "name": "stdout",
     "output_type": "stream",
     "text": [
      "INFO  [theano.gof.compilelock.lock()]: To manually release the lock, delete /Users/hosborn/.theano/compiledir_Darwin-19.3.0-x86_64-i386-64bit-i386-3.7.6-64/lock_dir\n"
     ]
    },
    {
     "name": "stderr",
     "output_type": "stream",
     "text": [
      "INFO (theano.gof.compilelock): Waiting for existing lock by process '20511' (I am process '19630')\n"
     ]
    },
    {
     "name": "stdout",
     "output_type": "stream",
     "text": [
      "INFO  [theano.gof.compilelock.lock()]: Waiting for existing lock by process '20511' (I am process '19630')\n"
     ]
    },
    {
     "name": "stderr",
     "output_type": "stream",
     "text": [
      "INFO (theano.gof.compilelock): To manually release the lock, delete /Users/hosborn/.theano/compiledir_Darwin-19.3.0-x86_64-i386-64bit-i386-3.7.6-64/lock_dir\n"
     ]
    },
    {
     "name": "stdout",
     "output_type": "stream",
     "text": [
      "INFO  [theano.gof.compilelock.lock()]: To manually release the lock, delete /Users/hosborn/.theano/compiledir_Darwin-19.3.0-x86_64-i386-64bit-i386-3.7.6-64/lock_dir\n"
     ]
    },
    {
     "name": "stderr",
     "output_type": "stream",
     "text": [
      "INFO (theano.gof.compilelock): Waiting for existing lock by process '20511' (I am process '19630')\n"
     ]
    },
    {
     "name": "stdout",
     "output_type": "stream",
     "text": [
      "INFO  [theano.gof.compilelock.lock()]: Waiting for existing lock by process '20511' (I am process '19630')\n"
     ]
    },
    {
     "name": "stderr",
     "output_type": "stream",
     "text": [
      "INFO (theano.gof.compilelock): To manually release the lock, delete /Users/hosborn/.theano/compiledir_Darwin-19.3.0-x86_64-i386-64bit-i386-3.7.6-64/lock_dir\n"
     ]
    },
    {
     "name": "stdout",
     "output_type": "stream",
     "text": [
      "INFO  [theano.gof.compilelock.lock()]: To manually release the lock, delete /Users/hosborn/.theano/compiledir_Darwin-19.3.0-x86_64-i386-64bit-i386-3.7.6-64/lock_dir\n"
     ]
    },
    {
     "name": "stderr",
     "output_type": "stream",
     "text": [
      "INFO (theano.gof.compilelock): Waiting for existing lock by process '20511' (I am process '19630')\n"
     ]
    },
    {
     "name": "stdout",
     "output_type": "stream",
     "text": [
      "INFO  [theano.gof.compilelock.lock()]: Waiting for existing lock by process '20511' (I am process '19630')\n"
     ]
    },
    {
     "name": "stderr",
     "output_type": "stream",
     "text": [
      "INFO (theano.gof.compilelock): To manually release the lock, delete /Users/hosborn/.theano/compiledir_Darwin-19.3.0-x86_64-i386-64bit-i386-3.7.6-64/lock_dir\n"
     ]
    },
    {
     "name": "stdout",
     "output_type": "stream",
     "text": [
      "INFO  [theano.gof.compilelock.lock()]: To manually release the lock, delete /Users/hosborn/.theano/compiledir_Darwin-19.3.0-x86_64-i386-64bit-i386-3.7.6-64/lock_dir\n",
      "00 - Checks complete.  SNR: 54.90194  SNR_r: 49.33007  variability: -666.153  centroid: 13.83273 | flag: planet\n",
      "DEBUG [matplotlib.backends.backend_pdf.fontName()]: Assigning font /b'F1' = '/Users/hosborn/transits/lib/python3.7/site-packages/matplotlib/mpl-data/fonts/ttf/DejaVuSans.ttf'\n",
      "DEBUG [matplotlib.backends.backend_pdf.writeFonts()]: Embedding font /Users/hosborn/transits/lib/python3.7/site-packages/matplotlib/mpl-data/fonts/ttf/DejaVuSans.ttf.\n",
      "DEBUG [matplotlib.backends.backend_pdf.writeFonts()]: Writing TrueType font.\n",
      "Already processed Unnamed: 0                                 1707\n",
      "dec                                         NaN\n",
      "dur                                     0.28125\n",
      "file          U-shaped_good_pcs_steven_tess.csv\n",
      "id                                   4.5798e+08\n",
      "mission                                    TESS\n",
      "ra                                          NaN\n",
      "tcen                                    3744.08\n",
      "Name: 214, dtype: object\n",
      "Breaking because status = COMPLETE\n",
      "TESS object\n",
      "DEBUG [urllib3.connectionpool._new_conn()]: Starting new HTTP connection (1): vizier.u-strasbg.fr:80\n",
      "DEBUG [urllib3.connectionpool._make_request()]: http://vizier.u-strasbg.fr:80 \"POST /viz-bin/votable HTTP/1.1\" 200 657\n",
      "DEBUG [urllib3.connectionpool._new_conn()]: Starting new HTTP connection (1): vizier.u-strasbg.fr:80\n",
      "DEBUG [urllib3.connectionpool._make_request()]: http://vizier.u-strasbg.fr:80 \"POST /viz-bin/votable HTTP/1.1\" 200 689\n",
      "DEBUG [urllib3.connectionpool._new_conn()]: Starting new HTTPS connection (1): heasarc.gsfc.nasa.gov:443\n",
      "DEBUG [urllib3.connectionpool._make_request()]: https://heasarc.gsfc.nasa.gov:443 \"GET /cgi-bin/tess/webtess/wtv.py?Entry=154.670065%2C+-71.45474300000001 HTTP/1.1\" 200 None\n",
      "https://heasarc.gsfc.nasa.gov/cgi-bin/tess/webtess/wtv.py?Entry=<SkyCoord (ICRS): (ra, dec) in deg\n",
      "    (154.670065, -71.454743)>\n",
      "[10, 11, 12] <class 'list'>\n",
      "# Loading QLP lightcurves\n",
      "454001278 <class 'int'>\n",
      "NO JUICE Unnamed: 0                                                 1709\n",
      "dec                                                    -71.4547\n",
      "dur                                                     0.19875\n",
      "file          U-shaped_good_pcs_steven_tess.csv;steven_martt...\n",
      "id                                                  4.54001e+08\n",
      "mission                                                    TESS\n",
      "ra                                                       154.67\n",
      "tcen                                                    3746.15\n",
      "Name: 216, dtype: object\n",
      "Breaking because status = COMPLETE\n",
      "TESS object\n",
      "DEBUG [urllib3.connectionpool._new_conn()]: Starting new HTTP connection (1): vizier.u-strasbg.fr:80\n",
      "DEBUG [urllib3.connectionpool._make_request()]: http://vizier.u-strasbg.fr:80 \"POST /viz-bin/votable HTTP/1.1\" 200 656\n",
      "DEBUG [urllib3.connectionpool._new_conn()]: Starting new HTTP connection (1): vizier.u-strasbg.fr:80\n",
      "DEBUG [urllib3.connectionpool._make_request()]: http://vizier.u-strasbg.fr:80 \"POST /viz-bin/votable HTTP/1.1\" 200 686\n",
      "DEBUG [urllib3.connectionpool._new_conn()]: Starting new HTTPS connection (1): heasarc.gsfc.nasa.gov:443\n",
      "DEBUG [urllib3.connectionpool._make_request()]: https://heasarc.gsfc.nasa.gov:443 \"GET /cgi-bin/tess/webtess/wtv.py?Entry=233.085046%2C+-25.433284 HTTP/1.1\" 200 None\n",
      "https://heasarc.gsfc.nasa.gov/cgi-bin/tess/webtess/wtv.py?Entry=<SkyCoord (ICRS): (ra, dec) in deg\n",
      "    (233.085046, -25.433284)>\n",
      "[11] <class 'list'>\n",
      "# Loading QLP lightcurves\n",
      "186072225 <class 'int'>\n",
      "NO JUICE Unnamed: 0                                                 1711\n",
      "dec                                                    -25.4333\n",
      "dur                                                      0.4275\n",
      "file          U-shaped_good_pcs_steven_tess.csv;steven_martt...\n",
      "id                                                  1.86072e+08\n",
      "mission                                                    TESS\n",
      "ra                                                      233.085\n",
      "tcen                                                    3775.41\n",
      "Name: 218, dtype: object\n",
      "Breaking because status = COMPLETE\n",
      "TESS object\n",
      "DEBUG [urllib3.connectionpool._new_conn()]: Starting new HTTP connection (1): vizier.u-strasbg.fr:80\n",
      "DEBUG [urllib3.connectionpool._make_request()]: http://vizier.u-strasbg.fr:80 \"POST /viz-bin/votable HTTP/1.1\" 200 657\n",
      "DEBUG [urllib3.connectionpool._new_conn()]: Starting new HTTP connection (1): vizier.u-strasbg.fr:80\n",
      "DEBUG [urllib3.connectionpool._make_request()]: http://vizier.u-strasbg.fr:80 \"POST /viz-bin/votable HTTP/1.1\" 200 689\n",
      "DEBUG [urllib3.connectionpool._new_conn()]: Starting new HTTPS connection (1): heasarc.gsfc.nasa.gov:443\n",
      "DEBUG [urllib3.connectionpool._make_request()]: https://heasarc.gsfc.nasa.gov:443 \"GET /cgi-bin/tess/webtess/wtv.py?Entry=185.733199%2C+-63.311145999999994 HTTP/1.1\" 200 None\n",
      "https://heasarc.gsfc.nasa.gov/cgi-bin/tess/webtess/wtv.py?Entry=<SkyCoord (ICRS): (ra, dec) in deg\n",
      "    (185.733199, -63.311146)>\n",
      "[11] <class 'list'>\n",
      "# Loading QLP lightcurves\n",
      "311327881 <class 'int'>\n",
      "NO JUICE Unnamed: 0                                                 1713\n",
      "dec                                                    -63.3111\n",
      "dur                                                     0.26625\n",
      "file          U-shaped_good_pcs_steven_tess.csv;steven_martt...\n",
      "id                                                  3.11328e+08\n",
      "mission                                                    TESS\n",
      "ra                                                      185.733\n",
      "tcen                                                    3770.07\n",
      "Name: 220, dtype: object\n",
      "Breaking because status = COMPLETE\n",
      "TESS object\n",
      "DEBUG [urllib3.connectionpool._new_conn()]: Starting new HTTP connection (1): vizier.u-strasbg.fr:80\n",
      "DEBUG [urllib3.connectionpool._make_request()]: http://vizier.u-strasbg.fr:80 \"POST /viz-bin/votable HTTP/1.1\" 200 658\n",
      "DEBUG [urllib3.connectionpool._new_conn()]: Starting new HTTP connection (1): vizier.u-strasbg.fr:80\n",
      "DEBUG [urllib3.connectionpool._make_request()]: http://vizier.u-strasbg.fr:80 \"POST /viz-bin/votable HTTP/1.1\" 200 689\n",
      "DEBUG [urllib3.connectionpool._new_conn()]: Starting new HTTPS connection (1): heasarc.gsfc.nasa.gov:443\n",
      "DEBUG [urllib3.connectionpool._make_request()]: https://heasarc.gsfc.nasa.gov:443 \"GET /cgi-bin/tess/webtess/wtv.py?Entry=243.71398%2C+-81.68046 HTTP/1.1\" 200 None\n",
      "https://heasarc.gsfc.nasa.gov/cgi-bin/tess/webtess/wtv.py?Entry=<SkyCoord (ICRS): (ra, dec) in deg\n",
      "    (243.71398, -81.68046)>\n",
      "[12, 13] <class 'list'>\n",
      "TESS file\n",
      "1041 points masked in lc of 20119\n",
      "TESS file\n",
      "913 points masked in lc of 20479\n",
      "[0, 1]\n",
      "transit mask: <class 'numpy.ndarray'> 39184 0 <class 'numpy.ndarray'> 39184 True\n",
      "00 - Checks complete.  SNR: 49.06213  SNR_r: 21.18724  variability: -449.077  centroid: 13.72875 | flag: planet\n",
      "DEBUG [matplotlib.backends.backend_pdf.fontName()]: Assigning font /b'F1' = '/Users/hosborn/transits/lib/python3.7/site-packages/matplotlib/mpl-data/fonts/ttf/DejaVuSans.ttf'\n",
      "DEBUG [matplotlib.backends.backend_pdf.writeFonts()]: Embedding font /Users/hosborn/transits/lib/python3.7/site-packages/matplotlib/mpl-data/fonts/ttf/DejaVuSans.ttf.\n",
      "DEBUG [matplotlib.backends.backend_pdf.writeFonts()]: Writing TrueType font.\n",
      "Breaking because status = COMPLETE\n",
      "TESS object\n",
      "500 Error 500:\n",
      "null\n",
      "NO JUICE Unnamed: 0                                                 1717\n",
      "dec                                                    -44.5874\n",
      "dur                                                    0.200417\n",
      "file          U-shaped_good_pcs_steven_tess.csv;steven_martt...\n",
      "id                                                  2.31682e+08\n",
      "mission                                                    TESS\n",
      "ra                                                      249.843\n",
      "tcen                                                    3814.24\n",
      "Name: 224, dtype: object\n",
      "Already processed Unnamed: 0                                 1719\n",
      "dec                                         NaN\n",
      "dur                                    0.154167\n",
      "file          U-shaped_good_pcs_steven_tess.csv\n",
      "id                                  2.66267e+08\n",
      "mission                                    TESS\n",
      "ra                                          NaN\n",
      "tcen                                    3813.21\n",
      "Name: 226, dtype: object\n"
     ]
    },
    {
     "name": "stdout",
     "output_type": "stream",
     "text": [
      "Breaking because status = COMPLETE\n",
      "TESS object\n",
      "DEBUG [urllib3.connectionpool._new_conn()]: Starting new HTTP connection (1): vizier.u-strasbg.fr:80\n",
      "DEBUG [urllib3.connectionpool._make_request()]: http://vizier.u-strasbg.fr:80 \"POST /viz-bin/votable HTTP/1.1\" 200 657\n",
      "DEBUG [urllib3.connectionpool._new_conn()]: Starting new HTTP connection (1): vizier.u-strasbg.fr:80\n",
      "DEBUG [urllib3.connectionpool._make_request()]: http://vizier.u-strasbg.fr:80 \"POST /viz-bin/votable HTTP/1.1\" 200 688\n",
      "DEBUG [urllib3.connectionpool._new_conn()]: Starting new HTTPS connection (1): heasarc.gsfc.nasa.gov:443\n",
      "DEBUG [urllib3.connectionpool._make_request()]: https://heasarc.gsfc.nasa.gov:443 \"GET /cgi-bin/tess/webtess/wtv.py?Entry=270.606358%2C+-67.924756 HTTP/1.1\" 200 None\n",
      "https://heasarc.gsfc.nasa.gov/cgi-bin/tess/webtess/wtv.py?Entry=<SkyCoord (ICRS): (ra, dec) in deg\n",
      "    (270.606358, -67.924756)>\n",
      "[12, 13] <class 'list'>\n",
      "# Loading QLP lightcurves\n",
      "295251011 <class 'int'>\n",
      "NO JUICE Unnamed: 0                                                 1721\n",
      "dec                                                    -67.9248\n",
      "dur                                                      0.2325\n",
      "file          U-shaped_good_pcs_steven_tess.csv;steven_martt...\n",
      "id                                                  2.95251e+08\n",
      "mission                                                    TESS\n",
      "ra                                                      270.606\n",
      "tcen                                                    3803.63\n",
      "Name: 228, dtype: object\n",
      "Breaking because status = COMPLETE\n",
      "TESS object\n",
      "DEBUG [urllib3.connectionpool._new_conn()]: Starting new HTTP connection (1): vizier.u-strasbg.fr:80\n",
      "DEBUG [urllib3.connectionpool._make_request()]: http://vizier.u-strasbg.fr:80 \"POST /viz-bin/votable HTTP/1.1\" 200 658\n",
      "DEBUG [urllib3.connectionpool._new_conn()]: Starting new HTTP connection (1): vizier.u-strasbg.fr:80\n",
      "DEBUG [urllib3.connectionpool._make_request()]: http://vizier.u-strasbg.fr:80 \"POST /viz-bin/votable HTTP/1.1\" 200 690\n",
      "DEBUG [urllib3.connectionpool._new_conn()]: Starting new HTTPS connection (1): heasarc.gsfc.nasa.gov:443\n",
      "DEBUG [urllib3.connectionpool._make_request()]: https://heasarc.gsfc.nasa.gov:443 \"GET /cgi-bin/tess/webtess/wtv.py?Entry=239.003942%2C+-51.893679 HTTP/1.1\" 200 None\n",
      "https://heasarc.gsfc.nasa.gov/cgi-bin/tess/webtess/wtv.py?Entry=<SkyCoord (ICRS): (ra, dec) in deg\n",
      "    (239.003942, -51.893679)>\n",
      "[12] <class 'list'>\n",
      "# Loading QLP lightcurves\n",
      "289691552 <class 'int'>\n",
      "NO JUICE Unnamed: 0                                                 1723\n",
      "dec                                                    -51.8937\n",
      "dur                                                    0.243333\n",
      "file          U-shaped_good_pcs_steven_tess.csv;steven_martt...\n",
      "id                                                  2.89692e+08\n",
      "mission                                                    TESS\n",
      "ra                                                      239.004\n",
      "tcen                                                     3816.3\n",
      "Name: 230, dtype: object\n",
      "Breaking because status = COMPLETE\n",
      "TESS object\n",
      "DEBUG [urllib3.connectionpool._new_conn()]: Starting new HTTP connection (1): vizier.u-strasbg.fr:80\n",
      "DEBUG [urllib3.connectionpool._make_request()]: http://vizier.u-strasbg.fr:80 \"POST /viz-bin/votable HTTP/1.1\" 200 657\n",
      "DEBUG [urllib3.connectionpool._new_conn()]: Starting new HTTP connection (1): vizier.u-strasbg.fr:80\n",
      "DEBUG [urllib3.connectionpool._make_request()]: http://vizier.u-strasbg.fr:80 \"POST /viz-bin/votable HTTP/1.1\" 200 689\n",
      "DEBUG [urllib3.connectionpool._new_conn()]: Starting new HTTPS connection (1): heasarc.gsfc.nasa.gov:443\n",
      "DEBUG [urllib3.connectionpool._make_request()]: https://heasarc.gsfc.nasa.gov:443 \"GET /cgi-bin/tess/webtess/wtv.py?Entry=225.746781%2C+-57.442562 HTTP/1.1\" 200 None\n",
      "https://heasarc.gsfc.nasa.gov/cgi-bin/tess/webtess/wtv.py?Entry=<SkyCoord (ICRS): (ra, dec) in deg\n",
      "    (225.746781, -57.442562)>\n",
      "[12] <class 'list'>\n",
      "# Loading QLP lightcurves\n",
      "36866710 <class 'int'>\n",
      "NO JUICE Unnamed: 0                                                 1725\n",
      "dec                                                    -57.4426\n",
      "dur                                                    0.334167\n",
      "file          U-shaped_good_pcs_steven_tess.csv;steven_martt...\n",
      "id                                                  3.68667e+07\n",
      "mission                                                    TESS\n",
      "ra                                                      225.747\n",
      "tcen                                                    3808.11\n",
      "Name: 232, dtype: object\n",
      "Breaking because status = COMPLETE\n",
      "TESS object\n",
      "DEBUG [urllib3.connectionpool._new_conn()]: Starting new HTTP connection (1): vizier.u-strasbg.fr:80\n",
      "DEBUG [urllib3.connectionpool._make_request()]: http://vizier.u-strasbg.fr:80 \"POST /viz-bin/votable HTTP/1.1\" 200 656\n",
      "DEBUG [urllib3.connectionpool._new_conn()]: Starting new HTTP connection (1): vizier.u-strasbg.fr:80\n",
      "DEBUG [urllib3.connectionpool._make_request()]: http://vizier.u-strasbg.fr:80 \"POST /viz-bin/votable HTTP/1.1\" 200 687\n",
      "DEBUG [urllib3.connectionpool._new_conn()]: Starting new HTTPS connection (1): heasarc.gsfc.nasa.gov:443\n",
      "DEBUG [urllib3.connectionpool._make_request()]: https://heasarc.gsfc.nasa.gov:443 \"GET /cgi-bin/tess/webtess/wtv.py?Entry=306.88075200000003%2C+-58.62563000000001 HTTP/1.1\" 200 None\n",
      "https://heasarc.gsfc.nasa.gov/cgi-bin/tess/webtess/wtv.py?Entry=<SkyCoord (ICRS): (ra, dec) in deg\n",
      "    (306.880752, -58.62563)>\n",
      "[13] <class 'list'>\n",
      "# Loading QLP lightcurves\n",
      "219981610 <class 'int'>\n",
      "NO JUICE Unnamed: 0                                                 1727\n",
      "dec                                                    -58.6256\n",
      "dur                                                    0.320833\n",
      "file          U-shaped_good_pcs_steven_tess.csv;steven_martt...\n",
      "id                                                  2.19982e+08\n",
      "mission                                                    TESS\n",
      "ra                                                      306.881\n",
      "tcen                                                    3834.39\n",
      "Name: 234, dtype: object\n",
      "Breaking because status = COMPLETE\n",
      "TESS object\n",
      "500 Error 500:\n",
      "null\n",
      "NO JUICE Unnamed: 0                                 1729\n",
      "dec                                    -42.9137\n",
      "dur                                    0.129167\n",
      "file          U-shaped_good_pcs_steven_tess.csv\n",
      "id                                  9.00873e+07\n",
      "mission                                    TESS\n",
      "ra                                       276.39\n",
      "tcen                                    3845.69\n",
      "Name: 236, dtype: object\n",
      "Breaking because status = COMPLETE\n",
      "TESS object\n",
      "DEBUG [urllib3.connectionpool._new_conn()]: Starting new HTTP connection (1): vizier.u-strasbg.fr:80\n",
      "DEBUG [urllib3.connectionpool._make_request()]: http://vizier.u-strasbg.fr:80 \"POST /viz-bin/votable HTTP/1.1\" 200 657\n",
      "DEBUG [urllib3.connectionpool._new_conn()]: Starting new HTTP connection (1): vizier.u-strasbg.fr:80\n",
      "DEBUG [urllib3.connectionpool._make_request()]: http://vizier.u-strasbg.fr:80 \"POST /viz-bin/votable HTTP/1.1\" 200 687\n",
      "DEBUG [urllib3.connectionpool._new_conn()]: Starting new HTTPS connection (1): heasarc.gsfc.nasa.gov:443\n",
      "DEBUG [urllib3.connectionpool._make_request()]: https://heasarc.gsfc.nasa.gov:443 \"GET /cgi-bin/tess/webtess/wtv.py?Entry=295.259644%2C+-54.451209999999996 HTTP/1.1\" 200 None\n",
      "https://heasarc.gsfc.nasa.gov/cgi-bin/tess/webtess/wtv.py?Entry=<SkyCoord (ICRS): (ra, dec) in deg\n",
      "    (295.259644, -54.45121)>\n",
      "[13] <class 'list'>\n",
      "# Loading QLP lightcurves\n",
      "320261550 <class 'int'>\n",
      "NO JUICE Unnamed: 0                                                 1731\n",
      "dec                                                    -54.4512\n",
      "dur                                                    0.656667\n",
      "file          lacourse_jacobs_k2_table.csv;All_OsbornMarttiK...\n",
      "id                                                  3.20262e+08\n",
      "mission                                                    TESS\n",
      "ra                                                       295.26\n",
      "tcen                                                    3841.24\n",
      "Name: 238, dtype: object\n",
      "Breaking because status = COMPLETE\n",
      "TESS object\n",
      "DEBUG [urllib3.connectionpool._new_conn()]: Starting new HTTP connection (1): vizier.u-strasbg.fr:80\n",
      "DEBUG [urllib3.connectionpool._make_request()]: http://vizier.u-strasbg.fr:80 \"POST /viz-bin/votable HTTP/1.1\" 200 658\n"
     ]
    },
    {
     "name": "stdout",
     "output_type": "stream",
     "text": [
      "DEBUG [urllib3.connectionpool._new_conn()]: Starting new HTTP connection (1): vizier.u-strasbg.fr:80\n",
      "DEBUG [urllib3.connectionpool._make_request()]: http://vizier.u-strasbg.fr:80 \"POST /viz-bin/votable HTTP/1.1\" 200 688\n",
      "DEBUG [urllib3.connectionpool._new_conn()]: Starting new HTTPS connection (1): heasarc.gsfc.nasa.gov:443\n",
      "DEBUG [urllib3.connectionpool._make_request()]: https://heasarc.gsfc.nasa.gov:443 \"GET /cgi-bin/tess/webtess/wtv.py?Entry=302.798478%2C+-61.135453000000005 HTTP/1.1\" 200 None\n",
      "https://heasarc.gsfc.nasa.gov/cgi-bin/tess/webtess/wtv.py?Entry=<SkyCoord (ICRS): (ra, dec) in deg\n",
      "    (302.798478, -61.135453)>\n",
      "[13] <class 'list'>\n",
      "# Loading QLP lightcurves\n",
      "466206508 <class 'int'>\n",
      "NO JUICE Unnamed: 0                                                 1733\n",
      "dec                                                    -61.1355\n",
      "dur                                                    0.412917\n",
      "file          U-shaped_good_pcs_steven_tess.csv;steven_martt...\n",
      "id                                                  4.66207e+08\n",
      "mission                                                    TESS\n",
      "ra                                                      302.798\n",
      "tcen                                                    3846.34\n",
      "Name: 240, dtype: object\n",
      "Breaking because status = COMPLETE\n",
      "TESS object\n",
      "DEBUG [urllib3.connectionpool._new_conn()]: Starting new HTTP connection (1): vizier.u-strasbg.fr:80\n",
      "DEBUG [urllib3.connectionpool._make_request()]: http://vizier.u-strasbg.fr:80 \"POST /viz-bin/votable HTTP/1.1\" 200 658\n",
      "DEBUG [urllib3.connectionpool._new_conn()]: Starting new HTTP connection (1): vizier.u-strasbg.fr:80\n",
      "DEBUG [urllib3.connectionpool._make_request()]: http://vizier.u-strasbg.fr:80 \"POST /viz-bin/votable HTTP/1.1\" 200 690\n",
      "DEBUG [urllib3.connectionpool._new_conn()]: Starting new HTTPS connection (1): heasarc.gsfc.nasa.gov:443\n",
      "DEBUG [urllib3.connectionpool._make_request()]: https://heasarc.gsfc.nasa.gov:443 \"GET /cgi-bin/tess/webtess/wtv.py?Entry=306.919435%2C+-58.631907 HTTP/1.1\" 200 None\n",
      "https://heasarc.gsfc.nasa.gov/cgi-bin/tess/webtess/wtv.py?Entry=<SkyCoord (ICRS): (ra, dec) in deg\n",
      "    (306.919435, -58.631907)>\n",
      "[13] <class 'list'>\n",
      "# Loading QLP lightcurves\n",
      "370134617 <class 'int'>\n",
      "NO JUICE Unnamed: 0                                                 1735\n",
      "dec                                                    -58.6319\n",
      "dur                                                    0.349167\n",
      "file          U-shaped_good_pcs_steven_tess.csv;steven_martt...\n",
      "id                                                  3.70135e+08\n",
      "mission                                                    TESS\n",
      "ra                                                      306.919\n",
      "tcen                                                    3834.38\n",
      "Name: 242, dtype: object\n",
      "Breaking because status = COMPLETE\n",
      "TESS object\n",
      "DEBUG [urllib3.connectionpool._new_conn()]: Starting new HTTP connection (1): vizier.u-strasbg.fr:80\n",
      "DEBUG [urllib3.connectionpool._make_request()]: http://vizier.u-strasbg.fr:80 \"POST /viz-bin/votable HTTP/1.1\" 200 658\n",
      "DEBUG [urllib3.connectionpool._new_conn()]: Starting new HTTP connection (1): vizier.u-strasbg.fr:80\n",
      "DEBUG [urllib3.connectionpool._make_request()]: http://vizier.u-strasbg.fr:80 \"POST /viz-bin/votable HTTP/1.1\" 200 690\n",
      "DEBUG [urllib3.connectionpool._new_conn()]: Starting new HTTPS connection (1): heasarc.gsfc.nasa.gov:443\n",
      "DEBUG [urllib3.connectionpool._make_request()]: https://heasarc.gsfc.nasa.gov:443 \"GET /cgi-bin/tess/webtess/wtv.py?Entry=111.781722%2C+-36.761883000000005 HTTP/1.1\" 200 None\n",
      "https://heasarc.gsfc.nasa.gov/cgi-bin/tess/webtess/wtv.py?Entry=<SkyCoord (ICRS): (ra, dec) in deg\n",
      "    (111.781722, -36.761883)>\n",
      "[7, 8] <class 'list'>\n",
      "# Loading QLP lightcurves\n",
      "173329532 <class 'int'>\n",
      "NO JUICE Unnamed: 0                                 1740\n",
      "dec                                    -36.7619\n",
      "dur                                         NaN\n",
      "file          U-shaped_good_pcs_steven_tess.csv\n",
      "id                                   1.7333e+08\n",
      "mission                                    TESS\n",
      "ra                                      111.782\n",
      "tcen                                        NaN\n",
      "Name: 244, dtype: object\n",
      "Breaking because status = COMPLETE\n",
      "TESS object\n",
      "DEBUG [urllib3.connectionpool._new_conn()]: Starting new HTTP connection (1): vizier.u-strasbg.fr:80\n",
      "DEBUG [urllib3.connectionpool._make_request()]: http://vizier.u-strasbg.fr:80 \"POST /viz-bin/votable HTTP/1.1\" 200 656\n",
      "DEBUG [urllib3.connectionpool._new_conn()]: Starting new HTTP connection (1): vizier.u-strasbg.fr:80\n",
      "DEBUG [urllib3.connectionpool._make_request()]: http://vizier.u-strasbg.fr:80 \"POST /viz-bin/votable HTTP/1.1\" 200 687\n",
      "DEBUG [urllib3.connectionpool._new_conn()]: Starting new HTTPS connection (1): heasarc.gsfc.nasa.gov:443\n",
      "DEBUG [urllib3.connectionpool._make_request()]: https://heasarc.gsfc.nasa.gov:443 \"GET /cgi-bin/tess/webtess/wtv.py?Entry=230.451%2C+-48.318000000000005 HTTP/1.1\" 200 None\n",
      "https://heasarc.gsfc.nasa.gov/cgi-bin/tess/webtess/wtv.py?Entry=<SkyCoord (ICRS): (ra, dec) in deg\n",
      "    (230.451, -48.318)>\n",
      "[12] <class 'list'>\n",
      "TESS file\n",
      "4429 points masked in lc of 20119\n",
      "transit mask: <class 'numpy.ndarray'> 19373 0 <class 'numpy.ndarray'> 19373 True\n",
      "00 - Checks complete.  SNR: 31.85150  SNR_r: 17.48620  variability: -367.638  centroid: 12.72862 | flag: planet\n",
      "DEBUG [matplotlib.backends.backend_pdf.fontName()]: Assigning font /b'F1' = '/Users/hosborn/transits/lib/python3.7/site-packages/matplotlib/mpl-data/fonts/ttf/DejaVuSans.ttf'\n",
      "DEBUG [matplotlib.backends.backend_pdf.writeFonts()]: Embedding font /Users/hosborn/transits/lib/python3.7/site-packages/matplotlib/mpl-data/fonts/ttf/DejaVuSans.ttf.\n",
      "DEBUG [matplotlib.backends.backend_pdf.writeFonts()]: Writing TrueType font.\n",
      "Breaking because status = COMPLETE\n",
      "TESS object\n",
      "DEBUG [urllib3.connectionpool._new_conn()]: Starting new HTTP connection (1): vizier.u-strasbg.fr:80\n",
      "DEBUG [urllib3.connectionpool._make_request()]: http://vizier.u-strasbg.fr:80 \"POST /viz-bin/votable HTTP/1.1\" 200 657\n",
      "DEBUG [urllib3.connectionpool._new_conn()]: Starting new HTTP connection (1): vizier.u-strasbg.fr:80\n",
      "DEBUG [urllib3.connectionpool._make_request()]: http://vizier.u-strasbg.fr:80 \"POST /viz-bin/votable HTTP/1.1\" 200 689\n",
      "DEBUG [urllib3.connectionpool._new_conn()]: Starting new HTTPS connection (1): heasarc.gsfc.nasa.gov:443\n",
      "DEBUG [urllib3.connectionpool._make_request()]: https://heasarc.gsfc.nasa.gov:443 \"GET /cgi-bin/tess/webtess/wtv.py?Entry=223.48982859999998%2C+-24.801073000000002 HTTP/1.1\" 200 None\n",
      "https://heasarc.gsfc.nasa.gov/cgi-bin/tess/webtess/wtv.py?Entry=<SkyCoord (ICRS): (ra, dec) in deg\n",
      "    (223.4898286, -24.801073)>\n",
      "[11] <class 'list'>\n",
      "TESS file\n",
      "5654 points masked in lc of 19527\n",
      "NO JUICE Unnamed: 0                        1745\n",
      "dec                           -24.8011\n",
      "dur                                  0\n",
      "file          AllMonos_martti_tess.csv\n",
      "id                              147596\n",
      "mission                           TESS\n",
      "ra                              223.49\n",
      "tcen                              2167\n",
      "Name: 248, dtype: object\n",
      "Breaking because status = COMPLETE\n",
      "TESS object\n",
      "DEBUG [urllib3.connectionpool._new_conn()]: Starting new HTTP connection (1): vizier.u-strasbg.fr:80\n",
      "DEBUG [urllib3.connectionpool._make_request()]: http://vizier.u-strasbg.fr:80 \"POST /viz-bin/votable HTTP/1.1\" 200 657\n",
      "DEBUG [urllib3.connectionpool._new_conn()]: Starting new HTTP connection (1): vizier.u-strasbg.fr:80\n",
      "DEBUG [urllib3.connectionpool._make_request()]: http://vizier.u-strasbg.fr:80 \"POST /viz-bin/votable HTTP/1.1\" 200 688\n",
      "DEBUG [urllib3.connectionpool._new_conn()]: Starting new HTTPS connection (1): heasarc.gsfc.nasa.gov:443\n",
      "DEBUG [urllib3.connectionpool._make_request()]: https://heasarc.gsfc.nasa.gov:443 \"GET /cgi-bin/tess/webtess/wtv.py?Entry=127.13%2C+-13.8722 HTTP/1.1\" 200 None\n",
      "https://heasarc.gsfc.nasa.gov/cgi-bin/tess/webtess/wtv.py?Entry=<SkyCoord (ICRS): (ra, dec) in deg\n",
      "    (127.13, -13.8722)>\n",
      "[7, 8] <class 'list'>\n",
      "TESS file\n",
      "1260 points masked in lc of 17612\n",
      "TESS file\n",
      "4356 points masked in lc of 17755\n",
      "[0, 1]\n",
      "NO JUICE Unnamed: 0                        1747\n",
      "dec                           -13.8722\n",
      "dur                                  0\n",
      "file          AllMonos_martti_tess.csv\n",
      "id                              927579\n",
      "mission                           TESS\n",
      "ra                              127.13\n",
      "tcen                              2167\n",
      "Name: 250, dtype: object\n"
     ]
    },
    {
     "name": "stdout",
     "output_type": "stream",
     "text": [
      "Breaking because status = COMPLETE\n",
      "TESS object\n",
      "500 Error 500:\n",
      "null\n",
      "NO JUICE Unnamed: 0                        1749\n",
      "dec                           -15.2713\n",
      "dur                                  0\n",
      "file          AllMonos_martti_tess.csv\n",
      "id                         1.62832e+06\n",
      "mission                           TESS\n",
      "ra                             188.041\n",
      "tcen                              2167\n",
      "Name: 252, dtype: object\n",
      "Breaking because status = COMPLETE\n",
      "TESS object\n",
      "DEBUG [urllib3.connectionpool._new_conn()]: Starting new HTTP connection (1): vizier.u-strasbg.fr:80\n",
      "DEBUG [urllib3.connectionpool._make_request()]: http://vizier.u-strasbg.fr:80 \"POST /viz-bin/votable HTTP/1.1\" 200 1696\n",
      "DEBUG [urllib3.connectionpool._new_conn()]: Starting new HTTP connection (1): vizier.u-strasbg.fr:80\n",
      "DEBUG [urllib3.connectionpool._make_request()]: http://vizier.u-strasbg.fr:80 \"POST /viz-bin/votable HTTP/1.1\" 200 689\n",
      "DEBUG [urllib3.connectionpool._new_conn()]: Starting new HTTPS connection (1): heasarc.gsfc.nasa.gov:443\n",
      "DEBUG [urllib3.connectionpool._make_request()]: https://heasarc.gsfc.nasa.gov:443 \"GET /cgi-bin/tess/webtess/wtv.py?Entry=288.9170459%2C+-28.68922702 HTTP/1.1\" 200 None\n",
      "https://heasarc.gsfc.nasa.gov/cgi-bin/tess/webtess/wtv.py?Entry=<SkyCoord (ICRS): (ra, dec) in deg\n",
      "    (288.9170459, -28.68922702)>\n",
      "[13] <class 'list'>\n",
      "TESS file\n",
      "2732 points masked in lc of 20479\n",
      "DEBUG [urllib3.connectionpool._new_conn()]: Starting new HTTPS connection (1): exofop.ipac.caltech.edu:443\n",
      "DEBUG [urllib3.connectionpool._make_request()]: https://exofop.ipac.caltech.edu:443 \"GET /k2/download_target.php?id=213655804 HTTP/1.1\" 200 3831\n",
      "K2 campaigns to search: ['7.0']\n",
      "7.0 213655804\n",
      "INFO  [everest.user.DownloadFile()]: Downloading the file...\n",
      "INFO  [everest.user.load_fits()]: Loading FITS file for 213655804.\n",
      "164 points masked in lc of 4043\n",
      "1 {'time': array([2467.26056884, 2467.28100128, 2467.30143352, ..., 2549.80495886,\n",
      "       2549.82539077, 2549.84582249]), 'flux': array([-0.03410697, -0.0397799 , -0.0478675 , ..., -0.0026091 ,\n",
      "       -0.00233767, -0.00239051]), 'flux_err': array([3.02328131e-05, 3.01490682e-05, 3.00348168e-05, ...,\n",
      "       3.10586699e-05, 3.08122868e-05, 3.07305249e-05]), 'raw_flux': array([795934.98594761, 790415.4852438 , 783110.84777546, ...,\n",
      "       823843.81461906, 825500.28575134, 822325.28491211]), 'raw_flux_err': array([3.02328131e-05, 3.01490682e-05, 3.00348168e-05, ...,\n",
      "       3.10586699e-05, 3.08122868e-05, 3.07305249e-05]), 'quality': array([4751360, 4227072, 4227072, ..., 4202496, 5251072,  524288],\n",
      "      dtype=int32), 'mask': array([False, False, False, ...,  True, False, False]), 'cadence': array(['k29', 'k29', 'k29', ..., 'k29', 'k29', 'k29'], dtype='<U3'), 'flux_unit': 1.0}\n",
      "[0]\n",
      "DEBUG [urllib3.connectionpool._new_conn()]: Starting new HTTP connection (1): archive.stsci.edu:80\n",
      "DEBUG [urllib3.connectionpool._make_request()]: http://archive.stsci.edu:80 \"GET /missions/hlsp/k2sff/c07/213600000/55804/hlsp_k2sff_k2_lightcurve_213655804-c07_kepler_v1_llc.fits HTTP/1.1\" 302 307\n",
      "DEBUG [urllib3.connectionpool._new_conn()]: Starting new HTTPS connection (1): archive.stsci.edu:443\n",
      "DEBUG [urllib3.connectionpool._make_request()]: https://archive.stsci.edu:443 \"GET /missions/hlsp/k2sff/c07/213600000/55804/hlsp_k2sff_k2_lightcurve_213655804-c07_kepler_v1_llc.fits HTTP/1.1\" 200 3487680\n",
      "38 points masked in lc of 3720\n",
      "Extracted vanderburg LC from  http://archive.stsci.edu/missions/hlsp/k2sff/c07/213600000/55804/hlsp_k2sff_k2_lightcurve_213655804-c07_kepler_v1_llc.fits\n",
      "[0]\n",
      "[0]\n",
      "{'cadence': array(['k29', 'k29', 'k29', ..., 'k29', 'k29', 'k29'], dtype='<U3'), 'flux': array([-0.03410697, -0.0397799 , -0.0478675 , ..., -0.0026091 ,\n",
      "       -0.00233767, -0.00239051]), 'flux_err': array([3.02328131e-05, 3.01490682e-05, 3.00348168e-05, ...,\n",
      "       3.10586699e-05, 3.08122868e-05, 3.07305249e-05]), 'flux_unit': 1.0, 'mask': array([False, False, False, ...,  True, False, False]), 'quality': array([4751360, 4227072, 4227072, ..., 4202496, 5251072,  524288],\n",
      "      dtype=int32), 'raw_flux': array([795934.98594761, 790415.4852438 , 783110.84777546, ...,\n",
      "       823843.81461906, 825500.28575134, 822325.28491211]), 'raw_flux_err': array([3.02328131e-05, 3.01490682e-05, 3.00348168e-05, ...,\n",
      "       3.10586699e-05, 3.08122868e-05, 3.07305249e-05]), 'time': array([2467.26056884, 2467.28100128, 2467.30143352, ..., 2549.80495886,\n",
      "       2549.82539077, 2549.84582249])}\n",
      "[0, 1]\n",
      "NO JUICE Unnamed: 0                        1751\n",
      "dec                           -28.6892\n",
      "dur                                  0\n",
      "file          AllMonos_martti_tess.csv\n",
      "id                         2.37258e+06\n",
      "mission                           TESS\n",
      "ra                             288.917\n",
      "tcen                              2167\n",
      "Name: 254, dtype: object\n",
      "transit mask: <class 'numpy.ndarray'> 18749 0 <class 'numpy.ndarray'> 18749 True\n"
     ]
    },
    {
     "name": "stderr",
     "output_type": "stream",
     "text": [
      "INFO (theano.gof.compilelock): Waiting for existing lock by process '20511' (I am process '19630')\n"
     ]
    },
    {
     "name": "stdout",
     "output_type": "stream",
     "text": [
      "INFO  [theano.gof.compilelock.lock()]: Waiting for existing lock by process '20511' (I am process '19630')\n"
     ]
    },
    {
     "name": "stderr",
     "output_type": "stream",
     "text": [
      "INFO (theano.gof.compilelock): To manually release the lock, delete /Users/hosborn/.theano/compiledir_Darwin-19.3.0-x86_64-i386-64bit-i386-3.7.6-64/lock_dir\n"
     ]
    },
    {
     "name": "stdout",
     "output_type": "stream",
     "text": [
      "INFO  [theano.gof.compilelock.lock()]: To manually release the lock, delete /Users/hosborn/.theano/compiledir_Darwin-19.3.0-x86_64-i386-64bit-i386-3.7.6-64/lock_dir\n"
     ]
    },
    {
     "name": "stderr",
     "output_type": "stream",
     "text": [
      "INFO (theano.gof.compilelock): Waiting for existing lock by process '20511' (I am process '19630')\n"
     ]
    },
    {
     "name": "stdout",
     "output_type": "stream",
     "text": [
      "INFO  [theano.gof.compilelock.lock()]: Waiting for existing lock by process '20511' (I am process '19630')\n"
     ]
    },
    {
     "name": "stderr",
     "output_type": "stream",
     "text": [
      "INFO (theano.gof.compilelock): To manually release the lock, delete /Users/hosborn/.theano/compiledir_Darwin-19.3.0-x86_64-i386-64bit-i386-3.7.6-64/lock_dir\n"
     ]
    },
    {
     "name": "stdout",
     "output_type": "stream",
     "text": [
      "INFO  [theano.gof.compilelock.lock()]: To manually release the lock, delete /Users/hosborn/.theano/compiledir_Darwin-19.3.0-x86_64-i386-64bit-i386-3.7.6-64/lock_dir\n"
     ]
    },
    {
     "name": "stderr",
     "output_type": "stream",
     "text": [
      "INFO (theano.gof.compilelock): Waiting for existing lock by process '20511' (I am process '19630')\n"
     ]
    },
    {
     "name": "stdout",
     "output_type": "stream",
     "text": [
      "INFO  [theano.gof.compilelock.lock()]: Waiting for existing lock by process '20511' (I am process '19630')\n"
     ]
    },
    {
     "name": "stderr",
     "output_type": "stream",
     "text": [
      "INFO (theano.gof.compilelock): To manually release the lock, delete /Users/hosborn/.theano/compiledir_Darwin-19.3.0-x86_64-i386-64bit-i386-3.7.6-64/lock_dir\n"
     ]
    },
    {
     "name": "stdout",
     "output_type": "stream",
     "text": [
      "INFO  [theano.gof.compilelock.lock()]: To manually release the lock, delete /Users/hosborn/.theano/compiledir_Darwin-19.3.0-x86_64-i386-64bit-i386-3.7.6-64/lock_dir\n"
     ]
    },
    {
     "name": "stderr",
     "output_type": "stream",
     "text": [
      "INFO (theano.gof.compilelock): Waiting for existing lock by process '20511' (I am process '19630')\n"
     ]
    },
    {
     "name": "stdout",
     "output_type": "stream",
     "text": [
      "INFO  [theano.gof.compilelock.lock()]: Waiting for existing lock by process '20511' (I am process '19630')\n"
     ]
    },
    {
     "name": "stderr",
     "output_type": "stream",
     "text": [
      "INFO (theano.gof.compilelock): To manually release the lock, delete /Users/hosborn/.theano/compiledir_Darwin-19.3.0-x86_64-i386-64bit-i386-3.7.6-64/lock_dir\n"
     ]
    },
    {
     "name": "stdout",
     "output_type": "stream",
     "text": [
      "INFO  [theano.gof.compilelock.lock()]: To manually release the lock, delete /Users/hosborn/.theano/compiledir_Darwin-19.3.0-x86_64-i386-64bit-i386-3.7.6-64/lock_dir\n",
      "00 - Checks complete.  SNR: 64.29109  SNR_r: 11.95926  variability: -501.328  centroid: 14.12295 | flag: planet\n",
      "DEBUG [matplotlib.backends.backend_pdf.fontName()]: Assigning font /b'F1' = '/Users/hosborn/transits/lib/python3.7/site-packages/matplotlib/mpl-data/fonts/ttf/DejaVuSans.ttf'\n",
      "DEBUG [matplotlib.backends.backend_pdf.writeFonts()]: Embedding font /Users/hosborn/transits/lib/python3.7/site-packages/matplotlib/mpl-data/fonts/ttf/DejaVuSans.ttf.\n",
      "DEBUG [matplotlib.backends.backend_pdf.writeFonts()]: Writing TrueType font.\n",
      "Breaking because status = COMPLETE\n",
      "TESS object\n",
      "DEBUG [urllib3.connectionpool._new_conn()]: Starting new HTTP connection (1): vizier.u-strasbg.fr:80\n",
      "DEBUG [urllib3.connectionpool._make_request()]: http://vizier.u-strasbg.fr:80 \"POST /viz-bin/votable HTTP/1.1\" 200 658\n",
      "DEBUG [urllib3.connectionpool._new_conn()]: Starting new HTTP connection (1): vizier.u-strasbg.fr:80\n",
      "DEBUG [urllib3.connectionpool._make_request()]: http://vizier.u-strasbg.fr:80 \"POST /viz-bin/votable HTTP/1.1\" 200 689\n",
      "DEBUG [urllib3.connectionpool._new_conn()]: Starting new HTTPS connection (1): heasarc.gsfc.nasa.gov:443\n",
      "DEBUG [urllib3.connectionpool._make_request()]: https://heasarc.gsfc.nasa.gov:443 \"GET /cgi-bin/tess/webtess/wtv.py?Entry=348.516774%2C+-11.629373 HTTP/1.1\" 200 None\n",
      "https://heasarc.gsfc.nasa.gov/cgi-bin/tess/webtess/wtv.py?Entry=<SkyCoord (ICRS): (ra, dec) in deg\n",
      "    (348.516774, -11.629373)>\n",
      "[2] <class 'list'>\n",
      "TESS file\n",
      "1439 points masked in lc of 19737\n",
      "NO JUICE Unnamed: 0                        1755\n",
      "dec                           -11.6294\n",
      "dur                                  0\n",
      "file          AllMonos_martti_tess.csv\n",
      "id                         4.58247e+06\n",
      "mission                           TESS\n",
      "ra                             348.517\n",
      "tcen                              2167\n",
      "Name: 258, dtype: object\n",
      "Breaking because status = COMPLETE\n",
      "TESS object\n",
      "DEBUG [urllib3.connectionpool._new_conn()]: Starting new HTTP connection (1): vizier.u-strasbg.fr:80\n",
      "DEBUG [urllib3.connectionpool._make_request()]: http://vizier.u-strasbg.fr:80 \"POST /viz-bin/votable HTTP/1.1\" 200 657\n",
      "DEBUG [urllib3.connectionpool._new_conn()]: Starting new HTTP connection (1): vizier.u-strasbg.fr:80\n",
      "DEBUG [urllib3.connectionpool._make_request()]: http://vizier.u-strasbg.fr:80 \"POST /viz-bin/votable HTTP/1.1\" 200 688\n",
      "DEBUG [urllib3.connectionpool._new_conn()]: Starting new HTTPS connection (1): heasarc.gsfc.nasa.gov:443\n",
      "DEBUG [urllib3.connectionpool._make_request()]: https://heasarc.gsfc.nasa.gov:443 \"GET /cgi-bin/tess/webtess/wtv.py?Entry=284.404424%2C+-52.85012352 HTTP/1.1\" 200 None\n",
      "https://heasarc.gsfc.nasa.gov/cgi-bin/tess/webtess/wtv.py?Entry=<SkyCoord (ICRS): (ra, dec) in deg\n",
      "    (284.404424, -52.85012352)>\n",
      "[13] <class 'list'>\n",
      "TESS file\n",
      "2539 points masked in lc of 20479\n",
      "NO JUICE Unnamed: 0                        1757\n",
      "dec                           -52.8501\n",
      "dur                                  0\n",
      "file          AllMonos_martti_tess.csv\n",
      "id                         6.66791e+06\n",
      "mission                           TESS\n",
      "ra                             284.404\n",
      "tcen                              2167\n",
      "Name: 260, dtype: object\n",
      "Breaking because status = COMPLETE\n",
      "TESS object\n",
      "DEBUG [urllib3.connectionpool._new_conn()]: Starting new HTTP connection (1): vizier.u-strasbg.fr:80\n",
      "DEBUG [urllib3.connectionpool._make_request()]: http://vizier.u-strasbg.fr:80 \"POST /viz-bin/votable HTTP/1.1\" 200 657\n",
      "DEBUG [urllib3.connectionpool._new_conn()]: Starting new HTTP connection (1): vizier.u-strasbg.fr:80\n",
      "DEBUG [urllib3.connectionpool._make_request()]: http://vizier.u-strasbg.fr:80 \"POST /viz-bin/votable HTTP/1.1\" 200 689\n",
      "DEBUG [urllib3.connectionpool._new_conn()]: Starting new HTTPS connection (1): heasarc.gsfc.nasa.gov:443\n",
      "DEBUG [urllib3.connectionpool._make_request()]: https://heasarc.gsfc.nasa.gov:443 \"GET /cgi-bin/tess/webtess/wtv.py?Entry=47.516999999999996%2C+-50.832 HTTP/1.1\" 200 None\n",
      "https://heasarc.gsfc.nasa.gov/cgi-bin/tess/webtess/wtv.py?Entry=<SkyCoord (ICRS): (ra, dec) in deg\n",
      "    (47.517, -50.832)>\n",
      "[3, 4] <class 'list'>\n",
      "TESS file\n",
      "6256 points masked in lc of 19692\n",
      "TESS file\n",
      "2937 points masked in lc of 18684\n",
      "[0, 1]\n",
      "transit mask: <class 'numpy.ndarray'> 35385 0 <class 'numpy.ndarray'> 35385 True\n"
     ]
    },
    {
     "name": "stderr",
     "output_type": "stream",
     "text": [
      "INFO (theano.gof.compilelock): Waiting for existing lock by process '20511' (I am process '19630')\n"
     ]
    },
    {
     "name": "stdout",
     "output_type": "stream",
     "text": [
      "INFO  [theano.gof.compilelock.lock()]: Waiting for existing lock by process '20511' (I am process '19630')\n"
     ]
    },
    {
     "name": "stderr",
     "output_type": "stream",
     "text": [
      "INFO (theano.gof.compilelock): To manually release the lock, delete /Users/hosborn/.theano/compiledir_Darwin-19.3.0-x86_64-i386-64bit-i386-3.7.6-64/lock_dir\n"
     ]
    },
    {
     "name": "stdout",
     "output_type": "stream",
     "text": [
      "INFO  [theano.gof.compilelock.lock()]: To manually release the lock, delete /Users/hosborn/.theano/compiledir_Darwin-19.3.0-x86_64-i386-64bit-i386-3.7.6-64/lock_dir\n"
     ]
    },
    {
     "name": "stderr",
     "output_type": "stream",
     "text": [
      "INFO (theano.gof.compilelock): Waiting for existing lock by process '20511' (I am process '19630')\n"
     ]
    },
    {
     "name": "stdout",
     "output_type": "stream",
     "text": [
      "INFO  [theano.gof.compilelock.lock()]: Waiting for existing lock by process '20511' (I am process '19630')\n"
     ]
    },
    {
     "name": "stderr",
     "output_type": "stream",
     "text": [
      "INFO (theano.gof.compilelock): To manually release the lock, delete /Users/hosborn/.theano/compiledir_Darwin-19.3.0-x86_64-i386-64bit-i386-3.7.6-64/lock_dir\n"
     ]
    },
    {
     "name": "stdout",
     "output_type": "stream",
     "text": [
      "INFO  [theano.gof.compilelock.lock()]: To manually release the lock, delete /Users/hosborn/.theano/compiledir_Darwin-19.3.0-x86_64-i386-64bit-i386-3.7.6-64/lock_dir\n"
     ]
    },
    {
     "name": "stderr",
     "output_type": "stream",
     "text": [
      "INFO (theano.gof.compilelock): Waiting for existing lock by process '20511' (I am process '19630')\n"
     ]
    },
    {
     "name": "stdout",
     "output_type": "stream",
     "text": [
      "INFO  [theano.gof.compilelock.lock()]: Waiting for existing lock by process '20511' (I am process '19630')\n"
     ]
    },
    {
     "name": "stderr",
     "output_type": "stream",
     "text": [
      "INFO (theano.gof.compilelock): To manually release the lock, delete /Users/hosborn/.theano/compiledir_Darwin-19.3.0-x86_64-i386-64bit-i386-3.7.6-64/lock_dir\n"
     ]
    },
    {
     "name": "stdout",
     "output_type": "stream",
     "text": [
      "INFO  [theano.gof.compilelock.lock()]: To manually release the lock, delete /Users/hosborn/.theano/compiledir_Darwin-19.3.0-x86_64-i386-64bit-i386-3.7.6-64/lock_dir\n"
     ]
    },
    {
     "name": "stderr",
     "output_type": "stream",
     "text": [
      "INFO (theano.gof.compilelock): Waiting for existing lock by process '20511' (I am process '19630')\n"
     ]
    },
    {
     "name": "stdout",
     "output_type": "stream",
     "text": [
      "INFO  [theano.gof.compilelock.lock()]: Waiting for existing lock by process '20511' (I am process '19630')\n"
     ]
    },
    {
     "name": "stderr",
     "output_type": "stream",
     "text": [
      "INFO (theano.gof.compilelock): To manually release the lock, delete /Users/hosborn/.theano/compiledir_Darwin-19.3.0-x86_64-i386-64bit-i386-3.7.6-64/lock_dir\n"
     ]
    },
    {
     "name": "stdout",
     "output_type": "stream",
     "text": [
      "INFO  [theano.gof.compilelock.lock()]: To manually release the lock, delete /Users/hosborn/.theano/compiledir_Darwin-19.3.0-x86_64-i386-64bit-i386-3.7.6-64/lock_dir\n"
     ]
    },
    {
     "name": "stderr",
     "output_type": "stream",
     "text": [
      "INFO (theano.gof.compilelock): Waiting for existing lock by process '20511' (I am process '19630')\n"
     ]
    },
    {
     "name": "stdout",
     "output_type": "stream",
     "text": [
      "INFO  [theano.gof.compilelock.lock()]: Waiting for existing lock by process '20511' (I am process '19630')\n"
     ]
    },
    {
     "name": "stderr",
     "output_type": "stream",
     "text": [
      "INFO (theano.gof.compilelock): To manually release the lock, delete /Users/hosborn/.theano/compiledir_Darwin-19.3.0-x86_64-i386-64bit-i386-3.7.6-64/lock_dir\n"
     ]
    },
    {
     "name": "stdout",
     "output_type": "stream",
     "text": [
      "INFO  [theano.gof.compilelock.lock()]: To manually release the lock, delete /Users/hosborn/.theano/compiledir_Darwin-19.3.0-x86_64-i386-64bit-i386-3.7.6-64/lock_dir\n",
      "00 - Checks complete.  SNR: 67.76282  SNR_r: 12.51624  variability: -778.080  centroid: 13.51824 | flag: planet\n",
      "DEBUG [matplotlib.backends.backend_pdf.fontName()]: Assigning font /b'F1' = '/Users/hosborn/transits/lib/python3.7/site-packages/matplotlib/mpl-data/fonts/ttf/DejaVuSans.ttf'\n",
      "DEBUG [matplotlib.backends.backend_pdf.writeFonts()]: Embedding font /Users/hosborn/transits/lib/python3.7/site-packages/matplotlib/mpl-data/fonts/ttf/DejaVuSans.ttf.\n",
      "DEBUG [matplotlib.backends.backend_pdf.writeFonts()]: Writing TrueType font.\n",
      "Breaking because status = COMPLETE\n",
      "TESS object\n",
      "500 Error 500:\n",
      "null\n",
      "NO JUICE Unnamed: 0                        1763\n",
      "dec                           -8.87635\n",
      "dur                                  0\n",
      "file          AllMonos_martti_tess.csv\n",
      "id                         8.99103e+06\n",
      "mission                           TESS\n",
      "ra                             354.931\n",
      "tcen                              2167\n",
      "Name: 264, dtype: object\n",
      "Breaking because status = COMPLETE\n",
      "TESS object\n",
      "DEBUG [urllib3.connectionpool._new_conn()]: Starting new HTTP connection (1): vizier.u-strasbg.fr:80\n",
      "DEBUG [urllib3.connectionpool._make_request()]: http://vizier.u-strasbg.fr:80 \"POST /viz-bin/votable HTTP/1.1\" 200 657\n",
      "DEBUG [urllib3.connectionpool._new_conn()]: Starting new HTTP connection (1): vizier.u-strasbg.fr:80\n",
      "DEBUG [urllib3.connectionpool._make_request()]: http://vizier.u-strasbg.fr:80 \"POST /viz-bin/votable HTTP/1.1\" 200 689\n",
      "DEBUG [urllib3.connectionpool._new_conn()]: Starting new HTTPS connection (1): heasarc.gsfc.nasa.gov:443\n",
      "DEBUG [urllib3.connectionpool._make_request()]: https://heasarc.gsfc.nasa.gov:443 \"GET /cgi-bin/tess/webtess/wtv.py?Entry=351.535929%2C+-19.373207 HTTP/1.1\" 200 None\n",
      "https://heasarc.gsfc.nasa.gov/cgi-bin/tess/webtess/wtv.py?Entry=<SkyCoord (ICRS): (ra, dec) in deg\n",
      "    (351.535929, -19.373207)>\n",
      "[2] <class 'list'>\n",
      "TESS file\n",
      "1441 points masked in lc of 19737\n",
      "NO JUICE Unnamed: 0                        1765\n",
      "dec                           -19.3732\n",
      "dur                                  0\n",
      "file          AllMonos_martti_tess.csv\n",
      "id                         9.14628e+06\n",
      "mission                           TESS\n",
      "ra                             351.536\n",
      "tcen                              2167\n",
      "Name: 266, dtype: object\n",
      "Breaking because status = COMPLETE\n",
      "TESS object\n",
      "DEBUG [urllib3.connectionpool._new_conn()]: Starting new HTTP connection (1): vizier.u-strasbg.fr:80\n",
      "DEBUG [urllib3.connectionpool._make_request()]: http://vizier.u-strasbg.fr:80 \"POST /viz-bin/votable HTTP/1.1\" 200 657\n",
      "DEBUG [urllib3.connectionpool._new_conn()]: Starting new HTTP connection (1): vizier.u-strasbg.fr:80\n",
      "DEBUG [urllib3.connectionpool._make_request()]: http://vizier.u-strasbg.fr:80 \"POST /viz-bin/votable HTTP/1.1\" 200 690\n",
      "DEBUG [urllib3.connectionpool._new_conn()]: Starting new HTTPS connection (1): heasarc.gsfc.nasa.gov:443\n",
      "DEBUG [urllib3.connectionpool._make_request()]: https://heasarc.gsfc.nasa.gov:443 \"GET /cgi-bin/tess/webtess/wtv.py?Entry=190.4920009%2C+-25.34862436 HTTP/1.1\" 200 None\n",
      "https://heasarc.gsfc.nasa.gov/cgi-bin/tess/webtess/wtv.py?Entry=<SkyCoord (ICRS): (ra, dec) in deg\n",
      "    (190.4920009, -25.34862436)>\n",
      "[10] <class 'list'>\n",
      "TESS file\n",
      "3088 points masked in lc of 18900\n",
      "NO JUICE Unnamed: 0                        1767\n",
      "dec                           -25.3486\n",
      "dur                                  0\n",
      "file          AllMonos_martti_tess.csv\n",
      "id                         9.25908e+06\n",
      "mission                           TESS\n",
      "ra                             190.492\n",
      "tcen                              2167\n",
      "Name: 268, dtype: object\n",
      "Breaking because status = COMPLETE\n",
      "TESS object\n",
      "DEBUG [urllib3.connectionpool._new_conn()]: Starting new HTTP connection (1): vizier.u-strasbg.fr:80\n",
      "DEBUG [urllib3.connectionpool._make_request()]: http://vizier.u-strasbg.fr:80 \"POST /viz-bin/votable HTTP/1.1\" 200 656\n",
      "DEBUG [urllib3.connectionpool._new_conn()]: Starting new HTTP connection (1): vizier.u-strasbg.fr:80\n",
      "DEBUG [urllib3.connectionpool._make_request()]: http://vizier.u-strasbg.fr:80 \"POST /viz-bin/votable HTTP/1.1\" 200 689\n",
      "DEBUG [urllib3.connectionpool._new_conn()]: Starting new HTTPS connection (1): heasarc.gsfc.nasa.gov:443\n",
      "DEBUG [urllib3.connectionpool._make_request()]: https://heasarc.gsfc.nasa.gov:443 \"GET /cgi-bin/tess/webtess/wtv.py?Entry=146.2243779%2C+-32.09978811 HTTP/1.1\" 200 None\n",
      "https://heasarc.gsfc.nasa.gov/cgi-bin/tess/webtess/wtv.py?Entry=<SkyCoord (ICRS): (ra, dec) in deg\n",
      "    (146.2243779, -32.09978811)>\n",
      "[9] <class 'list'>\n",
      "TESS file\n",
      "2567 points masked in lc of 18187\n",
      "NO JUICE Unnamed: 0                        1769\n",
      "dec                           -32.0998\n",
      "dur                                  0\n",
      "file          AllMonos_martti_tess.csv\n",
      "id                         1.19323e+07\n",
      "mission                           TESS\n",
      "ra                             146.224\n",
      "tcen                              2167\n",
      "Name: 270, dtype: object\n",
      "Breaking because status = COMPLETE\n",
      "TESS object\n",
      "DEBUG [urllib3.connectionpool._new_conn()]: Starting new HTTP connection (1): vizier.u-strasbg.fr:80\n",
      "DEBUG [urllib3.connectionpool._make_request()]: http://vizier.u-strasbg.fr:80 \"POST /viz-bin/votable HTTP/1.1\" 200 658\n",
      "DEBUG [urllib3.connectionpool._new_conn()]: Starting new HTTP connection (1): vizier.u-strasbg.fr:80\n",
      "DEBUG [urllib3.connectionpool._make_request()]: http://vizier.u-strasbg.fr:80 \"POST /viz-bin/votable HTTP/1.1\" 200 689\n",
      "DEBUG [urllib3.connectionpool._new_conn()]: Starting new HTTPS connection (1): heasarc.gsfc.nasa.gov:443\n",
      "DEBUG [urllib3.connectionpool._make_request()]: https://heasarc.gsfc.nasa.gov:443 \"GET /cgi-bin/tess/webtess/wtv.py?Entry=348.0675%2C+-27.3527 HTTP/1.1\" 200 None\n",
      "https://heasarc.gsfc.nasa.gov/cgi-bin/tess/webtess/wtv.py?Entry=<SkyCoord (ICRS): (ra, dec) in deg\n",
      "    (348.0675, -27.3527)>\n",
      "[2] <class 'list'>\n",
      "TESS file\n",
      "1440 points masked in lc of 19737\n",
      "NO JUICE Unnamed: 0                                                 1771\n",
      "dec                                                    -27.3527\n",
      "dur                                                           0\n",
      "file          All_OsbornMarttiK2Monos.csv;All_OsbornMarttiK2...\n",
      "id                                                  1.30734e+07\n",
      "mission                                                    TESS\n",
      "ra                                                      348.067\n",
      "tcen                                                       2167\n",
      "Name: 272, dtype: object\n",
      "Breaking because status = COMPLETE\n",
      "TESS object\n",
      "DEBUG [urllib3.connectionpool._new_conn()]: Starting new HTTP connection (1): vizier.u-strasbg.fr:80\n",
      "DEBUG [urllib3.connectionpool._make_request()]: http://vizier.u-strasbg.fr:80 \"POST /viz-bin/votable HTTP/1.1\" 200 659\n",
      "DEBUG [urllib3.connectionpool._new_conn()]: Starting new HTTP connection (1): vizier.u-strasbg.fr:80\n",
      "DEBUG [urllib3.connectionpool._make_request()]: http://vizier.u-strasbg.fr:80 \"POST /viz-bin/votable HTTP/1.1\" 200 690\n",
      "DEBUG [urllib3.connectionpool._new_conn()]: Starting new HTTPS connection (1): heasarc.gsfc.nasa.gov:443\n",
      "DEBUG [urllib3.connectionpool._make_request()]: https://heasarc.gsfc.nasa.gov:443 \"GET /cgi-bin/tess/webtess/wtv.py?Entry=116.91546100000001%2C+14.795554999999998 HTTP/1.1\" 200 None\n",
      "https://heasarc.gsfc.nasa.gov/cgi-bin/tess/webtess/wtv.py?Entry=<SkyCoord (ICRS): (ra, dec) in deg\n",
      "    (116.915461, 14.795555)>\n",
      "[7] <class 'list'>\n",
      "TESS file\n",
      "1265 points masked in lc of 17612\n",
      "NO JUICE Unnamed: 0                        1773\n",
      "dec                            14.7956\n",
      "dur                                  0\n",
      "file          AllMonos_martti_tess.csv\n",
      "id                         1.64889e+07\n",
      "mission                           TESS\n",
      "ra                             116.915\n",
      "tcen                              2167\n",
      "Name: 274, dtype: object\n",
      "Breaking because status = COMPLETE\n",
      "TESS object\n",
      "DEBUG [urllib3.connectionpool._new_conn()]: Starting new HTTP connection (1): vizier.u-strasbg.fr:80\n",
      "DEBUG [urllib3.connectionpool._make_request()]: http://vizier.u-strasbg.fr:80 \"POST /viz-bin/votable HTTP/1.1\" 200 656\n",
      "DEBUG [urllib3.connectionpool._new_conn()]: Starting new HTTP connection (1): vizier.u-strasbg.fr:80\n",
      "DEBUG [urllib3.connectionpool._make_request()]: http://vizier.u-strasbg.fr:80 \"POST /viz-bin/votable HTTP/1.1\" 200 689\n"
     ]
    },
    {
     "name": "stdout",
     "output_type": "stream",
     "text": [
      "DEBUG [urllib3.connectionpool._new_conn()]: Starting new HTTPS connection (1): heasarc.gsfc.nasa.gov:443\n",
      "DEBUG [urllib3.connectionpool._make_request()]: https://heasarc.gsfc.nasa.gov:443 \"GET /cgi-bin/tess/webtess/wtv.py?Entry=255.50121580000004%2C+-29.06278027 HTTP/1.1\" 200 None\n",
      "https://heasarc.gsfc.nasa.gov/cgi-bin/tess/webtess/wtv.py?Entry=<SkyCoord (ICRS): (ra, dec) in deg\n",
      "    (255.5012158, -29.06278027)>\n",
      "[12] <class 'list'>\n",
      "TESS file\n",
      "4260 points masked in lc of 20119\n",
      "NO JUICE Unnamed: 0                        1775\n",
      "dec                           -29.0628\n",
      "dur                                  0\n",
      "file          AllMonos_martti_tess.csv\n",
      "id                         1.96492e+07\n",
      "mission                           TESS\n",
      "ra                             255.501\n",
      "tcen                              2167\n",
      "Name: 276, dtype: object\n",
      "Breaking because status = COMPLETE\n",
      "TESS object\n",
      "DEBUG [urllib3.connectionpool._new_conn()]: Starting new HTTP connection (1): vizier.u-strasbg.fr:80\n",
      "DEBUG [urllib3.connectionpool._make_request()]: http://vizier.u-strasbg.fr:80 \"POST /viz-bin/votable HTTP/1.1\" 200 657\n",
      "DEBUG [urllib3.connectionpool._new_conn()]: Starting new HTTP connection (1): vizier.u-strasbg.fr:80\n",
      "DEBUG [urllib3.connectionpool._make_request()]: http://vizier.u-strasbg.fr:80 \"POST /viz-bin/votable HTTP/1.1\" 200 689\n",
      "DEBUG [urllib3.connectionpool._new_conn()]: Starting new HTTPS connection (1): heasarc.gsfc.nasa.gov:443\n",
      "DEBUG [urllib3.connectionpool._make_request()]: https://heasarc.gsfc.nasa.gov:443 \"GET /cgi-bin/tess/webtess/wtv.py?Entry=87.82645%2C+-37.674549 HTTP/1.1\" 200 None\n",
      "https://heasarc.gsfc.nasa.gov/cgi-bin/tess/webtess/wtv.py?Entry=<SkyCoord (ICRS): (ra, dec) in deg\n",
      "    (87.82645, -37.674549)>\n",
      "[5, 6] <class 'list'>\n",
      "TESS file\n",
      "1101 points masked in lc of 18944\n",
      "# Loading QLP lightcurves\n",
      "21715341 <class 'int'>\n",
      "NO JUICE Unnamed: 0                        1777\n",
      "dec                           -37.6745\n",
      "dur                                  0\n",
      "file          AllMonos_martti_tess.csv\n",
      "id                         2.17153e+07\n",
      "mission                           TESS\n",
      "ra                             87.8264\n",
      "tcen                              2167\n",
      "Name: 278, dtype: object\n",
      "Breaking because status = COMPLETE\n",
      "TESS object\n",
      "DEBUG [urllib3.connectionpool._new_conn()]: Starting new HTTP connection (1): vizier.u-strasbg.fr:80\n",
      "DEBUG [urllib3.connectionpool._make_request()]: http://vizier.u-strasbg.fr:80 \"POST /viz-bin/votable HTTP/1.1\" 200 656\n",
      "DEBUG [urllib3.connectionpool._new_conn()]: Starting new HTTP connection (1): vizier.u-strasbg.fr:80\n",
      "DEBUG [urllib3.connectionpool._make_request()]: http://vizier.u-strasbg.fr:80 \"POST /viz-bin/votable HTTP/1.1\" 200 690\n",
      "DEBUG [urllib3.connectionpool._new_conn()]: Starting new HTTPS connection (1): heasarc.gsfc.nasa.gov:443\n",
      "DEBUG [urllib3.connectionpool._make_request()]: https://heasarc.gsfc.nasa.gov:443 \"GET /cgi-bin/tess/webtess/wtv.py?Entry=166.44101709999998%2C+-31.5424045 HTTP/1.1\" 200 None\n",
      "https://heasarc.gsfc.nasa.gov/cgi-bin/tess/webtess/wtv.py?Entry=<SkyCoord (ICRS): (ra, dec) in deg\n",
      "    (166.4410171, -31.5424045)>\n",
      "[9] <class 'list'>\n",
      "TESS file\n",
      "2341 points masked in lc of 18187\n",
      "NO JUICE Unnamed: 0                        1779\n",
      "dec                           -31.5424\n",
      "dur                                  0\n",
      "file          AllMonos_martti_tess.csv\n",
      "id                         2.31855e+07\n",
      "mission                           TESS\n",
      "ra                             166.441\n",
      "tcen                              2167\n",
      "Name: 280, dtype: object\n",
      "Breaking because status = COMPLETE\n",
      "TESS object\n",
      "DEBUG [urllib3.connectionpool._new_conn()]: Starting new HTTP connection (1): vizier.u-strasbg.fr:80\n",
      "DEBUG [urllib3.connectionpool._make_request()]: http://vizier.u-strasbg.fr:80 \"POST /viz-bin/votable HTTP/1.1\" 200 659\n",
      "DEBUG [urllib3.connectionpool._new_conn()]: Starting new HTTP connection (1): vizier.u-strasbg.fr:80\n",
      "DEBUG [urllib3.connectionpool._make_request()]: http://vizier.u-strasbg.fr:80 \"POST /viz-bin/votable HTTP/1.1\" 200 690\n",
      "DEBUG [urllib3.connectionpool._new_conn()]: Starting new HTTPS connection (1): heasarc.gsfc.nasa.gov:443\n",
      "DEBUG [urllib3.connectionpool._make_request()]: https://heasarc.gsfc.nasa.gov:443 \"GET /cgi-bin/tess/webtess/wtv.py?Entry=238.2383603%2C+-29.54667836 HTTP/1.1\" 200 None\n",
      "https://heasarc.gsfc.nasa.gov/cgi-bin/tess/webtess/wtv.py?Entry=<SkyCoord (ICRS): (ra, dec) in deg\n",
      "    (238.2383603, -29.54667836)>\n",
      "[12] <class 'list'>\n",
      "TESS file\n",
      "4432 points masked in lc of 20119\n",
      "NO JUICE Unnamed: 0                        1781\n",
      "dec                           -29.5467\n",
      "dur                                  0\n",
      "file          AllMonos_martti_tess.csv\n",
      "id                         2.40024e+07\n",
      "mission                           TESS\n",
      "ra                             238.238\n",
      "tcen                              2167\n",
      "Name: 282, dtype: object\n",
      "Breaking because status = COMPLETE\n",
      "TESS object\n",
      "DEBUG [urllib3.connectionpool._new_conn()]: Starting new HTTP connection (1): vizier.u-strasbg.fr:80\n",
      "DEBUG [urllib3.connectionpool._make_request()]: http://vizier.u-strasbg.fr:80 \"POST /viz-bin/votable HTTP/1.1\" 200 656\n",
      "DEBUG [urllib3.connectionpool._new_conn()]: Starting new HTTP connection (1): vizier.u-strasbg.fr:80\n",
      "DEBUG [urllib3.connectionpool._make_request()]: http://vizier.u-strasbg.fr:80 \"POST /viz-bin/votable HTTP/1.1\" 200 687\n",
      "DEBUG [urllib3.connectionpool._new_conn()]: Starting new HTTPS connection (1): heasarc.gsfc.nasa.gov:443\n",
      "DEBUG [urllib3.connectionpool._make_request()]: https://heasarc.gsfc.nasa.gov:443 \"GET /cgi-bin/tess/webtess/wtv.py?Entry=81.777727%2C+-31.566144 HTTP/1.1\" 200 None\n",
      "https://heasarc.gsfc.nasa.gov/cgi-bin/tess/webtess/wtv.py?Entry=<SkyCoord (ICRS): (ra, dec) in deg\n",
      "    (81.777727, -31.566144)>\n",
      "[5, 6] <class 'list'>\n",
      "TESS file\n",
      "1091 points masked in lc of 18944\n",
      "TESS file\n",
      "878 points masked in lc of 15678\n",
      "[0, 1]\n",
      "NO JUICE Unnamed: 0                        1784\n",
      "dec                           -31.5661\n",
      "dur                                  0\n",
      "file          AllMonos_martti_tess.csv\n",
      "id                         2.44002e+07\n",
      "mission                           TESS\n",
      "ra                             81.7777\n",
      "tcen                              2167\n",
      "Name: 284, dtype: object\n",
      "Breaking because status = COMPLETE\n",
      "TESS object\n",
      "DEBUG [urllib3.connectionpool._new_conn()]: Starting new HTTP connection (1): vizier.u-strasbg.fr:80\n",
      "DEBUG [urllib3.connectionpool._make_request()]: http://vizier.u-strasbg.fr:80 \"POST /viz-bin/votable HTTP/1.1\" 200 657\n",
      "DEBUG [urllib3.connectionpool._new_conn()]: Starting new HTTP connection (1): vizier.u-strasbg.fr:80\n",
      "DEBUG [urllib3.connectionpool._make_request()]: http://vizier.u-strasbg.fr:80 \"POST /viz-bin/votable HTTP/1.1\" 200 690\n",
      "DEBUG [urllib3.connectionpool._new_conn()]: Starting new HTTPS connection (1): heasarc.gsfc.nasa.gov:443\n",
      "DEBUG [urllib3.connectionpool._make_request()]: https://heasarc.gsfc.nasa.gov:443 \"GET /cgi-bin/tess/webtess/wtv.py?Entry=142.5268%2C+-30.4025 HTTP/1.1\" 200 None\n",
      "https://heasarc.gsfc.nasa.gov/cgi-bin/tess/webtess/wtv.py?Entry=<SkyCoord (ICRS): (ra, dec) in deg\n",
      "    (142.5268, -30.4025)>\n",
      "[8, 9] <class 'list'>\n",
      "TESS file\n",
      "4381 points masked in lc of 17755\n",
      "No QLP files at /Volumes/LUVOIR/MonoToolsData/TIC00024969647 Loading Eleanor Lightcurve\n",
      "DEBUG [urllib3.connectionpool._get_conn()]: Resetting dropped connection: mast.stsci.edu\n",
      "DEBUG [urllib3.connectionpool._make_request()]: https://mast.stsci.edu:443 \"POST /api/v0/invoke HTTP/1.1\" 200 None\n",
      "DEBUG [urllib3.connectionpool._make_request()]: https://mast.stsci.edu:443 \"POST /api/v0/invoke HTTP/1.1\" 200 None\n",
      "DEBUG [urllib3.connectionpool._get_conn()]: Resetting dropped connection: mast.stsci.edu\n",
      "DEBUG [urllib3.connectionpool._make_request()]: https://mast.stsci.edu:443 \"POST /api/v0/invoke HTTP/1.1\" 200 None\n",
      "DEBUG [urllib3.connectionpool._make_request()]: https://mast.stsci.edu:443 \"POST /api/v0/invoke HTTP/1.1\" 200 None\n",
      "DEBUG [urllib3.connectionpool._make_request()]: https://mast.stsci.edu:443 \"HEAD /api/v0.1/Download/file?uri=mast:HLSP/eleanor/postcards/s0009/2-1/hlsp_eleanor_tess_ffi_postcard-s0009-2-1-cal-0314-1888_tess_v2_bkg.fits HTTP/1.1\" 200 0\n",
      "DEBUG [urllib3.connectionpool._new_conn()]: Starting new HTTPS connection (5): mast.stsci.edu:443\n",
      "DEBUG [urllib3.connectionpool._make_request()]: https://mast.stsci.edu:443 \"GET /api/v0.1/Download/file?uri=mast:HLSP/eleanor/postcards/s0009/2-1/hlsp_eleanor_tess_ffi_postcard-s0009-2-1-cal-0314-1888_tess_v2_bkg.fits HTTP/1.1\" 200 71072640\n"
     ]
    },
    {
     "name": "stdout",
     "output_type": "stream",
     "text": [
      "Downloading URL https://mast.stsci.edu/api/v0.1/Download/file?uri=mast:HLSP/eleanor/postcards/s0009/2-1/hlsp_eleanor_tess_ffi_postcard-s0009-2-1-cal-0314-1888_tess_v2_bkg.fits to /Users/hosborn/.eleanor/mastDownload/HLSP/hlsp_eleanor_tess_ffi_postcard-s0009-2-1-cal-0314-1888_tess_v2_pc/hlsp_eleanor_tess_ffi_postcard-s0009-2-1-cal-0314-1888_tess_v2_bkg.fits ... [Done]\n",
      "DEBUG [urllib3.connectionpool._make_request()]: https://mast.stsci.edu:443 \"HEAD /api/v0.1/Download/file?uri=mast:HLSP/eleanor/postcards/s0009/2-1/hlsp_eleanor_tess_ffi_postcard-s0009-2-1-cal-0314-1888_tess_v2_pc.fits HTTP/1.1\" 200 0\n",
      "DEBUG [urllib3.connectionpool._new_conn()]: Starting new HTTPS connection (6): mast.stsci.edu:443\n",
      "DEBUG [urllib3.connectionpool._make_request()]: https://mast.stsci.edu:443 \"GET /api/v0.1/Download/file?uri=mast:HLSP/eleanor/postcards/s0009/2-1/hlsp_eleanor_tess_ffi_postcard-s0009-2-1-cal-0314-1888_tess_v2_pc.fits HTTP/1.1\" 200 142246080\n",
      "Downloading URL https://mast.stsci.edu/api/v0.1/Download/file?uri=mast:HLSP/eleanor/postcards/s0009/2-1/hlsp_eleanor_tess_ffi_postcard-s0009-2-1-cal-0314-1888_tess_v2_pc.fits to /Users/hosborn/.eleanor/mastDownload/HLSP/hlsp_eleanor_tess_ffi_postcard-s0009-2-1-cal-0314-1888_tess_v2_pc/hlsp_eleanor_tess_ffi_postcard-s0009-2-1-cal-0314-1888_tess_v2_pc.fits ... [Done]\n",
      "DEBUG [urllib3.connectionpool._make_request()]: https://mast.stsci.edu:443 \"HEAD /api/v0.1/Download/file?uri=mast:HLSP/eleanor/postcards/s0009/2-1/hlsp_eleanor_tess_ffi_postcard-s0009-2-1_tess_v2_pm.txt HTTP/1.1\" 200 0\n",
      "DEBUG [urllib3.connectionpool._new_conn()]: Starting new HTTPS connection (7): mast.stsci.edu:443\n",
      "DEBUG [urllib3.connectionpool._make_request()]: https://mast.stsci.edu:443 \"GET /api/v0.1/Download/file?uri=mast:HLSP/eleanor/postcards/s0009/2-1/hlsp_eleanor_tess_ffi_postcard-s0009-2-1_tess_v2_pm.txt HTTP/1.1\" 200 214314\n",
      "Downloading URL https://mast.stsci.edu/api/v0.1/Download/file?uri=mast:HLSP/eleanor/postcards/s0009/2-1/hlsp_eleanor_tess_ffi_postcard-s0009-2-1_tess_v2_pm.txt to /Users/hosborn/.eleanor/mastDownload/HLSP/hlsp_eleanor_tess_ffi_postcard-s0009-2-1-cal-0314-1888_tess_v2_pc/hlsp_eleanor_tess_ffi_postcard-s0009-2-1_tess_v2_pm.txt ... [Done]\n",
      "INFO: \n",
      "                Inconsistent SIP distortion information is present in the FITS header and the WCS object:\n",
      "                SIP coefficients were detected, but CTYPE is missing a \"-SIP\" suffix.\n",
      "                astropy.wcs is using the SIP distortion coefficients,\n",
      "                therefore the coordinates calculated here might be incorrect.\n",
      "\n",
      "                If you do not want to apply the SIP distortion coefficients,\n",
      "                please remove the SIP coefficients from the FITS header or the\n",
      "                WCS object.  As an example, if the image is already distortion-corrected\n",
      "                (e.g., drizzled) then distortion components should not apply and the SIP\n",
      "                coefficients should be removed.\n",
      "\n",
      "                While the SIP distortion coefficients are being applied here, if that was indeed the intent,\n",
      "                for consistency please append \"-SIP\" to the CTYPE in the FITS header or the WCS object.\n",
      "\n",
      "                 [astropy.wcs.wcs]\n",
      "INFO  [astropy._read_sip_kw()]: \n",
      "                Inconsistent SIP distortion information is present in the FITS header and the WCS object:\n",
      "                SIP coefficients were detected, but CTYPE is missing a \"-SIP\" suffix.\n",
      "                astropy.wcs is using the SIP distortion coefficients,\n",
      "                therefore the coordinates calculated here might be incorrect.\n",
      "\n",
      "                If you do not want to apply the SIP distortion coefficients,\n",
      "                please remove the SIP coefficients from the FITS header or the\n",
      "                WCS object.  As an example, if the image is already distortion-corrected\n",
      "                (e.g., drizzled) then distortion components should not apply and the SIP\n",
      "                coefficients should be removed.\n",
      "\n",
      "                While the SIP distortion coefficients are being applied here, if that was indeed the intent,\n",
      "                for consistency please append \"-SIP\" to the CTYPE in the FITS header or the WCS object.\n",
      "\n",
      "                \n"
     ]
    },
    {
     "name": "stderr",
     "output_type": "stream",
     "text": [
      "100%|██████████| 1154/1154 [00:13<00:00, 83.12it/s] \n"
     ]
    },
    {
     "name": "stdout",
     "output_type": "stream",
     "text": [
      "65 points masked in lc of 1154\n",
      "[0, 1]\n",
      "NO JUICE Unnamed: 0                        1786\n",
      "dec                           -30.4025\n",
      "dur                                  0\n",
      "file          AllMonos_martti_tess.csv\n",
      "id                         2.49696e+07\n",
      "mission                           TESS\n",
      "ra                             142.527\n",
      "tcen                              2167\n",
      "Name: 286, dtype: object\n",
      "Breaking because status = COMPLETE\n",
      "TESS object\n",
      "DEBUG [urllib3.connectionpool._new_conn()]: Starting new HTTP connection (1): vizier.u-strasbg.fr:80\n",
      "DEBUG [urllib3.connectionpool._make_request()]: http://vizier.u-strasbg.fr:80 \"POST /viz-bin/votable HTTP/1.1\" 200 657\n",
      "DEBUG [urllib3.connectionpool._new_conn()]: Starting new HTTP connection (1): vizier.u-strasbg.fr:80\n",
      "DEBUG [urllib3.connectionpool._make_request()]: http://vizier.u-strasbg.fr:80 \"POST /viz-bin/votable HTTP/1.1\" 200 688\n",
      "DEBUG [urllib3.connectionpool._new_conn()]: Starting new HTTPS connection (1): heasarc.gsfc.nasa.gov:443\n",
      "DEBUG [urllib3.connectionpool._make_request()]: https://heasarc.gsfc.nasa.gov:443 \"GET /cgi-bin/tess/webtess/wtv.py?Entry=60.11029820000001%2C+-68.935665 HTTP/1.1\" 200 None\n",
      "https://heasarc.gsfc.nasa.gov/cgi-bin/tess/webtess/wtv.py?Entry=<SkyCoord (ICRS): (ra, dec) in deg\n",
      "    (60.1102982, -68.935665)>\n",
      "[1, 2, 3, 4, 5, 6, 7, 8, 9, 10, 11, 12, 13] <class 'list'>\n",
      "TESS file\n",
      "1985 points masked in lc of 20076\n",
      "TESS file\n",
      "1432 points masked in lc of 19737\n",
      "TESS file\n",
      "6249 points masked in lc of 19692\n",
      "TESS file\n",
      "2911 points masked in lc of 18684\n",
      "TESS file\n",
      "871 points masked in lc of 15678\n",
      "TESS file\n",
      "1266 points masked in lc of 17612\n",
      "TESS file\n",
      "4350 points masked in lc of 17755\n",
      "TESS file\n",
      "2510 points masked in lc of 18187\n",
      "TESS file\n",
      "2693 points masked in lc of 18900\n",
      "TESS file\n",
      "3457 points masked in lc of 19527\n",
      "TESS file\n",
      "1046 points masked in lc of 20119\n",
      "TESS file\n",
      "929 points masked in lc of 20479\n",
      "# Loading QLP lightcurves\n",
      "25063999 <class 'int'>\n",
      "NO JUICE Unnamed: 0                        1788\n",
      "dec                           -68.9357\n",
      "dur                                  0\n",
      "file          AllMonos_martti_tess.csv\n",
      "id                          2.5064e+07\n",
      "mission                           TESS\n",
      "ra                             60.1103\n",
      "tcen                              2167\n",
      "Name: 288, dtype: object\n",
      "Breaking because status = COMPLETE\n",
      "TESS object\n",
      "DEBUG [urllib3.connectionpool._new_conn()]: Starting new HTTP connection (1): vizier.u-strasbg.fr:80\n",
      "DEBUG [urllib3.connectionpool._make_request()]: http://vizier.u-strasbg.fr:80 \"POST /viz-bin/votable HTTP/1.1\" 200 657\n",
      "DEBUG [urllib3.connectionpool._new_conn()]: Starting new HTTP connection (1): vizier.u-strasbg.fr:80\n",
      "DEBUG [urllib3.connectionpool._make_request()]: http://vizier.u-strasbg.fr:80 \"POST /viz-bin/votable HTTP/1.1\" 200 689\n",
      "DEBUG [urllib3.connectionpool._new_conn()]: Starting new HTTPS connection (1): heasarc.gsfc.nasa.gov:443\n",
      "DEBUG [urllib3.connectionpool._make_request()]: https://heasarc.gsfc.nasa.gov:443 \"GET /cgi-bin/tess/webtess/wtv.py?Entry=276.111%2C+-29.531999999999996 HTTP/1.1\" 200 None\n",
      "https://heasarc.gsfc.nasa.gov/cgi-bin/tess/webtess/wtv.py?Entry=<SkyCoord (ICRS): (ra, dec) in deg\n",
      "    (276.111, -29.532)>\n",
      "[13] <class 'list'>\n",
      "TESS file\n",
      "2409 points masked in lc of 20479\n",
      "transit mask: <class 'numpy.ndarray'> 19811 0 <class 'numpy.ndarray'> 19811 True\n"
     ]
    },
    {
     "name": "stderr",
     "output_type": "stream",
     "text": [
      "INFO (theano.gof.compilelock): Waiting for existing lock by process '20511' (I am process '19630')\n"
     ]
    },
    {
     "name": "stdout",
     "output_type": "stream",
     "text": [
      "INFO  [theano.gof.compilelock.lock()]: Waiting for existing lock by process '20511' (I am process '19630')\n"
     ]
    },
    {
     "name": "stderr",
     "output_type": "stream",
     "text": [
      "INFO (theano.gof.compilelock): To manually release the lock, delete /Users/hosborn/.theano/compiledir_Darwin-19.3.0-x86_64-i386-64bit-i386-3.7.6-64/lock_dir\n"
     ]
    },
    {
     "name": "stdout",
     "output_type": "stream",
     "text": [
      "INFO  [theano.gof.compilelock.lock()]: To manually release the lock, delete /Users/hosborn/.theano/compiledir_Darwin-19.3.0-x86_64-i386-64bit-i386-3.7.6-64/lock_dir\n"
     ]
    },
    {
     "name": "stderr",
     "output_type": "stream",
     "text": [
      "INFO (theano.gof.compilelock): Waiting for existing lock by process '20511' (I am process '19630')\n"
     ]
    },
    {
     "name": "stdout",
     "output_type": "stream",
     "text": [
      "INFO  [theano.gof.compilelock.lock()]: Waiting for existing lock by process '20511' (I am process '19630')\n"
     ]
    },
    {
     "name": "stderr",
     "output_type": "stream",
     "text": [
      "INFO (theano.gof.compilelock): To manually release the lock, delete /Users/hosborn/.theano/compiledir_Darwin-19.3.0-x86_64-i386-64bit-i386-3.7.6-64/lock_dir\n"
     ]
    },
    {
     "name": "stdout",
     "output_type": "stream",
     "text": [
      "INFO  [theano.gof.compilelock.lock()]: To manually release the lock, delete /Users/hosborn/.theano/compiledir_Darwin-19.3.0-x86_64-i386-64bit-i386-3.7.6-64/lock_dir\n"
     ]
    },
    {
     "name": "stderr",
     "output_type": "stream",
     "text": [
      "INFO (theano.gof.compilelock): Waiting for existing lock by process '20511' (I am process '19630')\n"
     ]
    },
    {
     "name": "stdout",
     "output_type": "stream",
     "text": [
      "INFO  [theano.gof.compilelock.lock()]: Waiting for existing lock by process '20511' (I am process '19630')\n"
     ]
    },
    {
     "name": "stderr",
     "output_type": "stream",
     "text": [
      "INFO (theano.gof.compilelock): To manually release the lock, delete /Users/hosborn/.theano/compiledir_Darwin-19.3.0-x86_64-i386-64bit-i386-3.7.6-64/lock_dir\n"
     ]
    },
    {
     "name": "stdout",
     "output_type": "stream",
     "text": [
      "INFO  [theano.gof.compilelock.lock()]: To manually release the lock, delete /Users/hosborn/.theano/compiledir_Darwin-19.3.0-x86_64-i386-64bit-i386-3.7.6-64/lock_dir\n"
     ]
    },
    {
     "name": "stderr",
     "output_type": "stream",
     "text": [
      "INFO (theano.gof.compilelock): Waiting for existing lock by process '20511' (I am process '19630')\n"
     ]
    },
    {
     "name": "stdout",
     "output_type": "stream",
     "text": [
      "INFO  [theano.gof.compilelock.lock()]: Waiting for existing lock by process '20511' (I am process '19630')\n"
     ]
    },
    {
     "name": "stderr",
     "output_type": "stream",
     "text": [
      "INFO (theano.gof.compilelock): To manually release the lock, delete /Users/hosborn/.theano/compiledir_Darwin-19.3.0-x86_64-i386-64bit-i386-3.7.6-64/lock_dir\n"
     ]
    },
    {
     "name": "stdout",
     "output_type": "stream",
     "text": [
      "INFO  [theano.gof.compilelock.lock()]: To manually release the lock, delete /Users/hosborn/.theano/compiledir_Darwin-19.3.0-x86_64-i386-64bit-i386-3.7.6-64/lock_dir\n"
     ]
    },
    {
     "name": "stderr",
     "output_type": "stream",
     "text": [
      "INFO (theano.gof.compilelock): Waiting for existing lock by process '20511' (I am process '19630')\n"
     ]
    },
    {
     "name": "stdout",
     "output_type": "stream",
     "text": [
      "INFO  [theano.gof.compilelock.lock()]: Waiting for existing lock by process '20511' (I am process '19630')\n"
     ]
    },
    {
     "name": "stderr",
     "output_type": "stream",
     "text": [
      "INFO (theano.gof.compilelock): To manually release the lock, delete /Users/hosborn/.theano/compiledir_Darwin-19.3.0-x86_64-i386-64bit-i386-3.7.6-64/lock_dir\n"
     ]
    },
    {
     "name": "stdout",
     "output_type": "stream",
     "text": [
      "INFO  [theano.gof.compilelock.lock()]: To manually release the lock, delete /Users/hosborn/.theano/compiledir_Darwin-19.3.0-x86_64-i386-64bit-i386-3.7.6-64/lock_dir\n"
     ]
    },
    {
     "name": "stderr",
     "output_type": "stream",
     "text": [
      "INFO (theano.gof.compilelock): Waiting for existing lock by process '20511' (I am process '19630')\n"
     ]
    },
    {
     "name": "stdout",
     "output_type": "stream",
     "text": [
      "INFO  [theano.gof.compilelock.lock()]: Waiting for existing lock by process '20511' (I am process '19630')\n"
     ]
    },
    {
     "name": "stderr",
     "output_type": "stream",
     "text": [
      "INFO (theano.gof.compilelock): To manually release the lock, delete /Users/hosborn/.theano/compiledir_Darwin-19.3.0-x86_64-i386-64bit-i386-3.7.6-64/lock_dir\n"
     ]
    },
    {
     "name": "stdout",
     "output_type": "stream",
     "text": [
      "INFO  [theano.gof.compilelock.lock()]: To manually release the lock, delete /Users/hosborn/.theano/compiledir_Darwin-19.3.0-x86_64-i386-64bit-i386-3.7.6-64/lock_dir\n"
     ]
    },
    {
     "name": "stderr",
     "output_type": "stream",
     "text": [
      "INFO (theano.gof.compilelock): Waiting for existing lock by process '20511' (I am process '19630')\n"
     ]
    },
    {
     "name": "stdout",
     "output_type": "stream",
     "text": [
      "INFO  [theano.gof.compilelock.lock()]: Waiting for existing lock by process '20511' (I am process '19630')\n"
     ]
    },
    {
     "name": "stderr",
     "output_type": "stream",
     "text": [
      "INFO (theano.gof.compilelock): To manually release the lock, delete /Users/hosborn/.theano/compiledir_Darwin-19.3.0-x86_64-i386-64bit-i386-3.7.6-64/lock_dir\n"
     ]
    },
    {
     "name": "stdout",
     "output_type": "stream",
     "text": [
      "INFO  [theano.gof.compilelock.lock()]: To manually release the lock, delete /Users/hosborn/.theano/compiledir_Darwin-19.3.0-x86_64-i386-64bit-i386-3.7.6-64/lock_dir\n"
     ]
    },
    {
     "name": "stderr",
     "output_type": "stream",
     "text": [
      "INFO (theano.gof.compilelock): Waiting for existing lock by process '20511' (I am process '19630')\n"
     ]
    },
    {
     "name": "stdout",
     "output_type": "stream",
     "text": [
      "INFO  [theano.gof.compilelock.lock()]: Waiting for existing lock by process '20511' (I am process '19630')\n"
     ]
    },
    {
     "name": "stderr",
     "output_type": "stream",
     "text": [
      "INFO (theano.gof.compilelock): To manually release the lock, delete /Users/hosborn/.theano/compiledir_Darwin-19.3.0-x86_64-i386-64bit-i386-3.7.6-64/lock_dir\n"
     ]
    },
    {
     "name": "stdout",
     "output_type": "stream",
     "text": [
      "INFO  [theano.gof.compilelock.lock()]: To manually release the lock, delete /Users/hosborn/.theano/compiledir_Darwin-19.3.0-x86_64-i386-64bit-i386-3.7.6-64/lock_dir\n"
     ]
    },
    {
     "name": "stderr",
     "output_type": "stream",
     "text": [
      "INFO (theano.gof.compilelock): Waiting for existing lock by process '20511' (I am process '19630')\n"
     ]
    },
    {
     "name": "stdout",
     "output_type": "stream",
     "text": [
      "INFO  [theano.gof.compilelock.lock()]: Waiting for existing lock by process '20511' (I am process '19630')\n"
     ]
    },
    {
     "name": "stderr",
     "output_type": "stream",
     "text": [
      "INFO (theano.gof.compilelock): To manually release the lock, delete /Users/hosborn/.theano/compiledir_Darwin-19.3.0-x86_64-i386-64bit-i386-3.7.6-64/lock_dir\n"
     ]
    },
    {
     "name": "stdout",
     "output_type": "stream",
     "text": [
      "INFO  [theano.gof.compilelock.lock()]: To manually release the lock, delete /Users/hosborn/.theano/compiledir_Darwin-19.3.0-x86_64-i386-64bit-i386-3.7.6-64/lock_dir\n"
     ]
    },
    {
     "name": "stderr",
     "output_type": "stream",
     "text": [
      "INFO (theano.gof.compilelock): Waiting for existing lock by process '20511' (I am process '19630')\n"
     ]
    },
    {
     "name": "stdout",
     "output_type": "stream",
     "text": [
      "INFO  [theano.gof.compilelock.lock()]: Waiting for existing lock by process '20511' (I am process '19630')\n"
     ]
    },
    {
     "name": "stderr",
     "output_type": "stream",
     "text": [
      "INFO (theano.gof.compilelock): To manually release the lock, delete /Users/hosborn/.theano/compiledir_Darwin-19.3.0-x86_64-i386-64bit-i386-3.7.6-64/lock_dir\n"
     ]
    },
    {
     "name": "stdout",
     "output_type": "stream",
     "text": [
      "INFO  [theano.gof.compilelock.lock()]: To manually release the lock, delete /Users/hosborn/.theano/compiledir_Darwin-19.3.0-x86_64-i386-64bit-i386-3.7.6-64/lock_dir\n"
     ]
    },
    {
     "name": "stderr",
     "output_type": "stream",
     "text": [
      "INFO (theano.gof.compilelock): Waiting for existing lock by process '20511' (I am process '19630')\n"
     ]
    },
    {
     "name": "stdout",
     "output_type": "stream",
     "text": [
      "INFO  [theano.gof.compilelock.lock()]: Waiting for existing lock by process '20511' (I am process '19630')\n"
     ]
    },
    {
     "name": "stderr",
     "output_type": "stream",
     "text": [
      "INFO (theano.gof.compilelock): To manually release the lock, delete /Users/hosborn/.theano/compiledir_Darwin-19.3.0-x86_64-i386-64bit-i386-3.7.6-64/lock_dir\n"
     ]
    },
    {
     "name": "stdout",
     "output_type": "stream",
     "text": [
      "INFO  [theano.gof.compilelock.lock()]: To manually release the lock, delete /Users/hosborn/.theano/compiledir_Darwin-19.3.0-x86_64-i386-64bit-i386-3.7.6-64/lock_dir\n"
     ]
    },
    {
     "name": "stderr",
     "output_type": "stream",
     "text": [
      "INFO (theano.gof.compilelock): Waiting for existing lock by process '20511' (I am process '19630')\n"
     ]
    },
    {
     "name": "stdout",
     "output_type": "stream",
     "text": [
      "INFO  [theano.gof.compilelock.lock()]: Waiting for existing lock by process '20511' (I am process '19630')\n"
     ]
    },
    {
     "name": "stderr",
     "output_type": "stream",
     "text": [
      "INFO (theano.gof.compilelock): To manually release the lock, delete /Users/hosborn/.theano/compiledir_Darwin-19.3.0-x86_64-i386-64bit-i386-3.7.6-64/lock_dir\n"
     ]
    },
    {
     "name": "stdout",
     "output_type": "stream",
     "text": [
      "INFO  [theano.gof.compilelock.lock()]: To manually release the lock, delete /Users/hosborn/.theano/compiledir_Darwin-19.3.0-x86_64-i386-64bit-i386-3.7.6-64/lock_dir\n"
     ]
    },
    {
     "name": "stderr",
     "output_type": "stream",
     "text": [
      "INFO (theano.gof.compilelock): Waiting for existing lock by process '20511' (I am process '19630')\n"
     ]
    },
    {
     "name": "stdout",
     "output_type": "stream",
     "text": [
      "INFO  [theano.gof.compilelock.lock()]: Waiting for existing lock by process '20511' (I am process '19630')\n"
     ]
    },
    {
     "name": "stderr",
     "output_type": "stream",
     "text": [
      "INFO (theano.gof.compilelock): To manually release the lock, delete /Users/hosborn/.theano/compiledir_Darwin-19.3.0-x86_64-i386-64bit-i386-3.7.6-64/lock_dir\n"
     ]
    },
    {
     "name": "stdout",
     "output_type": "stream",
     "text": [
      "INFO  [theano.gof.compilelock.lock()]: To manually release the lock, delete /Users/hosborn/.theano/compiledir_Darwin-19.3.0-x86_64-i386-64bit-i386-3.7.6-64/lock_dir\n",
      "00 - Checks complete.  SNR: 12.60413  SNR_r: 6.121083  variability: -51.5066  centroid: 12.33664 | flag: planet\n",
      "DEBUG [matplotlib.backends.backend_pdf.fontName()]: Assigning font /b'F1' = '/Users/hosborn/transits/lib/python3.7/site-packages/matplotlib/mpl-data/fonts/ttf/DejaVuSans.ttf'\n",
      "DEBUG [matplotlib.backends.backend_pdf.writeFonts()]: Embedding font /Users/hosborn/transits/lib/python3.7/site-packages/matplotlib/mpl-data/fonts/ttf/DejaVuSans.ttf.\n",
      "DEBUG [matplotlib.backends.backend_pdf.writeFonts()]: Writing TrueType font.\n",
      "Breaking because status = COMPLETE\n",
      "TESS object\n",
      "DEBUG [urllib3.connectionpool._new_conn()]: Starting new HTTP connection (1): vizier.u-strasbg.fr:80\n",
      "DEBUG [urllib3.connectionpool._make_request()]: http://vizier.u-strasbg.fr:80 \"POST /viz-bin/votable HTTP/1.1\" 200 657\n",
      "DEBUG [urllib3.connectionpool._new_conn()]: Starting new HTTP connection (1): vizier.u-strasbg.fr:80\n",
      "DEBUG [urllib3.connectionpool._make_request()]: http://vizier.u-strasbg.fr:80 \"POST /viz-bin/votable HTTP/1.1\" 200 688\n",
      "DEBUG [urllib3.connectionpool._new_conn()]: Starting new HTTPS connection (1): heasarc.gsfc.nasa.gov:443\n",
      "DEBUG [urllib3.connectionpool._make_request()]: https://heasarc.gsfc.nasa.gov:443 \"GET /cgi-bin/tess/webtess/wtv.py?Entry=98.4472%2C+-11.0451 HTTP/1.1\" 200 None\n",
      "https://heasarc.gsfc.nasa.gov/cgi-bin/tess/webtess/wtv.py?Entry=<SkyCoord (ICRS): (ra, dec) in deg\n",
      "    (98.4472, -11.0451)>\n",
      "[6] <class 'list'>\n",
      "TESS file\n",
      "853 points masked in lc of 15678\n",
      "NO JUICE Unnamed: 0                                                 1792\n",
      "dec                                                    -11.0451\n",
      "dur                                                           0\n",
      "file          lacourse_jacobs_k2_table.csv;All_OsbornMarttiK...\n",
      "id                                                  2.53374e+07\n",
      "mission                                                    TESS\n",
      "ra                                                      98.4472\n",
      "tcen                                                       2167\n",
      "Name: 292, dtype: object\n",
      "Breaking because status = COMPLETE\n",
      "TESS object\n",
      "DEBUG [urllib3.connectionpool._new_conn()]: Starting new HTTP connection (1): vizier.u-strasbg.fr:80\n",
      "DEBUG [urllib3.connectionpool._make_request()]: http://vizier.u-strasbg.fr:80 \"POST /viz-bin/votable HTTP/1.1\" 200 657\n",
      "DEBUG [urllib3.connectionpool._new_conn()]: Starting new HTTP connection (1): vizier.u-strasbg.fr:80\n",
      "DEBUG [urllib3.connectionpool._make_request()]: http://vizier.u-strasbg.fr:80 \"POST /viz-bin/votable HTTP/1.1\" 200 690\n",
      "DEBUG [urllib3.connectionpool._new_conn()]: Starting new HTTPS connection (1): heasarc.gsfc.nasa.gov:443\n",
      "DEBUG [urllib3.connectionpool._make_request()]: https://heasarc.gsfc.nasa.gov:443 \"GET /cgi-bin/tess/webtess/wtv.py?Entry=144.7697949%2C+-30.781053399999998 HTTP/1.1\" 200 None\n",
      "https://heasarc.gsfc.nasa.gov/cgi-bin/tess/webtess/wtv.py?Entry=<SkyCoord (ICRS): (ra, dec) in deg\n",
      "    (144.7697949, -30.7810534)>\n",
      "[8, 9] <class 'list'>\n",
      "TESS file\n",
      "4358 points masked in lc of 17755\n",
      "TESS file\n",
      "2571 points masked in lc of 18187\n",
      "[0, 1]\n",
      "NO JUICE Unnamed: 0                        1794\n",
      "dec                           -30.7811\n",
      "dur                                  0\n",
      "file          AllMonos_martti_tess.csv\n",
      "id                         2.56083e+07\n",
      "mission                           TESS\n",
      "ra                              144.77\n",
      "tcen                              2167\n",
      "Name: 294, dtype: object\n",
      "Breaking because status = COMPLETE\n",
      "TESS object\n",
      "DEBUG [urllib3.connectionpool._new_conn()]: Starting new HTTP connection (1): vizier.u-strasbg.fr:80\n",
      "DEBUG [urllib3.connectionpool._make_request()]: http://vizier.u-strasbg.fr:80 \"POST /viz-bin/votable HTTP/1.1\" 200 657\n",
      "DEBUG [urllib3.connectionpool._new_conn()]: Starting new HTTP connection (1): vizier.u-strasbg.fr:80\n",
      "DEBUG [urllib3.connectionpool._make_request()]: http://vizier.u-strasbg.fr:80 \"POST /viz-bin/votable HTTP/1.1\" 200 689\n",
      "DEBUG [urllib3.connectionpool._new_conn()]: Starting new HTTPS connection (1): heasarc.gsfc.nasa.gov:443\n",
      "DEBUG [urllib3.connectionpool._make_request()]: https://heasarc.gsfc.nasa.gov:443 \"GET /cgi-bin/tess/webtess/wtv.py?Entry=248.9527989%2C+-53.75076196 HTTP/1.1\" 200 None\n",
      "https://heasarc.gsfc.nasa.gov/cgi-bin/tess/webtess/wtv.py?Entry=<SkyCoord (ICRS): (ra, dec) in deg\n",
      "    (248.9527989, -53.75076196)>\n",
      "[12] <class 'list'>\n",
      "TESS file\n",
      "1280 points masked in lc of 20119\n",
      "transit mask: <class 'numpy.ndarray'> 19373 0 <class 'numpy.ndarray'> 19373 True\n"
     ]
    },
    {
     "name": "stderr",
     "output_type": "stream",
     "text": [
      "INFO (theano.gof.compilelock): Waiting for existing lock by process '20511' (I am process '19630')\n"
     ]
    },
    {
     "name": "stdout",
     "output_type": "stream",
     "text": [
      "INFO  [theano.gof.compilelock.lock()]: Waiting for existing lock by process '20511' (I am process '19630')\n"
     ]
    },
    {
     "name": "stderr",
     "output_type": "stream",
     "text": [
      "INFO (theano.gof.compilelock): To manually release the lock, delete /Users/hosborn/.theano/compiledir_Darwin-19.3.0-x86_64-i386-64bit-i386-3.7.6-64/lock_dir\n"
     ]
    },
    {
     "name": "stdout",
     "output_type": "stream",
     "text": [
      "INFO  [theano.gof.compilelock.lock()]: To manually release the lock, delete /Users/hosborn/.theano/compiledir_Darwin-19.3.0-x86_64-i386-64bit-i386-3.7.6-64/lock_dir\n"
     ]
    },
    {
     "name": "stderr",
     "output_type": "stream",
     "text": [
      "INFO (theano.gof.compilelock): Waiting for existing lock by process '20511' (I am process '19630')\n"
     ]
    },
    {
     "name": "stdout",
     "output_type": "stream",
     "text": [
      "INFO  [theano.gof.compilelock.lock()]: Waiting for existing lock by process '20511' (I am process '19630')\n"
     ]
    },
    {
     "name": "stderr",
     "output_type": "stream",
     "text": [
      "INFO (theano.gof.compilelock): To manually release the lock, delete /Users/hosborn/.theano/compiledir_Darwin-19.3.0-x86_64-i386-64bit-i386-3.7.6-64/lock_dir\n"
     ]
    },
    {
     "name": "stdout",
     "output_type": "stream",
     "text": [
      "INFO  [theano.gof.compilelock.lock()]: To manually release the lock, delete /Users/hosborn/.theano/compiledir_Darwin-19.3.0-x86_64-i386-64bit-i386-3.7.6-64/lock_dir\n"
     ]
    },
    {
     "name": "stderr",
     "output_type": "stream",
     "text": [
      "INFO (theano.gof.compilelock): Waiting for existing lock by process '20511' (I am process '19630')\n"
     ]
    },
    {
     "name": "stdout",
     "output_type": "stream",
     "text": [
      "INFO  [theano.gof.compilelock.lock()]: Waiting for existing lock by process '20511' (I am process '19630')\n"
     ]
    },
    {
     "name": "stderr",
     "output_type": "stream",
     "text": [
      "INFO (theano.gof.compilelock): To manually release the lock, delete /Users/hosborn/.theano/compiledir_Darwin-19.3.0-x86_64-i386-64bit-i386-3.7.6-64/lock_dir\n"
     ]
    },
    {
     "name": "stdout",
     "output_type": "stream",
     "text": [
      "INFO  [theano.gof.compilelock.lock()]: To manually release the lock, delete /Users/hosborn/.theano/compiledir_Darwin-19.3.0-x86_64-i386-64bit-i386-3.7.6-64/lock_dir\n"
     ]
    },
    {
     "name": "stderr",
     "output_type": "stream",
     "text": [
      "INFO (theano.gof.compilelock): Waiting for existing lock by process '20511' (I am process '19630')\n"
     ]
    },
    {
     "name": "stdout",
     "output_type": "stream",
     "text": [
      "INFO  [theano.gof.compilelock.lock()]: Waiting for existing lock by process '20511' (I am process '19630')\n"
     ]
    },
    {
     "name": "stderr",
     "output_type": "stream",
     "text": [
      "INFO (theano.gof.compilelock): To manually release the lock, delete /Users/hosborn/.theano/compiledir_Darwin-19.3.0-x86_64-i386-64bit-i386-3.7.6-64/lock_dir\n"
     ]
    },
    {
     "name": "stdout",
     "output_type": "stream",
     "text": [
      "INFO  [theano.gof.compilelock.lock()]: To manually release the lock, delete /Users/hosborn/.theano/compiledir_Darwin-19.3.0-x86_64-i386-64bit-i386-3.7.6-64/lock_dir\n"
     ]
    },
    {
     "name": "stderr",
     "output_type": "stream",
     "text": [
      "INFO (theano.gof.compilelock): Waiting for existing lock by process '20511' (I am process '19630')\n"
     ]
    },
    {
     "name": "stdout",
     "output_type": "stream",
     "text": [
      "INFO  [theano.gof.compilelock.lock()]: Waiting for existing lock by process '20511' (I am process '19630')\n"
     ]
    },
    {
     "name": "stderr",
     "output_type": "stream",
     "text": [
      "INFO (theano.gof.compilelock): To manually release the lock, delete /Users/hosborn/.theano/compiledir_Darwin-19.3.0-x86_64-i386-64bit-i386-3.7.6-64/lock_dir\n"
     ]
    },
    {
     "name": "stdout",
     "output_type": "stream",
     "text": [
      "INFO  [theano.gof.compilelock.lock()]: To manually release the lock, delete /Users/hosborn/.theano/compiledir_Darwin-19.3.0-x86_64-i386-64bit-i386-3.7.6-64/lock_dir\n"
     ]
    },
    {
     "name": "stderr",
     "output_type": "stream",
     "text": [
      "INFO (theano.gof.compilelock): Waiting for existing lock by process '20511' (I am process '19630')\n"
     ]
    },
    {
     "name": "stdout",
     "output_type": "stream",
     "text": [
      "INFO  [theano.gof.compilelock.lock()]: Waiting for existing lock by process '20511' (I am process '19630')\n"
     ]
    },
    {
     "name": "stderr",
     "output_type": "stream",
     "text": [
      "INFO (theano.gof.compilelock): To manually release the lock, delete /Users/hosborn/.theano/compiledir_Darwin-19.3.0-x86_64-i386-64bit-i386-3.7.6-64/lock_dir\n"
     ]
    },
    {
     "name": "stdout",
     "output_type": "stream",
     "text": [
      "INFO  [theano.gof.compilelock.lock()]: To manually release the lock, delete /Users/hosborn/.theano/compiledir_Darwin-19.3.0-x86_64-i386-64bit-i386-3.7.6-64/lock_dir\n"
     ]
    },
    {
     "name": "stderr",
     "output_type": "stream",
     "text": [
      "INFO (theano.gof.compilelock): Waiting for existing lock by process '20511' (I am process '19630')\n"
     ]
    },
    {
     "name": "stdout",
     "output_type": "stream",
     "text": [
      "INFO  [theano.gof.compilelock.lock()]: Waiting for existing lock by process '20511' (I am process '19630')\n"
     ]
    },
    {
     "name": "stderr",
     "output_type": "stream",
     "text": [
      "INFO (theano.gof.compilelock): To manually release the lock, delete /Users/hosborn/.theano/compiledir_Darwin-19.3.0-x86_64-i386-64bit-i386-3.7.6-64/lock_dir\n"
     ]
    },
    {
     "name": "stdout",
     "output_type": "stream",
     "text": [
      "INFO  [theano.gof.compilelock.lock()]: To manually release the lock, delete /Users/hosborn/.theano/compiledir_Darwin-19.3.0-x86_64-i386-64bit-i386-3.7.6-64/lock_dir\n"
     ]
    },
    {
     "name": "stderr",
     "output_type": "stream",
     "text": [
      "INFO (theano.gof.compilelock): Waiting for existing lock by process '20511' (I am process '19630')\n"
     ]
    },
    {
     "name": "stdout",
     "output_type": "stream",
     "text": [
      "INFO  [theano.gof.compilelock.lock()]: Waiting for existing lock by process '20511' (I am process '19630')\n"
     ]
    },
    {
     "name": "stderr",
     "output_type": "stream",
     "text": [
      "INFO (theano.gof.compilelock): To manually release the lock, delete /Users/hosborn/.theano/compiledir_Darwin-19.3.0-x86_64-i386-64bit-i386-3.7.6-64/lock_dir\n"
     ]
    },
    {
     "name": "stdout",
     "output_type": "stream",
     "text": [
      "INFO  [theano.gof.compilelock.lock()]: To manually release the lock, delete /Users/hosborn/.theano/compiledir_Darwin-19.3.0-x86_64-i386-64bit-i386-3.7.6-64/lock_dir\n"
     ]
    },
    {
     "name": "stderr",
     "output_type": "stream",
     "text": [
      "INFO (theano.gof.compilelock): Waiting for existing lock by process '20511' (I am process '19630')\n"
     ]
    },
    {
     "name": "stdout",
     "output_type": "stream",
     "text": [
      "INFO  [theano.gof.compilelock.lock()]: Waiting for existing lock by process '20511' (I am process '19630')\n"
     ]
    },
    {
     "name": "stderr",
     "output_type": "stream",
     "text": [
      "INFO (theano.gof.compilelock): To manually release the lock, delete /Users/hosborn/.theano/compiledir_Darwin-19.3.0-x86_64-i386-64bit-i386-3.7.6-64/lock_dir\n"
     ]
    },
    {
     "name": "stdout",
     "output_type": "stream",
     "text": [
      "INFO  [theano.gof.compilelock.lock()]: To manually release the lock, delete /Users/hosborn/.theano/compiledir_Darwin-19.3.0-x86_64-i386-64bit-i386-3.7.6-64/lock_dir\n"
     ]
    },
    {
     "name": "stderr",
     "output_type": "stream",
     "text": [
      "INFO (theano.gof.compilelock): Waiting for existing lock by process '20511' (I am process '19630')\n"
     ]
    },
    {
     "name": "stdout",
     "output_type": "stream",
     "text": [
      "INFO  [theano.gof.compilelock.lock()]: Waiting for existing lock by process '20511' (I am process '19630')\n"
     ]
    },
    {
     "name": "stderr",
     "output_type": "stream",
     "text": [
      "INFO (theano.gof.compilelock): To manually release the lock, delete /Users/hosborn/.theano/compiledir_Darwin-19.3.0-x86_64-i386-64bit-i386-3.7.6-64/lock_dir\n"
     ]
    },
    {
     "name": "stdout",
     "output_type": "stream",
     "text": [
      "INFO  [theano.gof.compilelock.lock()]: To manually release the lock, delete /Users/hosborn/.theano/compiledir_Darwin-19.3.0-x86_64-i386-64bit-i386-3.7.6-64/lock_dir\n"
     ]
    },
    {
     "name": "stderr",
     "output_type": "stream",
     "text": [
      "INFO (theano.gof.compilelock): Waiting for existing lock by process '20511' (I am process '19630')\n"
     ]
    },
    {
     "name": "stdout",
     "output_type": "stream",
     "text": [
      "INFO  [theano.gof.compilelock.lock()]: Waiting for existing lock by process '20511' (I am process '19630')\n"
     ]
    },
    {
     "name": "stderr",
     "output_type": "stream",
     "text": [
      "INFO (theano.gof.compilelock): To manually release the lock, delete /Users/hosborn/.theano/compiledir_Darwin-19.3.0-x86_64-i386-64bit-i386-3.7.6-64/lock_dir\n"
     ]
    },
    {
     "name": "stdout",
     "output_type": "stream",
     "text": [
      "INFO  [theano.gof.compilelock.lock()]: To manually release the lock, delete /Users/hosborn/.theano/compiledir_Darwin-19.3.0-x86_64-i386-64bit-i386-3.7.6-64/lock_dir\n"
     ]
    },
    {
     "name": "stderr",
     "output_type": "stream",
     "text": [
      "INFO (theano.gof.compilelock): Waiting for existing lock by process '20511' (I am process '19630')\n"
     ]
    },
    {
     "name": "stdout",
     "output_type": "stream",
     "text": [
      "INFO  [theano.gof.compilelock.lock()]: Waiting for existing lock by process '20511' (I am process '19630')\n"
     ]
    },
    {
     "name": "stderr",
     "output_type": "stream",
     "text": [
      "INFO (theano.gof.compilelock): To manually release the lock, delete /Users/hosborn/.theano/compiledir_Darwin-19.3.0-x86_64-i386-64bit-i386-3.7.6-64/lock_dir\n"
     ]
    },
    {
     "name": "stdout",
     "output_type": "stream",
     "text": [
      "INFO  [theano.gof.compilelock.lock()]: To manually release the lock, delete /Users/hosborn/.theano/compiledir_Darwin-19.3.0-x86_64-i386-64bit-i386-3.7.6-64/lock_dir\n"
     ]
    },
    {
     "name": "stderr",
     "output_type": "stream",
     "text": [
      "INFO (theano.gof.compilelock): Waiting for existing lock by unknown process (I am process '19630')\n"
     ]
    },
    {
     "name": "stdout",
     "output_type": "stream",
     "text": [
      "INFO  [theano.gof.compilelock.lock()]: Waiting for existing lock by unknown process (I am process '19630')\n"
     ]
    },
    {
     "name": "stderr",
     "output_type": "stream",
     "text": [
      "INFO (theano.gof.compilelock): To manually release the lock, delete /Users/hosborn/.theano/compiledir_Darwin-19.3.0-x86_64-i386-64bit-i386-3.7.6-64/lock_dir\n"
     ]
    },
    {
     "name": "stdout",
     "output_type": "stream",
     "text": [
      "INFO  [theano.gof.compilelock.lock()]: To manually release the lock, delete /Users/hosborn/.theano/compiledir_Darwin-19.3.0-x86_64-i386-64bit-i386-3.7.6-64/lock_dir\n",
      "00 step. LogLik= 37.038156527546164\n",
      "00 variability. LogLik= 48.40925590311605\n",
      "00 - Checks complete.  SNR: 9.561043  SNR_r: 5.596760  variability: 48.40925  centroid: 11.11405 | flag: variability\n",
      "DEBUG [matplotlib.backends.backend_pdf.fontName()]: Assigning font /b'F1' = '/Users/hosborn/transits/lib/python3.7/site-packages/matplotlib/mpl-data/fonts/ttf/DejaVuSans.ttf'\n",
      "DEBUG [matplotlib.backends.backend_pdf.writeFonts()]: Embedding font /Users/hosborn/transits/lib/python3.7/site-packages/matplotlib/mpl-data/fonts/ttf/DejaVuSans.ttf.\n",
      "DEBUG [matplotlib.backends.backend_pdf.writeFonts()]: Writing TrueType font.\n",
      "Breaking because status = COMPLETE\n",
      "TESS object\n",
      "INFO: Query finished. [astroquery.utils.tap.core]\n",
      "INFO  [astropy.launch_job_async()]: Query finished.\n",
      "DEBUG [urllib3.connectionpool._new_conn()]: Starting new HTTPS connection (1): www.aavso.org:443\n",
      "DEBUG [urllib3.connectionpool._make_request()]: https://www.aavso.org:443 \"GET /cgi-bin/apass_dr10_download.pl?ra=132.6394&dec=-46.5292&radius=0.0042&output=csv HTTP/1.1\" 200 597\n",
      "INFO: Query finished. [astroquery.utils.tap.core]\n",
      "INFO  [astropy.launch_job_async()]: Query finished.\n",
      "INFO: Query finished. [astroquery.utils.tap.core]\n",
      "INFO  [astropy.launch_job_async()]: Query finished.\n",
      "INFO: Query finished. [astroquery.utils.tap.core]\n",
      "INFO  [astropy.launch_job_async()]: Query finished.\n",
      "INFO: Query finished. [astroquery.utils.tap.core]\n",
      "INFO  [astropy.launch_job_async()]: Query finished.\n",
      "NO JUICE Unnamed: 0                                                 1798\n",
      "dec                                                    -46.5292\n",
      "dur                                                           0\n",
      "file          AllMonos_martti_tess.csv;AllMonos_martti_tess.csv\n",
      "id                                                   2.9052e+07\n",
      "mission                                                    TESS\n",
      "ra                                                      132.639\n",
      "tcen                                                       2167\n",
      "Name: 298, dtype: object\n",
      "Breaking because status = COMPLETE\n",
      "TESS object\n",
      "INFO: Query finished. [astroquery.utils.tap.core]\n",
      "INFO  [astropy.launch_job_async()]: Query finished.\n",
      "DEBUG [urllib3.connectionpool._new_conn()]: Starting new HTTPS connection (1): www.aavso.org:443\n",
      "DEBUG [urllib3.connectionpool._make_request()]: https://www.aavso.org:443 \"GET /cgi-bin/apass_dr10_download.pl?ra=247.6668&dec=-39.2180&radius=0.0042&output=csv HTTP/1.1\" 200 623\n",
      "INFO: Query finished. [astroquery.utils.tap.core]\n",
      "INFO  [astropy.launch_job_async()]: Query finished.\n",
      "INFO: Query finished. [astroquery.utils.tap.core]\n",
      "INFO  [astropy.launch_job_async()]: Query finished.\n",
      "INFO: Query finished. [astroquery.utils.tap.core]\n",
      "INFO  [astropy.launch_job_async()]: Query finished.\n",
      "INFO: Query finished. [astroquery.utils.tap.core]\n",
      "INFO  [astropy.launch_job_async()]: Query finished.\n",
      "Isoclassifying\n",
      "54\n",
      "teff 2198440\n",
      "lum 79421\n",
      "feh 43354\n",
      "number of models used within non-phot obsconstraints: 43354\n",
      "number of models incl reddening: 43354\n",
      "number of models after phot constraints: 0\n",
      "----\n",
      "Isoclassifying\n",
      "54\n",
      "teff 2198440\n",
      "lum 79421\n",
      "feh 43354\n",
      "number of models used within non-phot obsconstraints: 43354\n",
      "number of models incl reddening: 43354\n",
      "number of models after phot constraints: 2\n",
      "----\n",
      "No griz for 29149209\n",
      "Isoclassifying\n",
      "54\n",
      "teff 2198440\n",
      "lum 79421\n",
      "feh 43354\n",
      "number of models used within non-phot obsconstraints: 43354\n",
      "number of models incl reddening: 43354\n",
      "number of models after phot constraints: 11\n",
      "----\n",
      "teff 3839.7166141361545 21.271133420881142 35.65936472204885\n",
      "logg 1.4067639988440037 0.03852825152975514 0.005816112306147314\n",
      "feh 0.3611419704352864 0.08261769281425868 0.8225033947064946\n",
      "rad 47.397394227868595 0.1482449648519406 0.16540093224582364\n",
      "mass 2.0925950080725313 0.1744382354370857 0.03742632380769173\n",
      "rho 1.9659450714421297e-05 1.8087304015465063e-06 2.755482504501045e-07\n",
      "lum 441.732700476252 3.2123221307386416 9.441271170531877\n",
      "age 1.1444471109512064 2.1940484314047874 0.13195859316122305\n",
      "avs 0.0 0.0 0.0\n",
      "dis 1078.125744859771 4.0390805661782 2.0136725455370197\n",
      "DEBUG [urllib3.connectionpool._new_conn()]: Starting new HTTP connection (1): vizier.u-strasbg.fr:80\n",
      "DEBUG [urllib3.connectionpool._make_request()]: http://vizier.u-strasbg.fr:80 \"POST /viz-bin/votable HTTP/1.1\" 200 656\n",
      "DEBUG [urllib3.connectionpool._new_conn()]: Starting new HTTP connection (1): vizier.u-strasbg.fr:80\n",
      "DEBUG [urllib3.connectionpool._make_request()]: http://vizier.u-strasbg.fr:80 \"POST /viz-bin/votable HTTP/1.1\" 200 687\n",
      "DEBUG [urllib3.connectionpool._new_conn()]: Starting new HTTPS connection (1): heasarc.gsfc.nasa.gov:443\n",
      "DEBUG [urllib3.connectionpool._make_request()]: https://heasarc.gsfc.nasa.gov:443 \"GET /cgi-bin/tess/webtess/wtv.py?Entry=247.6668226%2C+-39.21801025 HTTP/1.1\" 200 None\n",
      "https://heasarc.gsfc.nasa.gov/cgi-bin/tess/webtess/wtv.py?Entry=<SkyCoord (ICRS): (ra, dec) in deg\n",
      "    (247.6668226, -39.21801025)>\n",
      "[12] <class 'list'>\n",
      "TESS file\n",
      "4459 points masked in lc of 20119\n",
      "NO JUICE Unnamed: 0                        1801\n",
      "dec                            -39.218\n",
      "dur                                  0\n",
      "file          AllMonos_martti_tess.csv\n",
      "id                         2.91492e+07\n",
      "mission                           TESS\n",
      "ra                             247.667\n",
      "tcen                              2167\n",
      "Name: 300, dtype: object\n",
      "Breaking because status = COMPLETE\n",
      "TESS object\n",
      "DEBUG [urllib3.connectionpool._new_conn()]: Starting new HTTP connection (1): vizier.u-strasbg.fr:80\n",
      "DEBUG [urllib3.connectionpool._make_request()]: http://vizier.u-strasbg.fr:80 \"POST /viz-bin/votable HTTP/1.1\" 200 656\n",
      "DEBUG [urllib3.connectionpool._new_conn()]: Starting new HTTP connection (1): vizier.u-strasbg.fr:80\n",
      "DEBUG [urllib3.connectionpool._make_request()]: http://vizier.u-strasbg.fr:80 \"POST /viz-bin/votable HTTP/1.1\" 200 688\n",
      "DEBUG [urllib3.connectionpool._new_conn()]: Starting new HTTPS connection (1): heasarc.gsfc.nasa.gov:443\n",
      "DEBUG [urllib3.connectionpool._make_request()]: https://heasarc.gsfc.nasa.gov:443 \"GET /cgi-bin/tess/webtess/wtv.py?Entry=315.330847%2C+-27.317435999999997 HTTP/1.1\" 200 None\n",
      "https://heasarc.gsfc.nasa.gov/cgi-bin/tess/webtess/wtv.py?Entry=<SkyCoord (ICRS): (ra, dec) in deg\n",
      "    (315.330847, -27.317436)>\n",
      "[1] <class 'list'>\n",
      "TESS file\n",
      "2000 points masked in lc of 20076\n",
      "NO JUICE Unnamed: 0                        1803\n",
      "dec                           -27.3174\n",
      "dur                                  0\n",
      "file          AllMonos_martti_tess.csv\n",
      "id                         2.96674e+07\n",
      "mission                           TESS\n",
      "ra                             315.331\n",
      "tcen                              2167\n",
      "Name: 302, dtype: object\n",
      "Breaking because status = COMPLETE\n",
      "TESS object\n",
      "DEBUG [urllib3.connectionpool._new_conn()]: Starting new HTTP connection (1): vizier.u-strasbg.fr:80\n",
      "DEBUG [urllib3.connectionpool._make_request()]: http://vizier.u-strasbg.fr:80 \"POST /viz-bin/votable HTTP/1.1\" 200 657\n",
      "DEBUG [urllib3.connectionpool._new_conn()]: Starting new HTTP connection (1): vizier.u-strasbg.fr:80\n",
      "DEBUG [urllib3.connectionpool._make_request()]: http://vizier.u-strasbg.fr:80 \"POST /viz-bin/votable HTTP/1.1\" 200 689\n",
      "DEBUG [urllib3.connectionpool._new_conn()]: Starting new HTTPS connection (1): heasarc.gsfc.nasa.gov:443\n",
      "DEBUG [urllib3.connectionpool._make_request()]: https://heasarc.gsfc.nasa.gov:443 \"GET /cgi-bin/tess/webtess/wtv.py?Entry=351.98800000000006%2C+-26.454 HTTP/1.1\" 200 None\n",
      "https://heasarc.gsfc.nasa.gov/cgi-bin/tess/webtess/wtv.py?Entry=<SkyCoord (ICRS): (ra, dec) in deg\n",
      "    (351.988, -26.454)>\n",
      "[2] <class 'list'>\n",
      "TESS file\n",
      "1447 points masked in lc of 19737\n",
      "transit mask: <class 'numpy.ndarray'> 18699 0 <class 'numpy.ndarray'> 18699 True\n"
     ]
    },
    {
     "name": "stderr",
     "output_type": "stream",
     "text": [
      "INFO (theano.gof.compilelock): Waiting for existing lock by process '20511' (I am process '19630')\n"
     ]
    },
    {
     "name": "stdout",
     "output_type": "stream",
     "text": [
      "INFO  [theano.gof.compilelock.lock()]: Waiting for existing lock by process '20511' (I am process '19630')\n"
     ]
    },
    {
     "name": "stderr",
     "output_type": "stream",
     "text": [
      "INFO (theano.gof.compilelock): To manually release the lock, delete /Users/hosborn/.theano/compiledir_Darwin-19.3.0-x86_64-i386-64bit-i386-3.7.6-64/lock_dir\n"
     ]
    },
    {
     "name": "stdout",
     "output_type": "stream",
     "text": [
      "INFO  [theano.gof.compilelock.lock()]: To manually release the lock, delete /Users/hosborn/.theano/compiledir_Darwin-19.3.0-x86_64-i386-64bit-i386-3.7.6-64/lock_dir\n"
     ]
    },
    {
     "name": "stderr",
     "output_type": "stream",
     "text": [
      "INFO (theano.gof.compilelock): Waiting for existing lock by process '20511' (I am process '19630')\n"
     ]
    },
    {
     "name": "stdout",
     "output_type": "stream",
     "text": [
      "INFO  [theano.gof.compilelock.lock()]: Waiting for existing lock by process '20511' (I am process '19630')\n"
     ]
    },
    {
     "name": "stderr",
     "output_type": "stream",
     "text": [
      "INFO (theano.gof.compilelock): To manually release the lock, delete /Users/hosborn/.theano/compiledir_Darwin-19.3.0-x86_64-i386-64bit-i386-3.7.6-64/lock_dir\n"
     ]
    },
    {
     "name": "stdout",
     "output_type": "stream",
     "text": [
      "INFO  [theano.gof.compilelock.lock()]: To manually release the lock, delete /Users/hosborn/.theano/compiledir_Darwin-19.3.0-x86_64-i386-64bit-i386-3.7.6-64/lock_dir\n"
     ]
    },
    {
     "name": "stderr",
     "output_type": "stream",
     "text": [
      "INFO (theano.gof.compilelock): Waiting for existing lock by process '20511' (I am process '19630')\n"
     ]
    },
    {
     "name": "stdout",
     "output_type": "stream",
     "text": [
      "INFO  [theano.gof.compilelock.lock()]: Waiting for existing lock by process '20511' (I am process '19630')\n"
     ]
    },
    {
     "name": "stderr",
     "output_type": "stream",
     "text": [
      "INFO (theano.gof.compilelock): To manually release the lock, delete /Users/hosborn/.theano/compiledir_Darwin-19.3.0-x86_64-i386-64bit-i386-3.7.6-64/lock_dir\n"
     ]
    },
    {
     "name": "stdout",
     "output_type": "stream",
     "text": [
      "INFO  [theano.gof.compilelock.lock()]: To manually release the lock, delete /Users/hosborn/.theano/compiledir_Darwin-19.3.0-x86_64-i386-64bit-i386-3.7.6-64/lock_dir\n"
     ]
    },
    {
     "name": "stderr",
     "output_type": "stream",
     "text": [
      "INFO (theano.gof.compilelock): Waiting for existing lock by process '20511' (I am process '19630')\n"
     ]
    },
    {
     "name": "stdout",
     "output_type": "stream",
     "text": [
      "INFO  [theano.gof.compilelock.lock()]: Waiting for existing lock by process '20511' (I am process '19630')\n"
     ]
    },
    {
     "name": "stderr",
     "output_type": "stream",
     "text": [
      "INFO (theano.gof.compilelock): To manually release the lock, delete /Users/hosborn/.theano/compiledir_Darwin-19.3.0-x86_64-i386-64bit-i386-3.7.6-64/lock_dir\n"
     ]
    },
    {
     "name": "stdout",
     "output_type": "stream",
     "text": [
      "INFO  [theano.gof.compilelock.lock()]: To manually release the lock, delete /Users/hosborn/.theano/compiledir_Darwin-19.3.0-x86_64-i386-64bit-i386-3.7.6-64/lock_dir\n"
     ]
    },
    {
     "name": "stderr",
     "output_type": "stream",
     "text": [
      "INFO (theano.gof.compilelock): Waiting for existing lock by process '20511' (I am process '19630')\n"
     ]
    },
    {
     "name": "stdout",
     "output_type": "stream",
     "text": [
      "INFO  [theano.gof.compilelock.lock()]: Waiting for existing lock by process '20511' (I am process '19630')\n"
     ]
    },
    {
     "name": "stderr",
     "output_type": "stream",
     "text": [
      "INFO (theano.gof.compilelock): To manually release the lock, delete /Users/hosborn/.theano/compiledir_Darwin-19.3.0-x86_64-i386-64bit-i386-3.7.6-64/lock_dir\n"
     ]
    },
    {
     "name": "stdout",
     "output_type": "stream",
     "text": [
      "INFO  [theano.gof.compilelock.lock()]: To manually release the lock, delete /Users/hosborn/.theano/compiledir_Darwin-19.3.0-x86_64-i386-64bit-i386-3.7.6-64/lock_dir\n"
     ]
    },
    {
     "name": "stderr",
     "output_type": "stream",
     "text": [
      "INFO (theano.gof.compilelock): Waiting for existing lock by process '20511' (I am process '19630')\n"
     ]
    },
    {
     "name": "stdout",
     "output_type": "stream",
     "text": [
      "INFO  [theano.gof.compilelock.lock()]: Waiting for existing lock by process '20511' (I am process '19630')\n"
     ]
    },
    {
     "name": "stderr",
     "output_type": "stream",
     "text": [
      "INFO (theano.gof.compilelock): To manually release the lock, delete /Users/hosborn/.theano/compiledir_Darwin-19.3.0-x86_64-i386-64bit-i386-3.7.6-64/lock_dir\n"
     ]
    },
    {
     "name": "stdout",
     "output_type": "stream",
     "text": [
      "INFO  [theano.gof.compilelock.lock()]: To manually release the lock, delete /Users/hosborn/.theano/compiledir_Darwin-19.3.0-x86_64-i386-64bit-i386-3.7.6-64/lock_dir\n",
      "00 - Checks complete.  SNR: 17.90868  SNR_r: 12.11430  variability: -55.4270  centroid: 12.57416 | flag: planet\n",
      "DEBUG [matplotlib.backends.backend_pdf.fontName()]: Assigning font /b'F1' = '/Users/hosborn/transits/lib/python3.7/site-packages/matplotlib/mpl-data/fonts/ttf/DejaVuSans.ttf'\n",
      "DEBUG [matplotlib.backends.backend_pdf.writeFonts()]: Embedding font /Users/hosborn/transits/lib/python3.7/site-packages/matplotlib/mpl-data/fonts/ttf/DejaVuSans.ttf.\n",
      "DEBUG [matplotlib.backends.backend_pdf.writeFonts()]: Writing TrueType font.\n",
      "Breaking because status = COMPLETE\n",
      "TESS object\n",
      "INFO: Query finished. [astroquery.utils.tap.core]\n",
      "INFO  [astropy.launch_job_async()]: Query finished.\n",
      "DEBUG [urllib3.connectionpool._new_conn()]: Starting new HTTPS connection (1): www.aavso.org:443\n",
      "DEBUG [urllib3.connectionpool._make_request()]: https://www.aavso.org:443 \"GET /cgi-bin/apass_dr10_download.pl?ra=72.8978&dec=-67.8701&radius=0.0042&output=csv HTTP/1.1\" 200 617\n",
      "INFO: Query finished. [astroquery.utils.tap.core]\n",
      "INFO  [astropy.launch_job_async()]: Query finished.\n",
      "INFO: Query finished. [astroquery.utils.tap.core]\n",
      "INFO  [astropy.launch_job_async()]: Query finished.\n",
      "INFO: Query finished. [astroquery.utils.tap.core]\n",
      "INFO  [astropy.launch_job_async()]: Query finished.\n",
      "INFO: Query finished. [astroquery.utils.tap.core]\n",
      "INFO  [astropy.launch_job_async()]: Query finished.\n",
      "Isoclassifying\n",
      "54\n",
      "teff 3075534\n",
      "feh 3075534\n",
      "number of models used within non-phot obsconstraints: 3075534\n",
      "number of models incl reddening: 3075534\n",
      "number of models after phot constraints: 39326\n",
      "----\n",
      "teff 4374.6097259718445 448.33293796118414 442.15765698854784\n",
      "logg 4.741854000675852 0.04397878967027413 0.04787666881727848\n",
      "feh -0.793591034272243 0.8926975355225104 0.8413005292464928\n",
      "rad 0.5240313801000662 0.04703369736351104 0.04261565028919406\n",
      "mass 0.558462818983045 0.039620196264744445 0.04268060460706624\n",
      "rho 3.8188985620505207 0.7535803049501864 0.6858275896823463\n",
      "lum 0.08848235507871687 0.04204037870663198 0.02448739436391774\n",
      "age 6.664328787495523 4.823310701593397 4.500070182593227\n",
      "avs 0.03839408173320604 0.0016845108306178594 0.0019788156785785008\n",
      "dis 114.36228851089172 10.896618076614445 12.766666449911867\n",
      "DEBUG [urllib3.connectionpool._new_conn()]: Starting new HTTP connection (1): vizier.u-strasbg.fr:80\n",
      "DEBUG [urllib3.connectionpool._make_request()]: http://vizier.u-strasbg.fr:80 \"POST /viz-bin/votable HTTP/1.1\" 200 657\n",
      "DEBUG [urllib3.connectionpool._new_conn()]: Starting new HTTP connection (1): vizier.u-strasbg.fr:80\n",
      "DEBUG [urllib3.connectionpool._make_request()]: http://vizier.u-strasbg.fr:80 \"POST /viz-bin/votable HTTP/1.1\" 200 689\n",
      "DEBUG [urllib3.connectionpool._new_conn()]: Starting new HTTPS connection (1): heasarc.gsfc.nasa.gov:443\n",
      "DEBUG [urllib3.connectionpool._make_request()]: https://heasarc.gsfc.nasa.gov:443 \"GET /cgi-bin/tess/webtess/wtv.py?Entry=72.89780314%2C+-67.87006208 HTTP/1.1\" 200 None\n",
      "https://heasarc.gsfc.nasa.gov/cgi-bin/tess/webtess/wtv.py?Entry=<SkyCoord (ICRS): (ra, dec) in deg\n",
      "    (72.89780314, -67.87006208)>\n",
      "[1, 2, 3, 4, 5, 6, 7, 8, 9, 10, 11, 12, 13] <class 'list'>\n",
      "TESS file\n",
      "1986 points masked in lc of 20076\n",
      "TESS file\n",
      "2924 points masked in lc of 18684\n",
      "TESS file\n",
      "1123 points masked in lc of 18944\n",
      "TESS file\n",
      "872 points masked in lc of 15678\n",
      "TESS file\n",
      "1266 points masked in lc of 17612\n",
      "TESS file\n",
      "4360 points masked in lc of 17755\n",
      "TESS file\n",
      "2506 points masked in lc of 18187\n",
      "TESS file\n",
      "2686 points masked in lc of 18900\n",
      "TESS file\n",
      "3448 points masked in lc of 19527\n",
      "TESS file\n",
      "1174 points masked in lc of 20119\n",
      "TESS file\n",
      "931 points masked in lc of 20479\n",
      "# Loading QLP lightcurves\n",
      "29987437 <class 'int'>\n",
      "NO JUICE Unnamed: 0                        1807\n",
      "dec                           -67.8701\n",
      "dur                                  0\n",
      "file          AllMonos_martti_tess.csv\n",
      "id                         2.99874e+07\n",
      "mission                           TESS\n",
      "ra                             72.8978\n",
      "tcen                              2167\n",
      "Name: 306, dtype: object\n",
      "transit mask: <class 'numpy.ndarray'> 35385 0 <class 'numpy.ndarray'> 35385 True\n"
     ]
    },
    {
     "name": "stderr",
     "output_type": "stream",
     "text": [
      "INFO (theano.gof.compilelock): Waiting for existing lock by process '20511' (I am process '19630')\n"
     ]
    },
    {
     "name": "stdout",
     "output_type": "stream",
     "text": [
      "INFO  [theano.gof.compilelock.lock()]: Waiting for existing lock by process '20511' (I am process '19630')\n"
     ]
    },
    {
     "name": "stderr",
     "output_type": "stream",
     "text": [
      "INFO (theano.gof.compilelock): To manually release the lock, delete /Users/hosborn/.theano/compiledir_Darwin-19.3.0-x86_64-i386-64bit-i386-3.7.6-64/lock_dir\n"
     ]
    },
    {
     "name": "stdout",
     "output_type": "stream",
     "text": [
      "INFO  [theano.gof.compilelock.lock()]: To manually release the lock, delete /Users/hosborn/.theano/compiledir_Darwin-19.3.0-x86_64-i386-64bit-i386-3.7.6-64/lock_dir\n"
     ]
    },
    {
     "name": "stderr",
     "output_type": "stream",
     "text": [
      "INFO (theano.gof.compilelock): Waiting for existing lock by process '20511' (I am process '19630')\n"
     ]
    },
    {
     "name": "stdout",
     "output_type": "stream",
     "text": [
      "INFO  [theano.gof.compilelock.lock()]: Waiting for existing lock by process '20511' (I am process '19630')\n"
     ]
    },
    {
     "name": "stderr",
     "output_type": "stream",
     "text": [
      "INFO (theano.gof.compilelock): To manually release the lock, delete /Users/hosborn/.theano/compiledir_Darwin-19.3.0-x86_64-i386-64bit-i386-3.7.6-64/lock_dir\n"
     ]
    },
    {
     "name": "stdout",
     "output_type": "stream",
     "text": [
      "INFO  [theano.gof.compilelock.lock()]: To manually release the lock, delete /Users/hosborn/.theano/compiledir_Darwin-19.3.0-x86_64-i386-64bit-i386-3.7.6-64/lock_dir\n"
     ]
    },
    {
     "name": "stderr",
     "output_type": "stream",
     "text": [
      "INFO (theano.gof.compilelock): Waiting for existing lock by process '20511' (I am process '19630')\n"
     ]
    },
    {
     "name": "stdout",
     "output_type": "stream",
     "text": [
      "INFO  [theano.gof.compilelock.lock()]: Waiting for existing lock by process '20511' (I am process '19630')\n"
     ]
    },
    {
     "name": "stderr",
     "output_type": "stream",
     "text": [
      "INFO (theano.gof.compilelock): To manually release the lock, delete /Users/hosborn/.theano/compiledir_Darwin-19.3.0-x86_64-i386-64bit-i386-3.7.6-64/lock_dir\n"
     ]
    },
    {
     "name": "stdout",
     "output_type": "stream",
     "text": [
      "INFO  [theano.gof.compilelock.lock()]: To manually release the lock, delete /Users/hosborn/.theano/compiledir_Darwin-19.3.0-x86_64-i386-64bit-i386-3.7.6-64/lock_dir\n"
     ]
    },
    {
     "name": "stderr",
     "output_type": "stream",
     "text": [
      "INFO (theano.gof.compilelock): Waiting for existing lock by process '20511' (I am process '19630')\n"
     ]
    },
    {
     "name": "stdout",
     "output_type": "stream",
     "text": [
      "INFO  [theano.gof.compilelock.lock()]: Waiting for existing lock by process '20511' (I am process '19630')\n"
     ]
    },
    {
     "name": "stderr",
     "output_type": "stream",
     "text": [
      "INFO (theano.gof.compilelock): To manually release the lock, delete /Users/hosborn/.theano/compiledir_Darwin-19.3.0-x86_64-i386-64bit-i386-3.7.6-64/lock_dir\n"
     ]
    },
    {
     "name": "stdout",
     "output_type": "stream",
     "text": [
      "INFO  [theano.gof.compilelock.lock()]: To manually release the lock, delete /Users/hosborn/.theano/compiledir_Darwin-19.3.0-x86_64-i386-64bit-i386-3.7.6-64/lock_dir\n"
     ]
    },
    {
     "name": "stderr",
     "output_type": "stream",
     "text": [
      "INFO (theano.gof.compilelock): Waiting for existing lock by process '20511' (I am process '19630')\n"
     ]
    },
    {
     "name": "stdout",
     "output_type": "stream",
     "text": [
      "INFO  [theano.gof.compilelock.lock()]: Waiting for existing lock by process '20511' (I am process '19630')\n"
     ]
    },
    {
     "name": "stderr",
     "output_type": "stream",
     "text": [
      "INFO (theano.gof.compilelock): To manually release the lock, delete /Users/hosborn/.theano/compiledir_Darwin-19.3.0-x86_64-i386-64bit-i386-3.7.6-64/lock_dir\n"
     ]
    },
    {
     "name": "stdout",
     "output_type": "stream",
     "text": [
      "INFO  [theano.gof.compilelock.lock()]: To manually release the lock, delete /Users/hosborn/.theano/compiledir_Darwin-19.3.0-x86_64-i386-64bit-i386-3.7.6-64/lock_dir\n"
     ]
    },
    {
     "name": "stderr",
     "output_type": "stream",
     "text": [
      "INFO (theano.gof.compilelock): Waiting for existing lock by process '20511' (I am process '19630')\n"
     ]
    },
    {
     "name": "stdout",
     "output_type": "stream",
     "text": [
      "INFO  [theano.gof.compilelock.lock()]: Waiting for existing lock by process '20511' (I am process '19630')\n"
     ]
    },
    {
     "name": "stderr",
     "output_type": "stream",
     "text": [
      "INFO (theano.gof.compilelock): To manually release the lock, delete /Users/hosborn/.theano/compiledir_Darwin-19.3.0-x86_64-i386-64bit-i386-3.7.6-64/lock_dir\n"
     ]
    },
    {
     "name": "stdout",
     "output_type": "stream",
     "text": [
      "INFO  [theano.gof.compilelock.lock()]: To manually release the lock, delete /Users/hosborn/.theano/compiledir_Darwin-19.3.0-x86_64-i386-64bit-i386-3.7.6-64/lock_dir\n"
     ]
    },
    {
     "name": "stderr",
     "output_type": "stream",
     "text": [
      "INFO (theano.gof.compilelock): Waiting for existing lock by process '20511' (I am process '19630')\n"
     ]
    },
    {
     "name": "stdout",
     "output_type": "stream",
     "text": [
      "INFO  [theano.gof.compilelock.lock()]: Waiting for existing lock by process '20511' (I am process '19630')\n"
     ]
    },
    {
     "name": "stderr",
     "output_type": "stream",
     "text": [
      "INFO (theano.gof.compilelock): To manually release the lock, delete /Users/hosborn/.theano/compiledir_Darwin-19.3.0-x86_64-i386-64bit-i386-3.7.6-64/lock_dir\n"
     ]
    },
    {
     "name": "stdout",
     "output_type": "stream",
     "text": [
      "INFO  [theano.gof.compilelock.lock()]: To manually release the lock, delete /Users/hosborn/.theano/compiledir_Darwin-19.3.0-x86_64-i386-64bit-i386-3.7.6-64/lock_dir\n"
     ]
    },
    {
     "name": "stderr",
     "output_type": "stream",
     "text": [
      "INFO (theano.gof.compilelock): Waiting for existing lock by process '20511' (I am process '19630')\n"
     ]
    },
    {
     "name": "stdout",
     "output_type": "stream",
     "text": [
      "INFO  [theano.gof.compilelock.lock()]: Waiting for existing lock by process '20511' (I am process '19630')\n"
     ]
    },
    {
     "name": "stderr",
     "output_type": "stream",
     "text": [
      "INFO (theano.gof.compilelock): To manually release the lock, delete /Users/hosborn/.theano/compiledir_Darwin-19.3.0-x86_64-i386-64bit-i386-3.7.6-64/lock_dir\n"
     ]
    },
    {
     "name": "stdout",
     "output_type": "stream",
     "text": [
      "INFO  [theano.gof.compilelock.lock()]: To manually release the lock, delete /Users/hosborn/.theano/compiledir_Darwin-19.3.0-x86_64-i386-64bit-i386-3.7.6-64/lock_dir\n"
     ]
    },
    {
     "name": "stderr",
     "output_type": "stream",
     "text": [
      "INFO (theano.gof.compilelock): Waiting for existing lock by process '20511' (I am process '19630')\n"
     ]
    },
    {
     "name": "stdout",
     "output_type": "stream",
     "text": [
      "INFO  [theano.gof.compilelock.lock()]: Waiting for existing lock by process '20511' (I am process '19630')\n"
     ]
    },
    {
     "name": "stderr",
     "output_type": "stream",
     "text": [
      "INFO (theano.gof.compilelock): To manually release the lock, delete /Users/hosborn/.theano/compiledir_Darwin-19.3.0-x86_64-i386-64bit-i386-3.7.6-64/lock_dir\n"
     ]
    },
    {
     "name": "stdout",
     "output_type": "stream",
     "text": [
      "INFO  [theano.gof.compilelock.lock()]: To manually release the lock, delete /Users/hosborn/.theano/compiledir_Darwin-19.3.0-x86_64-i386-64bit-i386-3.7.6-64/lock_dir\n"
     ]
    },
    {
     "name": "stderr",
     "output_type": "stream",
     "text": [
      "INFO (theano.gof.compilelock): Waiting for existing lock by process '20511' (I am process '19630')\n"
     ]
    },
    {
     "name": "stdout",
     "output_type": "stream",
     "text": [
      "INFO  [theano.gof.compilelock.lock()]: Waiting for existing lock by process '20511' (I am process '19630')\n"
     ]
    },
    {
     "name": "stderr",
     "output_type": "stream",
     "text": [
      "INFO (theano.gof.compilelock): To manually release the lock, delete /Users/hosborn/.theano/compiledir_Darwin-19.3.0-x86_64-i386-64bit-i386-3.7.6-64/lock_dir\n"
     ]
    },
    {
     "name": "stdout",
     "output_type": "stream",
     "text": [
      "INFO  [theano.gof.compilelock.lock()]: To manually release the lock, delete /Users/hosborn/.theano/compiledir_Darwin-19.3.0-x86_64-i386-64bit-i386-3.7.6-64/lock_dir\n"
     ]
    },
    {
     "name": "stderr",
     "output_type": "stream",
     "text": [
      "INFO (theano.gof.compilelock): Waiting for existing lock by process '20511' (I am process '19630')\n"
     ]
    },
    {
     "name": "stdout",
     "output_type": "stream",
     "text": [
      "INFO  [theano.gof.compilelock.lock()]: Waiting for existing lock by process '20511' (I am process '19630')\n"
     ]
    },
    {
     "name": "stderr",
     "output_type": "stream",
     "text": [
      "INFO (theano.gof.compilelock): To manually release the lock, delete /Users/hosborn/.theano/compiledir_Darwin-19.3.0-x86_64-i386-64bit-i386-3.7.6-64/lock_dir\n"
     ]
    },
    {
     "name": "stdout",
     "output_type": "stream",
     "text": [
      "INFO  [theano.gof.compilelock.lock()]: To manually release the lock, delete /Users/hosborn/.theano/compiledir_Darwin-19.3.0-x86_64-i386-64bit-i386-3.7.6-64/lock_dir\n"
     ]
    },
    {
     "name": "stderr",
     "output_type": "stream",
     "text": [
      "INFO (theano.gof.compilelock): Waiting for existing lock by process '20511' (I am process '19630')\n"
     ]
    },
    {
     "name": "stdout",
     "output_type": "stream",
     "text": [
      "INFO  [theano.gof.compilelock.lock()]: Waiting for existing lock by process '20511' (I am process '19630')\n"
     ]
    },
    {
     "name": "stderr",
     "output_type": "stream",
     "text": [
      "INFO (theano.gof.compilelock): To manually release the lock, delete /Users/hosborn/.theano/compiledir_Darwin-19.3.0-x86_64-i386-64bit-i386-3.7.6-64/lock_dir\n"
     ]
    },
    {
     "name": "stdout",
     "output_type": "stream",
     "text": [
      "INFO  [theano.gof.compilelock.lock()]: To manually release the lock, delete /Users/hosborn/.theano/compiledir_Darwin-19.3.0-x86_64-i386-64bit-i386-3.7.6-64/lock_dir\n"
     ]
    },
    {
     "name": "stderr",
     "output_type": "stream",
     "text": [
      "INFO (theano.gof.compilelock): Waiting for existing lock by process '20511' (I am process '19630')\n"
     ]
    },
    {
     "name": "stdout",
     "output_type": "stream",
     "text": [
      "INFO  [theano.gof.compilelock.lock()]: Waiting for existing lock by process '20511' (I am process '19630')\n"
     ]
    },
    {
     "name": "stderr",
     "output_type": "stream",
     "text": [
      "INFO (theano.gof.compilelock): To manually release the lock, delete /Users/hosborn/.theano/compiledir_Darwin-19.3.0-x86_64-i386-64bit-i386-3.7.6-64/lock_dir\n"
     ]
    },
    {
     "name": "stdout",
     "output_type": "stream",
     "text": [
      "INFO  [theano.gof.compilelock.lock()]: To manually release the lock, delete /Users/hosborn/.theano/compiledir_Darwin-19.3.0-x86_64-i386-64bit-i386-3.7.6-64/lock_dir\n"
     ]
    },
    {
     "name": "stderr",
     "output_type": "stream",
     "text": [
      "INFO (theano.gof.compilelock): Waiting for existing lock by process '20511' (I am process '19630')\n"
     ]
    },
    {
     "name": "stdout",
     "output_type": "stream",
     "text": [
      "INFO  [theano.gof.compilelock.lock()]: Waiting for existing lock by process '20511' (I am process '19630')\n"
     ]
    },
    {
     "name": "stderr",
     "output_type": "stream",
     "text": [
      "INFO (theano.gof.compilelock): To manually release the lock, delete /Users/hosborn/.theano/compiledir_Darwin-19.3.0-x86_64-i386-64bit-i386-3.7.6-64/lock_dir\n"
     ]
    },
    {
     "name": "stdout",
     "output_type": "stream",
     "text": [
      "INFO  [theano.gof.compilelock.lock()]: To manually release the lock, delete /Users/hosborn/.theano/compiledir_Darwin-19.3.0-x86_64-i386-64bit-i386-3.7.6-64/lock_dir\n"
     ]
    },
    {
     "name": "stderr",
     "output_type": "stream",
     "text": [
      "INFO (theano.gof.compilelock): Waiting for existing lock by process '20511' (I am process '19630')\n"
     ]
    },
    {
     "name": "stdout",
     "output_type": "stream",
     "text": [
      "INFO  [theano.gof.compilelock.lock()]: Waiting for existing lock by process '20511' (I am process '19630')\n"
     ]
    },
    {
     "name": "stderr",
     "output_type": "stream",
     "text": [
      "INFO (theano.gof.compilelock): To manually release the lock, delete /Users/hosborn/.theano/compiledir_Darwin-19.3.0-x86_64-i386-64bit-i386-3.7.6-64/lock_dir\n"
     ]
    },
    {
     "name": "stdout",
     "output_type": "stream",
     "text": [
      "INFO  [theano.gof.compilelock.lock()]: To manually release the lock, delete /Users/hosborn/.theano/compiledir_Darwin-19.3.0-x86_64-i386-64bit-i386-3.7.6-64/lock_dir\n"
     ]
    },
    {
     "name": "stderr",
     "output_type": "stream",
     "text": [
      "INFO (theano.gof.compilelock): Waiting for existing lock by process '20511' (I am process '19630')\n"
     ]
    },
    {
     "name": "stdout",
     "output_type": "stream",
     "text": [
      "INFO  [theano.gof.compilelock.lock()]: Waiting for existing lock by process '20511' (I am process '19630')\n"
     ]
    },
    {
     "name": "stderr",
     "output_type": "stream",
     "text": [
      "INFO (theano.gof.compilelock): To manually release the lock, delete /Users/hosborn/.theano/compiledir_Darwin-19.3.0-x86_64-i386-64bit-i386-3.7.6-64/lock_dir\n"
     ]
    },
    {
     "name": "stdout",
     "output_type": "stream",
     "text": [
      "INFO  [theano.gof.compilelock.lock()]: To manually release the lock, delete /Users/hosborn/.theano/compiledir_Darwin-19.3.0-x86_64-i386-64bit-i386-3.7.6-64/lock_dir\n"
     ]
    },
    {
     "name": "stderr",
     "output_type": "stream",
     "text": [
      "INFO (theano.gof.compilelock): Waiting for existing lock by process '20511' (I am process '19630')\n"
     ]
    },
    {
     "name": "stdout",
     "output_type": "stream",
     "text": [
      "INFO  [theano.gof.compilelock.lock()]: Waiting for existing lock by process '20511' (I am process '19630')\n"
     ]
    },
    {
     "name": "stderr",
     "output_type": "stream",
     "text": [
      "INFO (theano.gof.compilelock): To manually release the lock, delete /Users/hosborn/.theano/compiledir_Darwin-19.3.0-x86_64-i386-64bit-i386-3.7.6-64/lock_dir\n"
     ]
    },
    {
     "name": "stdout",
     "output_type": "stream",
     "text": [
      "INFO  [theano.gof.compilelock.lock()]: To manually release the lock, delete /Users/hosborn/.theano/compiledir_Darwin-19.3.0-x86_64-i386-64bit-i386-3.7.6-64/lock_dir\n"
     ]
    },
    {
     "name": "stderr",
     "output_type": "stream",
     "text": [
      "INFO (theano.gof.compilelock): Waiting for existing lock by process '20511' (I am process '19630')\n"
     ]
    },
    {
     "name": "stdout",
     "output_type": "stream",
     "text": [
      "INFO  [theano.gof.compilelock.lock()]: Waiting for existing lock by process '20511' (I am process '19630')\n"
     ]
    },
    {
     "name": "stderr",
     "output_type": "stream",
     "text": [
      "INFO (theano.gof.compilelock): To manually release the lock, delete /Users/hosborn/.theano/compiledir_Darwin-19.3.0-x86_64-i386-64bit-i386-3.7.6-64/lock_dir\n"
     ]
    },
    {
     "name": "stdout",
     "output_type": "stream",
     "text": [
      "INFO  [theano.gof.compilelock.lock()]: To manually release the lock, delete /Users/hosborn/.theano/compiledir_Darwin-19.3.0-x86_64-i386-64bit-i386-3.7.6-64/lock_dir\n"
     ]
    },
    {
     "name": "stderr",
     "output_type": "stream",
     "text": [
      "INFO (theano.gof.compilelock): Waiting for existing lock by process '20511' (I am process '19630')\n"
     ]
    },
    {
     "name": "stdout",
     "output_type": "stream",
     "text": [
      "INFO  [theano.gof.compilelock.lock()]: Waiting for existing lock by process '20511' (I am process '19630')\n"
     ]
    },
    {
     "name": "stderr",
     "output_type": "stream",
     "text": [
      "INFO (theano.gof.compilelock): To manually release the lock, delete /Users/hosborn/.theano/compiledir_Darwin-19.3.0-x86_64-i386-64bit-i386-3.7.6-64/lock_dir\n"
     ]
    },
    {
     "name": "stdout",
     "output_type": "stream",
     "text": [
      "INFO  [theano.gof.compilelock.lock()]: To manually release the lock, delete /Users/hosborn/.theano/compiledir_Darwin-19.3.0-x86_64-i386-64bit-i386-3.7.6-64/lock_dir\n"
     ]
    },
    {
     "name": "stderr",
     "output_type": "stream",
     "text": [
      "INFO (theano.gof.compilelock): Waiting for existing lock by process '20511' (I am process '19630')\n"
     ]
    },
    {
     "name": "stdout",
     "output_type": "stream",
     "text": [
      "INFO  [theano.gof.compilelock.lock()]: Waiting for existing lock by process '20511' (I am process '19630')\n"
     ]
    },
    {
     "name": "stderr",
     "output_type": "stream",
     "text": [
      "INFO (theano.gof.compilelock): To manually release the lock, delete /Users/hosborn/.theano/compiledir_Darwin-19.3.0-x86_64-i386-64bit-i386-3.7.6-64/lock_dir\n"
     ]
    },
    {
     "name": "stdout",
     "output_type": "stream",
     "text": [
      "INFO  [theano.gof.compilelock.lock()]: To manually release the lock, delete /Users/hosborn/.theano/compiledir_Darwin-19.3.0-x86_64-i386-64bit-i386-3.7.6-64/lock_dir\n"
     ]
    },
    {
     "name": "stderr",
     "output_type": "stream",
     "text": [
      "INFO (theano.gof.compilelock): Waiting for existing lock by process '20511' (I am process '19630')\n"
     ]
    },
    {
     "name": "stdout",
     "output_type": "stream",
     "text": [
      "INFO  [theano.gof.compilelock.lock()]: Waiting for existing lock by process '20511' (I am process '19630')\n"
     ]
    },
    {
     "name": "stderr",
     "output_type": "stream",
     "text": [
      "INFO (theano.gof.compilelock): To manually release the lock, delete /Users/hosborn/.theano/compiledir_Darwin-19.3.0-x86_64-i386-64bit-i386-3.7.6-64/lock_dir\n"
     ]
    },
    {
     "name": "stdout",
     "output_type": "stream",
     "text": [
      "INFO  [theano.gof.compilelock.lock()]: To manually release the lock, delete /Users/hosborn/.theano/compiledir_Darwin-19.3.0-x86_64-i386-64bit-i386-3.7.6-64/lock_dir\n"
     ]
    },
    {
     "name": "stderr",
     "output_type": "stream",
     "text": [
      "INFO (theano.gof.compilelock): Waiting for existing lock by process '20511' (I am process '19630')\n"
     ]
    },
    {
     "name": "stdout",
     "output_type": "stream",
     "text": [
      "INFO  [theano.gof.compilelock.lock()]: Waiting for existing lock by process '20511' (I am process '19630')\n"
     ]
    },
    {
     "name": "stderr",
     "output_type": "stream",
     "text": [
      "INFO (theano.gof.compilelock): To manually release the lock, delete /Users/hosborn/.theano/compiledir_Darwin-19.3.0-x86_64-i386-64bit-i386-3.7.6-64/lock_dir\n"
     ]
    },
    {
     "name": "stdout",
     "output_type": "stream",
     "text": [
      "INFO  [theano.gof.compilelock.lock()]: To manually release the lock, delete /Users/hosborn/.theano/compiledir_Darwin-19.3.0-x86_64-i386-64bit-i386-3.7.6-64/lock_dir\n",
      "00 - Checks complete.  SNR: 23.12425  SNR_r: 10.74273  variability: -57.3445  centroid: 12.96608 | flag: planet\n",
      "DEBUG [matplotlib.backends.backend_pdf.fontName()]: Assigning font /b'F1' = '/Users/hosborn/transits/lib/python3.7/site-packages/matplotlib/mpl-data/fonts/ttf/DejaVuSans.ttf'\n",
      "DEBUG [matplotlib.backends.backend_pdf.writeFonts()]: Embedding font /Users/hosborn/transits/lib/python3.7/site-packages/matplotlib/mpl-data/fonts/ttf/DejaVuSans.ttf.\n",
      "DEBUG [matplotlib.backends.backend_pdf.writeFonts()]: Writing TrueType font.\n",
      "Breaking because status = COMPLETE\n",
      "TESS object\n",
      "INFO: Query finished. [astroquery.utils.tap.core]\n",
      "INFO  [astropy.launch_job_async()]: Query finished.\n",
      "DEBUG [urllib3.connectionpool._new_conn()]: Starting new HTTPS connection (1): www.aavso.org:443\n",
      "DEBUG [urllib3.connectionpool._make_request()]: https://www.aavso.org:443 \"GET /cgi-bin/apass_dr10_download.pl?ra=0.1785&dec=-22.6680&radius=0.0042&output=csv HTTP/1.1\" 200 611\n",
      "INFO: Query finished. [astroquery.utils.tap.core]\n",
      "INFO  [astropy.launch_job_async()]: Query finished.\n",
      "INFO: Query finished. [astroquery.utils.tap.core]\n",
      "INFO  [astropy.launch_job_async()]: Query finished.\n",
      "INFO: Query finished. [astroquery.utils.tap.core]\n",
      "INFO  [astropy.launch_job_async()]: Query finished.\n",
      "INFO: Query finished. [astroquery.utils.tap.core]\n",
      "INFO  [astropy.launch_job_async()]: Query finished.\n",
      "Isoclassifying\n",
      "54\n",
      "teff 383137\n",
      "lum 1974\n",
      "feh 1974\n",
      "number of models used within non-phot obsconstraints: 1974\n",
      "number of models incl reddening: 1974\n",
      "number of models after phot constraints: 1974\n",
      "----\n",
      "teff 5011.885747016761 217.4063432892981 196.7568563998002\n",
      "logg 3.371351989193043 0.10113187282876845 0.09172052944452025\n",
      "feh -0.2334815218278482 0.3655758524190836 0.463154947992664\n",
      "rad 3.6361903765012626 0.3059745584012523 0.3024750533978722\n",
      "mass 1.1609683364423333 0.26165964677372533 0.24607440822726212\n",
      "rho 0.02338719355091961 0.0071080624975862795 0.004997711027549527\n",
      "lum 7.59360619167518 0.21047642724007698 0.20382575279619175\n",
      "age 5.122673064960938 4.909415015899376 2.2583738328116847\n",
      "avs 0.14140416521941815 0.008820508247917691 0.0090932320256297\n",
      "dis 132.0029999514938 8.209583174627028 8.468262758136987\n",
      "DEBUG [urllib3.connectionpool._new_conn()]: Starting new HTTP connection (1): vizier.u-strasbg.fr:80\n",
      "DEBUG [urllib3.connectionpool._make_request()]: http://vizier.u-strasbg.fr:80 \"POST /viz-bin/votable HTTP/1.1\" 200 655\n",
      "DEBUG [urllib3.connectionpool._new_conn()]: Starting new HTTP connection (1): vizier.u-strasbg.fr:80\n",
      "DEBUG [urllib3.connectionpool._make_request()]: http://vizier.u-strasbg.fr:80 \"POST /viz-bin/votable HTTP/1.1\" 200 687\n",
      "DEBUG [urllib3.connectionpool._new_conn()]: Starting new HTTPS connection (1): heasarc.gsfc.nasa.gov:443\n",
      "DEBUG [urllib3.connectionpool._make_request()]: https://heasarc.gsfc.nasa.gov:443 \"GET /cgi-bin/tess/webtess/wtv.py?Entry=0.17800000000000002%2C+-22.668000000000003 HTTP/1.1\" 200 None\n",
      "https://heasarc.gsfc.nasa.gov/cgi-bin/tess/webtess/wtv.py?Entry=<SkyCoord (ICRS): (ra, dec) in deg\n",
      "    (0.178, -22.668)>\n",
      "[2] <class 'list'>\n",
      "TESS file\n",
      "1450 points masked in lc of 19737\n",
      "transit mask: <class 'numpy.ndarray'> 18699 0 <class 'numpy.ndarray'> 18699 True\n"
     ]
    },
    {
     "name": "stderr",
     "output_type": "stream",
     "text": [
      "INFO (theano.gof.compilelock): Waiting for existing lock by process '20511' (I am process '19630')\n"
     ]
    },
    {
     "name": "stdout",
     "output_type": "stream",
     "text": [
      "INFO  [theano.gof.compilelock.lock()]: Waiting for existing lock by process '20511' (I am process '19630')\n"
     ]
    },
    {
     "name": "stderr",
     "output_type": "stream",
     "text": [
      "INFO (theano.gof.compilelock): To manually release the lock, delete /Users/hosborn/.theano/compiledir_Darwin-19.3.0-x86_64-i386-64bit-i386-3.7.6-64/lock_dir\n"
     ]
    },
    {
     "name": "stdout",
     "output_type": "stream",
     "text": [
      "INFO  [theano.gof.compilelock.lock()]: To manually release the lock, delete /Users/hosborn/.theano/compiledir_Darwin-19.3.0-x86_64-i386-64bit-i386-3.7.6-64/lock_dir\n"
     ]
    },
    {
     "name": "stderr",
     "output_type": "stream",
     "text": [
      "INFO (theano.gof.compilelock): Waiting for existing lock by process '20511' (I am process '19630')\n"
     ]
    },
    {
     "name": "stdout",
     "output_type": "stream",
     "text": [
      "INFO  [theano.gof.compilelock.lock()]: Waiting for existing lock by process '20511' (I am process '19630')\n"
     ]
    },
    {
     "name": "stderr",
     "output_type": "stream",
     "text": [
      "INFO (theano.gof.compilelock): To manually release the lock, delete /Users/hosborn/.theano/compiledir_Darwin-19.3.0-x86_64-i386-64bit-i386-3.7.6-64/lock_dir\n"
     ]
    },
    {
     "name": "stdout",
     "output_type": "stream",
     "text": [
      "INFO  [theano.gof.compilelock.lock()]: To manually release the lock, delete /Users/hosborn/.theano/compiledir_Darwin-19.3.0-x86_64-i386-64bit-i386-3.7.6-64/lock_dir\n"
     ]
    },
    {
     "name": "stderr",
     "output_type": "stream",
     "text": [
      "INFO (theano.gof.compilelock): Waiting for existing lock by process '20511' (I am process '19630')\n"
     ]
    },
    {
     "name": "stdout",
     "output_type": "stream",
     "text": [
      "INFO  [theano.gof.compilelock.lock()]: Waiting for existing lock by process '20511' (I am process '19630')\n"
     ]
    },
    {
     "name": "stderr",
     "output_type": "stream",
     "text": [
      "INFO (theano.gof.compilelock): To manually release the lock, delete /Users/hosborn/.theano/compiledir_Darwin-19.3.0-x86_64-i386-64bit-i386-3.7.6-64/lock_dir\n"
     ]
    },
    {
     "name": "stdout",
     "output_type": "stream",
     "text": [
      "INFO  [theano.gof.compilelock.lock()]: To manually release the lock, delete /Users/hosborn/.theano/compiledir_Darwin-19.3.0-x86_64-i386-64bit-i386-3.7.6-64/lock_dir\n"
     ]
    },
    {
     "name": "stderr",
     "output_type": "stream",
     "text": [
      "INFO (theano.gof.compilelock): Waiting for existing lock by process '20511' (I am process '19630')\n"
     ]
    },
    {
     "name": "stdout",
     "output_type": "stream",
     "text": [
      "INFO  [theano.gof.compilelock.lock()]: Waiting for existing lock by process '20511' (I am process '19630')\n"
     ]
    },
    {
     "name": "stderr",
     "output_type": "stream",
     "text": [
      "INFO (theano.gof.compilelock): To manually release the lock, delete /Users/hosborn/.theano/compiledir_Darwin-19.3.0-x86_64-i386-64bit-i386-3.7.6-64/lock_dir\n"
     ]
    },
    {
     "name": "stdout",
     "output_type": "stream",
     "text": [
      "INFO  [theano.gof.compilelock.lock()]: To manually release the lock, delete /Users/hosborn/.theano/compiledir_Darwin-19.3.0-x86_64-i386-64bit-i386-3.7.6-64/lock_dir\n"
     ]
    },
    {
     "name": "stderr",
     "output_type": "stream",
     "text": [
      "INFO (theano.gof.compilelock): Waiting for existing lock by process '20511' (I am process '19630')\n"
     ]
    },
    {
     "name": "stdout",
     "output_type": "stream",
     "text": [
      "INFO  [theano.gof.compilelock.lock()]: Waiting for existing lock by process '20511' (I am process '19630')\n"
     ]
    },
    {
     "name": "stderr",
     "output_type": "stream",
     "text": [
      "INFO (theano.gof.compilelock): To manually release the lock, delete /Users/hosborn/.theano/compiledir_Darwin-19.3.0-x86_64-i386-64bit-i386-3.7.6-64/lock_dir\n"
     ]
    },
    {
     "name": "stdout",
     "output_type": "stream",
     "text": [
      "INFO  [theano.gof.compilelock.lock()]: To manually release the lock, delete /Users/hosborn/.theano/compiledir_Darwin-19.3.0-x86_64-i386-64bit-i386-3.7.6-64/lock_dir\n"
     ]
    },
    {
     "name": "stderr",
     "output_type": "stream",
     "text": [
      "INFO (theano.gof.compilelock): Waiting for existing lock by process '20511' (I am process '19630')\n"
     ]
    },
    {
     "name": "stdout",
     "output_type": "stream",
     "text": [
      "INFO  [theano.gof.compilelock.lock()]: Waiting for existing lock by process '20511' (I am process '19630')\n"
     ]
    },
    {
     "name": "stderr",
     "output_type": "stream",
     "text": [
      "INFO (theano.gof.compilelock): To manually release the lock, delete /Users/hosborn/.theano/compiledir_Darwin-19.3.0-x86_64-i386-64bit-i386-3.7.6-64/lock_dir\n"
     ]
    },
    {
     "name": "stdout",
     "output_type": "stream",
     "text": [
      "INFO  [theano.gof.compilelock.lock()]: To manually release the lock, delete /Users/hosborn/.theano/compiledir_Darwin-19.3.0-x86_64-i386-64bit-i386-3.7.6-64/lock_dir\n"
     ]
    },
    {
     "name": "stderr",
     "output_type": "stream",
     "text": [
      "INFO (theano.gof.compilelock): Waiting for existing lock by process '20511' (I am process '19630')\n"
     ]
    },
    {
     "name": "stdout",
     "output_type": "stream",
     "text": [
      "INFO  [theano.gof.compilelock.lock()]: Waiting for existing lock by process '20511' (I am process '19630')\n"
     ]
    },
    {
     "name": "stderr",
     "output_type": "stream",
     "text": [
      "INFO (theano.gof.compilelock): To manually release the lock, delete /Users/hosborn/.theano/compiledir_Darwin-19.3.0-x86_64-i386-64bit-i386-3.7.6-64/lock_dir\n"
     ]
    },
    {
     "name": "stdout",
     "output_type": "stream",
     "text": [
      "INFO  [theano.gof.compilelock.lock()]: To manually release the lock, delete /Users/hosborn/.theano/compiledir_Darwin-19.3.0-x86_64-i386-64bit-i386-3.7.6-64/lock_dir\n"
     ]
    },
    {
     "name": "stderr",
     "output_type": "stream",
     "text": [
      "INFO (theano.gof.compilelock): Waiting for existing lock by process '20511' (I am process '19630')\n"
     ]
    },
    {
     "name": "stdout",
     "output_type": "stream",
     "text": [
      "INFO  [theano.gof.compilelock.lock()]: Waiting for existing lock by process '20511' (I am process '19630')\n"
     ]
    },
    {
     "name": "stderr",
     "output_type": "stream",
     "text": [
      "INFO (theano.gof.compilelock): To manually release the lock, delete /Users/hosborn/.theano/compiledir_Darwin-19.3.0-x86_64-i386-64bit-i386-3.7.6-64/lock_dir\n"
     ]
    },
    {
     "name": "stdout",
     "output_type": "stream",
     "text": [
      "INFO  [theano.gof.compilelock.lock()]: To manually release the lock, delete /Users/hosborn/.theano/compiledir_Darwin-19.3.0-x86_64-i386-64bit-i386-3.7.6-64/lock_dir\n"
     ]
    },
    {
     "name": "stderr",
     "output_type": "stream",
     "text": [
      "INFO (theano.gof.compilelock): Waiting for existing lock by process '20511' (I am process '19630')\n"
     ]
    },
    {
     "name": "stdout",
     "output_type": "stream",
     "text": [
      "INFO  [theano.gof.compilelock.lock()]: Waiting for existing lock by process '20511' (I am process '19630')\n"
     ]
    },
    {
     "name": "stderr",
     "output_type": "stream",
     "text": [
      "INFO (theano.gof.compilelock): To manually release the lock, delete /Users/hosborn/.theano/compiledir_Darwin-19.3.0-x86_64-i386-64bit-i386-3.7.6-64/lock_dir\n"
     ]
    },
    {
     "name": "stdout",
     "output_type": "stream",
     "text": [
      "INFO  [theano.gof.compilelock.lock()]: To manually release the lock, delete /Users/hosborn/.theano/compiledir_Darwin-19.3.0-x86_64-i386-64bit-i386-3.7.6-64/lock_dir\n"
     ]
    },
    {
     "name": "stderr",
     "output_type": "stream",
     "text": [
      "INFO (theano.gof.compilelock): Waiting for existing lock by process '20511' (I am process '19630')\n"
     ]
    },
    {
     "name": "stdout",
     "output_type": "stream",
     "text": [
      "INFO  [theano.gof.compilelock.lock()]: Waiting for existing lock by process '20511' (I am process '19630')\n"
     ]
    },
    {
     "name": "stderr",
     "output_type": "stream",
     "text": [
      "INFO (theano.gof.compilelock): To manually release the lock, delete /Users/hosborn/.theano/compiledir_Darwin-19.3.0-x86_64-i386-64bit-i386-3.7.6-64/lock_dir\n"
     ]
    },
    {
     "name": "stdout",
     "output_type": "stream",
     "text": [
      "INFO  [theano.gof.compilelock.lock()]: To manually release the lock, delete /Users/hosborn/.theano/compiledir_Darwin-19.3.0-x86_64-i386-64bit-i386-3.7.6-64/lock_dir\n"
     ]
    },
    {
     "name": "stderr",
     "output_type": "stream",
     "text": [
      "INFO (theano.gof.compilelock): Waiting for existing lock by process '20511' (I am process '19630')\n"
     ]
    },
    {
     "name": "stdout",
     "output_type": "stream",
     "text": [
      "INFO  [theano.gof.compilelock.lock()]: Waiting for existing lock by process '20511' (I am process '19630')\n"
     ]
    },
    {
     "name": "stderr",
     "output_type": "stream",
     "text": [
      "INFO (theano.gof.compilelock): To manually release the lock, delete /Users/hosborn/.theano/compiledir_Darwin-19.3.0-x86_64-i386-64bit-i386-3.7.6-64/lock_dir\n"
     ]
    },
    {
     "name": "stdout",
     "output_type": "stream",
     "text": [
      "INFO  [theano.gof.compilelock.lock()]: To manually release the lock, delete /Users/hosborn/.theano/compiledir_Darwin-19.3.0-x86_64-i386-64bit-i386-3.7.6-64/lock_dir\n"
     ]
    },
    {
     "name": "stderr",
     "output_type": "stream",
     "text": [
      "INFO (theano.gof.compilelock): Waiting for existing lock by process '20511' (I am process '19630')\n"
     ]
    },
    {
     "name": "stdout",
     "output_type": "stream",
     "text": [
      "INFO  [theano.gof.compilelock.lock()]: Waiting for existing lock by process '20511' (I am process '19630')\n"
     ]
    },
    {
     "name": "stderr",
     "output_type": "stream",
     "text": [
      "INFO (theano.gof.compilelock): To manually release the lock, delete /Users/hosborn/.theano/compiledir_Darwin-19.3.0-x86_64-i386-64bit-i386-3.7.6-64/lock_dir\n"
     ]
    },
    {
     "name": "stdout",
     "output_type": "stream",
     "text": [
      "INFO  [theano.gof.compilelock.lock()]: To manually release the lock, delete /Users/hosborn/.theano/compiledir_Darwin-19.3.0-x86_64-i386-64bit-i386-3.7.6-64/lock_dir\n"
     ]
    },
    {
     "name": "stderr",
     "output_type": "stream",
     "text": [
      "INFO (theano.gof.compilelock): Waiting for existing lock by process '20511' (I am process '19630')\n"
     ]
    },
    {
     "name": "stdout",
     "output_type": "stream",
     "text": [
      "INFO  [theano.gof.compilelock.lock()]: Waiting for existing lock by process '20511' (I am process '19630')\n"
     ]
    },
    {
     "name": "stderr",
     "output_type": "stream",
     "text": [
      "INFO (theano.gof.compilelock): To manually release the lock, delete /Users/hosborn/.theano/compiledir_Darwin-19.3.0-x86_64-i386-64bit-i386-3.7.6-64/lock_dir\n"
     ]
    },
    {
     "name": "stdout",
     "output_type": "stream",
     "text": [
      "INFO  [theano.gof.compilelock.lock()]: To manually release the lock, delete /Users/hosborn/.theano/compiledir_Darwin-19.3.0-x86_64-i386-64bit-i386-3.7.6-64/lock_dir\n"
     ]
    },
    {
     "name": "stderr",
     "output_type": "stream",
     "text": [
      "INFO (theano.gof.compilelock): Waiting for existing lock by process '20511' (I am process '19630')\n"
     ]
    },
    {
     "name": "stdout",
     "output_type": "stream",
     "text": [
      "INFO  [theano.gof.compilelock.lock()]: Waiting for existing lock by process '20511' (I am process '19630')\n"
     ]
    },
    {
     "name": "stderr",
     "output_type": "stream",
     "text": [
      "INFO (theano.gof.compilelock): To manually release the lock, delete /Users/hosborn/.theano/compiledir_Darwin-19.3.0-x86_64-i386-64bit-i386-3.7.6-64/lock_dir\n"
     ]
    },
    {
     "name": "stdout",
     "output_type": "stream",
     "text": [
      "INFO  [theano.gof.compilelock.lock()]: To manually release the lock, delete /Users/hosborn/.theano/compiledir_Darwin-19.3.0-x86_64-i386-64bit-i386-3.7.6-64/lock_dir\n"
     ]
    },
    {
     "name": "stderr",
     "output_type": "stream",
     "text": [
      "INFO (theano.gof.compilelock): Waiting for existing lock by process '20511' (I am process '19630')\n"
     ]
    },
    {
     "name": "stdout",
     "output_type": "stream",
     "text": [
      "INFO  [theano.gof.compilelock.lock()]: Waiting for existing lock by process '20511' (I am process '19630')\n"
     ]
    },
    {
     "name": "stderr",
     "output_type": "stream",
     "text": [
      "INFO (theano.gof.compilelock): To manually release the lock, delete /Users/hosborn/.theano/compiledir_Darwin-19.3.0-x86_64-i386-64bit-i386-3.7.6-64/lock_dir\n"
     ]
    },
    {
     "name": "stdout",
     "output_type": "stream",
     "text": [
      "INFO  [theano.gof.compilelock.lock()]: To manually release the lock, delete /Users/hosborn/.theano/compiledir_Darwin-19.3.0-x86_64-i386-64bit-i386-3.7.6-64/lock_dir\n"
     ]
    },
    {
     "name": "stderr",
     "output_type": "stream",
     "text": [
      "INFO (theano.gof.compilelock): Waiting for existing lock by process '20511' (I am process '19630')\n"
     ]
    },
    {
     "name": "stdout",
     "output_type": "stream",
     "text": [
      "INFO  [theano.gof.compilelock.lock()]: Waiting for existing lock by process '20511' (I am process '19630')\n"
     ]
    },
    {
     "name": "stderr",
     "output_type": "stream",
     "text": [
      "INFO (theano.gof.compilelock): To manually release the lock, delete /Users/hosborn/.theano/compiledir_Darwin-19.3.0-x86_64-i386-64bit-i386-3.7.6-64/lock_dir\n"
     ]
    },
    {
     "name": "stdout",
     "output_type": "stream",
     "text": [
      "INFO  [theano.gof.compilelock.lock()]: To manually release the lock, delete /Users/hosborn/.theano/compiledir_Darwin-19.3.0-x86_64-i386-64bit-i386-3.7.6-64/lock_dir\n"
     ]
    },
    {
     "name": "stderr",
     "output_type": "stream",
     "text": [
      "INFO (theano.gof.compilelock): Waiting for existing lock by process '20511' (I am process '19630')\n"
     ]
    },
    {
     "name": "stdout",
     "output_type": "stream",
     "text": [
      "INFO  [theano.gof.compilelock.lock()]: Waiting for existing lock by process '20511' (I am process '19630')\n"
     ]
    },
    {
     "name": "stderr",
     "output_type": "stream",
     "text": [
      "INFO (theano.gof.compilelock): To manually release the lock, delete /Users/hosborn/.theano/compiledir_Darwin-19.3.0-x86_64-i386-64bit-i386-3.7.6-64/lock_dir\n"
     ]
    },
    {
     "name": "stdout",
     "output_type": "stream",
     "text": [
      "INFO  [theano.gof.compilelock.lock()]: To manually release the lock, delete /Users/hosborn/.theano/compiledir_Darwin-19.3.0-x86_64-i386-64bit-i386-3.7.6-64/lock_dir\n"
     ]
    },
    {
     "name": "stderr",
     "output_type": "stream",
     "text": [
      "INFO (theano.gof.compilelock): Waiting for existing lock by process '20511' (I am process '19630')\n"
     ]
    },
    {
     "name": "stdout",
     "output_type": "stream",
     "text": [
      "INFO  [theano.gof.compilelock.lock()]: Waiting for existing lock by process '20511' (I am process '19630')\n"
     ]
    },
    {
     "name": "stderr",
     "output_type": "stream",
     "text": [
      "INFO (theano.gof.compilelock): To manually release the lock, delete /Users/hosborn/.theano/compiledir_Darwin-19.3.0-x86_64-i386-64bit-i386-3.7.6-64/lock_dir\n"
     ]
    },
    {
     "name": "stdout",
     "output_type": "stream",
     "text": [
      "INFO  [theano.gof.compilelock.lock()]: To manually release the lock, delete /Users/hosborn/.theano/compiledir_Darwin-19.3.0-x86_64-i386-64bit-i386-3.7.6-64/lock_dir\n"
     ]
    },
    {
     "name": "stderr",
     "output_type": "stream",
     "text": [
      "INFO (theano.gof.compilelock): Waiting for existing lock by process '20511' (I am process '19630')\n"
     ]
    },
    {
     "name": "stdout",
     "output_type": "stream",
     "text": [
      "INFO  [theano.gof.compilelock.lock()]: Waiting for existing lock by process '20511' (I am process '19630')\n"
     ]
    },
    {
     "name": "stderr",
     "output_type": "stream",
     "text": [
      "INFO (theano.gof.compilelock): To manually release the lock, delete /Users/hosborn/.theano/compiledir_Darwin-19.3.0-x86_64-i386-64bit-i386-3.7.6-64/lock_dir\n"
     ]
    },
    {
     "name": "stdout",
     "output_type": "stream",
     "text": [
      "INFO  [theano.gof.compilelock.lock()]: To manually release the lock, delete /Users/hosborn/.theano/compiledir_Darwin-19.3.0-x86_64-i386-64bit-i386-3.7.6-64/lock_dir\n"
     ]
    },
    {
     "name": "stderr",
     "output_type": "stream",
     "text": [
      "INFO (theano.gof.compilelock): Waiting for existing lock by process '20511' (I am process '19630')\n"
     ]
    },
    {
     "name": "stdout",
     "output_type": "stream",
     "text": [
      "INFO  [theano.gof.compilelock.lock()]: Waiting for existing lock by process '20511' (I am process '19630')\n"
     ]
    },
    {
     "name": "stderr",
     "output_type": "stream",
     "text": [
      "INFO (theano.gof.compilelock): To manually release the lock, delete /Users/hosborn/.theano/compiledir_Darwin-19.3.0-x86_64-i386-64bit-i386-3.7.6-64/lock_dir\n"
     ]
    },
    {
     "name": "stdout",
     "output_type": "stream",
     "text": [
      "INFO  [theano.gof.compilelock.lock()]: To manually release the lock, delete /Users/hosborn/.theano/compiledir_Darwin-19.3.0-x86_64-i386-64bit-i386-3.7.6-64/lock_dir\n"
     ]
    },
    {
     "name": "stderr",
     "output_type": "stream",
     "text": [
      "INFO (theano.gof.compilelock): Waiting for existing lock by process '20511' (I am process '19630')\n"
     ]
    },
    {
     "name": "stdout",
     "output_type": "stream",
     "text": [
      "INFO  [theano.gof.compilelock.lock()]: Waiting for existing lock by process '20511' (I am process '19630')\n"
     ]
    },
    {
     "name": "stderr",
     "output_type": "stream",
     "text": [
      "INFO (theano.gof.compilelock): To manually release the lock, delete /Users/hosborn/.theano/compiledir_Darwin-19.3.0-x86_64-i386-64bit-i386-3.7.6-64/lock_dir\n"
     ]
    },
    {
     "name": "stdout",
     "output_type": "stream",
     "text": [
      "INFO  [theano.gof.compilelock.lock()]: To manually release the lock, delete /Users/hosborn/.theano/compiledir_Darwin-19.3.0-x86_64-i386-64bit-i386-3.7.6-64/lock_dir\n",
      "WARNING [matplotlib.legend._parse_legend_args()]: No handles with labels found to put in legend.\n",
      "00 lowSNR, SNR= 10.021044459297796 SNR_r= 4.222857019603355 depth: 0.00019503710361948708 fit: False\n",
      "DEBUG [matplotlib.backends.backend_pdf.fontName()]: Assigning font /b'F1' = '/Users/hosborn/transits/lib/python3.7/site-packages/matplotlib/mpl-data/fonts/ttf/DejaVuSans.ttf'\n",
      "DEBUG [matplotlib.backends.backend_pdf.writeFonts()]: Embedding font /Users/hosborn/transits/lib/python3.7/site-packages/matplotlib/mpl-data/fonts/ttf/DejaVuSans.ttf.\n",
      "DEBUG [matplotlib.backends.backend_pdf.writeFonts()]: Writing TrueType font.\n",
      "Breaking because status = COMPLETE\n",
      "TESS object\n",
      "INFO: Query finished. [astroquery.utils.tap.core]\n",
      "INFO  [astropy.launch_job_async()]: Query finished.\n",
      "DEBUG [urllib3.connectionpool._new_conn()]: Starting new HTTPS connection (1): www.aavso.org:443\n",
      "DEBUG [urllib3.connectionpool._make_request()]: https://www.aavso.org:443 \"GET /cgi-bin/apass_dr10_download.pl?ra=106.3729&dec=-54.1201&radius=0.0042&output=csv HTTP/1.1\" 200 603\n",
      "INFO: Query finished. [astroquery.utils.tap.core]\n",
      "INFO  [astropy.launch_job_async()]: Query finished.\n",
      "INFO: Query finished. [astroquery.utils.tap.core]\n",
      "INFO  [astropy.launch_job_async()]: Query finished.\n",
      "INFO: Query finished. [astroquery.utils.tap.core]\n",
      "INFO  [astropy.launch_job_async()]: Query finished.\n",
      "INFO: Query finished. [astroquery.utils.tap.core]\n",
      "INFO  [astropy.launch_job_async()]: Query finished.\n",
      "NO JUICE Unnamed: 0                                                 1814\n",
      "dec                                                      -54.12\n",
      "dur                                                        0.12\n",
      "file          AllMonos_martti_tess.csv;steven_martti_lacours...\n",
      "id                                                  2.79575e+08\n",
      "mission                                                    TESS\n",
      "ra                                                      106.373\n",
      "tcen                                                    3733.09\n",
      "Name: 312, dtype: object\n",
      "Breaking because status = COMPLETE\n",
      "TESS object\n",
      "DEBUG [urllib3.connectionpool._new_conn()]: Starting new HTTP connection (1): vizier.u-strasbg.fr:80\n",
      "DEBUG [urllib3.connectionpool._make_request()]: http://vizier.u-strasbg.fr:80 \"POST /viz-bin/votable HTTP/1.1\" 200 658\n",
      "DEBUG [urllib3.connectionpool._new_conn()]: Starting new HTTP connection (1): vizier.u-strasbg.fr:80\n",
      "DEBUG [urllib3.connectionpool._make_request()]: http://vizier.u-strasbg.fr:80 \"POST /viz-bin/votable HTTP/1.1\" 200 688\n",
      "DEBUG [urllib3.connectionpool._new_conn()]: Starting new HTTPS connection (1): heasarc.gsfc.nasa.gov:443\n",
      "DEBUG [urllib3.connectionpool._make_request()]: https://heasarc.gsfc.nasa.gov:443 \"GET /cgi-bin/tess/webtess/wtv.py?Entry=253.2514491%2C+-30.8714682 HTTP/1.1\" 200 None\n",
      "https://heasarc.gsfc.nasa.gov/cgi-bin/tess/webtess/wtv.py?Entry=<SkyCoord (ICRS): (ra, dec) in deg\n",
      "    (253.2514491, -30.8714682)>\n",
      "[12] <class 'list'>\n",
      "TESS file\n",
      "4265 points masked in lc of 20119\n",
      "NO JUICE Unnamed: 0                        1816\n",
      "dec                           -30.8715\n",
      "dur                                  0\n",
      "file          AllMonos_martti_tess.csv\n",
      "id                         3.35624e+07\n",
      "mission                           TESS\n",
      "ra                             253.251\n",
      "tcen                              2167\n",
      "Name: 314, dtype: object\n",
      "Breaking because status = COMPLETE\n",
      "TESS object\n",
      "NO JUICE Unnamed: 0                        1818\n",
      "dec                            -42.642\n",
      "dur                               0.08\n",
      "file          AllMonos_martti_tess.csv\n",
      "id                         1.53078e+08\n",
      "mission                           TESS\n",
      "ra                               49.66\n",
      "tcen                           3581.22\n",
      "Name: 316, dtype: object\n",
      "Breaking because status = COMPLETE\n",
      "TESS object\n",
      "DEBUG [urllib3.connectionpool._new_conn()]: Starting new HTTP connection (1): vizier.u-strasbg.fr:80\n",
      "DEBUG [urllib3.connectionpool._make_request()]: http://vizier.u-strasbg.fr:80 \"POST /viz-bin/votable HTTP/1.1\" 200 657\n",
      "DEBUG [urllib3.connectionpool._new_conn()]: Starting new HTTP connection (1): vizier.u-strasbg.fr:80\n",
      "DEBUG [urllib3.connectionpool._make_request()]: http://vizier.u-strasbg.fr:80 \"POST /viz-bin/votable HTTP/1.1\" 200 690\n",
      "DEBUG [urllib3.connectionpool._new_conn()]: Starting new HTTPS connection (1): heasarc.gsfc.nasa.gov:443\n",
      "DEBUG [urllib3.connectionpool._make_request()]: https://heasarc.gsfc.nasa.gov:443 \"GET /cgi-bin/tess/webtess/wtv.py?Entry=253.9097978%2C+-31.05196836 HTTP/1.1\" 200 None\n",
      "https://heasarc.gsfc.nasa.gov/cgi-bin/tess/webtess/wtv.py?Entry=<SkyCoord (ICRS): (ra, dec) in deg\n",
      "    (253.9097978, -31.05196836)>\n",
      "[12] <class 'list'>\n",
      "TESS file\n",
      "4254 points masked in lc of 20119\n",
      "NO JUICE Unnamed: 0                        1820\n",
      "dec                            -31.052\n",
      "dur                                  0\n",
      "file          AllMonos_martti_tess.csv\n",
      "id                         3.49176e+07\n",
      "mission                           TESS\n",
      "ra                              253.91\n",
      "tcen                              2167\n",
      "Name: 318, dtype: object\n",
      "Breaking because status = COMPLETE\n",
      "TESS object\n",
      "DEBUG [urllib3.connectionpool._new_conn()]: Starting new HTTP connection (1): vizier.u-strasbg.fr:80\n",
      "DEBUG [urllib3.connectionpool._make_request()]: http://vizier.u-strasbg.fr:80 \"POST /viz-bin/votable HTTP/1.1\" 200 656\n",
      "DEBUG [urllib3.connectionpool._new_conn()]: Starting new HTTP connection (1): vizier.u-strasbg.fr:80\n",
      "DEBUG [urllib3.connectionpool._make_request()]: http://vizier.u-strasbg.fr:80 \"POST /viz-bin/votable HTTP/1.1\" 200 687\n",
      "DEBUG [urllib3.connectionpool._new_conn()]: Starting new HTTPS connection (1): heasarc.gsfc.nasa.gov:443\n",
      "DEBUG [urllib3.connectionpool._make_request()]: https://heasarc.gsfc.nasa.gov:443 \"GET /cgi-bin/tess/webtess/wtv.py?Entry=164.4206465%2C+-3.881978782 HTTP/1.1\" 200 None\n",
      "https://heasarc.gsfc.nasa.gov/cgi-bin/tess/webtess/wtv.py?Entry=<SkyCoord (ICRS): (ra, dec) in deg\n",
      "    (164.4206465, -3.88197878)>\n",
      "[9] <class 'list'>\n",
      "TESS file\n",
      "2488 points masked in lc of 18187\n",
      "NO JUICE Unnamed: 0                                                 1822\n",
      "dec                                                    -3.88198\n",
      "dur                                                           0\n",
      "file          All_OsbornMarttiK2Monos.csv;All_OsbornMarttiK2...\n",
      "id                                                  3.49869e+07\n",
      "mission                                                    TESS\n",
      "ra                                                      164.421\n",
      "tcen                                                       2167\n",
      "Name: 320, dtype: object\n",
      "Breaking because status = COMPLETE\n",
      "TESS object\n",
      "DEBUG [urllib3.connectionpool._new_conn()]: Starting new HTTP connection (1): vizier.u-strasbg.fr:80\n",
      "DEBUG [urllib3.connectionpool._make_request()]: http://vizier.u-strasbg.fr:80 \"POST /viz-bin/votable HTTP/1.1\" 200 656\n",
      "DEBUG [urllib3.connectionpool._new_conn()]: Starting new HTTP connection (1): vizier.u-strasbg.fr:80\n",
      "DEBUG [urllib3.connectionpool._make_request()]: http://vizier.u-strasbg.fr:80 \"POST /viz-bin/votable HTTP/1.1\" 200 690\n",
      "DEBUG [urllib3.connectionpool._new_conn()]: Starting new HTTPS connection (1): heasarc.gsfc.nasa.gov:443\n",
      "DEBUG [urllib3.connectionpool._make_request()]: https://heasarc.gsfc.nasa.gov:443 \"GET /cgi-bin/tess/webtess/wtv.py?Entry=224.78049730000004%2C+-55.663731000000006 HTTP/1.1\" 200 None\n",
      "https://heasarc.gsfc.nasa.gov/cgi-bin/tess/webtess/wtv.py?Entry=<SkyCoord (ICRS): (ra, dec) in deg\n",
      "    (224.7804973, -55.663731)>\n",
      "[11, 12] <class 'list'>\n",
      "TESS file\n",
      "2740 points masked in lc of 19527\n",
      "TESS file\n",
      "1023 points masked in lc of 20119\n",
      "[0, 1]\n",
      "NO JUICE Unnamed: 0                        1824\n",
      "dec                           -55.6637\n",
      "dur                                  0\n",
      "file          AllMonos_martti_tess.csv\n",
      "id                           3.535e+07\n",
      "mission                           TESS\n",
      "ra                              224.78\n",
      "tcen                              2167\n",
      "Name: 322, dtype: object\n",
      "DEBUG [urllib3.connectionpool._new_conn()]: Starting new HTTPS connection (1): heasarc.gsfc.nasa.gov:443\n",
      "DEBUG [urllib3.connectionpool._make_request()]: https://heasarc.gsfc.nasa.gov:443 \"GET /cgi-bin/tess/webtess/wtv.py?Entry=155.337842562696%2C+-6.80513462639727 HTTP/1.1\" 200 None\n"
     ]
    },
    {
     "name": "stdout",
     "output_type": "stream",
     "text": [
      "https://heasarc.gsfc.nasa.gov/cgi-bin/tess/webtess/wtv.py?Entry=<SkyCoord (ICRS): (ra, dec) in deg\n",
      "    (155.33784256, -6.80513463)>\n",
      "[] <class 'list'>\n",
      "NO JUICE Unnamed: 0                        1827\n",
      "dec                                NaN\n",
      "dur                                  0\n",
      "file          AllMonos_martti_tess.csv\n",
      "id                         3.68231e+07\n",
      "mission                           TESS\n",
      "ra                                 NaN\n",
      "tcen                              2167\n",
      "Name: 324, dtype: object\n",
      "Breaking because status = COMPLETE\n",
      "TESS object\n",
      "DEBUG [urllib3.connectionpool._new_conn()]: Starting new HTTP connection (1): vizier.u-strasbg.fr:80\n",
      "DEBUG [urllib3.connectionpool._make_request()]: http://vizier.u-strasbg.fr:80 \"POST /viz-bin/votable HTTP/1.1\" 200 655\n",
      "DEBUG [urllib3.connectionpool._new_conn()]: Starting new HTTP connection (1): vizier.u-strasbg.fr:80\n",
      "DEBUG [urllib3.connectionpool._make_request()]: http://vizier.u-strasbg.fr:80 \"POST /viz-bin/votable HTTP/1.1\" 200 687\n",
      "DEBUG [urllib3.connectionpool._new_conn()]: Starting new HTTPS connection (1): heasarc.gsfc.nasa.gov:443\n",
      "DEBUG [urllib3.connectionpool._make_request()]: https://heasarc.gsfc.nasa.gov:443 \"GET /cgi-bin/tess/webtess/wtv.py?Entry=92.772784%2C+-28.8055 HTTP/1.1\" 200 None\n",
      "https://heasarc.gsfc.nasa.gov/cgi-bin/tess/webtess/wtv.py?Entry=<SkyCoord (ICRS): (ra, dec) in deg\n",
      "    (92.772784, -28.8055)>\n",
      "[6] <class 'list'>\n",
      "TESS file\n",
      "873 points masked in lc of 15678\n",
      "NO JUICE Unnamed: 0                        1829\n",
      "dec                           -28.8055\n",
      "dur                                  0\n",
      "file          AllMonos_martti_tess.csv\n",
      "id                         3.75009e+07\n",
      "mission                           TESS\n",
      "ra                             92.7728\n",
      "tcen                              2167\n",
      "Name: 326, dtype: object\n",
      "Breaking because status = COMPLETE\n",
      "TESS object\n",
      "DEBUG [urllib3.connectionpool._new_conn()]: Starting new HTTP connection (1): vizier.u-strasbg.fr:80\n",
      "DEBUG [urllib3.connectionpool._make_request()]: http://vizier.u-strasbg.fr:80 \"POST /viz-bin/votable HTTP/1.1\" 200 656\n",
      "DEBUG [urllib3.connectionpool._new_conn()]: Starting new HTTP connection (1): vizier.u-strasbg.fr:80\n",
      "DEBUG [urllib3.connectionpool._make_request()]: http://vizier.u-strasbg.fr:80 \"POST /viz-bin/votable HTTP/1.1\" 200 688\n",
      "DEBUG [urllib3.connectionpool._new_conn()]: Starting new HTTPS connection (1): heasarc.gsfc.nasa.gov:443\n",
      "DEBUG [urllib3.connectionpool._make_request()]: https://heasarc.gsfc.nasa.gov:443 \"GET /cgi-bin/tess/webtess/wtv.py?Entry=170.7142399%2C+-5.417835756000001 HTTP/1.1\" 200 None\n",
      "https://heasarc.gsfc.nasa.gov/cgi-bin/tess/webtess/wtv.py?Entry=<SkyCoord (ICRS): (ra, dec) in deg\n",
      "    (170.7142399, -5.41783576)>\n",
      "[9] <class 'list'>\n",
      "TESS file\n",
      "2172 points masked in lc of 18187\n",
      "NO JUICE Unnamed: 0                        1831\n",
      "dec                           -5.41784\n",
      "dur                                  0\n",
      "file          AllMonos_martti_tess.csv\n",
      "id                         3.81413e+07\n",
      "mission                           TESS\n",
      "ra                             170.714\n",
      "tcen                              2167\n",
      "Name: 328, dtype: object\n",
      "Breaking because status = COMPLETE\n",
      "TESS object\n",
      "INFO: Query finished. [astroquery.utils.tap.core]\n",
      "INFO  [astropy.launch_job_async()]: Query finished.\n",
      "DEBUG [urllib3.connectionpool._new_conn()]: Starting new HTTPS connection (1): www.aavso.org:443\n",
      "DEBUG [urllib3.connectionpool._make_request()]: https://www.aavso.org:443 \"GET /cgi-bin/apass_dr10_download.pl?ra=62.2659&dec=-64.7014&radius=0.0042&output=csv HTTP/1.1\" 200 606\n",
      "INFO: Query finished. [astroquery.utils.tap.core]\n",
      "INFO  [astropy.launch_job_async()]: Query finished.\n",
      "INFO: Query finished. [astroquery.utils.tap.core]\n",
      "INFO  [astropy.launch_job_async()]: Query finished.\n",
      "INFO: Query finished. [astroquery.utils.tap.core]\n",
      "INFO  [astropy.launch_job_async()]: Query finished.\n",
      "INFO: Query finished. [astroquery.utils.tap.core]\n",
      "INFO  [astropy.launch_job_async()]: Query finished.\n",
      "Isoclassifying\n",
      "54\n",
      "teff 187723\n",
      "lum 25182\n",
      "feh 25182\n",
      "number of models used within non-phot obsconstraints: 25182\n",
      "number of models incl reddening: 25182\n",
      "number of models after phot constraints: 25182\n",
      "----\n",
      "teff 6159.331301807488 190.71397085274202 140.62981337818655\n",
      "logg 4.5711332532158595 0.058888608197043446 0.06511766236814065\n",
      "feh -1.3813632844459975 0.5274714217024965 0.44327671408995184\n",
      "rad 0.7567470060671616 0.06502573400952794 0.06029522046445057\n",
      "mass 0.779524543785863 0.06728204342031185 0.05552238609284288\n",
      "rho 1.7796410083310137 0.4179341572710673 0.3674180181060165\n",
      "lum 0.7768407869009624 0.1454625849148734 0.1691564693592087\n",
      "age 4.763839001646889 5.173321513263189 3.3843189314242323\n",
      "avs 0.017321197969576003 0.0019713135011827157 0.0031156692461260325\n",
      "dis 120.3962686803469 9.929778585650496 10.941715883787083\n",
      "DEBUG [urllib3.connectionpool._new_conn()]: Starting new HTTP connection (1): vizier.u-strasbg.fr:80\n",
      "DEBUG [urllib3.connectionpool._make_request()]: http://vizier.u-strasbg.fr:80 \"POST /viz-bin/votable HTTP/1.1\" 200 656\n",
      "DEBUG [urllib3.connectionpool._new_conn()]: Starting new HTTP connection (1): vizier.u-strasbg.fr:80\n",
      "DEBUG [urllib3.connectionpool._make_request()]: http://vizier.u-strasbg.fr:80 \"POST /viz-bin/votable HTTP/1.1\" 200 687\n",
      "DEBUG [urllib3.connectionpool._new_conn()]: Starting new HTTPS connection (1): heasarc.gsfc.nasa.gov:443\n",
      "DEBUG [urllib3.connectionpool._make_request()]: https://heasarc.gsfc.nasa.gov:443 \"GET /cgi-bin/tess/webtess/wtv.py?Entry=62.265864%2C+-64.701497 HTTP/1.1\" 200 None\n",
      "https://heasarc.gsfc.nasa.gov/cgi-bin/tess/webtess/wtv.py?Entry=<SkyCoord (ICRS): (ra, dec) in deg\n",
      "    (62.265864, -64.701497)>\n",
      "[1, 2, 3, 4, 5, 6, 7, 8, 9, 10, 11, 12, 13] <class 'list'>\n",
      "TESS file\n",
      "1984 points masked in lc of 20076\n",
      "TESS file\n",
      "1433 points masked in lc of 19737\n",
      "TESS file\n",
      "6251 points masked in lc of 19692\n",
      "TESS file\n",
      "2904 points masked in lc of 18684\n",
      "TESS file\n",
      "1083 points masked in lc of 18944\n",
      "TESS file\n",
      "867 points masked in lc of 15678\n",
      "TESS file\n",
      "1272 points masked in lc of 17612\n",
      "TESS file\n",
      "4360 points masked in lc of 17755\n",
      "TESS file\n",
      "3231 points masked in lc of 18187\n",
      "TESS file\n",
      "2694 points masked in lc of 18900\n",
      "TESS file\n",
      "3455 points masked in lc of 19527\n",
      "TESS file\n",
      "1043 points masked in lc of 20119\n",
      "TESS file\n",
      "925 points masked in lc of 20479\n",
      "[0, 1, 2, 3, 4, 5, 6, 7, 8, 9, 10, 11, 12]\n",
      "NO JUICE Unnamed: 0                        1833\n",
      "dec                           -64.7015\n",
      "dur                                  0\n",
      "file          AllMonos_martti_tess.csv\n",
      "id                         3.85086e+07\n",
      "mission                           TESS\n",
      "ra                             62.2659\n",
      "tcen                              2167\n",
      "Name: 330, dtype: object\n",
      "Breaking because status = COMPLETE\n",
      "TESS object\n",
      "DEBUG [urllib3.connectionpool._new_conn()]: Starting new HTTP connection (1): vizier.u-strasbg.fr:80\n",
      "DEBUG [urllib3.connectionpool._make_request()]: http://vizier.u-strasbg.fr:80 \"POST /viz-bin/votable HTTP/1.1\" 200 656\n",
      "DEBUG [urllib3.connectionpool._new_conn()]: Starting new HTTP connection (1): vizier.u-strasbg.fr:80\n",
      "DEBUG [urllib3.connectionpool._make_request()]: http://vizier.u-strasbg.fr:80 \"POST /viz-bin/votable HTTP/1.1\" 200 686\n",
      "DEBUG [urllib3.connectionpool._new_conn()]: Starting new HTTPS connection (1): heasarc.gsfc.nasa.gov:443\n",
      "DEBUG [urllib3.connectionpool._make_request()]: https://heasarc.gsfc.nasa.gov:443 \"GET /cgi-bin/tess/webtess/wtv.py?Entry=69.86907447%2C+-60.612652399999995 HTTP/1.1\" 200 None\n",
      "https://heasarc.gsfc.nasa.gov/cgi-bin/tess/webtess/wtv.py?Entry=<SkyCoord (ICRS): (ra, dec) in deg\n",
      "    (69.86907447, -60.6126524)>\n",
      "[1, 2, 3, 4, 5, 6, 7, 8, 9, 10, 11, 12, 13] <class 'list'>\n",
      "TESS file\n",
      "2914 points masked in lc of 18684\n",
      "TESS file\n",
      "1081 points masked in lc of 18944\n",
      "TESS file\n",
      "869 points masked in lc of 15678\n",
      "TESS file\n",
      "1279 points masked in lc of 17612\n",
      "TESS file\n",
      "4354 points masked in lc of 17755\n",
      "TESS file\n",
      "3244 points masked in lc of 18187\n",
      "TESS file\n",
      "3363 points masked in lc of 18900\n",
      "TESS file\n",
      "3456 points masked in lc of 19527\n",
      "TESS file\n",
      "1057 points masked in lc of 20119\n",
      "TESS file\n",
      "937 points masked in lc of 20479\n",
      "# Loading QLP lightcurves\n",
      "38940036 <class 'int'>\n",
      "NO JUICE Unnamed: 0                        1835\n",
      "dec                           -60.6127\n",
      "dur                          0.0412259\n",
      "file          AllMonos_martti_tess.csv\n",
      "id                           3.894e+07\n",
      "mission                           TESS\n",
      "ra                             69.8691\n",
      "tcen                            3804.5\n",
      "Name: 332, dtype: object\n"
     ]
    },
    {
     "name": "stdout",
     "output_type": "stream",
     "text": [
      "Breaking because status = COMPLETE\n",
      "TESS object\n",
      "DEBUG [urllib3.connectionpool._new_conn()]: Starting new HTTP connection (1): vizier.u-strasbg.fr:80\n",
      "DEBUG [urllib3.connectionpool._make_request()]: http://vizier.u-strasbg.fr:80 \"POST /viz-bin/votable HTTP/1.1\" 200 654\n",
      "DEBUG [urllib3.connectionpool._new_conn()]: Starting new HTTP connection (1): vizier.u-strasbg.fr:80\n",
      "DEBUG [urllib3.connectionpool._make_request()]: http://vizier.u-strasbg.fr:80 \"POST /viz-bin/votable HTTP/1.1\" 200 687\n",
      "DEBUG [urllib3.connectionpool._new_conn()]: Starting new HTTPS connection (1): heasarc.gsfc.nasa.gov:443\n",
      "DEBUG [urllib3.connectionpool._make_request()]: https://heasarc.gsfc.nasa.gov:443 \"GET /cgi-bin/tess/webtess/wtv.py?Entry=96.7297%2C+-5.9239999999999995 HTTP/1.1\" 200 None\n",
      "https://heasarc.gsfc.nasa.gov/cgi-bin/tess/webtess/wtv.py?Entry=<SkyCoord (ICRS): (ra, dec) in deg\n",
      "    (96.7297, -5.924)>\n",
      "[6] <class 'list'>\n",
      "TESS file\n",
      "856 points masked in lc of 15678\n",
      "NO JUICE Unnamed: 0                        1837\n",
      "dec                             -5.924\n",
      "dur                                  0\n",
      "file          AllMonos_martti_tess.csv\n",
      "id                          4.2758e+07\n",
      "mission                           TESS\n",
      "ra                             96.7297\n",
      "tcen                              2167\n",
      "Name: 334, dtype: object\n",
      "Breaking because status = COMPLETE\n",
      "TESS object\n",
      "INFO: Query finished. [astroquery.utils.tap.core]\n",
      "INFO  [astropy.launch_job_async()]: Query finished.\n",
      "DEBUG [urllib3.connectionpool._new_conn()]: Starting new HTTPS connection (1): www.aavso.org:443\n",
      "DEBUG [urllib3.connectionpool._make_request()]: https://www.aavso.org:443 \"GET /cgi-bin/apass_dr10_download.pl?ra=257.8209&dec=-32.3252&radius=0.0042&output=csv HTTP/1.1\" 200 460\n",
      "INFO: Query finished. [astroquery.utils.tap.core]\n",
      "INFO  [astropy.launch_job_async()]: Query finished.\n",
      "INFO: Query finished. [astroquery.utils.tap.core]\n",
      "INFO  [astropy.launch_job_async()]: Query finished.\n",
      "INFO: Query finished. [astroquery.utils.tap.core]\n",
      "INFO  [astropy.launch_job_async()]: Query finished.\n",
      "INFO: Query finished. [astroquery.utils.tap.core]\n",
      "INFO  [astropy.launch_job_async()]: Query finished.\n",
      "No BV for 45344564\n",
      "No griz for 45344564\n",
      "Isoclassifying\n",
      "54\n",
      "teff 160749\n",
      "feh 160749\n",
      "number of models used within non-phot obsconstraints: 160749\n",
      "number of models incl reddening: 160749\n",
      "number of models after phot constraints: 101296\n",
      "----\n",
      "teff 3289.0189614207757 39.67123530504341 37.3778178258126\n",
      "logg 0.05054870219584345 0.2369747332239321 0.20878774992323304\n",
      "feh -0.14004511147875529 0.327491823952076 0.4433475919619224\n",
      "rad 230.50152161011113 79.33662428840199 61.157747394814464\n",
      "mass 2.3840989150301017 0.9913679819917194 0.7029933275926794\n",
      "rho 1.7453260712702836e-07 2.1635898558690737e-07 8.955593888544171e-08\n",
      "lum 5587.716893179271 4454.660865925554 2527.2067529771557\n",
      "age 0.6691849699790975 0.930511021852249 0.4191849699790975\n",
      "avs 0.09620488278388396 0.011348837849476615 0.014294301709974838\n",
      "dis 394.48654026249517 126.94619169069233 94.84170171231676\n",
      "DEBUG [urllib3.connectionpool._new_conn()]: Starting new HTTP connection (1): vizier.u-strasbg.fr:80\n",
      "DEBUG [urllib3.connectionpool._make_request()]: http://vizier.u-strasbg.fr:80 \"POST /viz-bin/votable HTTP/1.1\" 200 657\n",
      "DEBUG [urllib3.connectionpool._new_conn()]: Starting new HTTP connection (1): vizier.u-strasbg.fr:80\n",
      "DEBUG [urllib3.connectionpool._make_request()]: http://vizier.u-strasbg.fr:80 \"POST /viz-bin/votable HTTP/1.1\" 200 688\n",
      "DEBUG [urllib3.connectionpool._new_conn()]: Starting new HTTPS connection (1): heasarc.gsfc.nasa.gov:443\n",
      "DEBUG [urllib3.connectionpool._make_request()]: https://heasarc.gsfc.nasa.gov:443 \"GET /cgi-bin/tess/webtess/wtv.py?Entry=257.8209284%2C+-32.3252009 HTTP/1.1\" 200 None\n",
      "https://heasarc.gsfc.nasa.gov/cgi-bin/tess/webtess/wtv.py?Entry=<SkyCoord (ICRS): (ra, dec) in deg\n",
      "    (257.8209284, -32.3252009)>\n",
      "[12] <class 'list'>\n",
      "TESS file\n",
      "4373 points masked in lc of 20119\n",
      "NO JUICE Unnamed: 0                        1839\n",
      "dec                           -32.3252\n",
      "dur                                  0\n",
      "file          AllMonos_martti_tess.csv\n",
      "id                         4.53446e+07\n",
      "mission                           TESS\n",
      "ra                             257.821\n",
      "tcen                              2167\n",
      "Name: 336, dtype: object\n",
      "Breaking because status = COMPLETE\n",
      "TESS object\n",
      "DEBUG [urllib3.connectionpool._new_conn()]: Starting new HTTP connection (1): vizier.u-strasbg.fr:80\n",
      "DEBUG [urllib3.connectionpool._make_request()]: http://vizier.u-strasbg.fr:80 \"POST /viz-bin/votable HTTP/1.1\" 200 658\n",
      "DEBUG [urllib3.connectionpool._new_conn()]: Starting new HTTP connection (1): vizier.u-strasbg.fr:80\n",
      "DEBUG [urllib3.connectionpool._make_request()]: http://vizier.u-strasbg.fr:80 \"POST /viz-bin/votable HTTP/1.1\" 200 690\n",
      "DEBUG [urllib3.connectionpool._new_conn()]: Starting new HTTPS connection (1): heasarc.gsfc.nasa.gov:443\n",
      "DEBUG [urllib3.connectionpool._make_request()]: https://heasarc.gsfc.nasa.gov:443 \"GET /cgi-bin/tess/webtess/wtv.py?Entry=214.6275679%2C+-21.85183773 HTTP/1.1\" 200 None\n",
      "https://heasarc.gsfc.nasa.gov/cgi-bin/tess/webtess/wtv.py?Entry=<SkyCoord (ICRS): (ra, dec) in deg\n",
      "    (214.6275679, -21.85183773)>\n",
      "[11] <class 'list'>\n",
      "TESS file\n",
      "5654 points masked in lc of 19527\n",
      "NO JUICE Unnamed: 0                                                 1842\n",
      "dec                                                    -21.8518\n",
      "dur                                                           0\n",
      "file          lacourse_jacobs_k2_table.csv;All_OsbornMarttiK...\n",
      "id                                                  4.60972e+07\n",
      "mission                                                    TESS\n",
      "ra                                                      214.628\n",
      "tcen                                                       2167\n",
      "Name: 338, dtype: object\n",
      "Breaking because status = COMPLETE\n",
      "TESS object\n",
      "DEBUG [urllib3.connectionpool._new_conn()]: Starting new HTTP connection (1): vizier.u-strasbg.fr:80\n",
      "DEBUG [urllib3.connectionpool._make_request()]: http://vizier.u-strasbg.fr:80 \"POST /viz-bin/votable HTTP/1.1\" 200 655\n",
      "DEBUG [urllib3.connectionpool._new_conn()]: Starting new HTTP connection (1): vizier.u-strasbg.fr:80\n",
      "DEBUG [urllib3.connectionpool._make_request()]: http://vizier.u-strasbg.fr:80 \"POST /viz-bin/votable HTTP/1.1\" 200 689\n",
      "DEBUG [urllib3.connectionpool._new_conn()]: Starting new HTTPS connection (1): heasarc.gsfc.nasa.gov:443\n",
      "DEBUG [urllib3.connectionpool._make_request()]: https://heasarc.gsfc.nasa.gov:443 \"GET /cgi-bin/tess/webtess/wtv.py?Entry=144.85929199999998%2C+-6.397105000000001 HTTP/1.1\" 200 None\n",
      "https://heasarc.gsfc.nasa.gov/cgi-bin/tess/webtess/wtv.py?Entry=<SkyCoord (ICRS): (ra, dec) in deg\n",
      "    (144.859292, -6.397105)>\n",
      "[8] <class 'list'>\n",
      "TESS file\n",
      "4349 points masked in lc of 17755\n",
      "NO JUICE Unnamed: 0                        1845\n",
      "dec                           -6.39711\n",
      "dur                                  0\n",
      "file          AllMonos_martti_tess.csv\n",
      "id                          4.7142e+07\n",
      "mission                           TESS\n",
      "ra                             144.859\n",
      "tcen                              2167\n",
      "Name: 340, dtype: object\n",
      "Breaking because status = COMPLETE\n",
      "TESS object\n",
      "DEBUG [urllib3.connectionpool._new_conn()]: Starting new HTTP connection (1): vizier.u-strasbg.fr:80\n",
      "DEBUG [urllib3.connectionpool._make_request()]: http://vizier.u-strasbg.fr:80 \"POST /viz-bin/votable HTTP/1.1\" 200 658\n",
      "DEBUG [urllib3.connectionpool._new_conn()]: Starting new HTTP connection (1): vizier.u-strasbg.fr:80\n",
      "DEBUG [urllib3.connectionpool._make_request()]: http://vizier.u-strasbg.fr:80 \"POST /viz-bin/votable HTTP/1.1\" 200 689\n",
      "DEBUG [urllib3.connectionpool._new_conn()]: Starting new HTTPS connection (1): heasarc.gsfc.nasa.gov:443\n",
      "DEBUG [urllib3.connectionpool._make_request()]: https://heasarc.gsfc.nasa.gov:443 \"GET /cgi-bin/tess/webtess/wtv.py?Entry=293.286%2C+-54.532 HTTP/1.1\" 200 None\n",
      "https://heasarc.gsfc.nasa.gov/cgi-bin/tess/webtess/wtv.py?Entry=<SkyCoord (ICRS): (ra, dec) in deg\n",
      "    (293.286, -54.532)>\n",
      "[13] <class 'list'>\n",
      "TESS file\n",
      "935 points masked in lc of 20479\n",
      "transit mask: <class 'numpy.ndarray'> 19811 0 <class 'numpy.ndarray'> 19811 True\n"
     ]
    },
    {
     "name": "stderr",
     "output_type": "stream",
     "text": [
      "INFO (theano.gof.compilelock): Waiting for existing lock by process '20511' (I am process '19630')\n"
     ]
    },
    {
     "name": "stdout",
     "output_type": "stream",
     "text": [
      "INFO  [theano.gof.compilelock.lock()]: Waiting for existing lock by process '20511' (I am process '19630')\n"
     ]
    },
    {
     "name": "stderr",
     "output_type": "stream",
     "text": [
      "INFO (theano.gof.compilelock): To manually release the lock, delete /Users/hosborn/.theano/compiledir_Darwin-19.3.0-x86_64-i386-64bit-i386-3.7.6-64/lock_dir\n"
     ]
    },
    {
     "name": "stdout",
     "output_type": "stream",
     "text": [
      "INFO  [theano.gof.compilelock.lock()]: To manually release the lock, delete /Users/hosborn/.theano/compiledir_Darwin-19.3.0-x86_64-i386-64bit-i386-3.7.6-64/lock_dir\n"
     ]
    },
    {
     "name": "stderr",
     "output_type": "stream",
     "text": [
      "INFO (theano.gof.compilelock): Waiting for existing lock by process '20511' (I am process '19630')\n"
     ]
    },
    {
     "name": "stdout",
     "output_type": "stream",
     "text": [
      "INFO  [theano.gof.compilelock.lock()]: Waiting for existing lock by process '20511' (I am process '19630')\n"
     ]
    },
    {
     "name": "stderr",
     "output_type": "stream",
     "text": [
      "INFO (theano.gof.compilelock): To manually release the lock, delete /Users/hosborn/.theano/compiledir_Darwin-19.3.0-x86_64-i386-64bit-i386-3.7.6-64/lock_dir\n"
     ]
    },
    {
     "name": "stdout",
     "output_type": "stream",
     "text": [
      "INFO  [theano.gof.compilelock.lock()]: To manually release the lock, delete /Users/hosborn/.theano/compiledir_Darwin-19.3.0-x86_64-i386-64bit-i386-3.7.6-64/lock_dir\n"
     ]
    },
    {
     "name": "stderr",
     "output_type": "stream",
     "text": [
      "INFO (theano.gof.compilelock): Waiting for existing lock by process '20511' (I am process '19630')\n"
     ]
    },
    {
     "name": "stdout",
     "output_type": "stream",
     "text": [
      "INFO  [theano.gof.compilelock.lock()]: Waiting for existing lock by process '20511' (I am process '19630')\n"
     ]
    },
    {
     "name": "stderr",
     "output_type": "stream",
     "text": [
      "INFO (theano.gof.compilelock): To manually release the lock, delete /Users/hosborn/.theano/compiledir_Darwin-19.3.0-x86_64-i386-64bit-i386-3.7.6-64/lock_dir\n"
     ]
    },
    {
     "name": "stdout",
     "output_type": "stream",
     "text": [
      "INFO  [theano.gof.compilelock.lock()]: To manually release the lock, delete /Users/hosborn/.theano/compiledir_Darwin-19.3.0-x86_64-i386-64bit-i386-3.7.6-64/lock_dir\n"
     ]
    },
    {
     "name": "stderr",
     "output_type": "stream",
     "text": [
      "INFO (theano.gof.compilelock): Waiting for existing lock by process '20511' (I am process '19630')\n"
     ]
    },
    {
     "name": "stdout",
     "output_type": "stream",
     "text": [
      "INFO  [theano.gof.compilelock.lock()]: Waiting for existing lock by process '20511' (I am process '19630')\n"
     ]
    },
    {
     "name": "stderr",
     "output_type": "stream",
     "text": [
      "INFO (theano.gof.compilelock): To manually release the lock, delete /Users/hosborn/.theano/compiledir_Darwin-19.3.0-x86_64-i386-64bit-i386-3.7.6-64/lock_dir\n"
     ]
    },
    {
     "name": "stdout",
     "output_type": "stream",
     "text": [
      "INFO  [theano.gof.compilelock.lock()]: To manually release the lock, delete /Users/hosborn/.theano/compiledir_Darwin-19.3.0-x86_64-i386-64bit-i386-3.7.6-64/lock_dir\n"
     ]
    },
    {
     "name": "stderr",
     "output_type": "stream",
     "text": [
      "INFO (theano.gof.compilelock): Waiting for existing lock by process '20511' (I am process '19630')\n"
     ]
    },
    {
     "name": "stdout",
     "output_type": "stream",
     "text": [
      "INFO  [theano.gof.compilelock.lock()]: Waiting for existing lock by process '20511' (I am process '19630')\n"
     ]
    },
    {
     "name": "stderr",
     "output_type": "stream",
     "text": [
      "INFO (theano.gof.compilelock): To manually release the lock, delete /Users/hosborn/.theano/compiledir_Darwin-19.3.0-x86_64-i386-64bit-i386-3.7.6-64/lock_dir\n"
     ]
    },
    {
     "name": "stdout",
     "output_type": "stream",
     "text": [
      "INFO  [theano.gof.compilelock.lock()]: To manually release the lock, delete /Users/hosborn/.theano/compiledir_Darwin-19.3.0-x86_64-i386-64bit-i386-3.7.6-64/lock_dir\n"
     ]
    },
    {
     "name": "stderr",
     "output_type": "stream",
     "text": [
      "INFO (theano.gof.compilelock): Waiting for existing lock by process '20511' (I am process '19630')\n"
     ]
    },
    {
     "name": "stdout",
     "output_type": "stream",
     "text": [
      "INFO  [theano.gof.compilelock.lock()]: Waiting for existing lock by process '20511' (I am process '19630')\n"
     ]
    },
    {
     "name": "stderr",
     "output_type": "stream",
     "text": [
      "INFO (theano.gof.compilelock): To manually release the lock, delete /Users/hosborn/.theano/compiledir_Darwin-19.3.0-x86_64-i386-64bit-i386-3.7.6-64/lock_dir\n"
     ]
    },
    {
     "name": "stdout",
     "output_type": "stream",
     "text": [
      "INFO  [theano.gof.compilelock.lock()]: To manually release the lock, delete /Users/hosborn/.theano/compiledir_Darwin-19.3.0-x86_64-i386-64bit-i386-3.7.6-64/lock_dir\n"
     ]
    },
    {
     "name": "stderr",
     "output_type": "stream",
     "text": [
      "INFO (theano.gof.compilelock): Waiting for existing lock by process '20511' (I am process '19630')\n"
     ]
    },
    {
     "name": "stdout",
     "output_type": "stream",
     "text": [
      "INFO  [theano.gof.compilelock.lock()]: Waiting for existing lock by process '20511' (I am process '19630')\n"
     ]
    },
    {
     "name": "stderr",
     "output_type": "stream",
     "text": [
      "INFO (theano.gof.compilelock): To manually release the lock, delete /Users/hosborn/.theano/compiledir_Darwin-19.3.0-x86_64-i386-64bit-i386-3.7.6-64/lock_dir\n"
     ]
    },
    {
     "name": "stdout",
     "output_type": "stream",
     "text": [
      "INFO  [theano.gof.compilelock.lock()]: To manually release the lock, delete /Users/hosborn/.theano/compiledir_Darwin-19.3.0-x86_64-i386-64bit-i386-3.7.6-64/lock_dir\n"
     ]
    },
    {
     "name": "stderr",
     "output_type": "stream",
     "text": [
      "INFO (theano.gof.compilelock): Waiting for existing lock by process '20511' (I am process '19630')\n"
     ]
    },
    {
     "name": "stdout",
     "output_type": "stream",
     "text": [
      "INFO  [theano.gof.compilelock.lock()]: Waiting for existing lock by process '20511' (I am process '19630')\n"
     ]
    },
    {
     "name": "stderr",
     "output_type": "stream",
     "text": [
      "INFO (theano.gof.compilelock): To manually release the lock, delete /Users/hosborn/.theano/compiledir_Darwin-19.3.0-x86_64-i386-64bit-i386-3.7.6-64/lock_dir\n"
     ]
    },
    {
     "name": "stdout",
     "output_type": "stream",
     "text": [
      "INFO  [theano.gof.compilelock.lock()]: To manually release the lock, delete /Users/hosborn/.theano/compiledir_Darwin-19.3.0-x86_64-i386-64bit-i386-3.7.6-64/lock_dir\n"
     ]
    },
    {
     "name": "stderr",
     "output_type": "stream",
     "text": [
      "INFO (theano.gof.compilelock): Waiting for existing lock by process '20511' (I am process '19630')\n"
     ]
    },
    {
     "name": "stdout",
     "output_type": "stream",
     "text": [
      "INFO  [theano.gof.compilelock.lock()]: Waiting for existing lock by process '20511' (I am process '19630')\n"
     ]
    },
    {
     "name": "stderr",
     "output_type": "stream",
     "text": [
      "INFO (theano.gof.compilelock): To manually release the lock, delete /Users/hosborn/.theano/compiledir_Darwin-19.3.0-x86_64-i386-64bit-i386-3.7.6-64/lock_dir\n"
     ]
    },
    {
     "name": "stdout",
     "output_type": "stream",
     "text": [
      "INFO  [theano.gof.compilelock.lock()]: To manually release the lock, delete /Users/hosborn/.theano/compiledir_Darwin-19.3.0-x86_64-i386-64bit-i386-3.7.6-64/lock_dir\n"
     ]
    },
    {
     "name": "stderr",
     "output_type": "stream",
     "text": [
      "INFO (theano.gof.compilelock): Waiting for existing lock by process '20511' (I am process '19630')\n"
     ]
    },
    {
     "name": "stdout",
     "output_type": "stream",
     "text": [
      "INFO  [theano.gof.compilelock.lock()]: Waiting for existing lock by process '20511' (I am process '19630')\n"
     ]
    },
    {
     "name": "stderr",
     "output_type": "stream",
     "text": [
      "INFO (theano.gof.compilelock): To manually release the lock, delete /Users/hosborn/.theano/compiledir_Darwin-19.3.0-x86_64-i386-64bit-i386-3.7.6-64/lock_dir\n"
     ]
    },
    {
     "name": "stdout",
     "output_type": "stream",
     "text": [
      "INFO  [theano.gof.compilelock.lock()]: To manually release the lock, delete /Users/hosborn/.theano/compiledir_Darwin-19.3.0-x86_64-i386-64bit-i386-3.7.6-64/lock_dir\n"
     ]
    },
    {
     "name": "stderr",
     "output_type": "stream",
     "text": [
      "INFO (theano.gof.compilelock): Waiting for existing lock by process '20511' (I am process '19630')\n"
     ]
    },
    {
     "name": "stdout",
     "output_type": "stream",
     "text": [
      "INFO  [theano.gof.compilelock.lock()]: Waiting for existing lock by process '20511' (I am process '19630')\n"
     ]
    },
    {
     "name": "stderr",
     "output_type": "stream",
     "text": [
      "INFO (theano.gof.compilelock): To manually release the lock, delete /Users/hosborn/.theano/compiledir_Darwin-19.3.0-x86_64-i386-64bit-i386-3.7.6-64/lock_dir\n"
     ]
    },
    {
     "name": "stdout",
     "output_type": "stream",
     "text": [
      "INFO  [theano.gof.compilelock.lock()]: To manually release the lock, delete /Users/hosborn/.theano/compiledir_Darwin-19.3.0-x86_64-i386-64bit-i386-3.7.6-64/lock_dir\n"
     ]
    },
    {
     "name": "stderr",
     "output_type": "stream",
     "text": [
      "INFO (theano.gof.compilelock): Waiting for existing lock by process '20511' (I am process '19630')\n"
     ]
    },
    {
     "name": "stdout",
     "output_type": "stream",
     "text": [
      "INFO  [theano.gof.compilelock.lock()]: Waiting for existing lock by process '20511' (I am process '19630')\n"
     ]
    },
    {
     "name": "stderr",
     "output_type": "stream",
     "text": [
      "INFO (theano.gof.compilelock): To manually release the lock, delete /Users/hosborn/.theano/compiledir_Darwin-19.3.0-x86_64-i386-64bit-i386-3.7.6-64/lock_dir\n"
     ]
    },
    {
     "name": "stdout",
     "output_type": "stream",
     "text": [
      "INFO  [theano.gof.compilelock.lock()]: To manually release the lock, delete /Users/hosborn/.theano/compiledir_Darwin-19.3.0-x86_64-i386-64bit-i386-3.7.6-64/lock_dir\n"
     ]
    },
    {
     "name": "stderr",
     "output_type": "stream",
     "text": [
      "INFO (theano.gof.compilelock): Waiting for existing lock by process '20511' (I am process '19630')\n"
     ]
    },
    {
     "name": "stdout",
     "output_type": "stream",
     "text": [
      "INFO  [theano.gof.compilelock.lock()]: Waiting for existing lock by process '20511' (I am process '19630')\n"
     ]
    },
    {
     "name": "stderr",
     "output_type": "stream",
     "text": [
      "INFO (theano.gof.compilelock): To manually release the lock, delete /Users/hosborn/.theano/compiledir_Darwin-19.3.0-x86_64-i386-64bit-i386-3.7.6-64/lock_dir\n"
     ]
    },
    {
     "name": "stdout",
     "output_type": "stream",
     "text": [
      "INFO  [theano.gof.compilelock.lock()]: To manually release the lock, delete /Users/hosborn/.theano/compiledir_Darwin-19.3.0-x86_64-i386-64bit-i386-3.7.6-64/lock_dir\n"
     ]
    },
    {
     "name": "stderr",
     "output_type": "stream",
     "text": [
      "INFO (theano.gof.compilelock): Waiting for existing lock by process '20511' (I am process '19630')\n"
     ]
    },
    {
     "name": "stdout",
     "output_type": "stream",
     "text": [
      "INFO  [theano.gof.compilelock.lock()]: Waiting for existing lock by process '20511' (I am process '19630')\n"
     ]
    },
    {
     "name": "stderr",
     "output_type": "stream",
     "text": [
      "INFO (theano.gof.compilelock): To manually release the lock, delete /Users/hosborn/.theano/compiledir_Darwin-19.3.0-x86_64-i386-64bit-i386-3.7.6-64/lock_dir\n"
     ]
    },
    {
     "name": "stdout",
     "output_type": "stream",
     "text": [
      "INFO  [theano.gof.compilelock.lock()]: To manually release the lock, delete /Users/hosborn/.theano/compiledir_Darwin-19.3.0-x86_64-i386-64bit-i386-3.7.6-64/lock_dir\n",
      "00 - Checks complete.  SNR: 30.79069  SNR_r: 13.35482  variability: -104.905  centroid: 12.54370 | flag: planet\n",
      "DEBUG [matplotlib.backends.backend_pdf.fontName()]: Assigning font /b'F1' = '/Users/hosborn/transits/lib/python3.7/site-packages/matplotlib/mpl-data/fonts/ttf/DejaVuSans.ttf'\n",
      "DEBUG [matplotlib.backends.backend_pdf.writeFonts()]: Embedding font /Users/hosborn/transits/lib/python3.7/site-packages/matplotlib/mpl-data/fonts/ttf/DejaVuSans.ttf.\n",
      "DEBUG [matplotlib.backends.backend_pdf.writeFonts()]: Writing TrueType font.\n",
      "Breaking because status = COMPLETE\n",
      "TESS object\n",
      "DEBUG [urllib3.connectionpool._new_conn()]: Starting new HTTP connection (1): vizier.u-strasbg.fr:80\n",
      "DEBUG [urllib3.connectionpool._make_request()]: http://vizier.u-strasbg.fr:80 \"POST /viz-bin/votable HTTP/1.1\" 200 657\n",
      "DEBUG [urllib3.connectionpool._new_conn()]: Starting new HTTP connection (1): vizier.u-strasbg.fr:80\n",
      "DEBUG [urllib3.connectionpool._make_request()]: http://vizier.u-strasbg.fr:80 \"POST /viz-bin/votable HTTP/1.1\" 200 688\n",
      "DEBUG [urllib3.connectionpool._new_conn()]: Starting new HTTPS connection (1): heasarc.gsfc.nasa.gov:443\n",
      "DEBUG [urllib3.connectionpool._make_request()]: https://heasarc.gsfc.nasa.gov:443 \"GET /cgi-bin/tess/webtess/wtv.py?Entry=164.85393480000002%2C+-1.867339584 HTTP/1.1\" 200 None\n",
      "https://heasarc.gsfc.nasa.gov/cgi-bin/tess/webtess/wtv.py?Entry=<SkyCoord (ICRS): (ra, dec) in deg\n",
      "    (164.8539348, -1.86733958)>\n",
      "[9] <class 'list'>\n",
      "TESS file\n",
      "2490 points masked in lc of 18187\n",
      "NO JUICE Unnamed: 0                        1850\n",
      "dec                           -1.86734\n",
      "dur                                  0\n",
      "file          AllMonos_martti_tess.csv\n",
      "id                         4.73911e+07\n",
      "mission                           TESS\n",
      "ra                             164.854\n",
      "tcen                              2167\n",
      "Name: 344, dtype: object\n",
      "Breaking because status = COMPLETE\n",
      "TESS object\n",
      "DEBUG [urllib3.connectionpool._new_conn()]: Starting new HTTP connection (1): vizier.u-strasbg.fr:80\n",
      "DEBUG [urllib3.connectionpool._make_request()]: http://vizier.u-strasbg.fr:80 \"POST /viz-bin/votable HTTP/1.1\" 200 658\n",
      "DEBUG [urllib3.connectionpool._new_conn()]: Starting new HTTP connection (1): vizier.u-strasbg.fr:80\n",
      "DEBUG [urllib3.connectionpool._make_request()]: http://vizier.u-strasbg.fr:80 \"POST /viz-bin/votable HTTP/1.1\" 200 689\n",
      "DEBUG [urllib3.connectionpool._new_conn()]: Starting new HTTPS connection (1): heasarc.gsfc.nasa.gov:443\n",
      "DEBUG [urllib3.connectionpool._make_request()]: https://heasarc.gsfc.nasa.gov:443 \"GET /cgi-bin/tess/webtess/wtv.py?Entry=342.9664%2C+-24.7875 HTTP/1.1\" 200 None\n",
      "https://heasarc.gsfc.nasa.gov/cgi-bin/tess/webtess/wtv.py?Entry=<SkyCoord (ICRS): (ra, dec) in deg\n",
      "    (342.9664, -24.7875)>\n",
      "[2] <class 'list'>\n",
      "TESS file\n",
      "1436 points masked in lc of 19737\n",
      "NO JUICE Unnamed: 0                                                 1852\n",
      "dec                                                    -24.7875\n",
      "dur                                                           0\n",
      "file          AllMonos_martti_tess.csv;lacourse_tess_ste_mon...\n",
      "id                                                  4.74843e+07\n",
      "mission                                                    TESS\n",
      "ra                                                      342.966\n",
      "tcen                                                       2167\n",
      "Name: 346, dtype: object\n",
      "Breaking because status = COMPLETE\n",
      "TESS object\n",
      "DEBUG [urllib3.connectionpool._new_conn()]: Starting new HTTP connection (1): vizier.u-strasbg.fr:80\n",
      "DEBUG [urllib3.connectionpool._make_request()]: http://vizier.u-strasbg.fr:80 \"POST /viz-bin/votable HTTP/1.1\" 200 656\n",
      "DEBUG [urllib3.connectionpool._new_conn()]: Starting new HTTP connection (1): vizier.u-strasbg.fr:80\n",
      "DEBUG [urllib3.connectionpool._make_request()]: http://vizier.u-strasbg.fr:80 \"POST /viz-bin/votable HTTP/1.1\" 200 687\n",
      "DEBUG [urllib3.connectionpool._new_conn()]: Starting new HTTPS connection (1): heasarc.gsfc.nasa.gov:443\n",
      "DEBUG [urllib3.connectionpool._make_request()]: https://heasarc.gsfc.nasa.gov:443 \"GET /cgi-bin/tess/webtess/wtv.py?Entry=32.534%2C+-31.07 HTTP/1.1\" 200 None\n",
      "https://heasarc.gsfc.nasa.gov/cgi-bin/tess/webtess/wtv.py?Entry=<SkyCoord (ICRS): (ra, dec) in deg\n",
      "    (32.534, -31.07)>\n",
      "[3] <class 'list'>\n",
      "TESS file\n",
      "6257 points masked in lc of 19692\n",
      "transit mask: <class 'numpy.ndarray'> 19412 0 <class 'numpy.ndarray'> 19412 True\n"
     ]
    },
    {
     "name": "stderr",
     "output_type": "stream",
     "text": [
      "INFO (theano.gof.compilelock): Waiting for existing lock by process '20511' (I am process '19630')\n"
     ]
    },
    {
     "name": "stdout",
     "output_type": "stream",
     "text": [
      "INFO  [theano.gof.compilelock.lock()]: Waiting for existing lock by process '20511' (I am process '19630')\n"
     ]
    },
    {
     "name": "stderr",
     "output_type": "stream",
     "text": [
      "INFO (theano.gof.compilelock): To manually release the lock, delete /Users/hosborn/.theano/compiledir_Darwin-19.3.0-x86_64-i386-64bit-i386-3.7.6-64/lock_dir\n"
     ]
    },
    {
     "name": "stdout",
     "output_type": "stream",
     "text": [
      "INFO  [theano.gof.compilelock.lock()]: To manually release the lock, delete /Users/hosborn/.theano/compiledir_Darwin-19.3.0-x86_64-i386-64bit-i386-3.7.6-64/lock_dir\n"
     ]
    },
    {
     "name": "stderr",
     "output_type": "stream",
     "text": [
      "INFO (theano.gof.compilelock): Waiting for existing lock by process '20511' (I am process '19630')\n"
     ]
    },
    {
     "name": "stdout",
     "output_type": "stream",
     "text": [
      "INFO  [theano.gof.compilelock.lock()]: Waiting for existing lock by process '20511' (I am process '19630')\n"
     ]
    },
    {
     "name": "stderr",
     "output_type": "stream",
     "text": [
      "INFO (theano.gof.compilelock): To manually release the lock, delete /Users/hosborn/.theano/compiledir_Darwin-19.3.0-x86_64-i386-64bit-i386-3.7.6-64/lock_dir\n"
     ]
    },
    {
     "name": "stdout",
     "output_type": "stream",
     "text": [
      "INFO  [theano.gof.compilelock.lock()]: To manually release the lock, delete /Users/hosborn/.theano/compiledir_Darwin-19.3.0-x86_64-i386-64bit-i386-3.7.6-64/lock_dir\n"
     ]
    },
    {
     "name": "stderr",
     "output_type": "stream",
     "text": [
      "INFO (theano.gof.compilelock): Waiting for existing lock by process '20511' (I am process '19630')\n"
     ]
    },
    {
     "name": "stdout",
     "output_type": "stream",
     "text": [
      "INFO  [theano.gof.compilelock.lock()]: Waiting for existing lock by process '20511' (I am process '19630')\n"
     ]
    },
    {
     "name": "stderr",
     "output_type": "stream",
     "text": [
      "INFO (theano.gof.compilelock): To manually release the lock, delete /Users/hosborn/.theano/compiledir_Darwin-19.3.0-x86_64-i386-64bit-i386-3.7.6-64/lock_dir\n"
     ]
    },
    {
     "name": "stdout",
     "output_type": "stream",
     "text": [
      "INFO  [theano.gof.compilelock.lock()]: To manually release the lock, delete /Users/hosborn/.theano/compiledir_Darwin-19.3.0-x86_64-i386-64bit-i386-3.7.6-64/lock_dir\n"
     ]
    },
    {
     "name": "stderr",
     "output_type": "stream",
     "text": [
      "INFO (theano.gof.compilelock): Waiting for existing lock by process '20511' (I am process '19630')\n"
     ]
    },
    {
     "name": "stdout",
     "output_type": "stream",
     "text": [
      "INFO  [theano.gof.compilelock.lock()]: Waiting for existing lock by process '20511' (I am process '19630')\n"
     ]
    },
    {
     "name": "stderr",
     "output_type": "stream",
     "text": [
      "INFO (theano.gof.compilelock): To manually release the lock, delete /Users/hosborn/.theano/compiledir_Darwin-19.3.0-x86_64-i386-64bit-i386-3.7.6-64/lock_dir\n"
     ]
    },
    {
     "name": "stdout",
     "output_type": "stream",
     "text": [
      "INFO  [theano.gof.compilelock.lock()]: To manually release the lock, delete /Users/hosborn/.theano/compiledir_Darwin-19.3.0-x86_64-i386-64bit-i386-3.7.6-64/lock_dir\n"
     ]
    },
    {
     "name": "stderr",
     "output_type": "stream",
     "text": [
      "INFO (theano.gof.compilelock): Waiting for existing lock by process '20511' (I am process '19630')\n"
     ]
    },
    {
     "name": "stdout",
     "output_type": "stream",
     "text": [
      "INFO  [theano.gof.compilelock.lock()]: Waiting for existing lock by process '20511' (I am process '19630')\n"
     ]
    },
    {
     "name": "stderr",
     "output_type": "stream",
     "text": [
      "INFO (theano.gof.compilelock): To manually release the lock, delete /Users/hosborn/.theano/compiledir_Darwin-19.3.0-x86_64-i386-64bit-i386-3.7.6-64/lock_dir\n"
     ]
    },
    {
     "name": "stdout",
     "output_type": "stream",
     "text": [
      "INFO  [theano.gof.compilelock.lock()]: To manually release the lock, delete /Users/hosborn/.theano/compiledir_Darwin-19.3.0-x86_64-i386-64bit-i386-3.7.6-64/lock_dir\n"
     ]
    },
    {
     "name": "stderr",
     "output_type": "stream",
     "text": [
      "INFO (theano.gof.compilelock): Waiting for existing lock by process '20511' (I am process '19630')\n"
     ]
    },
    {
     "name": "stdout",
     "output_type": "stream",
     "text": [
      "INFO  [theano.gof.compilelock.lock()]: Waiting for existing lock by process '20511' (I am process '19630')\n"
     ]
    },
    {
     "name": "stderr",
     "output_type": "stream",
     "text": [
      "INFO (theano.gof.compilelock): To manually release the lock, delete /Users/hosborn/.theano/compiledir_Darwin-19.3.0-x86_64-i386-64bit-i386-3.7.6-64/lock_dir\n"
     ]
    },
    {
     "name": "stdout",
     "output_type": "stream",
     "text": [
      "INFO  [theano.gof.compilelock.lock()]: To manually release the lock, delete /Users/hosborn/.theano/compiledir_Darwin-19.3.0-x86_64-i386-64bit-i386-3.7.6-64/lock_dir\n"
     ]
    },
    {
     "name": "stderr",
     "output_type": "stream",
     "text": [
      "INFO (theano.gof.compilelock): Waiting for existing lock by process '20511' (I am process '19630')\n"
     ]
    },
    {
     "name": "stdout",
     "output_type": "stream",
     "text": [
      "INFO  [theano.gof.compilelock.lock()]: Waiting for existing lock by process '20511' (I am process '19630')\n"
     ]
    },
    {
     "name": "stderr",
     "output_type": "stream",
     "text": [
      "INFO (theano.gof.compilelock): To manually release the lock, delete /Users/hosborn/.theano/compiledir_Darwin-19.3.0-x86_64-i386-64bit-i386-3.7.6-64/lock_dir\n"
     ]
    },
    {
     "name": "stdout",
     "output_type": "stream",
     "text": [
      "INFO  [theano.gof.compilelock.lock()]: To manually release the lock, delete /Users/hosborn/.theano/compiledir_Darwin-19.3.0-x86_64-i386-64bit-i386-3.7.6-64/lock_dir\n"
     ]
    },
    {
     "name": "stderr",
     "output_type": "stream",
     "text": [
      "INFO (theano.gof.compilelock): Waiting for existing lock by process '20511' (I am process '19630')\n"
     ]
    },
    {
     "name": "stdout",
     "output_type": "stream",
     "text": [
      "INFO  [theano.gof.compilelock.lock()]: Waiting for existing lock by process '20511' (I am process '19630')\n"
     ]
    },
    {
     "name": "stderr",
     "output_type": "stream",
     "text": [
      "INFO (theano.gof.compilelock): To manually release the lock, delete /Users/hosborn/.theano/compiledir_Darwin-19.3.0-x86_64-i386-64bit-i386-3.7.6-64/lock_dir\n"
     ]
    },
    {
     "name": "stdout",
     "output_type": "stream",
     "text": [
      "INFO  [theano.gof.compilelock.lock()]: To manually release the lock, delete /Users/hosborn/.theano/compiledir_Darwin-19.3.0-x86_64-i386-64bit-i386-3.7.6-64/lock_dir\n"
     ]
    },
    {
     "name": "stderr",
     "output_type": "stream",
     "text": [
      "INFO (theano.gof.compilelock): Waiting for existing lock by process '20511' (I am process '19630')\n"
     ]
    },
    {
     "name": "stdout",
     "output_type": "stream",
     "text": [
      "INFO  [theano.gof.compilelock.lock()]: Waiting for existing lock by process '20511' (I am process '19630')\n"
     ]
    },
    {
     "name": "stderr",
     "output_type": "stream",
     "text": [
      "INFO (theano.gof.compilelock): To manually release the lock, delete /Users/hosborn/.theano/compiledir_Darwin-19.3.0-x86_64-i386-64bit-i386-3.7.6-64/lock_dir\n"
     ]
    },
    {
     "name": "stdout",
     "output_type": "stream",
     "text": [
      "INFO  [theano.gof.compilelock.lock()]: To manually release the lock, delete /Users/hosborn/.theano/compiledir_Darwin-19.3.0-x86_64-i386-64bit-i386-3.7.6-64/lock_dir\n"
     ]
    },
    {
     "name": "stderr",
     "output_type": "stream",
     "text": [
      "INFO (theano.gof.compilelock): Waiting for existing lock by process '20511' (I am process '19630')\n"
     ]
    },
    {
     "name": "stdout",
     "output_type": "stream",
     "text": [
      "INFO  [theano.gof.compilelock.lock()]: Waiting for existing lock by process '20511' (I am process '19630')\n"
     ]
    },
    {
     "name": "stderr",
     "output_type": "stream",
     "text": [
      "INFO (theano.gof.compilelock): To manually release the lock, delete /Users/hosborn/.theano/compiledir_Darwin-19.3.0-x86_64-i386-64bit-i386-3.7.6-64/lock_dir\n"
     ]
    },
    {
     "name": "stdout",
     "output_type": "stream",
     "text": [
      "INFO  [theano.gof.compilelock.lock()]: To manually release the lock, delete /Users/hosborn/.theano/compiledir_Darwin-19.3.0-x86_64-i386-64bit-i386-3.7.6-64/lock_dir\n",
      "00 - Checks complete.  SNR: 7.888618  SNR_r: 8.038809  variability: -16.5285  centroid: 11.24241 | flag: planet\n",
      "DEBUG [matplotlib.backends.backend_pdf.fontName()]: Assigning font /b'F1' = '/Users/hosborn/transits/lib/python3.7/site-packages/matplotlib/mpl-data/fonts/ttf/DejaVuSans.ttf'\n",
      "DEBUG [matplotlib.backends.backend_pdf.writeFonts()]: Embedding font /Users/hosborn/transits/lib/python3.7/site-packages/matplotlib/mpl-data/fonts/ttf/DejaVuSans.ttf.\n",
      "DEBUG [matplotlib.backends.backend_pdf.writeFonts()]: Writing TrueType font.\n",
      "Breaking because status = COMPLETE\n",
      "TESS object\n",
      "DEBUG [urllib3.connectionpool._new_conn()]: Starting new HTTP connection (1): vizier.u-strasbg.fr:80\n",
      "DEBUG [urllib3.connectionpool._make_request()]: http://vizier.u-strasbg.fr:80 \"POST /viz-bin/votable HTTP/1.1\" 200 658\n",
      "DEBUG [urllib3.connectionpool._new_conn()]: Starting new HTTP connection (1): vizier.u-strasbg.fr:80\n",
      "DEBUG [urllib3.connectionpool._make_request()]: http://vizier.u-strasbg.fr:80 \"POST /viz-bin/votable HTTP/1.1\" 200 688\n",
      "DEBUG [urllib3.connectionpool._new_conn()]: Starting new HTTPS connection (1): heasarc.gsfc.nasa.gov:443\n",
      "DEBUG [urllib3.connectionpool._make_request()]: https://heasarc.gsfc.nasa.gov:443 \"GET /cgi-bin/tess/webtess/wtv.py?Entry=204.670736%2C+-28.7856753 HTTP/1.1\" 200 None\n",
      "https://heasarc.gsfc.nasa.gov/cgi-bin/tess/webtess/wtv.py?Entry=<SkyCoord (ICRS): (ra, dec) in deg\n",
      "    (204.670736, -28.7856753)>\n",
      "[11] <class 'list'>\n",
      "TESS file\n",
      "5647 points masked in lc of 19527\n",
      "NO JUICE Unnamed: 0                                                 1856\n",
      "dec                                                    -28.7857\n",
      "dur                                                           0\n",
      "file          lacourse_jacobs_k2_table.csv;All_OsbornMarttiK...\n",
      "id                                                  4.92588e+07\n",
      "mission                                                    TESS\n",
      "ra                                                      204.671\n",
      "tcen                                                       2167\n",
      "Name: 350, dtype: object\n",
      "Breaking because status = COMPLETE\n",
      "TESS object\n",
      "DEBUG [urllib3.connectionpool._new_conn()]: Starting new HTTP connection (1): vizier.u-strasbg.fr:80\n",
      "DEBUG [urllib3.connectionpool._make_request()]: http://vizier.u-strasbg.fr:80 \"POST /viz-bin/votable HTTP/1.1\" 200 657\n",
      "DEBUG [urllib3.connectionpool._new_conn()]: Starting new HTTP connection (1): vizier.u-strasbg.fr:80\n",
      "DEBUG [urllib3.connectionpool._make_request()]: http://vizier.u-strasbg.fr:80 \"POST /viz-bin/votable HTTP/1.1\" 200 689\n",
      "DEBUG [urllib3.connectionpool._new_conn()]: Starting new HTTPS connection (1): heasarc.gsfc.nasa.gov:443\n",
      "DEBUG [urllib3.connectionpool._make_request()]: https://heasarc.gsfc.nasa.gov:443 \"GET /cgi-bin/tess/webtess/wtv.py?Entry=173.7805874%2C+-5.656407355 HTTP/1.1\" 200 None\n",
      "https://heasarc.gsfc.nasa.gov/cgi-bin/tess/webtess/wtv.py?Entry=<SkyCoord (ICRS): (ra, dec) in deg\n",
      "    (173.7805874, -5.65640735)>\n",
      "[9] <class 'list'>\n",
      "TESS file\n",
      "2154 points masked in lc of 18187\n",
      "NO JUICE Unnamed: 0                        1858\n",
      "dec                           -5.65641\n",
      "dur                                  0\n",
      "file          AllMonos_martti_tess.csv\n",
      "id                          4.9427e+07\n",
      "mission                           TESS\n",
      "ra                             173.781\n",
      "tcen                              2167\n",
      "Name: 352, dtype: object\n",
      "Breaking because status = COMPLETE\n",
      "TESS object\n",
      "DEBUG [urllib3.connectionpool._new_conn()]: Starting new HTTP connection (1): vizier.u-strasbg.fr:80\n",
      "DEBUG [urllib3.connectionpool._make_request()]: http://vizier.u-strasbg.fr:80 \"POST /viz-bin/votable HTTP/1.1\" 200 658\n",
      "DEBUG [urllib3.connectionpool._new_conn()]: Starting new HTTP connection (1): vizier.u-strasbg.fr:80\n",
      "DEBUG [urllib3.connectionpool._make_request()]: http://vizier.u-strasbg.fr:80 \"POST /viz-bin/votable HTTP/1.1\" 200 690\n",
      "DEBUG [urllib3.connectionpool._new_conn()]: Starting new HTTPS connection (1): heasarc.gsfc.nasa.gov:443\n",
      "DEBUG [urllib3.connectionpool._make_request()]: https://heasarc.gsfc.nasa.gov:443 \"GET /cgi-bin/tess/webtess/wtv.py?Entry=356.629%2C+-48.958 HTTP/1.1\" 200 None\n",
      "https://heasarc.gsfc.nasa.gov/cgi-bin/tess/webtess/wtv.py?Entry=<SkyCoord (ICRS): (ra, dec) in deg\n",
      "    (356.629, -48.958)>\n",
      "[2] <class 'list'>\n",
      "TESS file\n",
      "1446 points masked in lc of 19737\n",
      "transit mask: <class 'numpy.ndarray'> 18699 0 <class 'numpy.ndarray'> 18699 True\n",
      "00 - Checks complete.  SNR: 22.86593  SNR_r: 7.360566  variability: -68.1009  centroid: 14.59106 | flag: planet\n",
      "DEBUG [matplotlib.backends.backend_pdf.fontName()]: Assigning font /b'F1' = '/Users/hosborn/transits/lib/python3.7/site-packages/matplotlib/mpl-data/fonts/ttf/DejaVuSans.ttf'\n",
      "DEBUG [matplotlib.backends.backend_pdf.writeFonts()]: Embedding font /Users/hosborn/transits/lib/python3.7/site-packages/matplotlib/mpl-data/fonts/ttf/DejaVuSans.ttf.\n",
      "DEBUG [matplotlib.backends.backend_pdf.writeFonts()]: Writing TrueType font.\n",
      "Breaking because status = COMPLETE\n",
      "TESS object\n",
      "DEBUG [urllib3.connectionpool._new_conn()]: Starting new HTTP connection (1): vizier.u-strasbg.fr:80\n",
      "DEBUG [urllib3.connectionpool._make_request()]: http://vizier.u-strasbg.fr:80 \"POST /viz-bin/votable HTTP/1.1\" 200 657\n",
      "DEBUG [urllib3.connectionpool._new_conn()]: Starting new HTTP connection (1): vizier.u-strasbg.fr:80\n",
      "DEBUG [urllib3.connectionpool._make_request()]: http://vizier.u-strasbg.fr:80 \"POST /viz-bin/votable HTTP/1.1\" 200 687\n",
      "DEBUG [urllib3.connectionpool._new_conn()]: Starting new HTTPS connection (1): heasarc.gsfc.nasa.gov:443\n",
      "DEBUG [urllib3.connectionpool._make_request()]: https://heasarc.gsfc.nasa.gov:443 \"GET /cgi-bin/tess/webtess/wtv.py?Entry=125.4252%2C+-46.4334 HTTP/1.1\" 200 None\n",
      "https://heasarc.gsfc.nasa.gov/cgi-bin/tess/webtess/wtv.py?Entry=<SkyCoord (ICRS): (ra, dec) in deg\n",
      "    (125.4252, -46.4334)>\n",
      "[8, 9] <class 'list'>\n",
      "TESS file\n",
      "4349 points masked in lc of 17755\n",
      "TESS file\n",
      "1838 points masked in lc of 18187\n",
      "[0, 1]\n",
      "transit mask: <class 'numpy.ndarray'> 31892 0 <class 'numpy.ndarray'> 31892 True\n",
      "WARNING [matplotlib.legend._parse_legend_args()]: No handles with labels found to put in legend.\n",
      "00 lowSNR, SNR= 2.8253090501066724 SNR_r= 2.451740859743791 depth: 0.0025336707045182966 fit: False\n",
      "DEBUG [matplotlib.backends.backend_pdf.fontName()]: Assigning font /b'F1' = '/Users/hosborn/transits/lib/python3.7/site-packages/matplotlib/mpl-data/fonts/ttf/DejaVuSans.ttf'\n",
      "DEBUG [matplotlib.backends.backend_pdf.writeFonts()]: Embedding font /Users/hosborn/transits/lib/python3.7/site-packages/matplotlib/mpl-data/fonts/ttf/DejaVuSans.ttf.\n",
      "DEBUG [matplotlib.backends.backend_pdf.writeFonts()]: Writing TrueType font.\n",
      "Breaking because status = COMPLETE\n",
      "TESS object\n",
      "DEBUG [urllib3.connectionpool._new_conn()]: Starting new HTTP connection (1): vizier.u-strasbg.fr:80\n",
      "DEBUG [urllib3.connectionpool._make_request()]: http://vizier.u-strasbg.fr:80 \"POST /viz-bin/votable HTTP/1.1\" 200 656\n",
      "DEBUG [urllib3.connectionpool._new_conn()]: Starting new HTTP connection (1): vizier.u-strasbg.fr:80\n",
      "DEBUG [urllib3.connectionpool._make_request()]: http://vizier.u-strasbg.fr:80 \"POST /viz-bin/votable HTTP/1.1\" 200 687\n",
      "DEBUG [urllib3.connectionpool._new_conn()]: Starting new HTTPS connection (1): heasarc.gsfc.nasa.gov:443\n",
      "DEBUG [urllib3.connectionpool._make_request()]: https://heasarc.gsfc.nasa.gov:443 \"GET /cgi-bin/tess/webtess/wtv.py?Entry=100.1639%2C+-5.6105 HTTP/1.1\" 200 None\n",
      "https://heasarc.gsfc.nasa.gov/cgi-bin/tess/webtess/wtv.py?Entry=<SkyCoord (ICRS): (ra, dec) in deg\n",
      "    (100.1639, -5.6105)>\n",
      "[6] <class 'list'>\n",
      "TESS file\n",
      "858 points masked in lc of 15678\n",
      "NO JUICE Unnamed: 0                                                 1864\n",
      "dec                                                     -5.6105\n",
      "dur                                                           0\n",
      "file          lacourse_jacobs_k2_table.csv;All_OsbornMarttiK...\n",
      "id                                                  5.35871e+07\n",
      "mission                                                    TESS\n",
      "ra                                                      100.164\n",
      "tcen                                                       2167\n",
      "Name: 358, dtype: object\n"
     ]
    },
    {
     "name": "stdout",
     "output_type": "stream",
     "text": [
      "Breaking because status = COMPLETE\n",
      "TESS object\n",
      "DEBUG [urllib3.connectionpool._new_conn()]: Starting new HTTP connection (1): vizier.u-strasbg.fr:80\n",
      "DEBUG [urllib3.connectionpool._make_request()]: http://vizier.u-strasbg.fr:80 \"POST /viz-bin/votable HTTP/1.1\" 200 658\n",
      "DEBUG [urllib3.connectionpool._new_conn()]: Starting new HTTP connection (1): vizier.u-strasbg.fr:80\n",
      "DEBUG [urllib3.connectionpool._make_request()]: http://vizier.u-strasbg.fr:80 \"POST /viz-bin/votable HTTP/1.1\" 200 689\n",
      "DEBUG [urllib3.connectionpool._new_conn()]: Starting new HTTPS connection (1): heasarc.gsfc.nasa.gov:443\n",
      "DEBUG [urllib3.connectionpool._make_request()]: https://heasarc.gsfc.nasa.gov:443 \"GET /cgi-bin/tess/webtess/wtv.py?Entry=327.63881200000003%2C+-26.556489000000003 HTTP/1.1\" 200 None\n",
      "https://heasarc.gsfc.nasa.gov/cgi-bin/tess/webtess/wtv.py?Entry=<SkyCoord (ICRS): (ra, dec) in deg\n",
      "    (327.638812, -26.556489)>\n",
      "[1] <class 'list'>\n",
      "TESS file\n",
      "2001 points masked in lc of 20076\n",
      "NO JUICE Unnamed: 0                        1866\n",
      "dec                           -26.5565\n",
      "dur                                  0\n",
      "file          AllMonos_martti_tess.csv\n",
      "id                          5.3843e+07\n",
      "mission                           TESS\n",
      "ra                             327.639\n",
      "tcen                              2167\n",
      "Name: 360, dtype: object\n",
      "Breaking because status = COMPLETE\n",
      "TESS object\n",
      "DEBUG [urllib3.connectionpool._new_conn()]: Starting new HTTP connection (1): vizier.u-strasbg.fr:80\n",
      "DEBUG [urllib3.connectionpool._make_request()]: http://vizier.u-strasbg.fr:80 \"POST /viz-bin/votable HTTP/1.1\" 200 657\n",
      "DEBUG [urllib3.connectionpool._new_conn()]: Starting new HTTP connection (1): vizier.u-strasbg.fr:80\n",
      "DEBUG [urllib3.connectionpool._make_request()]: http://vizier.u-strasbg.fr:80 \"POST /viz-bin/votable HTTP/1.1\" 200 688\n",
      "DEBUG [urllib3.connectionpool._new_conn()]: Starting new HTTPS connection (1): heasarc.gsfc.nasa.gov:443\n",
      "DEBUG [urllib3.connectionpool._make_request()]: https://heasarc.gsfc.nasa.gov:443 \"GET /cgi-bin/tess/webtess/wtv.py?Entry=160.9802997%2C+-30.239195799999997 HTTP/1.1\" 200 None\n",
      "https://heasarc.gsfc.nasa.gov/cgi-bin/tess/webtess/wtv.py?Entry=<SkyCoord (ICRS): (ra, dec) in deg\n",
      "    (160.9802997, -30.2391958)>\n",
      "[9] <class 'list'>\n",
      "TESS file\n",
      "2324 points masked in lc of 18187\n",
      "NO JUICE Unnamed: 0                                                 1868\n",
      "dec                                                    -30.2392\n",
      "dur                                                           0\n",
      "file          lacourse_jacobs_k2_table.csv;All_OsbornMarttiK...\n",
      "id                                                  5.42399e+07\n",
      "mission                                                    TESS\n",
      "ra                                                       160.98\n",
      "tcen                                                       2167\n",
      "Name: 362, dtype: object\n",
      "Breaking because status = COMPLETE\n",
      "TESS object\n",
      "DEBUG [urllib3.connectionpool._new_conn()]: Starting new HTTP connection (1): vizier.u-strasbg.fr:80\n",
      "DEBUG [urllib3.connectionpool._make_request()]: http://vizier.u-strasbg.fr:80 \"POST /viz-bin/votable HTTP/1.1\" 200 657\n",
      "DEBUG [urllib3.connectionpool._new_conn()]: Starting new HTTP connection (1): vizier.u-strasbg.fr:80\n",
      "DEBUG [urllib3.connectionpool._make_request()]: http://vizier.u-strasbg.fr:80 \"POST /viz-bin/votable HTTP/1.1\" 200 688\n",
      "DEBUG [urllib3.connectionpool._new_conn()]: Starting new HTTPS connection (1): heasarc.gsfc.nasa.gov:443\n",
      "DEBUG [urllib3.connectionpool._make_request()]: https://heasarc.gsfc.nasa.gov:443 \"GET /cgi-bin/tess/webtess/wtv.py?Entry=71.71772800000001%2C+-60.603522 HTTP/1.1\" 200 None\n",
      "https://heasarc.gsfc.nasa.gov/cgi-bin/tess/webtess/wtv.py?Entry=<SkyCoord (ICRS): (ra, dec) in deg\n",
      "    (71.717728, -60.603522)>\n",
      "[1, 2, 3, 4, 5, 6, 7, 8, 9, 10, 11, 12, 13] <class 'list'>\n",
      "TESS file\n",
      "2016 points masked in lc of 20076\n",
      "TESS file\n",
      "1468 points masked in lc of 19737\n",
      "TESS file\n",
      "6247 points masked in lc of 19692\n",
      "TESS file\n",
      "2913 points masked in lc of 18684\n",
      "TESS file\n",
      "1088 points masked in lc of 18944\n",
      "TESS file\n",
      "877 points masked in lc of 15678\n",
      "TESS file\n",
      "4357 points masked in lc of 17755\n",
      "TESS file\n",
      "3241 points masked in lc of 18187\n",
      "TESS file\n",
      "3381 points masked in lc of 18900\n",
      "TESS file\n",
      "3460 points masked in lc of 19527\n",
      "TESS file\n",
      "1098 points masked in lc of 20119\n",
      "TESS file\n",
      "934 points masked in lc of 20479\n",
      "# Loading QLP lightcurves\n",
      "55497281 <class 'int'>\n",
      "NO JUICE Unnamed: 0                        1870\n",
      "dec                           -60.6035\n",
      "dur                                  0\n",
      "file          AllMonos_martti_tess.csv\n",
      "id                         5.54973e+07\n",
      "mission                           TESS\n",
      "ra                             71.7177\n",
      "tcen                              2167\n",
      "Name: 364, dtype: object\n",
      "Breaking because status = COMPLETE\n",
      "TESS object\n",
      "INFO: Query finished. [astroquery.utils.tap.core]\n",
      "INFO  [astropy.launch_job_async()]: Query finished.\n",
      "DEBUG [urllib3.connectionpool._new_conn()]: Starting new HTTPS connection (1): www.aavso.org:443\n",
      "DEBUG [urllib3.connectionpool._make_request()]: https://www.aavso.org:443 \"GET /cgi-bin/apass_dr10_download.pl?ra=21.7439&dec=-30.9697&radius=0.0042&output=csv HTTP/1.1\" 200 615\n",
      "INFO: Query finished. [astroquery.utils.tap.core]\n",
      "INFO  [astropy.launch_job_async()]: Query finished.\n",
      "INFO: Query finished. [astroquery.utils.tap.core]\n",
      "INFO  [astropy.launch_job_async()]: Query finished.\n",
      "INFO: Query finished. [astroquery.utils.tap.core]\n",
      "INFO  [astropy.launch_job_async()]: Query finished.\n",
      "INFO: Query finished. [astroquery.utils.tap.core]\n",
      "INFO  [astropy.launch_job_async()]: Query finished.\n",
      "Isoclassifying\n",
      "54\n",
      "teff 688588\n",
      "lum 41185\n",
      "feh 41185\n",
      "number of models used within non-phot obsconstraints: 41185\n",
      "number of models incl reddening: 41185\n",
      "number of models after phot constraints: 29305\n",
      "----\n",
      "teff 6101.524167004068 375.3857977186917 430.9324190789175\n",
      "logg 4.193186124823287 0.10913164848917578 0.1397440365733269\n",
      "feh -0.04558030733799059 0.36271433951883225 0.5543510582576746\n",
      "rad 1.3533104663741338 0.22273821515000414 0.14010171168799235\n",
      "mass 1.0927191669561083 0.15113806546878084 0.18704725562845304\n",
      "rho 0.41882761970606897 0.15782063789681844 0.15443777428492172\n",
      "lum 2.3777053599748115 0.27259709899236917 0.2821085073746028\n",
      "age 5.374377816454605 4.659332906196231 3.31297532793239\n",
      "avs 0.019879960499890742 0.002769966844647972 0.002881771161851402\n",
      "dis 96.18681200820146 12.059271121603047 8.076918090685325\n",
      "DEBUG [urllib3.connectionpool._new_conn()]: Starting new HTTP connection (1): vizier.u-strasbg.fr:80\n",
      "DEBUG [urllib3.connectionpool._make_request()]: http://vizier.u-strasbg.fr:80 \"POST /viz-bin/votable HTTP/1.1\" 200 655\n",
      "DEBUG [urllib3.connectionpool._new_conn()]: Starting new HTTP connection (1): vizier.u-strasbg.fr:80\n",
      "DEBUG [urllib3.connectionpool._make_request()]: http://vizier.u-strasbg.fr:80 \"POST /viz-bin/votable HTTP/1.1\" 200 686\n",
      "DEBUG [urllib3.connectionpool._new_conn()]: Starting new HTTPS connection (1): heasarc.gsfc.nasa.gov:443\n",
      "DEBUG [urllib3.connectionpool._make_request()]: https://heasarc.gsfc.nasa.gov:443 \"GET /cgi-bin/tess/webtess/wtv.py?Entry=21.744%2C+-30.97 HTTP/1.1\" 200 None\n",
      "https://heasarc.gsfc.nasa.gov/cgi-bin/tess/webtess/wtv.py?Entry=<SkyCoord (ICRS): (ra, dec) in deg\n",
      "    (21.744, -30.97)>\n",
      "[3] <class 'list'>\n",
      "TESS file\n",
      "6269 points masked in lc of 19692\n",
      "transit mask: <class 'numpy.ndarray'> 19412 0 <class 'numpy.ndarray'> 19412 True\n",
      "00 planet SNR / instrumental SNR = 2.751884771599619\n",
      "00 - Checks complete.  SNR: 14.21244  SNR_r: 9.724389  variability: -15.9931  centroid: 12.12808 | flag: instrumental\n",
      "DEBUG [matplotlib.backends.backend_pdf.fontName()]: Assigning font /b'F1' = '/Users/hosborn/transits/lib/python3.7/site-packages/matplotlib/mpl-data/fonts/ttf/DejaVuSans.ttf'\n",
      "DEBUG [matplotlib.backends.backend_pdf.writeFonts()]: Embedding font /Users/hosborn/transits/lib/python3.7/site-packages/matplotlib/mpl-data/fonts/ttf/DejaVuSans.ttf.\n",
      "DEBUG [matplotlib.backends.backend_pdf.writeFonts()]: Writing TrueType font.\n",
      "Breaking because status = COMPLETE\n",
      "TESS object\n",
      "INFO: Query finished. [astroquery.utils.tap.core]\n",
      "INFO  [astropy.launch_job_async()]: Query finished.\n",
      "DEBUG [urllib3.connectionpool._new_conn()]: Starting new HTTPS connection (1): www.aavso.org:443\n",
      "DEBUG [urllib3.connectionpool._make_request()]: https://www.aavso.org:443 \"GET /cgi-bin/apass_dr10_download.pl?ra=74.1173&dec=-64.4875&radius=0.0042&output=csv HTTP/1.1\" 200 607\n"
     ]
    },
    {
     "name": "stdout",
     "output_type": "stream",
     "text": [
      "INFO: Query finished. [astroquery.utils.tap.core]\n",
      "INFO  [astropy.launch_job_async()]: Query finished.\n",
      "INFO: Query finished. [astroquery.utils.tap.core]\n",
      "INFO  [astropy.launch_job_async()]: Query finished.\n",
      "INFO: Query finished. [astroquery.utils.tap.core]\n",
      "INFO  [astropy.launch_job_async()]: Query finished.\n",
      "INFO: Query finished. [astroquery.utils.tap.core]\n",
      "INFO  [astropy.launch_job_async()]: Query finished.\n",
      "Isoclassifying\n",
      "54\n",
      "teff 258200\n",
      "lum 38801\n",
      "feh 38801\n",
      "number of models used within non-phot obsconstraints: 38801\n",
      "number of models incl reddening: 38801\n",
      "number of models after phot constraints: 36233\n",
      "----\n",
      "teff 6477.342520626769 403.45343551674523 419.6418556085555\n",
      "logg 3.8227405172492612 0.1749343316488834 0.20790420185458247\n",
      "feh 0.06659713464290397 0.29533787458574773 0.8611295204729527\n",
      "rad 2.417896604739543 0.8304890742881184 0.47634596208377933\n",
      "mass 1.570194069089708 0.2749151055279748 0.380837296225198\n",
      "rho 0.09736683302093758 0.08089900755764746 0.05133466266992056\n",
      "lum 9.170972017018716 7.399423870326977 2.9595828005159053\n",
      "age 1.6623905621125317 1.8194423554174837 0.6809581502066857\n",
      "avs 0.06956527184098624 0.0014105856807301448 0.0030939746585926103\n",
      "dis 365.2497121210142 125.73503696356892 67.38373463320875\n",
      "DEBUG [urllib3.connectionpool._new_conn()]: Starting new HTTP connection (1): vizier.u-strasbg.fr:80\n",
      "DEBUG [urllib3.connectionpool._make_request()]: http://vizier.u-strasbg.fr:80 \"POST /viz-bin/votable HTTP/1.1\" 200 656\n",
      "DEBUG [urllib3.connectionpool._new_conn()]: Starting new HTTP connection (1): vizier.u-strasbg.fr:80\n",
      "DEBUG [urllib3.connectionpool._make_request()]: http://vizier.u-strasbg.fr:80 \"POST /viz-bin/votable HTTP/1.1\" 200 688\n",
      "DEBUG [urllib3.connectionpool._new_conn()]: Starting new HTTPS connection (1): heasarc.gsfc.nasa.gov:443\n",
      "DEBUG [urllib3.connectionpool._make_request()]: https://heasarc.gsfc.nasa.gov:443 \"GET /cgi-bin/tess/webtess/wtv.py?Entry=74.117302%2C+-64.487515 HTTP/1.1\" 200 None\n",
      "https://heasarc.gsfc.nasa.gov/cgi-bin/tess/webtess/wtv.py?Entry=<SkyCoord (ICRS): (ra, dec) in deg\n",
      "    (74.117302, -64.487515)>\n",
      "[1, 2, 4, 5, 6, 7, 8, 9, 10, 11, 12] <class 'list'>\n",
      "TESS file\n",
      "1992 points masked in lc of 20076\n",
      "TESS file\n",
      "1437 points masked in lc of 19737\n",
      "TESS file\n",
      "2916 points masked in lc of 18684\n",
      "TESS file\n",
      "1087 points masked in lc of 18944\n",
      "TESS file\n",
      "869 points masked in lc of 15678\n",
      "TESS file\n",
      "1268 points masked in lc of 17612\n",
      "TESS file\n",
      "4357 points masked in lc of 17755\n",
      "TESS file\n",
      "3234 points masked in lc of 18187\n",
      "TESS file\n",
      "2692 points masked in lc of 18900\n",
      "TESS file\n",
      "3457 points masked in lc of 19527\n",
      "TESS file\n",
      "1052 points masked in lc of 20119\n",
      "[0, 1, 2, 3, 4, 5, 6, 7, 8, 9, 10]\n",
      "NO JUICE Unnamed: 0                                                 1874\n",
      "dec                                                    -64.4875\n",
      "dur                                                           0\n",
      "file          lacourse_jacobs_k2_table.csv;All_OsbornMarttiK...\n",
      "id                                                  5.56593e+07\n",
      "mission                                                    TESS\n",
      "ra                                                      74.1173\n",
      "tcen                                                       2167\n",
      "Name: 368, dtype: object\n",
      "Breaking because status = COMPLETE\n",
      "TESS object\n",
      "DEBUG [urllib3.connectionpool._new_conn()]: Starting new HTTP connection (1): vizier.u-strasbg.fr:80\n",
      "DEBUG [urllib3.connectionpool._make_request()]: http://vizier.u-strasbg.fr:80 \"POST /viz-bin/votable HTTP/1.1\" 200 656\n",
      "DEBUG [urllib3.connectionpool._new_conn()]: Starting new HTTP connection (1): vizier.u-strasbg.fr:80\n",
      "DEBUG [urllib3.connectionpool._make_request()]: http://vizier.u-strasbg.fr:80 \"POST /viz-bin/votable HTTP/1.1\" 200 688\n",
      "DEBUG [urllib3.connectionpool._new_conn()]: Starting new HTTPS connection (1): heasarc.gsfc.nasa.gov:443\n",
      "DEBUG [urllib3.connectionpool._make_request()]: https://heasarc.gsfc.nasa.gov:443 \"GET /cgi-bin/tess/webtess/wtv.py?Entry=159.0305246%2C+-9.800229639 HTTP/1.1\" 200 None\n",
      "https://heasarc.gsfc.nasa.gov/cgi-bin/tess/webtess/wtv.py?Entry=<SkyCoord (ICRS): (ra, dec) in deg\n",
      "    (159.0305246, -9.80022964)>\n",
      "[9] <class 'list'>\n",
      "TESS file\n",
      "2488 points masked in lc of 18187\n",
      "NO JUICE Unnamed: 0                        1876\n",
      "dec                           -9.80023\n",
      "dur                                  0\n",
      "file          AllMonos_martti_tess.csv\n",
      "id                         5.67193e+07\n",
      "mission                           TESS\n",
      "ra                             159.031\n",
      "tcen                              2167\n",
      "Name: 370, dtype: object\n",
      "Breaking because status = COMPLETE\n",
      "TESS object\n",
      "DEBUG [urllib3.connectionpool._new_conn()]: Starting new HTTP connection (1): vizier.u-strasbg.fr:80\n",
      "DEBUG [urllib3.connectionpool._make_request()]: http://vizier.u-strasbg.fr:80 \"POST /viz-bin/votable HTTP/1.1\" 200 657\n",
      "DEBUG [urllib3.connectionpool._new_conn()]: Starting new HTTP connection (1): vizier.u-strasbg.fr:80\n",
      "DEBUG [urllib3.connectionpool._make_request()]: http://vizier.u-strasbg.fr:80 \"POST /viz-bin/votable HTTP/1.1\" 200 690\n",
      "DEBUG [urllib3.connectionpool._new_conn()]: Starting new HTTPS connection (1): heasarc.gsfc.nasa.gov:443\n",
      "DEBUG [urllib3.connectionpool._make_request()]: https://heasarc.gsfc.nasa.gov:443 \"GET /cgi-bin/tess/webtess/wtv.py?Entry=201.3668039%2C+-26.66509875 HTTP/1.1\" 200 None\n",
      "https://heasarc.gsfc.nasa.gov/cgi-bin/tess/webtess/wtv.py?Entry=<SkyCoord (ICRS): (ra, dec) in deg\n",
      "    (201.3668039, -26.66509875)>\n",
      "[10] <class 'list'>\n",
      "TESS file\n",
      "3024 points masked in lc of 18900\n",
      "NO JUICE Unnamed: 0                        1878\n",
      "dec                           -26.6651\n",
      "dur                                  0\n",
      "file          AllMonos_martti_tess.csv\n",
      "id                         5.84603e+07\n",
      "mission                           TESS\n",
      "ra                             201.367\n",
      "tcen                              2167\n",
      "Name: 372, dtype: object\n",
      "Breaking because status = COMPLETE\n",
      "TESS object\n",
      "INFO: Query finished. [astroquery.utils.tap.core]\n",
      "INFO  [astropy.launch_job_async()]: Query finished.\n",
      "DEBUG [urllib3.connectionpool._new_conn()]: Starting new HTTPS connection (1): www.aavso.org:443\n",
      "DEBUG [urllib3.connectionpool._make_request()]: https://www.aavso.org:443 \"GET /cgi-bin/apass_dr10_download.pl?ra=74.7475&dec=14.5432&radius=0.0042&output=csv HTTP/1.1\" 200 460\n",
      "INFO: Query finished. [astroquery.utils.tap.core]\n",
      "INFO  [astropy.launch_job_async()]: Query finished.\n",
      "INFO: Query finished. [astroquery.utils.tap.core]\n",
      "INFO  [astropy.launch_job_async()]: Query finished.\n",
      "INFO: Query finished. [astroquery.utils.tap.core]\n",
      "INFO  [astropy.launch_job_async()]: Query finished.\n",
      "INFO: Query finished. [astroquery.utils.tap.core]\n",
      "INFO  [astropy.launch_job_async()]: Query finished.\n",
      "No BV for 59091000\n",
      "No griz for 59091000\n",
      "Isoclassifying\n",
      "54\n",
      "teff 39530\n",
      "feh 39530\n",
      "number of models used within non-phot obsconstraints: 39530\n",
      "number of models incl reddening: 39530\n",
      "number of models after phot constraints: 1639\n",
      "----\n",
      "teff 8578.102651293195 843.9635986239991 489.2735656588384\n",
      "logg 2.9274033264364774 0.08699252303165173 0.08388869607608385\n",
      "feh -1.7993546677137104 0.14903071107958765 0.14198002994413672\n",
      "rad 9.057096485680011 1.34785417447468 1.1893874808238234\n",
      "mass 2.3644811037471314 0.742463448281871 0.04966235514284145\n",
      "rho 0.003335218456657756 0.0013925072463937867 0.0009012713027039786\n",
      "lum 370.8088223855442 343.2754108790151 76.84835633468947\n",
      "age 0.3518344044102534 0.10183440441025338 0.10183440441025338\n",
      "avs 0.08195476063598986 0.011949900475494324 0.00927920383120745\n",
      "dis 337.52734116562954 66.32623684701099 42.02928825894645\n",
      "DEBUG [urllib3.connectionpool._new_conn()]: Starting new HTTP connection (1): vizier.u-strasbg.fr:80\n",
      "DEBUG [urllib3.connectionpool._make_request()]: http://vizier.u-strasbg.fr:80 \"POST /viz-bin/votable HTTP/1.1\" 200 656\n",
      "DEBUG [urllib3.connectionpool._new_conn()]: Starting new HTTP connection (1): vizier.u-strasbg.fr:80\n",
      "DEBUG [urllib3.connectionpool._make_request()]: http://vizier.u-strasbg.fr:80 \"POST /viz-bin/votable HTTP/1.1\" 200 688\n",
      "DEBUG [urllib3.connectionpool._new_conn()]: Starting new HTTPS connection (1): heasarc.gsfc.nasa.gov:443\n",
      "DEBUG [urllib3.connectionpool._make_request()]: https://heasarc.gsfc.nasa.gov:443 \"GET /cgi-bin/tess/webtess/wtv.py?Entry=74.747523%2C+14.543226999999998 HTTP/1.1\" 200 None\n",
      "https://heasarc.gsfc.nasa.gov/cgi-bin/tess/webtess/wtv.py?Entry=<SkyCoord (ICRS): (ra, dec) in deg\n",
      "    (74.747523, 14.543227)>\n",
      "[5] <class 'list'>\n"
     ]
    },
    {
     "name": "stdout",
     "output_type": "stream",
     "text": [
      "TESS file\n",
      "1389 points masked in lc of 18944\n",
      "NO JUICE Unnamed: 0                        1880\n",
      "dec                            14.5432\n",
      "dur                                  0\n",
      "file          AllMonos_martti_tess.csv\n",
      "id                          5.9091e+07\n",
      "mission                           TESS\n",
      "ra                             74.7475\n",
      "tcen                              2167\n",
      "Name: 374, dtype: object\n",
      "Breaking because status = COMPLETE\n",
      "TESS object\n",
      "DEBUG [urllib3.connectionpool._new_conn()]: Starting new HTTP connection (1): vizier.u-strasbg.fr:80\n",
      "DEBUG [urllib3.connectionpool._make_request()]: http://vizier.u-strasbg.fr:80 \"POST /viz-bin/votable HTTP/1.1\" 200 657\n",
      "DEBUG [urllib3.connectionpool._new_conn()]: Starting new HTTP connection (1): vizier.u-strasbg.fr:80\n",
      "DEBUG [urllib3.connectionpool._make_request()]: http://vizier.u-strasbg.fr:80 \"POST /viz-bin/votable HTTP/1.1\" 200 688\n",
      "DEBUG [urllib3.connectionpool._new_conn()]: Starting new HTTPS connection (1): heasarc.gsfc.nasa.gov:443\n",
      "DEBUG [urllib3.connectionpool._make_request()]: https://heasarc.gsfc.nasa.gov:443 \"GET /cgi-bin/tess/webtess/wtv.py?Entry=226.20659069999996%2C+-29.89402843 HTTP/1.1\" 200 None\n",
      "https://heasarc.gsfc.nasa.gov/cgi-bin/tess/webtess/wtv.py?Entry=<SkyCoord (ICRS): (ra, dec) in deg\n",
      "    (226.2065907, -29.89402843)>\n",
      "[11] <class 'list'>\n",
      "TESS file\n",
      "5651 points masked in lc of 19527\n",
      "NO JUICE Unnamed: 0                                                 1882\n",
      "dec                                                     -29.894\n",
      "dur                                                           0\n",
      "file          lacourse_jacobs_k2_table.csv;All_OsbornMarttiK...\n",
      "id                                                  6.09147e+07\n",
      "mission                                                    TESS\n",
      "ra                                                      226.207\n",
      "tcen                                                       2167\n",
      "Name: 376, dtype: object\n",
      "Breaking because status = COMPLETE\n",
      "TESS object\n",
      "DEBUG [urllib3.connectionpool._new_conn()]: Starting new HTTP connection (1): vizier.u-strasbg.fr:80\n",
      "DEBUG [urllib3.connectionpool._make_request()]: http://vizier.u-strasbg.fr:80 \"POST /viz-bin/votable HTTP/1.1\" 200 657\n",
      "DEBUG [urllib3.connectionpool._new_conn()]: Starting new HTTP connection (1): vizier.u-strasbg.fr:80\n",
      "DEBUG [urllib3.connectionpool._make_request()]: http://vizier.u-strasbg.fr:80 \"POST /viz-bin/votable HTTP/1.1\" 200 689\n",
      "DEBUG [urllib3.connectionpool._new_conn()]: Starting new HTTPS connection (1): heasarc.gsfc.nasa.gov:443\n",
      "DEBUG [urllib3.connectionpool._make_request()]: https://heasarc.gsfc.nasa.gov:443 \"GET /cgi-bin/tess/webtess/wtv.py?Entry=286.56363960000004%2C+-43.88652151 HTTP/1.1\" 200 None\n",
      "https://heasarc.gsfc.nasa.gov/cgi-bin/tess/webtess/wtv.py?Entry=<SkyCoord (ICRS): (ra, dec) in deg\n",
      "    (286.5636396, -43.88652151)>\n",
      "[13] <class 'list'>\n",
      "TESS file\n",
      "2578 points masked in lc of 20479\n",
      "NO JUICE Unnamed: 0                                                 1884\n",
      "dec                                                    -43.8865\n",
      "dur                                                           0\n",
      "file          lacourse_jacobs_k2_table.csv;All_OsbornMarttiK...\n",
      "id                                                  6.10968e+07\n",
      "mission                                                    TESS\n",
      "ra                                                      286.564\n",
      "tcen                                                       2167\n",
      "Name: 378, dtype: object\n",
      "Breaking because status = COMPLETE\n",
      "TESS object\n",
      "DEBUG [urllib3.connectionpool._new_conn()]: Starting new HTTP connection (1): vizier.u-strasbg.fr:80\n",
      "DEBUG [urllib3.connectionpool._make_request()]: http://vizier.u-strasbg.fr:80 \"POST /viz-bin/votable HTTP/1.1\" 200 657\n",
      "DEBUG [urllib3.connectionpool._new_conn()]: Starting new HTTP connection (1): vizier.u-strasbg.fr:80\n",
      "DEBUG [urllib3.connectionpool._make_request()]: http://vizier.u-strasbg.fr:80 \"POST /viz-bin/votable HTTP/1.1\" 200 689\n",
      "DEBUG [urllib3.connectionpool._new_conn()]: Starting new HTTPS connection (1): heasarc.gsfc.nasa.gov:443\n",
      "DEBUG [urllib3.connectionpool._make_request()]: https://heasarc.gsfc.nasa.gov:443 \"GET /cgi-bin/tess/webtess/wtv.py?Entry=228.2223336%2C+-27.8891909 HTTP/1.1\" 200 None\n",
      "https://heasarc.gsfc.nasa.gov/cgi-bin/tess/webtess/wtv.py?Entry=<SkyCoord (ICRS): (ra, dec) in deg\n",
      "    (228.2223336, -27.8891909)>\n",
      "[11] <class 'list'>\n",
      "TESS file\n",
      "5656 points masked in lc of 19527\n",
      "NO JUICE Unnamed: 0                        1886\n",
      "dec                           -27.8892\n",
      "dur                                  0\n",
      "file          AllMonos_martti_tess.csv\n",
      "id                         6.13912e+07\n",
      "mission                           TESS\n",
      "ra                             228.222\n",
      "tcen                              2167\n",
      "Name: 380, dtype: object\n",
      "Breaking because status = COMPLETE\n",
      "TESS object\n",
      "DEBUG [urllib3.connectionpool._new_conn()]: Starting new HTTP connection (1): vizier.u-strasbg.fr:80\n",
      "DEBUG [urllib3.connectionpool._make_request()]: http://vizier.u-strasbg.fr:80 \"POST /viz-bin/votable HTTP/1.1\" 200 657\n",
      "DEBUG [urllib3.connectionpool._new_conn()]: Starting new HTTP connection (1): vizier.u-strasbg.fr:80\n",
      "DEBUG [urllib3.connectionpool._make_request()]: http://vizier.u-strasbg.fr:80 \"POST /viz-bin/votable HTTP/1.1\" 200 688\n",
      "DEBUG [urllib3.connectionpool._new_conn()]: Starting new HTTPS connection (1): heasarc.gsfc.nasa.gov:443\n",
      "DEBUG [urllib3.connectionpool._make_request()]: https://heasarc.gsfc.nasa.gov:443 \"GET /cgi-bin/tess/webtess/wtv.py?Entry=177.606%2C+-61.563 HTTP/1.1\" 200 None\n",
      "https://heasarc.gsfc.nasa.gov/cgi-bin/tess/webtess/wtv.py?Entry=<SkyCoord (ICRS): (ra, dec) in deg\n",
      "    (177.606, -61.563)>\n",
      "[10, 11] <class 'list'>\n",
      "TESS file\n",
      "1320 points masked in lc of 18900\n",
      "TESS file\n",
      "1753 points masked in lc of 19527\n",
      "[0, 1]\n",
      "transit mask: <class 'numpy.ndarray'> 36946 0 <class 'numpy.ndarray'> 36946 True\n",
      "00 - Checks complete.  SNR: 19.82783  SNR_r: 5.087182  variability: -20.1097  centroid: 12.77767 | flag: planet\n",
      "DEBUG [matplotlib.backends.backend_pdf.fontName()]: Assigning font /b'F1' = '/Users/hosborn/transits/lib/python3.7/site-packages/matplotlib/mpl-data/fonts/ttf/DejaVuSans.ttf'\n",
      "DEBUG [matplotlib.backends.backend_pdf.writeFonts()]: Embedding font /Users/hosborn/transits/lib/python3.7/site-packages/matplotlib/mpl-data/fonts/ttf/DejaVuSans.ttf.\n",
      "DEBUG [matplotlib.backends.backend_pdf.writeFonts()]: Writing TrueType font.\n",
      "Breaking because status = COMPLETE\n",
      "TESS object\n",
      "INFO: Query finished. [astroquery.utils.tap.core]\n",
      "INFO  [astropy.launch_job_async()]: Query finished.\n",
      "DEBUG [urllib3.connectionpool._new_conn()]: Starting new HTTPS connection (1): www.aavso.org:443\n",
      "DEBUG [urllib3.connectionpool._make_request()]: https://www.aavso.org:443 \"GET /cgi-bin/apass_dr10_download.pl?ra=291.1093&dec=-43.0345&radius=0.0042&output=csv HTTP/1.1\" 200 614\n",
      "INFO: Query finished. [astroquery.utils.tap.core]\n",
      "INFO  [astropy.launch_job_async()]: Query finished.\n",
      "INFO: Query finished. [astroquery.utils.tap.core]\n",
      "INFO  [astropy.launch_job_async()]: Query finished.\n",
      "INFO: Query finished. [astroquery.utils.tap.core]\n",
      "INFO  [astropy.launch_job_async()]: Query finished.\n",
      "INFO: Query finished. [astroquery.utils.tap.core]\n",
      "INFO  [astropy.launch_job_async()]: Query finished.\n",
      "Isoclassifying\n",
      "54\n",
      "teff 1882787\n",
      "feh 1882787\n",
      "number of models used within non-phot obsconstraints: 1882787\n",
      "number of models incl reddening: 1882787\n",
      "number of models after phot constraints: 1882787\n",
      "----\n",
      "teff 5087.721128901435 1333.4210127151537 1135.4270231047049\n",
      "logg 4.600314511097229 0.2683280057269686 0.3712036565269683\n",
      "feh -0.8226101963795343 0.89784371518699 0.8190138382901462\n",
      "rad 0.6759036834711583 0.6125314459470683 0.3092639966407167\n",
      "mass 0.7130325817142676 0.3637092927680744 0.3061571984424959\n",
      "rho 2.0170315766927134 4.700513190027661 1.5589882433401534\n",
      "lum 0.3117803294752355 2.5124653119231155 0.27853545018569065\n",
      "age 5.2005092992361694 5.514206674192418 3.827395721861038\n",
      "avs 0.011596477285784206 0.013288323734066902 0.006673342879689124\n",
      "dis 42.50249288838501 50.402874090133494 24.694077586595423\n",
      "DEBUG [urllib3.connectionpool._new_conn()]: Starting new HTTP connection (1): vizier.u-strasbg.fr:80\n",
      "DEBUG [urllib3.connectionpool._make_request()]: http://vizier.u-strasbg.fr:80 \"POST /viz-bin/votable HTTP/1.1\" 200 657\n",
      "DEBUG [urllib3.connectionpool._new_conn()]: Starting new HTTP connection (1): vizier.u-strasbg.fr:80\n"
     ]
    },
    {
     "name": "stdout",
     "output_type": "stream",
     "text": [
      "DEBUG [urllib3.connectionpool._make_request()]: http://vizier.u-strasbg.fr:80 \"POST /viz-bin/votable HTTP/1.1\" 200 689\n",
      "DEBUG [urllib3.connectionpool._new_conn()]: Starting new HTTPS connection (1): heasarc.gsfc.nasa.gov:443\n",
      "DEBUG [urllib3.connectionpool._make_request()]: https://heasarc.gsfc.nasa.gov:443 \"GET /cgi-bin/tess/webtess/wtv.py?Entry=291.1092765%2C+-43.03451273 HTTP/1.1\" 200 None\n",
      "https://heasarc.gsfc.nasa.gov/cgi-bin/tess/webtess/wtv.py?Entry=<SkyCoord (ICRS): (ra, dec) in deg\n",
      "    (291.1092765, -43.03451273)>\n",
      "[13] <class 'list'>\n",
      "TESS file\n",
      "2589 points masked in lc of 20479\n",
      "transit mask: <class 'numpy.ndarray'> 19811 0 <class 'numpy.ndarray'> 19811 True\n",
      "WARNING [matplotlib.legend._parse_legend_args()]: No handles with labels found to put in legend.\n",
      "00 lowSNR, SNR= 9.803422708101305 SNR_r= 4.2716577198354155 depth: 0.0003466491458693329 fit: False\n",
      "DEBUG [matplotlib.backends.backend_pdf.fontName()]: Assigning font /b'F1' = '/Users/hosborn/transits/lib/python3.7/site-packages/matplotlib/mpl-data/fonts/ttf/DejaVuSans.ttf'\n",
      "DEBUG [matplotlib.backends.backend_pdf.writeFonts()]: Embedding font /Users/hosborn/transits/lib/python3.7/site-packages/matplotlib/mpl-data/fonts/ttf/DejaVuSans.ttf.\n",
      "DEBUG [matplotlib.backends.backend_pdf.writeFonts()]: Writing TrueType font.\n",
      "Breaking because status = COMPLETE\n",
      "TESS object\n",
      "DEBUG [urllib3.connectionpool._new_conn()]: Starting new HTTP connection (1): vizier.u-strasbg.fr:80\n",
      "DEBUG [urllib3.connectionpool._make_request()]: http://vizier.u-strasbg.fr:80 \"POST /viz-bin/votable HTTP/1.1\" 200 657\n",
      "DEBUG [urllib3.connectionpool._new_conn()]: Starting new HTTP connection (1): vizier.u-strasbg.fr:80\n",
      "DEBUG [urllib3.connectionpool._make_request()]: http://vizier.u-strasbg.fr:80 \"POST /viz-bin/votable HTTP/1.1\" 200 688\n",
      "DEBUG [urllib3.connectionpool._new_conn()]: Starting new HTTPS connection (1): heasarc.gsfc.nasa.gov:443\n",
      "DEBUG [urllib3.connectionpool._make_request()]: https://heasarc.gsfc.nasa.gov:443 \"GET /cgi-bin/tess/webtess/wtv.py?Entry=87.402%2C+-54.911 HTTP/1.1\" 200 None\n",
      "https://heasarc.gsfc.nasa.gov/cgi-bin/tess/webtess/wtv.py?Entry=<SkyCoord (ICRS): (ra, dec) in deg\n",
      "    (87.402, -54.911)>\n",
      "[1, 2, 3, 4, 5, 6, 7, 8, 10, 11, 12, 13] <class 'list'>\n",
      "TESS file\n",
      "1995 points masked in lc of 20076\n",
      "TESS file\n",
      "1437 points masked in lc of 19737\n",
      "TESS file\n",
      "6251 points masked in lc of 19692\n",
      "TESS file\n",
      "2923 points masked in lc of 18684\n",
      "TESS file\n",
      "1090 points masked in lc of 18944\n",
      "TESS file\n",
      "876 points masked in lc of 15678\n",
      "TESS file\n",
      "1274 points masked in lc of 17612\n",
      "TESS file\n",
      "4361 points masked in lc of 17755\n",
      "TESS file\n",
      "3373 points masked in lc of 18900\n",
      "TESS file\n",
      "3189 points masked in lc of 19527\n",
      "TESS file\n",
      "1054 points masked in lc of 20119\n",
      "TESS file\n",
      "932 points masked in lc of 20479\n",
      "[0, 1, 2, 3, 4, 5, 6, 7, 8, 9, 10, 11]\n",
      "transit mask: <class 'numpy.ndarray'> 213315 0 <class 'numpy.ndarray'> 213315 True\n",
      "00 - Checks complete.  SNR: 41.77492  SNR_r: 97.52756  variability: -2610.25  centroid: 6.558623 | flag: planet\n",
      "DEBUG [matplotlib.backends.backend_pdf.fontName()]: Assigning font /b'F1' = '/Users/hosborn/transits/lib/python3.7/site-packages/matplotlib/mpl-data/fonts/ttf/DejaVuSans.ttf'\n",
      "DEBUG [matplotlib.backends.backend_pdf.writeFonts()]: Embedding font /Users/hosborn/transits/lib/python3.7/site-packages/matplotlib/mpl-data/fonts/ttf/DejaVuSans.ttf.\n",
      "DEBUG [matplotlib.backends.backend_pdf.writeFonts()]: Writing TrueType font.\n",
      "Breaking because status = COMPLETE\n",
      "TESS object\n",
      "DEBUG [urllib3.connectionpool._new_conn()]: Starting new HTTP connection (1): vizier.u-strasbg.fr:80\n",
      "DEBUG [urllib3.connectionpool._make_request()]: http://vizier.u-strasbg.fr:80 \"POST /viz-bin/votable HTTP/1.1\" 200 657\n",
      "DEBUG [urllib3.connectionpool._new_conn()]: Starting new HTTP connection (1): vizier.u-strasbg.fr:80\n",
      "DEBUG [urllib3.connectionpool._make_request()]: http://vizier.u-strasbg.fr:80 \"POST /viz-bin/votable HTTP/1.1\" 200 688\n",
      "DEBUG [urllib3.connectionpool._new_conn()]: Starting new HTTPS connection (1): heasarc.gsfc.nasa.gov:443\n",
      "DEBUG [urllib3.connectionpool._make_request()]: https://heasarc.gsfc.nasa.gov:443 \"GET /cgi-bin/tess/webtess/wtv.py?Entry=160.1708305%2C+-3.183068754 HTTP/1.1\" 200 None\n",
      "https://heasarc.gsfc.nasa.gov/cgi-bin/tess/webtess/wtv.py?Entry=<SkyCoord (ICRS): (ra, dec) in deg\n",
      "    (160.1708305, -3.18306875)>\n",
      "[9] <class 'list'>\n",
      "TESS file\n",
      "2491 points masked in lc of 18187\n",
      "NO JUICE Unnamed: 0                                                 1894\n",
      "dec                                                    -3.18307\n",
      "dur                                                           0\n",
      "file          All_OsbornMarttiK2Monos.csv;All_OsbornMarttiK2...\n",
      "id                                                  6.28571e+07\n",
      "mission                                                    TESS\n",
      "ra                                                      160.171\n",
      "tcen                                                       2167\n",
      "Name: 388, dtype: object\n",
      "Breaking because status = COMPLETE\n",
      "TESS object\n",
      "INFO: Query finished. [astroquery.utils.tap.core]\n",
      "INFO  [astropy.launch_job_async()]: Query finished.\n",
      "DEBUG [urllib3.connectionpool._new_conn()]: Starting new HTTPS connection (1): www.aavso.org:443\n",
      "DEBUG [urllib3.connectionpool._make_request()]: https://www.aavso.org:443 \"GET /cgi-bin/apass_dr10_download.pl?ra=35.8931&dec=-37.1106&radius=0.0042&output=csv HTTP/1.1\" 200 618\n",
      "INFO: Query finished. [astroquery.utils.tap.core]\n",
      "INFO  [astropy.launch_job_async()]: Query finished.\n",
      "INFO: Query finished. [astroquery.utils.tap.core]\n",
      "INFO  [astropy.launch_job_async()]: Query finished.\n",
      "INFO: Query finished. [astroquery.utils.tap.core]\n",
      "INFO  [astropy.launch_job_async()]: Query finished.\n",
      "INFO: Query finished. [astroquery.utils.tap.core]\n",
      "INFO  [astropy.launch_job_async()]: Query finished.\n",
      "Isoclassifying\n",
      "54\n",
      "teff 603445\n",
      "lum 35988\n",
      "feh 35988\n",
      "number of models used within non-phot obsconstraints: 35988\n",
      "number of models incl reddening: 35988\n",
      "number of models after phot constraints: 28218\n",
      "----\n",
      "teff 4309.2764754637365 174.6519668410756 198.34431721851342\n",
      "logg 1.8736437208738486 0.20520568495889613 0.17479515260892353\n",
      "feh -0.01848319768835071 0.304680630853379 0.40060375473548226\n",
      "rad 23.55853576091756 2.536139411837148 1.7112924379851684\n",
      "mass 1.5910864453784277 0.7942970505738844 0.5118891761777109\n",
      "rho 0.0001134967486964859 7.69842156751923e-05 4.0428259656585594e-05\n",
      "lum 175.8257267931849 19.06311021339829 16.321752513056907\n",
      "age 2.075334680866705 4.311096558806218 1.3071153841740384\n",
      "avs 0.08618417691848974 0.0007805145926407658 0.0005327324220763818\n",
      "dis 764.6506642316485 61.24381741556056 43.72736389749002\n",
      "DEBUG [urllib3.connectionpool._new_conn()]: Starting new HTTP connection (1): vizier.u-strasbg.fr:80\n",
      "DEBUG [urllib3.connectionpool._make_request()]: http://vizier.u-strasbg.fr:80 \"POST /viz-bin/votable HTTP/1.1\" 200 654\n",
      "DEBUG [urllib3.connectionpool._new_conn()]: Starting new HTTP connection (1): vizier.u-strasbg.fr:80\n",
      "DEBUG [urllib3.connectionpool._make_request()]: http://vizier.u-strasbg.fr:80 \"POST /viz-bin/votable HTTP/1.1\" 200 687\n",
      "DEBUG [urllib3.connectionpool._new_conn()]: Starting new HTTPS connection (1): heasarc.gsfc.nasa.gov:443\n",
      "DEBUG [urllib3.connectionpool._make_request()]: https://heasarc.gsfc.nasa.gov:443 \"GET /cgi-bin/tess/webtess/wtv.py?Entry=35.893%2C+-37.111 HTTP/1.1\" 200 None\n",
      "https://heasarc.gsfc.nasa.gov/cgi-bin/tess/webtess/wtv.py?Entry=<SkyCoord (ICRS): (ra, dec) in deg\n",
      "    (35.893, -37.111)>\n",
      "[3] <class 'list'>\n",
      "TESS file\n",
      "6258 points masked in lc of 19692\n",
      "transit mask: <class 'numpy.ndarray'> 19412 0 <class 'numpy.ndarray'> 19412 True\n",
      "WARNING [matplotlib.legend._parse_legend_args()]: No handles with labels found to put in legend.\n",
      "00 lowSNR, SNR= 0.9356197947122722 SNR_r= 0.5913887948889127 depth: 1.716684927969127e-05 fit: False\n",
      "DEBUG [matplotlib.backends.backend_pdf.fontName()]: Assigning font /b'F1' = '/Users/hosborn/transits/lib/python3.7/site-packages/matplotlib/mpl-data/fonts/ttf/DejaVuSans.ttf'\n",
      "DEBUG [matplotlib.backends.backend_pdf.writeFonts()]: Embedding font /Users/hosborn/transits/lib/python3.7/site-packages/matplotlib/mpl-data/fonts/ttf/DejaVuSans.ttf.\n",
      "DEBUG [matplotlib.backends.backend_pdf.writeFonts()]: Writing TrueType font.\n",
      "Breaking because status = COMPLETE\n",
      "TESS object\n",
      "DEBUG [urllib3.connectionpool._new_conn()]: Starting new HTTP connection (1): vizier.u-strasbg.fr:80\n"
     ]
    },
    {
     "name": "stdout",
     "output_type": "stream",
     "text": [
      "DEBUG [urllib3.connectionpool._make_request()]: http://vizier.u-strasbg.fr:80 \"POST /viz-bin/votable HTTP/1.1\" 200 658\n",
      "DEBUG [urllib3.connectionpool._new_conn()]: Starting new HTTP connection (1): vizier.u-strasbg.fr:80\n",
      "DEBUG [urllib3.connectionpool._make_request()]: http://vizier.u-strasbg.fr:80 \"POST /viz-bin/votable HTTP/1.1\" 200 690\n",
      "DEBUG [urllib3.connectionpool._new_conn()]: Starting new HTTPS connection (1): heasarc.gsfc.nasa.gov:443\n",
      "DEBUG [urllib3.connectionpool._make_request()]: https://heasarc.gsfc.nasa.gov:443 \"GET /cgi-bin/tess/webtess/wtv.py?Entry=181.74358999999998%2C+-58.30731345 HTTP/1.1\" 200 None\n",
      "https://heasarc.gsfc.nasa.gov/cgi-bin/tess/webtess/wtv.py?Entry=<SkyCoord (ICRS): (ra, dec) in deg\n",
      "    (181.74359, -58.30731345)>\n",
      "[10, 11] <class 'list'>\n",
      "TESS file\n",
      "2661 points masked in lc of 18900\n",
      "TESS file\n",
      "3029 points masked in lc of 19527\n",
      "[0, 1]\n",
      "NO JUICE Unnamed: 0                                                 1898\n",
      "dec                                                    -58.3073\n",
      "dur                                                           0\n",
      "file          All_OsbornMarttiK2Monos.csv;All_OsbornMarttiK2...\n",
      "id                                                  6.71394e+07\n",
      "mission                                                    TESS\n",
      "ra                                                      181.744\n",
      "tcen                                                       2167\n",
      "Name: 392, dtype: object\n",
      "Breaking because status = COMPLETE\n",
      "TESS object\n",
      "DEBUG [urllib3.connectionpool._new_conn()]: Starting new HTTP connection (1): vizier.u-strasbg.fr:80\n",
      "DEBUG [urllib3.connectionpool._make_request()]: http://vizier.u-strasbg.fr:80 \"POST /viz-bin/votable HTTP/1.1\" 200 657\n",
      "DEBUG [urllib3.connectionpool._new_conn()]: Starting new HTTP connection (1): vizier.u-strasbg.fr:80\n",
      "DEBUG [urllib3.connectionpool._make_request()]: http://vizier.u-strasbg.fr:80 \"POST /viz-bin/votable HTTP/1.1\" 200 689\n",
      "DEBUG [urllib3.connectionpool._new_conn()]: Starting new HTTPS connection (1): heasarc.gsfc.nasa.gov:443\n",
      "DEBUG [urllib3.connectionpool._make_request()]: https://heasarc.gsfc.nasa.gov:443 \"GET /cgi-bin/tess/webtess/wtv.py?Entry=241.2612647%2C+-29.04915297 HTTP/1.1\" 200 None\n",
      "https://heasarc.gsfc.nasa.gov/cgi-bin/tess/webtess/wtv.py?Entry=<SkyCoord (ICRS): (ra, dec) in deg\n",
      "    (241.2612647, -29.04915297)>\n",
      "[12] <class 'list'>\n",
      "TESS file\n",
      "4433 points masked in lc of 20119\n",
      "NO JUICE Unnamed: 0                                                 1900\n",
      "dec                                                    -29.0492\n",
      "dur                                                           0\n",
      "file          lacourse_jacobs_k2_table.csv;All_OsbornMarttiK...\n",
      "id                                                  6.73714e+07\n",
      "mission                                                    TESS\n",
      "ra                                                      241.261\n",
      "tcen                                                       2167\n",
      "Name: 394, dtype: object\n",
      "Breaking because status = COMPLETE\n",
      "TESS object\n",
      "DEBUG [urllib3.connectionpool._new_conn()]: Starting new HTTP connection (1): vizier.u-strasbg.fr:80\n",
      "DEBUG [urllib3.connectionpool._make_request()]: http://vizier.u-strasbg.fr:80 \"POST /viz-bin/votable HTTP/1.1\" 200 1696\n",
      "DEBUG [urllib3.connectionpool._new_conn()]: Starting new HTTP connection (1): vizier.u-strasbg.fr:80\n",
      "DEBUG [urllib3.connectionpool._make_request()]: http://vizier.u-strasbg.fr:80 \"POST /viz-bin/votable HTTP/1.1\" 200 689\n",
      "DEBUG [urllib3.connectionpool._new_conn()]: Starting new HTTPS connection (1): heasarc.gsfc.nasa.gov:443\n",
      "DEBUG [urllib3.connectionpool._make_request()]: https://heasarc.gsfc.nasa.gov:443 \"GET /cgi-bin/tess/webtess/wtv.py?Entry=243.1829265%2C+-28.64469836 HTTP/1.1\" 200 None\n",
      "https://heasarc.gsfc.nasa.gov/cgi-bin/tess/webtess/wtv.py?Entry=<SkyCoord (ICRS): (ra, dec) in deg\n",
      "    (243.1829265, -28.64469836)>\n",
      "[12] <class 'list'>\n",
      "TESS file\n",
      "4428 points masked in lc of 20119\n",
      "DEBUG [urllib3.connectionpool._new_conn()]: Starting new HTTPS connection (1): exofop.ipac.caltech.edu:443\n",
      "DEBUG [urllib3.connectionpool._make_request()]: https://exofop.ipac.caltech.edu:443 \"GET /k2/download_target.php?id=202711901 HTTP/1.1\" 200 5892\n",
      "K2 campaigns to search: ['2.0']\n",
      "2.0 202711901\n",
      "INFO  [everest.user.DownloadFile()]: Downloading the file...\n",
      "INFO  [everest.user.load_fits()]: Loading FITS file for 202711901.\n",
      "1327 points masked in lc of 3856\n",
      "1 {'time': array([2060.28404839, 2060.30448066, 2060.32491283, ..., 2139.00769592,\n",
      "       2139.02812792, 2139.04855982]), 'flux': array([-0.89541659, -0.88873667, -0.89662108, ...,  0.0017989 ,\n",
      "        0.00193832,  0.00199027]), 'flux_err': array([5.10629442e-05, 5.10871561e-05, 5.10741230e-05, ...,\n",
      "       5.52396431e-05, 5.52386850e-05, 5.52476773e-05]), 'raw_flux': array([246487.87814331, 246823.4984436 , 246588.4777832 , ...,\n",
      "       278654.47619629, 278781.48388672, 278888.09051514]), 'raw_flux_err': array([5.10629442e-05, 5.10871561e-05, 5.10741230e-05, ...,\n",
      "       5.52396431e-05, 5.52386850e-05, 5.52476773e-05]), 'quality': array([4194312, 4194304, 4194304, ...,   16384,   16384,   16384],\n",
      "      dtype=int32), 'mask': array([False, False, False, ..., False, False, False]), 'cadence': array(['k29', 'k29', 'k29', ..., 'k29', 'k29', 'k29'], dtype='<U3'), 'flux_unit': 1.0}\n",
      "[0]\n",
      "DEBUG [urllib3.connectionpool._new_conn()]: Starting new HTTP connection (1): archive.stsci.edu:80\n",
      "DEBUG [urllib3.connectionpool._make_request()]: http://archive.stsci.edu:80 \"GET /missions/hlsp/k2sff/c02/202700000/11901/hlsp_k2sff_k2_lightcurve_202711901-c02_kepler_v1_llc.fits HTTP/1.1\" 302 307\n",
      "DEBUG [urllib3.connectionpool._new_conn()]: Starting new HTTPS connection (1): archive.stsci.edu:443\n",
      "DEBUG [urllib3.connectionpool._make_request()]: https://archive.stsci.edu:443 \"GET /missions/hlsp/k2sff/c02/202700000/11901/hlsp_k2sff_k2_lightcurve_202711901-c02_kepler_v1_llc.fits HTTP/1.1\" 200 3251520\n",
      "40 points masked in lc of 3459\n",
      "Extracted vanderburg LC from  http://archive.stsci.edu/missions/hlsp/k2sff/c02/202700000/11901/hlsp_k2sff_k2_lightcurve_202711901-c02_kepler_v1_llc.fits\n",
      "[0]\n",
      "[0]\n",
      "{'cadence': array(['k29', 'k29', 'k29', ..., 'k29', 'k29', 'k29'], dtype='<U3'), 'flux': array([-0.89541659, -0.88873667, -0.89662108, ...,  0.0017989 ,\n",
      "        0.00193832,  0.00199027]), 'flux_err': array([5.10629442e-05, 5.10871561e-05, 5.10741230e-05, ...,\n",
      "       5.52396431e-05, 5.52386850e-05, 5.52476773e-05]), 'flux_unit': 1.0, 'mask': array([False, False, False, ..., False, False, False]), 'quality': array([4194312, 4194304, 4194304, ...,   16384,   16384,   16384],\n",
      "      dtype=int32), 'raw_flux': array([246487.87814331, 246823.4984436 , 246588.4777832 , ...,\n",
      "       278654.47619629, 278781.48388672, 278888.09051514]), 'raw_flux_err': array([5.10629442e-05, 5.10871561e-05, 5.10741230e-05, ...,\n",
      "       5.52396431e-05, 5.52386850e-05, 5.52476773e-05]), 'time': array([2060.28404839, 2060.30448066, 2060.32491283, ..., 2139.00769592,\n",
      "       2139.02812792, 2139.04855982])}\n",
      "[0, 1]\n",
      "NO JUICE Unnamed: 0                                                 1902\n",
      "dec                                                    -28.6447\n",
      "dur                                                           0\n",
      "file          All_OsbornMarttiK2Monos.csv;All_OsbornMarttiK2...\n",
      "id                                                  6.83267e+07\n",
      "mission                                                    TESS\n",
      "ra                                                      243.183\n",
      "tcen                                                       2167\n",
      "Name: 396, dtype: object\n",
      "Breaking because status = COMPLETE\n",
      "TESS object\n",
      "DEBUG [urllib3.connectionpool._new_conn()]: Starting new HTTP connection (1): vizier.u-strasbg.fr:80\n",
      "DEBUG [urllib3.connectionpool._make_request()]: http://vizier.u-strasbg.fr:80 \"POST /viz-bin/votable HTTP/1.1\" 200 657\n",
      "DEBUG [urllib3.connectionpool._new_conn()]: Starting new HTTP connection (1): vizier.u-strasbg.fr:80\n",
      "DEBUG [urllib3.connectionpool._make_request()]: http://vizier.u-strasbg.fr:80 \"POST /viz-bin/votable HTTP/1.1\" 200 689\n",
      "DEBUG [urllib3.connectionpool._new_conn()]: Starting new HTTPS connection (1): heasarc.gsfc.nasa.gov:443\n",
      "DEBUG [urllib3.connectionpool._make_request()]: https://heasarc.gsfc.nasa.gov:443 \"GET /cgi-bin/tess/webtess/wtv.py?Entry=339.063406%2C+-21.677484 HTTP/1.1\" 200 None\n"
     ]
    },
    {
     "name": "stdout",
     "output_type": "stream",
     "text": [
      "https://heasarc.gsfc.nasa.gov/cgi-bin/tess/webtess/wtv.py?Entry=<SkyCoord (ICRS): (ra, dec) in deg\n",
      "    (339.063406, -21.677484)>\n",
      "[2] <class 'list'>\n",
      "TESS file\n",
      "1692 points masked in lc of 19737\n",
      "NO JUICE Unnamed: 0                                                 1904\n",
      "dec                                                    -21.6775\n",
      "dur                                                           0\n",
      "file          All_OsbornMarttiK2Monos.csv;All_OsbornMarttiK2...\n",
      "id                                                  6.99113e+07\n",
      "mission                                                    TESS\n",
      "ra                                                      339.063\n",
      "tcen                                                       2167\n",
      "Name: 398, dtype: object\n",
      "Breaking because status = COMPLETE\n",
      "TESS object\n",
      "DEBUG [urllib3.connectionpool._new_conn()]: Starting new HTTP connection (1): vizier.u-strasbg.fr:80\n",
      "DEBUG [urllib3.connectionpool._make_request()]: http://vizier.u-strasbg.fr:80 \"POST /viz-bin/votable HTTP/1.1\" 200 657\n",
      "DEBUG [urllib3.connectionpool._new_conn()]: Starting new HTTP connection (1): vizier.u-strasbg.fr:80\n",
      "DEBUG [urllib3.connectionpool._make_request()]: http://vizier.u-strasbg.fr:80 \"POST /viz-bin/votable HTTP/1.1\" 200 689\n",
      "DEBUG [urllib3.connectionpool._new_conn()]: Starting new HTTPS connection (1): heasarc.gsfc.nasa.gov:443\n",
      "DEBUG [urllib3.connectionpool._make_request()]: https://heasarc.gsfc.nasa.gov:443 \"GET /cgi-bin/tess/webtess/wtv.py?Entry=203.167%2C+-38.846 HTTP/1.1\" 200 None\n",
      "https://heasarc.gsfc.nasa.gov/cgi-bin/tess/webtess/wtv.py?Entry=<SkyCoord (ICRS): (ra, dec) in deg\n",
      "    (203.167, -38.846)>\n",
      "[11] <class 'list'>\n",
      "TESS file\n",
      "5660 points masked in lc of 19527\n",
      "transit mask: <class 'numpy.ndarray'> 18749 0 <class 'numpy.ndarray'> 18749 True\n"
     ]
    },
    {
     "name": "stderr",
     "output_type": "stream",
     "text": [
      "INFO (theano.gof.compilelock): Waiting for existing lock by process '20511' (I am process '19630')\n"
     ]
    },
    {
     "name": "stdout",
     "output_type": "stream",
     "text": [
      "INFO  [theano.gof.compilelock.lock()]: Waiting for existing lock by process '20511' (I am process '19630')\n"
     ]
    },
    {
     "name": "stderr",
     "output_type": "stream",
     "text": [
      "INFO (theano.gof.compilelock): To manually release the lock, delete /Users/hosborn/.theano/compiledir_Darwin-19.3.0-x86_64-i386-64bit-i386-3.7.6-64/lock_dir\n"
     ]
    },
    {
     "name": "stdout",
     "output_type": "stream",
     "text": [
      "INFO  [theano.gof.compilelock.lock()]: To manually release the lock, delete /Users/hosborn/.theano/compiledir_Darwin-19.3.0-x86_64-i386-64bit-i386-3.7.6-64/lock_dir\n"
     ]
    },
    {
     "name": "stderr",
     "output_type": "stream",
     "text": [
      "INFO (theano.gof.compilelock): Waiting for existing lock by process '20511' (I am process '19630')\n"
     ]
    },
    {
     "name": "stdout",
     "output_type": "stream",
     "text": [
      "INFO  [theano.gof.compilelock.lock()]: Waiting for existing lock by process '20511' (I am process '19630')\n"
     ]
    },
    {
     "name": "stderr",
     "output_type": "stream",
     "text": [
      "INFO (theano.gof.compilelock): To manually release the lock, delete /Users/hosborn/.theano/compiledir_Darwin-19.3.0-x86_64-i386-64bit-i386-3.7.6-64/lock_dir\n"
     ]
    },
    {
     "name": "stdout",
     "output_type": "stream",
     "text": [
      "INFO  [theano.gof.compilelock.lock()]: To manually release the lock, delete /Users/hosborn/.theano/compiledir_Darwin-19.3.0-x86_64-i386-64bit-i386-3.7.6-64/lock_dir\n"
     ]
    },
    {
     "name": "stderr",
     "output_type": "stream",
     "text": [
      "INFO (theano.gof.compilelock): Waiting for existing lock by process '20511' (I am process '19630')\n"
     ]
    },
    {
     "name": "stdout",
     "output_type": "stream",
     "text": [
      "INFO  [theano.gof.compilelock.lock()]: Waiting for existing lock by process '20511' (I am process '19630')\n"
     ]
    },
    {
     "name": "stderr",
     "output_type": "stream",
     "text": [
      "INFO (theano.gof.compilelock): To manually release the lock, delete /Users/hosborn/.theano/compiledir_Darwin-19.3.0-x86_64-i386-64bit-i386-3.7.6-64/lock_dir\n"
     ]
    },
    {
     "name": "stdout",
     "output_type": "stream",
     "text": [
      "INFO  [theano.gof.compilelock.lock()]: To manually release the lock, delete /Users/hosborn/.theano/compiledir_Darwin-19.3.0-x86_64-i386-64bit-i386-3.7.6-64/lock_dir\n"
     ]
    },
    {
     "name": "stderr",
     "output_type": "stream",
     "text": [
      "INFO (theano.gof.compilelock): Waiting for existing lock by process '20511' (I am process '19630')\n"
     ]
    },
    {
     "name": "stdout",
     "output_type": "stream",
     "text": [
      "INFO  [theano.gof.compilelock.lock()]: Waiting for existing lock by process '20511' (I am process '19630')\n"
     ]
    },
    {
     "name": "stderr",
     "output_type": "stream",
     "text": [
      "INFO (theano.gof.compilelock): To manually release the lock, delete /Users/hosborn/.theano/compiledir_Darwin-19.3.0-x86_64-i386-64bit-i386-3.7.6-64/lock_dir\n"
     ]
    },
    {
     "name": "stdout",
     "output_type": "stream",
     "text": [
      "INFO  [theano.gof.compilelock.lock()]: To manually release the lock, delete /Users/hosborn/.theano/compiledir_Darwin-19.3.0-x86_64-i386-64bit-i386-3.7.6-64/lock_dir\n"
     ]
    },
    {
     "name": "stderr",
     "output_type": "stream",
     "text": [
      "INFO (theano.gof.compilelock): Waiting for existing lock by process '20511' (I am process '19630')\n"
     ]
    },
    {
     "name": "stdout",
     "output_type": "stream",
     "text": [
      "INFO  [theano.gof.compilelock.lock()]: Waiting for existing lock by process '20511' (I am process '19630')\n"
     ]
    },
    {
     "name": "stderr",
     "output_type": "stream",
     "text": [
      "INFO (theano.gof.compilelock): To manually release the lock, delete /Users/hosborn/.theano/compiledir_Darwin-19.3.0-x86_64-i386-64bit-i386-3.7.6-64/lock_dir\n"
     ]
    },
    {
     "name": "stdout",
     "output_type": "stream",
     "text": [
      "INFO  [theano.gof.compilelock.lock()]: To manually release the lock, delete /Users/hosborn/.theano/compiledir_Darwin-19.3.0-x86_64-i386-64bit-i386-3.7.6-64/lock_dir\n"
     ]
    },
    {
     "name": "stderr",
     "output_type": "stream",
     "text": [
      "INFO (theano.gof.compilelock): Waiting for existing lock by process '20511' (I am process '19630')\n"
     ]
    },
    {
     "name": "stdout",
     "output_type": "stream",
     "text": [
      "INFO  [theano.gof.compilelock.lock()]: Waiting for existing lock by process '20511' (I am process '19630')\n"
     ]
    },
    {
     "name": "stderr",
     "output_type": "stream",
     "text": [
      "INFO (theano.gof.compilelock): To manually release the lock, delete /Users/hosborn/.theano/compiledir_Darwin-19.3.0-x86_64-i386-64bit-i386-3.7.6-64/lock_dir\n"
     ]
    },
    {
     "name": "stdout",
     "output_type": "stream",
     "text": [
      "INFO  [theano.gof.compilelock.lock()]: To manually release the lock, delete /Users/hosborn/.theano/compiledir_Darwin-19.3.0-x86_64-i386-64bit-i386-3.7.6-64/lock_dir\n"
     ]
    },
    {
     "name": "stderr",
     "output_type": "stream",
     "text": [
      "INFO (theano.gof.compilelock): Waiting for existing lock by process '20511' (I am process '19630')\n"
     ]
    },
    {
     "name": "stdout",
     "output_type": "stream",
     "text": [
      "INFO  [theano.gof.compilelock.lock()]: Waiting for existing lock by process '20511' (I am process '19630')\n"
     ]
    },
    {
     "name": "stderr",
     "output_type": "stream",
     "text": [
      "INFO (theano.gof.compilelock): To manually release the lock, delete /Users/hosborn/.theano/compiledir_Darwin-19.3.0-x86_64-i386-64bit-i386-3.7.6-64/lock_dir\n"
     ]
    },
    {
     "name": "stdout",
     "output_type": "stream",
     "text": [
      "INFO  [theano.gof.compilelock.lock()]: To manually release the lock, delete /Users/hosborn/.theano/compiledir_Darwin-19.3.0-x86_64-i386-64bit-i386-3.7.6-64/lock_dir\n"
     ]
    },
    {
     "name": "stderr",
     "output_type": "stream",
     "text": [
      "INFO (theano.gof.compilelock): Waiting for existing lock by process '20511' (I am process '19630')\n"
     ]
    },
    {
     "name": "stdout",
     "output_type": "stream",
     "text": [
      "INFO  [theano.gof.compilelock.lock()]: Waiting for existing lock by process '20511' (I am process '19630')\n"
     ]
    },
    {
     "name": "stderr",
     "output_type": "stream",
     "text": [
      "INFO (theano.gof.compilelock): To manually release the lock, delete /Users/hosborn/.theano/compiledir_Darwin-19.3.0-x86_64-i386-64bit-i386-3.7.6-64/lock_dir\n"
     ]
    },
    {
     "name": "stdout",
     "output_type": "stream",
     "text": [
      "INFO  [theano.gof.compilelock.lock()]: To manually release the lock, delete /Users/hosborn/.theano/compiledir_Darwin-19.3.0-x86_64-i386-64bit-i386-3.7.6-64/lock_dir\n",
      "00 - Checks complete.  SNR: 7.134361  SNR_r: 9.623195  variability: -6.79848  centroid: 12.17592 | flag: planet\n",
      "DEBUG [matplotlib.backends.backend_pdf.fontName()]: Assigning font /b'F1' = '/Users/hosborn/transits/lib/python3.7/site-packages/matplotlib/mpl-data/fonts/ttf/DejaVuSans.ttf'\n",
      "DEBUG [matplotlib.backends.backend_pdf.writeFonts()]: Embedding font /Users/hosborn/transits/lib/python3.7/site-packages/matplotlib/mpl-data/fonts/ttf/DejaVuSans.ttf.\n",
      "DEBUG [matplotlib.backends.backend_pdf.writeFonts()]: Writing TrueType font.\n",
      "Breaking because status = COMPLETE\n",
      "TESS object\n",
      "DEBUG [urllib3.connectionpool._new_conn()]: Starting new HTTP connection (1): vizier.u-strasbg.fr:80\n",
      "DEBUG [urllib3.connectionpool._make_request()]: http://vizier.u-strasbg.fr:80 \"POST /viz-bin/votable HTTP/1.1\" 200 656\n",
      "DEBUG [urllib3.connectionpool._new_conn()]: Starting new HTTP connection (1): vizier.u-strasbg.fr:80\n",
      "DEBUG [urllib3.connectionpool._make_request()]: http://vizier.u-strasbg.fr:80 \"POST /viz-bin/votable HTTP/1.1\" 200 689\n",
      "DEBUG [urllib3.connectionpool._new_conn()]: Starting new HTTPS connection (1): heasarc.gsfc.nasa.gov:443\n",
      "DEBUG [urllib3.connectionpool._make_request()]: https://heasarc.gsfc.nasa.gov:443 \"GET /cgi-bin/tess/webtess/wtv.py?Entry=63.857%2C+-16.902 HTTP/1.1\" 200 None\n",
      "https://heasarc.gsfc.nasa.gov/cgi-bin/tess/webtess/wtv.py?Entry=<SkyCoord (ICRS): (ra, dec) in deg\n",
      "    (63.857, -16.902)>\n",
      "[5] <class 'list'>\n",
      "TESS file\n",
      "1097 points masked in lc of 18944\n",
      "transit mask: <class 'numpy.ndarray'> 17971 0 <class 'numpy.ndarray'> 17971 True\n"
     ]
    },
    {
     "name": "stderr",
     "output_type": "stream",
     "text": [
      "INFO (theano.gof.compilelock): Waiting for existing lock by process '20511' (I am process '19630')\n"
     ]
    },
    {
     "name": "stdout",
     "output_type": "stream",
     "text": [
      "INFO  [theano.gof.compilelock.lock()]: Waiting for existing lock by process '20511' (I am process '19630')\n"
     ]
    },
    {
     "name": "stderr",
     "output_type": "stream",
     "text": [
      "INFO (theano.gof.compilelock): To manually release the lock, delete /Users/hosborn/.theano/compiledir_Darwin-19.3.0-x86_64-i386-64bit-i386-3.7.6-64/lock_dir\n"
     ]
    },
    {
     "name": "stdout",
     "output_type": "stream",
     "text": [
      "INFO  [theano.gof.compilelock.lock()]: To manually release the lock, delete /Users/hosborn/.theano/compiledir_Darwin-19.3.0-x86_64-i386-64bit-i386-3.7.6-64/lock_dir\n"
     ]
    },
    {
     "name": "stderr",
     "output_type": "stream",
     "text": [
      "INFO (theano.gof.compilelock): Waiting for existing lock by process '20511' (I am process '19630')\n"
     ]
    },
    {
     "name": "stdout",
     "output_type": "stream",
     "text": [
      "INFO  [theano.gof.compilelock.lock()]: Waiting for existing lock by process '20511' (I am process '19630')\n"
     ]
    },
    {
     "name": "stderr",
     "output_type": "stream",
     "text": [
      "INFO (theano.gof.compilelock): To manually release the lock, delete /Users/hosborn/.theano/compiledir_Darwin-19.3.0-x86_64-i386-64bit-i386-3.7.6-64/lock_dir\n"
     ]
    },
    {
     "name": "stdout",
     "output_type": "stream",
     "text": [
      "INFO  [theano.gof.compilelock.lock()]: To manually release the lock, delete /Users/hosborn/.theano/compiledir_Darwin-19.3.0-x86_64-i386-64bit-i386-3.7.6-64/lock_dir\n"
     ]
    },
    {
     "name": "stderr",
     "output_type": "stream",
     "text": [
      "INFO (theano.gof.compilelock): Waiting for existing lock by process '20511' (I am process '19630')\n"
     ]
    },
    {
     "name": "stdout",
     "output_type": "stream",
     "text": [
      "INFO  [theano.gof.compilelock.lock()]: Waiting for existing lock by process '20511' (I am process '19630')\n"
     ]
    },
    {
     "name": "stderr",
     "output_type": "stream",
     "text": [
      "INFO (theano.gof.compilelock): To manually release the lock, delete /Users/hosborn/.theano/compiledir_Darwin-19.3.0-x86_64-i386-64bit-i386-3.7.6-64/lock_dir\n"
     ]
    },
    {
     "name": "stdout",
     "output_type": "stream",
     "text": [
      "INFO  [theano.gof.compilelock.lock()]: To manually release the lock, delete /Users/hosborn/.theano/compiledir_Darwin-19.3.0-x86_64-i386-64bit-i386-3.7.6-64/lock_dir\n"
     ]
    },
    {
     "name": "stderr",
     "output_type": "stream",
     "text": [
      "INFO (theano.gof.compilelock): Waiting for existing lock by process '20511' (I am process '19630')\n"
     ]
    },
    {
     "name": "stdout",
     "output_type": "stream",
     "text": [
      "INFO  [theano.gof.compilelock.lock()]: Waiting for existing lock by process '20511' (I am process '19630')\n"
     ]
    },
    {
     "name": "stderr",
     "output_type": "stream",
     "text": [
      "INFO (theano.gof.compilelock): To manually release the lock, delete /Users/hosborn/.theano/compiledir_Darwin-19.3.0-x86_64-i386-64bit-i386-3.7.6-64/lock_dir\n"
     ]
    },
    {
     "name": "stdout",
     "output_type": "stream",
     "text": [
      "INFO  [theano.gof.compilelock.lock()]: To manually release the lock, delete /Users/hosborn/.theano/compiledir_Darwin-19.3.0-x86_64-i386-64bit-i386-3.7.6-64/lock_dir\n"
     ]
    },
    {
     "name": "stderr",
     "output_type": "stream",
     "text": [
      "INFO (theano.gof.compilelock): Waiting for existing lock by process '20511' (I am process '19630')\n"
     ]
    },
    {
     "name": "stdout",
     "output_type": "stream",
     "text": [
      "INFO  [theano.gof.compilelock.lock()]: Waiting for existing lock by process '20511' (I am process '19630')\n"
     ]
    },
    {
     "name": "stderr",
     "output_type": "stream",
     "text": [
      "INFO (theano.gof.compilelock): To manually release the lock, delete /Users/hosborn/.theano/compiledir_Darwin-19.3.0-x86_64-i386-64bit-i386-3.7.6-64/lock_dir\n"
     ]
    },
    {
     "name": "stdout",
     "output_type": "stream",
     "text": [
      "INFO  [theano.gof.compilelock.lock()]: To manually release the lock, delete /Users/hosborn/.theano/compiledir_Darwin-19.3.0-x86_64-i386-64bit-i386-3.7.6-64/lock_dir\n"
     ]
    },
    {
     "name": "stderr",
     "output_type": "stream",
     "text": [
      "INFO (theano.gof.compilelock): Waiting for existing lock by process '20511' (I am process '19630')\n"
     ]
    },
    {
     "name": "stdout",
     "output_type": "stream",
     "text": [
      "INFO  [theano.gof.compilelock.lock()]: Waiting for existing lock by process '20511' (I am process '19630')\n"
     ]
    },
    {
     "name": "stderr",
     "output_type": "stream",
     "text": [
      "INFO (theano.gof.compilelock): To manually release the lock, delete /Users/hosborn/.theano/compiledir_Darwin-19.3.0-x86_64-i386-64bit-i386-3.7.6-64/lock_dir\n"
     ]
    },
    {
     "name": "stdout",
     "output_type": "stream",
     "text": [
      "INFO  [theano.gof.compilelock.lock()]: To manually release the lock, delete /Users/hosborn/.theano/compiledir_Darwin-19.3.0-x86_64-i386-64bit-i386-3.7.6-64/lock_dir\n"
     ]
    },
    {
     "name": "stderr",
     "output_type": "stream",
     "text": [
      "INFO (theano.gof.compilelock): Waiting for existing lock by process '20511' (I am process '19630')\n"
     ]
    },
    {
     "name": "stdout",
     "output_type": "stream",
     "text": [
      "INFO  [theano.gof.compilelock.lock()]: Waiting for existing lock by process '20511' (I am process '19630')\n"
     ]
    },
    {
     "name": "stderr",
     "output_type": "stream",
     "text": [
      "INFO (theano.gof.compilelock): To manually release the lock, delete /Users/hosborn/.theano/compiledir_Darwin-19.3.0-x86_64-i386-64bit-i386-3.7.6-64/lock_dir\n"
     ]
    },
    {
     "name": "stdout",
     "output_type": "stream",
     "text": [
      "INFO  [theano.gof.compilelock.lock()]: To manually release the lock, delete /Users/hosborn/.theano/compiledir_Darwin-19.3.0-x86_64-i386-64bit-i386-3.7.6-64/lock_dir\n"
     ]
    },
    {
     "name": "stderr",
     "output_type": "stream",
     "text": [
      "INFO (theano.gof.compilelock): Waiting for existing lock by process '20511' (I am process '19630')\n"
     ]
    },
    {
     "name": "stdout",
     "output_type": "stream",
     "text": [
      "INFO  [theano.gof.compilelock.lock()]: Waiting for existing lock by process '20511' (I am process '19630')\n"
     ]
    },
    {
     "name": "stderr",
     "output_type": "stream",
     "text": [
      "INFO (theano.gof.compilelock): To manually release the lock, delete /Users/hosborn/.theano/compiledir_Darwin-19.3.0-x86_64-i386-64bit-i386-3.7.6-64/lock_dir\n"
     ]
    },
    {
     "name": "stdout",
     "output_type": "stream",
     "text": [
      "INFO  [theano.gof.compilelock.lock()]: To manually release the lock, delete /Users/hosborn/.theano/compiledir_Darwin-19.3.0-x86_64-i386-64bit-i386-3.7.6-64/lock_dir\n"
     ]
    },
    {
     "name": "stderr",
     "output_type": "stream",
     "text": [
      "INFO (theano.gof.compilelock): Waiting for existing lock by process '20511' (I am process '19630')\n"
     ]
    },
    {
     "name": "stdout",
     "output_type": "stream",
     "text": [
      "INFO  [theano.gof.compilelock.lock()]: Waiting for existing lock by process '20511' (I am process '19630')\n"
     ]
    },
    {
     "name": "stderr",
     "output_type": "stream",
     "text": [
      "INFO (theano.gof.compilelock): To manually release the lock, delete /Users/hosborn/.theano/compiledir_Darwin-19.3.0-x86_64-i386-64bit-i386-3.7.6-64/lock_dir\n"
     ]
    },
    {
     "name": "stdout",
     "output_type": "stream",
     "text": [
      "INFO  [theano.gof.compilelock.lock()]: To manually release the lock, delete /Users/hosborn/.theano/compiledir_Darwin-19.3.0-x86_64-i386-64bit-i386-3.7.6-64/lock_dir\n"
     ]
    },
    {
     "name": "stderr",
     "output_type": "stream",
     "text": [
      "INFO (theano.gof.compilelock): Waiting for existing lock by process '20511' (I am process '19630')\n"
     ]
    },
    {
     "name": "stdout",
     "output_type": "stream",
     "text": [
      "INFO  [theano.gof.compilelock.lock()]: Waiting for existing lock by process '20511' (I am process '19630')\n"
     ]
    },
    {
     "name": "stderr",
     "output_type": "stream",
     "text": [
      "INFO (theano.gof.compilelock): To manually release the lock, delete /Users/hosborn/.theano/compiledir_Darwin-19.3.0-x86_64-i386-64bit-i386-3.7.6-64/lock_dir\n"
     ]
    },
    {
     "name": "stdout",
     "output_type": "stream",
     "text": [
      "INFO  [theano.gof.compilelock.lock()]: To manually release the lock, delete /Users/hosborn/.theano/compiledir_Darwin-19.3.0-x86_64-i386-64bit-i386-3.7.6-64/lock_dir\n"
     ]
    },
    {
     "name": "stderr",
     "output_type": "stream",
     "text": [
      "INFO (theano.gof.compilelock): Waiting for existing lock by process '20511' (I am process '19630')\n"
     ]
    },
    {
     "name": "stdout",
     "output_type": "stream",
     "text": [
      "INFO  [theano.gof.compilelock.lock()]: Waiting for existing lock by process '20511' (I am process '19630')\n"
     ]
    },
    {
     "name": "stderr",
     "output_type": "stream",
     "text": [
      "INFO (theano.gof.compilelock): To manually release the lock, delete /Users/hosborn/.theano/compiledir_Darwin-19.3.0-x86_64-i386-64bit-i386-3.7.6-64/lock_dir\n"
     ]
    },
    {
     "name": "stdout",
     "output_type": "stream",
     "text": [
      "INFO  [theano.gof.compilelock.lock()]: To manually release the lock, delete /Users/hosborn/.theano/compiledir_Darwin-19.3.0-x86_64-i386-64bit-i386-3.7.6-64/lock_dir\n"
     ]
    },
    {
     "name": "stderr",
     "output_type": "stream",
     "text": [
      "INFO (theano.gof.compilelock): Waiting for existing lock by process '20511' (I am process '19630')\n"
     ]
    },
    {
     "name": "stdout",
     "output_type": "stream",
     "text": [
      "INFO  [theano.gof.compilelock.lock()]: Waiting for existing lock by process '20511' (I am process '19630')\n"
     ]
    },
    {
     "name": "stderr",
     "output_type": "stream",
     "text": [
      "INFO (theano.gof.compilelock): To manually release the lock, delete /Users/hosborn/.theano/compiledir_Darwin-19.3.0-x86_64-i386-64bit-i386-3.7.6-64/lock_dir\n"
     ]
    },
    {
     "name": "stdout",
     "output_type": "stream",
     "text": [
      "INFO  [theano.gof.compilelock.lock()]: To manually release the lock, delete /Users/hosborn/.theano/compiledir_Darwin-19.3.0-x86_64-i386-64bit-i386-3.7.6-64/lock_dir\n",
      "00 - Checks complete.  SNR: 41.27826  SNR_r: 53.68971  variability: -817.006  centroid: 12.86903 | flag: planet\n",
      "DEBUG [matplotlib.backends.backend_pdf.fontName()]: Assigning font /b'F1' = '/Users/hosborn/transits/lib/python3.7/site-packages/matplotlib/mpl-data/fonts/ttf/DejaVuSans.ttf'\n",
      "DEBUG [matplotlib.backends.backend_pdf.writeFonts()]: Embedding font /Users/hosborn/transits/lib/python3.7/site-packages/matplotlib/mpl-data/fonts/ttf/DejaVuSans.ttf.\n",
      "DEBUG [matplotlib.backends.backend_pdf.writeFonts()]: Writing TrueType font.\n",
      "Breaking because status = COMPLETE\n",
      "TESS object\n",
      "INFO: Query finished. [astroquery.utils.tap.core]\n",
      "INFO  [astropy.launch_job_async()]: Query finished.\n",
      "DEBUG [urllib3.connectionpool._new_conn()]: Starting new HTTPS connection (1): www.aavso.org:443\n",
      "DEBUG [urllib3.connectionpool._make_request()]: https://www.aavso.org:443 \"GET /cgi-bin/apass_dr10_download.pl?ra=186.4360&dec=-46.8861&radius=0.0042&output=csv HTTP/1.1\" 200 620\n",
      "INFO: Query finished. [astroquery.utils.tap.core]\n",
      "INFO  [astropy.launch_job_async()]: Query finished.\n",
      "INFO: Query finished. [astroquery.utils.tap.core]\n",
      "INFO  [astropy.launch_job_async()]: Query finished.\n",
      "INFO: Query finished. [astroquery.utils.tap.core]\n",
      "INFO  [astropy.launch_job_async()]: Query finished.\n",
      "INFO: Query finished. [astroquery.utils.tap.core]\n",
      "INFO  [astropy.launch_job_async()]: Query finished.\n",
      "No BV for 72178247\n",
      "No 2MASS for 72178247\n",
      "No griz for 72178247\n",
      "Isoclassifying\n",
      "54\n",
      "teff 3339419\n",
      "feh 1094124\n",
      "number of models used within non-phot obsconstraints: 1094124\n",
      "number of models incl reddening: 1094124\n",
      "number of models after phot constraints: 0\n",
      "----\n",
      "No BV for 72178247\n",
      "No 2MASS for 72178247\n",
      "No griz for 72178247\n",
      "Isoclassifying\n",
      "54\n",
      "teff 3339419\n",
      "feh 1094124\n",
      "number of models used within non-phot obsconstraints: 1094124\n",
      "number of models incl reddening: 1094124\n",
      "number of models after phot constraints: 0\n",
      "----\n",
      "No BV for 72178247\n",
      "No 2MASS for 72178247\n",
      "No griz for 72178247\n",
      "Isoclassifying\n",
      "54\n",
      "teff 3339419\n",
      "feh 1094124\n",
      "number of models used within non-phot obsconstraints: 1094124\n",
      "number of models incl reddening: 1094124\n",
      "number of models after phot constraints: 0\n",
      "----\n",
      "No BV for 72178247\n",
      "No 2MASS for 72178247\n",
      "No griz for 72178247\n",
      "Isoclassifying\n",
      "54\n",
      "teff 3339419\n",
      "feh 1094124\n",
      "number of models used within non-phot obsconstraints: 1094124\n",
      "number of models incl reddening: 1094124\n",
      "number of models after phot constraints: 0\n",
      "----\n",
      "No Gaia mag for 72178247\n",
      "No BV for 72178247\n",
      "No 2MASS for 72178247\n",
      "No griz for 72178247\n",
      "Isoclassifying\n",
      "54\n",
      "NO JUICE Unnamed: 0                                                 1910\n",
      "dec                                                    -46.8861\n",
      "dur                                                           0\n",
      "file          lacourse_jacobs_k2_table.csv;All_OsbornMarttiK...\n",
      "id                                                  7.21782e+07\n",
      "mission                                                    TESS\n",
      "ra                                                      186.436\n",
      "tcen                                                       2167\n",
      "Name: 404, dtype: object\n",
      "Breaking because status = COMPLETE\n",
      "TESS object\n",
      "DEBUG [urllib3.connectionpool._new_conn()]: Starting new HTTP connection (1): vizier.u-strasbg.fr:80\n",
      "DEBUG [urllib3.connectionpool._make_request()]: http://vizier.u-strasbg.fr:80 \"POST /viz-bin/votable HTTP/1.1\" 200 655\n",
      "DEBUG [urllib3.connectionpool._new_conn()]: Starting new HTTP connection (1): vizier.u-strasbg.fr:80\n",
      "DEBUG [urllib3.connectionpool._make_request()]: http://vizier.u-strasbg.fr:80 \"POST /viz-bin/votable HTTP/1.1\" 200 687\n",
      "DEBUG [urllib3.connectionpool._new_conn()]: Starting new HTTPS connection (1): heasarc.gsfc.nasa.gov:443\n",
      "DEBUG [urllib3.connectionpool._make_request()]: https://heasarc.gsfc.nasa.gov:443 \"GET /cgi-bin/tess/webtess/wtv.py?Entry=209.2133242%2C+-26.02214789 HTTP/1.1\" 200 None\n",
      "https://heasarc.gsfc.nasa.gov/cgi-bin/tess/webtess/wtv.py?Entry=<SkyCoord (ICRS): (ra, dec) in deg\n",
      "    (209.2133242, -26.02214789)>\n",
      "[11] <class 'list'>\n",
      "TESS file\n",
      "5655 points masked in lc of 19527\n",
      "NO JUICE Unnamed: 0                                                 1912\n",
      "dec                                                    -26.0221\n",
      "dur                                                           0\n",
      "file          All_OsbornMarttiK2Monos.csv;All_OsbornMarttiK2...\n",
      "id                                                  7.27448e+07\n",
      "mission                                                    TESS\n",
      "ra                                                      209.213\n",
      "tcen                                                       2167\n",
      "Name: 406, dtype: object\n",
      "Breaking because status = COMPLETE\n",
      "TESS object\n",
      "INFO: Query finished. [astroquery.utils.tap.core]\n",
      "INFO  [astropy.launch_job_async()]: Query finished.\n",
      "DEBUG [urllib3.connectionpool._new_conn()]: Starting new HTTPS connection (1): www.aavso.org:443\n",
      "DEBUG [urllib3.connectionpool._make_request()]: https://www.aavso.org:443 \"GET /cgi-bin/apass_dr10_download.pl?ra=188.7667&dec=-42.4292&radius=0.0042&output=csv HTTP/1.1\" 200 622\n",
      "INFO: Query finished. [astroquery.utils.tap.core]\n",
      "INFO  [astropy.launch_job_async()]: Query finished.\n",
      "INFO: Query finished. [astroquery.utils.tap.core]\n",
      "INFO  [astropy.launch_job_async()]: Query finished.\n"
     ]
    }
   ],
   "source": [
    "for ix,dat in cands.iterrows():\n",
    "    try:\n",
    "        file_loc=tools.MonoData_savepath+'/'+tools.id_dic[dat['mission']]+str(int(dat['id'])).zfill(11)\n",
    "        if not os.path.isdir(file_loc):\n",
    "            os.system('mkdir '+file_loc)\n",
    "        file_prefix=file_loc+\"/\"+tools.id_dic[dat['mission']]+str(int(dat['id'])).zfill(11)\n",
    "        if not os.path.exists(file_prefix+\"_CandMonoInfo.csv\"):\n",
    "            if not pd.isnull(dat['ra']):\n",
    "                radec=SkyCoord(float(dat['ra'])*u.deg,float(dat['dec'])*u.deg)\n",
    "            else:\n",
    "                radec=None\n",
    "            #loading Rstar,Tess, logg and rho from csvs:\n",
    "            if not os.path.isfile(file_prefix+'_starpars.csv'):\n",
    "                info,_,_=starpars.getStellarInfoFromCsv(int(dat['id']),dat['mission'],radec=radec)\n",
    "                info.to_csv(file_prefix+'_starpars.csv')\n",
    "            else:\n",
    "                #print(\"loading from \",file_prefix+'_starpars.csv')\n",
    "                info=pd.read_csv(file_prefix+'_starpars.csv', index_col=0, header=0).T.iloc[0]\n",
    "            if 'ra' in info.index and radec is None:\n",
    "                radec=SkyCoord(float(info['ra'])*u.deg,float(info['dec'])*u.deg)\n",
    "            Rstar=[float(info['rad']),float(info['eneg_rad']),float(info['epos_rad'])]\n",
    "            Teff=[float(info['teff']),float(info['eneg_teff']),float(info['epos_teff'])]\n",
    "            logg=[float(info['logg']),float(info['eneg_logg']),float(info['epos_logg'])]\n",
    "            rhostar=[float(info['rho']),float(info['eneg_rho']),float(info['epos_rho'])]\n",
    "            FeH=0.0 if 'FeH' not in info else float(info['FeH'])\n",
    "            if 'mass' in info:\n",
    "                Ms=float(info['mass'])\n",
    "            else:\n",
    "                Ms=rhostar[0]*Rstar[0]**3\n",
    "\n",
    "            if not os.path.isfile(file_prefix+'_lc.pickle'):\n",
    "                #Gets Lightcurve\n",
    "                lc,hdr=tools.openLightCurve(int(dat['id']),dat['mission'],coor=radec,use_ppt=False)\n",
    "                pickle.dump(lc,open(file_prefix+'_lc.pickle','wb'))\n",
    "                #lc=lcFlatten(lc,winsize=9*tdur,stepsize=0.1*tdur)\n",
    "            else:\n",
    "                lc=pickle.load(open(file_prefix+'_lc.pickle','rb'))\n",
    "\n",
    "            cand={'00':{'tcen':dat['tcen']-(7000-4833),'tdur':dat['dur'],'orbit_flag':'mono'}}    \n",
    "            cand, fig = search.VetCand(cand['00'],'00',dat['id'],lc,Rs=Rstar[0],Ms=Ms,Teff=Teff[0],\n",
    "                                       file_loc=file_loc,plot=True,vet_do_fit=True)\n",
    "            floatvars=[var for var in cand if type(cand[var]) in [int,float,str,np.float64,np.float32]]\n",
    "            df=pd.Series({var:cand[var] for var in floatvars},name=tools.id_dic[dat['mission']]+str(int(dat['id'])))\n",
    "            df.to_csv(file_prefix+\"_CandMonoInfo.csv\")\n",
    "        else:\n",
    "            print(\"Already processed\",dat)\n",
    "    except:\n",
    "        print(\"NO JUICE\",dat)"
   ]
  },
  {
   "cell_type": "code",
   "execution_count": 34,
   "metadata": {},
   "outputs": [
    {
     "name": "stdout",
     "output_type": "stream",
     "text": [
      "4132354718873029376\n",
      "205272592  not in TIC\n"
     ]
    },
    {
     "data": {
      "text/plain": [
       "(AH                             0.175\n",
       " AJ                             0.348\n",
       " AKs                            0.086\n",
       " Ag                             1.811\n",
       " Ai                             0.984\n",
       "                       ...           \n",
       " eneg_teff                        138\n",
       " tm_name      2MASS J16493394-1830585\n",
       " rho                          2.53411\n",
       " eneg_rho                    0.367068\n",
       " epos_rho                     0.45425\n",
       " Name: 205272592, Length: 83, dtype: object,\n",
       "              EPIC  Cam            PS                 Gaia       LAMOST  \\\n",
       " 0       201048855   10           NaN  3582456140266586240          NaN   \n",
       " 1       201049999   10           NaN  3582457617736883840          NaN   \n",
       " 2       201050049   10           NaN  3582457858255051392          NaN   \n",
       " 3       201050511   10           NaN  3582458579809568256          NaN   \n",
       " 4       201051317   10  9.832182e+16  3582459163925111552          NaN   \n",
       " ...           ...  ...           ...                  ...          ...   \n",
       " 244332  251410989   16  1.384913e+17   690144074159111680          NaN   \n",
       " 244333  251411028   16           NaN   690146170103158656  186105027.0   \n",
       " 244334  251411094   16  1.384913e+17   690135965260821632          NaN   \n",
       " 244335  251411135   16           NaN   690882774175123840   45215081.0   \n",
       " 244336  251411166   16  1.385013e+17   690144761353880192          NaN   \n",
       " \n",
       "           gmag  e_gmag    rmag  e_rmag    imag  ...  E_logg  e_logg  [Fe/H]  \\\n",
       " 0       12.320   0.040  12.040   0.010  11.914  ...   0.150  -0.150  -0.208   \n",
       " 1       13.353   0.030  13.013   0.030  12.856  ...   0.150  -0.150  -0.383   \n",
       " 2       14.043   0.040  13.486   0.010  13.302  ...   0.150  -0.150  -0.346   \n",
       " 3       11.405   0.030  10.968   0.020  10.907  ...   0.150  -0.150   0.001   \n",
       " 4       15.285   0.003  14.437   0.005  14.112  ...   0.150  -0.150  -0.099   \n",
       " ...        ...     ...     ...     ...     ...  ...     ...     ...     ...   \n",
       " 244332  15.530   0.003  14.847   0.001  14.590  ...   0.150  -0.150  -0.045   \n",
       " 244333  14.129   0.034  13.510   0.043  13.324  ...   0.042  -0.042   0.136   \n",
       " 244334  14.873   0.004  14.332   0.004  14.130  ...   0.150  -0.150  -0.277   \n",
       " 244335  11.678   0.030  11.125   0.040  10.923  ...   0.023  -0.023  -0.313   \n",
       " 244336  14.947   0.007  14.212   0.019  13.898  ...   0.150  -0.150  -0.205   \n",
       " \n",
       "         e_[Fe/H]  Rstar  E_Rstar  e_Rstar  Mstar  E_Mstar  e_Mstar  \n",
       " 0          0.235  1.152    0.067   -0.062  0.897    0.390   -0.273  \n",
       " 1          0.235  0.994    0.061   -0.058  0.736    0.309   -0.225  \n",
       " 2          0.235  0.759    0.049   -0.046  0.775    0.334   -0.240  \n",
       " 3          0.235  1.056    0.062   -0.057  0.885    0.387   -0.275  \n",
       " 4          0.235  0.732    0.058   -0.051  0.847    0.390   -0.271  \n",
       " ...          ...    ...      ...      ...    ...      ...      ...  \n",
       " 244332     0.235  1.203    0.096   -0.086  2.062    0.922   -0.638  \n",
       " 244333     0.023  0.840    0.017   -0.016  1.316    0.148   -0.130  \n",
       " 244334     0.235  0.731    0.055   -0.051  0.597    0.277   -0.183  \n",
       " 244335     0.013  3.490    0.115   -0.106  1.998    0.171   -0.160  \n",
       " 244336     0.235  3.770    0.365   -0.330  1.220    0.579   -0.390  \n",
       " \n",
       " [244337 rows x 60 columns],\n",
       " None)"
      ]
     },
     "execution_count": 34,
     "metadata": {},
     "output_type": "execute_result"
    }
   ],
   "source": [
    ",_,_=starpars.getStellarInfoFromCsv(int(dat['id']),'K2')"
   ]
  },
  {
   "cell_type": "code",
   "execution_count": null,
   "metadata": {},
   "outputs": [],
   "source": []
  },
  {
   "cell_type": "code",
   "execution_count": null,
   "metadata": {},
   "outputs": [],
   "source": []
  },
  {
   "cell_type": "code",
   "execution_count": 34,
   "metadata": {},
   "outputs": [
    {
     "data": {
      "text/plain": [
       "['tcen',\n",
       " 'tdur',\n",
       " 'orbit_flag',\n",
       " 'log_lik_mono',\n",
       " 'model_success',\n",
       " 'log_per',\n",
       " 'b',\n",
       " 'log_ror',\n",
       " 'ror',\n",
       " 'r_pl',\n",
       " 'period',\n",
       " 'vrel',\n",
       " 'third_light',\n",
       " 'depth',\n",
       " 'depth_err',\n",
       " 'snr',\n",
       " 'cdpp',\n",
       " 'Ntrans',\n",
       " 'snr_r',\n",
       " 'init_tdur',\n",
       " 'flag',\n",
       " 'sin_fun',\n",
       " 'sin_bic',\n",
       " 'sin_llk',\n",
       " 'sin_llk_ratio',\n",
       " 'sin_DeltaBIC',\n",
       " 'step_fun',\n",
       " 'step_bic',\n",
       " 'step_llk',\n",
       " 'step_llk_ratio',\n",
       " 'step_DeltaBIC',\n",
       " 'poly_fun',\n",
       " 'poly_bic',\n",
       " 'poly_llk',\n",
       " 'poly_llk_ratio',\n",
       " 'poly_DeltaBIC',\n",
       " 'trans_llk',\n",
       " 'asteroid_DeltaBIC',\n",
       " 'centroid_DeltaBIC',\n",
       " 'instrumental_snr_ratio']"
      ]
     },
     "execution_count": 34,
     "metadata": {},
     "output_type": "execute_result"
    }
   ],
   "source": [
    "[var for var in cand if (type(cand[var]) in [int,float,str,np.float64,np.float32])&(type(var)!=np.ndarray)&(type(var)!=list)]\n"
   ]
  },
  {
   "cell_type": "code",
   "execution_count": 32,
   "metadata": {},
   "outputs": [
    {
     "data": {
      "text/plain": [
       "({'tcen': -1612.6481971862283,\n",
       "  'tdur': 0.6908246482482404,\n",
       "  'orbit_flag': 'mono',\n",
       "  'log_lik_mono': 2329.117334815929,\n",
       "  'model_success': 'False',\n",
       "  'trend': array([-1.02106571e-06,  1.04622802e-06,  1.31647060e-05]),\n",
       "  'flux_trend': array([8.48685488e-07, 9.94409238e-07, 1.14014928e-06, 1.28417062e-06,\n",
       "         1.42734329e-06, 1.57051698e-06, 1.71198723e-06, 1.85344831e-06,\n",
       "         1.99321616e-06, 2.13213534e-06, 2.27103006e-06, 2.40824682e-06,\n",
       "         2.54461492e-06, 2.68094329e-06, 2.81560898e-06, 2.95022474e-06,\n",
       "         3.08318801e-06, 3.21530261e-06, 3.34735202e-06, 3.47776421e-06,\n",
       "         3.60810101e-06, 3.73681079e-06, 3.86467190e-06, 3.99244234e-06,\n",
       "         4.11860104e-06, 4.24465888e-06, 4.36911516e-06, 4.49272278e-06,\n",
       "         4.61621426e-06, 4.73811947e-06, 4.85989834e-06, 4.98010113e-06,\n",
       "         5.09945526e-06, 5.21866777e-06, 5.33631949e-06, 5.45381940e-06,\n",
       "         5.56976869e-06, 5.68486933e-06, 5.79980288e-06, 5.91320110e-06,\n",
       "         6.02642205e-06, 6.13811785e-06, 6.24896499e-06, 6.35961958e-06,\n",
       "         6.46876431e-06, 6.57706037e-06, 6.68514860e-06, 6.79174225e-06,\n",
       "         6.89811788e-06, 7.00300911e-06, 7.10705168e-06, 7.21086095e-06,\n",
       "         7.31320110e-06, 7.41529777e-06, 7.51593551e-06, 7.61572458e-06,\n",
       "         7.71525489e-06, 7.81334155e-06, 7.91115926e-06, 8.00754350e-06,\n",
       "         8.10307908e-06, 8.19833043e-06, 8.29216360e-06, 8.38570234e-06,\n",
       "         8.47783309e-06, 8.56911518e-06, 8.66008756e-06, 8.74966723e-06,\n",
       "         8.83892701e-06, 8.92680427e-06, 9.01383287e-06, 9.10052629e-06,\n",
       "         9.18585247e-06, 9.27032998e-06, 9.35445705e-06, 9.43723215e-06,\n",
       "         9.51964661e-06, 9.60071929e-06, 9.68094332e-06, 9.76079142e-06,\n",
       "         9.83931303e-06, 9.91744852e-06, 9.99426772e-06, 1.00702382e-05,\n",
       "         1.02200755e-05, 1.02939320e-05, 1.03664977e-05, 1.04382148e-05,\n",
       "         1.05095049e-05, 1.05795196e-05, 1.06490971e-05, 1.07174093e-05,\n",
       "         1.07848729e-05, 1.08518841e-05, 1.09176452e-05, 1.09829438e-05,\n",
       "         1.10470025e-05, 1.11102126e-05, 1.11729448e-05, 1.12344525e-05,\n",
       "         1.12954721e-05, 1.13552773e-05, 1.14142339e-05, 1.14726872e-05,\n",
       "         1.15299413e-05, 1.15863468e-05, 1.16422337e-05, 1.16969368e-05,\n",
       "         1.17511111e-05, 1.18041118e-05, 1.18562638e-05, 1.19078717e-05,\n",
       "         1.19583213e-05, 1.20082167e-05, 1.20569638e-05, 1.21048623e-05,\n",
       "         1.21521913e-05, 1.21983874e-05, 1.22440038e-05, 1.22884975e-05,\n",
       "         1.23321425e-05, 1.23751925e-05, 1.24171351e-05, 1.24584725e-05,\n",
       "         1.24987127e-05, 1.25381042e-05, 1.25768753e-05, 1.26145644e-05,\n",
       "         1.26876095e-05, 1.27227475e-05, 1.27572396e-05, 1.27906752e-05,\n",
       "         1.28234547e-05, 1.28551879e-05, 1.28860724e-05, 1.29162856e-05,\n",
       "         1.29454677e-05, 1.29738011e-05, 1.30014479e-05, 1.30280790e-05,\n",
       "         1.30540132e-05, 1.30789418e-05, 1.31030217e-05, 1.31263895e-05,\n",
       "         1.31487671e-05, 1.31704223e-05, 1.31910974e-05, 1.32109239e-05,\n",
       "         1.32300128e-05, 1.32481368e-05, 1.32655131e-05, 1.32819347e-05,\n",
       "         1.32975076e-05, 1.33123175e-05, 1.33261881e-05, 1.33392854e-05,\n",
       "         1.33514535e-05, 1.33627730e-05, 1.33733039e-05, 1.33829210e-05,\n",
       "         1.33917393e-05, 1.33996540e-05, 1.34067199e-05, 1.34129719e-05,\n",
       "         1.34183355e-05, 1.34228749e-05, 1.34265360e-05, 1.34293485e-05,\n",
       "         1.34313215e-05, 1.34324316e-05, 1.34326930e-05, 1.34320996e-05,\n",
       "         1.34306586e-05, 1.34283527e-05, 1.34252093e-05, 1.34212172e-05,\n",
       "         1.34163449e-05, 1.34106504e-05, 1.34040655e-05, 1.33966685e-05,\n",
       "         1.33884229e-05, 1.33792717e-05, 1.33693237e-05, 1.33584598e-05,\n",
       "         1.33468094e-05, 1.33343103e-05, 1.33208801e-05, 1.33066786e-05,\n",
       "         1.32915358e-05, 1.32756319e-05, 1.32588793e-05, 1.32411701e-05,\n",
       "         1.32227151e-05, 1.32032933e-05, 1.31831359e-05, 1.31621299e-05,\n",
       "         1.31401417e-05, 1.31174332e-05, 1.30938761e-05, 1.30693216e-05,\n",
       "         1.30440620e-05, 1.30177949e-05, 1.29908329e-05, 1.29630223e-05,\n",
       "         1.29341888e-05, 1.29046758e-05, 1.28741297e-05, 1.28429142e-05,\n",
       "         1.28108501e-05, 1.27777377e-05, 1.27439711e-05, 1.27091461e-05,\n",
       "         1.26736771e-05, 1.26373595e-05, 1.25999681e-05, 1.25619481e-05,\n",
       "         1.25228441e-05, 1.24831216e-05, 1.24425505e-05, 1.24008802e-05,\n",
       "         1.23586066e-05, 1.23152237e-05, 1.22712477e-05, 1.22264231e-05,\n",
       "         1.21804738e-05, 1.21339468e-05, 1.20862848e-05, 1.20380554e-05,\n",
       "         1.19387490e-05, 1.18879685e-05, 1.18363393e-05, 1.17835447e-05,\n",
       "         1.17302131e-05, 1.16757058e-05, 1.16206718e-05, 1.15647891e-05,\n",
       "         1.15077155e-05, 1.14501305e-05, 1.13913442e-05, 1.13320567e-05,\n",
       "         1.12719206e-05, 1.12105680e-05, 1.11487294e-05, 1.10856642e-05,\n",
       "         1.10221233e-05, 1.09577336e-05, 1.08921021e-05, 1.08260100e-05,\n",
       "         1.07586658e-05, 1.06908714e-05, 1.06222282e-05, 1.05523177e-05,\n",
       "         1.04819721e-05, 1.04103490e-05, 1.03383011e-05, 1.02654044e-05,\n",
       "         1.01912150e-05, 1.01166159e-05, 1.00407138e-05, 9.96441236e-06,\n",
       "         9.88726222e-06, 9.80879380e-06, 9.72994125e-06, 9.65024003e-06,\n",
       "         9.56920525e-06, 9.48780162e-06, 9.40505424e-06, 9.32194819e-06,\n",
       "         9.23799348e-06, 9.15267974e-06, 9.06702261e-06, 8.97999627e-06,\n",
       "         8.89263673e-06, 8.80442852e-06, 8.71483582e-06, 8.62492520e-06,\n",
       "         8.53361989e-06, 8.44200686e-06, 8.34954516e-06, 8.25567350e-06,\n",
       "         8.16150938e-06, 7.97005859e-06, 7.87334340e-06, 7.77519277e-06,\n",
       "         7.67677516e-06, 7.57691193e-06, 7.47679191e-06, 7.37582322e-06,\n",
       "         7.27339363e-06, 7.17072253e-06, 7.06720277e-06]),\n",
       "  'log_per': 5.860618528409118,\n",
       "  'b': 0.43913332414224554,\n",
       "  'log_ror': -3.9842873921922237,\n",
       "  'ror': 0.018605698165562894,\n",
       "  'r_pl': 2.963627237999851,\n",
       "  'period': 350.94114397015204,\n",
       "  'vrel': 2.6608379679296927,\n",
       "  'light_curve': array([ 8.48685488e-07,  9.94409238e-07,  1.14014928e-06,  1.28417062e-06,\n",
       "          1.42734329e-06,  1.57051698e-06,  1.71198723e-06,  1.85344831e-06,\n",
       "          1.99321616e-06,  2.13213534e-06,  2.27103006e-06,  2.40824682e-06,\n",
       "          2.54461492e-06,  2.68094329e-06,  2.81560898e-06,  2.95022474e-06,\n",
       "          3.08318801e-06,  3.21530261e-06,  3.34735202e-06,  3.47776421e-06,\n",
       "          3.60810101e-06,  3.73681079e-06,  3.86467190e-06,  3.99244234e-06,\n",
       "          4.11860104e-06,  4.24465888e-06,  4.36911516e-06,  4.49272278e-06,\n",
       "          4.61621426e-06,  4.73811947e-06,  4.85989834e-06,  4.98010113e-06,\n",
       "          5.09945526e-06,  5.21866777e-06,  5.33631949e-06,  5.45381940e-06,\n",
       "          5.56976869e-06,  5.68486933e-06,  5.79980288e-06,  5.91320110e-06,\n",
       "          6.02642205e-06,  6.13811785e-06,  6.24896499e-06,  6.35961958e-06,\n",
       "          6.46876431e-06,  6.57706037e-06,  6.68514860e-06,  6.79174225e-06,\n",
       "          6.89811788e-06,  7.00300911e-06,  7.10705168e-06,  7.21086095e-06,\n",
       "          7.31320110e-06,  7.41529777e-06,  7.51593551e-06,  7.61572458e-06,\n",
       "          7.71525489e-06,  7.81334155e-06,  7.91115926e-06,  8.00754350e-06,\n",
       "          8.10307908e-06,  8.19833043e-06,  8.29216360e-06,  8.38570234e-06,\n",
       "          8.47783309e-06,  8.56911518e-06,  8.66008756e-06,  8.74966723e-06,\n",
       "          8.83892701e-06,  8.92680427e-06,  9.01383287e-06,  9.10052629e-06,\n",
       "          9.18585247e-06,  9.27032998e-06,  9.35445705e-06,  9.43723215e-06,\n",
       "          9.51964661e-06,  9.60071929e-06,  9.68094332e-06,  9.76079142e-06,\n",
       "          9.83931303e-06,  9.91744852e-06,  9.99426772e-06,  1.00702382e-05,\n",
       "          1.02200755e-05,  1.02939320e-05,  1.03664977e-05,  1.04382148e-05,\n",
       "          1.05095049e-05,  1.05795196e-05,  1.06490971e-05,  1.07174093e-05,\n",
       "          1.07848729e-05,  1.08518841e-05,  1.09176452e-05,  1.09829438e-05,\n",
       "          1.10470025e-05,  1.11102126e-05,  1.11729448e-05,  1.12344525e-05,\n",
       "          1.12954721e-05,  1.13552773e-05,  1.14142339e-05,  1.14726872e-05,\n",
       "          1.15299413e-05,  1.15863468e-05,  1.16422337e-05,  1.16969368e-05,\n",
       "          1.17511111e-05,  1.18041118e-05,  1.18562638e-05,  1.19078717e-05,\n",
       "          1.19583213e-05,  1.20082167e-05,  1.20569638e-05,  1.21048623e-05,\n",
       "          1.21521913e-05,  1.21983874e-05,  1.22440038e-05,  1.22884975e-05,\n",
       "          1.23321425e-05,  1.23751925e-05,  1.24171351e-05,  1.24584725e-05,\n",
       "          1.24987127e-05,  1.25381042e-05,  1.25768753e-05,  1.26145644e-05,\n",
       "          1.26876095e-05,  1.19594691e-05, -1.61709224e-04, -2.63086025e-04,\n",
       "         -2.91108302e-04, -3.10257146e-04, -3.24727891e-04, -3.36202183e-04,\n",
       "         -3.45406084e-04, -3.52935890e-04, -3.59167633e-04, -3.64265989e-04,\n",
       "         -3.68465218e-04, -3.71841709e-04, -3.74516500e-04, -3.76569305e-04,\n",
       "         -3.78026223e-04, -3.78939838e-04, -3.79320617e-04, -3.79184653e-04,\n",
       "         -3.78523824e-04, -3.77331488e-04, -3.75565909e-04, -3.73206510e-04,\n",
       "         -3.70186156e-04, -3.66400546e-04, -3.61787433e-04, -3.56145531e-04,\n",
       "         -3.49343347e-04, -3.41071722e-04, -3.30853231e-04, -3.18162435e-04,\n",
       "         -3.01713326e-04, -2.79367685e-04, -2.43526527e-04, -5.06232681e-05,\n",
       "          1.34183355e-05,  1.34228749e-05,  1.34265360e-05,  1.34293485e-05,\n",
       "          1.34313215e-05,  1.34324316e-05,  1.34326930e-05,  1.34320996e-05,\n",
       "          1.34306586e-05,  1.34283527e-05,  1.34252093e-05,  1.34212172e-05,\n",
       "          1.34163449e-05,  1.34106504e-05,  1.34040655e-05,  1.33966685e-05,\n",
       "          1.33884229e-05,  1.33792717e-05,  1.33693237e-05,  1.33584598e-05,\n",
       "          1.33468094e-05,  1.33343103e-05,  1.33208801e-05,  1.33066786e-05,\n",
       "          1.32915358e-05,  1.32756319e-05,  1.32588793e-05,  1.32411701e-05,\n",
       "          1.32227151e-05,  1.32032933e-05,  1.31831359e-05,  1.31621299e-05,\n",
       "          1.31401417e-05,  1.31174332e-05,  1.30938761e-05,  1.30693216e-05,\n",
       "          1.30440620e-05,  1.30177949e-05,  1.29908329e-05,  1.29630223e-05,\n",
       "          1.29341888e-05,  1.29046758e-05,  1.28741297e-05,  1.28429142e-05,\n",
       "          1.28108501e-05,  1.27777377e-05,  1.27439711e-05,  1.27091461e-05,\n",
       "          1.26736771e-05,  1.26373595e-05,  1.25999681e-05,  1.25619481e-05,\n",
       "          1.25228441e-05,  1.24831216e-05,  1.24425505e-05,  1.24008802e-05,\n",
       "          1.23586066e-05,  1.23152237e-05,  1.22712477e-05,  1.22264231e-05,\n",
       "          1.21804738e-05,  1.21339468e-05,  1.20862848e-05,  1.20380554e-05,\n",
       "          1.19387490e-05,  1.18879685e-05,  1.18363393e-05,  1.17835447e-05,\n",
       "          1.17302131e-05,  1.16757058e-05,  1.16206718e-05,  1.15647891e-05,\n",
       "          1.15077155e-05,  1.14501305e-05,  1.13913442e-05,  1.13320567e-05,\n",
       "          1.12719206e-05,  1.12105680e-05,  1.11487294e-05,  1.10856642e-05,\n",
       "          1.10221233e-05,  1.09577336e-05,  1.08921021e-05,  1.08260100e-05,\n",
       "          1.07586658e-05,  1.06908714e-05,  1.06222282e-05,  1.05523177e-05,\n",
       "          1.04819721e-05,  1.04103490e-05,  1.03383011e-05,  1.02654044e-05,\n",
       "          1.01912150e-05,  1.01166159e-05,  1.00407138e-05,  9.96441236e-06,\n",
       "          9.88726222e-06,  9.80879380e-06,  9.72994125e-06,  9.65024003e-06,\n",
       "          9.56920525e-06,  9.48780162e-06,  9.40505424e-06,  9.32194819e-06,\n",
       "          9.23799348e-06,  9.15267974e-06,  9.06702261e-06,  8.97999627e-06,\n",
       "          8.89263673e-06,  8.80442852e-06,  8.71483582e-06,  8.62492520e-06,\n",
       "          8.53361989e-06,  8.44200686e-06,  8.34954516e-06,  8.25567350e-06,\n",
       "          8.16150938e-06,  7.97005859e-06,  7.87334340e-06,  7.77519277e-06,\n",
       "          7.67677516e-06,  7.57691193e-06,  7.47679191e-06,  7.37582322e-06,\n",
       "          7.27339363e-06,  7.17072253e-06,  7.06720277e-06]),\n",
       "  'third_light': 0.0,\n",
       "  'transit_zoom': array([ 0.00000000e+00,  0.00000000e+00,  0.00000000e+00,  0.00000000e+00,\n",
       "          0.00000000e+00,  0.00000000e+00,  0.00000000e+00,  0.00000000e+00,\n",
       "          0.00000000e+00,  0.00000000e+00,  0.00000000e+00,  0.00000000e+00,\n",
       "          0.00000000e+00,  0.00000000e+00,  0.00000000e+00,  0.00000000e+00,\n",
       "          0.00000000e+00,  0.00000000e+00,  0.00000000e+00,  0.00000000e+00,\n",
       "          0.00000000e+00,  0.00000000e+00,  0.00000000e+00,  0.00000000e+00,\n",
       "          0.00000000e+00,  0.00000000e+00,  0.00000000e+00,  0.00000000e+00,\n",
       "          0.00000000e+00,  0.00000000e+00,  0.00000000e+00,  0.00000000e+00,\n",
       "          0.00000000e+00,  0.00000000e+00,  0.00000000e+00,  0.00000000e+00,\n",
       "          0.00000000e+00,  0.00000000e+00,  0.00000000e+00,  0.00000000e+00,\n",
       "          0.00000000e+00,  0.00000000e+00,  0.00000000e+00,  0.00000000e+00,\n",
       "          0.00000000e+00,  0.00000000e+00,  0.00000000e+00,  0.00000000e+00,\n",
       "          0.00000000e+00,  0.00000000e+00,  0.00000000e+00,  0.00000000e+00,\n",
       "          0.00000000e+00,  0.00000000e+00,  0.00000000e+00,  0.00000000e+00,\n",
       "          0.00000000e+00,  0.00000000e+00,  0.00000000e+00,  0.00000000e+00,\n",
       "          0.00000000e+00,  0.00000000e+00,  0.00000000e+00,  0.00000000e+00,\n",
       "          0.00000000e+00,  0.00000000e+00,  0.00000000e+00,  0.00000000e+00,\n",
       "          0.00000000e+00,  0.00000000e+00,  0.00000000e+00,  0.00000000e+00,\n",
       "          0.00000000e+00,  0.00000000e+00,  0.00000000e+00,  0.00000000e+00,\n",
       "          0.00000000e+00,  0.00000000e+00,  0.00000000e+00,  0.00000000e+00,\n",
       "          0.00000000e+00,  0.00000000e+00,  0.00000000e+00,  0.00000000e+00,\n",
       "          0.00000000e+00,  0.00000000e+00,  0.00000000e+00,  0.00000000e+00,\n",
       "          0.00000000e+00,  0.00000000e+00,  0.00000000e+00,  0.00000000e+00,\n",
       "          0.00000000e+00,  0.00000000e+00,  0.00000000e+00,  0.00000000e+00,\n",
       "          0.00000000e+00,  0.00000000e+00,  0.00000000e+00,  0.00000000e+00,\n",
       "          0.00000000e+00,  0.00000000e+00,  0.00000000e+00,  0.00000000e+00,\n",
       "          0.00000000e+00,  0.00000000e+00,  0.00000000e+00,  0.00000000e+00,\n",
       "          0.00000000e+00,  0.00000000e+00,  0.00000000e+00,  0.00000000e+00,\n",
       "          0.00000000e+00,  0.00000000e+00,  0.00000000e+00,  0.00000000e+00,\n",
       "          0.00000000e+00,  0.00000000e+00,  0.00000000e+00,  0.00000000e+00,\n",
       "          0.00000000e+00,  0.00000000e+00,  0.00000000e+00,  0.00000000e+00,\n",
       "          0.00000000e+00,  0.00000000e+00,  0.00000000e+00,  0.00000000e+00,\n",
       "          0.00000000e+00,  0.00000000e+00,  0.00000000e+00,  0.00000000e+00,\n",
       "          0.00000000e+00,  0.00000000e+00,  0.00000000e+00,  0.00000000e+00,\n",
       "          0.00000000e+00,  0.00000000e+00,  0.00000000e+00,  0.00000000e+00,\n",
       "          0.00000000e+00,  0.00000000e+00,  0.00000000e+00,  0.00000000e+00,\n",
       "          0.00000000e+00,  0.00000000e+00,  0.00000000e+00,  0.00000000e+00,\n",
       "          0.00000000e+00,  0.00000000e+00,  0.00000000e+00,  0.00000000e+00,\n",
       "          0.00000000e+00,  0.00000000e+00,  0.00000000e+00,  0.00000000e+00,\n",
       "          0.00000000e+00,  0.00000000e+00,  0.00000000e+00,  0.00000000e+00,\n",
       "          0.00000000e+00,  0.00000000e+00,  0.00000000e+00,  0.00000000e+00,\n",
       "          0.00000000e+00,  0.00000000e+00,  0.00000000e+00,  0.00000000e+00,\n",
       "          0.00000000e+00,  0.00000000e+00,  0.00000000e+00,  0.00000000e+00,\n",
       "          0.00000000e+00,  0.00000000e+00,  0.00000000e+00,  0.00000000e+00,\n",
       "          0.00000000e+00,  0.00000000e+00,  0.00000000e+00,  0.00000000e+00,\n",
       "          0.00000000e+00,  0.00000000e+00,  0.00000000e+00,  0.00000000e+00,\n",
       "          0.00000000e+00,  0.00000000e+00,  0.00000000e+00,  0.00000000e+00,\n",
       "          0.00000000e+00,  0.00000000e+00,  0.00000000e+00,  0.00000000e+00,\n",
       "          0.00000000e+00,  0.00000000e+00,  0.00000000e+00,  0.00000000e+00,\n",
       "          0.00000000e+00,  0.00000000e+00,  0.00000000e+00,  0.00000000e+00,\n",
       "          0.00000000e+00,  0.00000000e+00,  0.00000000e+00,  0.00000000e+00,\n",
       "          0.00000000e+00,  0.00000000e+00,  0.00000000e+00,  0.00000000e+00,\n",
       "          0.00000000e+00,  0.00000000e+00,  0.00000000e+00,  0.00000000e+00,\n",
       "          0.00000000e+00,  0.00000000e+00,  0.00000000e+00,  0.00000000e+00,\n",
       "          0.00000000e+00,  0.00000000e+00,  0.00000000e+00,  0.00000000e+00,\n",
       "          0.00000000e+00,  0.00000000e+00,  0.00000000e+00,  0.00000000e+00,\n",
       "          0.00000000e+00,  0.00000000e+00,  0.00000000e+00,  0.00000000e+00,\n",
       "          0.00000000e+00,  0.00000000e+00,  0.00000000e+00,  0.00000000e+00,\n",
       "          0.00000000e+00,  0.00000000e+00,  0.00000000e+00,  0.00000000e+00,\n",
       "          0.00000000e+00,  0.00000000e+00,  0.00000000e+00,  0.00000000e+00,\n",
       "          0.00000000e+00,  0.00000000e+00,  0.00000000e+00,  0.00000000e+00,\n",
       "          0.00000000e+00,  0.00000000e+00,  0.00000000e+00,  0.00000000e+00,\n",
       "          0.00000000e+00,  0.00000000e+00,  0.00000000e+00,  0.00000000e+00,\n",
       "          0.00000000e+00,  0.00000000e+00,  0.00000000e+00,  0.00000000e+00,\n",
       "          0.00000000e+00,  0.00000000e+00,  0.00000000e+00,  0.00000000e+00,\n",
       "          0.00000000e+00,  0.00000000e+00,  0.00000000e+00,  0.00000000e+00,\n",
       "          0.00000000e+00, -2.14936002e-05, -1.22015674e-04, -2.29404945e-04,\n",
       "         -2.67299824e-04, -2.84707210e-04, -2.98196512e-04, -3.09292627e-04,\n",
       "         -3.18712457e-04, -3.26869716e-04, -3.34030781e-04, -3.40379736e-04,\n",
       "         -3.46050311e-04, -3.51143353e-04, -3.55737142e-04, -3.59893846e-04,\n",
       "         -3.63663773e-04, -3.67088247e-04, -3.70201649e-04, -3.73032878e-04,\n",
       "         -3.75606430e-04, -3.77943218e-04, -3.80061186e-04, -3.81975799e-04,\n",
       "         -3.83700416e-04, -3.85246595e-04, -3.86624328e-04, -3.87842240e-04,\n",
       "         -3.88907743e-04, -3.89827164e-04, -3.90605846e-04, -3.91248233e-04,\n",
       "         -3.91757936e-04, -3.92137787e-04, -3.92389875e-04, -3.92515576e-04,\n",
       "         -3.92515576e-04, -3.92389875e-04, -3.92137787e-04, -3.91757936e-04,\n",
       "         -3.91248233e-04, -3.90605846e-04, -3.89827164e-04, -3.88907743e-04,\n",
       "         -3.87842240e-04, -3.86624328e-04, -3.85246595e-04, -3.83700416e-04,\n",
       "         -3.81975799e-04, -3.80061186e-04, -3.77943218e-04, -3.75606430e-04,\n",
       "         -3.73032878e-04, -3.70201649e-04, -3.67088247e-04, -3.63663773e-04,\n",
       "         -3.59893846e-04, -3.55737142e-04, -3.51143353e-04, -3.46050311e-04,\n",
       "         -3.40379736e-04, -3.34030781e-04, -3.26869716e-04, -3.18712457e-04,\n",
       "         -3.09292627e-04, -2.98196512e-04, -2.84707210e-04, -2.67299824e-04,\n",
       "         -2.29404945e-04, -1.22015674e-04, -2.14936002e-05,  0.00000000e+00,\n",
       "          0.00000000e+00,  0.00000000e+00,  0.00000000e+00,  0.00000000e+00,\n",
       "          0.00000000e+00,  0.00000000e+00,  0.00000000e+00,  0.00000000e+00,\n",
       "          0.00000000e+00,  0.00000000e+00,  0.00000000e+00,  0.00000000e+00,\n",
       "          0.00000000e+00,  0.00000000e+00,  0.00000000e+00,  0.00000000e+00,\n",
       "          0.00000000e+00,  0.00000000e+00,  0.00000000e+00,  0.00000000e+00,\n",
       "          0.00000000e+00,  0.00000000e+00,  0.00000000e+00,  0.00000000e+00,\n",
       "          0.00000000e+00,  0.00000000e+00,  0.00000000e+00,  0.00000000e+00,\n",
       "          0.00000000e+00,  0.00000000e+00,  0.00000000e+00,  0.00000000e+00,\n",
       "          0.00000000e+00,  0.00000000e+00,  0.00000000e+00,  0.00000000e+00,\n",
       "          0.00000000e+00,  0.00000000e+00,  0.00000000e+00,  0.00000000e+00,\n",
       "          0.00000000e+00,  0.00000000e+00,  0.00000000e+00,  0.00000000e+00,\n",
       "          0.00000000e+00,  0.00000000e+00,  0.00000000e+00,  0.00000000e+00,\n",
       "          0.00000000e+00,  0.00000000e+00,  0.00000000e+00,  0.00000000e+00,\n",
       "          0.00000000e+00,  0.00000000e+00,  0.00000000e+00,  0.00000000e+00,\n",
       "          0.00000000e+00,  0.00000000e+00,  0.00000000e+00,  0.00000000e+00,\n",
       "          0.00000000e+00,  0.00000000e+00,  0.00000000e+00,  0.00000000e+00,\n",
       "          0.00000000e+00,  0.00000000e+00,  0.00000000e+00,  0.00000000e+00,\n",
       "          0.00000000e+00,  0.00000000e+00,  0.00000000e+00,  0.00000000e+00,\n",
       "          0.00000000e+00,  0.00000000e+00,  0.00000000e+00,  0.00000000e+00,\n",
       "          0.00000000e+00,  0.00000000e+00,  0.00000000e+00,  0.00000000e+00,\n",
       "          0.00000000e+00,  0.00000000e+00,  0.00000000e+00,  0.00000000e+00,\n",
       "          0.00000000e+00,  0.00000000e+00,  0.00000000e+00,  0.00000000e+00,\n",
       "          0.00000000e+00,  0.00000000e+00,  0.00000000e+00,  0.00000000e+00,\n",
       "          0.00000000e+00,  0.00000000e+00,  0.00000000e+00,  0.00000000e+00,\n",
       "          0.00000000e+00,  0.00000000e+00,  0.00000000e+00,  0.00000000e+00,\n",
       "          0.00000000e+00,  0.00000000e+00,  0.00000000e+00,  0.00000000e+00,\n",
       "          0.00000000e+00,  0.00000000e+00,  0.00000000e+00,  0.00000000e+00,\n",
       "          0.00000000e+00,  0.00000000e+00,  0.00000000e+00,  0.00000000e+00,\n",
       "          0.00000000e+00,  0.00000000e+00,  0.00000000e+00,  0.00000000e+00,\n",
       "          0.00000000e+00,  0.00000000e+00,  0.00000000e+00,  0.00000000e+00,\n",
       "          0.00000000e+00,  0.00000000e+00,  0.00000000e+00,  0.00000000e+00,\n",
       "          0.00000000e+00,  0.00000000e+00,  0.00000000e+00,  0.00000000e+00,\n",
       "          0.00000000e+00,  0.00000000e+00,  0.00000000e+00,  0.00000000e+00,\n",
       "          0.00000000e+00,  0.00000000e+00,  0.00000000e+00,  0.00000000e+00,\n",
       "          0.00000000e+00,  0.00000000e+00,  0.00000000e+00,  0.00000000e+00,\n",
       "          0.00000000e+00,  0.00000000e+00,  0.00000000e+00,  0.00000000e+00,\n",
       "          0.00000000e+00,  0.00000000e+00,  0.00000000e+00,  0.00000000e+00,\n",
       "          0.00000000e+00,  0.00000000e+00,  0.00000000e+00,  0.00000000e+00,\n",
       "          0.00000000e+00,  0.00000000e+00,  0.00000000e+00,  0.00000000e+00,\n",
       "          0.00000000e+00,  0.00000000e+00,  0.00000000e+00,  0.00000000e+00,\n",
       "          0.00000000e+00,  0.00000000e+00,  0.00000000e+00,  0.00000000e+00,\n",
       "          0.00000000e+00,  0.00000000e+00,  0.00000000e+00,  0.00000000e+00,\n",
       "          0.00000000e+00,  0.00000000e+00,  0.00000000e+00,  0.00000000e+00,\n",
       "          0.00000000e+00,  0.00000000e+00,  0.00000000e+00,  0.00000000e+00,\n",
       "          0.00000000e+00,  0.00000000e+00,  0.00000000e+00,  0.00000000e+00,\n",
       "          0.00000000e+00,  0.00000000e+00,  0.00000000e+00,  0.00000000e+00,\n",
       "          0.00000000e+00,  0.00000000e+00,  0.00000000e+00,  0.00000000e+00,\n",
       "          0.00000000e+00,  0.00000000e+00,  0.00000000e+00,  0.00000000e+00,\n",
       "          0.00000000e+00,  0.00000000e+00,  0.00000000e+00,  0.00000000e+00,\n",
       "          0.00000000e+00,  0.00000000e+00,  0.00000000e+00,  0.00000000e+00,\n",
       "          0.00000000e+00,  0.00000000e+00,  0.00000000e+00,  0.00000000e+00,\n",
       "          0.00000000e+00,  0.00000000e+00,  0.00000000e+00,  0.00000000e+00,\n",
       "          0.00000000e+00,  0.00000000e+00,  0.00000000e+00,  0.00000000e+00,\n",
       "          0.00000000e+00,  0.00000000e+00,  0.00000000e+00,  0.00000000e+00,\n",
       "          0.00000000e+00,  0.00000000e+00,  0.00000000e+00,  0.00000000e+00,\n",
       "          0.00000000e+00,  0.00000000e+00,  0.00000000e+00,  0.00000000e+00,\n",
       "          0.00000000e+00,  0.00000000e+00,  0.00000000e+00,  0.00000000e+00,\n",
       "          0.00000000e+00,  0.00000000e+00,  0.00000000e+00,  0.00000000e+00,\n",
       "          0.00000000e+00,  0.00000000e+00,  0.00000000e+00,  0.00000000e+00,\n",
       "          0.00000000e+00,  0.00000000e+00,  0.00000000e+00,  0.00000000e+00,\n",
       "          0.00000000e+00,  0.00000000e+00,  0.00000000e+00,  0.00000000e+00,\n",
       "          0.00000000e+00,  0.00000000e+00,  0.00000000e+00,  0.00000000e+00,\n",
       "          0.00000000e+00,  0.00000000e+00,  0.00000000e+00,  0.00000000e+00,\n",
       "          0.00000000e+00,  0.00000000e+00,  0.00000000e+00,  0.00000000e+00,\n",
       "          0.00000000e+00,  0.00000000e+00,  0.00000000e+00,  0.00000000e+00,\n",
       "          0.00000000e+00,  0.00000000e+00,  0.00000000e+00,  0.00000000e+00]),\n",
       "  'monofit_x': array([-1615.678 , -1615.6576, -1615.6371, -1615.6167, -1615.5963,\n",
       "         -1615.5758, -1615.5554, -1615.5349, -1615.5145, -1615.4941,\n",
       "         -1615.4736, -1615.4532, -1615.4329, -1615.4124, -1615.392 ,\n",
       "         -1615.3715, -1615.3511, -1615.3307, -1615.3102, -1615.2898,\n",
       "         -1615.2693, -1615.2489, -1615.2285, -1615.208 , -1615.1876,\n",
       "         -1615.1671, -1615.1467, -1615.1263, -1615.1058, -1615.0854,\n",
       "         -1615.065 , -1615.0446, -1615.0242, -1615.0037, -1614.9833,\n",
       "         -1614.9628, -1614.9424, -1614.922 , -1614.9015, -1614.8811,\n",
       "         -1614.8606, -1614.8402, -1614.8198, -1614.7993, -1614.7789,\n",
       "         -1614.7585, -1614.738 , -1614.7177, -1614.6971, -1614.6768,\n",
       "         -1614.6564, -1614.6359, -1614.6155, -1614.595 , -1614.5746,\n",
       "         -1614.5542, -1614.5337, -1614.5133, -1614.4928, -1614.4724,\n",
       "         -1614.452 , -1614.4315, -1614.4111, -1614.3906, -1614.3702,\n",
       "         -1614.3499, -1614.3293, -1614.309 , -1614.2885, -1614.2681,\n",
       "         -1614.2477, -1614.2272, -1614.2068, -1614.1864, -1614.1659,\n",
       "         -1614.1455, -1614.125 , -1614.1046, -1614.0842, -1614.0637,\n",
       "         -1614.0433, -1614.0228, -1614.0024, -1613.982 , -1613.9412,\n",
       "         -1613.9207, -1613.9003, -1613.8799, -1613.8594, -1613.839 ,\n",
       "         -1613.8185, -1613.7981, -1613.7777, -1613.7572, -1613.7368,\n",
       "         -1613.7163, -1613.6959, -1613.6755, -1613.655 , -1613.6346,\n",
       "         -1613.6141, -1613.5938, -1613.5734, -1613.5529, -1613.5325,\n",
       "         -1613.5121, -1613.4916, -1613.4712, -1613.4507, -1613.4303,\n",
       "         -1613.4099, -1613.3894, -1613.369 , -1613.3485, -1613.3281,\n",
       "         -1613.3077, -1613.2872, -1613.2668, -1613.2463, -1613.226 ,\n",
       "         -1613.2056, -1613.185 , -1613.1647, -1613.1442, -1613.1238,\n",
       "         -1613.1034, -1613.0829, -1613.0625, -1613.0216, -1613.0012,\n",
       "         -1612.9807, -1612.9603, -1612.9398, -1612.9194, -1612.899 ,\n",
       "         -1612.8785, -1612.8582, -1612.8378, -1612.8173, -1612.7969,\n",
       "         -1612.7764, -1612.756 , -1612.7356, -1612.7151, -1612.6947,\n",
       "         -1612.6742, -1612.6538, -1612.6334, -1612.6129, -1612.5925,\n",
       "         -1612.572 , -1612.5516, -1612.5312, -1612.5107, -1612.4904,\n",
       "         -1612.4698, -1612.4495, -1612.4291, -1612.4086, -1612.3882,\n",
       "         -1612.3677, -1612.3473, -1612.3269, -1612.3064, -1612.286 ,\n",
       "         -1612.2655, -1612.2451, -1612.2247, -1612.2042, -1612.1838,\n",
       "         -1612.1635, -1612.143 , -1612.1226, -1612.102 , -1612.0817,\n",
       "         -1612.0613, -1612.0408, -1612.0204, -1611.9999, -1611.9795,\n",
       "         -1611.9591, -1611.9386, -1611.9182, -1611.8977, -1611.8773,\n",
       "         -1611.8569, -1611.8364, -1611.816 , -1611.7955, -1611.7751,\n",
       "         -1611.7548, -1611.7343, -1611.7139, -1611.6934, -1611.673 ,\n",
       "         -1611.6526, -1611.6321, -1611.6117, -1611.5913, -1611.5708,\n",
       "         -1611.5504, -1611.5299, -1611.5095, -1611.4891, -1611.4686,\n",
       "         -1611.4482, -1611.4277, -1611.4073, -1611.387 , -1611.3665,\n",
       "         -1611.3461, -1611.3256, -1611.3052, -1611.2848, -1611.2643,\n",
       "         -1611.2439, -1611.2234, -1611.203 , -1611.1826, -1611.1621,\n",
       "         -1611.1417, -1611.1212, -1611.1008, -1611.0804, -1611.0599,\n",
       "         -1611.0396, -1611.019 , -1610.9987, -1610.9578, -1610.9374,\n",
       "         -1610.917 , -1610.8965, -1610.8761, -1610.8556, -1610.8352,\n",
       "         -1610.8148, -1610.7943, -1610.7739, -1610.7534, -1610.733 ,\n",
       "         -1610.7126, -1610.6921, -1610.6718, -1610.6512, -1610.6309,\n",
       "         -1610.6105, -1610.59  , -1610.5696, -1610.5491, -1610.5287,\n",
       "         -1610.5083, -1610.4878, -1610.4674, -1610.4469, -1610.4265,\n",
       "         -1610.4061, -1610.3856, -1610.3652, -1610.3447, -1610.3243,\n",
       "         -1610.304 , -1610.2834, -1610.2631, -1610.2427, -1610.2222,\n",
       "         -1610.2018, -1610.1813, -1610.1609, -1610.1405, -1610.12  ,\n",
       "         -1610.0996, -1610.0791, -1610.0587, -1610.0383, -1610.0178,\n",
       "         -1609.9974, -1609.9769, -1609.9565, -1609.9362, -1609.9156,\n",
       "         -1609.8953, -1609.8544, -1609.834 , -1609.8135, -1609.7931,\n",
       "         -1609.7726, -1609.7522, -1609.7318, -1609.7113, -1609.6909,\n",
       "         -1609.6705], dtype=float32),\n",
       "  'monofit_ymodel': array([ 8.48685488e-07,  9.94409238e-07,  1.14014928e-06,  1.28417062e-06,\n",
       "          1.42734329e-06,  1.57051698e-06,  1.71198723e-06,  1.85344831e-06,\n",
       "          1.99321616e-06,  2.13213534e-06,  2.27103006e-06,  2.40824682e-06,\n",
       "          2.54461492e-06,  2.68094329e-06,  2.81560898e-06,  2.95022474e-06,\n",
       "          3.08318801e-06,  3.21530261e-06,  3.34735202e-06,  3.47776421e-06,\n",
       "          3.60810101e-06,  3.73681079e-06,  3.86467190e-06,  3.99244234e-06,\n",
       "          4.11860104e-06,  4.24465888e-06,  4.36911516e-06,  4.49272278e-06,\n",
       "          4.61621426e-06,  4.73811947e-06,  4.85989834e-06,  4.98010113e-06,\n",
       "          5.09945526e-06,  5.21866777e-06,  5.33631949e-06,  5.45381940e-06,\n",
       "          5.56976869e-06,  5.68486933e-06,  5.79980288e-06,  5.91320110e-06,\n",
       "          6.02642205e-06,  6.13811785e-06,  6.24896499e-06,  6.35961958e-06,\n",
       "          6.46876431e-06,  6.57706037e-06,  6.68514860e-06,  6.79174225e-06,\n",
       "          6.89811788e-06,  7.00300911e-06,  7.10705168e-06,  7.21086095e-06,\n",
       "          7.31320110e-06,  7.41529777e-06,  7.51593551e-06,  7.61572458e-06,\n",
       "          7.71525489e-06,  7.81334155e-06,  7.91115926e-06,  8.00754350e-06,\n",
       "          8.10307908e-06,  8.19833043e-06,  8.29216360e-06,  8.38570234e-06,\n",
       "          8.47783309e-06,  8.56911518e-06,  8.66008756e-06,  8.74966723e-06,\n",
       "          8.83892701e-06,  8.92680427e-06,  9.01383287e-06,  9.10052629e-06,\n",
       "          9.18585247e-06,  9.27032998e-06,  9.35445705e-06,  9.43723215e-06,\n",
       "          9.51964661e-06,  9.60071929e-06,  9.68094332e-06,  9.76079142e-06,\n",
       "          9.83931303e-06,  9.91744852e-06,  9.99426772e-06,  1.00702382e-05,\n",
       "          1.02200755e-05,  1.02939320e-05,  1.03664977e-05,  1.04382148e-05,\n",
       "          1.05095049e-05,  1.05795196e-05,  1.06490971e-05,  1.07174093e-05,\n",
       "          1.07848729e-05,  1.08518841e-05,  1.09176452e-05,  1.09829438e-05,\n",
       "          1.10470025e-05,  1.11102126e-05,  1.11729448e-05,  1.12344525e-05,\n",
       "          1.12954721e-05,  1.13552773e-05,  1.14142339e-05,  1.14726872e-05,\n",
       "          1.15299413e-05,  1.15863468e-05,  1.16422337e-05,  1.16969368e-05,\n",
       "          1.17511111e-05,  1.18041118e-05,  1.18562638e-05,  1.19078717e-05,\n",
       "          1.19583213e-05,  1.20082167e-05,  1.20569638e-05,  1.21048623e-05,\n",
       "          1.21521913e-05,  1.21983874e-05,  1.22440038e-05,  1.22884975e-05,\n",
       "          1.23321425e-05,  1.23751925e-05,  1.24171351e-05,  1.24584725e-05,\n",
       "          1.24987127e-05,  1.25381042e-05,  1.25768753e-05,  1.26145644e-05,\n",
       "          1.26876095e-05,  1.19594691e-05, -1.61709224e-04, -2.63086025e-04,\n",
       "         -2.91108302e-04, -3.10257146e-04, -3.24727891e-04, -3.36202183e-04,\n",
       "         -3.45406084e-04, -3.52935890e-04, -3.59167633e-04, -3.64265989e-04,\n",
       "         -3.68465218e-04, -3.71841709e-04, -3.74516500e-04, -3.76569305e-04,\n",
       "         -3.78026223e-04, -3.78939838e-04, -3.79320617e-04, -3.79184653e-04,\n",
       "         -3.78523824e-04, -3.77331488e-04, -3.75565909e-04, -3.73206510e-04,\n",
       "         -3.70186156e-04, -3.66400546e-04, -3.61787433e-04, -3.56145531e-04,\n",
       "         -3.49343347e-04, -3.41071722e-04, -3.30853231e-04, -3.18162435e-04,\n",
       "         -3.01713326e-04, -2.79367685e-04, -2.43526527e-04, -5.06232681e-05,\n",
       "          1.34183355e-05,  1.34228749e-05,  1.34265360e-05,  1.34293485e-05,\n",
       "          1.34313215e-05,  1.34324316e-05,  1.34326930e-05,  1.34320996e-05,\n",
       "          1.34306586e-05,  1.34283527e-05,  1.34252093e-05,  1.34212172e-05,\n",
       "          1.34163449e-05,  1.34106504e-05,  1.34040655e-05,  1.33966685e-05,\n",
       "          1.33884229e-05,  1.33792717e-05,  1.33693237e-05,  1.33584598e-05,\n",
       "          1.33468094e-05,  1.33343103e-05,  1.33208801e-05,  1.33066786e-05,\n",
       "          1.32915358e-05,  1.32756319e-05,  1.32588793e-05,  1.32411701e-05,\n",
       "          1.32227151e-05,  1.32032933e-05,  1.31831359e-05,  1.31621299e-05,\n",
       "          1.31401417e-05,  1.31174332e-05,  1.30938761e-05,  1.30693216e-05,\n",
       "          1.30440620e-05,  1.30177949e-05,  1.29908329e-05,  1.29630223e-05,\n",
       "          1.29341888e-05,  1.29046758e-05,  1.28741297e-05,  1.28429142e-05,\n",
       "          1.28108501e-05,  1.27777377e-05,  1.27439711e-05,  1.27091461e-05,\n",
       "          1.26736771e-05,  1.26373595e-05,  1.25999681e-05,  1.25619481e-05,\n",
       "          1.25228441e-05,  1.24831216e-05,  1.24425505e-05,  1.24008802e-05,\n",
       "          1.23586066e-05,  1.23152237e-05,  1.22712477e-05,  1.22264231e-05,\n",
       "          1.21804738e-05,  1.21339468e-05,  1.20862848e-05,  1.20380554e-05,\n",
       "          1.19387490e-05,  1.18879685e-05,  1.18363393e-05,  1.17835447e-05,\n",
       "          1.17302131e-05,  1.16757058e-05,  1.16206718e-05,  1.15647891e-05,\n",
       "          1.15077155e-05,  1.14501305e-05,  1.13913442e-05,  1.13320567e-05,\n",
       "          1.12719206e-05,  1.12105680e-05,  1.11487294e-05,  1.10856642e-05,\n",
       "          1.10221233e-05,  1.09577336e-05,  1.08921021e-05,  1.08260100e-05,\n",
       "          1.07586658e-05,  1.06908714e-05,  1.06222282e-05,  1.05523177e-05,\n",
       "          1.04819721e-05,  1.04103490e-05,  1.03383011e-05,  1.02654044e-05,\n",
       "          1.01912150e-05,  1.01166159e-05,  1.00407138e-05,  9.96441236e-06,\n",
       "          9.88726222e-06,  9.80879380e-06,  9.72994125e-06,  9.65024003e-06,\n",
       "          9.56920525e-06,  9.48780162e-06,  9.40505424e-06,  9.32194819e-06,\n",
       "          9.23799348e-06,  9.15267974e-06,  9.06702261e-06,  8.97999627e-06,\n",
       "          8.89263673e-06,  8.80442852e-06,  8.71483582e-06,  8.62492520e-06,\n",
       "          8.53361989e-06,  8.44200686e-06,  8.34954516e-06,  8.25567350e-06,\n",
       "          8.16150938e-06,  7.97005859e-06,  7.87334340e-06,  7.77519277e-06,\n",
       "          7.67677516e-06,  7.57691193e-06,  7.47679191e-06,  7.37582322e-06,\n",
       "          7.27339363e-06,  7.17072253e-06,  7.06720277e-06]),\n",
       "  'monofit_y': array([-9.66087577e-06,  5.79556167e-06,  8.01164400e-05, -7.93094397e-05,\n",
       "         -6.40357922e-05,  3.98628035e-06,  1.42282396e-04,  2.61252742e-05,\n",
       "         -1.21922647e-04, -4.88592073e-05, -1.60766062e-06,  6.74579720e-05,\n",
       "          2.70286566e-05, -7.62068523e-07,  1.12001103e-04, -4.93577343e-05,\n",
       "          7.41247007e-05,  1.11792966e-05, -4.55878923e-06, -2.14289238e-05,\n",
       "          3.09732169e-05,  7.42823307e-06, -4.97929143e-05, -1.32499165e-04,\n",
       "         -1.95136577e-04, -9.16131331e-06, -2.02969089e-05,  7.80676983e-05,\n",
       "         -1.29178571e-04, -1.44377231e-04,  8.81635357e-05, -1.44944428e-04,\n",
       "          4.29964097e-05,  1.34438919e-04, -6.66257580e-05, -1.69351213e-04,\n",
       "          9.49710772e-05,  1.19382133e-04, -2.26749546e-05,  7.73844962e-05,\n",
       "          1.46690419e-04, -4.73808816e-06,  3.37365117e-05, -1.19713010e-04,\n",
       "         -1.72446578e-06,  1.48518360e-04,  1.87270898e-06, -6.76422736e-05,\n",
       "          1.10934601e-04, -5.74269097e-05,  4.24338742e-05, -2.58848736e-05,\n",
       "          3.34605907e-05,  3.83882708e-05,  1.35108358e-04, -1.27467363e-04,\n",
       "         -6.04820352e-05,  2.30749202e-05, -1.02534957e-04,  3.50066338e-05,\n",
       "         -8.10677119e-05, -4.94995233e-05,  4.81893674e-05,  8.31685765e-05,\n",
       "          1.43773369e-05,  2.05036806e-05, -8.92371205e-05, -1.50365409e-05,\n",
       "         -4.20432010e-05, -2.08167476e-05, -7.22703068e-05,  1.15794522e-05,\n",
       "          6.55118098e-05,  6.95676852e-06,  8.06630538e-06, -1.11490137e-05,\n",
       "         -1.12734238e-04, -1.64313859e-05,  1.68146869e-04,  6.16929330e-05,\n",
       "         -7.34456392e-05, -3.17951039e-05,  6.71968282e-05,  1.33802798e-04,\n",
       "          8.64841726e-05, -1.57332158e-05, -4.72925398e-05, -6.79236564e-05,\n",
       "          2.16424677e-06, -2.92592599e-05,  1.19670852e-04,  4.85412884e-05,\n",
       "          7.51640186e-05,  1.82919060e-04,  1.51720421e-04,  1.44482994e-04,\n",
       "          1.23380032e-05,  5.80755396e-05,  2.79378747e-07,  1.65284953e-04,\n",
       "          2.28350417e-05,  3.45888484e-05,  1.34735467e-04,  6.84372508e-05,\n",
       "          1.01719380e-04, -2.17597248e-05,  6.82639883e-05,  5.45765857e-05,\n",
       "          9.73841407e-05,  0.00000000e+00,  2.07426997e-06,  8.22442762e-05,\n",
       "         -3.70575078e-06,  1.17528077e-04,  1.37180232e-04,  1.09156497e-04,\n",
       "          3.26123733e-05,  1.40392651e-04, -9.87417432e-05,  4.91938309e-05,\n",
       "          1.45577851e-05,  1.33147016e-04,  2.56577237e-05, -5.99001226e-05,\n",
       "         -6.92164277e-05, -1.45771882e-04, -6.06822904e-05, -1.08871436e-04,\n",
       "         -7.67648053e-05,  2.04493883e-05, -1.60839197e-04, -2.35420926e-04,\n",
       "         -2.59758564e-04, -3.64505492e-04, -2.75241210e-04, -3.92512459e-04,\n",
       "         -3.20064410e-04, -4.42930427e-04, -4.12499924e-04, -4.23616102e-04,\n",
       "         -3.78527344e-04, -4.15998185e-04, -4.28800266e-04, -4.34035422e-04,\n",
       "         -3.09045081e-04, -3.33071499e-04, -3.30040010e-04, -4.79122175e-04,\n",
       "         -4.71162577e-04, -2.78423370e-04, -3.37338073e-04, -4.21140154e-04,\n",
       "         -2.78650139e-04, -2.63776983e-04, -2.85683207e-04, -3.64338263e-04,\n",
       "         -3.69677915e-04, -3.24118021e-04, -4.19027957e-04, -2.56959608e-04,\n",
       "         -2.32164238e-04, -2.37651512e-04, -2.90565188e-04, -5.38804021e-05,\n",
       "          1.62658392e-05,  2.97484196e-05, -4.17846772e-05,  2.13848075e-05,\n",
       "         -1.93596208e-06, -5.36090646e-05, -4.51780682e-05, -6.22614630e-05,\n",
       "          3.70396540e-05,  4.86222274e-05, -3.51642601e-06,  4.28079307e-05,\n",
       "          1.15327689e-05,  4.32289499e-06, -1.14113155e-04,  2.15349656e-05,\n",
       "         -3.20707378e-05, -4.70568244e-05,  1.37568851e-04, -1.86993412e-05,\n",
       "          3.05692128e-05, -1.23749608e-05,  1.91587893e-06, -6.65974620e-05,\n",
       "         -1.07459224e-04,  3.93690640e-05, -9.20449058e-05, -8.13533829e-05,\n",
       "          2.34850211e-06,  6.06465428e-07, -1.46908217e-04,  5.41400940e-05,\n",
       "         -3.37202759e-05,  4.63454626e-05, -1.20282360e-05, -1.16838631e-04,\n",
       "         -3.09420458e-05,  1.88791131e-04,  3.44801681e-04,  4.25664597e-05,\n",
       "          6.24495486e-05, -1.12758546e-04, -1.03435105e-04, -5.09220916e-05,\n",
       "          5.83532309e-05,  6.45079444e-05, -3.73455344e-05, -7.50054636e-05,\n",
       "         -3.46963659e-05, -9.48189283e-07, -1.97044025e-05,  6.27496908e-05,\n",
       "          4.29177774e-05, -2.07279886e-05,  1.06507473e-05, -9.22192696e-05,\n",
       "         -1.01574080e-04,  1.06842613e-04, -1.14105257e-05,  3.55553040e-05,\n",
       "          1.03914094e-04,  4.06568238e-05,  2.74802594e-05,  6.44850768e-05,\n",
       "          8.99849432e-05,  7.57372382e-05, -8.01361906e-05, -3.68880405e-05,\n",
       "         -1.65122994e-04, -5.49437748e-05, -2.58381845e-05, -1.84059264e-04,\n",
       "          6.34333099e-06, -2.36163374e-05,  2.16908353e-05,  5.88862882e-05,\n",
       "         -3.76155834e-05, -3.70651581e-05,  1.59696795e-04,  8.68033345e-05,\n",
       "         -3.61789117e-06, -8.10364350e-05,  1.53144905e-06, -1.38345557e-05,\n",
       "          1.28849895e-04, -5.14621603e-05,  4.77684896e-05,  1.43896619e-04,\n",
       "          1.84056581e-05,  6.39622100e-05,  7.67340206e-05,  5.45263379e-05,\n",
       "          2.13861720e-05,  7.85438185e-06, -9.14500410e-05,  5.56259828e-05,\n",
       "         -8.40090227e-05,  1.14313427e-04, -4.61099670e-05,  1.17340780e-04,\n",
       "          2.01403315e-05, -2.85420195e-05,  6.76411942e-06,  9.33686957e-05,\n",
       "         -5.15771413e-06,  5.58614462e-05,  1.82156895e-05, -5.26275993e-05,\n",
       "          3.38876291e-05,  2.49486604e-05, -8.38645856e-06,  3.91057074e-05,\n",
       "         -1.88929218e-05,  1.75464476e-04, -2.45184706e-05,  4.87302511e-05,\n",
       "         -2.62235288e-05,  3.00886874e-05,  9.11525909e-06,  8.69916439e-06,\n",
       "          1.04318478e-05,  1.28828038e-05,  4.06321543e-05,  2.63971708e-05,\n",
       "          1.70526607e-05, -7.34108785e-05,  1.96281057e-06]),\n",
       "  'monofit_yerr': array([6.06634021e-05, 6.06760077e-05, 6.06733774e-05, 6.06600661e-05,\n",
       "         6.06655776e-05, 6.06649373e-05, 6.06712965e-05, 6.06670219e-05,\n",
       "         6.06520080e-05, 6.06415961e-05, 6.06387475e-05, 6.06722788e-05,\n",
       "         6.06748399e-05, 6.06459216e-05, 6.06699105e-05, 6.06500180e-05,\n",
       "         6.06508183e-05, 6.06652902e-05, 6.06746653e-05, 6.06617104e-05,\n",
       "         6.06646208e-05, 6.06658978e-05, 6.06494323e-05, 6.06724425e-05,\n",
       "         6.06613721e-05, 6.06703179e-05, 6.06518988e-05, 6.06665817e-05,\n",
       "         6.06708782e-05, 6.06660105e-05, 6.06722606e-05, 6.06660469e-05,\n",
       "         6.06590111e-05, 6.06707436e-05, 6.06461981e-05, 6.06611939e-05,\n",
       "         6.06804715e-05, 6.06673202e-05, 6.06716458e-05, 6.06692774e-05,\n",
       "         6.06626854e-05, 6.06645772e-05, 6.06696885e-05, 6.06476460e-05,\n",
       "         6.06690883e-05, 6.06631074e-05, 6.06690046e-05, 6.06637077e-05,\n",
       "         6.06600297e-05, 6.06727262e-05, 6.06663962e-05, 6.06721223e-05,\n",
       "         6.06613939e-05, 6.06724570e-05, 6.06653521e-05, 6.06651338e-05,\n",
       "         6.06722060e-05, 6.06686735e-05, 6.06743706e-05, 6.06647227e-05,\n",
       "         6.06622198e-05, 6.06815956e-05, 6.06721551e-05, 6.06804242e-05,\n",
       "         6.06548056e-05, 6.06703070e-05, 6.06672293e-05, 6.06776084e-05,\n",
       "         6.06742506e-05, 6.06567919e-05, 6.06558497e-05, 6.06634821e-05,\n",
       "         6.06566937e-05, 6.06568501e-05, 6.06724425e-05, 6.06521207e-05,\n",
       "         6.06681824e-05, 6.06672511e-05, 6.06665380e-05, 6.06722169e-05,\n",
       "         6.06716239e-05, 6.06578396e-05, 6.06630201e-05, 6.06651447e-05,\n",
       "         6.06632966e-05, 6.06615104e-05, 6.06563444e-05, 6.06686626e-05,\n",
       "         6.06493995e-05, 6.06679350e-05, 6.06759895e-05, 6.06639551e-05,\n",
       "         6.06648646e-05, 6.06593203e-05, 6.06592585e-05, 6.06659487e-05,\n",
       "         6.06613430e-05, 6.06620015e-05, 6.06648136e-05, 6.06635076e-05,\n",
       "         6.06643734e-05, 6.06637550e-05, 6.06721187e-05, 6.06677349e-05,\n",
       "         6.06783651e-05, 6.06618887e-05, 6.06636750e-05, 6.06628382e-05,\n",
       "         6.06712747e-05, 6.06531758e-05, 6.06576577e-05, 6.06678841e-05,\n",
       "         6.06632966e-05, 6.06673821e-05, 6.06636313e-05, 6.06485046e-05,\n",
       "         6.06567992e-05, 6.06577851e-05, 6.06560825e-05, 6.06606736e-05,\n",
       "         6.06509202e-05, 6.06488393e-05, 6.06702488e-05, 6.06464928e-05,\n",
       "         6.06637732e-05, 6.06469439e-05, 6.06608191e-05, 6.06637695e-05,\n",
       "         6.06570866e-05, 6.06650356e-05, 6.06627582e-05, 6.06389258e-05,\n",
       "         6.06641952e-05, 6.06458925e-05, 6.06504909e-05, 6.06479334e-05,\n",
       "         6.06485664e-05, 6.06495087e-05, 6.06566682e-05, 6.06525973e-05,\n",
       "         6.06426911e-05, 6.06458743e-05, 6.06436697e-05, 6.06543108e-05,\n",
       "         6.06559224e-05, 6.06381509e-05, 6.06613576e-05, 6.06522117e-05,\n",
       "         6.06535432e-05, 6.06399735e-05, 6.06397589e-05, 6.06555077e-05,\n",
       "         6.06516842e-05, 6.06391150e-05, 6.06440444e-05, 6.06510039e-05,\n",
       "         6.06470676e-05, 6.06601971e-05, 6.06498616e-05, 6.06438807e-05,\n",
       "         6.06619760e-05, 6.06466238e-05, 6.06593130e-05, 6.06579379e-05,\n",
       "         6.06514877e-05, 6.06694812e-05, 6.06495087e-05, 6.06654430e-05,\n",
       "         6.06567046e-05, 6.06507638e-05, 6.06548783e-05, 6.06672256e-05,\n",
       "         6.06571230e-05, 6.06492977e-05, 6.06515605e-05, 6.06458452e-05,\n",
       "         6.06525973e-05, 6.06471694e-05, 6.06591129e-05, 6.06591348e-05,\n",
       "         6.06632238e-05, 6.06567992e-05, 6.06583890e-05, 6.06535432e-05,\n",
       "         6.06689027e-05, 6.06711874e-05, 6.06614667e-05, 6.06658541e-05,\n",
       "         6.06697249e-05, 6.06581707e-05, 6.06610156e-05, 6.06593894e-05,\n",
       "         6.06642134e-05, 6.06560279e-05, 6.06569811e-05, 6.06633039e-05,\n",
       "         6.06575850e-05, 6.06530775e-05, 6.06710237e-05, 6.06593603e-05,\n",
       "         6.06586764e-05, 6.06635695e-05, 6.06661088e-05, 6.06600224e-05,\n",
       "         6.06431531e-05, 6.06500726e-05, 6.06501708e-05, 6.06685426e-05,\n",
       "         6.06487811e-05, 6.06603135e-05, 6.06534813e-05, 6.06585018e-05,\n",
       "         6.06746144e-05, 6.06426693e-05, 6.06517497e-05, 6.06485592e-05,\n",
       "         6.06620160e-05, 6.06544854e-05, 6.06645190e-05, 6.06630274e-05,\n",
       "         6.06580870e-05, 6.06722278e-05, 6.06673420e-05, 6.06662979e-05,\n",
       "         6.06632093e-05, 6.06723188e-05, 6.06741778e-05, 6.06582144e-05,\n",
       "         6.06661852e-05, 6.06709618e-05, 6.06508547e-05, 6.06651593e-05,\n",
       "         6.06533285e-05, 6.06633985e-05, 6.06825379e-05, 6.06591020e-05,\n",
       "         6.06695321e-05, 6.06700196e-05, 6.06684189e-05, 6.06512367e-05,\n",
       "         6.06684807e-05, 6.06728245e-05, 6.06619396e-05, 6.06598442e-05,\n",
       "         6.06647081e-05, 6.06714348e-05, 6.06727335e-05, 6.06517497e-05,\n",
       "         6.06730864e-05, 6.06377434e-05, 6.06570175e-05, 6.06657013e-05,\n",
       "         6.06422327e-05, 6.06524882e-05, 6.06512331e-05, 6.06471185e-05,\n",
       "         6.06524700e-05, 6.06632821e-05, 6.06576468e-05, 6.06577451e-05,\n",
       "         6.06564681e-05, 6.06673311e-05, 6.06551803e-05, 6.06554968e-05,\n",
       "         6.06521644e-05, 6.06621070e-05, 6.06680587e-05, 6.06623325e-05,\n",
       "         6.06659669e-05, 6.06666254e-05, 6.06728499e-05, 6.06672038e-05,\n",
       "         6.06742469e-05, 6.06714239e-05, 6.06675421e-05, 6.06568974e-05,\n",
       "         6.06665817e-05, 6.06771246e-05, 6.06633002e-05, 6.06700560e-05,\n",
       "         6.06635258e-05, 6.06811227e-05, 6.06660033e-05, 6.06694302e-05,\n",
       "         6.06767717e-05, 6.06710018e-05, 6.06440335e-05, 6.06644753e-05,\n",
       "         6.06567264e-05, 6.06519134e-05, 6.06707727e-05]),\n",
       "  'depth': 0.00039251557646307375,\n",
       "  'depth_err': 1.2924832402776846e-05,\n",
       "  'snr': 30.369103771027888,\n",
       "  'cdpp': 1.8608838910892832e-05,\n",
       "  'Ntrans': 1,\n",
       "  'snr_r': 21.092964388729897,\n",
       "  'interpmodel': <scipy.interpolate.interpolate.interp1d at 0x1a03ee7d0>,\n",
       "  'init_tdur': 0.71695659,\n",
       "  'flag': 'planet',\n",
       "  'sin_fun': -1317.4948858225073,\n",
       "  'sin_bic': -2609.6139025688453,\n",
       "  'sin_llk': 1317.4948858225073,\n",
       "  'sin_llk_ratio': -110.41054663125874,\n",
       "  'sin_DeltaBIC': -107.41054663125874,\n",
       "  'step_fun': -1246.7548783223742,\n",
       "  'step_bic': -2457.983539938112,\n",
       "  'step_llk': 1246.7548783223742,\n",
       "  'step_llk_ratio': -181.1505541313918,\n",
       "  'step_DeltaBIC': -180.1505541313918,\n",
       "  'poly_fun': -971.3882094723971,\n",
       "  'poly_bic': -1932.6260713143265,\n",
       "  'poly_llk': 971.3882094723971,\n",
       "  'poly_llk_ratio': -456.51722298136895,\n",
       "  'poly_DeltaBIC': -450.51722298136895,\n",
       "  'trans_llk': 1427.905432453766,\n",
       "  'asteroid_DeltaBIC': 13.115758971699506,\n",
       "  'centroid_DeltaBIC': 10.910044299293077,\n",
       "  'instrumental_snr_ratio': nan},)"
      ]
     },
     "execution_count": 32,
     "metadata": {},
     "output_type": "execute_result"
    }
   ],
   "source": [
    "{var:cand[var] for var in floatvars},"
   ]
  },
  {
   "cell_type": "code",
   "execution_count": null,
   "metadata": {},
   "outputs": [],
   "source": []
  },
  {
   "cell_type": "code",
   "execution_count": null,
   "metadata": {},
   "outputs": [],
   "source": []
  },
  {
   "cell_type": "code",
   "execution_count": 18,
   "metadata": {},
   "outputs": [],
   "source": [
    "x = cand['monofit_x']-cand['tcen']\n",
    "round_trans=(abs(x)<3*cand['tdur'])\n",
    "x=x[round_trans]\n",
    "y = cand['monofit_y'][round_trans]\n",
    "yerr = cand['monofit_yerr'][round_trans]\n",
    "y_trans = cand['monofit_ymodel'][round_trans]"
   ]
  },
  {
   "cell_type": "code",
   "execution_count": 20,
   "metadata": {},
   "outputs": [
    {
     "data": {
      "text/plain": [
       "[<matplotlib.lines.Line2D at 0x1a1ba1ed0>]"
      ]
     },
     "execution_count": 20,
     "metadata": {},
     "output_type": "execute_result"
    },
    {
     "data": {
      "image/png": "[encoded data removed]",
      "text/plain": [
       "<Figure size 432x288 with 1 Axes>"
      ]
     },
     "metadata": {
      "needs_background": "light"
     },
     "output_type": "display_data"
    }
   ],
   "source": [
    "import matplotlib.pyplot as plt\n",
    "%matplotlib inline\n",
    "plt.plot(x,y)\n",
    "plt.plot(x,y_trans)"
   ]
  },
  {
   "cell_type": "code",
   "execution_count": null,
   "metadata": {},
   "outputs": [],
   "source": []
  },
  {
   "cell_type": "code",
   "execution_count": null,
   "metadata": {},
   "outputs": [],
   "source": []
  },
  {
   "cell_type": "code",
   "execution_count": null,
   "metadata": {},
   "outputs": [],
   "source": []
  },
  {
   "cell_type": "code",
   "execution_count": null,
   "metadata": {},
   "outputs": [],
   "source": []
  },
  {
   "cell_type": "code",
   "execution_count": null,
   "metadata": {},
   "outputs": [],
   "source": []
  },
  {
   "cell_type": "code",
   "execution_count": null,
   "metadata": {},
   "outputs": [],
   "source": []
  },
  {
   "cell_type": "code",
   "execution_count": null,
   "metadata": {},
   "outputs": [],
   "source": []
  },
  {
   "cell_type": "code",
   "execution_count": null,
   "metadata": {},
   "outputs": [],
   "source": []
  }
 ],
 "metadata": {
  "kernelspec": {
   "display_name": "Python 3",
   "language": "python",
   "name": "python3"
  },
  "language_info": {
   "codemirror_mode": {
    "name": "ipython",
    "version": 3
   },
   "file_extension": ".py",
   "mimetype": "text/x-python",
   "name": "python",
   "nbconvert_exporter": "python",
   "pygments_lexer": "ipython3",
   "version": "3.7.6"
  }
 },
 "nbformat": 4,
 "nbformat_minor": 4
}
